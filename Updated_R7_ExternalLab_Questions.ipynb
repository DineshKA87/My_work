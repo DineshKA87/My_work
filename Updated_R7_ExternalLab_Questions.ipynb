{
  "nbformat": 4,
  "nbformat_minor": 0,
  "metadata": {
    "colab": {
      "name": "Updated_R7_ExternalLab_Questions.ipynb",
      "version": "0.3.2",
      "provenance": [],
      "collapsed_sections": []
    },
    "kernelspec": {
      "name": "python3",
      "display_name": "Python 3"
    },
    "accelerator": "GPU"
  },
  "cells": [
    {
      "cell_type": "markdown",
      "metadata": {
        "id": "4WH1Pr4KQlCh",
        "colab_type": "text"
      },
      "source": [
        "### Build a DNN using Keras with `RELU` and `ADAM`"
      ]
    },
    {
      "cell_type": "markdown",
      "metadata": {
        "slideshow": {
          "slide_type": "slide"
        },
        "id": "TbvI8LqlQlCl",
        "colab_type": "text"
      },
      "source": [
        "#### Load tensorflow"
      ]
    },
    {
      "cell_type": "code",
      "metadata": {
        "id": "SPW-a-qYQlCp",
        "colab_type": "code",
        "colab": {
          "base_uri": "https://localhost:8080/",
          "height": 35
        },
        "outputId": "e70d34c1-7bee-41cb-aebe-f044bec53963"
      },
      "source": [
        "from __future__ import absolute_import, division, print_function\n",
        "import numpy as np\n",
        "import keras\n",
        "from keras.datasets import cifar10, mnist\n",
        "from keras.models import Sequential\n",
        "from keras.layers import Dense, Activation, Dropout, Flatten, Reshape\n",
        "from keras.layers import Convolution2D, MaxPooling2D\n",
        "from keras.utils import np_utils\n",
        "import pickle\n",
        "from matplotlib import pyplot as plt\n",
        "import seaborn as sns\n",
        "plt.rcParams['figure.figsize'] = (15, 8)\n",
        "from IPython.core.interactiveshell import InteractiveShell\n",
        "InteractiveShell.ast_node_interactivity = \"all\""
      ],
      "execution_count": 1,
      "outputs": [
        {
          "output_type": "stream",
          "text": [
            "Using TensorFlow backend.\n"
          ],
          "name": "stderr"
        }
      ]
    },
    {
      "cell_type": "markdown",
      "metadata": {
        "slideshow": {
          "slide_type": "slide"
        },
        "id": "74cQBsi5QlCw",
        "colab_type": "text"
      },
      "source": [
        "#### Collect Fashion mnist data from tf.keras.datasets "
      ]
    },
    {
      "cell_type": "code",
      "metadata": {
        "id": "wVWy0oDTr2Kj",
        "colab_type": "code",
        "colab": {
          "base_uri": "https://localhost:8080/",
          "height": 165
        },
        "outputId": "b0265031-b119-4ed0-9291-9fd25c949350"
      },
      "source": [
        "from keras.datasets import fashion_mnist\n",
        "(x_train, y_train), (x_test, y_test) = fashion_mnist.load_data()"
      ],
      "execution_count": 2,
      "outputs": [
        {
          "output_type": "stream",
          "text": [
            "Downloading data from http://fashion-mnist.s3-website.eu-central-1.amazonaws.com/train-labels-idx1-ubyte.gz\n",
            "32768/29515 [=================================] - 0s 3us/step\n",
            "Downloading data from http://fashion-mnist.s3-website.eu-central-1.amazonaws.com/train-images-idx3-ubyte.gz\n",
            "26427392/26421880 [==============================] - 2s 0us/step\n",
            "Downloading data from http://fashion-mnist.s3-website.eu-central-1.amazonaws.com/t10k-labels-idx1-ubyte.gz\n",
            "8192/5148 [===============================================] - 0s 0us/step\n",
            "Downloading data from http://fashion-mnist.s3-website.eu-central-1.amazonaws.com/t10k-images-idx3-ubyte.gz\n",
            "4423680/4422102 [==============================] - 1s 0us/step\n"
          ],
          "name": "stdout"
        }
      ]
    },
    {
      "cell_type": "markdown",
      "metadata": {
        "slideshow": {
          "slide_type": "slide"
        },
        "id": "no7aWYZyQlC1",
        "colab_type": "text"
      },
      "source": [
        "#### Change train and test labels into one-hot vectors"
      ]
    },
    {
      "cell_type": "code",
      "metadata": {
        "id": "UX6otc4wQlC2",
        "colab_type": "code",
        "colab": {}
      },
      "source": [
        "y_train = np_utils.to_categorical(y_train, 10)\n",
        "y_test = np_utils.to_categorical(y_test, 10)"
      ],
      "execution_count": 0,
      "outputs": []
    },
    {
      "cell_type": "markdown",
      "metadata": {
        "slideshow": {
          "slide_type": "slide"
        },
        "id": "QjNrRTdoQlC5",
        "colab_type": "text"
      },
      "source": [
        "#### Build the Graph"
      ]
    },
    {
      "cell_type": "markdown",
      "metadata": {
        "id": "CDJ9DHVNQlC7",
        "colab_type": "text"
      },
      "source": [
        "#### Initialize model, reshape & normalize data"
      ]
    },
    {
      "cell_type": "code",
      "metadata": {
        "id": "pCDQs_g1QlC8",
        "colab_type": "code",
        "colab": {}
      },
      "source": [
        "x_train = x_train / 255.0\n",
        "x_test = x_test / 255.0"
      ],
      "execution_count": 0,
      "outputs": []
    },
    {
      "cell_type": "code",
      "metadata": {
        "id": "dT9yjiyzePLR",
        "colab_type": "code",
        "colab": {}
      },
      "source": [
        "x_train = x_train.reshape(x_train.shape[0], 28, 28, 1).astype('float32')\n",
        "x_test = x_test.reshape(x_test.shape[0], 28, 28, 1).astype('float32')"
      ],
      "execution_count": 0,
      "outputs": []
    },
    {
      "cell_type": "code",
      "metadata": {
        "id": "7Wyp2bSgoTFX",
        "colab_type": "code",
        "colab": {
          "base_uri": "https://localhost:8080/",
          "height": 35
        },
        "outputId": "ba5b2670-3d53-42af-80ff-9513c7074d6c"
      },
      "source": [
        "print(\"Model 1. Tried with  Adding 2 fully connected layers with CNN\")"
      ],
      "execution_count": 17,
      "outputs": [
        {
          "output_type": "stream",
          "text": [
            "Assumption1 Adding 2 fully connected layers with CNN\n"
          ],
          "name": "stdout"
        }
      ]
    },
    {
      "cell_type": "code",
      "metadata": {
        "id": "gFjnFLqjpDK4",
        "colab_type": "code",
        "colab": {
          "base_uri": "https://localhost:8080/",
          "height": 35
        },
        "outputId": "355ba2a6-a942-400b-f8a3-9b050bea5e76"
      },
      "source": [
        "print(\"Model 2. Tried with 2 fully connected layers as DNN alone\")"
      ],
      "execution_count": 20,
      "outputs": [
        {
          "output_type": "stream",
          "text": [
            "Model 2. Tried with 2 fully connected layers as DNN alone\n"
          ],
          "name": "stdout"
        }
      ]
    },
    {
      "cell_type": "code",
      "metadata": {
        "id": "qsF9ZI5apR1Z",
        "colab_type": "code",
        "colab": {
          "base_uri": "https://localhost:8080/",
          "height": 35
        },
        "outputId": "f4895752-e4bb-45db-b23b-bb68e7c00ded"
      },
      "source": [
        "print(\"Model 1\")"
      ],
      "execution_count": 21,
      "outputs": [
        {
          "output_type": "stream",
          "text": [
            "Model 1\n"
          ],
          "name": "stdout"
        }
      ]
    },
    {
      "cell_type": "markdown",
      "metadata": {
        "slideshow": {
          "slide_type": "slide"
        },
        "id": "kBGwTTilQlDD",
        "colab_type": "text"
      },
      "source": [
        "#### Add two fully connected layers with 200 and 100 neurons respectively with `relu` activations. Add a dropout layer with `p=0.25`"
      ]
    },
    {
      "cell_type": "code",
      "metadata": {
        "id": "IXbfpfOzQlDF",
        "colab_type": "code",
        "outputId": "1cfe781e-8a8a-4af1-cb6a-85b6e407750e",
        "colab": {
          "base_uri": "https://localhost:8080/",
          "height": 111
        }
      },
      "source": [
        "model = Sequential()\n",
        "\n",
        "    # 1st Conv Layer\n",
        "model.add(Convolution2D(32, 3, 3, input_shape=(28, 28, 1)))\n",
        "    # Dropout\n",
        "#model.add(Dropout(0.20))\n",
        "model.add(Activation('relu'))\n",
        "\n",
        "\n",
        "    # 2nd Conv Layer\n",
        "model.add(Convolution2D(32, 3, 3))\n",
        "    # Max Pooling\n",
        "model.add(MaxPooling2D(pool_size=(2,2)))\n",
        "    # Dropout\n",
        "model.add(Dropout(0.25))\n",
        "model.add(Activation('relu'))\n",
        "\n",
        "\n",
        "#fully connected 1 \n",
        "model.add(Flatten())\n",
        "model.add(Dense(200))\n",
        "    # Dropout\n",
        "model.add(Dropout(0.25))\n",
        "model.add(Activation('relu'))\n",
        "\n",
        "\n",
        "#fully connected 2\n",
        "model.add(Dense(100))\n",
        "model.add(Activation('relu'))\n",
        "model.add(Dropout(0.25))\n",
        "\n",
        "    # Prediction Layer\n",
        "model.add(Dense(10))\n",
        "model.add(Activation('softmax'))\n",
        "\n",
        " # Loss and Optimizer\n",
        "#model.compile(loss='categorical_crossentropy', optimizer='adam', metrics=['accuracy'])\n",
        "\n",
        "    # Store Training Results\n",
        "early_stopping = keras.callbacks.EarlyStopping(monitor='val_acc', patience=5, verbose=1, mode='auto')\n",
        "callback_list = [early_stopping]# [stats, early_stopping]\n",
        "\n",
        "BATCH_SIZE = 32\n",
        "EPOCHS = 30\n",
        "\n",
        "    # Train the model\n",
        "#model.fit(x_train, y_train, nb_epoch=EPOCHS, batch_size=BATCH_SIZE, validation_split=0.30, callbacks=callback_list, verbose=True)"
      ],
      "execution_count": 12,
      "outputs": [
        {
          "output_type": "stream",
          "text": [
            "/usr/local/lib/python3.6/dist-packages/ipykernel_launcher.py:4: UserWarning: Update your `Conv2D` call to the Keras 2 API: `Conv2D(32, (3, 3), input_shape=(28, 28, 1...)`\n",
            "  after removing the cwd from sys.path.\n",
            "/usr/local/lib/python3.6/dist-packages/ipykernel_launcher.py:11: UserWarning: Update your `Conv2D` call to the Keras 2 API: `Conv2D(32, (3, 3))`\n",
            "  # This is added back by InteractiveShellApp.init_path()\n"
          ],
          "name": "stderr"
        }
      ]
    },
    {
      "cell_type": "code",
      "metadata": {
        "id": "lFiFkJoAgZcg",
        "colab_type": "code",
        "colab": {}
      },
      "source": [
        "from keras.preprocessing.image import ImageDataGenerator\n",
        "\n",
        "# This will do preprocessing and realtime data augmentation:\n",
        "datagen = ImageDataGenerator(\n",
        "    featurewise_center=False,  # set input mean to 0 over the dataset\n",
        "    samplewise_center=False,  # set each sample mean to 0\n",
        "    featurewise_std_normalization=False,  # divide inputs by std of the dataset\n",
        "    samplewise_std_normalization=False,  # divide each input by its std\n",
        "    zca_whitening=False,  # apply ZCA whitening\n",
        "    rotation_range=50,  # randomly rotate images in the range (degrees, 0 to 180)\n",
        "    width_shift_range=0.1,  # randomly shift images horizontally (fraction of total width)\n",
        "    height_shift_range=0.1,  # randomly shift images vertically (fraction of total height)\n",
        "    horizontal_flip=False,  # randomly flip images\n",
        "    vertical_flip=False)  # randomly flip images\n",
        "\n",
        "# Prepare the generator\n",
        "datagen.fit(x_train)"
      ],
      "execution_count": 0,
      "outputs": []
    },
    {
      "cell_type": "code",
      "metadata": {
        "id": "h0mYiq46hO5G",
        "colab_type": "code",
        "colab": {
          "base_uri": "https://localhost:8080/",
          "height": 1238
        },
        "outputId": "b669e3f8-d86c-4b35-9d0b-742e14e96761"
      },
      "source": [
        "\n",
        "\n",
        "model.compile(loss='categorical_crossentropy', optimizer='adam', metrics=['accuracy'])\n",
        "model.fit_generator(datagen.flow(x_train, y_train,batch_size=BATCH_SIZE),samples_per_epoch=x_train.shape[0],nb_epoch=EPOCHS,validation_data=(x_test, y_test), callbacks=callback_list)"
      ],
      "execution_count": 14,
      "outputs": [
        {
          "output_type": "stream",
          "text": [
            "/usr/local/lib/python3.6/dist-packages/ipykernel_launcher.py:4: UserWarning: The semantics of the Keras 2 argument `steps_per_epoch` is not the same as the Keras 1 argument `samples_per_epoch`. `steps_per_epoch` is the number of batches to draw from the generator at each epoch. Basically steps_per_epoch = samples_per_epoch/batch_size. Similarly `nb_val_samples`->`validation_steps` and `val_samples`->`steps` arguments have changed. Update your method calls accordingly.\n",
            "  after removing the cwd from sys.path.\n",
            "/usr/local/lib/python3.6/dist-packages/ipykernel_launcher.py:4: UserWarning: Update your `fit_generator` call to the Keras 2 API: `fit_generator(<keras_pre..., validation_data=(array([[[..., callbacks=[<keras.ca..., steps_per_epoch=1875, epochs=30)`\n",
            "  after removing the cwd from sys.path.\n"
          ],
          "name": "stderr"
        },
        {
          "output_type": "stream",
          "text": [
            "Epoch 1/30\n",
            "1875/1875 [==============================] - 21s 11ms/step - loss: 0.8907 - acc: 0.6654 - val_loss: 0.6099 - val_acc: 0.7697\n",
            "Epoch 2/30\n",
            "1875/1875 [==============================] - 20s 11ms/step - loss: 0.6553 - acc: 0.7531 - val_loss: 0.5460 - val_acc: 0.7847\n",
            "Epoch 3/30\n",
            "1875/1875 [==============================] - 21s 11ms/step - loss: 0.5894 - acc: 0.7779 - val_loss: 0.5042 - val_acc: 0.8025\n",
            "Epoch 4/30\n",
            "1875/1875 [==============================] - 20s 11ms/step - loss: 0.5490 - acc: 0.7939 - val_loss: 0.4478 - val_acc: 0.8328\n",
            "Epoch 5/30\n",
            "1875/1875 [==============================] - 20s 11ms/step - loss: 0.5244 - acc: 0.8060 - val_loss: 0.4552 - val_acc: 0.8318\n",
            "Epoch 6/30\n",
            "1875/1875 [==============================] - 20s 11ms/step - loss: 0.5064 - acc: 0.8124 - val_loss: 0.4381 - val_acc: 0.8330\n",
            "Epoch 7/30\n",
            "1875/1875 [==============================] - 21s 11ms/step - loss: 0.4911 - acc: 0.8186 - val_loss: 0.4016 - val_acc: 0.8511\n",
            "Epoch 8/30\n",
            "1875/1875 [==============================] - 20s 10ms/step - loss: 0.4778 - acc: 0.8241 - val_loss: 0.3920 - val_acc: 0.8602\n",
            "Epoch 9/30\n",
            "1875/1875 [==============================] - 20s 10ms/step - loss: 0.4659 - acc: 0.8270 - val_loss: 0.4195 - val_acc: 0.8555\n",
            "Epoch 10/30\n",
            "1875/1875 [==============================] - 20s 11ms/step - loss: 0.4592 - acc: 0.8302 - val_loss: 0.3888 - val_acc: 0.8604\n",
            "Epoch 11/30\n",
            "1875/1875 [==============================] - 21s 11ms/step - loss: 0.4529 - acc: 0.8322 - val_loss: 0.3611 - val_acc: 0.8666\n",
            "Epoch 12/30\n",
            "1875/1875 [==============================] - 20s 10ms/step - loss: 0.4476 - acc: 0.8368 - val_loss: 0.3633 - val_acc: 0.8631\n",
            "Epoch 13/30\n",
            "1875/1875 [==============================] - 20s 10ms/step - loss: 0.4398 - acc: 0.8397 - val_loss: 0.3694 - val_acc: 0.8707\n",
            "Epoch 14/30\n",
            "1875/1875 [==============================] - 20s 11ms/step - loss: 0.4368 - acc: 0.8376 - val_loss: 0.3616 - val_acc: 0.8690\n",
            "Epoch 15/30\n",
            "1875/1875 [==============================] - 21s 11ms/step - loss: 0.4378 - acc: 0.8401 - val_loss: 0.3590 - val_acc: 0.8689\n",
            "Epoch 16/30\n",
            "1875/1875 [==============================] - 21s 11ms/step - loss: 0.4296 - acc: 0.8427 - val_loss: 0.3874 - val_acc: 0.8592\n",
            "Epoch 17/30\n",
            "1875/1875 [==============================] - 20s 10ms/step - loss: 0.4233 - acc: 0.8465 - val_loss: 0.3556 - val_acc: 0.8721\n",
            "Epoch 18/30\n",
            "1875/1875 [==============================] - 20s 11ms/step - loss: 0.4180 - acc: 0.8461 - val_loss: 0.3441 - val_acc: 0.8759\n",
            "Epoch 19/30\n",
            "1875/1875 [==============================] - 21s 11ms/step - loss: 0.4179 - acc: 0.8476 - val_loss: 0.3469 - val_acc: 0.8761\n",
            "Epoch 20/30\n",
            "1875/1875 [==============================] - 20s 11ms/step - loss: 0.4129 - acc: 0.8498 - val_loss: 0.3581 - val_acc: 0.8762\n",
            "Epoch 21/30\n",
            "1875/1875 [==============================] - 20s 10ms/step - loss: 0.4109 - acc: 0.8484 - val_loss: 0.3496 - val_acc: 0.8759\n",
            "Epoch 22/30\n",
            "1875/1875 [==============================] - 20s 11ms/step - loss: 0.4114 - acc: 0.8509 - val_loss: 0.3462 - val_acc: 0.8779\n",
            "Epoch 23/30\n",
            "1875/1875 [==============================] - 21s 11ms/step - loss: 0.4021 - acc: 0.8513 - val_loss: 0.3785 - val_acc: 0.8631\n",
            "Epoch 24/30\n",
            "1875/1875 [==============================] - 20s 11ms/step - loss: 0.3998 - acc: 0.8543 - val_loss: 0.3397 - val_acc: 0.8787\n",
            "Epoch 25/30\n",
            "1875/1875 [==============================] - 20s 10ms/step - loss: 0.3998 - acc: 0.8550 - val_loss: 0.3377 - val_acc: 0.8796\n",
            "Epoch 26/30\n",
            "1875/1875 [==============================] - 20s 11ms/step - loss: 0.3960 - acc: 0.8559 - val_loss: 0.3402 - val_acc: 0.8769\n",
            "Epoch 27/30\n",
            "1875/1875 [==============================] - 21s 11ms/step - loss: 0.3995 - acc: 0.8553 - val_loss: 0.3599 - val_acc: 0.8711\n",
            "Epoch 28/30\n",
            "1875/1875 [==============================] - 20s 11ms/step - loss: 0.3944 - acc: 0.8571 - val_loss: 0.3754 - val_acc: 0.8642\n",
            "Epoch 29/30\n",
            "1875/1875 [==============================] - 20s 10ms/step - loss: 0.3902 - acc: 0.8582 - val_loss: 0.3492 - val_acc: 0.8772\n",
            "Epoch 30/30\n",
            "1875/1875 [==============================] - 20s 11ms/step - loss: 0.3868 - acc: 0.8599 - val_loss: 0.3219 - val_acc: 0.8873\n"
          ],
          "name": "stdout"
        },
        {
          "output_type": "execute_result",
          "data": {
            "text/plain": [
              "<keras.callbacks.History at 0x7fb9a0fd2550>"
            ]
          },
          "metadata": {
            "tags": []
          },
          "execution_count": 14
        }
      ]
    },
    {
      "cell_type": "markdown",
      "metadata": {
        "id": "5I8f5otcQlDJ",
        "colab_type": "text"
      },
      "source": [
        "### Add the output layer with a fully connected layer with 10 neurons with `softmax` activation. Use `categorical_crossentropy` loss and `adam` optimizer and train the network. And, report the final validation."
      ]
    },
    {
      "cell_type": "code",
      "metadata": {
        "id": "JZkvKymSd0Sr",
        "colab_type": "code",
        "colab": {
          "base_uri": "https://localhost:8080/",
          "height": 35
        },
        "outputId": "41e920ce-99c6-41ef-d896-c5c38317b39e"
      },
      "source": [
        "print(\"Done in above step\")"
      ],
      "execution_count": 6,
      "outputs": [
        {
          "output_type": "stream",
          "text": [
            "Done in above step\n"
          ],
          "name": "stdout"
        }
      ]
    },
    {
      "cell_type": "code",
      "metadata": {
        "id": "AwCdJdiPf9Ru",
        "colab_type": "code",
        "colab": {
          "base_uri": "https://localhost:8080/",
          "height": 35
        },
        "outputId": "e44b1e7a-d6b5-4597-c84f-4709197b0b2b"
      },
      "source": [
        "print(\" Model 1 - Val_acc is 88.73\")"
      ],
      "execution_count": 22,
      "outputs": [
        {
          "output_type": "stream",
          "text": [
            " Model 1 - Val_acc is 88.73\n"
          ],
          "name": "stdout"
        }
      ]
    },
    {
      "cell_type": "code",
      "metadata": {
        "id": "XGvOoDfClNew",
        "colab_type": "code",
        "colab": {
          "base_uri": "https://localhost:8080/",
          "height": 35
        },
        "outputId": "3726f6e0-5010-4d94-cf36-71ea48e0f391"
      },
      "source": [
        "print(\"Model 2\")"
      ],
      "execution_count": 23,
      "outputs": [
        {
          "output_type": "stream",
          "text": [
            "Model 2\n"
          ],
          "name": "stdout"
        }
      ]
    },
    {
      "cell_type": "code",
      "metadata": {
        "id": "GtL2d2wAlOHF",
        "colab_type": "code",
        "colab": {
          "base_uri": "https://localhost:8080/",
          "height": 1181
        },
        "outputId": "e2d52343-0d1e-4592-b039-3cedc1f4b0ad"
      },
      "source": [
        "model1 = Sequential()\n",
        "\n",
        "\n",
        "#fully connected 1 \n",
        "model1.add(Flatten())\n",
        "model1.add(Dense(200))\n",
        "    # Dropout\n",
        "model1.add(Dropout(0.25))\n",
        "model1.add(Activation('relu'))\n",
        "\n",
        "\n",
        "#fully connected 2\n",
        "model1.add(Dense(100))\n",
        "model1.add(Activation('relu'))\n",
        "model1.add(Dropout(0.25))\n",
        "\n",
        "    # Prediction Layer\n",
        "model1.add(Dense(10))\n",
        "model1.add(Activation('softmax'))\n",
        "\n",
        " # Loss and Optimizer\n",
        "model1.compile(loss='categorical_crossentropy', optimizer='adam', metrics=['accuracy'])\n",
        "\n",
        "    # Store Training Results\n",
        "early_stopping = keras.callbacks.EarlyStopping(monitor='val_acc', patience=5, verbose=1, mode='auto')\n",
        "callback_list = [early_stopping]# [stats, early_stopping]\n",
        "\n",
        "BATCH_SIZE = 32\n",
        "EPOCHS = 30\n",
        "\n",
        "    # Train the model\n",
        "model1.fit(x_train, y_train, nb_epoch=EPOCHS, batch_size=BATCH_SIZE, validation_data=(x_test, y_test), callbacks=callback_list, verbose=True)"
      ],
      "execution_count": 15,
      "outputs": [
        {
          "output_type": "stream",
          "text": [
            "/usr/local/lib/python3.6/dist-packages/ipykernel_launcher.py:32: UserWarning: The `nb_epoch` argument in `fit` has been renamed `epochs`.\n"
          ],
          "name": "stderr"
        },
        {
          "output_type": "stream",
          "text": [
            "Train on 60000 samples, validate on 10000 samples\n",
            "Epoch 1/30\n",
            "60000/60000 [==============================] - 8s 127us/step - loss: 0.5698 - acc: 0.7969 - val_loss: 0.4176 - val_acc: 0.8474\n",
            "Epoch 2/30\n",
            "60000/60000 [==============================] - 7s 119us/step - loss: 0.4254 - acc: 0.8469 - val_loss: 0.3850 - val_acc: 0.8602\n",
            "Epoch 3/30\n",
            "60000/60000 [==============================] - 7s 121us/step - loss: 0.3935 - acc: 0.8562 - val_loss: 0.3819 - val_acc: 0.8651\n",
            "Epoch 4/30\n",
            "60000/60000 [==============================] - 7s 121us/step - loss: 0.3706 - acc: 0.8647 - val_loss: 0.3680 - val_acc: 0.8705\n",
            "Epoch 5/30\n",
            "60000/60000 [==============================] - 7s 120us/step - loss: 0.3547 - acc: 0.8698 - val_loss: 0.3603 - val_acc: 0.8709\n",
            "Epoch 6/30\n",
            "60000/60000 [==============================] - 8s 135us/step - loss: 0.3415 - acc: 0.8743 - val_loss: 0.3419 - val_acc: 0.8775\n",
            "Epoch 7/30\n",
            "60000/60000 [==============================] - 9s 145us/step - loss: 0.3311 - acc: 0.8777 - val_loss: 0.3486 - val_acc: 0.8752\n",
            "Epoch 8/30\n",
            "60000/60000 [==============================] - 7s 121us/step - loss: 0.3232 - acc: 0.8799 - val_loss: 0.3514 - val_acc: 0.8732\n",
            "Epoch 9/30\n",
            "60000/60000 [==============================] - 7s 122us/step - loss: 0.3168 - acc: 0.8834 - val_loss: 0.3413 - val_acc: 0.8776\n",
            "Epoch 10/30\n",
            "60000/60000 [==============================] - 7s 120us/step - loss: 0.3086 - acc: 0.8846 - val_loss: 0.3344 - val_acc: 0.8802\n",
            "Epoch 11/30\n",
            "60000/60000 [==============================] - 7s 120us/step - loss: 0.3017 - acc: 0.8882 - val_loss: 0.3432 - val_acc: 0.8752\n",
            "Epoch 12/30\n",
            "60000/60000 [==============================] - 7s 121us/step - loss: 0.2947 - acc: 0.8900 - val_loss: 0.3303 - val_acc: 0.8813\n",
            "Epoch 13/30\n",
            "60000/60000 [==============================] - 8s 127us/step - loss: 0.2943 - acc: 0.8903 - val_loss: 0.3268 - val_acc: 0.8793\n",
            "Epoch 14/30\n",
            "60000/60000 [==============================] - 8s 127us/step - loss: 0.2859 - acc: 0.8946 - val_loss: 0.3414 - val_acc: 0.8779\n",
            "Epoch 15/30\n",
            "60000/60000 [==============================] - 7s 120us/step - loss: 0.2832 - acc: 0.8948 - val_loss: 0.3257 - val_acc: 0.8822\n",
            "Epoch 16/30\n",
            "60000/60000 [==============================] - 7s 121us/step - loss: 0.2772 - acc: 0.8958 - val_loss: 0.3188 - val_acc: 0.8868\n",
            "Epoch 17/30\n",
            "60000/60000 [==============================] - 8s 138us/step - loss: 0.2750 - acc: 0.8970 - val_loss: 0.3297 - val_acc: 0.8828\n",
            "Epoch 18/30\n",
            "60000/60000 [==============================] - 7s 123us/step - loss: 0.2723 - acc: 0.8994 - val_loss: 0.3150 - val_acc: 0.8868\n",
            "Epoch 19/30\n",
            "60000/60000 [==============================] - 7s 120us/step - loss: 0.2664 - acc: 0.9007 - val_loss: 0.3173 - val_acc: 0.8871\n",
            "Epoch 20/30\n",
            "60000/60000 [==============================] - 7s 121us/step - loss: 0.2673 - acc: 0.9000 - val_loss: 0.3212 - val_acc: 0.8863\n",
            "Epoch 21/30\n",
            "60000/60000 [==============================] - 7s 120us/step - loss: 0.2626 - acc: 0.9024 - val_loss: 0.3191 - val_acc: 0.8855\n",
            "Epoch 22/30\n",
            "60000/60000 [==============================] - 7s 120us/step - loss: 0.2611 - acc: 0.9024 - val_loss: 0.3287 - val_acc: 0.8845\n",
            "Epoch 23/30\n",
            "60000/60000 [==============================] - 7s 120us/step - loss: 0.2556 - acc: 0.9027 - val_loss: 0.3308 - val_acc: 0.8840\n",
            "Epoch 24/30\n",
            "60000/60000 [==============================] - 7s 120us/step - loss: 0.2528 - acc: 0.9057 - val_loss: 0.3195 - val_acc: 0.8888\n",
            "Epoch 25/30\n",
            "60000/60000 [==============================] - 7s 120us/step - loss: 0.2512 - acc: 0.9057 - val_loss: 0.3152 - val_acc: 0.8877\n",
            "Epoch 26/30\n",
            "60000/60000 [==============================] - 7s 120us/step - loss: 0.2489 - acc: 0.9069 - val_loss: 0.3231 - val_acc: 0.8837\n",
            "Epoch 27/30\n",
            "60000/60000 [==============================] - 7s 121us/step - loss: 0.2480 - acc: 0.9070 - val_loss: 0.3197 - val_acc: 0.8887\n",
            "Epoch 28/30\n",
            "60000/60000 [==============================] - 8s 138us/step - loss: 0.2450 - acc: 0.9087 - val_loss: 0.3147 - val_acc: 0.8917\n",
            "Epoch 29/30\n",
            "60000/60000 [==============================] - 7s 122us/step - loss: 0.2385 - acc: 0.9107 - val_loss: 0.3272 - val_acc: 0.8905\n",
            "Epoch 30/30\n",
            "60000/60000 [==============================] - 7s 119us/step - loss: 0.2394 - acc: 0.9106 - val_loss: 0.3491 - val_acc: 0.8847\n"
          ],
          "name": "stdout"
        },
        {
          "output_type": "execute_result",
          "data": {
            "text/plain": [
              "<keras.callbacks.History at 0x7fb990ec1668>"
            ]
          },
          "metadata": {
            "tags": []
          },
          "execution_count": 15
        }
      ]
    },
    {
      "cell_type": "code",
      "metadata": {
        "id": "ElXuQv9imA3l",
        "colab_type": "code",
        "colab": {
          "base_uri": "https://localhost:8080/",
          "height": 35
        },
        "outputId": "0fddc196-b355-4ca6-aadf-a9a7360cff35"
      },
      "source": [
        "print(\"Validation accuracy of DNN Model 2- 88.47%\")"
      ],
      "execution_count": 19,
      "outputs": [
        {
          "output_type": "stream",
          "text": [
            "Validation accuracy of DNN - 88.47%\n"
          ],
          "name": "stdout"
        }
      ]
    },
    {
      "cell_type": "code",
      "metadata": {
        "id": "yeNMcFHim_at",
        "colab_type": "code",
        "colab": {}
      },
      "source": [
        ""
      ],
      "execution_count": 0,
      "outputs": []
    }
  ]
}