{
  "nbformat": 4,
  "nbformat_minor": 0,
  "metadata": {
    "accelerator": "GPU",
    "colab": {
      "name": "SeqNLP_Project1_Questions.ipynb",
      "version": "0.3.2",
      "provenance": [],
      "collapsed_sections": []
    },
    "kernelspec": {
      "display_name": "Python 3",
      "language": "python",
      "name": "python3"
    },
    "language_info": {
      "codemirror_mode": {
        "name": "ipython",
        "version": 3
      },
      "file_extension": ".py",
      "mimetype": "text/x-python",
      "name": "python",
      "nbconvert_exporter": "python",
      "pygments_lexer": "ipython3",
      "version": "3.6.7"
    }
  },
  "cells": [
    {
      "cell_type": "markdown",
      "metadata": {
        "colab_type": "text",
        "id": "xT7MKZuMRaCg"
      },
      "source": [
        "# Sentiment Classification\n",
        "\n",
        "\n",
        "### Generate Word Embeddings and retrieve outputs of each layer with Keras based on Classification task\n",
        "\n",
        "Word embeddings are a type of word representation that allows words with similar meaning to have a similar representation.\n",
        "\n",
        "It is a distributed representation for text that is perhaps one of the key breakthroughs for the impressive performance of deep learning methods on challenging natural language processing problems.\n",
        "\n",
        "We willl use the imdb dataset to learn word embeddings as we train our dataset. This dataset contains 25,000 movie reviews from IMDB, labeled with sentiment (positive or negative). \n",
        "\n",
        "\n",
        "\n",
        "### Dataset\n",
        "\n",
        "`from keras.datasets import imdb`\n",
        "\n",
        "Dataset of 25,000 movies reviews from IMDB, labeled by sentiment (positive/negative). Reviews have been preprocessed, and each review is encoded as a sequence of word indexes (integers). For convenience, the words are indexed by their frequency in the dataset, meaning the for that has index 1 is the most frequent word. Use the first 20 words from each review to speed up training, using a max vocab size of 10,000.\n",
        "\n",
        "As a convention, \"0\" does not stand for a specific word, but instead is used to encode any unknown word.\n",
        "\n",
        "\n",
        "### Aim\n",
        "\n",
        "1. Import test and train data  \n",
        "2. Import the labels ( train and test) \n",
        "3. Get the word index and then Create key value pair for word and word_id. (12.5 points)\n",
        "4. Build a Sequential Model using Keras for Sentiment Classification task. (10 points)\n",
        "5. Report the Accuracy of the model. (5 points)  \n",
        "6. Retrive the output of each layer in keras for a given single test sample from the trained model you built. (2.5 points)\n"
      ]
    },
    {
      "cell_type": "markdown",
      "metadata": {
        "colab_type": "text",
        "id": "Wq4RCyyPSYRp"
      },
      "source": [
        "#### Usage:"
      ]
    },
    {
      "cell_type": "code",
      "metadata": {
        "colab_type": "code",
        "id": "NGCtiXUhSWss",
        "outputId": "b3e9422b-5c3a-4a06-d002-c52a0786285b",
        "colab": {
          "base_uri": "https://localhost:8080/",
          "height": 72
        }
      },
      "source": [
        "from keras.datasets import imdb\n",
        "import numpy as np\n",
        "\n",
        "np_load_old = np.load\n",
        "\n",
        "np.load = lambda *a, **k: np_load_old(*a, allow_pickle=True, **k)\n",
        "vocab_size = 10000 #vocab size\n",
        "\n",
        "(x_train, y_train), (x_test, y_test) = imdb.load_data(num_words=vocab_size) # vocab_size is no.of words to consider from the dataset, ordering based on frequency."
      ],
      "execution_count": 1,
      "outputs": [
        {
          "output_type": "stream",
          "text": [
            "Using TensorFlow backend.\n"
          ],
          "name": "stderr"
        },
        {
          "output_type": "stream",
          "text": [
            "Downloading data from https://s3.amazonaws.com/text-datasets/imdb.npz\n",
            "17465344/17464789 [==============================] - 2s 0us/step\n"
          ],
          "name": "stdout"
        }
      ]
    },
    {
      "cell_type": "code",
      "metadata": {
        "id": "XUfWnzZHivi9",
        "colab_type": "code",
        "colab": {}
      },
      "source": [
        "import pandas as pd"
      ],
      "execution_count": 0,
      "outputs": []
    },
    {
      "cell_type": "code",
      "metadata": {
        "id": "VcxrteTYivjB",
        "colab_type": "code",
        "outputId": "55f74778-ea09-4c50-c473-60bb76a12871",
        "colab": {
          "base_uri": "https://localhost:8080/",
          "height": 35
        }
      },
      "source": [
        "len(x_train)"
      ],
      "execution_count": 3,
      "outputs": [
        {
          "output_type": "execute_result",
          "data": {
            "text/plain": [
              "25000"
            ]
          },
          "metadata": {
            "tags": []
          },
          "execution_count": 3
        }
      ]
    },
    {
      "cell_type": "code",
      "metadata": {
        "id": "Wv6_h1HAivjG",
        "colab_type": "code",
        "colab": {}
      },
      "source": [
        "from keras.preprocessing.sequence import pad_sequences\n",
        "vocab_size = 10000 #vocab size\n",
        "maxlen = 300  #number of word used from each review"
      ],
      "execution_count": 0,
      "outputs": []
    },
    {
      "cell_type": "code",
      "metadata": {
        "id": "y03HbNbLivjK",
        "colab_type": "code",
        "colab": {}
      },
      "source": [
        "#load dataset as a list of ints\n",
        "(x_train, y_train), (x_test, y_test) = imdb.load_data(num_words=vocab_size)\n",
        "#make all sequences of the same length\n",
        "x_train = pad_sequences(x_train, maxlen=maxlen,padding='post')\n",
        "x_test =  pad_sequences(x_test, maxlen=maxlen,padding='post')"
      ],
      "execution_count": 0,
      "outputs": []
    },
    {
      "cell_type": "code",
      "metadata": {
        "id": "5VZMYcDWivjO",
        "colab_type": "code",
        "colab": {}
      },
      "source": [
        "# Considering only first 20 words in each review to speed up training"
      ],
      "execution_count": 0,
      "outputs": []
    },
    {
      "cell_type": "code",
      "metadata": {
        "id": "Qe2Z60DyivjR",
        "colab_type": "code",
        "colab": {}
      },
      "source": [
        "x_train = x_train[:,0:20]"
      ],
      "execution_count": 0,
      "outputs": []
    },
    {
      "cell_type": "code",
      "metadata": {
        "id": "w-b-cMekivjV",
        "colab_type": "code",
        "colab": {}
      },
      "source": [
        "x_test = x_test[:,0:20]"
      ],
      "execution_count": 0,
      "outputs": []
    },
    {
      "cell_type": "code",
      "metadata": {
        "id": "OO5p8J2XkWFj",
        "colab_type": "code",
        "outputId": "81d491cb-c458-449d-8230-130a167c0ebd",
        "colab": {
          "base_uri": "https://localhost:8080/",
          "height": 145
        }
      },
      "source": [
        "x_train"
      ],
      "execution_count": 7,
      "outputs": [
        {
          "output_type": "execute_result",
          "data": {
            "text/plain": [
              "array([[   1,   14,   22, ...,    0,    0,    0],\n",
              "       [   1,  194, 1153, ...,    0,    0,    0],\n",
              "       [   1,   14,   47, ...,    0,    0,    0],\n",
              "       ...,\n",
              "       [   1,   11,    6, ...,    0,    0,    0],\n",
              "       [   1, 1446, 7079, ...,    0,    0,    0],\n",
              "       [   1,   17,    6, ...,    0,    0,    0]], dtype=int32)"
            ]
          },
          "metadata": {
            "tags": []
          },
          "execution_count": 7
        }
      ]
    },
    {
      "cell_type": "code",
      "metadata": {
        "id": "GMYx6dHWlDmv",
        "colab_type": "code",
        "outputId": "8b96f8d1-c6db-4989-b734-0dc40ad01a68",
        "colab": {
          "base_uri": "https://localhost:8080/",
          "height": 35
        }
      },
      "source": [
        "x_train.shape"
      ],
      "execution_count": 21,
      "outputs": [
        {
          "output_type": "execute_result",
          "data": {
            "text/plain": [
              "(25000, 20)"
            ]
          },
          "metadata": {
            "tags": []
          },
          "execution_count": 21
        }
      ]
    },
    {
      "cell_type": "markdown",
      "metadata": {
        "id": "Qzmc2g-oivja",
        "colab_type": "text"
      },
      "source": [
        "### Key and Value pair"
      ]
    },
    {
      "cell_type": "code",
      "metadata": {
        "id": "YFT3RsX0ivjb",
        "colab_type": "code",
        "colab": {}
      },
      "source": [
        "word_n_word_index_dict = imdb.get_word_index()"
      ],
      "execution_count": 0,
      "outputs": []
    },
    {
      "cell_type": "code",
      "metadata": {
        "id": "N3w3QVqekNd1",
        "colab_type": "code",
        "outputId": "9633f647-3dc5-4d83-d8d6-56f92a396d90",
        "colab": {
          "base_uri": "https://localhost:8080/",
          "height": 1000
        }
      },
      "source": [
        "word_n_word_index_dict"
      ],
      "execution_count": 10,
      "outputs": [
        {
          "output_type": "execute_result",
          "data": {
            "text/plain": [
              "{'fawn': 34701,\n",
              " 'tsukino': 52006,\n",
              " 'nunnery': 52007,\n",
              " 'sonja': 16816,\n",
              " 'vani': 63951,\n",
              " 'woods': 1408,\n",
              " 'spiders': 16115,\n",
              " 'hanging': 2345,\n",
              " 'woody': 2289,\n",
              " 'trawling': 52008,\n",
              " \"hold's\": 52009,\n",
              " 'comically': 11307,\n",
              " 'localized': 40830,\n",
              " 'disobeying': 30568,\n",
              " \"'royale\": 52010,\n",
              " \"harpo's\": 40831,\n",
              " 'canet': 52011,\n",
              " 'aileen': 19313,\n",
              " 'acurately': 52012,\n",
              " \"diplomat's\": 52013,\n",
              " 'rickman': 25242,\n",
              " 'arranged': 6746,\n",
              " 'rumbustious': 52014,\n",
              " 'familiarness': 52015,\n",
              " \"spider'\": 52016,\n",
              " 'hahahah': 68804,\n",
              " \"wood'\": 52017,\n",
              " 'transvestism': 40833,\n",
              " \"hangin'\": 34702,\n",
              " 'bringing': 2338,\n",
              " 'seamier': 40834,\n",
              " 'wooded': 34703,\n",
              " 'bravora': 52018,\n",
              " 'grueling': 16817,\n",
              " 'wooden': 1636,\n",
              " 'wednesday': 16818,\n",
              " \"'prix\": 52019,\n",
              " 'altagracia': 34704,\n",
              " 'circuitry': 52020,\n",
              " 'crotch': 11585,\n",
              " 'busybody': 57766,\n",
              " \"tart'n'tangy\": 52021,\n",
              " 'burgade': 14129,\n",
              " 'thrace': 52023,\n",
              " \"tom's\": 11038,\n",
              " 'snuggles': 52025,\n",
              " 'francesco': 29114,\n",
              " 'complainers': 52027,\n",
              " 'templarios': 52125,\n",
              " '272': 40835,\n",
              " '273': 52028,\n",
              " 'zaniacs': 52130,\n",
              " '275': 34706,\n",
              " 'consenting': 27631,\n",
              " 'snuggled': 40836,\n",
              " 'inanimate': 15492,\n",
              " 'uality': 52030,\n",
              " 'bronte': 11926,\n",
              " 'errors': 4010,\n",
              " 'dialogs': 3230,\n",
              " \"yomada's\": 52031,\n",
              " \"madman's\": 34707,\n",
              " 'dialoge': 30585,\n",
              " 'usenet': 52033,\n",
              " 'videodrome': 40837,\n",
              " \"kid'\": 26338,\n",
              " 'pawed': 52034,\n",
              " \"'girlfriend'\": 30569,\n",
              " \"'pleasure\": 52035,\n",
              " \"'reloaded'\": 52036,\n",
              " \"kazakos'\": 40839,\n",
              " 'rocque': 52037,\n",
              " 'mailings': 52038,\n",
              " 'brainwashed': 11927,\n",
              " 'mcanally': 16819,\n",
              " \"tom''\": 52039,\n",
              " 'kurupt': 25243,\n",
              " 'affiliated': 21905,\n",
              " 'babaganoosh': 52040,\n",
              " \"noe's\": 40840,\n",
              " 'quart': 40841,\n",
              " 'kids': 359,\n",
              " 'uplifting': 5034,\n",
              " 'controversy': 7093,\n",
              " 'kida': 21906,\n",
              " 'kidd': 23379,\n",
              " \"error'\": 52041,\n",
              " 'neurologist': 52042,\n",
              " 'spotty': 18510,\n",
              " 'cobblers': 30570,\n",
              " 'projection': 9878,\n",
              " 'fastforwarding': 40842,\n",
              " 'sters': 52043,\n",
              " \"eggar's\": 52044,\n",
              " 'etherything': 52045,\n",
              " 'gateshead': 40843,\n",
              " 'airball': 34708,\n",
              " 'unsinkable': 25244,\n",
              " 'stern': 7180,\n",
              " \"cervi's\": 52046,\n",
              " 'dnd': 40844,\n",
              " 'dna': 11586,\n",
              " 'insecurity': 20598,\n",
              " \"'reboot'\": 52047,\n",
              " 'trelkovsky': 11037,\n",
              " 'jaekel': 52048,\n",
              " 'sidebars': 52049,\n",
              " \"sforza's\": 52050,\n",
              " 'distortions': 17633,\n",
              " 'mutinies': 52051,\n",
              " 'sermons': 30602,\n",
              " '7ft': 40846,\n",
              " 'boobage': 52052,\n",
              " \"o'bannon's\": 52053,\n",
              " 'populations': 23380,\n",
              " 'chulak': 52054,\n",
              " 'mesmerize': 27633,\n",
              " 'quinnell': 52055,\n",
              " 'yahoo': 10307,\n",
              " 'meteorologist': 52057,\n",
              " 'beswick': 42577,\n",
              " 'boorman': 15493,\n",
              " 'voicework': 40847,\n",
              " \"ster'\": 52058,\n",
              " 'blustering': 22922,\n",
              " 'hj': 52059,\n",
              " 'intake': 27634,\n",
              " 'morally': 5621,\n",
              " 'jumbling': 40849,\n",
              " 'bowersock': 52060,\n",
              " \"'porky's'\": 52061,\n",
              " 'gershon': 16821,\n",
              " 'ludicrosity': 40850,\n",
              " 'coprophilia': 52062,\n",
              " 'expressively': 40851,\n",
              " \"india's\": 19500,\n",
              " \"post's\": 34710,\n",
              " 'wana': 52063,\n",
              " 'wang': 5283,\n",
              " 'wand': 30571,\n",
              " 'wane': 25245,\n",
              " 'edgeways': 52321,\n",
              " 'titanium': 34711,\n",
              " 'pinta': 40852,\n",
              " 'want': 178,\n",
              " 'pinto': 30572,\n",
              " 'whoopdedoodles': 52065,\n",
              " 'tchaikovsky': 21908,\n",
              " 'travel': 2103,\n",
              " \"'victory'\": 52066,\n",
              " 'copious': 11928,\n",
              " 'gouge': 22433,\n",
              " \"chapters'\": 52067,\n",
              " 'barbra': 6702,\n",
              " 'uselessness': 30573,\n",
              " \"wan'\": 52068,\n",
              " 'assimilated': 27635,\n",
              " 'petiot': 16116,\n",
              " 'most\\x85and': 52069,\n",
              " 'dinosaurs': 3930,\n",
              " 'wrong': 352,\n",
              " 'seda': 52070,\n",
              " 'stollen': 52071,\n",
              " 'sentencing': 34712,\n",
              " 'ouroboros': 40853,\n",
              " 'assimilates': 40854,\n",
              " 'colorfully': 40855,\n",
              " 'glenne': 27636,\n",
              " 'dongen': 52072,\n",
              " 'subplots': 4760,\n",
              " 'kiloton': 52073,\n",
              " 'chandon': 23381,\n",
              " \"effect'\": 34713,\n",
              " 'snugly': 27637,\n",
              " 'kuei': 40856,\n",
              " 'welcomed': 9092,\n",
              " 'dishonor': 30071,\n",
              " 'concurrence': 52075,\n",
              " 'stoicism': 23382,\n",
              " \"guys'\": 14896,\n",
              " \"beroemd'\": 52077,\n",
              " 'butcher': 6703,\n",
              " \"melfi's\": 40857,\n",
              " 'aargh': 30623,\n",
              " 'playhouse': 20599,\n",
              " 'wickedly': 11308,\n",
              " 'fit': 1180,\n",
              " 'labratory': 52078,\n",
              " 'lifeline': 40859,\n",
              " 'screaming': 1927,\n",
              " 'fix': 4287,\n",
              " 'cineliterate': 52079,\n",
              " 'fic': 52080,\n",
              " 'fia': 52081,\n",
              " 'fig': 34714,\n",
              " 'fmvs': 52082,\n",
              " 'fie': 52083,\n",
              " 'reentered': 52084,\n",
              " 'fin': 30574,\n",
              " 'doctresses': 52085,\n",
              " 'fil': 52086,\n",
              " 'zucker': 12606,\n",
              " 'ached': 31931,\n",
              " 'counsil': 52088,\n",
              " 'paterfamilias': 52089,\n",
              " 'songwriter': 13885,\n",
              " 'shivam': 34715,\n",
              " 'hurting': 9654,\n",
              " 'effects': 299,\n",
              " 'slauther': 52090,\n",
              " \"'flame'\": 52091,\n",
              " 'sommerset': 52092,\n",
              " 'interwhined': 52093,\n",
              " 'whacking': 27638,\n",
              " 'bartok': 52094,\n",
              " 'barton': 8775,\n",
              " 'frewer': 21909,\n",
              " \"fi'\": 52095,\n",
              " 'ingrid': 6192,\n",
              " 'stribor': 30575,\n",
              " 'approporiately': 52096,\n",
              " 'wobblyhand': 52097,\n",
              " 'tantalisingly': 52098,\n",
              " 'ankylosaurus': 52099,\n",
              " 'parasites': 17634,\n",
              " 'childen': 52100,\n",
              " \"jenkins'\": 52101,\n",
              " 'metafiction': 52102,\n",
              " 'golem': 17635,\n",
              " 'indiscretion': 40860,\n",
              " \"reeves'\": 23383,\n",
              " \"inamorata's\": 57781,\n",
              " 'brittannica': 52104,\n",
              " 'adapt': 7916,\n",
              " \"russo's\": 30576,\n",
              " 'guitarists': 48246,\n",
              " 'abbott': 10553,\n",
              " 'abbots': 40861,\n",
              " 'lanisha': 17649,\n",
              " 'magickal': 40863,\n",
              " 'mattter': 52105,\n",
              " \"'willy\": 52106,\n",
              " 'pumpkins': 34716,\n",
              " 'stuntpeople': 52107,\n",
              " 'estimate': 30577,\n",
              " 'ugghhh': 40864,\n",
              " 'gameplay': 11309,\n",
              " \"wern't\": 52108,\n",
              " \"n'sync\": 40865,\n",
              " 'sickeningly': 16117,\n",
              " 'chiara': 40866,\n",
              " 'disturbed': 4011,\n",
              " 'portmanteau': 40867,\n",
              " 'ineffectively': 52109,\n",
              " \"duchonvey's\": 82143,\n",
              " \"nasty'\": 37519,\n",
              " 'purpose': 1285,\n",
              " 'lazers': 52112,\n",
              " 'lightened': 28105,\n",
              " 'kaliganj': 52113,\n",
              " 'popularism': 52114,\n",
              " \"damme's\": 18511,\n",
              " 'stylistics': 30578,\n",
              " 'mindgaming': 52115,\n",
              " 'spoilerish': 46449,\n",
              " \"'corny'\": 52117,\n",
              " 'boerner': 34718,\n",
              " 'olds': 6792,\n",
              " 'bakelite': 52118,\n",
              " 'renovated': 27639,\n",
              " 'forrester': 27640,\n",
              " \"lumiere's\": 52119,\n",
              " 'gaskets': 52024,\n",
              " 'needed': 884,\n",
              " 'smight': 34719,\n",
              " 'master': 1297,\n",
              " \"edie's\": 25905,\n",
              " 'seeber': 40868,\n",
              " 'hiya': 52120,\n",
              " 'fuzziness': 52121,\n",
              " 'genesis': 14897,\n",
              " 'rewards': 12607,\n",
              " 'enthrall': 30579,\n",
              " \"'about\": 40869,\n",
              " \"recollection's\": 52122,\n",
              " 'mutilated': 11039,\n",
              " 'fatherlands': 52123,\n",
              " \"fischer's\": 52124,\n",
              " 'positively': 5399,\n",
              " '270': 34705,\n",
              " 'ahmed': 34720,\n",
              " 'zatoichi': 9836,\n",
              " 'bannister': 13886,\n",
              " 'anniversaries': 52127,\n",
              " \"helm's\": 30580,\n",
              " \"'work'\": 52128,\n",
              " 'exclaimed': 34721,\n",
              " \"'unfunny'\": 52129,\n",
              " '274': 52029,\n",
              " 'feeling': 544,\n",
              " \"wanda's\": 52131,\n",
              " 'dolan': 33266,\n",
              " '278': 52133,\n",
              " 'peacoat': 52134,\n",
              " 'brawny': 40870,\n",
              " 'mishra': 40871,\n",
              " 'worlders': 40872,\n",
              " 'protags': 52135,\n",
              " 'skullcap': 52136,\n",
              " 'dastagir': 57596,\n",
              " 'affairs': 5622,\n",
              " 'wholesome': 7799,\n",
              " 'hymen': 52137,\n",
              " 'paramedics': 25246,\n",
              " 'unpersons': 52138,\n",
              " 'heavyarms': 52139,\n",
              " 'affaire': 52140,\n",
              " 'coulisses': 52141,\n",
              " 'hymer': 40873,\n",
              " 'kremlin': 52142,\n",
              " 'shipments': 30581,\n",
              " 'pixilated': 52143,\n",
              " \"'00s\": 30582,\n",
              " 'diminishing': 18512,\n",
              " 'cinematic': 1357,\n",
              " 'resonates': 14898,\n",
              " 'simplify': 40874,\n",
              " \"nature'\": 40875,\n",
              " 'temptresses': 40876,\n",
              " 'reverence': 16822,\n",
              " 'resonated': 19502,\n",
              " 'dailey': 34722,\n",
              " '2\\x85': 52144,\n",
              " 'treize': 27641,\n",
              " 'majo': 52145,\n",
              " 'kiya': 21910,\n",
              " 'woolnough': 52146,\n",
              " 'thanatos': 39797,\n",
              " 'sandoval': 35731,\n",
              " 'dorama': 40879,\n",
              " \"o'shaughnessy\": 52147,\n",
              " 'tech': 4988,\n",
              " 'fugitives': 32018,\n",
              " 'teck': 30583,\n",
              " \"'e'\": 76125,\n",
              " 'doesn’t': 40881,\n",
              " 'purged': 52149,\n",
              " 'saying': 657,\n",
              " \"martians'\": 41095,\n",
              " 'norliss': 23418,\n",
              " 'dickey': 27642,\n",
              " 'dicker': 52152,\n",
              " \"'sependipity\": 52153,\n",
              " 'padded': 8422,\n",
              " 'ordell': 57792,\n",
              " \"sturges'\": 40882,\n",
              " 'independentcritics': 52154,\n",
              " 'tempted': 5745,\n",
              " \"atkinson's\": 34724,\n",
              " 'hounded': 25247,\n",
              " 'apace': 52155,\n",
              " 'clicked': 15494,\n",
              " \"'humor'\": 30584,\n",
              " \"martino's\": 17177,\n",
              " \"'supporting\": 52156,\n",
              " 'warmongering': 52032,\n",
              " \"zemeckis's\": 34725,\n",
              " 'lube': 21911,\n",
              " 'shocky': 52157,\n",
              " 'plate': 7476,\n",
              " 'plata': 40883,\n",
              " 'sturgess': 40884,\n",
              " \"nerds'\": 40885,\n",
              " 'plato': 20600,\n",
              " 'plath': 34726,\n",
              " 'platt': 40886,\n",
              " 'mcnab': 52159,\n",
              " 'clumsiness': 27643,\n",
              " 'altogether': 3899,\n",
              " 'massacring': 42584,\n",
              " 'bicenntinial': 52160,\n",
              " 'skaal': 40887,\n",
              " 'droning': 14360,\n",
              " 'lds': 8776,\n",
              " 'jaguar': 21912,\n",
              " \"cale's\": 34727,\n",
              " 'nicely': 1777,\n",
              " 'mummy': 4588,\n",
              " \"lot's\": 18513,\n",
              " 'patch': 10086,\n",
              " 'kerkhof': 50202,\n",
              " \"leader's\": 52161,\n",
              " \"'movie\": 27644,\n",
              " 'uncomfirmed': 52162,\n",
              " 'heirloom': 40888,\n",
              " 'wrangle': 47360,\n",
              " 'emotion\\x85': 52163,\n",
              " \"'stargate'\": 52164,\n",
              " 'pinoy': 40889,\n",
              " 'conchatta': 40890,\n",
              " 'broeke': 41128,\n",
              " 'advisedly': 40891,\n",
              " \"barker's\": 17636,\n",
              " 'descours': 52166,\n",
              " 'lots': 772,\n",
              " 'lotr': 9259,\n",
              " 'irs': 9879,\n",
              " 'lott': 52167,\n",
              " 'xvi': 40892,\n",
              " 'irk': 34728,\n",
              " 'irl': 52168,\n",
              " 'ira': 6887,\n",
              " 'belzer': 21913,\n",
              " 'irc': 52169,\n",
              " 'ire': 27645,\n",
              " 'requisites': 40893,\n",
              " 'discipline': 7693,\n",
              " 'lyoko': 52961,\n",
              " 'extend': 11310,\n",
              " 'nature': 873,\n",
              " \"'dickie'\": 52170,\n",
              " 'optimist': 40894,\n",
              " 'lapping': 30586,\n",
              " 'superficial': 3900,\n",
              " 'vestment': 52171,\n",
              " 'extent': 2823,\n",
              " 'tendons': 52172,\n",
              " \"heller's\": 52173,\n",
              " 'quagmires': 52174,\n",
              " 'miyako': 52175,\n",
              " 'moocow': 20601,\n",
              " \"coles'\": 52176,\n",
              " 'lookit': 40895,\n",
              " 'ravenously': 52177,\n",
              " 'levitating': 40896,\n",
              " 'perfunctorily': 52178,\n",
              " 'lookin': 30587,\n",
              " \"lot'\": 40898,\n",
              " 'lookie': 52179,\n",
              " 'fearlessly': 34870,\n",
              " 'libyan': 52181,\n",
              " 'fondles': 40899,\n",
              " 'gopher': 35714,\n",
              " 'wearying': 40901,\n",
              " \"nz's\": 52182,\n",
              " 'minuses': 27646,\n",
              " 'puposelessly': 52183,\n",
              " 'shandling': 52184,\n",
              " 'decapitates': 31268,\n",
              " 'humming': 11929,\n",
              " \"'nother\": 40902,\n",
              " 'smackdown': 21914,\n",
              " 'underdone': 30588,\n",
              " 'frf': 40903,\n",
              " 'triviality': 52185,\n",
              " 'fro': 25248,\n",
              " 'bothers': 8777,\n",
              " \"'kensington\": 52186,\n",
              " 'much': 73,\n",
              " 'muco': 34730,\n",
              " 'wiseguy': 22615,\n",
              " \"richie's\": 27648,\n",
              " 'tonino': 40904,\n",
              " 'unleavened': 52187,\n",
              " 'fry': 11587,\n",
              " \"'tv'\": 40905,\n",
              " 'toning': 40906,\n",
              " 'obese': 14361,\n",
              " 'sensationalized': 30589,\n",
              " 'spiv': 40907,\n",
              " 'spit': 6259,\n",
              " 'arkin': 7364,\n",
              " 'charleton': 21915,\n",
              " 'jeon': 16823,\n",
              " 'boardroom': 21916,\n",
              " 'doubts': 4989,\n",
              " 'spin': 3084,\n",
              " 'hepo': 53083,\n",
              " 'wildcat': 27649,\n",
              " 'venoms': 10584,\n",
              " 'misconstrues': 52191,\n",
              " 'mesmerising': 18514,\n",
              " 'misconstrued': 40908,\n",
              " 'rescinds': 52192,\n",
              " 'prostrate': 52193,\n",
              " 'majid': 40909,\n",
              " 'climbed': 16479,\n",
              " 'canoeing': 34731,\n",
              " 'majin': 52195,\n",
              " 'animie': 57804,\n",
              " 'sylke': 40910,\n",
              " 'conditioned': 14899,\n",
              " 'waddell': 40911,\n",
              " '3\\x85': 52196,\n",
              " 'hyperdrive': 41188,\n",
              " 'conditioner': 34732,\n",
              " 'bricklayer': 53153,\n",
              " 'hong': 2576,\n",
              " 'memoriam': 52198,\n",
              " 'inventively': 30592,\n",
              " \"levant's\": 25249,\n",
              " 'portobello': 20638,\n",
              " 'remand': 52200,\n",
              " 'mummified': 19504,\n",
              " 'honk': 27650,\n",
              " 'spews': 19505,\n",
              " 'visitations': 40912,\n",
              " 'mummifies': 52201,\n",
              " 'cavanaugh': 25250,\n",
              " 'zeon': 23385,\n",
              " \"jungle's\": 40913,\n",
              " 'viertel': 34733,\n",
              " 'frenchmen': 27651,\n",
              " 'torpedoes': 52202,\n",
              " 'schlessinger': 52203,\n",
              " 'torpedoed': 34734,\n",
              " 'blister': 69876,\n",
              " 'cinefest': 52204,\n",
              " 'furlough': 34735,\n",
              " 'mainsequence': 52205,\n",
              " 'mentors': 40914,\n",
              " 'academic': 9094,\n",
              " 'stillness': 20602,\n",
              " 'academia': 40915,\n",
              " 'lonelier': 52206,\n",
              " 'nibby': 52207,\n",
              " \"losers'\": 52208,\n",
              " 'cineastes': 40916,\n",
              " 'corporate': 4449,\n",
              " 'massaging': 40917,\n",
              " 'bellow': 30593,\n",
              " 'absurdities': 19506,\n",
              " 'expetations': 53241,\n",
              " 'nyfiken': 40918,\n",
              " 'mehras': 75638,\n",
              " 'lasse': 52209,\n",
              " 'visability': 52210,\n",
              " 'militarily': 33946,\n",
              " \"elder'\": 52211,\n",
              " 'gainsbourg': 19023,\n",
              " 'hah': 20603,\n",
              " 'hai': 13420,\n",
              " 'haj': 34736,\n",
              " 'hak': 25251,\n",
              " 'hal': 4311,\n",
              " 'ham': 4892,\n",
              " 'duffer': 53259,\n",
              " 'haa': 52213,\n",
              " 'had': 66,\n",
              " 'advancement': 11930,\n",
              " 'hag': 16825,\n",
              " \"hand'\": 25252,\n",
              " 'hay': 13421,\n",
              " 'mcnamara': 20604,\n",
              " \"mozart's\": 52214,\n",
              " 'duffel': 30731,\n",
              " 'haq': 30594,\n",
              " 'har': 13887,\n",
              " 'has': 44,\n",
              " 'hat': 2401,\n",
              " 'hav': 40919,\n",
              " 'haw': 30595,\n",
              " 'figtings': 52215,\n",
              " 'elders': 15495,\n",
              " 'underpanted': 52216,\n",
              " 'pninson': 52217,\n",
              " 'unequivocally': 27652,\n",
              " \"barbara's\": 23673,\n",
              " \"bello'\": 52219,\n",
              " 'indicative': 12997,\n",
              " 'yawnfest': 40920,\n",
              " 'hexploitation': 52220,\n",
              " \"loder's\": 52221,\n",
              " 'sleuthing': 27653,\n",
              " \"justin's\": 32622,\n",
              " \"'ball\": 52222,\n",
              " \"'summer\": 52223,\n",
              " \"'demons'\": 34935,\n",
              " \"mormon's\": 52225,\n",
              " \"laughton's\": 34737,\n",
              " 'debell': 52226,\n",
              " 'shipyard': 39724,\n",
              " 'unabashedly': 30597,\n",
              " 'disks': 40401,\n",
              " 'crowd': 2290,\n",
              " 'crowe': 10087,\n",
              " \"vancouver's\": 56434,\n",
              " 'mosques': 34738,\n",
              " 'crown': 6627,\n",
              " 'culpas': 52227,\n",
              " 'crows': 27654,\n",
              " 'surrell': 53344,\n",
              " 'flowless': 52229,\n",
              " 'sheirk': 52230,\n",
              " \"'three\": 40923,\n",
              " \"peterson'\": 52231,\n",
              " 'ooverall': 52232,\n",
              " 'perchance': 40924,\n",
              " 'bottom': 1321,\n",
              " 'chabert': 53363,\n",
              " 'sneha': 52233,\n",
              " 'inhuman': 13888,\n",
              " 'ichii': 52234,\n",
              " 'ursla': 52235,\n",
              " 'completly': 30598,\n",
              " 'moviedom': 40925,\n",
              " 'raddick': 52236,\n",
              " 'brundage': 51995,\n",
              " 'brigades': 40926,\n",
              " 'starring': 1181,\n",
              " \"'goal'\": 52237,\n",
              " 'caskets': 52238,\n",
              " 'willcock': 52239,\n",
              " \"threesome's\": 52240,\n",
              " \"mosque'\": 52241,\n",
              " \"cover's\": 52242,\n",
              " 'spaceships': 17637,\n",
              " 'anomalous': 40927,\n",
              " 'ptsd': 27655,\n",
              " 'shirdan': 52243,\n",
              " 'obscenity': 21962,\n",
              " 'lemmings': 30599,\n",
              " 'duccio': 30600,\n",
              " \"levene's\": 52244,\n",
              " \"'gorby'\": 52245,\n",
              " \"teenager's\": 25255,\n",
              " 'marshall': 5340,\n",
              " 'honeymoon': 9095,\n",
              " 'shoots': 3231,\n",
              " 'despised': 12258,\n",
              " 'okabasho': 52246,\n",
              " 'fabric': 8289,\n",
              " 'cannavale': 18515,\n",
              " 'raped': 3537,\n",
              " \"tutt's\": 52247,\n",
              " 'grasping': 17638,\n",
              " 'despises': 18516,\n",
              " \"thief's\": 40928,\n",
              " 'rapes': 8926,\n",
              " 'raper': 52248,\n",
              " \"eyre'\": 27656,\n",
              " 'walchek': 52249,\n",
              " \"elmo's\": 23386,\n",
              " 'perfumes': 40929,\n",
              " 'spurting': 21918,\n",
              " \"exposition'\\x85\": 52250,\n",
              " 'denoting': 52251,\n",
              " 'thesaurus': 34740,\n",
              " \"shoot'\": 40930,\n",
              " 'bonejack': 49759,\n",
              " 'simpsonian': 52253,\n",
              " 'hebetude': 30601,\n",
              " \"hallow's\": 34741,\n",
              " 'desperation\\x85': 52254,\n",
              " 'incinerator': 34742,\n",
              " 'congratulations': 10308,\n",
              " 'humbled': 52255,\n",
              " \"else's\": 5924,\n",
              " 'trelkovski': 40845,\n",
              " \"rape'\": 52256,\n",
              " \"'chapters'\": 59386,\n",
              " '1600s': 52257,\n",
              " 'martian': 7253,\n",
              " 'nicest': 25256,\n",
              " 'eyred': 52259,\n",
              " 'passenger': 9457,\n",
              " 'disgrace': 6041,\n",
              " 'moderne': 52260,\n",
              " 'barrymore': 5120,\n",
              " 'yankovich': 52261,\n",
              " 'moderns': 40931,\n",
              " 'studliest': 52262,\n",
              " 'bedsheet': 52263,\n",
              " 'decapitation': 14900,\n",
              " 'slurring': 52264,\n",
              " \"'nunsploitation'\": 52265,\n",
              " \"'character'\": 34743,\n",
              " 'cambodia': 9880,\n",
              " 'rebelious': 52266,\n",
              " 'pasadena': 27657,\n",
              " 'crowne': 40932,\n",
              " \"'bedchamber\": 52267,\n",
              " 'conjectural': 52268,\n",
              " 'appologize': 52269,\n",
              " 'halfassing': 52270,\n",
              " 'paycheque': 57816,\n",
              " 'palms': 20606,\n",
              " \"'islands\": 52271,\n",
              " 'hawked': 40933,\n",
              " 'palme': 21919,\n",
              " 'conservatively': 40934,\n",
              " 'larp': 64007,\n",
              " 'palma': 5558,\n",
              " 'smelling': 21920,\n",
              " 'aragorn': 12998,\n",
              " 'hawker': 52272,\n",
              " 'hawkes': 52273,\n",
              " 'explosions': 3975,\n",
              " 'loren': 8059,\n",
              " \"pyle's\": 52274,\n",
              " 'shootout': 6704,\n",
              " \"mike's\": 18517,\n",
              " \"driscoll's\": 52275,\n",
              " 'cogsworth': 40935,\n",
              " \"britian's\": 52276,\n",
              " 'childs': 34744,\n",
              " \"portrait's\": 52277,\n",
              " 'chain': 3626,\n",
              " 'whoever': 2497,\n",
              " 'puttered': 52278,\n",
              " 'childe': 52279,\n",
              " 'maywether': 52280,\n",
              " 'chair': 3036,\n",
              " \"rance's\": 52281,\n",
              " 'machu': 34745,\n",
              " 'ballet': 4517,\n",
              " 'grapples': 34746,\n",
              " 'summerize': 76152,\n",
              " 'freelance': 30603,\n",
              " \"andrea's\": 52283,\n",
              " '\\x91very': 52284,\n",
              " 'coolidge': 45879,\n",
              " 'mache': 18518,\n",
              " 'balled': 52285,\n",
              " 'grappled': 40937,\n",
              " 'macha': 18519,\n",
              " 'underlining': 21921,\n",
              " 'macho': 5623,\n",
              " 'oversight': 19507,\n",
              " 'machi': 25257,\n",
              " 'verbally': 11311,\n",
              " 'tenacious': 21922,\n",
              " 'windshields': 40938,\n",
              " 'paychecks': 18557,\n",
              " 'jerk': 3396,\n",
              " \"good'\": 11931,\n",
              " 'prancer': 34748,\n",
              " 'prances': 21923,\n",
              " 'olympus': 52286,\n",
              " 'lark': 21924,\n",
              " 'embark': 10785,\n",
              " 'gloomy': 7365,\n",
              " 'jehaan': 52287,\n",
              " 'turaqui': 52288,\n",
              " \"child'\": 20607,\n",
              " 'locked': 2894,\n",
              " 'pranced': 52289,\n",
              " 'exact': 2588,\n",
              " 'unattuned': 52290,\n",
              " 'minute': 783,\n",
              " 'skewed': 16118,\n",
              " 'hodgins': 40940,\n",
              " 'skewer': 34749,\n",
              " 'think\\x85': 52291,\n",
              " 'rosenstein': 38765,\n",
              " 'helmit': 52292,\n",
              " 'wrestlemanias': 34750,\n",
              " 'hindered': 16826,\n",
              " \"martha's\": 30604,\n",
              " 'cheree': 52293,\n",
              " \"pluckin'\": 52294,\n",
              " 'ogles': 40941,\n",
              " 'heavyweight': 11932,\n",
              " 'aada': 82190,\n",
              " 'chopping': 11312,\n",
              " 'strongboy': 61534,\n",
              " 'hegemonic': 41342,\n",
              " 'adorns': 40942,\n",
              " 'xxth': 41346,\n",
              " 'nobuhiro': 34751,\n",
              " 'capitães': 52298,\n",
              " 'kavogianni': 52299,\n",
              " 'antwerp': 13422,\n",
              " 'celebrated': 6538,\n",
              " 'roarke': 52300,\n",
              " 'baggins': 40943,\n",
              " 'cheeseburgers': 31270,\n",
              " 'matras': 52301,\n",
              " \"nineties'\": 52302,\n",
              " \"'craig'\": 52303,\n",
              " 'celebrates': 12999,\n",
              " 'unintentionally': 3383,\n",
              " 'drafted': 14362,\n",
              " 'climby': 52304,\n",
              " '303': 52305,\n",
              " 'oldies': 18520,\n",
              " 'climbs': 9096,\n",
              " 'honour': 9655,\n",
              " 'plucking': 34752,\n",
              " '305': 30074,\n",
              " 'address': 5514,\n",
              " 'menjou': 40944,\n",
              " \"'freak'\": 42592,\n",
              " 'dwindling': 19508,\n",
              " 'benson': 9458,\n",
              " 'white’s': 52307,\n",
              " 'shamelessness': 40945,\n",
              " 'impacted': 21925,\n",
              " 'upatz': 52308,\n",
              " 'cusack': 3840,\n",
              " \"flavia's\": 37567,\n",
              " 'effette': 52309,\n",
              " 'influx': 34753,\n",
              " 'boooooooo': 52310,\n",
              " 'dimitrova': 52311,\n",
              " 'houseman': 13423,\n",
              " 'bigas': 25259,\n",
              " 'boylen': 52312,\n",
              " 'phillipenes': 52313,\n",
              " 'fakery': 40946,\n",
              " \"grandpa's\": 27658,\n",
              " 'darnell': 27659,\n",
              " 'undergone': 19509,\n",
              " 'handbags': 52315,\n",
              " 'perished': 21926,\n",
              " 'pooped': 37778,\n",
              " 'vigour': 27660,\n",
              " 'opposed': 3627,\n",
              " 'etude': 52316,\n",
              " \"caine's\": 11799,\n",
              " 'doozers': 52317,\n",
              " 'photojournals': 34754,\n",
              " 'perishes': 52318,\n",
              " 'constrains': 34755,\n",
              " 'migenes': 40948,\n",
              " 'consoled': 30605,\n",
              " 'alastair': 16827,\n",
              " 'wvs': 52319,\n",
              " 'ooooooh': 52320,\n",
              " 'approving': 34756,\n",
              " 'consoles': 40949,\n",
              " 'disparagement': 52064,\n",
              " 'futureistic': 52322,\n",
              " 'rebounding': 52323,\n",
              " \"'date\": 52324,\n",
              " 'gregoire': 52325,\n",
              " 'rutherford': 21927,\n",
              " 'americanised': 34757,\n",
              " 'novikov': 82196,\n",
              " 'following': 1042,\n",
              " 'munroe': 34758,\n",
              " \"morita'\": 52326,\n",
              " 'christenssen': 52327,\n",
              " 'oatmeal': 23106,\n",
              " 'fossey': 25260,\n",
              " 'livered': 40950,\n",
              " 'listens': 13000,\n",
              " \"'marci\": 76164,\n",
              " \"otis's\": 52330,\n",
              " 'thanking': 23387,\n",
              " 'maude': 16019,\n",
              " 'extensions': 34759,\n",
              " 'ameteurish': 52332,\n",
              " \"commender's\": 52333,\n",
              " 'agricultural': 27661,\n",
              " 'convincingly': 4518,\n",
              " 'fueled': 17639,\n",
              " 'mahattan': 54014,\n",
              " \"paris's\": 40952,\n",
              " 'vulkan': 52336,\n",
              " 'stapes': 52337,\n",
              " 'odysessy': 52338,\n",
              " 'harmon': 12259,\n",
              " 'surfing': 4252,\n",
              " 'halloran': 23494,\n",
              " 'unbelieveably': 49580,\n",
              " \"'offed'\": 52339,\n",
              " 'quadrant': 30607,\n",
              " 'inhabiting': 19510,\n",
              " 'nebbish': 34760,\n",
              " 'forebears': 40953,\n",
              " 'skirmish': 34761,\n",
              " 'ocassionally': 52340,\n",
              " \"'resist\": 52341,\n",
              " 'impactful': 21928,\n",
              " 'spicier': 52342,\n",
              " 'touristy': 40954,\n",
              " \"'football'\": 52343,\n",
              " 'webpage': 40955,\n",
              " 'exurbia': 52345,\n",
              " 'jucier': 52346,\n",
              " 'professors': 14901,\n",
              " 'structuring': 34762,\n",
              " 'jig': 30608,\n",
              " 'overlord': 40956,\n",
              " 'disconnect': 25261,\n",
              " 'sniffle': 82201,\n",
              " 'slimeball': 40957,\n",
              " 'jia': 40958,\n",
              " 'milked': 16828,\n",
              " 'banjoes': 40959,\n",
              " 'jim': 1237,\n",
              " 'workforces': 52348,\n",
              " 'jip': 52349,\n",
              " 'rotweiller': 52350,\n",
              " 'mundaneness': 34763,\n",
              " \"'ninja'\": 52351,\n",
              " \"dead'\": 11040,\n",
              " \"cipriani's\": 40960,\n",
              " 'modestly': 20608,\n",
              " \"professor'\": 52352,\n",
              " 'shacked': 40961,\n",
              " 'bashful': 34764,\n",
              " 'sorter': 23388,\n",
              " 'overpowering': 16120,\n",
              " 'workmanlike': 18521,\n",
              " 'henpecked': 27662,\n",
              " 'sorted': 18522,\n",
              " \"jōb's\": 52354,\n",
              " \"'always\": 52355,\n",
              " \"'baptists\": 34765,\n",
              " 'dreamcatchers': 52356,\n",
              " \"'silence'\": 52357,\n",
              " 'hickory': 21929,\n",
              " 'fun\\x97yet': 52358,\n",
              " 'breakumentary': 52359,\n",
              " 'didn': 15496,\n",
              " 'didi': 52360,\n",
              " 'pealing': 52361,\n",
              " 'dispite': 40962,\n",
              " \"italy's\": 25262,\n",
              " 'instability': 21930,\n",
              " 'quarter': 6539,\n",
              " 'quartet': 12608,\n",
              " 'padmé': 52362,\n",
              " \"'bleedmedry\": 52363,\n",
              " 'pahalniuk': 52364,\n",
              " 'honduras': 52365,\n",
              " 'bursting': 10786,\n",
              " \"pablo's\": 41465,\n",
              " 'irremediably': 52367,\n",
              " 'presages': 40963,\n",
              " 'bowlegged': 57832,\n",
              " 'dalip': 65183,\n",
              " 'entering': 6260,\n",
              " 'newsradio': 76172,\n",
              " 'presaged': 54150,\n",
              " \"giallo's\": 27663,\n",
              " 'bouyant': 40964,\n",
              " 'amerterish': 52368,\n",
              " 'rajni': 18523,\n",
              " 'leeves': 30610,\n",
              " 'macauley': 34767,\n",
              " 'seriously': 612,\n",
              " 'sugercoma': 52369,\n",
              " 'grimstead': 52370,\n",
              " \"'fairy'\": 52371,\n",
              " 'zenda': 30611,\n",
              " \"'twins'\": 52372,\n",
              " 'realisation': 17640,\n",
              " 'highsmith': 27664,\n",
              " 'raunchy': 7817,\n",
              " 'incentives': 40965,\n",
              " 'flatson': 52374,\n",
              " 'snooker': 35097,\n",
              " 'crazies': 16829,\n",
              " 'crazier': 14902,\n",
              " 'grandma': 7094,\n",
              " 'napunsaktha': 52375,\n",
              " 'workmanship': 30612,\n",
              " 'reisner': 52376,\n",
              " \"sanford's\": 61306,\n",
              " '\\x91doña': 52377,\n",
              " 'modest': 6108,\n",
              " \"everything's\": 19153,\n",
              " 'hamer': 40966,\n",
              " \"couldn't'\": 52379,\n",
              " 'quibble': 13001,\n",
              " 'socking': 52380,\n",
              " 'tingler': 21931,\n",
              " 'gutman': 52381,\n",
              " 'lachlan': 40967,\n",
              " 'tableaus': 52382,\n",
              " 'headbanger': 52383,\n",
              " 'spoken': 2847,\n",
              " 'cerebrally': 34768,\n",
              " \"'road\": 23490,\n",
              " 'tableaux': 21932,\n",
              " \"proust's\": 40968,\n",
              " 'periodical': 40969,\n",
              " \"shoveller's\": 52385,\n",
              " 'tamara': 25263,\n",
              " 'affords': 17641,\n",
              " 'concert': 3249,\n",
              " \"yara's\": 87955,\n",
              " 'someome': 52386,\n",
              " 'lingering': 8424,\n",
              " \"abraham's\": 41511,\n",
              " 'beesley': 34769,\n",
              " 'cherbourg': 34770,\n",
              " 'kagan': 28624,\n",
              " 'snatch': 9097,\n",
              " \"miyazaki's\": 9260,\n",
              " 'absorbs': 25264,\n",
              " \"koltai's\": 40970,\n",
              " 'tingled': 64027,\n",
              " 'crossroads': 19511,\n",
              " 'rehab': 16121,\n",
              " 'falworth': 52389,\n",
              " 'sequals': 52390,\n",
              " ...}"
            ]
          },
          "metadata": {
            "tags": []
          },
          "execution_count": 10
        }
      ]
    },
    {
      "cell_type": "code",
      "metadata": {
        "id": "sO5jAE8Yivjf",
        "colab_type": "code",
        "colab": {}
      },
      "source": [
        ""
      ],
      "execution_count": 0,
      "outputs": []
    },
    {
      "cell_type": "code",
      "metadata": {
        "id": "de_jjJpbivjk",
        "colab_type": "code",
        "colab": {}
      },
      "source": [
        ""
      ],
      "execution_count": 0,
      "outputs": []
    },
    {
      "cell_type": "markdown",
      "metadata": {
        "id": "r3zEpC0rivjo",
        "colab_type": "text"
      },
      "source": [
        "## Build Keras Embedding Layer Model\n",
        "We can think of the Embedding layer as a dicionary that maps a index assigned to a word to a word vector. This layer is very flexible and can be used in a few ways:\n",
        "\n",
        "* The embedding layer can be used at the start of a larger deep learning model. \n",
        "* Also we could load pre-train word embeddings into the embedding layer when we create our model.\n",
        "* Use the embedding layer to train our own word2vec models.\n",
        "\n",
        "The keras embedding layer doesn't require us to onehot encode our words, instead we have to give each word a unqiue intger number as an id. For the imdb dataset we've loaded this has already been done, but if this wasn't the case we could use sklearn [LabelEncoder](http://scikit-learn.org/stable/modules/generated/sklearn.preprocessing.LabelEncoder.html)."
      ]
    },
    {
      "cell_type": "code",
      "metadata": {
        "id": "wO_v5mrRivjp",
        "colab_type": "code",
        "colab": {}
      },
      "source": [
        "from keras.models import Sequential"
      ],
      "execution_count": 0,
      "outputs": []
    },
    {
      "cell_type": "code",
      "metadata": {
        "id": "e23OfSGxivjt",
        "colab_type": "code",
        "colab": {}
      },
      "source": [
        "from keras.layers import Embedding, Flatten, LSTM, Dense, Dropout, Masking, Bidirectional\n",
        "import numpy as np"
      ],
      "execution_count": 0,
      "outputs": []
    },
    {
      "cell_type": "code",
      "metadata": {
        "id": "VY3iaOG1ivjw",
        "colab_type": "code",
        "colab": {}
      },
      "source": [
        "model = Sequential()"
      ],
      "execution_count": 0,
      "outputs": []
    },
    {
      "cell_type": "code",
      "metadata": {
        "id": "sR1Kp65zivj1",
        "colab_type": "code",
        "colab": {}
      },
      "source": [
        "\n",
        "model.add(Embedding(vocab_size + 1,###nedd to handle index between 0 and 10000\n",
        "                    32,#embedding_vector_length,###50 embedding\n",
        "                    input_length=20,#input_length=max_review_length,##300 max lenght we got above\n",
        "                    weights=None, #Pre-trained embedding\n",
        "                    trainable=True) #We do not want to change embedding\n",
        "                   )\n",
        "# Recurrent layer\n",
        "model.add(LSTM(1, return_sequences=False, dropout=0.1,recurrent_dropout=0.1))\n",
        "#model.add(Flatten())"
      ],
      "execution_count": 0,
      "outputs": []
    },
    {
      "cell_type": "code",
      "metadata": {
        "id": "YrhPvRCxivj4",
        "colab_type": "code",
        "colab": {}
      },
      "source": [
        "\n",
        "model.add(Dense(1, activation='sigmoid'))"
      ],
      "execution_count": 0,
      "outputs": []
    },
    {
      "cell_type": "code",
      "metadata": {
        "id": "cHwBIptwivj7",
        "colab_type": "code",
        "colab": {}
      },
      "source": [
        "# compile the model\n",
        "model.compile(optimizer='adam', loss='binary_crossentropy', metrics=['acc'])"
      ],
      "execution_count": 0,
      "outputs": []
    },
    {
      "cell_type": "code",
      "metadata": {
        "id": "ZxgGPazOivkA",
        "colab_type": "code",
        "outputId": "2c0620af-cba7-4d64-fbd9-1846809b254d",
        "colab": {
          "base_uri": "https://localhost:8080/",
          "height": 254
        }
      },
      "source": [
        "# summarize the model\n",
        "model.summary()"
      ],
      "execution_count": 66,
      "outputs": [
        {
          "output_type": "stream",
          "text": [
            "_________________________________________________________________\n",
            "Layer (type)                 Output Shape              Param #   \n",
            "=================================================================\n",
            "embedding_8 (Embedding)      (None, 20, 32)            320032    \n",
            "_________________________________________________________________\n",
            "lstm_5 (LSTM)                (None, 1)                 136       \n",
            "_________________________________________________________________\n",
            "dense_6 (Dense)              (None, 1)                 2         \n",
            "=================================================================\n",
            "Total params: 320,170\n",
            "Trainable params: 320,170\n",
            "Non-trainable params: 0\n",
            "_________________________________________________________________\n"
          ],
          "name": "stdout"
        }
      ]
    },
    {
      "cell_type": "code",
      "metadata": {
        "id": "kJGEwQ4GivkF",
        "colab_type": "code",
        "colab": {
          "base_uri": "https://localhost:8080/",
          "height": 35
        },
        "outputId": "15a8c2a1-f534-4328-a7d9-076aa0c3c71e"
      },
      "source": [
        "# fit the model\n",
        "model.fit(x_train, y_train, epochs=10, verbose=0)"
      ],
      "execution_count": 67,
      "outputs": [
        {
          "output_type": "execute_result",
          "data": {
            "text/plain": [
              "<keras.callbacks.History at 0x7f0c0824e940>"
            ]
          },
          "metadata": {
            "tags": []
          },
          "execution_count": 67
        }
      ]
    },
    {
      "cell_type": "code",
      "metadata": {
        "id": "pg3k_JkRivkK",
        "colab_type": "code",
        "outputId": "0183ced6-c34d-4532-87c8-37c6824928ed",
        "colab": {
          "base_uri": "https://localhost:8080/",
          "height": 35
        }
      },
      "source": [
        "loss, accuracy = model.evaluate(x_train, y_train, verbose=0)\n",
        "print('Accuracy: %f' % (accuracy*100))"
      ],
      "execution_count": 68,
      "outputs": [
        {
          "output_type": "stream",
          "text": [
            "Accuracy: 91.332000\n"
          ],
          "name": "stdout"
        }
      ]
    },
    {
      "cell_type": "code",
      "metadata": {
        "id": "EJh_yMPvivkP",
        "colab_type": "code",
        "outputId": "e423041c-731f-40b0-e0f5-658e3db5d7cb",
        "colab": {
          "base_uri": "https://localhost:8080/",
          "height": 35
        }
      },
      "source": [
        "loss, accuracy = model.evaluate(x_test, y_test, verbose=0)\n",
        "print('Accuracy: %f' % (accuracy*100))"
      ],
      "execution_count": 69,
      "outputs": [
        {
          "output_type": "stream",
          "text": [
            "Accuracy: 66.372000\n"
          ],
          "name": "stdout"
        }
      ]
    },
    {
      "cell_type": "markdown",
      "metadata": {
        "id": "fUVos5K_ivkU",
        "colab_type": "text"
      },
      "source": [
        "## Retrive the output of each layer in keras for a given single test sample from the trained model you built"
      ]
    },
    {
      "cell_type": "code",
      "metadata": {
        "id": "Ukk_nKz5ivkV",
        "colab_type": "code",
        "colab": {}
      },
      "source": [
        "from keras import Model"
      ],
      "execution_count": 0,
      "outputs": []
    },
    {
      "cell_type": "code",
      "metadata": {
        "id": "j9fCG6N8ivkc",
        "colab_type": "code",
        "outputId": "db97f1c3-acc0-4999-f588-a96be0c39008",
        "colab": {
          "base_uri": "https://localhost:8080/",
          "height": 35
        }
      },
      "source": [
        "model.get_layer('embedding_8')"
      ],
      "execution_count": 74,
      "outputs": [
        {
          "output_type": "execute_result",
          "data": {
            "text/plain": [
              "<keras.layers.embeddings.Embedding at 0x7f0c08206be0>"
            ]
          },
          "metadata": {
            "tags": []
          },
          "execution_count": 74
        }
      ]
    },
    {
      "cell_type": "code",
      "metadata": {
        "id": "h-hQZlAuivkh",
        "colab_type": "code",
        "outputId": "1acf6a00-6587-4351-c7a0-739b986d8472",
        "colab": {
          "base_uri": "https://localhost:8080/",
          "height": 54
        }
      },
      "source": [
        "x_test[0]"
      ],
      "execution_count": 75,
      "outputs": [
        {
          "output_type": "execute_result",
          "data": {
            "text/plain": [
              "array([   1,  591,  202,   14,   31,    6,  717,   10,   10,    2,    2,\n",
              "          5,    4,  360,    7,    4,  177, 5760,  394,  354], dtype=int32)"
            ]
          },
          "metadata": {
            "tags": []
          },
          "execution_count": 75
        }
      ]
    },
    {
      "cell_type": "code",
      "metadata": {
        "id": "gu8r-Zi0ivkn",
        "colab_type": "code",
        "colab": {}
      },
      "source": [
        ""
      ],
      "execution_count": 0,
      "outputs": []
    },
    {
      "cell_type": "code",
      "metadata": {
        "id": "nVW6ysH8ivks",
        "colab_type": "code",
        "colab": {}
      },
      "source": [
        "embedding_layer_model = Model(inputs = model.input, outputs= model.get_layer('embedding_8').output)"
      ],
      "execution_count": 0,
      "outputs": []
    },
    {
      "cell_type": "code",
      "metadata": {
        "id": "IZHnjwcNivkw",
        "colab_type": "code",
        "outputId": "bebdfb59-37cf-4763-8a25-7f6dbc729dc8",
        "colab": {
          "base_uri": "https://localhost:8080/",
          "height": 145
        }
      },
      "source": [
        "x_test"
      ],
      "execution_count": 80,
      "outputs": [
        {
          "output_type": "execute_result",
          "data": {
            "text/plain": [
              "array([[   1,  591,  202, ..., 5760,  394,  354],\n",
              "       [   1,   14,   22, ...,  114,    9,   55],\n",
              "       [1239, 5189,  137, ..., 8014,   37,  272],\n",
              "       ...,\n",
              "       [   1,   13, 1408, ...,   45,  184,   78],\n",
              "       [   1,   11,  119, ...,   86,  107,    8],\n",
              "       [   1,    6,   52, ...,   47,    6, 3482]], dtype=int32)"
            ]
          },
          "metadata": {
            "tags": []
          },
          "execution_count": 80
        }
      ]
    },
    {
      "cell_type": "code",
      "metadata": {
        "id": "56dr5WW2ivk0",
        "colab_type": "code",
        "outputId": "0a675738-1c55-4045-9350-d6843e60cc4e",
        "colab": {
          "base_uri": "https://localhost:8080/",
          "height": 35
        }
      },
      "source": [
        "x_test[0:1,:].shape"
      ],
      "execution_count": 81,
      "outputs": [
        {
          "output_type": "execute_result",
          "data": {
            "text/plain": [
              "(1, 20)"
            ]
          },
          "metadata": {
            "tags": []
          },
          "execution_count": 81
        }
      ]
    },
    {
      "cell_type": "code",
      "metadata": {
        "id": "NX53qtvXivk6",
        "colab_type": "code",
        "outputId": "0580b472-f7b2-4cf6-ace1-51a15917ca25",
        "colab": {
          "base_uri": "https://localhost:8080/",
          "height": 1000
        }
      },
      "source": [
        "embedding_layer_model.predict(x_test[0:1,:])"
      ],
      "execution_count": 82,
      "outputs": [
        {
          "output_type": "execute_result",
          "data": {
            "text/plain": [
              "array([[[-3.34862843e-02, -1.05691232e-01,  2.66448408e-02,\n",
              "          1.41437724e-01,  6.47306889e-02, -1.54052451e-01,\n",
              "          1.60309196e-01,  1.19409576e-01,  8.21004286e-02,\n",
              "         -4.79380637e-02, -3.94492559e-02,  1.17282178e-02,\n",
              "          2.08298638e-02, -1.06348224e-01, -2.64750365e-02,\n",
              "          2.02940360e-01, -9.95476693e-02,  5.45947179e-02,\n",
              "          2.57859230e-02, -3.42274308e-01,  2.84960896e-01,\n",
              "          2.22846180e-01,  2.52790060e-02,  2.45542135e-02,\n",
              "          1.48766078e-02,  8.78482386e-02, -6.12833202e-02,\n",
              "          7.75227770e-02, -4.68959063e-02,  5.33895940e-02,\n",
              "         -8.85549858e-02, -1.28834313e-02],\n",
              "        [ 9.76081043e-02, -7.27125257e-02,  5.05042560e-02,\n",
              "         -8.03218409e-03, -6.42189831e-02,  3.25085670e-02,\n",
              "         -6.91763610e-02,  3.73789109e-02, -1.88498124e-02,\n",
              "          2.03966368e-02, -4.77204360e-02,  1.01275221e-01,\n",
              "         -1.39813535e-02, -1.78362913e-02,  6.08796068e-02,\n",
              "         -7.93932453e-02, -3.32672708e-02,  1.86202526e-02,\n",
              "         -2.19132174e-02,  6.14204779e-02, -1.22347511e-01,\n",
              "          2.38641305e-03, -2.66084280e-02, -5.75591903e-03,\n",
              "          4.35808077e-02,  1.33722350e-01,  3.52791578e-01,\n",
              "         -3.69957238e-02, -3.42835113e-02,  3.61572132e-02,\n",
              "          9.94268283e-02,  1.33485124e-01],\n",
              "        [ 6.70280904e-02,  4.73505110e-02,  3.81793007e-02,\n",
              "          4.71650474e-02,  9.06473398e-02, -9.42240283e-03,\n",
              "          9.44489613e-03,  5.30406013e-02, -3.60164829e-02,\n",
              "          9.94617194e-02, -1.62961446e-02, -3.70655544e-02,\n",
              "          2.38454938e-02, -1.03101052e-01,  5.46855032e-02,\n",
              "         -1.06306657e-01, -1.00775413e-01, -2.96157575e-03,\n",
              "         -1.10739702e-02, -2.19916627e-02, -7.08473250e-02,\n",
              "          1.06010586e-01,  1.16492510e-01, -5.86369261e-02,\n",
              "          9.18988138e-02,  6.65283352e-02,  1.32257238e-01,\n",
              "          3.57489847e-03, -7.43174832e-03, -1.56745855e-02,\n",
              "         -1.07899234e-02,  5.95479123e-02],\n",
              "        [ 1.58028938e-02, -6.44049466e-01, -2.50579491e-02,\n",
              "         -6.43240064e-02,  1.11694150e-02,  8.58908752e-05,\n",
              "         -1.12686306e-02, -3.30810584e-02, -1.73528902e-02,\n",
              "          4.45017312e-03,  1.47420941e-02, -1.32513344e-02,\n",
              "          5.98192737e-02,  1.55463284e-02, -6.75706416e-02,\n",
              "         -1.00464232e-01, -6.13624277e-03, -3.63808498e-02,\n",
              "          1.72200110e-02,  8.23791474e-02, -2.24944189e-01,\n",
              "         -6.06409647e-03,  2.84434762e-02,  1.49364294e-02,\n",
              "         -3.24289836e-02, -3.90777662e-02,  4.61126894e-01,\n",
              "          8.29320867e-03,  3.64061967e-02,  5.58518060e-02,\n",
              "         -1.32632153e-02, -4.53913361e-02],\n",
              "        [-6.86693192e-03, -9.65924636e-02, -6.16784692e-02,\n",
              "         -2.64724642e-02,  3.10724452e-02, -4.09299247e-02,\n",
              "          5.04498817e-02, -7.95743391e-02, -9.16127348e-04,\n",
              "          9.81868133e-02,  3.30317691e-02, -1.43413041e-02,\n",
              "          9.48370695e-02,  3.43833528e-02, -5.96364960e-02,\n",
              "         -9.74399410e-03,  2.85664424e-02, -7.48651996e-02,\n",
              "         -2.96556223e-02, -1.80134941e-02,  2.08364590e-03,\n",
              "          2.27464605e-02,  2.39485670e-02,  5.12103960e-02,\n",
              "         -7.13596940e-02, -8.61333963e-03,  1.50962681e-01,\n",
              "         -9.02043469e-03,  2.78780665e-02, -5.65741174e-02,\n",
              "         -3.72166783e-02, -3.08431108e-02],\n",
              "        [ 7.90272839e-03, -5.11326849e-01, -4.88511566e-03,\n",
              "         -5.63485269e-03, -3.12415194e-02,  2.94337925e-02,\n",
              "         -5.82099929e-02,  7.54815340e-03,  1.18243201e-02,\n",
              "          8.34307168e-03,  2.53135315e-03,  1.91412158e-02,\n",
              "         -5.61219156e-02, -4.63491380e-02, -1.40153465e-03,\n",
              "         -6.13194071e-02,  3.02063208e-03,  9.70377121e-03,\n",
              "          2.10467819e-02,  6.88543096e-02, -1.28447115e-01,\n",
              "         -3.42080556e-02,  4.26434875e-02, -1.27693815e-02,\n",
              "         -1.17408959e-02, -2.51650643e-02,  3.36645573e-01,\n",
              "          1.48097519e-02, -2.06087437e-02,  3.88892666e-02,\n",
              "          4.24621999e-02,  3.64672802e-02],\n",
              "        [-8.76136497e-02, -2.33694129e-02, -8.66599008e-02,\n",
              "         -5.68809584e-02, -1.08485520e-01, -1.20266844e-02,\n",
              "         -1.56342745e-01, -1.49704680e-01,  1.12744391e-01,\n",
              "         -9.96652544e-02, -2.09828056e-02,  8.14478472e-02,\n",
              "          1.04284182e-01,  4.20078076e-02,  1.41309770e-02,\n",
              "          1.47477433e-01,  1.03067391e-01,  7.64773553e-03,\n",
              "          1.22573450e-01,  9.84381959e-02,  1.06127903e-01,\n",
              "         -1.37696072e-01, -5.03733344e-02,  2.85776425e-02,\n",
              "         -1.56194493e-01, -9.11897495e-02, -3.02023254e-02,\n",
              "          8.78007337e-03,  1.13942102e-01, -6.05579987e-02,\n",
              "         -4.63176854e-02, -1.42816558e-01],\n",
              "        [ 7.15293735e-02, -2.63476580e-01, -8.93064076e-04,\n",
              "         -5.30713610e-02,  2.23465078e-02,  3.88115011e-02,\n",
              "          5.71766980e-02, -3.11416890e-02, -1.67397335e-02,\n",
              "          6.65809438e-02,  3.08422334e-02, -7.05496371e-02,\n",
              "         -2.23491918e-02,  9.15105455e-03,  2.42998935e-02,\n",
              "         -2.03920398e-02, -4.47636656e-02, -1.25536043e-02,\n",
              "         -6.54468536e-02, -6.11871369e-02, -1.30633742e-01,\n",
              "          7.34229684e-02,  1.02861726e-03,  4.40470502e-02,\n",
              "          4.07541124e-03,  6.69722706e-02,  2.96586335e-01,\n",
              "          1.20990034e-02,  1.73468550e-04,  2.02752054e-02,\n",
              "          7.31336921e-02, -1.61811523e-02],\n",
              "        [ 7.15293735e-02, -2.63476580e-01, -8.93064076e-04,\n",
              "         -5.30713610e-02,  2.23465078e-02,  3.88115011e-02,\n",
              "          5.71766980e-02, -3.11416890e-02, -1.67397335e-02,\n",
              "          6.65809438e-02,  3.08422334e-02, -7.05496371e-02,\n",
              "         -2.23491918e-02,  9.15105455e-03,  2.42998935e-02,\n",
              "         -2.03920398e-02, -4.47636656e-02, -1.25536043e-02,\n",
              "         -6.54468536e-02, -6.11871369e-02, -1.30633742e-01,\n",
              "          7.34229684e-02,  1.02861726e-03,  4.40470502e-02,\n",
              "          4.07541124e-03,  6.69722706e-02,  2.96586335e-01,\n",
              "          1.20990034e-02,  1.73468550e-04,  2.02752054e-02,\n",
              "          7.31336921e-02, -1.61811523e-02],\n",
              "        [-2.90887542e-02, -3.81979585e-01, -4.91637327e-02,\n",
              "         -6.40569478e-02, -7.42953410e-03,  8.89440905e-03,\n",
              "         -1.84864663e-02, -1.03558451e-02, -4.67409864e-02,\n",
              "          2.85265176e-03, -1.84360612e-02, -2.70336010e-02,\n",
              "          9.68810171e-03,  1.62749700e-02,  6.17455225e-03,\n",
              "         -2.36816835e-02,  5.08430265e-02,  9.54045262e-03,\n",
              "         -4.03647963e-03, -8.77404213e-03, -1.33268803e-01,\n",
              "          3.13320383e-03,  1.94802936e-02, -3.55380177e-02,\n",
              "          4.48856466e-02,  4.52586301e-02,  2.49765933e-01,\n",
              "          1.10071637e-02, -1.03446944e-02, -4.00316715e-03,\n",
              "         -1.70183964e-02,  3.34041789e-02],\n",
              "        [-2.90887542e-02, -3.81979585e-01, -4.91637327e-02,\n",
              "         -6.40569478e-02, -7.42953410e-03,  8.89440905e-03,\n",
              "         -1.84864663e-02, -1.03558451e-02, -4.67409864e-02,\n",
              "          2.85265176e-03, -1.84360612e-02, -2.70336010e-02,\n",
              "          9.68810171e-03,  1.62749700e-02,  6.17455225e-03,\n",
              "         -2.36816835e-02,  5.08430265e-02,  9.54045262e-03,\n",
              "         -4.03647963e-03, -8.77404213e-03, -1.33268803e-01,\n",
              "          3.13320383e-03,  1.94802936e-02, -3.55380177e-02,\n",
              "          4.48856466e-02,  4.52586301e-02,  2.49765933e-01,\n",
              "          1.10071637e-02, -1.03446944e-02, -4.00316715e-03,\n",
              "         -1.70183964e-02,  3.34041789e-02],\n",
              "        [ 3.65600698e-02, -2.51463473e-01, -7.47199431e-02,\n",
              "         -1.12081267e-01, -8.94118920e-02,  3.66482660e-02,\n",
              "         -2.60684732e-02, -1.25357676e-02, -2.87361778e-02,\n",
              "         -4.83947359e-02,  3.62541415e-02,  2.32805591e-02,\n",
              "         -3.96000668e-02,  3.74447480e-02, -8.04906562e-02,\n",
              "         -1.49606792e-02,  2.08702218e-02,  1.59790099e-03,\n",
              "          3.82130519e-02,  3.79755460e-02, -9.92605537e-02,\n",
              "         -5.17408513e-02, -7.48975202e-02,  5.16709983e-02,\n",
              "         -7.26373941e-02, -2.77077965e-02,  2.16305718e-01,\n",
              "         -4.46127281e-02,  4.53662835e-02, -1.98764838e-02,\n",
              "          5.18856794e-02,  1.17868390e-02],\n",
              "        [-1.82689801e-02, -5.51615298e-01, -1.74516421e-02,\n",
              "         -1.12761386e-01, -2.13257372e-02,  4.07189429e-02,\n",
              "          8.82869214e-03,  5.89765646e-02, -2.37631723e-02,\n",
              "         -1.39776161e-02, -6.28800914e-02,  3.66786569e-02,\n",
              "         -1.73338782e-02,  4.81124632e-02, -1.51392687e-02,\n",
              "         -3.73695418e-02,  2.82017980e-03, -4.85680392e-03,\n",
              "          7.02619404e-02,  3.66333425e-02, -2.12364808e-01,\n",
              "          2.59644110e-02,  7.70876417e-03, -2.81826090e-02,\n",
              "         -4.22679707e-02, -1.81514267e-02,  4.43633556e-01,\n",
              "         -4.96706553e-03,  5.96962795e-02,  2.11875774e-02,\n",
              "          7.83145949e-02,  1.62734091e-02],\n",
              "        [ 1.12283431e-01,  1.67827338e-01,  4.66101840e-02,\n",
              "          7.59607181e-02,  1.73941717e-01, -8.98230001e-02,\n",
              "          2.55973577e-01,  3.27777229e-02, -5.23424372e-02,\n",
              "          2.04568237e-01,  2.00929306e-02,  7.52063701e-03,\n",
              "         -5.52679859e-02, -1.02881022e-01,  3.89436670e-02,\n",
              "         -5.26017556e-03, -2.48143166e-01,  7.86797777e-02,\n",
              "         -2.62713194e-01, -1.94928691e-01, -1.15586862e-01,\n",
              "          2.60533512e-01,  1.42866731e-01, -3.41887139e-02,\n",
              "          8.25398564e-02,  1.58721104e-01,  8.35330982e-04,\n",
              "          1.34028822e-01, -3.77888456e-02,  4.95057330e-02,\n",
              "         -2.98945047e-02,  3.26395035e-02],\n",
              "        [ 4.16866550e-03, -4.61176962e-01,  1.87525470e-02,\n",
              "         -6.86791539e-02, -8.03268924e-02,  1.59368571e-02,\n",
              "         -3.76986675e-02, -2.71397457e-02, -6.73285276e-02,\n",
              "          5.95824420e-02,  5.40061481e-03, -3.21757910e-03,\n",
              "          2.44346466e-02,  7.77536724e-03,  5.25941048e-03,\n",
              "          2.38445885e-02,  2.75320094e-02,  1.50935333e-02,\n",
              "         -5.47677092e-02,  1.05532885e-01, -6.17773384e-02,\n",
              "         -7.32873157e-02, -2.91206893e-02,  5.07612191e-02,\n",
              "         -5.12969270e-02, -2.09860038e-02,  3.02746922e-01,\n",
              "          2.22076681e-02,  6.76159859e-02, -3.26463720e-03,\n",
              "          3.76302912e-03,  1.24353794e-02],\n",
              "        [-1.82689801e-02, -5.51615298e-01, -1.74516421e-02,\n",
              "         -1.12761386e-01, -2.13257372e-02,  4.07189429e-02,\n",
              "          8.82869214e-03,  5.89765646e-02, -2.37631723e-02,\n",
              "         -1.39776161e-02, -6.28800914e-02,  3.66786569e-02,\n",
              "         -1.73338782e-02,  4.81124632e-02, -1.51392687e-02,\n",
              "         -3.73695418e-02,  2.82017980e-03, -4.85680392e-03,\n",
              "          7.02619404e-02,  3.66333425e-02, -2.12364808e-01,\n",
              "          2.59644110e-02,  7.70876417e-03, -2.81826090e-02,\n",
              "         -4.22679707e-02, -1.81514267e-02,  4.43633556e-01,\n",
              "         -4.96706553e-03,  5.96962795e-02,  2.11875774e-02,\n",
              "          7.83145949e-02,  1.62734091e-02],\n",
              "        [ 1.51723791e-02, -2.95192182e-01,  8.54283199e-03,\n",
              "         -1.07901745e-01,  6.82355165e-02,  3.15758735e-02,\n",
              "         -5.90773821e-02, -4.63319756e-02, -9.46879312e-02,\n",
              "          3.29117253e-02,  2.81009525e-02, -1.50058893e-02,\n",
              "         -4.43651639e-02,  2.81518344e-02,  3.85736078e-02,\n",
              "         -6.81081116e-02,  7.34331906e-02,  4.76482697e-02,\n",
              "          4.61825915e-02, -1.07475473e-02, -1.98795691e-01,\n",
              "         -4.56263386e-02,  3.64097357e-02, -4.66012536e-03,\n",
              "         -3.88809852e-02, -5.93530573e-02,  1.16418585e-01,\n",
              "          5.23366965e-02, -2.99090836e-02,  6.49230182e-02,\n",
              "          5.56350462e-02,  1.20770767e-01],\n",
              "        [-3.80006200e-03,  2.34256789e-01,  2.88639635e-01,\n",
              "          2.56067187e-01,  3.90778296e-02, -2.55338222e-01,\n",
              "          3.04450005e-01,  2.51734704e-01,  1.41478851e-01,\n",
              "         -1.18926233e-02, -2.24427640e-01, -1.99394271e-01,\n",
              "         -2.41553858e-02, -2.07941756e-01,  3.10550600e-01,\n",
              "          3.75763793e-03, -2.40592316e-01,  2.65777260e-01,\n",
              "          9.28573459e-02, -2.41743147e-01,  1.02758497e-01,\n",
              "          2.19565883e-01,  2.88215965e-01, -1.97833762e-01,\n",
              "          1.84719473e-01, -9.21234861e-03, -2.00280324e-01,\n",
              "          2.59216279e-01, -2.24155694e-01,  3.03995848e-01,\n",
              "         -1.02491155e-01,  4.85304520e-02],\n",
              "        [ 1.44826785e-01,  2.55430132e-01,  3.23541224e-01,\n",
              "          2.00225815e-01,  1.35334656e-01, -1.01508163e-02,\n",
              "          1.22326076e-01,  2.98023790e-01, -3.39221328e-01,\n",
              "         -9.08416510e-02, -3.35000545e-01,  1.04995131e-01,\n",
              "         -4.98455375e-01, -1.99535117e-01,  2.92735457e-01,\n",
              "         -2.11214781e-01, -1.51470199e-01,  3.19299966e-01,\n",
              "         -1.06550634e-01,  2.65005022e-01, -1.41998813e-01,\n",
              "         -2.18517974e-01,  1.61813110e-01, -2.00239882e-01,\n",
              "          4.23923045e-01,  3.08881342e-01,  5.99530786e-02,\n",
              "          1.67674005e-01, -4.51781988e-01,  2.46878356e-01,\n",
              "          3.89307916e-01,  3.20855767e-01],\n",
              "        [ 9.41978619e-02, -1.77984700e-01,  3.26391421e-02,\n",
              "         -4.90634851e-02, -2.44692061e-03, -3.68142202e-02,\n",
              "          5.51107153e-03, -8.76438543e-02, -2.64138076e-02,\n",
              "          2.20614504e-02,  3.00113633e-02, -5.72569929e-02,\n",
              "         -7.33455718e-02,  2.21697241e-03, -4.11541574e-02,\n",
              "          5.14931220e-04, -5.04425280e-02, -5.44263273e-02,\n",
              "         -7.41560087e-02,  4.82547581e-02, -8.45818371e-02,\n",
              "         -1.30666383e-02, -9.61426646e-03,  1.04238996e-02,\n",
              "         -3.98381473e-03,  1.92868300e-02,  1.83940604e-01,\n",
              "          3.47787961e-02,  2.01633237e-02,  6.04377016e-02,\n",
              "          3.70912440e-02,  3.94888297e-02]]], dtype=float32)"
            ]
          },
          "metadata": {
            "tags": []
          },
          "execution_count": 82
        }
      ]
    },
    {
      "cell_type": "code",
      "metadata": {
        "id": "w7R_ya2Tivk-",
        "colab_type": "code",
        "colab": {}
      },
      "source": [
        "flatten_layer_model = Model(inputs = model.input, outputs= model.get_layer('dense_6').output)"
      ],
      "execution_count": 0,
      "outputs": []
    },
    {
      "cell_type": "code",
      "metadata": {
        "id": "mk82YQxXivlC",
        "colab_type": "code",
        "outputId": "4c372aca-a5d6-440e-b5b9-17c0e3ed2632",
        "colab": {
          "base_uri": "https://localhost:8080/",
          "height": 35
        }
      },
      "source": [
        "flatten_layer_model.predict(x_test[0:1,:])"
      ],
      "execution_count": 84,
      "outputs": [
        {
          "output_type": "execute_result",
          "data": {
            "text/plain": [
              "array([[0.02155217]], dtype=float32)"
            ]
          },
          "metadata": {
            "tags": []
          },
          "execution_count": 84
        }
      ]
    },
    {
      "cell_type": "code",
      "metadata": {
        "id": "MNTerszPivlG",
        "colab_type": "code",
        "colab": {}
      },
      "source": [
        ""
      ],
      "execution_count": 0,
      "outputs": []
    }
  ]
}