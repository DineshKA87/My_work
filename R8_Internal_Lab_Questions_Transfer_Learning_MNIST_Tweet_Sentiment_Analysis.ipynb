{
  "nbformat": 4,
  "nbformat_minor": 0,
  "metadata": {
    "colab": {
      "name": "R8_Internal_Lab_Questions_Transfer_Learning_MNIST_Tweet_Sentiment_Analysis.ipynb",
      "version": "0.3.2",
      "provenance": [],
      "collapsed_sections": []
    },
    "kernelspec": {
      "name": "python3",
      "display_name": "Python 3"
    },
    "accelerator": "GPU"
  },
  "cells": [
    {
      "cell_type": "markdown",
      "metadata": {
        "colab_type": "text",
        "id": "NFfDTfhlaEI_"
      },
      "source": [
        "# Transfer Learning MNIST"
      ]
    },
    {
      "cell_type": "markdown",
      "metadata": {
        "colab_type": "text",
        "id": "rNwbqCFRaEJC"
      },
      "source": [
        "* Train a simple convnet on the MNIST dataset the first 5 digits [0..4].\n",
        "* Freeze convolutional layers and fine-tune dense layers for the classification of digits [5..9]."
      ]
    },
    {
      "cell_type": "markdown",
      "metadata": {
        "colab_type": "text",
        "id": "YUB1uDW_8XIy"
      },
      "source": [
        "## 1. Import necessary libraries for the model"
      ]
    },
    {
      "cell_type": "code",
      "metadata": {
        "colab_type": "code",
        "id": "Rsj4t5HTaEJE",
        "colab": {}
      },
      "source": [
        "from IPython.core.interactiveshell import InteractiveShell\n",
        "InteractiveShell.ast_node_interactivity = \"all\""
      ],
      "execution_count": 0,
      "outputs": []
    },
    {
      "cell_type": "code",
      "metadata": {
        "id": "PxljzrfY_h_S",
        "colab_type": "code",
        "colab": {}
      },
      "source": [
        "import numpy as np\n",
        "import tensorflow as tf\n",
        "from keras.models import Sequential\n",
        "from keras.layers import Dense\n",
        "from keras.layers import Dropout\n",
        "from keras.layers import Flatten\n",
        "from keras.layers.normalization import BatchNormalization\n",
        "from keras.layers.convolutional import Conv2D\n",
        "from keras.layers.convolutional import MaxPooling2D\n",
        "from keras.layers.core import Activation\n",
        "from keras.constraints import maxnorm\n",
        "from keras.optimizers import SGD\n",
        "from keras.utils import np_utils\n",
        "\n",
        "import numpy as np\n",
        "import keras\n",
        "import tensorflow as tf\n",
        "import matplotlib.pyplot as plt\n",
        "% matplotlib inline\n",
        "from keras.models import Model"
      ],
      "execution_count": 0,
      "outputs": []
    },
    {
      "cell_type": "markdown",
      "metadata": {
        "colab_type": "text",
        "id": "IXrn3heBaEJa"
      },
      "source": [
        "## 2. Import MNIST data and create 2 datasets with one dataset having digits from 0 to 4 and other from 5 to 9 "
      ]
    },
    {
      "cell_type": "code",
      "metadata": {
        "colab_type": "code",
        "id": "pjDuiK6ztgOK",
        "colab": {}
      },
      "source": [
        "from keras.datasets import mnist\n",
        "(x_train, y_train), (x_test, y_test) = mnist.load_data()"
      ],
      "execution_count": 0,
      "outputs": []
    },
    {
      "cell_type": "code",
      "metadata": {
        "id": "BOtujg1CHNKI",
        "colab_type": "code",
        "colab": {}
      },
      "source": [
        "#Creating a dataset for digits 0-4\n",
        "x_train_1 = x_train[y_train < 5]\n",
        "y_train_1 = y_train[y_train < 5]\n",
        "x_test_1 = x_test[y_test < 5]\n",
        "y_test_1 = y_test[y_test < 5]"
      ],
      "execution_count": 0,
      "outputs": []
    },
    {
      "cell_type": "code",
      "metadata": {
        "id": "sTJYvSDQHdqa",
        "colab_type": "code",
        "colab": {}
      },
      "source": [
        "#Creating a dataset for digits 5-9\n",
        "x_train_2 = x_train[y_train >= 5]\n",
        "y_train_2 = y_train[y_train >= 5]-5\n",
        "x_test_2 = x_test[y_test >= 5]\n",
        "y_test_2 = y_test[y_test >= 5]-5"
      ],
      "execution_count": 0,
      "outputs": []
    },
    {
      "cell_type": "markdown",
      "metadata": {
        "colab_type": "text",
        "id": "9qU14lYL9A5g"
      },
      "source": [
        "## 3. Print x_train, y_train, x_test and y_test for both the datasets"
      ]
    },
    {
      "cell_type": "code",
      "metadata": {
        "colab_type": "code",
        "id": "Z9OrszhJ0SgJ",
        "outputId": "219951d7-ea04-4ab6-d041-c395a1e0e34b",
        "colab": {
          "base_uri": "https://localhost:8080/",
          "height": 1785
        }
      },
      "source": [
        "print('x_train for digits 0-4 \\n',x_train_1)\n",
        "print('y_train for digits 0-4 \\n',y_train_1)\n",
        "print('x_test for digits 0-4 \\n',x_test_1)\n",
        "print('y_test for digits 0-4 \\n',y_test_1)"
      ],
      "execution_count": 109,
      "outputs": [
        {
          "output_type": "stream",
          "text": [
            "x_train for digits 0-4 \n",
            " [[[0 0 0 ... 0 0 0]\n",
            "  [0 0 0 ... 0 0 0]\n",
            "  [0 0 0 ... 0 0 0]\n",
            "  ...\n",
            "  [0 0 0 ... 0 0 0]\n",
            "  [0 0 0 ... 0 0 0]\n",
            "  [0 0 0 ... 0 0 0]]\n",
            "\n",
            " [[0 0 0 ... 0 0 0]\n",
            "  [0 0 0 ... 0 0 0]\n",
            "  [0 0 0 ... 0 0 0]\n",
            "  ...\n",
            "  [0 0 0 ... 0 0 0]\n",
            "  [0 0 0 ... 0 0 0]\n",
            "  [0 0 0 ... 0 0 0]]\n",
            "\n",
            " [[0 0 0 ... 0 0 0]\n",
            "  [0 0 0 ... 0 0 0]\n",
            "  [0 0 0 ... 0 0 0]\n",
            "  ...\n",
            "  [0 0 0 ... 0 0 0]\n",
            "  [0 0 0 ... 0 0 0]\n",
            "  [0 0 0 ... 0 0 0]]\n",
            "\n",
            " ...\n",
            "\n",
            " [[0 0 0 ... 0 0 0]\n",
            "  [0 0 0 ... 0 0 0]\n",
            "  [0 0 0 ... 0 0 0]\n",
            "  ...\n",
            "  [0 0 0 ... 0 0 0]\n",
            "  [0 0 0 ... 0 0 0]\n",
            "  [0 0 0 ... 0 0 0]]\n",
            "\n",
            " [[0 0 0 ... 0 0 0]\n",
            "  [0 0 0 ... 0 0 0]\n",
            "  [0 0 0 ... 0 0 0]\n",
            "  ...\n",
            "  [0 0 0 ... 0 0 0]\n",
            "  [0 0 0 ... 0 0 0]\n",
            "  [0 0 0 ... 0 0 0]]\n",
            "\n",
            " [[0 0 0 ... 0 0 0]\n",
            "  [0 0 0 ... 0 0 0]\n",
            "  [0 0 0 ... 0 0 0]\n",
            "  ...\n",
            "  [0 0 0 ... 0 0 0]\n",
            "  [0 0 0 ... 0 0 0]\n",
            "  [0 0 0 ... 0 0 0]]]\n",
            "y_train for digits 0-4 \n",
            " [0 4 1 ... 2 1 3]\n",
            "x_test for digits 0-4 \n",
            " [[[0 0 0 ... 0 0 0]\n",
            "  [0 0 0 ... 0 0 0]\n",
            "  [0 0 0 ... 0 0 0]\n",
            "  ...\n",
            "  [0 0 0 ... 0 0 0]\n",
            "  [0 0 0 ... 0 0 0]\n",
            "  [0 0 0 ... 0 0 0]]\n",
            "\n",
            " [[0 0 0 ... 0 0 0]\n",
            "  [0 0 0 ... 0 0 0]\n",
            "  [0 0 0 ... 0 0 0]\n",
            "  ...\n",
            "  [0 0 0 ... 0 0 0]\n",
            "  [0 0 0 ... 0 0 0]\n",
            "  [0 0 0 ... 0 0 0]]\n",
            "\n",
            " [[0 0 0 ... 0 0 0]\n",
            "  [0 0 0 ... 0 0 0]\n",
            "  [0 0 0 ... 0 0 0]\n",
            "  ...\n",
            "  [0 0 0 ... 0 0 0]\n",
            "  [0 0 0 ... 0 0 0]\n",
            "  [0 0 0 ... 0 0 0]]\n",
            "\n",
            " ...\n",
            "\n",
            " [[0 0 0 ... 0 0 0]\n",
            "  [0 0 0 ... 0 0 0]\n",
            "  [0 0 0 ... 0 0 0]\n",
            "  ...\n",
            "  [0 0 0 ... 0 0 0]\n",
            "  [0 0 0 ... 0 0 0]\n",
            "  [0 0 0 ... 0 0 0]]\n",
            "\n",
            " [[0 0 0 ... 0 0 0]\n",
            "  [0 0 0 ... 0 0 0]\n",
            "  [0 0 0 ... 0 0 0]\n",
            "  ...\n",
            "  [0 0 0 ... 0 0 0]\n",
            "  [0 0 0 ... 0 0 0]\n",
            "  [0 0 0 ... 0 0 0]]\n",
            "\n",
            " [[0 0 0 ... 0 0 0]\n",
            "  [0 0 0 ... 0 0 0]\n",
            "  [0 0 0 ... 0 0 0]\n",
            "  ...\n",
            "  [0 0 0 ... 0 0 0]\n",
            "  [0 0 0 ... 0 0 0]\n",
            "  [0 0 0 ... 0 0 0]]]\n",
            "y_test for digits 0-4 \n",
            " [2 1 0 ... 2 3 4]\n"
          ],
          "name": "stdout"
        }
      ]
    },
    {
      "cell_type": "code",
      "metadata": {
        "id": "Qxu8uN6pI9n9",
        "colab_type": "code",
        "outputId": "4f7fc3e0-697c-49f4-c37f-08c822985153",
        "colab": {
          "base_uri": "https://localhost:8080/",
          "height": 1785
        }
      },
      "source": [
        "print('x_train for digits 5-9 \\n',x_train_2)\n",
        "print('y_train for digits 5-9 \\n',y_train_2)\n",
        "print('x_test for digits 5-9 \\n',x_test_2)\n",
        "print('y_test for digits 5-9 \\n',y_test_2)"
      ],
      "execution_count": 110,
      "outputs": [
        {
          "output_type": "stream",
          "text": [
            "x_train for digits 5-9 \n",
            " [[[0 0 0 ... 0 0 0]\n",
            "  [0 0 0 ... 0 0 0]\n",
            "  [0 0 0 ... 0 0 0]\n",
            "  ...\n",
            "  [0 0 0 ... 0 0 0]\n",
            "  [0 0 0 ... 0 0 0]\n",
            "  [0 0 0 ... 0 0 0]]\n",
            "\n",
            " [[0 0 0 ... 0 0 0]\n",
            "  [0 0 0 ... 0 0 0]\n",
            "  [0 0 0 ... 0 0 0]\n",
            "  ...\n",
            "  [0 0 0 ... 0 0 0]\n",
            "  [0 0 0 ... 0 0 0]\n",
            "  [0 0 0 ... 0 0 0]]\n",
            "\n",
            " [[0 0 0 ... 0 0 0]\n",
            "  [0 0 0 ... 0 0 0]\n",
            "  [0 0 0 ... 0 0 0]\n",
            "  ...\n",
            "  [0 0 0 ... 0 0 0]\n",
            "  [0 0 0 ... 0 0 0]\n",
            "  [0 0 0 ... 0 0 0]]\n",
            "\n",
            " ...\n",
            "\n",
            " [[0 0 0 ... 0 0 0]\n",
            "  [0 0 0 ... 0 0 0]\n",
            "  [0 0 0 ... 0 0 0]\n",
            "  ...\n",
            "  [0 0 0 ... 0 0 0]\n",
            "  [0 0 0 ... 0 0 0]\n",
            "  [0 0 0 ... 0 0 0]]\n",
            "\n",
            " [[0 0 0 ... 0 0 0]\n",
            "  [0 0 0 ... 0 0 0]\n",
            "  [0 0 0 ... 0 0 0]\n",
            "  ...\n",
            "  [0 0 0 ... 0 0 0]\n",
            "  [0 0 0 ... 0 0 0]\n",
            "  [0 0 0 ... 0 0 0]]\n",
            "\n",
            " [[0 0 0 ... 0 0 0]\n",
            "  [0 0 0 ... 0 0 0]\n",
            "  [0 0 0 ... 0 0 0]\n",
            "  ...\n",
            "  [0 0 0 ... 0 0 0]\n",
            "  [0 0 0 ... 0 0 0]\n",
            "  [0 0 0 ... 0 0 0]]]\n",
            "y_train for digits 5-9 \n",
            " [0 4 0 ... 0 1 3]\n",
            "x_test for digits 5-9 \n",
            " [[[0 0 0 ... 0 0 0]\n",
            "  [0 0 0 ... 0 0 0]\n",
            "  [0 0 0 ... 0 0 0]\n",
            "  ...\n",
            "  [0 0 0 ... 0 0 0]\n",
            "  [0 0 0 ... 0 0 0]\n",
            "  [0 0 0 ... 0 0 0]]\n",
            "\n",
            " [[0 0 0 ... 0 0 0]\n",
            "  [0 0 0 ... 0 0 0]\n",
            "  [0 0 0 ... 0 0 0]\n",
            "  ...\n",
            "  [0 0 0 ... 0 0 0]\n",
            "  [0 0 0 ... 0 0 0]\n",
            "  [0 0 0 ... 0 0 0]]\n",
            "\n",
            " [[0 0 0 ... 0 0 0]\n",
            "  [0 0 0 ... 0 0 0]\n",
            "  [0 0 0 ... 0 0 0]\n",
            "  ...\n",
            "  [0 0 0 ... 0 0 0]\n",
            "  [0 0 0 ... 0 0 0]\n",
            "  [0 0 0 ... 0 0 0]]\n",
            "\n",
            " ...\n",
            "\n",
            " [[0 0 0 ... 0 0 0]\n",
            "  [0 0 0 ... 0 0 0]\n",
            "  [0 0 0 ... 0 0 0]\n",
            "  ...\n",
            "  [0 0 0 ... 0 0 0]\n",
            "  [0 0 0 ... 0 0 0]\n",
            "  [0 0 0 ... 0 0 0]]\n",
            "\n",
            " [[0 0 0 ... 0 0 0]\n",
            "  [0 0 0 ... 0 0 0]\n",
            "  [0 0 0 ... 0 0 0]\n",
            "  ...\n",
            "  [0 0 0 ... 0 0 0]\n",
            "  [0 0 0 ... 0 0 0]\n",
            "  [0 0 0 ... 0 0 0]]\n",
            "\n",
            " [[0 0 0 ... 0 0 0]\n",
            "  [0 0 0 ... 0 0 0]\n",
            "  [0 0 0 ... 0 0 0]\n",
            "  ...\n",
            "  [0 0 0 ... 0 0 0]\n",
            "  [0 0 0 ... 0 0 0]\n",
            "  [0 0 0 ... 0 0 0]]]\n",
            "y_test for digits 5-9 \n",
            " [2 4 0 ... 4 0 1]\n"
          ],
          "name": "stdout"
        }
      ]
    },
    {
      "cell_type": "markdown",
      "metadata": {
        "colab_type": "text",
        "id": "cB9BPFzr9oDF"
      },
      "source": [
        "## ** 4. Let us take only the dataset (x_train, y_train, x_test, y_test) for Integers 0 to 4 in MNIST **\n",
        "## Reshape x_train and x_test to a 4 Dimensional array (channel = 1) to pass it into a Conv2D layer"
      ]
    },
    {
      "cell_type": "code",
      "metadata": {
        "colab_type": "code",
        "id": "FlQRPfFzaEJx",
        "colab": {}
      },
      "source": [
        "#reshaping\n",
        "x_train_1 = x_train_1.reshape(x_train_1.shape[0], 28, 28, 1)\n",
        "x_test_1 = x_test_1.reshape(x_test_1.shape[0], 28, 28, 1)"
      ],
      "execution_count": 0,
      "outputs": []
    },
    {
      "cell_type": "code",
      "metadata": {
        "id": "ZSK0-t0IeC2j",
        "colab_type": "code",
        "colab": {}
      },
      "source": [
        "#reshaping\n",
        "x_train_2 = x_train_2.reshape(x_train_2.shape[0], 28, 28, 1)\n",
        "x_test_2 = x_test_2.reshape(x_test_2.shape[0], 28, 28, 1)"
      ],
      "execution_count": 0,
      "outputs": []
    },
    {
      "cell_type": "markdown",
      "metadata": {
        "colab_type": "text",
        "id": "jLQr-b3F-hw8"
      },
      "source": [
        "## 5. Normalize x_train and x_test by dividing it by 255"
      ]
    },
    {
      "cell_type": "code",
      "metadata": {
        "colab_type": "code",
        "id": "PlEZIAG5-g2I",
        "colab": {}
      },
      "source": [
        "#Normalizing Data\n",
        "x_train_1 = x_train_1.astype('float32')\n",
        "x_test_1 = x_test_1.astype('float32')\n",
        "x_train_1 = x_train_1 / 255.0\n",
        "x_test_1 = x_test_1 / 255.0\n"
      ],
      "execution_count": 0,
      "outputs": []
    },
    {
      "cell_type": "code",
      "metadata": {
        "id": "hqGTCfW-eKf5",
        "colab_type": "code",
        "colab": {}
      },
      "source": [
        "#Normalizing Data\n",
        "x_train_2 = x_train_2.astype('float32')\n",
        "x_test_2 = x_test_2.astype('float32')\n",
        "x_train_2 = x_train_2 / 255.0\n",
        "x_test_2 = x_test_2 / 255.0"
      ],
      "execution_count": 0,
      "outputs": []
    },
    {
      "cell_type": "markdown",
      "metadata": {
        "colab_type": "text",
        "id": "pytVBaw4-vMi"
      },
      "source": [
        "## 6. Use One-hot encoding to divide y_train and y_test into required no of output classes"
      ]
    },
    {
      "cell_type": "code",
      "metadata": {
        "colab_type": "code",
        "id": "V48xiua4-uUi",
        "colab": {}
      },
      "source": [
        "\n",
        "y_train_2 = np_utils.to_categorical(y_train_2)\n",
        "y_test_2 = np_utils.to_categorical(y_test_2)"
      ],
      "execution_count": 0,
      "outputs": []
    },
    {
      "cell_type": "code",
      "metadata": {
        "id": "b18_jnoqeSXJ",
        "colab_type": "code",
        "colab": {}
      },
      "source": [
        "\n",
        "y_train_1 = np_utils.to_categorical(y_train_1)\n",
        "y_test_1 = np_utils.to_categorical(y_test_1)"
      ],
      "execution_count": 0,
      "outputs": []
    },
    {
      "cell_type": "code",
      "metadata": {
        "id": "z6pbeBWdKftI",
        "colab_type": "code",
        "outputId": "f9e90d73-7318-48c7-afe1-91d4b4ce5479",
        "colab": {
          "base_uri": "https://localhost:8080/",
          "height": 34
        }
      },
      "source": [
        " np.unique(y_train_1)\n",
        "y_train_1.shape"
      ],
      "execution_count": 117,
      "outputs": [
        {
          "output_type": "execute_result",
          "data": {
            "text/plain": [
              "array([0., 1.], dtype=float32)"
            ]
          },
          "metadata": {
            "tags": []
          },
          "execution_count": 117
        },
        {
          "output_type": "execute_result",
          "data": {
            "text/plain": [
              "(30596, 5)"
            ]
          },
          "metadata": {
            "tags": []
          },
          "execution_count": 117
        }
      ]
    },
    {
      "cell_type": "code",
      "metadata": {
        "id": "w3U3chY0i68q",
        "colab_type": "code",
        "colab": {
          "base_uri": "https://localhost:8080/",
          "height": 34
        },
        "outputId": "6f1ad6fa-1aaa-4065-f271-f81eb36a7a97"
      },
      "source": [
        "np.unique(y_train_2)\n",
        "y_train_2.shape"
      ],
      "execution_count": 118,
      "outputs": [
        {
          "output_type": "execute_result",
          "data": {
            "text/plain": [
              "array([0., 1.], dtype=float32)"
            ]
          },
          "metadata": {
            "tags": []
          },
          "execution_count": 118
        },
        {
          "output_type": "execute_result",
          "data": {
            "text/plain": [
              "(29404, 5)"
            ]
          },
          "metadata": {
            "tags": []
          },
          "execution_count": 118
        }
      ]
    },
    {
      "cell_type": "code",
      "metadata": {
        "id": "4YjLKp1NW-eb",
        "colab_type": "code",
        "colab": {}
      },
      "source": [
        ""
      ],
      "execution_count": 0,
      "outputs": []
    },
    {
      "cell_type": "markdown",
      "metadata": {
        "colab_type": "text",
        "id": "elPkI44g_C2b"
      },
      "source": [
        "## 7. Build a sequential model with 2 Convolutional layers with 32 kernels of size (3,3) followed by a Max pooling layer of size (2,2) followed by a drop out layer to be trained for classification of digits 0-4  "
      ]
    },
    {
      "cell_type": "code",
      "metadata": {
        "colab_type": "code",
        "id": "MU09mm9F89gO",
        "colab": {}
      },
      "source": [
        "#Initialize the model\n",
        "model = Sequential()\n",
        "\n",
        "#Add a Convolutional Layer with 32 filters of size 3X3 and activation function as 'ReLU' \n",
        "model.add(Conv2D(32, kernel_size=(3, 3),\n",
        "                 activation='relu',\n",
        "                 input_shape=(28,28,1)))\n",
        "\n",
        "#Add a MaxPooling Layer of size 2X2 \n",
        "model.add(MaxPooling2D(pool_size=(2, 2)))\n",
        "\n",
        "#Apply Dropout with 0.25 probability \n",
        "model.add(Dropout(0.25))"
      ],
      "execution_count": 0,
      "outputs": []
    },
    {
      "cell_type": "markdown",
      "metadata": {
        "colab_type": "text",
        "id": "sJQaycRO_3Au"
      },
      "source": [
        "## 8. Post that flatten the data and add 2 Dense layers with 128 neurons and neurons = output classes with activation = 'relu' and 'softmax' respectively. Add dropout layer inbetween if necessary  "
      ]
    },
    {
      "cell_type": "code",
      "metadata": {
        "colab_type": "code",
        "id": "vOZeRbK7t9AT",
        "colab": {}
      },
      "source": [
        "#Flatten the layer\n",
        "model.add(Flatten())\n",
        "\n",
        "#Add Fully Connected Layer with 128 units and activation function as 'ReLU'\n",
        "model.add(Dense(128, activation='relu'))\n",
        "\n",
        "#Apply Dropout with 0.5 probability \n",
        "model.add(Dropout(0.5))\n",
        "\n",
        "#Add Fully Connected Layer with 10 units and activation function as 'softmax'\n",
        "model.add(Dense(5, activation='softmax'))"
      ],
      "execution_count": 0,
      "outputs": []
    },
    {
      "cell_type": "code",
      "metadata": {
        "id": "efNkErJfKwZg",
        "colab_type": "code",
        "outputId": "69d1e568-44c0-47ca-d062-29961abcc6c2",
        "colab": {
          "base_uri": "https://localhost:8080/",
          "height": 374
        }
      },
      "source": [
        "model.summary()"
      ],
      "execution_count": 121,
      "outputs": [
        {
          "output_type": "stream",
          "text": [
            "_________________________________________________________________\n",
            "Layer (type)                 Output Shape              Param #   \n",
            "=================================================================\n",
            "conv2d_3 (Conv2D)            (None, 26, 26, 32)        320       \n",
            "_________________________________________________________________\n",
            "max_pooling2d_3 (MaxPooling2 (None, 13, 13, 32)        0         \n",
            "_________________________________________________________________\n",
            "dropout_5 (Dropout)          (None, 13, 13, 32)        0         \n",
            "_________________________________________________________________\n",
            "flatten_3 (Flatten)          (None, 5408)              0         \n",
            "_________________________________________________________________\n",
            "dense_7 (Dense)              (None, 128)               692352    \n",
            "_________________________________________________________________\n",
            "dropout_6 (Dropout)          (None, 128)               0         \n",
            "_________________________________________________________________\n",
            "dense_8 (Dense)              (None, 5)                 645       \n",
            "=================================================================\n",
            "Total params: 693,317\n",
            "Trainable params: 693,317\n",
            "Non-trainable params: 0\n",
            "_________________________________________________________________\n"
          ],
          "name": "stdout"
        }
      ]
    },
    {
      "cell_type": "markdown",
      "metadata": {
        "colab_type": "text",
        "id": "my1P09bxAv8H"
      },
      "source": [
        "## 9. Print the training and test accuracy"
      ]
    },
    {
      "cell_type": "code",
      "metadata": {
        "id": "ttQpeE54LSvV",
        "colab_type": "code",
        "colab": {}
      },
      "source": [
        "model.compile(loss='categorical_crossentropy', optimizer=\"adam\", metrics=['accuracy'])"
      ],
      "execution_count": 0,
      "outputs": []
    },
    {
      "cell_type": "code",
      "metadata": {
        "colab_type": "code",
        "id": "yf7F8Gdutbf0",
        "outputId": "53a81039-e997-47ad-d39d-13a8168fd37f",
        "colab": {
          "base_uri": "https://localhost:8080/",
          "height": 391
        }
      },
      "source": [
        "model.fit(x_train_1, y_train_1, batch_size=40, epochs=10,validation_data=(x_test_1, y_test_1))"
      ],
      "execution_count": 124,
      "outputs": [
        {
          "output_type": "stream",
          "text": [
            "Train on 30596 samples, validate on 5139 samples\n",
            "Epoch 1/10\n",
            "30596/30596 [==============================] - 4s 124us/step - loss: 0.1032 - acc: 0.9681 - val_loss: 0.0246 - val_acc: 0.9922\n",
            "Epoch 2/10\n",
            "30596/30596 [==============================] - 3s 107us/step - loss: 0.0367 - acc: 0.9885 - val_loss: 0.0117 - val_acc: 0.9955\n",
            "Epoch 3/10\n",
            "30596/30596 [==============================] - 3s 108us/step - loss: 0.0271 - acc: 0.9916 - val_loss: 0.0118 - val_acc: 0.9963\n",
            "Epoch 4/10\n",
            "30596/30596 [==============================] - 4s 120us/step - loss: 0.0196 - acc: 0.9940 - val_loss: 0.0107 - val_acc: 0.9955\n",
            "Epoch 5/10\n",
            "30596/30596 [==============================] - 4s 127us/step - loss: 0.0166 - acc: 0.9950 - val_loss: 0.0088 - val_acc: 0.9965\n",
            "Epoch 6/10\n",
            "30596/30596 [==============================] - 4s 127us/step - loss: 0.0132 - acc: 0.9961 - val_loss: 0.0078 - val_acc: 0.9973\n",
            "Epoch 7/10\n",
            "30596/30596 [==============================] - 3s 110us/step - loss: 0.0119 - acc: 0.9960 - val_loss: 0.0076 - val_acc: 0.9975\n",
            "Epoch 8/10\n",
            "30596/30596 [==============================] - 3s 107us/step - loss: 0.0102 - acc: 0.9964 - val_loss: 0.0064 - val_acc: 0.9979\n",
            "Epoch 9/10\n",
            "30596/30596 [==============================] - 3s 107us/step - loss: 0.0089 - acc: 0.9969 - val_loss: 0.0071 - val_acc: 0.9977\n",
            "Epoch 10/10\n",
            "30596/30596 [==============================] - 3s 107us/step - loss: 0.0090 - acc: 0.9967 - val_loss: 0.0061 - val_acc: 0.9981\n"
          ],
          "name": "stdout"
        },
        {
          "output_type": "execute_result",
          "data": {
            "text/plain": [
              "<keras.callbacks.History at 0x7f57500aa208>"
            ]
          },
          "metadata": {
            "tags": []
          },
          "execution_count": 124
        }
      ]
    },
    {
      "cell_type": "code",
      "metadata": {
        "id": "iX6W8cCFLbaU",
        "colab_type": "code",
        "outputId": "3db7a581-b7a7-4f97-cd8d-a5604f221168",
        "colab": {
          "base_uri": "https://localhost:8080/",
          "height": 68
        }
      },
      "source": [
        "train_metrics = model.evaluate(x_train_1, y_train_1)\n",
        "print('Train loss:', train_metrics[0])\n",
        "print('Train accuracy:', train_metrics[1])"
      ],
      "execution_count": 125,
      "outputs": [
        {
          "output_type": "stream",
          "text": [
            "30596/30596 [==============================] - 1s 45us/step\n",
            "Train loss: 0.0013721625391915437\n",
            "Train accuracy: 0.9996731598901817\n"
          ],
          "name": "stdout"
        }
      ]
    },
    {
      "cell_type": "code",
      "metadata": {
        "id": "nXRE1Zr0LbN5",
        "colab_type": "code",
        "outputId": "e8f702f6-9ab3-4561-f57c-b7273c9d8547",
        "colab": {
          "base_uri": "https://localhost:8080/",
          "height": 68
        }
      },
      "source": [
        "test_metrics = model.evaluate(x_test_1, y_test_1)\n",
        "print('Test loss:', test_metrics[0])\n",
        "print('Test accuracy:', test_metrics[1])"
      ],
      "execution_count": 126,
      "outputs": [
        {
          "output_type": "stream",
          "text": [
            "5139/5139 [==============================] - 0s 47us/step\n",
            "Test loss: 0.0061140594181627456\n",
            "Test accuracy: 0.9980540961276513\n"
          ],
          "name": "stdout"
        }
      ]
    },
    {
      "cell_type": "markdown",
      "metadata": {
        "colab_type": "text",
        "id": "z78o3WIjaEJ3"
      },
      "source": [
        "## 10. Make only the dense layers to be trainable and convolutional layers to be non-trainable"
      ]
    },
    {
      "cell_type": "code",
      "metadata": {
        "colab_type": "code",
        "id": "brN7VZHFaEJ4",
        "colab": {
          "base_uri": "https://localhost:8080/",
          "height": 136
        },
        "outputId": "f048d42e-75d8-4292-c6e9-cd6811ec74dc"
      },
      "source": [
        "model.layers"
      ],
      "execution_count": 127,
      "outputs": [
        {
          "output_type": "execute_result",
          "data": {
            "text/plain": [
              "[<keras.layers.convolutional.Conv2D at 0x7f57504fc6a0>,\n",
              " <keras.layers.pooling.MaxPooling2D at 0x7f57504e4588>,\n",
              " <keras.layers.core.Dropout at 0x7f57504fc278>,\n",
              " <keras.layers.core.Flatten at 0x7f57504fc668>,\n",
              " <keras.layers.core.Dense at 0x7f57504fc860>,\n",
              " <keras.layers.core.Dropout at 0x7f5750222a58>,\n",
              " <keras.layers.core.Dense at 0x7f57501da320>]"
            ]
          },
          "metadata": {
            "tags": []
          },
          "execution_count": 127
        }
      ]
    },
    {
      "cell_type": "code",
      "metadata": {
        "id": "d7N9y9RQZRVN",
        "colab_type": "code",
        "colab": {}
      },
      "source": [
        "model_trans = Model(inputs=model.input, outputs=model.get_layer('flatten_3').output )\n",
        "#model = Model(inputs=base_model.input, outputs=base_model.get_layer('block4_pool').output )\n",
        "model_trans.trainable = False"
      ],
      "execution_count": 0,
      "outputs": []
    },
    {
      "cell_type": "markdown",
      "metadata": {
        "id": "54CzKsV-j3Pn",
        "colab_type": "text"
      },
      "source": [
        ""
      ]
    },
    {
      "cell_type": "code",
      "metadata": {
        "id": "9-g1zMyhZRRz",
        "colab_type": "code",
        "colab": {
          "base_uri": "https://localhost:8080/",
          "height": 306
        },
        "outputId": "160c4737-70c9-48c0-893d-83201149e595"
      },
      "source": [
        "model_trans.summary()"
      ],
      "execution_count": 130,
      "outputs": [
        {
          "output_type": "stream",
          "text": [
            "_________________________________________________________________\n",
            "Layer (type)                 Output Shape              Param #   \n",
            "=================================================================\n",
            "conv2d_3_input (InputLayer)  (None, 28, 28, 1)         0         \n",
            "_________________________________________________________________\n",
            "conv2d_3 (Conv2D)            (None, 26, 26, 32)        320       \n",
            "_________________________________________________________________\n",
            "max_pooling2d_3 (MaxPooling2 (None, 13, 13, 32)        0         \n",
            "_________________________________________________________________\n",
            "dropout_5 (Dropout)          (None, 13, 13, 32)        0         \n",
            "_________________________________________________________________\n",
            "flatten_3 (Flatten)          (None, 5408)              0         \n",
            "=================================================================\n",
            "Total params: 320\n",
            "Trainable params: 0\n",
            "Non-trainable params: 320\n",
            "_________________________________________________________________\n"
          ],
          "name": "stdout"
        }
      ]
    },
    {
      "cell_type": "markdown",
      "metadata": {
        "colab_type": "text",
        "id": "4opnW7o0BJ8P"
      },
      "source": [
        "## 11. Use the model trained on 0 to 4 digit classification and train it on the dataset which has digits 5 to 9  (Using Transfer learning keeping only the dense layers to be trainable)"
      ]
    },
    {
      "cell_type": "code",
      "metadata": {
        "colab_type": "code",
        "id": "lCFcYHTm6-cE",
        "colab": {}
      },
      "source": [
        "x_train_2_trans = model_trans.predict(x_train_2)"
      ],
      "execution_count": 0,
      "outputs": []
    },
    {
      "cell_type": "code",
      "metadata": {
        "colab_type": "code",
        "id": "DITyAt3t7Tto",
        "colab": {}
      },
      "source": [
        "x_test_2_trans = model_trans.predict(x_test_2)"
      ],
      "execution_count": 0,
      "outputs": []
    },
    {
      "cell_type": "code",
      "metadata": {
        "id": "VA8p0YvSd4Pc",
        "colab_type": "code",
        "colab": {
          "base_uri": "https://localhost:8080/",
          "height": 34
        },
        "outputId": "ebdba48f-0091-4974-c222-0541dd1d9cfa"
      },
      "source": [
        "x_train_1.shape"
      ],
      "execution_count": 133,
      "outputs": [
        {
          "output_type": "execute_result",
          "data": {
            "text/plain": [
              "(30596, 28, 28, 1)"
            ]
          },
          "metadata": {
            "tags": []
          },
          "execution_count": 133
        }
      ]
    },
    {
      "cell_type": "code",
      "metadata": {
        "id": "OYzAZjypcw6m",
        "colab_type": "code",
        "colab": {
          "base_uri": "https://localhost:8080/",
          "height": 34
        },
        "outputId": "7597b5c9-ff75-4b12-c58d-3109aa87e265"
      },
      "source": [
        "x_train_1_trans.shape"
      ],
      "execution_count": 134,
      "outputs": [
        {
          "output_type": "execute_result",
          "data": {
            "text/plain": [
              "(30596, 5408)"
            ]
          },
          "metadata": {
            "tags": []
          },
          "execution_count": 134
        }
      ]
    },
    {
      "cell_type": "code",
      "metadata": {
        "id": "wgVCtvRtcxG-",
        "colab_type": "code",
        "colab": {
          "base_uri": "https://localhost:8080/",
          "height": 34
        },
        "outputId": "f49188e6-83c2-402d-9166-f8bcc129e69b"
      },
      "source": [
        "y_train_1.shape"
      ],
      "execution_count": 136,
      "outputs": [
        {
          "output_type": "execute_result",
          "data": {
            "text/plain": [
              "(30596, 5)"
            ]
          },
          "metadata": {
            "tags": []
          },
          "execution_count": 136
        }
      ]
    },
    {
      "cell_type": "code",
      "metadata": {
        "id": "XKNdCi7RcxBy",
        "colab_type": "code",
        "colab": {}
      },
      "source": [
        "model_transfer = Sequential()\n",
        "#model_transfer.add(Dense(128, input_dim=512, activation='relu'))\n",
        "#model_transfer.add(Dropout(0.25))\n",
        "#model_transfer.add(Dense(64, activation='relu'))\n",
        "#model_transfer.add(Dense(10, activation='softmax'))\n",
        "model_transfer.add(Dense(5, input_dim=5408, activation='softmax'))"
      ],
      "execution_count": 0,
      "outputs": []
    },
    {
      "cell_type": "code",
      "metadata": {
        "id": "31GOzdz0gFZZ",
        "colab_type": "code",
        "colab": {
          "base_uri": "https://localhost:8080/",
          "height": 170
        },
        "outputId": "2e20e326-dae5-4dfd-c74c-e1f94054fcd1"
      },
      "source": [
        "model_transfer.summary()"
      ],
      "execution_count": 138,
      "outputs": [
        {
          "output_type": "stream",
          "text": [
            "_________________________________________________________________\n",
            "Layer (type)                 Output Shape              Param #   \n",
            "=================================================================\n",
            "dense_9 (Dense)              (None, 5)                 27045     \n",
            "=================================================================\n",
            "Total params: 27,045\n",
            "Trainable params: 27,045\n",
            "Non-trainable params: 0\n",
            "_________________________________________________________________\n"
          ],
          "name": "stdout"
        }
      ]
    },
    {
      "cell_type": "code",
      "metadata": {
        "id": "QueMsY_ofRk8",
        "colab_type": "code",
        "colab": {
          "base_uri": "https://localhost:8080/",
          "height": 391
        },
        "outputId": "d39dd39c-842b-48c4-b4af-81e01e989d74"
      },
      "source": [
        "model_transfer.compile(loss='categorical_crossentropy', optimizer=\"adam\", metrics=['accuracy'])\n",
        "model_transfer.fit(x_train_2_trans, y_train_2, batch_size=40, epochs=10,validation_data=(x_test_2_trans, y_test_2))#"
      ],
      "execution_count": 139,
      "outputs": [
        {
          "output_type": "stream",
          "text": [
            "Train on 29404 samples, validate on 4861 samples\n",
            "Epoch 1/10\n",
            "29404/29404 [==============================] - 3s 92us/step - loss: 0.1977 - acc: 0.9575 - val_loss: 0.0839 - val_acc: 0.9782\n",
            "Epoch 2/10\n",
            "29404/29404 [==============================] - 2s 80us/step - loss: 0.0686 - acc: 0.9822 - val_loss: 0.0561 - val_acc: 0.9854\n",
            "Epoch 3/10\n",
            "29404/29404 [==============================] - 3s 89us/step - loss: 0.0498 - acc: 0.9870 - val_loss: 0.0463 - val_acc: 0.9879\n",
            "Epoch 4/10\n",
            "29404/29404 [==============================] - 3s 87us/step - loss: 0.0405 - acc: 0.9895 - val_loss: 0.0415 - val_acc: 0.9870\n",
            "Epoch 5/10\n",
            "29404/29404 [==============================] - 2s 76us/step - loss: 0.0341 - acc: 0.9914 - val_loss: 0.0370 - val_acc: 0.9897\n",
            "Epoch 6/10\n",
            "29404/29404 [==============================] - 2s 76us/step - loss: 0.0296 - acc: 0.9928 - val_loss: 0.0354 - val_acc: 0.9895\n",
            "Epoch 7/10\n",
            "29404/29404 [==============================] - 2s 77us/step - loss: 0.0258 - acc: 0.9939 - val_loss: 0.0340 - val_acc: 0.9899\n",
            "Epoch 8/10\n",
            "29404/29404 [==============================] - 2s 77us/step - loss: 0.0229 - acc: 0.9946 - val_loss: 0.0330 - val_acc: 0.9905\n",
            "Epoch 9/10\n",
            "29404/29404 [==============================] - 2s 77us/step - loss: 0.0205 - acc: 0.9954 - val_loss: 0.0315 - val_acc: 0.9897\n",
            "Epoch 10/10\n",
            "29404/29404 [==============================] - 2s 77us/step - loss: 0.0186 - acc: 0.9957 - val_loss: 0.0323 - val_acc: 0.9903\n"
          ],
          "name": "stdout"
        },
        {
          "output_type": "execute_result",
          "data": {
            "text/plain": [
              "<keras.callbacks.History at 0x7f5735c24f60>"
            ]
          },
          "metadata": {
            "tags": []
          },
          "execution_count": 139
        }
      ]
    },
    {
      "cell_type": "markdown",
      "metadata": {
        "colab_type": "text",
        "id": "SoDozqghCJZ4"
      },
      "source": [
        "## 12. Print the accuracy for classification of digits 5 to 9"
      ]
    },
    {
      "cell_type": "code",
      "metadata": {
        "colab_type": "code",
        "id": "9fCxgb5s49Cj",
        "colab": {
          "base_uri": "https://localhost:8080/",
          "height": 68
        },
        "outputId": "bf87c87a-4136-479e-dfd4-151bb03affb1"
      },
      "source": [
        "test_metrics = model_transfer.evaluate(x_test_2_trans, y_test_2)\n",
        "print('Test loss:', test_metrics[0])\n",
        "print('Test accuracy:', test_metrics[1])"
      ],
      "execution_count": 142,
      "outputs": [
        {
          "output_type": "stream",
          "text": [
            "4861/4861 [==============================] - 0s 50us/step\n",
            "Test loss: 0.03228350418296598\n",
            "Test accuracy: 0.9903312075704588\n"
          ],
          "name": "stdout"
        }
      ]
    },
    {
      "cell_type": "code",
      "metadata": {
        "id": "BKf_2btZcnfR",
        "colab_type": "code",
        "colab": {
          "base_uri": "https://localhost:8080/",
          "height": 34
        },
        "outputId": "bb83a5ac-e820-4486-f2c0-08cc79a92f19"
      },
      "source": [
        ""
      ],
      "execution_count": 54,
      "outputs": [
        {
          "output_type": "execute_result",
          "data": {
            "text/plain": [
              "(30596, 5)"
            ]
          },
          "metadata": {
            "tags": []
          },
          "execution_count": 54
        }
      ]
    },
    {
      "cell_type": "code",
      "metadata": {
        "colab_type": "code",
        "id": "LRWizZIpCUKg",
        "colab": {}
      },
      "source": [
        ""
      ],
      "execution_count": 0,
      "outputs": []
    },
    {
      "cell_type": "markdown",
      "metadata": {
        "id": "FU-HwvIdH0M-",
        "colab_type": "text"
      },
      "source": [
        "## Sentiment analysis <br> \n",
        "\n",
        "The objective of the second problem is to perform Sentiment analysis from the tweets data collected from the users targeted at various mobile devices.\n",
        "Based on the tweet posted by a user (text), we will classify if the sentiment of the user targeted at a particular mobile device is positive or not."
      ]
    },
    {
      "cell_type": "markdown",
      "metadata": {
        "id": "nAQDiZHRH0M_",
        "colab_type": "text"
      },
      "source": [
        "### 13. Read the dataset (tweets.csv) and drop the NA's while reading the dataset"
      ]
    },
    {
      "cell_type": "code",
      "metadata": {
        "id": "3eXGIe-SH0NA",
        "colab_type": "code",
        "colab": {}
      },
      "source": [
        "import pandas as pd"
      ],
      "execution_count": 0,
      "outputs": []
    },
    {
      "cell_type": "code",
      "metadata": {
        "id": "CWeWe1eJH0NF",
        "colab_type": "code",
        "colab": {
          "base_uri": "https://localhost:8080/",
          "height": 122
        },
        "outputId": "5a52aace-ebdd-47ad-e9cc-63abdab8482e"
      },
      "source": [
        "from google.colab import drive\n",
        "drive.mount('/content/gdrive')"
      ],
      "execution_count": 145,
      "outputs": [
        {
          "output_type": "stream",
          "text": [
            "Go to this URL in a browser: https://accounts.google.com/o/oauth2/auth?client_id=947318989803-6bn6qk8qdgf4n4g3pfee6491hc0brc4i.apps.googleusercontent.com&redirect_uri=urn%3Aietf%3Awg%3Aoauth%3A2.0%3Aoob&scope=email%20https%3A%2F%2Fwww.googleapis.com%2Fauth%2Fdocs.test%20https%3A%2F%2Fwww.googleapis.com%2Fauth%2Fdrive%20https%3A%2F%2Fwww.googleapis.com%2Fauth%2Fdrive.photos.readonly%20https%3A%2F%2Fwww.googleapis.com%2Fauth%2Fpeopleapi.readonly&response_type=code\n",
            "\n",
            "Enter your authorization code:\n",
            "··········\n",
            "Mounted at /content/gdrive\n"
          ],
          "name": "stdout"
        }
      ]
    },
    {
      "cell_type": "code",
      "metadata": {
        "id": "9KBrH0Ojn4xt",
        "colab_type": "code",
        "colab": {}
      },
      "source": [
        ""
      ],
      "execution_count": 0,
      "outputs": []
    },
    {
      "cell_type": "code",
      "metadata": {
        "id": "3gr0xB3flOk1",
        "colab_type": "code",
        "colab": {}
      },
      "source": [
        "tweet = pd.read_csv('/content/gdrive/My Drive/Colab Notebooks/LAB and Assignment 8th/Lab Internal/tweets.csv',encoding = 'ISO-8859-1').dropna(axis = 0)"
      ],
      "execution_count": 0,
      "outputs": []
    },
    {
      "cell_type": "code",
      "metadata": {
        "id": "lnl0X_5sn6J2",
        "colab_type": "code",
        "colab": {
          "base_uri": "https://localhost:8080/",
          "height": 34
        },
        "outputId": "bbc1b535-cc23-46cf-b751-ccdd6a5b4310"
      },
      "source": [
        "tweet.shape"
      ],
      "execution_count": 195,
      "outputs": [
        {
          "output_type": "execute_result",
          "data": {
            "text/plain": [
              "(3291, 3)"
            ]
          },
          "metadata": {
            "tags": []
          },
          "execution_count": 195
        }
      ]
    },
    {
      "cell_type": "code",
      "metadata": {
        "id": "o97mVWQ9pGpd",
        "colab_type": "code",
        "colab": {}
      },
      "source": [
        "data = tweet"
      ],
      "execution_count": 0,
      "outputs": []
    },
    {
      "cell_type": "code",
      "metadata": {
        "id": "zzsxSAcXpDeT",
        "colab_type": "code",
        "colab": {
          "base_uri": "https://localhost:8080/",
          "height": 68
        },
        "outputId": "1c1d5be6-8405-484b-c2ca-8f8c6bde9756"
      },
      "source": [
        "tweet.columns"
      ],
      "execution_count": 198,
      "outputs": [
        {
          "output_type": "execute_result",
          "data": {
            "text/plain": [
              "Index(['tweet_text', 'emotion_in_tweet_is_directed_at',\n",
              "       'is_there_an_emotion_directed_at_a_brand_or_product'],\n",
              "      dtype='object')"
            ]
          },
          "metadata": {
            "tags": []
          },
          "execution_count": 198
        }
      ]
    },
    {
      "cell_type": "markdown",
      "metadata": {
        "id": "jPJvTjefH0NI",
        "colab_type": "text"
      },
      "source": [
        "### 14. Preprocess the text and add the preprocessed text in a column with name `text` in the dataframe."
      ]
    },
    {
      "cell_type": "code",
      "metadata": {
        "id": "5iec5s9gH0NI",
        "colab_type": "code",
        "colab": {}
      },
      "source": [
        "def preprocess(text):\n",
        "    try:\n",
        "        return text.encode().decode('ascii')\n",
        "    except Exception as e:\n",
        "        return \"\""
      ],
      "execution_count": 0,
      "outputs": []
    },
    {
      "cell_type": "code",
      "metadata": {
        "id": "EQSmqA-vH0NT",
        "colab_type": "code",
        "colab": {}
      },
      "source": [
        "data['text'] = [preprocess(text) for text in data.tweet_text]"
      ],
      "execution_count": 0,
      "outputs": []
    },
    {
      "cell_type": "code",
      "metadata": {
        "id": "7kX-WoJDH0NV",
        "colab_type": "code",
        "colab": {}
      },
      "source": [
        ""
      ],
      "execution_count": 0,
      "outputs": []
    },
    {
      "cell_type": "markdown",
      "metadata": {
        "id": "OGWB3P2WH0NY",
        "colab_type": "text"
      },
      "source": [
        "### 15. Consider only rows having Positive emotion and Negative emotion and remove other rows from the dataframe."
      ]
    },
    {
      "cell_type": "code",
      "metadata": {
        "id": "bdgA_8N2H0NY",
        "colab_type": "code",
        "colab": {
          "base_uri": "https://localhost:8080/",
          "height": 289
        },
        "outputId": "4e0e82a5-2178-4774-98c0-ab99a6996756"
      },
      "source": [
        "data.head()\n"
      ],
      "execution_count": 201,
      "outputs": [
        {
          "output_type": "execute_result",
          "data": {
            "text/html": [
              "<div>\n",
              "<style scoped>\n",
              "    .dataframe tbody tr th:only-of-type {\n",
              "        vertical-align: middle;\n",
              "    }\n",
              "\n",
              "    .dataframe tbody tr th {\n",
              "        vertical-align: top;\n",
              "    }\n",
              "\n",
              "    .dataframe thead th {\n",
              "        text-align: right;\n",
              "    }\n",
              "</style>\n",
              "<table border=\"1\" class=\"dataframe\">\n",
              "  <thead>\n",
              "    <tr style=\"text-align: right;\">\n",
              "      <th></th>\n",
              "      <th>tweet_text</th>\n",
              "      <th>emotion_in_tweet_is_directed_at</th>\n",
              "      <th>is_there_an_emotion_directed_at_a_brand_or_product</th>\n",
              "      <th>text</th>\n",
              "    </tr>\n",
              "  </thead>\n",
              "  <tbody>\n",
              "    <tr>\n",
              "      <th>0</th>\n",
              "      <td>.@wesley83 I have a 3G iPhone. After 3 hrs twe...</td>\n",
              "      <td>iPhone</td>\n",
              "      <td>Negative emotion</td>\n",
              "      <td>.@wesley83 I have a 3G iPhone. After 3 hrs twe...</td>\n",
              "    </tr>\n",
              "    <tr>\n",
              "      <th>1</th>\n",
              "      <td>@jessedee Know about @fludapp ? Awesome iPad/i...</td>\n",
              "      <td>iPad or iPhone App</td>\n",
              "      <td>Positive emotion</td>\n",
              "      <td>@jessedee Know about @fludapp ? Awesome iPad/i...</td>\n",
              "    </tr>\n",
              "    <tr>\n",
              "      <th>2</th>\n",
              "      <td>@swonderlin Can not wait for #iPad 2 also. The...</td>\n",
              "      <td>iPad</td>\n",
              "      <td>Positive emotion</td>\n",
              "      <td>@swonderlin Can not wait for #iPad 2 also. The...</td>\n",
              "    </tr>\n",
              "    <tr>\n",
              "      <th>3</th>\n",
              "      <td>@sxsw I hope this year's festival isn't as cra...</td>\n",
              "      <td>iPad or iPhone App</td>\n",
              "      <td>Negative emotion</td>\n",
              "      <td>@sxsw I hope this year's festival isn't as cra...</td>\n",
              "    </tr>\n",
              "    <tr>\n",
              "      <th>4</th>\n",
              "      <td>@sxtxstate great stuff on Fri #SXSW: Marissa M...</td>\n",
              "      <td>Google</td>\n",
              "      <td>Positive emotion</td>\n",
              "      <td>@sxtxstate great stuff on Fri #SXSW: Marissa M...</td>\n",
              "    </tr>\n",
              "  </tbody>\n",
              "</table>\n",
              "</div>"
            ],
            "text/plain": [
              "                                          tweet_text  ...                                               text\n",
              "0  .@wesley83 I have a 3G iPhone. After 3 hrs twe...  ...  .@wesley83 I have a 3G iPhone. After 3 hrs twe...\n",
              "1  @jessedee Know about @fludapp ? Awesome iPad/i...  ...  @jessedee Know about @fludapp ? Awesome iPad/i...\n",
              "2  @swonderlin Can not wait for #iPad 2 also. The...  ...  @swonderlin Can not wait for #iPad 2 also. The...\n",
              "3  @sxsw I hope this year's festival isn't as cra...  ...  @sxsw I hope this year's festival isn't as cra...\n",
              "4  @sxtxstate great stuff on Fri #SXSW: Marissa M...  ...  @sxtxstate great stuff on Fri #SXSW: Marissa M...\n",
              "\n",
              "[5 rows x 4 columns]"
            ]
          },
          "metadata": {
            "tags": []
          },
          "execution_count": 201
        }
      ]
    },
    {
      "cell_type": "code",
      "metadata": {
        "id": "_Jlu-reIH0Na",
        "colab_type": "code",
        "colab": {
          "base_uri": "https://localhost:8080/",
          "height": 102
        },
        "outputId": "b1a1f4b1-4541-4ed1-e2e5-d4001bb50eca"
      },
      "source": [
        "data['is_there_an_emotion_directed_at_a_brand_or_product'].value_counts()\n"
      ],
      "execution_count": 202,
      "outputs": [
        {
          "output_type": "execute_result",
          "data": {
            "text/plain": [
              "Positive emotion                      2672\n",
              "Negative emotion                       519\n",
              "No emotion toward brand or product      91\n",
              "I can't tell                             9\n",
              "Name: is_there_an_emotion_directed_at_a_brand_or_product, dtype: int64"
            ]
          },
          "metadata": {
            "tags": []
          },
          "execution_count": 202
        }
      ]
    },
    {
      "cell_type": "code",
      "metadata": {
        "id": "2UXHds7TqMk3",
        "colab_type": "code",
        "colab": {}
      },
      "source": [
        "data = data[data['is_there_an_emotion_directed_at_a_brand_or_product'].isin(['Negative emotion','Positive emotion'])]"
      ],
      "execution_count": 0,
      "outputs": []
    },
    {
      "cell_type": "code",
      "metadata": {
        "id": "OBW8RPp2s3-3",
        "colab_type": "code",
        "colab": {
          "base_uri": "https://localhost:8080/",
          "height": 68
        },
        "outputId": "375ed992-6438-4426-c7d2-1b192202040d"
      },
      "source": [
        "data['is_there_an_emotion_directed_at_a_brand_or_product'].value_counts()"
      ],
      "execution_count": 204,
      "outputs": [
        {
          "output_type": "execute_result",
          "data": {
            "text/plain": [
              "Positive emotion    2672\n",
              "Negative emotion     519\n",
              "Name: is_there_an_emotion_directed_at_a_brand_or_product, dtype: int64"
            ]
          },
          "metadata": {
            "tags": []
          },
          "execution_count": 204
        }
      ]
    },
    {
      "cell_type": "markdown",
      "metadata": {
        "id": "SotCRvkDH0Nf",
        "colab_type": "text"
      },
      "source": [
        "### 16. Represent text as numerical data using `CountVectorizer` and get the document term frequency matrix\n",
        "\n",
        "#### Use `vect` as the variable name for initialising CountVectorizer."
      ]
    },
    {
      "cell_type": "code",
      "metadata": {
        "id": "YcbkY4sgH0Ng",
        "colab_type": "code",
        "colab": {}
      },
      "source": [
        "import pandas as pd\n",
        "import numpy as np\n",
        "import scipy as sp\n",
        "from sklearn.model_selection import train_test_split\n",
        "from sklearn.feature_extraction.text import CountVectorizer, TfidfVectorizer\n",
        "from sklearn.naive_bayes import MultinomialNB\n",
        "from sklearn.linear_model import LogisticRegression\n",
        "from sklearn import metrics\n"
      ],
      "execution_count": 0,
      "outputs": []
    },
    {
      "cell_type": "code",
      "metadata": {
        "id": "KyXtZGr-H0Nl",
        "colab_type": "code",
        "colab": {}
      },
      "source": [
        "from IPython.core.interactiveshell import InteractiveShell\n",
        "InteractiveShell.ast_node_interactivity=\"all\""
      ],
      "execution_count": 0,
      "outputs": []
    },
    {
      "cell_type": "code",
      "metadata": {
        "id": "Z4LUM-XPH0Nn",
        "colab_type": "code",
        "colab": {}
      },
      "source": [
        "vect = CountVectorizer()"
      ],
      "execution_count": 0,
      "outputs": []
    },
    {
      "cell_type": "code",
      "metadata": {
        "id": "aIdZYxJtH0Nq",
        "colab_type": "code",
        "colab": {
          "base_uri": "https://localhost:8080/",
          "height": 119
        },
        "outputId": "40d5efc0-5c80-45e9-c002-1f38d37df647"
      },
      "source": [
        "vect.fit(data[\"text\"])\n",
        "X_features = vect.transform(data[\"text\"])"
      ],
      "execution_count": 209,
      "outputs": [
        {
          "output_type": "execute_result",
          "data": {
            "text/plain": [
              "CountVectorizer(analyzer='word', binary=False, decode_error='strict',\n",
              "                dtype=<class 'numpy.int64'>, encoding='utf-8', input='content',\n",
              "                lowercase=True, max_df=1.0, max_features=None, min_df=1,\n",
              "                ngram_range=(1, 1), preprocessor=None, stop_words=None,\n",
              "                strip_accents=None, token_pattern='(?u)\\\\b\\\\w\\\\w+\\\\b',\n",
              "                tokenizer=None, vocabulary=None)"
            ]
          },
          "metadata": {
            "tags": []
          },
          "execution_count": 209
        }
      ]
    },
    {
      "cell_type": "markdown",
      "metadata": {
        "id": "5pxd5fSHH0Nt",
        "colab_type": "text"
      },
      "source": [
        "### 17. Find number of different words in vocabulary"
      ]
    },
    {
      "cell_type": "code",
      "metadata": {
        "id": "p1DQ2LdNH0Nu",
        "colab_type": "code",
        "colab": {
          "base_uri": "https://localhost:8080/",
          "height": 17034
        },
        "outputId": "dd5f0a92-6c57-4c04-f305-f9d0ff02f051"
      },
      "source": [
        "X_features.shape # 5482 words in vaocabulary\n",
        "vect.vocabulary_"
      ],
      "execution_count": 218,
      "outputs": [
        {
          "output_type": "execute_result",
          "data": {
            "text/plain": [
              "(3191, 5482)"
            ]
          },
          "metadata": {
            "tags": []
          },
          "execution_count": 218
        },
        {
          "output_type": "execute_result",
          "data": {
            "text/plain": [
              "{'wesley83': 5291,\n",
              " 'have': 2224,\n",
              " '3g': 77,\n",
              " 'iphone': 2573,\n",
              " 'after': 216,\n",
              " 'hrs': 2363,\n",
              " 'tweeting': 5025,\n",
              " 'at': 402,\n",
              " 'rise_austin': 4042,\n",
              " 'it': 2595,\n",
              " 'was': 5248,\n",
              " 'dead': 1252,\n",
              " 'need': 3218,\n",
              " 'to': 4896,\n",
              " 'upgrade': 5108,\n",
              " 'plugin': 3610,\n",
              " 'stations': 4507,\n",
              " 'sxsw': 4659,\n",
              " 'jessedee': 2624,\n",
              " 'know': 2714,\n",
              " 'about': 143,\n",
              " 'fludapp': 1857,\n",
              " 'awesome': 459,\n",
              " 'ipad': 2563,\n",
              " 'app': 334,\n",
              " 'that': 4801,\n",
              " 'you': 5452,\n",
              " 'll': 2851,\n",
              " 'likely': 2821,\n",
              " 'appreciate': 354,\n",
              " 'for': 1885,\n",
              " 'its': 2597,\n",
              " 'design': 1312,\n",
              " 'also': 269,\n",
              " 'they': 4824,\n",
              " 're': 3861,\n",
              " 'giving': 2045,\n",
              " 'free': 1916,\n",
              " 'ts': 4994,\n",
              " 'swonderlin': 4650,\n",
              " 'can': 781,\n",
              " 'not': 3278,\n",
              " 'wait': 5220,\n",
              " 'should': 4273,\n",
              " 'sale': 4095,\n",
              " 'them': 4810,\n",
              " 'down': 1458,\n",
              " 'hope': 2336,\n",
              " 'this': 4838,\n",
              " 'year': 5435,\n",
              " 'festival': 1791,\n",
              " 'isn': 2590,\n",
              " 'as': 393,\n",
              " 'crashy': 1147,\n",
              " 'sxtxstate': 4683,\n",
              " 'great': 2121,\n",
              " 'stuff': 4572,\n",
              " 'on': 3350,\n",
              " 'fri': 1921,\n",
              " 'marissa': 2985,\n",
              " 'mayer': 3016,\n",
              " 'google': 2084,\n",
              " 'tim': 4871,\n",
              " 'reilly': 3931,\n",
              " 'tech': 4745,\n",
              " 'books': 638,\n",
              " 'conferences': 1033,\n",
              " 'amp': 287,\n",
              " 'matt': 3009,\n",
              " 'mullenweg': 3182,\n",
              " 'wordpress': 5377,\n",
              " 'is': 2587,\n",
              " 'just': 2658,\n",
              " 'starting': 4499,\n",
              " 'ctia': 1188,\n",
              " 'around': 378,\n",
              " 'the': 4802,\n",
              " 'corner': 1102,\n",
              " 'and': 293,\n",
              " 'googleio': 2092,\n",
              " 'only': 3355,\n",
              " 'hop': 2335,\n",
              " 'skip': 4333,\n",
              " 'jump': 2656,\n",
              " 'from': 1929,\n",
              " 'there': 4819,\n",
              " 'good': 2077,\n",
              " 'time': 4873,\n",
              " 'be': 534,\n",
              " 'an': 290,\n",
              " 'android': 297,\n",
              " 'fan': 1733,\n",
              " 'beautifully': 542,\n",
              " 'smart': 4361,\n",
              " 'simple': 4306,\n",
              " 'idea': 2395,\n",
              " 'rt': 4074,\n",
              " 'madebymany': 2940,\n",
              " 'thenextweb': 4815,\n",
              " 'wrote': 5410,\n",
              " 'our': 3400,\n",
              " 'hollergram': 2315,\n",
              " 'http': 2368,\n",
              " 'bit': 599,\n",
              " 'ly': 2924,\n",
              " 'ieavob': 2406,\n",
              " 'counting': 1117,\n",
              " 'days': 1250,\n",
              " 'plus': 3612,\n",
              " 'strong': 4562,\n",
              " 'canadian': 783,\n",
              " 'dollar': 1429,\n",
              " 'means': 3027,\n",
              " 'stock': 4527,\n",
              " 'up': 5101,\n",
              " 'apple': 344,\n",
              " 'gear': 1993,\n",
              " 'excited': 1666,\n",
              " 'meet': 3035,\n",
              " 'samsungmobileus': 4103,\n",
              " 'so': 4391,\n",
              " 'show': 4279,\n",
              " 'my': 3195,\n",
              " 'sprint': 4475,\n",
              " 'galaxy': 1972,\n",
              " 'still': 4525,\n",
              " 'running': 4085,\n",
              " 'fail': 1723,\n",
              " 'find': 1817,\n",
              " 'start': 4497,\n",
              " 'impromptu': 2445,\n",
              " 'parties': 3476,\n",
              " 'with': 5347,\n",
              " 'hurricaneparty': 2379,\n",
              " 'gvlrin': 2165,\n",
              " 'til': 4869,\n",
              " 'comes': 992,\n",
              " 'out': 3402,\n",
              " 'foursquare': 1906,\n",
              " 'ups': 5112,\n",
              " 'game': 1974,\n",
              " 'in': 2454,\n",
              " 'mp': 3174,\n",
              " 'grn7pk': 2130,\n",
              " 'prefer': 3676,\n",
              " 'gowalla': 2103,\n",
              " 'by': 756,\n",
              " 'far': 1742,\n",
              " 'best': 574,\n",
              " 'looking': 2880,\n",
              " 'date': 1241,\n",
              " 'gotta': 2098,\n",
              " 'love': 2899,\n",
              " 'calendar': 766,\n",
              " 'featuring': 1771,\n",
              " 'top': 4917,\n",
              " 'cases': 808,\n",
              " 'check': 878,\n",
              " 'hamsandwich': 2186,\n",
              " 'via': 5172,\n",
              " 'ischafer': 2589,\n",
              " 'gt': 2147,\n",
              " 'axzwxb': 466,\n",
              " 'tinyurl': 4881,\n",
              " 'com': 985,\n",
              " '4nqv92l': 93,\n",
              " 'haha': 2178,\n",
              " 'awesomely': 460,\n",
              " 'rad': 3832,\n",
              " 'htdfim': 2365,\n",
              " 'noticed': 3286,\n",
              " 'dst': 1491,\n",
              " 'coming': 995,\n",
              " 'weekend': 5279,\n",
              " 'how': 2357,\n",
              " 'many': 2972,\n",
              " 'users': 5130,\n",
              " 'will': 5323,\n",
              " 'hour': 2353,\n",
              " 'late': 2748,\n",
              " 'come': 989,\n",
              " 'sunday': 4605,\n",
              " 'morning': 3156,\n",
              " 'added': 184,\n",
              " 'flights': 1847,\n",
              " 'planely': 3583,\n",
              " 'matching': 3006,\n",
              " 'people': 3517,\n",
              " 'planes': 3584,\n",
              " 'airports': 245,\n",
              " 'downloaded': 1460,\n",
              " 'klm': 2708,\n",
              " 'nicely': 3254,\n",
              " 'done': 1439,\n",
              " 'must': 3191,\n",
              " 'malbonster': 2961,\n",
              " 'lovely': 2903,\n",
              " 'review': 4010,\n",
              " 'forbes': 1886,\n",
              " 'holler': 2314,\n",
              " 'gram': 2110,\n",
              " 'co': 964,\n",
              " 'g4gzypv': 1965,\n",
              " 'buy': 750,\n",
              " 'ipad2': 2565,\n",
              " 'while': 5301,\n",
              " 'austin': 428,\n",
              " 'sure': 4617,\n",
              " 'if': 2407,\n",
              " 'store': 4537,\n",
              " 'oh': 3337,\n",
              " 'god': 2060,\n",
              " 'pure': 3782,\n",
              " 'unadulterated': 5057,\n",
              " 'easier': 1524,\n",
              " 'browse': 713,\n",
              " 'events': 1640,\n",
              " 'than': 4796,\n",
              " 'website': 5274,\n",
              " 'okay': 3340,\n",
              " 'really': 3876,\n",
              " 'yay': 5431,\n",
              " 'new': 3238,\n",
              " '11': 14,\n",
              " 'kthxbai': 2721,\n",
              " 'photo': 3541,\n",
              " 'installed': 2511,\n",
              " 'which': 5300,\n",
              " 'nice': 3253,\n",
              " 'tumblr': 5001,\n",
              " 'x6t1pi6av7': 5417,\n",
              " 'enjoying': 1591,\n",
              " 'changes': 856,\n",
              " 'forward': 1902,\n",
              " 'seeing': 4177,\n",
              " 'what': 5295,\n",
              " 'else': 1557,\n",
              " 'their': 4808,\n",
              " 'sleeves': 4343,\n",
              " 'laurieshook': 2760,\n",
              " 'smcdallas': 4368,\n",
              " 'pre': 3673,\n",
              " 'party': 3481,\n",
              " 'wed': 5277,\n",
              " 'hoping': 2339,\n",
              " 'win': 5329,\n",
              " 'resulting': 3997,\n",
              " 'shameless': 4235,\n",
              " 'promotion': 3744,\n",
              " 'chevysmc': 888,\n",
              " 'michaelpiliero': 3069,\n",
              " 'someone': 4415,\n",
              " 'started': 4498,\n",
              " 'partnerhub': 3478,\n",
              " 'group': 2133,\n",
              " 'groups': 2137,\n",
              " '4sq3': 95,\n",
              " 'looks': 2882,\n",
              " 'like': 2818,\n",
              " 'going': 2070,\n",
              " 'rock': 4052,\n",
              " 'update': 5104,\n",
              " 'push': 3785,\n",
              " 'tonight': 4906,\n",
              " 'etsbzk': 1629,\n",
              " 'keepaustinweird': 2670,\n",
              " 'were': 5289,\n",
              " 'right': 4031,\n",
              " 'sweeeeet': 4639,\n",
              " 'job': 2629,\n",
              " 'team': 4739,\n",
              " 'very': 5168,\n",
              " 'a3xvwc6': 137,\n",
              " 'may': 3014,\n",
              " 'leave': 2783,\n",
              " 'vuvuzela': 5216,\n",
              " 'home': 2321,\n",
              " 'now': 3293,\n",
              " 'your': 5454,\n",
              " 'are': 366,\n",
              " 'itunes': 2600,\n",
              " 'us': 5118,\n",
              " 'id420666439': 2394,\n",
              " 'mt': 3180,\n",
              " 'mention': 3050,\n",
              " 'ha': 2170,\n",
              " 'first': 1826,\n",
              " 'line': 2829,\n",
              " 'quot': 3827,\n",
              " 'pop': 3631,\n",
              " 'event': 1637,\n",
              " 'planner': 3586,\n",
              " 'eventprofs': 1639,\n",
              " 'pcma': 3504,\n",
              " 'engage365': 1581,\n",
              " 'weather': 5266,\n",
              " 'greet': 2125,\n",
              " 'sweater': 4638,\n",
              " 'night': 3259,\n",
              " 'putting': 3792,\n",
              " 'flash': 1839,\n",
              " 'downtown': 1465,\n",
              " 'sell': 4191,\n",
              " 'link': 2833,\n",
              " '1st': 42,\n",
              " 'stop': 4533,\n",
              " 'chaos': 860,\n",
              " 'hunt': 2377,\n",
              " 'java': 2612,\n",
              " 'get': 2022,\n",
              " 'spy': 4476,\n",
              " 'chance': 851,\n",
              " 'omfg': 3346,\n",
              " 'heard': 2246,\n",
              " 'pics': 3553,\n",
              " 'already': 268,\n",
              " 'attending': 413,\n",
              " 'headaches': 2237,\n",
              " 'power': 3661,\n",
              " 'sxswi': 4671,\n",
              " 'do': 1414,\n",
              " 'bands': 490,\n",
              " 'food': 1877,\n",
              " 'art': 382,\n",
              " 'ice': 2390,\n",
              " 'cream': 1154,\n",
              " 'nifty': 3258,\n",
              " 'interactive': 2525,\n",
              " 'maps': 2978,\n",
              " 'holla': 2313,\n",
              " 'ever': 1643,\n",
              " 'butt': 746,\n",
              " 'over': 3409,\n",
              " 'here': 2267,\n",
              " 'case': 807,\n",
              " 'but': 745,\n",
              " 'phone': 3539,\n",
              " 'of': 3322,\n",
              " 'post': 3653,\n",
              " 'makes': 2957,\n",
              " 'easy': 1525,\n",
              " 'connect': 1043,\n",
              " 'all': 260,\n",
              " 'social': 4392,\n",
              " 'networks': 3235,\n",
              " 'behaving': 558,\n",
              " 'today': 4898,\n",
              " 'crashes': 1145,\n",
              " 'yesterday': 5444,\n",
              " 'ridiculous': 4027,\n",
              " 'hey': 2270,\n",
              " 'fans': 1739,\n",
              " 'peek': 3512,\n",
              " 'space': 4439,\n",
              " 'slated': 4339,\n",
              " 'tomorrow': 4902,\n",
              " 'one': 3352,\n",
              " 'thing': 4828,\n",
              " 'doing': 1427,\n",
              " 'earth': 1519,\n",
              " 'face': 1713,\n",
              " 'company': 1009,\n",
              " 'her': 2266,\n",
              " 'sxwsi': 4684,\n",
              " 'thanks': 4798,\n",
              " 'speech': 4451,\n",
              " 'apps': 360,\n",
              " 'being': 561,\n",
              " 'showcased': 4281,\n",
              " 'conf': 1031,\n",
              " 'sxswh': 4670,\n",
              " 'sxsh': 4657,\n",
              " 'does': 1422,\n",
              " 'provide': 3755,\n",
              " 'chargers': 865,\n",
              " 've': 5155,\n",
              " 'changed': 854,\n",
              " 'mind': 3089,\n",
              " 'next': 3247,\n",
              " 'xmas': 5422,\n",
              " 'shiny': 4255,\n",
              " 'garyvee': 1983,\n",
              " 'book': 636,\n",
              " 'stores': 4538,\n",
              " 'christmas': 908,\n",
              " 'nerds': 3227,\n",
              " 'yai': 5428,\n",
              " 'ubersocial': 5041,\n",
              " 'includes': 2462,\n",
              " 'uberguide': 5040,\n",
              " 'sponsored': 4466,\n",
              " 'cont': 1061,\n",
              " 'fast': 1750,\n",
              " 'fun': 1951,\n",
              " 'future': 1956,\n",
              " 'presenting': 3696,\n",
              " 'search': 4162,\n",
              " 'local': 2858,\n",
              " 'mobile': 3123,\n",
              " 'headline': 2240,\n",
              " 'gadget': 1967,\n",
              " 'hmm': 2305,\n",
              " 'could': 1114,\n",
              " 'seen': 4182,\n",
              " 'launched': 2756,\n",
              " 'checkins': 881,\n",
              " 'month': 3147,\n",
              " 'ago': 227,\n",
              " 'ins': 2496,\n",
              " 'ok': 3339,\n",
              " 'outs': 3407,\n",
              " 'bizzy': 602,\n",
              " 'kawasaki': 2668,\n",
              " 'lewis': 2803,\n",
              " 'level': 2801,\n",
              " 'reasoning': 3881,\n",
              " 'continued': 1068,\n",
              " 'existence': 1677,\n",
              " 'evidence': 1653,\n",
              " 'bawling': 529,\n",
              " 'pagemaker': 3441,\n",
              " 'saved': 4115,\n",
              " 'those': 4843,\n",
              " 'jwtatl': 2663,\n",
              " 'enchantment': 1573,\n",
              " 'thoughts': 4847,\n",
              " 'japan': 2609,\n",
              " 'apac': 330,\n",
              " 'regions': 3921,\n",
              " 'dealing': 1256,\n",
              " 'earthquake': 1521,\n",
              " 'tsunami': 4996,\n",
              " 'trauma': 4963,\n",
              " 'schools': 4146,\n",
              " 'marketing': 2992,\n",
              " 'experts': 1690,\n",
              " 'temporary': 4772,\n",
              " 'def': 1273,\n",
              " 'tent': 4779,\n",
              " 'powerhouse': 3663,\n",
              " 'gym': 2166,\n",
              " '6th': 112,\n",
              " 'congress': 1042,\n",
              " 'along': 265,\n",
              " '10': 4,\n",
              " '000': 0,\n",
              " 'happy': 2207,\n",
              " 'hipsters': 2292,\n",
              " 'trending': 4971,\n",
              " 'nerdy': 3228,\n",
              " 'christian': 907,\n",
              " 'devs': 1340,\n",
              " 'want': 5238,\n",
              " 'talk': 4716,\n",
              " 'or': 3376,\n",
              " 'maybe': 3015,\n",
              " 'we': 5263,\n",
              " 'wk': 5353,\n",
              " 'together': 4899,\n",
              " 'cool': 1087,\n",
              " 'me': 3022,\n",
              " 'has': 2213,\n",
              " 'taken': 4708,\n",
              " 'storm': 4540,\n",
              " 'part': 3472,\n",
              " 'haz': 2232,\n",
              " 'ifrom': 2408,\n",
              " 'gr8': 2106,\n",
              " 'stacks': 4484,\n",
              " 'waiting': 5222,\n",
              " 'bought': 657,\n",
              " 'got': 2097,\n",
              " 'mine': 3094,\n",
              " 'no': 3266,\n",
              " 'hassle': 2219,\n",
              " 'handled': 2191,\n",
              " 'perfectly': 3523,\n",
              " 'take': 4706,\n",
              " 'major': 2953,\n",
              " 'south': 4435,\n",
              " 'korean': 2719,\n",
              " 'director': 1374,\n",
              " 'gets': 2024,\n",
              " '130': 21,\n",
              " 'make': 2955,\n",
              " 'movie': 3170,\n",
              " 'entirely': 1601,\n",
              " 'his': 2296,\n",
              " 'beautiful': 541,\n",
              " 'pic': 3548,\n",
              " 'sneaky': 4390,\n",
              " 'usual': 5135,\n",
              " 'won': 5365,\n",
              " 'day': 1248,\n",
              " 'ton': 4903,\n",
              " 'offered': 3325,\n",
              " 'promo': 3742,\n",
              " 'ninjafinder': 3265,\n",
              " 'who': 5305,\n",
              " 'sucks': 4592,\n",
              " 'poursite': 3660,\n",
              " 'learning': 2778,\n",
              " 'life': 2809,\n",
              " 'changing': 857,\n",
              " 'impact': 2431,\n",
              " 'real': 3870,\n",
              " 'actual': 177,\n",
              " 'lives': 2846,\n",
              " 'bravo': 678,\n",
              " 'short': 4267,\n",
              " 'lines': 2830,\n",
              " 'left': 2786,\n",
              " 'tradeshow': 4950,\n",
              " 'demo': 1297,\n",
              " 'theatre': 4804,\n",
              " 'see': 4176,\n",
              " 'why': 5312,\n",
              " 'presenters': 3695,\n",
              " 'using': 5133,\n",
              " 'anyone': 322,\n",
              " 'quick': 3820,\n",
              " 'hundred': 2373,\n",
              " 'dollars': 1430,\n",
              " 'ad': 179,\n",
              " 'hoc': 2309,\n",
              " 'cost': 1109,\n",
              " 'monday': 3140,\n",
              " 'barry': 505,\n",
              " 'diller': 1367,\n",
              " 'york': 5451,\n",
              " 'times': 4877,\n",
              " 'lunch': 2919,\n",
              " 'hotel': 2348,\n",
              " 'six': 4322,\n",
              " 'dirty': 1376,\n",
              " 'martinis': 2996,\n",
              " 'mondays': 3141,\n",
              " 'seriously': 4205,\n",
              " 'did': 1348,\n",
              " 'any': 318,\n",
              " 'testing': 4787,\n",
              " 'constant': 1054,\n",
              " 'causing': 822,\n",
              " 'lost': 2891,\n",
              " 'schedules': 4142,\n",
              " 'sync': 4689,\n",
              " 'wp7': 5402,\n",
              " 'ready': 3869,\n",
              " 'some': 4411,\n",
              " 'ur': 5115,\n",
              " 'blogging': 620,\n",
              " 'conflagration': 1037,\n",
              " 'doofusness': 1447,\n",
              " 'attention': 414,\n",
              " 'ers': 1618,\n",
              " 'rumored': 4080,\n",
              " 'launch': 2755,\n",
              " 'needs': 3220,\n",
              " 'went': 5288,\n",
              " 'lousy': 2898,\n",
              " 'winning': 5336,\n",
              " 'picture': 3554,\n",
              " 'spent': 4457,\n",
              " 'used': 5125,\n",
              " 'couple': 1119,\n",
              " 'city': 921,\n",
              " 'blocks': 616,\n",
              " 'behind': 560,\n",
              " '100s': 6,\n",
              " 'emails': 1559,\n",
              " 'give': 2040,\n",
              " 'composed': 1023,\n",
              " 'replies': 3966,\n",
              " 'protip': 3752,\n",
              " '10pm': 12,\n",
              " 'block': 614,\n",
              " 'popup': 3638,\n",
              " 'selling': 4192,\n",
              " 'ipad2s': 2566,\n",
              " '2s': 62,\n",
              " 'wild': 5321,\n",
              " 'both': 653,\n",
              " 'say': 4122,\n",
              " 'terrible': 4784,\n",
              " 'takes': 4710,\n",
              " 'video': 5177,\n",
              " 'snapping': 4387,\n",
              " 'away': 457,\n",
              " 'keynote': 2679,\n",
              " 'slides': 4347,\n",
              " 'southwest': 4438,\n",
              " 'sweet': 4642,\n",
              " 'ballroom': 486,\n",
              " 'more': 3154,\n",
              " '35': 73,\n",
              " 'million': 3086,\n",
              " 'miles': 3082,\n",
              " 'per': 3519,\n",
              " 'driving': 1481,\n",
              " 'navigation': 3211,\n",
              " 'growing': 2139,\n",
              " 'band': 489,\n",
              " 'share': 4237,\n",
              " 'track': 4943,\n",
              " 'audience': 421,\n",
              " 'stage': 4486,\n",
              " 'use': 5124,\n",
              " 'frostwire': 1933,\n",
              " 'wi': 5313,\n",
              " 'fi': 1797,\n",
              " 'available': 444,\n",
              " 'don': 1435,\n",
              " 'car': 793,\n",
              " 'zimride': 5472,\n",
              " 'etc': 1627,\n",
              " 'rides': 4024,\n",
              " 'shareable': 4238,\n",
              " 'picked': 3550,\n",
              " 'mophie': 3153,\n",
              " 'battery': 523,\n",
              " 'prep': 3685,\n",
              " 'lugging': 2918,\n",
              " 'laptop': 2739,\n",
              " 'huge': 2371,\n",
              " 'last': 2746,\n",
              " 'hobo': 2308,\n",
              " 'shotgun': 4272,\n",
              " 'yes': 5443,\n",
              " 'please': 3603,\n",
              " 'build': 729,\n",
              " 'less': 2793,\n",
              " '24': 52,\n",
              " 'hours': 2354,\n",
              " 'biggest': 590,\n",
              " 'launches': 2757,\n",
              " 'history': 2298,\n",
              " 'read': 3865,\n",
              " 'groupme': 2135,\n",
              " 'sounds': 4433,\n",
              " 'incredible': 2466,\n",
              " 'phones': 3540,\n",
              " 'yet': 5445,\n",
              " 'alarms': 254,\n",
              " 'botch': 652,\n",
              " 'timechange': 4874,\n",
              " 'freak': 1914,\n",
              " 'missed': 3104,\n",
              " 'panels': 3455,\n",
              " 'bloody': 622,\n",
              " 'marys': 2998,\n",
              " 'shouts': 4278,\n",
              " 'ladies': 2729,\n",
              " 'holding': 2311,\n",
              " 'shows': 4285,\n",
              " 'photos': 3544,\n",
              " 'sipping': 4314,\n",
              " 'beer': 550,\n",
              " 'cc': 825,\n",
              " 'meant': 3028,\n",
              " 'wish': 5345,\n",
              " 'dyac': 1505,\n",
              " 'stupid': 4577,\n",
              " 'rumors': 4081,\n",
              " 'opening': 3365,\n",
              " 'signs': 4301,\n",
              " 'point': 3618,\n",
              " '15': 26,\n",
              " 'minute': 3099,\n",
              " 'brilliant': 698,\n",
              " 'enlightening': 1593,\n",
              " 'mechanics': 3033,\n",
              " 'presentation': 3693,\n",
              " 'sales': 4096,\n",
              " 'genius': 2014,\n",
              " 'dictaphone': 1346,\n",
              " 'vid': 5176,\n",
              " 'camera': 776,\n",
              " 'wow': 5399,\n",
              " 'cerebellum': 840,\n",
              " 'charged': 863,\n",
              " 'personal': 3531,\n",
              " 'found': 1904,\n",
              " 'kyping': 2724,\n",
              " 'geolocation': 2019,\n",
              " 'releasing': 3942,\n",
              " 'when': 5297,\n",
              " 'background': 470,\n",
              " 'patch': 3491,\n",
              " 'batterykiller': 524,\n",
              " 'live': 2844,\n",
              " 'rsvp': 4073,\n",
              " 'sundayswagger': 4606,\n",
              " 'eventbrite': 1638,\n",
              " '20': 43,\n",
              " 'scoremore': 4153,\n",
              " 'course': 1121,\n",
              " 'built': 732,\n",
              " 'temp': 4769,\n",
              " 'texas': 4791,\n",
              " 'understand': 5067,\n",
              " 'concept': 1027,\n",
              " 'corralling': 1105,\n",
              " 'cattle': 819,\n",
              " 'pickmeupanipad2': 3552,\n",
              " 'didn': 1349,\n",
              " 'let': 2795,\n",
              " 'something': 4417,\n",
              " 'having': 2227,\n",
              " 'retail': 4000,\n",
              " 'near': 3215,\n",
              " 'keep': 2669,\n",
              " 'surprise': 4622,\n",
              " 'opened': 3363,\n",
              " 'town': 4941,\n",
              " 'cnet': 958,\n",
              " 'ipads': 2572,\n",
              " 'open': 3360,\n",
              " 'noon': 3274,\n",
              " 'fresh': 1920,\n",
              " 'shipment': 4256,\n",
              " 'pretty': 3701,\n",
              " 'fingers': 1823,\n",
              " 'crossed': 1172,\n",
              " 'technews': 4754,\n",
              " 'saves': 4116,\n",
              " 'set': 4217,\n",
              " 'tech_news': 4747,\n",
              " 'lt': 2913,\n",
              " 'true': 4984,\n",
              " 'loathe': 2855,\n",
              " 'blogs': 621,\n",
              " 'atx': 419,\n",
              " 'mall': 2962,\n",
              " '10x': 13,\n",
              " 'crowded': 1176,\n",
              " 'fake': 1728,\n",
              " 'fucking': 1944,\n",
              " 'dongle': 1440,\n",
              " 'makeshift': 2958,\n",
              " 'kidding': 2690,\n",
              " 'amazing': 278,\n",
              " 'fanboy': 1734,\n",
              " 'shit': 4260,\n",
              " 'temptation': 4774,\n",
              " 'control': 1072,\n",
              " 'opens': 3366,\n",
              " '5pm': 103,\n",
              " 'view': 5182,\n",
              " 'io': 2559,\n",
              " 'office': 3328,\n",
              " 'news': 3242,\n",
              " '150': 27,\n",
              " 'software': 4403,\n",
              " 'development': 1336,\n",
              " 'once': 3351,\n",
              " 'release': 3939,\n",
              " 'working': 5383,\n",
              " 'overheard': 3414,\n",
              " 'relaxing': 3938,\n",
              " 'computer': 1024,\n",
              " 'agreed': 229,\n",
              " 'arg': 370,\n",
              " 'hate': 2220,\n",
              " 'blackberry': 605,\n",
              " 'back': 469,\n",
              " 'shocked': 4262,\n",
              " 'everbody': 1644,\n",
              " 'talking': 4718,\n",
              " 'media': 3034,\n",
              " 'driven': 1478,\n",
              " 'revolutions': 4015,\n",
              " 'better': 580,\n",
              " 'long': 2874,\n",
              " 'knackered': 2709,\n",
              " 'playing': 3600,\n",
              " 'updating': 5107,\n",
              " 'timeline': 4875,\n",
              " 'smashed': 4367,\n",
              " 'partytweets': 3483,\n",
              " 'go': 2058,\n",
              " 'bed': 547,\n",
              " 'mdw': 3021,\n",
              " 'second': 4172,\n",
              " 'halfway': 2182,\n",
              " 'through': 4853,\n",
              " 'haven': 2225,\n",
              " 'even': 1635,\n",
              " 'boarded': 632,\n",
              " 'plane': 3582,\n",
              " 'amateurhour': 277,\n",
              " 'jobs_co': 2631,\n",
              " 'crowd': 1174,\n",
              " 'tripping': 4978,\n",
              " 'each': 1509,\n",
              " 'other': 3396,\n",
              " 'aclu': 165,\n",
              " '80': 116,\n",
              " 'laughed': 2754,\n",
              " 'until': 5095,\n",
              " 'week': 5278,\n",
              " 'hauling': 2223,\n",
              " 'macbook': 2930,\n",
              " 'everywhere': 1652,\n",
              " 'shoulder': 4275,\n",
              " 'rub': 4075,\n",
              " 'attendees': 412,\n",
              " 'qr': 3798,\n",
              " 'code': 969,\n",
              " 'reader': 3866,\n",
              " 'tweet': 5018,\n",
              " 'image': 2421,\n",
              " 'badge': 476,\n",
              " 'optiscan': 3375,\n",
              " 'four': 1905,\n",
              " 'took': 4911,\n",
              " 'lego': 2788,\n",
              " 'pit': 3567,\n",
              " 'replaced': 3961,\n",
              " 'recharging': 3889,\n",
              " 'station': 4506,\n",
              " 'might': 3080,\n",
              " 'prices': 3707,\n",
              " 'crap': 1137,\n",
              " 'samsung': 4102,\n",
              " 'bad': 475,\n",
              " 'qs': 3802,\n",
              " 'process': 3724,\n",
              " 'poo': 3626,\n",
              " 'poos': 3630,\n",
              " 'ideas': 2397,\n",
              " 'leaves': 2784,\n",
              " 'early': 1514,\n",
              " 'too': 4908,\n",
              " 'creative': 1159,\n",
              " 'busy': 744,\n",
              " 'gamestorming': 1979,\n",
              " 'trying': 4993,\n",
              " 'balance': 482,\n",
              " 'vs': 5213,\n",
              " 'airplane': 243,\n",
              " 'mode': 3130,\n",
              " '100': 5,\n",
              " 'tweets': 5026,\n",
              " 'precommerce': 3675,\n",
              " 'watch': 5253,\n",
              " 'ipadmadness': 2571,\n",
              " 'shop': 4265,\n",
              " 'core': 1101,\n",
              " 'action': 170,\n",
              " 'celebrate': 827,\n",
              " 'beauty': 543,\n",
              " 'web': 5267,\n",
              " 'msft': 3179,\n",
              " 'ie9': 2405,\n",
              " 'play': 3593,\n",
              " 'html5': 2367,\n",
              " 'had': 2176,\n",
              " 'improve': 2446,\n",
              " 'beyond': 585,\n",
              " 'sharing': 4241,\n",
              " 'positive': 3647,\n",
              " 'actions': 171,\n",
              " 'world': 5386,\n",
              " 'download': 1459,\n",
              " 'earthhour': 1520,\n",
              " '60': 105,\n",
              " 'bing': 594,\n",
              " 'bettersearch': 581,\n",
              " 'shot': 4271,\n",
              " 'success': 4584,\n",
              " 'structured': 4563,\n",
              " 'potentially': 3658,\n",
              " 'higher': 2278,\n",
              " 'margin': 2983,\n",
              " 'cpa': 1133,\n",
              " 'model': 3131,\n",
              " 'results': 3998,\n",
              " 'seo': 4200,\n",
              " 'qagb': 3796,\n",
              " 'impulsive': 2451,\n",
              " 'friends': 1927,\n",
              " 'gen': 2008,\n",
              " '32gb': 72,\n",
              " 'buying': 752,\n",
              " 'herself': 2269,\n",
              " 'present': 3692,\n",
              " 'rsq': 4072,\n",
              " 'certain': 842,\n",
              " 'meetings': 3037,\n",
              " 'hello': 2260,\n",
              " 'dont': 1442,\n",
              " 'miss': 3103,\n",
              " 'charles': 870,\n",
              " 'chen': 886,\n",
              " 'chromeos': 910,\n",
              " 'access': 152,\n",
              " 'booth': 642,\n",
              " 'exhibit': 1674,\n",
              " 'hall': 2183,\n",
              " '1pm': 41,\n",
              " 'guess': 2151,\n",
              " 'desperate': 1321,\n",
              " 'locations': 2863,\n",
              " 'considering': 1051,\n",
              " 'leaving': 2785,\n",
              " 'pro': 3720,\n",
              " 'flying': 1861,\n",
              " 'solo': 4407,\n",
              " 'think': 4831,\n",
              " 'work': 5379,\n",
              " 'battlela': 527,\n",
              " 'secret': 4174,\n",
              " 'batphone': 520,\n",
              " 'tv': 5013,\n",
              " 'league': 2772,\n",
              " 'extraordinary': 1705,\n",
              " 'hackers': 2174,\n",
              " 'lxh': 2923,\n",
              " 'big': 588,\n",
              " 'chunky': 913,\n",
              " 'elements': 1553,\n",
              " 'generous': 2013,\n",
              " 'clarity': 925,\n",
              " 'trumps': 4987,\n",
              " 'density': 1308,\n",
              " 'tap': 4721,\n",
              " 'quality': 3807,\n",
              " 'quantity': 3808,\n",
              " 'tapworthy': 4722,\n",
              " 'designing': 1316,\n",
              " 'interfaces': 2529,\n",
              " 'schemas': 4144,\n",
              " 'thinks': 4833,\n",
              " 'content': 1063,\n",
              " 'nuts': 3303,\n",
              " 'another': 307,\n",
              " 'network': 3233,\n",
              " 'docomo': 1417,\n",
              " 'introduced': 2544,\n",
              " 'years': 5436,\n",
              " 'before': 551,\n",
              " 'came': 775,\n",
              " 'jpmobilesummit': 2646,\n",
              " 'jeez': 2620,\n",
              " 'guys': 2164,\n",
              " 'dunno': 1500,\n",
              " 'gold': 2071,\n",
              " 'realize': 3873,\n",
              " 'un': 5054,\n",
              " 'jobs': 2630,\n",
              " 'aesthetic': 210,\n",
              " 'begins': 555,\n",
              " 'wins': 5337,\n",
              " 'tc': 4734,\n",
              " 'support': 4613,\n",
              " 'techcrunch': 4748,\n",
              " 'pm': 3613,\n",
              " 'swag': 4635,\n",
              " 'charging': 868,\n",
              " 'timing': 4878,\n",
              " 'everything': 1650,\n",
              " 'brand': 675,\n",
              " 'winner': 5334,\n",
              " 'pnid': 3614,\n",
              " 'exhibitors': 1675,\n",
              " 'capture': 791,\n",
              " 'experience': 1685,\n",
              " 'retrollect': 4002,\n",
              " 'disc': 1382,\n",
              " 'most': 3159,\n",
              " 'popular': 3636,\n",
              " 'fantastic': 1740,\n",
              " 'schedule': 4139,\n",
              " 'bummer': 735,\n",
              " 'am': 276,\n",
              " 'crackberry': 1136,\n",
              " 'accessory': 156,\n",
              " 'followed': 1870,\n",
              " 'closely': 946,\n",
              " 'margarita': 2982,\n",
              " 'fav': 1759,\n",
              " 'fell': 1782,\n",
              " 'throwing': 4857,\n",
              " 'nerd': 3222,\n",
              " 'speakeasy': 4446,\n",
              " 'during': 1502,\n",
              " 'way': 5260,\n",
              " 'figure': 1802,\n",
              " 'replacement': 3962,\n",
              " 'making': 2959,\n",
              " 'stream': 4550,\n",
              " 'follow': 1869,\n",
              " 'inane': 2455,\n",
              " 'surely': 4618,\n",
              " 'southby': 4436,\n",
              " 'focusing': 1866,\n",
              " 'bridging': 693,\n",
              " 'digital': 1364,\n",
              " 'physical': 3546,\n",
              " 'divide': 1407,\n",
              " ...}"
            ]
          },
          "metadata": {
            "tags": []
          },
          "execution_count": 218
        }
      ]
    },
    {
      "cell_type": "markdown",
      "metadata": {
        "id": "dwtgjTBeH0Ny",
        "colab_type": "text"
      },
      "source": [
        "#### Tip: To see all available functions for an Object use dir"
      ]
    },
    {
      "cell_type": "code",
      "metadata": {
        "id": "2n_iCcTNH0N0",
        "colab_type": "code",
        "colab": {
          "base_uri": "https://localhost:8080/",
          "height": 1309
        },
        "outputId": "4cc6dbce-d3e3-4d92-e8ad-29bb2df44b4d"
      },
      "source": [
        "dir(vect)"
      ],
      "execution_count": 214,
      "outputs": [
        {
          "output_type": "execute_result",
          "data": {
            "text/plain": [
              "['__class__',\n",
              " '__delattr__',\n",
              " '__dict__',\n",
              " '__dir__',\n",
              " '__doc__',\n",
              " '__eq__',\n",
              " '__format__',\n",
              " '__ge__',\n",
              " '__getattribute__',\n",
              " '__getstate__',\n",
              " '__gt__',\n",
              " '__hash__',\n",
              " '__init__',\n",
              " '__init_subclass__',\n",
              " '__le__',\n",
              " '__lt__',\n",
              " '__module__',\n",
              " '__ne__',\n",
              " '__new__',\n",
              " '__reduce__',\n",
              " '__reduce_ex__',\n",
              " '__repr__',\n",
              " '__setattr__',\n",
              " '__setstate__',\n",
              " '__sizeof__',\n",
              " '__str__',\n",
              " '__subclasshook__',\n",
              " '__weakref__',\n",
              " '_char_ngrams',\n",
              " '_char_wb_ngrams',\n",
              " '_check_stop_words_consistency',\n",
              " '_check_vocabulary',\n",
              " '_count_vocab',\n",
              " '_get_param_names',\n",
              " '_get_tags',\n",
              " '_limit_features',\n",
              " '_more_tags',\n",
              " '_sort_features',\n",
              " '_stop_words_id',\n",
              " '_validate_custom_analyzer',\n",
              " '_validate_params',\n",
              " '_validate_vocabulary',\n",
              " '_white_spaces',\n",
              " '_word_ngrams',\n",
              " 'analyzer',\n",
              " 'binary',\n",
              " 'build_analyzer',\n",
              " 'build_preprocessor',\n",
              " 'build_tokenizer',\n",
              " 'decode',\n",
              " 'decode_error',\n",
              " 'dtype',\n",
              " 'encoding',\n",
              " 'fit',\n",
              " 'fit_transform',\n",
              " 'fixed_vocabulary_',\n",
              " 'get_feature_names',\n",
              " 'get_params',\n",
              " 'get_stop_words',\n",
              " 'input',\n",
              " 'inverse_transform',\n",
              " 'lowercase',\n",
              " 'max_df',\n",
              " 'max_features',\n",
              " 'min_df',\n",
              " 'ngram_range',\n",
              " 'preprocessor',\n",
              " 'set_params',\n",
              " 'stop_words',\n",
              " 'stop_words_',\n",
              " 'strip_accents',\n",
              " 'token_pattern',\n",
              " 'tokenizer',\n",
              " 'transform',\n",
              " 'vocabulary',\n",
              " 'vocabulary_']"
            ]
          },
          "metadata": {
            "tags": []
          },
          "execution_count": 214
        }
      ]
    },
    {
      "cell_type": "markdown",
      "metadata": {
        "id": "ShA6D8jKH0N5",
        "colab_type": "text"
      },
      "source": [
        "### 18. Find out how many Positive and Negative emotions are there.\n",
        "\n",
        "Hint: Use value_counts on that column"
      ]
    },
    {
      "cell_type": "code",
      "metadata": {
        "id": "q7LAl5pzH0N6",
        "colab_type": "code",
        "colab": {
          "base_uri": "https://localhost:8080/",
          "height": 68
        },
        "outputId": "3ccf56cc-9ce8-4b0a-b261-fef3d96ac2bb"
      },
      "source": [
        "data['is_there_an_emotion_directed_at_a_brand_or_product'].value_counts()"
      ],
      "execution_count": 219,
      "outputs": [
        {
          "output_type": "execute_result",
          "data": {
            "text/plain": [
              "Positive emotion    2672\n",
              "Negative emotion     519\n",
              "Name: is_there_an_emotion_directed_at_a_brand_or_product, dtype: int64"
            ]
          },
          "metadata": {
            "tags": []
          },
          "execution_count": 219
        }
      ]
    },
    {
      "cell_type": "markdown",
      "metadata": {
        "id": "IUvgj0FoH0N9",
        "colab_type": "text"
      },
      "source": [
        "### 19. Change the labels for Positive and Negative emotions as 1 and 0 respectively and store in a different column in the same dataframe named 'Label'\n",
        "\n",
        "Hint: use map on that column and give labels"
      ]
    },
    {
      "cell_type": "code",
      "metadata": {
        "id": "YftKwFv7H0N9",
        "colab_type": "code",
        "colab": {
          "base_uri": "https://localhost:8080/",
          "height": 221
        },
        "outputId": "1ec4a1c5-cc01-487d-8043-722d7e22b721"
      },
      "source": [
        "data[\"is_there_an_emotion_directed_at_a_brand_or_product\"] = data[\"is_there_an_emotion_directed_at_a_brand_or_product\"].astype(\"category\")\n",
        "\n",
        "data[\"Label\"] = data[\"is_there_an_emotion_directed_at_a_brand_or_product\"].cat.codes"
      ],
      "execution_count": 229,
      "outputs": [
        {
          "output_type": "stream",
          "text": [
            "/usr/local/lib/python3.6/dist-packages/ipykernel_launcher.py:1: SettingWithCopyWarning: \n",
            "A value is trying to be set on a copy of a slice from a DataFrame.\n",
            "Try using .loc[row_indexer,col_indexer] = value instead\n",
            "\n",
            "See the caveats in the documentation: http://pandas.pydata.org/pandas-docs/stable/indexing.html#indexing-view-versus-copy\n",
            "  \"\"\"Entry point for launching an IPython kernel.\n",
            "/usr/local/lib/python3.6/dist-packages/ipykernel_launcher.py:3: SettingWithCopyWarning: \n",
            "A value is trying to be set on a copy of a slice from a DataFrame.\n",
            "Try using .loc[row_indexer,col_indexer] = value instead\n",
            "\n",
            "See the caveats in the documentation: http://pandas.pydata.org/pandas-docs/stable/indexing.html#indexing-view-versus-copy\n",
            "  This is separate from the ipykernel package so we can avoid doing imports until\n"
          ],
          "name": "stderr"
        }
      ]
    },
    {
      "cell_type": "code",
      "metadata": {
        "id": "L8RJd4dR0KUr",
        "colab_type": "code",
        "colab": {}
      },
      "source": [
        ""
      ],
      "execution_count": 0,
      "outputs": []
    },
    {
      "cell_type": "code",
      "metadata": {
        "id": "HkBVK3enzrwZ",
        "colab_type": "code",
        "colab": {}
      },
      "source": [
        ""
      ],
      "execution_count": 0,
      "outputs": []
    },
    {
      "cell_type": "code",
      "metadata": {
        "id": "8sNlq7sRyM3l",
        "colab_type": "code",
        "colab": {
          "base_uri": "https://localhost:8080/",
          "height": 289
        },
        "outputId": "20a71aa0-b913-4bc5-fe74-3487f39b2c24"
      },
      "source": [
        "data.head()"
      ],
      "execution_count": 231,
      "outputs": [
        {
          "output_type": "execute_result",
          "data": {
            "text/html": [
              "<div>\n",
              "<style scoped>\n",
              "    .dataframe tbody tr th:only-of-type {\n",
              "        vertical-align: middle;\n",
              "    }\n",
              "\n",
              "    .dataframe tbody tr th {\n",
              "        vertical-align: top;\n",
              "    }\n",
              "\n",
              "    .dataframe thead th {\n",
              "        text-align: right;\n",
              "    }\n",
              "</style>\n",
              "<table border=\"1\" class=\"dataframe\">\n",
              "  <thead>\n",
              "    <tr style=\"text-align: right;\">\n",
              "      <th></th>\n",
              "      <th>tweet_text</th>\n",
              "      <th>emotion_in_tweet_is_directed_at</th>\n",
              "      <th>is_there_an_emotion_directed_at_a_brand_or_product</th>\n",
              "      <th>text</th>\n",
              "      <th>Label</th>\n",
              "    </tr>\n",
              "  </thead>\n",
              "  <tbody>\n",
              "    <tr>\n",
              "      <th>0</th>\n",
              "      <td>.@wesley83 I have a 3G iPhone. After 3 hrs twe...</td>\n",
              "      <td>iPhone</td>\n",
              "      <td>Negative emotion</td>\n",
              "      <td>.@wesley83 I have a 3G iPhone. After 3 hrs twe...</td>\n",
              "      <td>0</td>\n",
              "    </tr>\n",
              "    <tr>\n",
              "      <th>1</th>\n",
              "      <td>@jessedee Know about @fludapp ? Awesome iPad/i...</td>\n",
              "      <td>iPad or iPhone App</td>\n",
              "      <td>Positive emotion</td>\n",
              "      <td>@jessedee Know about @fludapp ? Awesome iPad/i...</td>\n",
              "      <td>1</td>\n",
              "    </tr>\n",
              "    <tr>\n",
              "      <th>2</th>\n",
              "      <td>@swonderlin Can not wait for #iPad 2 also. The...</td>\n",
              "      <td>iPad</td>\n",
              "      <td>Positive emotion</td>\n",
              "      <td>@swonderlin Can not wait for #iPad 2 also. The...</td>\n",
              "      <td>1</td>\n",
              "    </tr>\n",
              "    <tr>\n",
              "      <th>3</th>\n",
              "      <td>@sxsw I hope this year's festival isn't as cra...</td>\n",
              "      <td>iPad or iPhone App</td>\n",
              "      <td>Negative emotion</td>\n",
              "      <td>@sxsw I hope this year's festival isn't as cra...</td>\n",
              "      <td>0</td>\n",
              "    </tr>\n",
              "    <tr>\n",
              "      <th>4</th>\n",
              "      <td>@sxtxstate great stuff on Fri #SXSW: Marissa M...</td>\n",
              "      <td>Google</td>\n",
              "      <td>Positive emotion</td>\n",
              "      <td>@sxtxstate great stuff on Fri #SXSW: Marissa M...</td>\n",
              "      <td>1</td>\n",
              "    </tr>\n",
              "  </tbody>\n",
              "</table>\n",
              "</div>"
            ],
            "text/plain": [
              "                                          tweet_text  ... Label\n",
              "0  .@wesley83 I have a 3G iPhone. After 3 hrs twe...  ...     0\n",
              "1  @jessedee Know about @fludapp ? Awesome iPad/i...  ...     1\n",
              "2  @swonderlin Can not wait for #iPad 2 also. The...  ...     1\n",
              "3  @sxsw I hope this year's festival isn't as cra...  ...     0\n",
              "4  @sxtxstate great stuff on Fri #SXSW: Marissa M...  ...     1\n",
              "\n",
              "[5 rows x 5 columns]"
            ]
          },
          "metadata": {
            "tags": []
          },
          "execution_count": 231
        }
      ]
    },
    {
      "cell_type": "markdown",
      "metadata": {
        "id": "3YErwYLCH0N_",
        "colab_type": "text"
      },
      "source": [
        "### 20. Define the feature set (independent variable or X) to be `text` column and `labels` as target (or dependent variable)  and divide into train and test datasets"
      ]
    },
    {
      "cell_type": "code",
      "metadata": {
        "id": "lNkwrGgEH0OA",
        "colab_type": "code",
        "colab": {}
      },
      "source": [
        "from sklearn.model_selection import train_test_split\n",
        "X_train, X_test, y_train, y_test = train_test_split(X_features, data[\"Label\"], random_state=2)"
      ],
      "execution_count": 0,
      "outputs": []
    },
    {
      "cell_type": "markdown",
      "metadata": {
        "id": "Q5nlCuaaH0OD",
        "colab_type": "text"
      },
      "source": [
        "## 21. **Predicting the sentiment:**\n",
        "\n",
        "\n",
        "### Use Naive Bayes and Logistic Regression and their accuracy scores for predicting the sentiment of the given text"
      ]
    },
    {
      "cell_type": "code",
      "metadata": {
        "id": "2AbVYssaH0OE",
        "colab_type": "code",
        "colab": {}
      },
      "source": [
        "from sklearn.naive_bayes import MultinomialNB\n",
        "nb = MultinomialNB()"
      ],
      "execution_count": 0,
      "outputs": []
    },
    {
      "cell_type": "code",
      "metadata": {
        "id": "ktXrLhmOH0Of",
        "colab_type": "code",
        "colab": {
          "base_uri": "https://localhost:8080/",
          "height": 34
        },
        "outputId": "7243b300-1f44-45e9-8bb1-809aa5a6b84a"
      },
      "source": [
        "# train the model using X_train_dtm\n",
        "nb.fit(X_train, y_train)"
      ],
      "execution_count": 235,
      "outputs": [
        {
          "output_type": "execute_result",
          "data": {
            "text/plain": [
              "MultinomialNB(alpha=1.0, class_prior=None, fit_prior=True)"
            ]
          },
          "metadata": {
            "tags": []
          },
          "execution_count": 235
        }
      ]
    },
    {
      "cell_type": "code",
      "metadata": {
        "id": "clv2X0kKH0Ok",
        "colab_type": "code",
        "colab": {}
      },
      "source": [
        "# make class predictions \n",
        "y_pred_class = nb.predict(X_test)"
      ],
      "execution_count": 0,
      "outputs": []
    },
    {
      "cell_type": "code",
      "metadata": {
        "id": "K86LRMfdH0Ou",
        "colab_type": "code",
        "colab": {
          "base_uri": "https://localhost:8080/",
          "height": 34
        },
        "outputId": "f4e2eb53-efd1-4fe2-cb2f-7a5076fdcb8e"
      },
      "source": [
        "# calculate accuracy of class predictions\n",
        "from sklearn import metrics\n",
        "metrics.accuracy_score(y_test, y_pred_class)"
      ],
      "execution_count": 239,
      "outputs": [
        {
          "output_type": "execute_result",
          "data": {
            "text/plain": [
              "0.8558897243107769"
            ]
          },
          "metadata": {
            "tags": []
          },
          "execution_count": 239
        }
      ]
    },
    {
      "cell_type": "code",
      "metadata": {
        "id": "DyNTrRjM1FmC",
        "colab_type": "code",
        "colab": {}
      },
      "source": [
        ""
      ],
      "execution_count": 0,
      "outputs": []
    },
    {
      "cell_type": "code",
      "metadata": {
        "id": "AdKcCE551FzT",
        "colab_type": "code",
        "colab": {}
      },
      "source": [
        "#Logistic\n",
        "from sklearn.linear_model import LogisticRegression\n",
        "lg = LogisticRegression()"
      ],
      "execution_count": 0,
      "outputs": []
    },
    {
      "cell_type": "code",
      "metadata": {
        "id": "s5_idSDV1FiK",
        "colab_type": "code",
        "colab": {
          "base_uri": "https://localhost:8080/",
          "height": 156
        },
        "outputId": "ac0c76a8-f517-4bdd-ebb5-3a542a7f9081"
      },
      "source": [
        "lg.fit(X_train, y_train)"
      ],
      "execution_count": 244,
      "outputs": [
        {
          "output_type": "stream",
          "text": [
            "/usr/local/lib/python3.6/dist-packages/sklearn/linear_model/logistic.py:432: FutureWarning: Default solver will be changed to 'lbfgs' in 0.22. Specify a solver to silence this warning.\n",
            "  FutureWarning)\n"
          ],
          "name": "stderr"
        },
        {
          "output_type": "execute_result",
          "data": {
            "text/plain": [
              "LogisticRegression(C=1.0, class_weight=None, dual=False, fit_intercept=True,\n",
              "                   intercept_scaling=1, l1_ratio=None, max_iter=100,\n",
              "                   multi_class='warn', n_jobs=None, penalty='l2',\n",
              "                   random_state=None, solver='warn', tol=0.0001, verbose=0,\n",
              "                   warm_start=False)"
            ]
          },
          "metadata": {
            "tags": []
          },
          "execution_count": 244
        }
      ]
    },
    {
      "cell_type": "code",
      "metadata": {
        "id": "44Lb6jFE1Fd3",
        "colab_type": "code",
        "colab": {}
      },
      "source": [
        "y_pred_class_lg = lg.predict(X_test)"
      ],
      "execution_count": 0,
      "outputs": []
    },
    {
      "cell_type": "code",
      "metadata": {
        "id": "EmUBpBoM2Ihu",
        "colab_type": "code",
        "colab": {
          "base_uri": "https://localhost:8080/",
          "height": 34
        },
        "outputId": "0b18ab21-861c-4938-b0f4-e715808169c5"
      },
      "source": [
        "from sklearn import metrics\n",
        "metrics.accuracy_score(y_test, y_pred_class_lg)"
      ],
      "execution_count": 246,
      "outputs": [
        {
          "output_type": "execute_result",
          "data": {
            "text/plain": [
              "0.868421052631579"
            ]
          },
          "metadata": {
            "tags": []
          },
          "execution_count": 246
        }
      ]
    },
    {
      "cell_type": "markdown",
      "metadata": {
        "id": "sw-0B33tH0Ox",
        "colab_type": "text"
      },
      "source": [
        "## 22. Create a function called `tokenize_predict` which can take count vectorizer object as input and prints the accuracy for x (text) and y (labels)"
      ]
    },
    {
      "cell_type": "code",
      "metadata": {
        "id": "okCTOs1TH0Oy",
        "colab_type": "code",
        "colab": {}
      },
      "source": [
        "def tokenize_predict(vect):\n",
        "    x_train_dtm = vect.fit_transform(X_train_1)\n",
        "    print('Features: ', x_train_dtm.shape[1])\n",
        "    x_test_dtm = vect.transform(X_test_1)\n",
        "    nb = MultinomialNB()\n",
        "    nb.fit(x_train_dtm, y_train_1)\n",
        "    y_pred_class = nb.predict(x_test_dtm)\n",
        "    print('Accuracy: ', metrics.accuracy_score(y_test_1, y_pred_class))"
      ],
      "execution_count": 0,
      "outputs": []
    },
    {
      "cell_type": "markdown",
      "metadata": {
        "id": "JxZ8jfPEH0O0",
        "colab_type": "text"
      },
      "source": [
        "### Create a count vectorizer function which includes n_grams = 1,2  and pass it to tokenize_predict function to print the accuracy score"
      ]
    },
    {
      "cell_type": "code",
      "metadata": {
        "id": "kdCyAN_IH0O0",
        "colab_type": "code",
        "colab": {
          "base_uri": "https://localhost:8080/",
          "height": 51
        },
        "outputId": "387b8c7c-71bc-4c41-ee07-17ed8998e6d6"
      },
      "source": [
        "vect = CountVectorizer(ngram_range=(1,2))\n",
        "\n",
        "from sklearn.model_selection import train_test_split\n",
        "X_train_1, X_test_1, y_train_1, y_test_1 = train_test_split(data[\"text\"], data[\"Label\"], random_state=2)\n",
        "tokenize_predict(vect)"
      ],
      "execution_count": 257,
      "outputs": [
        {
          "output_type": "stream",
          "text": [
            "Features:  23881\n",
            "Accuracy:  0.8709273182957393\n"
          ],
          "name": "stdout"
        }
      ]
    },
    {
      "cell_type": "markdown",
      "metadata": {
        "id": "axepytmgH0O4",
        "colab_type": "text"
      },
      "source": [
        "### Create a count vectorizer function with stopwords = 'english'  and pass it to tokenize_predict function to print the accuracy score"
      ]
    },
    {
      "cell_type": "code",
      "metadata": {
        "id": "HToGkq7vH0O4",
        "colab_type": "code",
        "colab": {
          "base_uri": "https://localhost:8080/",
          "height": 51
        },
        "outputId": "80378936-7a4e-4adc-b155-080f0ba9489b"
      },
      "source": [
        "vect = CountVectorizer(stop_words='english')\n",
        "\n",
        "from sklearn.model_selection import train_test_split\n",
        "X_train_1, X_test_1, y_train_1, y_test_1 = train_test_split(data[\"text\"], data[\"Label\"], random_state=2)\n",
        "tokenize_predict(vect)"
      ],
      "execution_count": 260,
      "outputs": [
        {
          "output_type": "stream",
          "text": [
            "Features:  4531\n",
            "Accuracy:  0.8634085213032582\n"
          ],
          "name": "stdout"
        }
      ]
    },
    {
      "cell_type": "markdown",
      "metadata": {
        "id": "iOIlJRxoH0O7",
        "colab_type": "text"
      },
      "source": [
        "### Create a count vectorizer function with stopwords = 'english' and max_features =300  and pass it to tokenize_predict function to print the accuracy score"
      ]
    },
    {
      "cell_type": "code",
      "metadata": {
        "id": "6fUhff-oH0O8",
        "colab_type": "code",
        "colab": {
          "base_uri": "https://localhost:8080/",
          "height": 51
        },
        "outputId": "44baff95-b6ee-4225-b446-cb70676519fe"
      },
      "source": [
        "vect = CountVectorizer(stop_words='english', max_features=300)\n",
        "\n",
        "from sklearn.model_selection import train_test_split\n",
        "X_train_1, X_test_1, y_train_1, y_test_1 = train_test_split(data[\"text\"], data[\"Label\"], random_state=2)\n",
        "tokenize_predict(vect)"
      ],
      "execution_count": 261,
      "outputs": [
        {
          "output_type": "stream",
          "text": [
            "Features:  300\n",
            "Accuracy:  0.8245614035087719\n"
          ],
          "name": "stdout"
        }
      ]
    },
    {
      "cell_type": "markdown",
      "metadata": {
        "id": "S2KZNWVkH0PA",
        "colab_type": "text"
      },
      "source": [
        "### Create a count vectorizer function with n_grams = 1,2  and max_features = 15000  and pass it to tokenize_predict function to print the accuracy score"
      ]
    },
    {
      "cell_type": "code",
      "metadata": {
        "id": "3v9XD082H0PB",
        "colab_type": "code",
        "colab": {
          "base_uri": "https://localhost:8080/",
          "height": 51
        },
        "outputId": "066ad34e-196d-4db8-de16-db73f029f1f2"
      },
      "source": [
        "vect = CountVectorizer(ngram_range=(1,2),stop_words='english', max_features=15000)\n",
        "\n",
        "from sklearn.model_selection import train_test_split\n",
        "X_train_1, X_test_1, y_train_1, y_test_1 = train_test_split(data[\"text\"], data[\"Label\"], random_state=2)\n",
        "tokenize_predict(vect)"
      ],
      "execution_count": 263,
      "outputs": [
        {
          "output_type": "stream",
          "text": [
            "Features:  15000\n",
            "Accuracy:  0.87468671679198\n"
          ],
          "name": "stdout"
        }
      ]
    },
    {
      "cell_type": "markdown",
      "metadata": {
        "id": "We3JK_SRH0PO",
        "colab_type": "text"
      },
      "source": [
        "### Create a count vectorizer function with n_grams = 1,2  and include terms that appear at least 2 times (min_df = 2)  and pass it to tokenize_predict function to print the accuracy score"
      ]
    },
    {
      "cell_type": "code",
      "metadata": {
        "id": "fUHrfDCyH0PP",
        "colab_type": "code",
        "colab": {
          "base_uri": "https://localhost:8080/",
          "height": 51
        },
        "outputId": "c4592f2f-6823-4d6c-cb64-b310d9f586e1"
      },
      "source": [
        "vect = CountVectorizer(ngram_range=(1,2),min_df = 2)\n",
        "\n",
        "from sklearn.model_selection import train_test_split\n",
        "X_train_1, X_test_1, y_train_1, y_test_1 = train_test_split(data[\"text\"], data[\"Label\"], random_state=2)\n",
        "tokenize_predict(vect)"
      ],
      "execution_count": 265,
      "outputs": [
        {
          "output_type": "stream",
          "text": [
            "Features:  7582\n",
            "Accuracy:  0.8771929824561403\n"
          ],
          "name": "stdout"
        }
      ]
    },
    {
      "cell_type": "code",
      "metadata": {
        "id": "3H4k_lVZH0PS",
        "colab_type": "code",
        "colab": {}
      },
      "source": [
        ""
      ],
      "execution_count": 0,
      "outputs": []
    }
  ]
}