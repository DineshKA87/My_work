{
  "nbformat": 4,
  "nbformat_minor": 0,
  "metadata": {
    "colab": {
      "name": "planting.ipynb",
      "version": "0.3.2",
      "provenance": [],
      "collapsed_sections": []
    },
    "kernelspec": {
      "name": "python3",
      "display_name": "Python 3"
    },
    "accelerator": "GPU"
  },
  "cells": [
    {
      "cell_type": "code",
      "metadata": {
        "id": "x2PqyAJZr9UO",
        "colab_type": "code",
        "colab": {}
      },
      "source": [
        "# Ignore  the warnings\n",
        "import warnings\n",
        "warnings.filterwarnings('always')\n",
        "warnings.filterwarnings('ignore')\n",
        "\n",
        "# data visualisation and manipulation\n",
        "import numpy as np\n",
        "import pandas as pd\n",
        "import matplotlib.pyplot as plt\n",
        "from matplotlib import style\n",
        "import seaborn as sns\n",
        " \n",
        "#configure\n",
        "# sets matplotlib to inline and displays graphs below the corressponding cell.\n",
        "%matplotlib inline  \n",
        "style.use('fivethirtyeight')\n",
        "sns.set(style='whitegrid',color_codes=True)\n",
        "\n",
        "#model selection\n",
        "from sklearn.model_selection import train_test_split\n",
        "from sklearn.model_selection import KFold\n",
        "from sklearn.metrics import accuracy_score,precision_score,recall_score,confusion_matrix,roc_curve,roc_auc_score\n",
        "from sklearn.model_selection import GridSearchCV\n",
        "from sklearn.preprocessing import LabelEncoder\n",
        "\n",
        "#preprocess.\n",
        "from keras.preprocessing.image import ImageDataGenerator\n",
        "\n",
        "#dl libraraies\n",
        "from keras import backend as K\n",
        "import keras\n",
        "from keras.models import Sequential\n",
        "from keras.layers import Dense\n",
        "from keras.optimizers import Adam,SGD,Adagrad,Adadelta,RMSprop\n",
        "from keras.utils import to_categorical\n",
        "from keras.callbacks import ReduceLROnPlateau\n",
        "from keras.utils import np_utils\n",
        "from keras.layers import Dropout, Flatten,Activation\n",
        "from keras.layers import Conv2D, MaxPooling2D, BatchNormalization\n",
        " \n",
        "# specifically for cnn\n",
        "\n",
        "from keras.layers import Dense, Activation, Dropout, Flatten, Reshape\n",
        "from keras.layers import Convolution2D\n",
        "from keras.utils import np_utils\n",
        " \n",
        "import tensorflow as tf\n",
        "import random as rn\n",
        "\n",
        "# specifically for manipulating zipped images and getting numpy arrays of pixel values of images.\n",
        "import cv2                  \n",
        "import numpy as np  \n",
        "from tqdm import tqdm\n",
        "import os                   \n",
        "from random import shuffle  \n",
        "from zipfile import ZipFile\n",
        "from PIL import Image\n",
        "\n",
        "#TL pecific modules\n",
        "from keras.applications.vgg16 import VGG16\n",
        "\n",
        "import skimage.io as io"
      ],
      "execution_count": 0,
      "outputs": []
    },
    {
      "cell_type": "code",
      "metadata": {
        "id": "1gk76q0xCKgM",
        "colab_type": "code",
        "outputId": "3f655291-62d4-4b8e-9ec5-fcf029a74dbf",
        "colab": {
          "base_uri": "https://localhost:8080/",
          "height": 55
        }
      },
      "source": [
        "from google.colab import drive\n",
        "drive.mount('/content/gdrive')"
      ],
      "execution_count": 27,
      "outputs": [
        {
          "output_type": "stream",
          "text": [
            "Drive already mounted at /content/gdrive; to attempt to forcibly remount, call drive.mount(\"/content/gdrive\", force_remount=True).\n"
          ],
          "name": "stdout"
        }
      ]
    },
    {
      "cell_type": "code",
      "metadata": {
        "id": "JeEoFIzPrgPV",
        "colab_type": "code",
        "colab": {}
      },
      "source": [
        "from IPython.core.interactiveshell import InteractiveShell\n",
        "InteractiveShell.ast_node_interactivity = \"all\""
      ],
      "execution_count": 0,
      "outputs": []
    },
    {
      "cell_type": "code",
      "metadata": {
        "id": "56uuf1dL0EL-",
        "colab_type": "code",
        "colab": {}
      },
      "source": [
        "#from zipfile import ZipFile\n",
        "#with ZipFile('/content/gdrive/My Drive/ML/Data_set/Plant seedings/test.zip', 'r') as z:\n",
        "#    z.extractall('/content/gdrive/My Drive/ML/Data_set/Plant seedings/test_set')\n",
        "    #z.printdir()\n",
        "#    z.close()"
      ],
      "execution_count": 0,
      "outputs": []
    },
    {
      "cell_type": "code",
      "metadata": {
        "id": "Z90rZWc1gUpW",
        "colab_type": "code",
        "outputId": "e77b55b0-b052-4ecf-f219-c4adeabda073",
        "colab": {
          "base_uri": "https://localhost:8080/",
          "height": 55
        }
      },
      "source": [
        "path = '/content/gdrive/My Drive/ML/Data_set/Plant seedings/train'\n",
        "dir_name  = os.listdir(path)\n",
        "print(dir_name)"
      ],
      "execution_count": 29,
      "outputs": [
        {
          "output_type": "stream",
          "text": [
            "['Sugar beet', 'Common wheat', 'Cleavers', 'Loose Silky-bent', 'Common Chickweed', 'Maize', 'Scentless Mayweed', 'Small-flowered Cranesbill', 'Fat Hen', 'Shepherds Purse', 'Black-grass', 'Charlock']\n"
          ],
          "name": "stdout"
        }
      ]
    },
    {
      "cell_type": "code",
      "metadata": {
        "id": "gV9B7IiGQ031",
        "colab_type": "code",
        "colab": {}
      },
      "source": [
        "##Till this common step\n",
        "X = []\n",
        "Y = []\n",
        "def image_preprocessing(image):\n",
        "  #img_resize = cv2.resize(cv2.imread(image),(100,100))\n",
        "  blurr = cv2.GaussianBlur(image,(5,5),0)\n",
        "  hsv = cv2.cvtColor(blurr,cv2.COLOR_BGR2HSV)\n",
        "#GREEN PARAMETERS\n",
        "  lower = (25,40,50)\n",
        "  upper = (75,255,255)\n",
        "  hsv_thres = cv2.inRange(hsv,lower,upper)\n",
        "  struc = cv2.getStructuringElement(cv2.MORPH_ELLIPSE,(11,11))\n",
        "#struc = cv2.getStructuringElement(cv2.MORPH_RECT,(,3))\n",
        "  mask = cv2.morphologyEx(hsv_thres,cv2.MORPH_CLOSE,struc)\n",
        "  boolean = mask>0\n",
        "  new = np.zeros_like(image,np.uint8)\n",
        "  new[boolean] = image[boolean]\n",
        "  return new"
      ],
      "execution_count": 0,
      "outputs": []
    },
    {
      "cell_type": "code",
      "metadata": {
        "id": "Q0MOREYZdt35",
        "colab_type": "code",
        "outputId": "671838e2-04fc-4c3b-8e98-0ae4ec9178d0",
        "colab": {
          "base_uri": "https://localhost:8080/",
          "height": 55
        }
      },
      "source": [
        "print(\"On resizing faced issue in Loose Silky-bent, wr the shape chaged from 100,100,3 to 100,100,4. So made condition to ignore that case alone\")"
      ],
      "execution_count": 31,
      "outputs": [
        {
          "output_type": "stream",
          "text": [
            "On resizing faced issue in Loose Silky-bent, wr the shape chaged from 100,100,3 to 100,100,4. So made condition to ignore that case alone\n"
          ],
          "name": "stdout"
        }
      ]
    },
    {
      "cell_type": "code",
      "metadata": {
        "id": "7-1zWvQzOojS",
        "colab_type": "code",
        "colab": {
          "base_uri": "https://localhost:8080/",
          "height": 35
        },
        "outputId": "a32037bf-4536-425c-b569-445aa61c2651"
      },
      "source": [
        "print(\"Data without masking\")"
      ],
      "execution_count": 9,
      "outputs": [
        {
          "output_type": "stream",
          "text": [
            "Data without masking\n"
          ],
          "name": "stdout"
        }
      ]
    },
    {
      "cell_type": "code",
      "metadata": {
        "id": "H-yJe8nMFm3Q",
        "colab_type": "code",
        "colab": {}
      },
      "source": [
        "#Data without masking\n",
        "c=0\n",
        "for i in dir_name:\n",
        "  if i == 'Black-grass':\n",
        "    B = os.listdir(path+'/' + i)\n",
        "    for k in B:\n",
        "      #print((path+'/' + i+ '/'+ k))\n",
        "      img = io.imread(path+'/' + i+ '/'+ k)\n",
        "      img_resize = cv2.resize(imgj,(100,100))\n",
        "      #print(img)\n",
        "      X.append((img_resize))#X.append(image_preprocessing(img_resize))\n",
        "      Y.append(0)\n",
        "  elif i =='Cleavers':\n",
        "    D = os.listdir(path+'/' + i)\n",
        "    for j in D:\n",
        "      imgj = io.imread(path+'/' + i+ '/'+ j)\n",
        "      img_resize = cv2.resize(imgj,(100,100))\n",
        "      #print(img1)\n",
        "      X.append((img_resize))#X.append(image_preprocessing(img_resize))\n",
        "      Y.append(1)\n",
        "  elif i =='Common Chickweed':\n",
        "    D = os.listdir(path+'/' + i)\n",
        "    for j in D:\n",
        "      imgj = io.imread(path+'/' + i+ '/'+ j)\n",
        "      img_resize = cv2.resize(imgj,(100,100))\n",
        "      #print(img)\n",
        "      X.append((img_resize))#X.append(image_preprocessing(img_resize))\n",
        "      Y.append(2)\n",
        "  elif i =='Common wheat':\n",
        "    D = os.listdir(path+'/' + i)\n",
        "    for j in D:\n",
        "      imgj = io.imread(path+'/' + i+ '/'+ j)\n",
        "      img_resize = cv2.resize(imgj,(100,100))\n",
        "      #print(img)\n",
        "      X.append((img_resize))#X.append(image_preprocessing(img_resize))\n",
        "      Y.append(3)\n",
        "  elif i =='Charlock':\n",
        "    D = os.listdir(path+'/' + i)\n",
        "    for j in D:\n",
        "      imgj = io.imread(path+'/' + i+ '/'+ j)\n",
        "      img_resize = cv2.resize(imgj,(100,100))\n",
        "      #print(img)\n",
        "      X.append(img_resize)#X.append(image_preprocessing(img_resize))\n",
        "      Y.append(4)\n",
        "  elif i =='Loose Silky-bent':\n",
        "    D = os.listdir(path+'/' + i)\n",
        "    for j in D:\n",
        "      imgj = io.imread(path+'/' + i+ '/'+ j)\n",
        "      img_resize = cv2.resize(imgj,(100,100))\n",
        "      #print(img)\n",
        "      if img_resize.shape[2] != 4:\n",
        "        #print(\"count \", c + 1)\n",
        "        X.append(img_resize)#X.append(image_preprocessing(img_resize))\n",
        "        Y.append(5)\n",
        "  elif i =='Fat Hen':\n",
        "    D = os.listdir(path+'/' + i)\n",
        "    for j in D:\n",
        "      imgj = io.imread(path+'/' + i+ '/'+ j)\n",
        "      img_resize = cv2.resize(imgj,(100,100))\n",
        "      #print(img)\n",
        "      X.append(img_resize)#X.append(image_preprocessing(img_resize))\n",
        "      Y.append(6)\n",
        "  elif i =='Maize':\n",
        "    D = os.listdir(path+'/' + i)\n",
        "    for j in D:\n",
        "      imgj = io.imread(path+'/' + i+ '/'+ j)\n",
        "      img_resize = cv2.resize(imgj,(100,100))\n",
        "      #print(img)\n",
        "      X.append(img_resize)#X.append(image_preprocessing(img_resize))\n",
        "      Y.append(7)\n",
        "  elif i =='Scentless Mayweed':\n",
        "    D = os.listdir(path+'/' + i)\n",
        "    for j in D:\n",
        "      imgj = io.imread(path+'/' + i+ '/'+ j)\n",
        "      img_resize = cv2.resize(imgj,(100,100))\n",
        "      #print(img)\n",
        "      X.append(img_resize)#X.append(image_preprocessing(img_resize))\n",
        "      Y.append(8)\n",
        "  elif i =='Shepherds Purse':\n",
        "    D = os.listdir(path+'/' + i)\n",
        "    for j in D:\n",
        "      imgj = io.imread(path+'/' + i+ '/'+ j)\n",
        "      img_resize = cv2.resize(imgj,(100,100))\n",
        "      #print(img)\n",
        "      X.append(img_resize)#X.append(image_preprocessing(img_resize))\n",
        "      Y.append(9)\n",
        "  elif i =='Small-flowered Cranesbill':\n",
        "    D = os.listdir(path+'/' + i)\n",
        "    for j in D:\n",
        "      imgj = io.imread(path+'/' + i+ '/'+ j)\n",
        "      img_resize = cv2.resize(imgj,(100,100))\n",
        "      #print(img)\n",
        "      X.append(img_resize)#X.append(image_preprocessing(img_resize))\n",
        "      Y.append(10)\n",
        "  elif i =='Sugar beet':\n",
        "    D = os.listdir(path+'/' + i)\n",
        "    for j in D:\n",
        "      imgj = io.imread(path+'/' + i+ '/'+ j)\n",
        "      #print(path+'/' + i+ '/'+ j)\n",
        "      #print(imgj)\n",
        "      #print(imgj.shape)\n",
        "      img_resize = cv2.resize(imgj,(100,100))\n",
        "      #print(img2)\n",
        "      X.append(img_resize)#X.append(image_preprocessing(img_resize))\n",
        "      Y.append(11)"
      ],
      "execution_count": 0,
      "outputs": []
    },
    {
      "cell_type": "code",
      "metadata": {
        "id": "Kdb4HecTzsPh",
        "colab_type": "code",
        "colab": {
          "base_uri": "https://localhost:8080/",
          "height": 308
        },
        "outputId": "283a22a0-cefe-42d3-d9d8-701a9bd18dec"
      },
      "source": [
        "cvc_img = cv2.imread('/content/gdrive/My Drive/ML/Data_set/Plant seedings/train/Sugar beet/00acffa82.png',cv2.IMREAD_COLOR)\n",
        "imga_resize = cv2.resize(cvc_img,(100,100))\n",
        "#h = image_preprocessing(imga_resize)\n",
        "#h = imga_resize\n",
        "plt.imshow(imga_resize)\n",
        "plt.show()"
      ],
      "execution_count": 11,
      "outputs": [
        {
          "output_type": "execute_result",
          "data": {
            "text/plain": [
              "<matplotlib.image.AxesImage at 0x7fb24e50c320>"
            ]
          },
          "metadata": {
            "tags": []
          },
          "execution_count": 11
        },
        {
          "output_type": "display_data",
          "data": {
            "image/png": "[encoded data removed]",
            "text/plain": [
              "<Figure size 432x288 with 1 Axes>"
            ]
          },
          "metadata": {
            "tags": []
          }
        }
      ]
    },
    {
      "cell_type": "code",
      "metadata": {
        "id": "1YxmD5fAzsTu",
        "colab_type": "code",
        "colab": {}
      },
      "source": [
        "x = np.asarray(X)\n",
        "y = np.asarray(Y)\n",
        "\n",
        "x = x.astype('float32')\n",
        "\n",
        "from sklearn.model_selection import train_test_split\n",
        "X_train, X_test, y_train, y_test = train_test_split(x,y, test_size = 0.2, random_state = 15,stratify=y)\n",
        "\n",
        "X_train /= 255\n",
        "X_test /= 255\n",
        "\n"
      ],
      "execution_count": 0,
      "outputs": []
    },
    {
      "cell_type": "code",
      "metadata": {
        "id": "SGO50f4CzsYC",
        "colab_type": "code",
        "colab": {
          "base_uri": "https://localhost:8080/",
          "height": 54
        },
        "outputId": "98f5e12e-7112-450c-fbca-dcc06327d7ee"
      },
      "source": [
        "np.unique(y_test)\n",
        "np.unique(y_train)\n",
        "\n",
        "y_train.shape\n",
        "y_train = np_utils.to_categorical(y_train, 12)\n",
        "y_test = np_utils.to_categorical(y_test, 12)\n",
        "\n",
        "y_train.shape"
      ],
      "execution_count": 13,
      "outputs": [
        {
          "output_type": "execute_result",
          "data": {
            "text/plain": [
              "array([ 0,  1,  2,  3,  4,  5,  6,  7,  8,  9, 10, 11])"
            ]
          },
          "metadata": {
            "tags": []
          },
          "execution_count": 13
        },
        {
          "output_type": "execute_result",
          "data": {
            "text/plain": [
              "array([ 0,  1,  2,  3,  4,  5,  6,  7,  8,  9, 10, 11])"
            ]
          },
          "metadata": {
            "tags": []
          },
          "execution_count": 13
        },
        {
          "output_type": "execute_result",
          "data": {
            "text/plain": [
              "(3796,)"
            ]
          },
          "metadata": {
            "tags": []
          },
          "execution_count": 13
        },
        {
          "output_type": "execute_result",
          "data": {
            "text/plain": [
              "(3796, 12)"
            ]
          },
          "metadata": {
            "tags": []
          },
          "execution_count": 13
        }
      ]
    },
    {
      "cell_type": "code",
      "metadata": {
        "id": "aJAcn0SG0iqq",
        "colab_type": "code",
        "colab": {
          "base_uri": "https://localhost:8080/",
          "height": 35
        },
        "outputId": "bb045b9b-6d84-4a43-d568-3637395d70f4"
      },
      "source": [
        "X_train.shape\n",
        "X_test.shape"
      ],
      "execution_count": 15,
      "outputs": [
        {
          "output_type": "execute_result",
          "data": {
            "text/plain": [
              "(3796, 100, 100, 3)"
            ]
          },
          "metadata": {
            "tags": []
          },
          "execution_count": 15
        },
        {
          "output_type": "execute_result",
          "data": {
            "text/plain": [
              "(949, 100, 100, 3)"
            ]
          },
          "metadata": {
            "tags": []
          },
          "execution_count": 15
        }
      ]
    },
    {
      "cell_type": "code",
      "metadata": {
        "id": "5-cqOMfb1NJm",
        "colab_type": "code",
        "colab": {}
      },
      "source": [
        "TRAIN = True\n",
        "BATCH_SIZE = 50\n",
        "EPOCHS = 30"
      ],
      "execution_count": 0,
      "outputs": []
    },
    {
      "cell_type": "code",
      "metadata": {
        "id": "Dr7l2S94zsIF",
        "colab_type": "code",
        "colab": {
          "base_uri": "https://localhost:8080/",
          "height": 1201
        },
        "outputId": "d6682a22-9a50-4032-b997-e2d64f44cc34"
      },
      "source": [
        "model = Sequential()\n",
        "\n",
        "    # 1st Conv Layer\n",
        "model.add(Convolution2D(32, 3, 3, input_shape=(100, 100, 3)))\n",
        "model.add(Activation('relu'))\n",
        "model.add(BatchNormalization())\n",
        "\n",
        "    # 2nd Conv Layer\n",
        "model.add(Convolution2D(64, 3, 3))\n",
        "    # Max Pooling\n",
        "model.add(MaxPooling2D(pool_size=(2,2)))\n",
        "    # Dropout\n",
        "model.add(Dropout(0.25))\n",
        "model.add(Activation('relu'))\n",
        "model.add(BatchNormalization())\n",
        "\n",
        "\n",
        "    # 3rd Conv Layer\n",
        "model.add(Convolution2D(128, 3, 3))\n",
        "    # Max Pooling\n",
        "model.add(MaxPooling2D(pool_size=(2,2)))\n",
        "    # Dropout\n",
        "model.add(Dropout(0.25))\n",
        "model.add(Activation('relu'))\n",
        "model.add(BatchNormalization())\n",
        "\n",
        "    # Fully Connected Layer\n",
        "model.add(Flatten())\n",
        "model.add(Dense(256))\n",
        "model.add(Activation('relu'))\n",
        "    # More Dropout\n",
        "model.add(Dropout(0.5))\n",
        "model.add(BatchNormalization())\n",
        "\n",
        "\n",
        "\n",
        "    # Prediction Layer\n",
        "model.add(Dense(12))\n",
        "model.add(Activation('softmax'))\n",
        "\n",
        "    # Loss and Optimizer\n",
        "model.compile(loss='categorical_crossentropy', optimizer='adam', metrics=['accuracy'])\n",
        "    \n",
        "\n",
        "\n",
        "\n",
        "# model = Sequential()\n",
        "\n",
        "# model.add(Convolution2D(filters=64, kernel_size=(3, 3), input_shape=(100, 100, 3), activation='relu'))\n",
        "# model.add(BatchNormalization(axis=3))\n",
        "# model.add(Convolution2D(filters=64, kernel_size=(3, 3), activation='relu'))\n",
        "# model.add(MaxPooling2D((2, 2)))\n",
        "# model.add(BatchNormalization(axis=3))\n",
        "# model.add(Dropout(0.1))\n",
        "\n",
        "# model.add(Convolution2D(filters=128, kernel_size=(3, 2), activation='relu'))\n",
        "# model.add(BatchNormalization(axis=3))\n",
        "# model.add(Convolution2D(filters=128, kernel_size=(5, 5), activation='relu'))\n",
        "# model.add(MaxPooling2D((2, 2)))\n",
        "# model.add(BatchNormalization(axis=3))\n",
        "# model.add(Dropout(0.1))\n",
        "\n",
        "# model.add(Convolution2D(filters=256, kernel_size=(5, 5), activation='relu'))\n",
        "# model.add(BatchNormalization(axis=3))\n",
        "# model.add(Convolution2D(filters=256, kernel_size=(5, 5), activation='relu'))\n",
        "# model.add(MaxPooling2D((2, 2)))\n",
        "# model.add(BatchNormalization(axis=3))\n",
        "# model.add(Dropout(0.1))\n",
        "\n",
        "# model.add(Flatten())\n",
        "\n",
        "# model.add(Dense(256, activation='relu'))\n",
        "# model.add(BatchNormalization())\n",
        "# model.add(Dropout(0.5))\n",
        "\n",
        "# model.add(Dense(256, activation='relu'))\n",
        "# model.add(BatchNormalization())\n",
        "# model.add(Dropout(0.5))\n",
        "\n",
        "# model.add(Dense(12, activation='softmax'))\n",
        "\n",
        "# model.compile(loss='categorical_crossentropy', optimizer='adam', metrics=['accuracy'])\n",
        "\n",
        "\n",
        "    # Store Training Results\n",
        "early_stopping = keras.callbacks.EarlyStopping(monitor='val_acc', patience=10, verbose=1, mode='auto')\n",
        "callback_list = [early_stopping]# [stats, early_stopping]\n",
        "model.fit(X_train, y_train, batch_size=BATCH_SIZE, nb_epoch=EPOCHS, \n",
        "          validation_data=(X_test, y_test), callbacks=callback_list)"
      ],
      "execution_count": 24,
      "outputs": [
        {
          "output_type": "stream",
          "text": [
            "Train on 3796 samples, validate on 949 samples\n",
            "Epoch 1/30\n",
            "3796/3796 [==============================] - 14s 4ms/step - loss: 1.4173 - acc: 0.5561 - val_loss: 1.0190 - val_acc: 0.6955\n",
            "Epoch 2/30\n",
            "3796/3796 [==============================] - 11s 3ms/step - loss: 0.6457 - acc: 0.7937 - val_loss: 0.6557 - val_acc: 0.7987\n",
            "Epoch 3/30\n",
            "3796/3796 [==============================] - 11s 3ms/step - loss: 0.4023 - acc: 0.8820 - val_loss: 1.1647 - val_acc: 0.6449\n",
            "Epoch 4/30\n",
            "3796/3796 [==============================] - 11s 3ms/step - loss: 0.2763 - acc: 0.9254 - val_loss: 0.6928 - val_acc: 0.7861\n",
            "Epoch 5/30\n",
            "3796/3796 [==============================] - 11s 3ms/step - loss: 0.1819 - acc: 0.9521 - val_loss: 0.7529 - val_acc: 0.7545\n",
            "Epoch 6/30\n",
            "3796/3796 [==============================] - 11s 3ms/step - loss: 0.1353 - acc: 0.9687 - val_loss: 1.3782 - val_acc: 0.6154\n",
            "Epoch 7/30\n",
            "3796/3796 [==============================] - 11s 3ms/step - loss: 0.1057 - acc: 0.9758 - val_loss: 0.5038 - val_acc: 0.8419\n",
            "Epoch 8/30\n",
            "3796/3796 [==============================] - 11s 3ms/step - loss: 0.0786 - acc: 0.9829 - val_loss: 0.6549 - val_acc: 0.8061\n",
            "Epoch 9/30\n",
            "3796/3796 [==============================] - 11s 3ms/step - loss: 0.0626 - acc: 0.9887 - val_loss: 0.6477 - val_acc: 0.8030\n",
            "Epoch 10/30\n",
            "3796/3796 [==============================] - 11s 3ms/step - loss: 0.0437 - acc: 0.9924 - val_loss: 0.4851 - val_acc: 0.8535\n",
            "Epoch 11/30\n",
            "3796/3796 [==============================] - 11s 3ms/step - loss: 0.0374 - acc: 0.9945 - val_loss: 0.6875 - val_acc: 0.8051\n",
            "Epoch 12/30\n",
            "3796/3796 [==============================] - 11s 3ms/step - loss: 0.0266 - acc: 0.9968 - val_loss: 0.5049 - val_acc: 0.8599\n",
            "Epoch 13/30\n",
            "3796/3796 [==============================] - 11s 3ms/step - loss: 0.0258 - acc: 0.9968 - val_loss: 0.7460 - val_acc: 0.7713\n",
            "Epoch 14/30\n",
            "3796/3796 [==============================] - 11s 3ms/step - loss: 0.0230 - acc: 0.9968 - val_loss: 0.5175 - val_acc: 0.8514\n",
            "Epoch 15/30\n",
            "3796/3796 [==============================] - 11s 3ms/step - loss: 0.0329 - acc: 0.9939 - val_loss: 0.7089 - val_acc: 0.7956\n",
            "Epoch 16/30\n",
            "3796/3796 [==============================] - 11s 3ms/step - loss: 0.0334 - acc: 0.9942 - val_loss: 0.7496 - val_acc: 0.8177\n",
            "Epoch 17/30\n",
            "3796/3796 [==============================] - 11s 3ms/step - loss: 0.0278 - acc: 0.9955 - val_loss: 1.3641 - val_acc: 0.6512\n",
            "Epoch 18/30\n",
            "3796/3796 [==============================] - 11s 3ms/step - loss: 0.0216 - acc: 0.9974 - val_loss: 0.6204 - val_acc: 0.8462\n",
            "Epoch 19/30\n",
            "3796/3796 [==============================] - 11s 3ms/step - loss: 0.0218 - acc: 0.9968 - val_loss: 1.6090 - val_acc: 0.5880\n",
            "Epoch 20/30\n",
            "3796/3796 [==============================] - 11s 3ms/step - loss: 0.0281 - acc: 0.9939 - val_loss: 0.4425 - val_acc: 0.8830\n",
            "Epoch 21/30\n",
            "3796/3796 [==============================] - 11s 3ms/step - loss: 0.0203 - acc: 0.9968 - val_loss: 0.4591 - val_acc: 0.8535\n",
            "Epoch 22/30\n",
            "3796/3796 [==============================] - 11s 3ms/step - loss: 0.0239 - acc: 0.9947 - val_loss: 0.7209 - val_acc: 0.7935\n",
            "Epoch 23/30\n",
            "3796/3796 [==============================] - 11s 3ms/step - loss: 0.0259 - acc: 0.9958 - val_loss: 1.1303 - val_acc: 0.7176\n",
            "Epoch 24/30\n",
            "3796/3796 [==============================] - 11s 3ms/step - loss: 0.0184 - acc: 0.9979 - val_loss: 0.4291 - val_acc: 0.8788\n",
            "Epoch 25/30\n",
            "3796/3796 [==============================] - 11s 3ms/step - loss: 0.0221 - acc: 0.9950 - val_loss: 0.7091 - val_acc: 0.8166\n",
            "Epoch 26/30\n",
            "3796/3796 [==============================] - 11s 3ms/step - loss: 0.0216 - acc: 0.9958 - val_loss: 0.5684 - val_acc: 0.8409\n",
            "Epoch 27/30\n",
            "3796/3796 [==============================] - 11s 3ms/step - loss: 0.0289 - acc: 0.9929 - val_loss: 0.7812 - val_acc: 0.8008\n",
            "Epoch 28/30\n",
            "3796/3796 [==============================] - 11s 3ms/step - loss: 0.0256 - acc: 0.9929 - val_loss: 1.2448 - val_acc: 0.6870\n",
            "Epoch 29/30\n",
            "3796/3796 [==============================] - 11s 3ms/step - loss: 0.0278 - acc: 0.9945 - val_loss: 2.2617 - val_acc: 0.5522\n",
            "Epoch 30/30\n",
            "3796/3796 [==============================] - 11s 3ms/step - loss: 0.0264 - acc: 0.9932 - val_loss: 1.8530 - val_acc: 0.6070\n",
            "Epoch 00030: early stopping\n"
          ],
          "name": "stdout"
        },
        {
          "output_type": "execute_result",
          "data": {
            "text/plain": [
              "<keras.callbacks.History at 0x7fb22fb39550>"
            ]
          },
          "metadata": {
            "tags": []
          },
          "execution_count": 24
        }
      ]
    },
    {
      "cell_type": "code",
      "metadata": {
        "id": "S1EFSQmBMfH5",
        "colab_type": "code",
        "colab": {
          "base_uri": "https://localhost:8080/",
          "height": 35
        },
        "outputId": "56fcd4a0-bea8-4921-dac8-a715cef744b8"
      },
      "source": [
        "print(\"Masked model\")"
      ],
      "execution_count": 25,
      "outputs": [
        {
          "output_type": "stream",
          "text": [
            "Masked model\n"
          ],
          "name": "stdout"
        }
      ]
    },
    {
      "cell_type": "code",
      "metadata": {
        "id": "g9z_OLPkVob8",
        "colab_type": "code",
        "colab": {}
      },
      "source": [
        "#data masked - Dataset\n",
        "c=0\n",
        "for i in dir_name:\n",
        "  if i == 'Black-grass':\n",
        "    B = os.listdir(path+'/' + i)\n",
        "    for k in B:\n",
        "      #print((path+'/' + i+ '/'+ k))\n",
        "      img = io.imread(path+'/' + i+ '/'+ k)\n",
        "      img_resize = cv2.resize(imgj,(100,100))\n",
        "      #print(img)\n",
        "      X.append(image_preprocessing(img_resize))\n",
        "      Y.append(0)\n",
        "  elif i =='Cleavers':\n",
        "    D = os.listdir(path+'/' + i)\n",
        "    for j in D:\n",
        "      imgj = io.imread(path+'/' + i+ '/'+ j)\n",
        "      img_resize = cv2.resize(imgj,(100,100))\n",
        "      #print(img1)\n",
        "      X.append(image_preprocessing(img_resize))\n",
        "      Y.append(1)\n",
        "  elif i =='Common Chickweed':\n",
        "    D = os.listdir(path+'/' + i)\n",
        "    for j in D:\n",
        "      imgj = io.imread(path+'/' + i+ '/'+ j)\n",
        "      img_resize = cv2.resize(imgj,(100,100))\n",
        "      #print(img)\n",
        "      X.append(image_preprocessing(img_resize))\n",
        "      Y.append(2)\n",
        "  elif i =='Common wheat':\n",
        "    D = os.listdir(path+'/' + i)\n",
        "    for j in D:\n",
        "      imgj = io.imread(path+'/' + i+ '/'+ j)\n",
        "      img_resize = cv2.resize(imgj,(100,100))\n",
        "      #print(img)\n",
        "      X.append(image_preprocessing(img_resize))\n",
        "      Y.append(3)\n",
        "  elif i =='Charlock':\n",
        "    D = os.listdir(path+'/' + i)\n",
        "    for j in D:\n",
        "      imgj = io.imread(path+'/' + i+ '/'+ j)\n",
        "      img_resize = cv2.resize(imgj,(100,100))\n",
        "      #print(img)\n",
        "      X.append(image_preprocessing(img_resize))\n",
        "      Y.append(4)\n",
        "  elif i =='Loose Silky-bent':\n",
        "    D = os.listdir(path+'/' + i)\n",
        "    for j in D:\n",
        "      imgj = io.imread(path+'/' + i+ '/'+ j)\n",
        "      img_resize = cv2.resize(imgj,(100,100))\n",
        "      #print(img)\n",
        "      if img_resize.shape[2] != 4:\n",
        "        #print(\"count \", c + 1)\n",
        "        X.append(image_preprocessing(img_resize))\n",
        "        Y.append(5)\n",
        "  elif i =='Fat Hen':\n",
        "    D = os.listdir(path+'/' + i)\n",
        "    for j in D:\n",
        "      imgj = io.imread(path+'/' + i+ '/'+ j)\n",
        "      img_resize = cv2.resize(imgj,(100,100))\n",
        "      #print(img)\n",
        "      X.append(image_preprocessing(img_resize))\n",
        "      Y.append(6)\n",
        "  elif i =='Maize':\n",
        "    D = os.listdir(path+'/' + i)\n",
        "    for j in D:\n",
        "      imgj = io.imread(path+'/' + i+ '/'+ j)\n",
        "      img_resize = cv2.resize(imgj,(100,100))\n",
        "      #print(img)\n",
        "      X.append(image_preprocessing(img_resize))\n",
        "      Y.append(7)\n",
        "  elif i =='Scentless Mayweed':\n",
        "    D = os.listdir(path+'/' + i)\n",
        "    for j in D:\n",
        "      imgj = io.imread(path+'/' + i+ '/'+ j)\n",
        "      img_resize = cv2.resize(imgj,(100,100))\n",
        "      #print(img)\n",
        "      X.append(image_preprocessing(img_resize))\n",
        "      Y.append(8)\n",
        "  elif i =='Shepherds Purse':\n",
        "    D = os.listdir(path+'/' + i)\n",
        "    for j in D:\n",
        "      imgj = io.imread(path+'/' + i+ '/'+ j)\n",
        "      img_resize = cv2.resize(imgj,(100,100))\n",
        "      #print(img)\n",
        "      X.append(image_preprocessing(img_resize))\n",
        "      Y.append(9)\n",
        "  elif i =='Small-flowered Cranesbill':\n",
        "    D = os.listdir(path+'/' + i)\n",
        "    for j in D:\n",
        "      imgj = io.imread(path+'/' + i+ '/'+ j)\n",
        "      img_resize = cv2.resize(imgj,(100,100))\n",
        "      #print(img)\n",
        "      X.append(image_preprocessing(img_resize))\n",
        "      Y.append(10)\n",
        "  elif i =='Sugar beet':\n",
        "    D = os.listdir(path+'/' + i)\n",
        "    for j in D:\n",
        "      imgj = io.imread(path+'/' + i+ '/'+ j)\n",
        "      #print(path+'/' + i+ '/'+ j)\n",
        "      #print(imgj)\n",
        "      #print(imgj.shape)\n",
        "      img_resize = cv2.resize(imgj,(100,100))\n",
        "      #print(img2)\n",
        "      X.append(image_preprocessing(img_resize))\n",
        "      Y.append(11)"
      ],
      "execution_count": 0,
      "outputs": []
    },
    {
      "cell_type": "code",
      "metadata": {
        "id": "7KhBSZLZK9s2",
        "colab_type": "code",
        "colab": {}
      },
      "source": [
        "x = np.asarray(X)\n",
        "y = np.asarray(Y)\n",
        "\n",
        "x = x.astype('float32')\n",
        "\n",
        "from sklearn.model_selection import train_test_split\n",
        "X_train, X_test, y_train, y_test = train_test_split(x,y, test_size = 0.2, random_state = 15,stratify=y)\n",
        "\n",
        "X_train /= 255\n",
        "X_test /= 255"
      ],
      "execution_count": 0,
      "outputs": []
    },
    {
      "cell_type": "code",
      "metadata": {
        "id": "qI02liZXuYFj",
        "colab_type": "code",
        "outputId": "16a3e022-3cdc-464a-84f4-0166b4c49c5f",
        "colab": {
          "base_uri": "https://localhost:8080/",
          "height": 308
        }
      },
      "source": [
        "cvc_img = cv2.imread('/content/gdrive/My Drive/ML/Data_set/Plant seedings/train/Sugar beet/00acffa82.png',cv2.IMREAD_COLOR)\n",
        "imga_resize = cv2.resize(cvc_img,(100,100))\n",
        "h = image_preprocessing(imga_resize)\n",
        "#h = imga_resize\n",
        "plt.imshow(h)\n",
        "plt.show()"
      ],
      "execution_count": 34,
      "outputs": [
        {
          "output_type": "execute_result",
          "data": {
            "text/plain": [
              "<matplotlib.image.AxesImage at 0x7fb22f0ab630>"
            ]
          },
          "metadata": {
            "tags": []
          },
          "execution_count": 34
        },
        {
          "output_type": "display_data",
          "data": {
            "image/png": "[encoded data removed]",
            "text/plain": [
              "<Figure size 432x288 with 1 Axes>"
            ]
          },
          "metadata": {
            "tags": []
          }
        }
      ]
    },
    {
      "cell_type": "code",
      "metadata": {
        "id": "krejwQYlbIHY",
        "colab_type": "code",
        "colab": {
          "base_uri": "https://localhost:8080/",
          "height": 54
        },
        "outputId": "0a7021e5-eeb5-47e3-d8af-814307a0535a"
      },
      "source": [
        "np.unique(y_test)\n",
        "np.unique(y_train)\n",
        "\n",
        "y_train.shape\n",
        "y_train = np_utils.to_categorical(y_train, 12)\n",
        "y_test = np_utils.to_categorical(y_test, 12)\n",
        "\n",
        "y_train.shape"
      ],
      "execution_count": 35,
      "outputs": [
        {
          "output_type": "execute_result",
          "data": {
            "text/plain": [
              "array([ 0,  1,  2,  3,  4,  5,  6,  7,  8,  9, 10, 11])"
            ]
          },
          "metadata": {
            "tags": []
          },
          "execution_count": 35
        },
        {
          "output_type": "execute_result",
          "data": {
            "text/plain": [
              "array([ 0,  1,  2,  3,  4,  5,  6,  7,  8,  9, 10, 11])"
            ]
          },
          "metadata": {
            "tags": []
          },
          "execution_count": 35
        },
        {
          "output_type": "execute_result",
          "data": {
            "text/plain": [
              "(3796,)"
            ]
          },
          "metadata": {
            "tags": []
          },
          "execution_count": 35
        },
        {
          "output_type": "execute_result",
          "data": {
            "text/plain": [
              "(3796, 12)"
            ]
          },
          "metadata": {
            "tags": []
          },
          "execution_count": 35
        }
      ]
    },
    {
      "cell_type": "code",
      "metadata": {
        "id": "MogMY71QJ_s7",
        "colab_type": "code",
        "colab": {
          "base_uri": "https://localhost:8080/",
          "height": 35
        },
        "outputId": "6a938394-5652-49d5-f41d-410f364dec92"
      },
      "source": [
        "X_train.shape\n",
        "X_test.shape"
      ],
      "execution_count": 36,
      "outputs": [
        {
          "output_type": "execute_result",
          "data": {
            "text/plain": [
              "(3796, 100, 100, 3)"
            ]
          },
          "metadata": {
            "tags": []
          },
          "execution_count": 36
        },
        {
          "output_type": "execute_result",
          "data": {
            "text/plain": [
              "(949, 100, 100, 3)"
            ]
          },
          "metadata": {
            "tags": []
          },
          "execution_count": 36
        }
      ]
    },
    {
      "cell_type": "code",
      "metadata": {
        "id": "d5I4iu4jT-bg",
        "colab_type": "code",
        "colab": {}
      },
      "source": [
        "TRAIN = True\n",
        "BATCH_SIZE = 50\n",
        "EPOCHS = 30"
      ],
      "execution_count": 0,
      "outputs": []
    },
    {
      "cell_type": "code",
      "metadata": {
        "id": "88TzcEp6UeVD",
        "colab_type": "code",
        "colab": {
          "base_uri": "https://localhost:8080/",
          "height": 573
        },
        "outputId": "53b8e016-669d-4a72-df71-fc6ff6a9ad6a"
      },
      "source": [
        "model = Sequential()\n",
        "\n",
        "    # 1st Conv Layer\n",
        "model.add(Convolution2D(32, 3, 3, input_shape=(100, 100, 3)))\n",
        "model.add(Activation('relu'))\n",
        "model.add(BatchNormalization())\n",
        "\n",
        "    # 2nd Conv Layer\n",
        "model.add(Convolution2D(64, 3, 3))\n",
        "    # Max Pooling\n",
        "model.add(MaxPooling2D(pool_size=(2,2)))\n",
        "    # Dropout\n",
        "model.add(Dropout(0.25))\n",
        "model.add(Activation('relu'))\n",
        "model.add(BatchNormalization())\n",
        "\n",
        "\n",
        "    # 3rd Conv Layer\n",
        "model.add(Convolution2D(128, 3, 3))\n",
        "    # Max Pooling\n",
        "model.add(MaxPooling2D(pool_size=(2,2)))\n",
        "    # Dropout\n",
        "model.add(Dropout(0.25))\n",
        "model.add(Activation('relu'))\n",
        "model.add(BatchNormalization())\n",
        "\n",
        "    # Fully Connected Layer\n",
        "model.add(Flatten())\n",
        "model.add(Dense(256))\n",
        "model.add(Activation('relu'))\n",
        "    # More Dropout\n",
        "model.add(Dropout(0.5))\n",
        "model.add(BatchNormalization())\n",
        "\n",
        "\n",
        "\n",
        "    # Prediction Layer\n",
        "model.add(Dense(12))\n",
        "model.add(Activation('softmax'))\n",
        "\n",
        "    # Loss and Optimizer\n",
        "model.compile(loss='categorical_crossentropy', optimizer='adam', metrics=['accuracy'])\n",
        "    \n",
        "\n",
        "\n",
        "\n",
        "# model = Sequential()\n",
        "\n",
        "# model.add(Convolution2D(filters=64, kernel_size=(3, 3), input_shape=(100, 100, 3), activation='relu'))\n",
        "# model.add(BatchNormalization(axis=3))\n",
        "# model.add(Convolution2D(filters=64, kernel_size=(3, 3), activation='relu'))\n",
        "# model.add(MaxPooling2D((2, 2)))\n",
        "# model.add(BatchNormalization(axis=3))\n",
        "# model.add(Dropout(0.1))\n",
        "\n",
        "# model.add(Convolution2D(filters=128, kernel_size=(3, 2), activation='relu'))\n",
        "# model.add(BatchNormalization(axis=3))\n",
        "# model.add(Convolution2D(filters=128, kernel_size=(5, 5), activation='relu'))\n",
        "# model.add(MaxPooling2D((2, 2)))\n",
        "# model.add(BatchNormalization(axis=3))\n",
        "# model.add(Dropout(0.1))\n",
        "\n",
        "# model.add(Convolution2D(filters=256, kernel_size=(5, 5), activation='relu'))\n",
        "# model.add(BatchNormalization(axis=3))\n",
        "# model.add(Convolution2D(filters=256, kernel_size=(5, 5), activation='relu'))\n",
        "# model.add(MaxPooling2D((2, 2)))\n",
        "# model.add(BatchNormalization(axis=3))\n",
        "# model.add(Dropout(0.1))\n",
        "\n",
        "# model.add(Flatten())\n",
        "\n",
        "# model.add(Dense(256, activation='relu'))\n",
        "# model.add(BatchNormalization())\n",
        "# model.add(Dropout(0.5))\n",
        "\n",
        "# model.add(Dense(256, activation='relu'))\n",
        "# model.add(BatchNormalization())\n",
        "# model.add(Dropout(0.5))\n",
        "\n",
        "# model.add(Dense(12, activation='softmax'))\n",
        "\n",
        "# model.compile(loss='categorical_crossentropy', optimizer='adam', metrics=['accuracy'])\n",
        "\n",
        "\n",
        "    # Store Training Results\n",
        "early_stopping = keras.callbacks.EarlyStopping(monitor='val_acc', patience=10, verbose=1, mode='auto')\n",
        "callback_list = [early_stopping]# [stats, early_stopping]\n",
        "model.fit(X_train, y_train, batch_size=BATCH_SIZE, nb_epoch=EPOCHS, \n",
        "          validation_data=(X_test, y_test), callbacks=callback_list)"
      ],
      "execution_count": 38,
      "outputs": [
        {
          "output_type": "stream",
          "text": [
            "Train on 3796 samples, validate on 949 samples\n",
            "Epoch 1/30\n",
            "3796/3796 [==============================] - 13s 3ms/step - loss: 2.6783 - acc: 0.1581 - val_loss: 2.8429 - val_acc: 0.2002\n",
            "Epoch 2/30\n",
            "3796/3796 [==============================] - 10s 3ms/step - loss: 2.3841 - acc: 0.1978 - val_loss: 2.3325 - val_acc: 0.2023\n",
            "Epoch 3/30\n",
            "3796/3796 [==============================] - 10s 3ms/step - loss: 2.2763 - acc: 0.2139 - val_loss: 2.2201 - val_acc: 0.2097\n",
            "Epoch 4/30\n",
            "3796/3796 [==============================] - 10s 3ms/step - loss: 2.2200 - acc: 0.2168 - val_loss: 2.2704 - val_acc: 0.2055\n",
            "Epoch 5/30\n",
            "3796/3796 [==============================] - 10s 3ms/step - loss: 2.1530 - acc: 0.2252 - val_loss: 2.2419 - val_acc: 0.2055\n",
            "Epoch 6/30\n",
            "3796/3796 [==============================] - 10s 3ms/step - loss: 2.0719 - acc: 0.2555 - val_loss: 2.2448 - val_acc: 0.2076\n",
            "Epoch 7/30\n",
            "3796/3796 [==============================] - 10s 3ms/step - loss: 2.0349 - acc: 0.2682 - val_loss: 2.2725 - val_acc: 0.2076\n",
            "Epoch 8/30\n",
            "3796/3796 [==============================] - 11s 3ms/step - loss: 1.9933 - acc: 0.2850 - val_loss: 2.2572 - val_acc: 0.2034\n",
            "Epoch 9/30\n",
            "3796/3796 [==============================] - 10s 3ms/step - loss: 1.9619 - acc: 0.2848 - val_loss: 2.2600 - val_acc: 0.2055\n",
            "Epoch 10/30\n",
            "3796/3796 [==============================] - 10s 3ms/step - loss: 1.9331 - acc: 0.3006 - val_loss: 2.2849 - val_acc: 0.2023\n",
            "Epoch 11/30\n",
            "3796/3796 [==============================] - 11s 3ms/step - loss: 1.9204 - acc: 0.3056 - val_loss: 2.4188 - val_acc: 0.1949\n",
            "Epoch 12/30\n",
            "3796/3796 [==============================] - 11s 3ms/step - loss: 1.9024 - acc: 0.3103 - val_loss: 2.3792 - val_acc: 0.1992\n",
            "Epoch 13/30\n",
            "3796/3796 [==============================] - 10s 3ms/step - loss: 1.9176 - acc: 0.3114 - val_loss: 2.3931 - val_acc: 0.2023\n",
            "Epoch 00013: early stopping\n"
          ],
          "name": "stdout"
        },
        {
          "output_type": "execute_result",
          "data": {
            "text/plain": [
              "<keras.callbacks.History at 0x7fb22eb159e8>"
            ]
          },
          "metadata": {
            "tags": []
          },
          "execution_count": 38
        }
      ]
    },
    {
      "cell_type": "code",
      "metadata": {
        "id": "W-3RU8haT-rY",
        "colab_type": "code",
        "colab": {}
      },
      "source": [
        ""
      ],
      "execution_count": 0,
      "outputs": []
    },
    {
      "cell_type": "code",
      "metadata": {
        "id": "nDtbXVkWaXEX",
        "colab_type": "code",
        "colab": {
          "base_uri": "https://localhost:8080/",
          "height": 35
        },
        "outputId": "8d818c9d-1c2c-425d-a58e-14fa46c23264"
      },
      "source": [
        "print(\"Below ignore below part\")"
      ],
      "execution_count": 40,
      "outputs": [
        {
          "output_type": "stream",
          "text": [
            "Below ignore below part\n"
          ],
          "name": "stdout"
        }
      ]
    },
    {
      "cell_type": "code",
      "metadata": {
        "id": "PH9dDJnglZHJ",
        "colab_type": "code",
        "colab": {}
      },
      "source": [
        ""
      ],
      "execution_count": 0,
      "outputs": []
    },
    {
      "cell_type": "code",
      "metadata": {
        "id": "n2fI8gwspLb5",
        "colab_type": "code",
        "colab": {}
      },
      "source": [
        ""
      ],
      "execution_count": 0,
      "outputs": []
    },
    {
      "cell_type": "code",
      "metadata": {
        "id": "SPhqXlYzLVdJ",
        "colab_type": "code",
        "colab": {}
      },
      "source": [
        ""
      ],
      "execution_count": 0,
      "outputs": []
    },
    {
      "cell_type": "code",
      "metadata": {
        "id": "3sXIv08Vn7_8",
        "colab_type": "code",
        "colab": {}
      },
      "source": [
        ""
      ],
      "execution_count": 0,
      "outputs": []
    },
    {
      "cell_type": "code",
      "metadata": {
        "id": "EA7cww35q1CK",
        "colab_type": "code",
        "colab": {}
      },
      "source": [
        ""
      ],
      "execution_count": 0,
      "outputs": []
    },
    {
      "cell_type": "code",
      "metadata": {
        "id": "xTA1JzSqT770",
        "colab_type": "code",
        "colab": {}
      },
      "source": [
        "TRAIN = True\n",
        "BATCH_SIZE = 50\n",
        "EPOCHS = 30"
      ],
      "execution_count": 0,
      "outputs": []
    },
    {
      "cell_type": "code",
      "metadata": {
        "id": "1t9srsp5g1v0",
        "colab_type": "code",
        "outputId": "e581a565-9eec-4394-c294-61245975920f",
        "colab": {
          "base_uri": "https://localhost:8080/",
          "height": 664
        }
      },
      "source": [
        "\n",
        "model = Sequential()\n",
        "\n",
        "model.add(Convolution2D(filters=64, kernel_size=(5, 5), input_shape=(100, 100, 3), activation='relu'))\n",
        "model.add(BatchNormalization(axis=3))\n",
        "model.add(Convolution2D(filters=64, kernel_size=(5, 5), activation='relu'))\n",
        "model.add(MaxPooling2D((2, 2)))\n",
        "model.add(BatchNormalization(axis=3))\n",
        "model.add(Dropout(0.1))\n",
        "\n",
        "model.add(Convolution2D(filters=128, kernel_size=(5, 5), activation='relu'))\n",
        "model.add(BatchNormalization(axis=3))\n",
        "model.add(Convolution2D(filters=128, kernel_size=(5, 5), activation='relu'))\n",
        "model.add(MaxPooling2D((2, 2)))\n",
        "model.add(BatchNormalization(axis=3))\n",
        "model.add(Dropout(0.1))\n",
        "\n",
        "model.add(Convolution2D(filters=256, kernel_size=(5, 5), activation='relu'))\n",
        "model.add(BatchNormalization(axis=3))\n",
        "model.add(Convolution2D(filters=256, kernel_size=(5, 5), activation='relu'))\n",
        "model.add(MaxPooling2D((2, 2)))\n",
        "model.add(BatchNormalization(axis=3))\n",
        "model.add(Dropout(0.1))\n",
        "\n",
        "model.add(Flatten())\n",
        "\n",
        "model.add(Dense(256, activation='relu'))\n",
        "model.add(BatchNormalization())\n",
        "model.add(Dropout(0.5))\n",
        "\n",
        "model.add(Dense(256, activation='relu'))\n",
        "model.add(BatchNormalization())\n",
        "model.add(Dropout(0.5))\n",
        "\n",
        "model.add(Dense(12, activation='softmax'))\n",
        "\n",
        "model.compile(loss='categorical_crossentropy', optimizer='adam', metrics=['accuracy'])\n",
        "\n",
        "model.fit(X_train, y_train, batch_size=BATCH_SIZE, nb_epoch=EPOCHS, \n",
        "          validation_data=(X_test, y_test), callbacks=callback_list)"
      ],
      "execution_count": 0,
      "outputs": [
        {
          "output_type": "stream",
          "text": [
            "Train on 3796 samples, validate on 949 samples\n",
            "Epoch 1/30\n",
            "3796/3796 [==============================] - 18s 5ms/step - loss: 2.9855 - acc: 0.1546 - val_loss: 3.6884 - val_acc: 0.0643\n",
            "Epoch 2/30\n",
            "3796/3796 [==============================] - 11s 3ms/step - loss: 2.6593 - acc: 0.1604 - val_loss: 5.1170 - val_acc: 0.0622\n",
            "Epoch 3/30\n",
            "3796/3796 [==============================] - 11s 3ms/step - loss: 2.5513 - acc: 0.1602 - val_loss: 4.6068 - val_acc: 0.0695\n",
            "Epoch 4/30\n",
            "3796/3796 [==============================] - 11s 3ms/step - loss: 2.5287 - acc: 0.1565 - val_loss: 2.7865 - val_acc: 0.1928\n",
            "Epoch 5/30\n",
            "3796/3796 [==============================] - 11s 3ms/step - loss: 2.4589 - acc: 0.1631 - val_loss: 3.1234 - val_acc: 0.0790\n",
            "Epoch 6/30\n",
            "3796/3796 [==============================] - 11s 3ms/step - loss: 2.3912 - acc: 0.1723 - val_loss: 2.6035 - val_acc: 0.1992\n",
            "Epoch 7/30\n",
            "3796/3796 [==============================] - 11s 3ms/step - loss: 2.3444 - acc: 0.1805 - val_loss: 2.6547 - val_acc: 0.1043\n",
            "Epoch 8/30\n",
            "3796/3796 [==============================] - 11s 3ms/step - loss: 2.3341 - acc: 0.1899 - val_loss: 2.5724 - val_acc: 0.1834\n",
            "Epoch 9/30\n",
            "3796/3796 [==============================] - 11s 3ms/step - loss: 2.2853 - acc: 0.1949 - val_loss: 2.6546 - val_acc: 0.1865\n",
            "Epoch 10/30\n",
            "3796/3796 [==============================] - 11s 3ms/step - loss: 2.2761 - acc: 0.1920 - val_loss: 3.3346 - val_acc: 0.1581\n",
            "Epoch 11/30\n",
            "3796/3796 [==============================] - 11s 3ms/step - loss: 2.2482 - acc: 0.1923 - val_loss: 3.5211 - val_acc: 0.1338\n",
            "Epoch 12/30\n",
            "3796/3796 [==============================] - 11s 3ms/step - loss: 2.2331 - acc: 0.1963 - val_loss: 2.8805 - val_acc: 0.1728\n",
            "Epoch 13/30\n",
            "3796/3796 [==============================] - 11s 3ms/step - loss: 2.2177 - acc: 0.2039 - val_loss: 2.7623 - val_acc: 0.1749\n",
            "Epoch 14/30\n",
            "3796/3796 [==============================] - 11s 3ms/step - loss: 2.1853 - acc: 0.2050 - val_loss: 3.6036 - val_acc: 0.1349\n",
            "Epoch 15/30\n",
            "3796/3796 [==============================] - 11s 3ms/step - loss: 2.2009 - acc: 0.1952 - val_loss: 2.6902 - val_acc: 0.1802\n",
            "Epoch 16/30\n",
            "3796/3796 [==============================] - 11s 3ms/step - loss: 2.1613 - acc: 0.2094 - val_loss: 2.7897 - val_acc: 0.1823\n",
            "Epoch 00016: early stopping\n"
          ],
          "name": "stdout"
        },
        {
          "output_type": "execute_result",
          "data": {
            "text/plain": [
              "<keras.callbacks.History at 0x7f94c32386d8>"
            ]
          },
          "metadata": {
            "tags": []
          },
          "execution_count": 48
        }
      ]
    },
    {
      "cell_type": "code",
      "metadata": {
        "id": "fubQ7LSeUZ9u",
        "colab_type": "code",
        "outputId": "a582e75a-88fe-43a1-d4bd-590a13faccbd",
        "colab": {
          "base_uri": "https://localhost:8080/",
          "height": 479
        }
      },
      "source": [
        "model2.summary()"
      ],
      "execution_count": 0,
      "outputs": [
        {
          "output_type": "stream",
          "text": [
            "_________________________________________________________________\n",
            "Layer (type)                 Output Shape              Param #   \n",
            "=================================================================\n",
            "conv2d_13 (Conv2D)           (None, 98, 98, 32)        896       \n",
            "_________________________________________________________________\n",
            "activation_25 (Activation)   (None, 98, 98, 32)        0         \n",
            "_________________________________________________________________\n",
            "conv2d_14 (Conv2D)           (None, 96, 96, 32)        9248      \n",
            "_________________________________________________________________\n",
            "activation_26 (Activation)   (None, 96, 96, 32)        0         \n",
            "_________________________________________________________________\n",
            "flatten_7 (Flatten)          (None, 294912)            0         \n",
            "_________________________________________________________________\n",
            "dense_13 (Dense)             (None, 128)               37748864  \n",
            "_________________________________________________________________\n",
            "activation_27 (Activation)   (None, 128)               0         \n",
            "_________________________________________________________________\n",
            "dense_14 (Dense)             (None, 12)                1548      \n",
            "_________________________________________________________________\n",
            "activation_28 (Activation)   (None, 12)                0         \n",
            "=================================================================\n",
            "Total params: 37,760,556\n",
            "Trainable params: 37,760,556\n",
            "Non-trainable params: 0\n",
            "_________________________________________________________________\n"
          ],
          "name": "stdout"
        }
      ]
    },
    {
      "cell_type": "code",
      "metadata": {
        "id": "m7vaCHPqsUOH",
        "colab_type": "code",
        "outputId": "317676df-6e33-4d1f-b712-4f15b5fc963e",
        "colab": {
          "base_uri": "https://localhost:8080/",
          "height": 35
        }
      },
      "source": [
        "#image generator"
      ],
      "execution_count": 0,
      "outputs": [
        {
          "output_type": "execute_result",
          "data": {
            "text/plain": [
              "(1, 100, 100, 3)"
            ]
          },
          "metadata": {
            "tags": []
          },
          "execution_count": 16
        }
      ]
    },
    {
      "cell_type": "code",
      "metadata": {
        "id": "und7P-ctB_2n",
        "colab_type": "code",
        "colab": {}
      },
      "source": [
        "from keras.preprocessing.image import ImageDataGenerator\n",
        "\n",
        "# This will do preprocessing and realtime data augmentation:\n",
        "datagen = ImageDataGenerator(\n",
        "    featurewise_center=False,  # set input mean to 0 over the dataset\n",
        "    samplewise_center=False,  # set each sample mean to 0\n",
        "    featurewise_std_normalization=False,  # divide inputs by std of the dataset\n",
        "    samplewise_std_normalization=False,  # divide each input by its std\n",
        "    zca_whitening=False,  # apply ZCA whitening\n",
        "    rotation_range=50,  # randomly rotate images in the range (degrees, 0 to 180)\n",
        "    width_shift_range=0.1,  # randomly shift images horizontally (fraction of total width)\n",
        "    height_shift_range=0.1,  # randomly shift images vertically (fraction of total height)\n",
        "    horizontal_flip=False,  # randomly flip images\n",
        "    vertical_flip=False)  # randomly flip images\n",
        "\n",
        "# Prepare the generator\n",
        "datagen.fit(x_train)"
      ],
      "execution_count": 0,
      "outputs": []
    },
    {
      "cell_type": "code",
      "metadata": {
        "id": "UsZMG1bwRAHn",
        "colab_type": "code",
        "colab": {}
      },
      "source": [
        "TRAIN= True\n",
        "\n",
        "model2.compile(loss='categorical_crossentropy', optimizer='adam', metrics=['accuracy'])\n",
        "if TRAIN:\n",
        "    model2.fit_generator(datagen.flow(x_train, y_train,\n",
        "                         batch_size=BATCH_SIZE),\n",
        "                         samples_per_epoch=x_train.shape[0],\n",
        "                         nb_epoch=EPOCHS,\n",
        "                         validation_data=(X_test, y_test), callbacks=callback_list)\n",
        "    model2.save('./cnn_augment.h5')\n",
        "else:\n",
        "    print('Loading pretrained model...')\n",
        "    model2 = keras.models.load_model('./cnn_augment.h5')\n",
        "    print('Model Loaded.')"
      ],
      "execution_count": 0,
      "outputs": []
    },
    {
      "cell_type": "code",
      "metadata": {
        "id": "fhba7TO_YMrd",
        "colab_type": "code",
        "colab": {}
      },
      "source": [
        ""
      ],
      "execution_count": 0,
      "outputs": []
    },
    {
      "cell_type": "code",
      "metadata": {
        "id": "t4-6nmTlDPk4",
        "colab_type": "code",
        "colab": {}
      },
      "source": [
        ""
      ],
      "execution_count": 0,
      "outputs": []
    },
    {
      "cell_type": "code",
      "metadata": {
        "id": "45wbu6yDCALW",
        "colab_type": "code",
        "colab": {}
      },
      "source": [
        "X_train = np.asarray(X_train)\n",
        "X_test  = np.array(X_test)\n",
        "y_train = np.array(y_train)\n",
        "y_test  = np.array(y_test)"
      ],
      "execution_count": 0,
      "outputs": []
    },
    {
      "cell_type": "code",
      "metadata": {
        "id": "eFi1WlEmUZ48",
        "colab_type": "code",
        "outputId": "28c198fd-2b8d-4dce-ff2e-66a830507b9a",
        "colab": {
          "base_uri": "https://localhost:8080/",
          "height": 655
        }
      },
      "source": [
        "from matplotlib import pyplot as plt\n",
        "#plt.imshow(thresh_crop)\n",
        "plt.imshow(np.array(X[:1]))\n",
        "plt.show()"
      ],
      "execution_count": 0,
      "outputs": [
        {
          "output_type": "error",
          "ename": "TypeError",
          "evalue": "ignored",
          "traceback": [
            "\u001b[0;31m---------------------------------------------------------------------------\u001b[0m",
            "\u001b[0;31mTypeError\u001b[0m                                 Traceback (most recent call last)",
            "\u001b[0;32m<ipython-input-15-4cf548e6052d>\u001b[0m in \u001b[0;36m<module>\u001b[0;34m()\u001b[0m\n\u001b[1;32m      1\u001b[0m \u001b[0;32mfrom\u001b[0m \u001b[0mmatplotlib\u001b[0m \u001b[0;32mimport\u001b[0m \u001b[0mpyplot\u001b[0m \u001b[0;32mas\u001b[0m \u001b[0mplt\u001b[0m\u001b[0;34m\u001b[0m\u001b[0;34m\u001b[0m\u001b[0m\n\u001b[1;32m      2\u001b[0m \u001b[0;31m#plt.imshow(thresh_crop)\u001b[0m\u001b[0;34m\u001b[0m\u001b[0;34m\u001b[0m\u001b[0;34m\u001b[0m\u001b[0m\n\u001b[0;32m----> 3\u001b[0;31m \u001b[0mplt\u001b[0m\u001b[0;34m.\u001b[0m\u001b[0mimshow\u001b[0m\u001b[0;34m(\u001b[0m\u001b[0mnp\u001b[0m\u001b[0;34m.\u001b[0m\u001b[0marray\u001b[0m\u001b[0;34m(\u001b[0m\u001b[0mX\u001b[0m\u001b[0;34m[\u001b[0m\u001b[0;34m:\u001b[0m\u001b[0;36m1\u001b[0m\u001b[0;34m]\u001b[0m\u001b[0;34m)\u001b[0m\u001b[0;34m)\u001b[0m\u001b[0;34m\u001b[0m\u001b[0;34m\u001b[0m\u001b[0m\n\u001b[0m\u001b[1;32m      4\u001b[0m \u001b[0mplt\u001b[0m\u001b[0;34m.\u001b[0m\u001b[0mshow\u001b[0m\u001b[0;34m(\u001b[0m\u001b[0;34m)\u001b[0m\u001b[0;34m\u001b[0m\u001b[0;34m\u001b[0m\u001b[0m\n",
            "\u001b[0;32m/usr/local/lib/python3.6/dist-packages/matplotlib/pyplot.py\u001b[0m in \u001b[0;36mimshow\u001b[0;34m(X, cmap, norm, aspect, interpolation, alpha, vmin, vmax, origin, extent, shape, filternorm, filterrad, imlim, resample, url, data, **kwargs)\u001b[0m\n\u001b[1;32m   2697\u001b[0m         \u001b[0mfilternorm\u001b[0m\u001b[0;34m=\u001b[0m\u001b[0mfilternorm\u001b[0m\u001b[0;34m,\u001b[0m \u001b[0mfilterrad\u001b[0m\u001b[0;34m=\u001b[0m\u001b[0mfilterrad\u001b[0m\u001b[0;34m,\u001b[0m \u001b[0mimlim\u001b[0m\u001b[0;34m=\u001b[0m\u001b[0mimlim\u001b[0m\u001b[0;34m,\u001b[0m\u001b[0;34m\u001b[0m\u001b[0;34m\u001b[0m\u001b[0m\n\u001b[1;32m   2698\u001b[0m         resample=resample, url=url, **({\"data\": data} if data is not\n\u001b[0;32m-> 2699\u001b[0;31m         None else {}), **kwargs)\n\u001b[0m\u001b[1;32m   2700\u001b[0m     \u001b[0msci\u001b[0m\u001b[0;34m(\u001b[0m\u001b[0m__ret\u001b[0m\u001b[0;34m)\u001b[0m\u001b[0;34m\u001b[0m\u001b[0;34m\u001b[0m\u001b[0m\n\u001b[1;32m   2701\u001b[0m     \u001b[0;32mreturn\u001b[0m \u001b[0m__ret\u001b[0m\u001b[0;34m\u001b[0m\u001b[0;34m\u001b[0m\u001b[0m\n",
            "\u001b[0;32m/usr/local/lib/python3.6/dist-packages/matplotlib/__init__.py\u001b[0m in \u001b[0;36minner\u001b[0;34m(ax, data, *args, **kwargs)\u001b[0m\n\u001b[1;32m   1808\u001b[0m                         \u001b[0;34m\"the Matplotlib list!)\"\u001b[0m \u001b[0;34m%\u001b[0m \u001b[0;34m(\u001b[0m\u001b[0mlabel_namer\u001b[0m\u001b[0;34m,\u001b[0m \u001b[0mfunc\u001b[0m\u001b[0;34m.\u001b[0m\u001b[0m__name__\u001b[0m\u001b[0;34m)\u001b[0m\u001b[0;34m,\u001b[0m\u001b[0;34m\u001b[0m\u001b[0;34m\u001b[0m\u001b[0m\n\u001b[1;32m   1809\u001b[0m                         RuntimeWarning, stacklevel=2)\n\u001b[0;32m-> 1810\u001b[0;31m             \u001b[0;32mreturn\u001b[0m \u001b[0mfunc\u001b[0m\u001b[0;34m(\u001b[0m\u001b[0max\u001b[0m\u001b[0;34m,\u001b[0m \u001b[0;34m*\u001b[0m\u001b[0margs\u001b[0m\u001b[0;34m,\u001b[0m \u001b[0;34m**\u001b[0m\u001b[0mkwargs\u001b[0m\u001b[0;34m)\u001b[0m\u001b[0;34m\u001b[0m\u001b[0;34m\u001b[0m\u001b[0m\n\u001b[0m\u001b[1;32m   1811\u001b[0m \u001b[0;34m\u001b[0m\u001b[0m\n\u001b[1;32m   1812\u001b[0m         inner.__doc__ = _add_data_doc(inner.__doc__,\n",
            "\u001b[0;32m/usr/local/lib/python3.6/dist-packages/matplotlib/axes/_axes.py\u001b[0m in \u001b[0;36mimshow\u001b[0;34m(self, X, cmap, norm, aspect, interpolation, alpha, vmin, vmax, origin, extent, shape, filternorm, filterrad, imlim, resample, url, **kwargs)\u001b[0m\n\u001b[1;32m   5492\u001b[0m                               resample=resample, **kwargs)\n\u001b[1;32m   5493\u001b[0m \u001b[0;34m\u001b[0m\u001b[0m\n\u001b[0;32m-> 5494\u001b[0;31m         \u001b[0mim\u001b[0m\u001b[0;34m.\u001b[0m\u001b[0mset_data\u001b[0m\u001b[0;34m(\u001b[0m\u001b[0mX\u001b[0m\u001b[0;34m)\u001b[0m\u001b[0;34m\u001b[0m\u001b[0;34m\u001b[0m\u001b[0m\n\u001b[0m\u001b[1;32m   5495\u001b[0m         \u001b[0mim\u001b[0m\u001b[0;34m.\u001b[0m\u001b[0mset_alpha\u001b[0m\u001b[0;34m(\u001b[0m\u001b[0malpha\u001b[0m\u001b[0;34m)\u001b[0m\u001b[0;34m\u001b[0m\u001b[0;34m\u001b[0m\u001b[0m\n\u001b[1;32m   5496\u001b[0m         \u001b[0;32mif\u001b[0m \u001b[0mim\u001b[0m\u001b[0;34m.\u001b[0m\u001b[0mget_clip_path\u001b[0m\u001b[0;34m(\u001b[0m\u001b[0;34m)\u001b[0m \u001b[0;32mis\u001b[0m \u001b[0;32mNone\u001b[0m\u001b[0;34m:\u001b[0m\u001b[0;34m\u001b[0m\u001b[0;34m\u001b[0m\u001b[0m\n",
            "\u001b[0;32m/usr/local/lib/python3.6/dist-packages/matplotlib/image.py\u001b[0m in \u001b[0;36mset_data\u001b[0;34m(self, A)\u001b[0m\n\u001b[1;32m    636\u001b[0m         if not (self._A.ndim == 2\n\u001b[1;32m    637\u001b[0m                 or self._A.ndim == 3 and self._A.shape[-1] in [3, 4]):\n\u001b[0;32m--> 638\u001b[0;31m             \u001b[0;32mraise\u001b[0m \u001b[0mTypeError\u001b[0m\u001b[0;34m(\u001b[0m\u001b[0;34m\"Invalid dimensions for image data\"\u001b[0m\u001b[0;34m)\u001b[0m\u001b[0;34m\u001b[0m\u001b[0;34m\u001b[0m\u001b[0m\n\u001b[0m\u001b[1;32m    639\u001b[0m \u001b[0;34m\u001b[0m\u001b[0m\n\u001b[1;32m    640\u001b[0m         \u001b[0;32mif\u001b[0m \u001b[0mself\u001b[0m\u001b[0;34m.\u001b[0m\u001b[0m_A\u001b[0m\u001b[0;34m.\u001b[0m\u001b[0mndim\u001b[0m \u001b[0;34m==\u001b[0m \u001b[0;36m3\u001b[0m\u001b[0;34m:\u001b[0m\u001b[0;34m\u001b[0m\u001b[0;34m\u001b[0m\u001b[0m\n",
            "\u001b[0;31mTypeError\u001b[0m: Invalid dimensions for image data"
          ]
        },
        {
          "output_type": "display_data",
          "data": {
            "image/png": "[encoded data removed]",
            "text/plain": [
              "<Figure size 432x288 with 1 Axes>"
            ]
          },
          "metadata": {
            "tags": []
          }
        }
      ]
    },
    {
      "cell_type": "code",
      "metadata": {
        "id": "vu-ba_k_BN-q",
        "colab_type": "code",
        "colab": {}
      },
      "source": [
        ""
      ],
      "execution_count": 0,
      "outputs": []
    },
    {
      "cell_type": "code",
      "metadata": {
        "id": "K_dDiyOIc2h1",
        "colab_type": "code",
        "outputId": "6ae1c927-bdef-422b-9ebb-63ab612ce736",
        "colab": {
          "base_uri": "https://localhost:8080/",
          "height": 35
        }
      },
      "source": [
        "img.shape\n",
        "l.shape"
      ],
      "execution_count": 0,
      "outputs": [
        {
          "output_type": "execute_result",
          "data": {
            "text/plain": [
              "(100, 100, 3)"
            ]
          },
          "metadata": {
            "tags": []
          },
          "execution_count": 20
        }
      ]
    },
    {
      "cell_type": "code",
      "metadata": {
        "id": "SWM17zGKeLdT",
        "colab_type": "code",
        "outputId": "a90b4fd3-719c-492a-b568-49cb8e302ecd",
        "colab": {
          "base_uri": "https://localhost:8080/",
          "height": 303
        }
      },
      "source": [
        "image_preprocessing(img)"
      ],
      "execution_count": 0,
      "outputs": [
        {
          "output_type": "error",
          "ename": "TypeError",
          "evalue": "ignored",
          "traceback": [
            "\u001b[0;31m---------------------------------------------------------------------------\u001b[0m",
            "\u001b[0;31mTypeError\u001b[0m                                 Traceback (most recent call last)",
            "\u001b[0;32m<ipython-input-34-1e17d072b780>\u001b[0m in \u001b[0;36m<module>\u001b[0;34m()\u001b[0m\n\u001b[0;32m----> 1\u001b[0;31m \u001b[0mimage_preprocessing\u001b[0m\u001b[0;34m(\u001b[0m\u001b[0mimg\u001b[0m\u001b[0;34m)\u001b[0m\u001b[0;34m\u001b[0m\u001b[0;34m\u001b[0m\u001b[0m\n\u001b[0m",
            "\u001b[0;32m<ipython-input-31-56f6a2c32931>\u001b[0m in \u001b[0;36mimage_preprocessing\u001b[0;34m(image)\u001b[0m\n\u001b[1;32m      3\u001b[0m \u001b[0mY\u001b[0m \u001b[0;34m=\u001b[0m \u001b[0;34m[\u001b[0m\u001b[0;34m]\u001b[0m\u001b[0;34m\u001b[0m\u001b[0;34m\u001b[0m\u001b[0m\n\u001b[1;32m      4\u001b[0m \u001b[0;32mdef\u001b[0m \u001b[0mimage_preprocessing\u001b[0m\u001b[0;34m(\u001b[0m\u001b[0mimage\u001b[0m\u001b[0;34m)\u001b[0m\u001b[0;34m:\u001b[0m\u001b[0;34m\u001b[0m\u001b[0;34m\u001b[0m\u001b[0m\n\u001b[0;32m----> 5\u001b[0;31m   \u001b[0mimg_resize\u001b[0m \u001b[0;34m=\u001b[0m \u001b[0mcv2\u001b[0m\u001b[0;34m.\u001b[0m\u001b[0mresize\u001b[0m\u001b[0;34m(\u001b[0m\u001b[0mcv2\u001b[0m\u001b[0;34m.\u001b[0m\u001b[0mimread\u001b[0m\u001b[0;34m(\u001b[0m\u001b[0mimage\u001b[0m\u001b[0;34m)\u001b[0m\u001b[0;34m,\u001b[0m\u001b[0;34m(\u001b[0m\u001b[0;36m100\u001b[0m\u001b[0;34m,\u001b[0m\u001b[0;36m100\u001b[0m\u001b[0;34m)\u001b[0m\u001b[0;34m)\u001b[0m\u001b[0;34m\u001b[0m\u001b[0;34m\u001b[0m\u001b[0m\n\u001b[0m\u001b[1;32m      6\u001b[0m   \u001b[0mblurr\u001b[0m \u001b[0;34m=\u001b[0m \u001b[0mcv2\u001b[0m\u001b[0;34m.\u001b[0m\u001b[0mGaussianBlur\u001b[0m\u001b[0;34m(\u001b[0m\u001b[0mimg_resize\u001b[0m\u001b[0;34m,\u001b[0m\u001b[0;34m(\u001b[0m\u001b[0;36m5\u001b[0m\u001b[0;34m,\u001b[0m\u001b[0;36m5\u001b[0m\u001b[0;34m)\u001b[0m\u001b[0;34m,\u001b[0m\u001b[0;36m0\u001b[0m\u001b[0;34m)\u001b[0m\u001b[0;34m\u001b[0m\u001b[0;34m\u001b[0m\u001b[0m\n\u001b[1;32m      7\u001b[0m   \u001b[0mhsv\u001b[0m \u001b[0;34m=\u001b[0m \u001b[0mcv2\u001b[0m\u001b[0;34m.\u001b[0m\u001b[0mcvtColor\u001b[0m\u001b[0;34m(\u001b[0m\u001b[0mblurr\u001b[0m\u001b[0;34m,\u001b[0m\u001b[0mcv2\u001b[0m\u001b[0;34m.\u001b[0m\u001b[0mCOLOR_BGR2HSV\u001b[0m\u001b[0;34m)\u001b[0m\u001b[0;34m\u001b[0m\u001b[0;34m\u001b[0m\u001b[0m\n",
            "\u001b[0;31mTypeError\u001b[0m: bad argument type for built-in operation"
          ]
        }
      ]
    },
    {
      "cell_type": "code",
      "metadata": {
        "id": "56LckFWEVC5I",
        "colab_type": "code",
        "outputId": "5e92241e-a9b0-4aaa-f39c-18578c4097b2",
        "colab": {
          "base_uri": "https://localhost:8080/",
          "height": 35
        }
      },
      "source": [
        "type(img)"
      ],
      "execution_count": 0,
      "outputs": [
        {
          "output_type": "execute_result",
          "data": {
            "text/plain": [
              "numpy.ndarray"
            ]
          },
          "metadata": {
            "tags": []
          },
          "execution_count": 19
        }
      ]
    },
    {
      "cell_type": "code",
      "metadata": {
        "id": "bQiaEudOdia4",
        "colab_type": "code",
        "outputId": "df532257-003a-474b-f798-197c5d6671a5",
        "colab": {
          "base_uri": "https://localhost:8080/",
          "height": 35
        }
      },
      "source": [
        "l.shape"
      ],
      "execution_count": 0,
      "outputs": [
        {
          "output_type": "execute_result",
          "data": {
            "text/plain": [
              "(25, 25, 3)"
            ]
          },
          "metadata": {
            "tags": []
          },
          "execution_count": 8
        }
      ]
    },
    {
      "cell_type": "code",
      "metadata": {
        "id": "4vR2phrsa-Rz",
        "colab_type": "code",
        "outputId": "1e18e4e7-ecf8-4d62-dcef-d97f08fd7b40",
        "colab": {
          "base_uri": "https://localhost:8080/",
          "height": 173
        }
      },
      "source": [
        ""
      ],
      "execution_count": 0,
      "outputs": [
        {
          "output_type": "error",
          "ename": "NameError",
          "evalue": "ignored",
          "traceback": [
            "\u001b[0;31m---------------------------------------------------------------------------\u001b[0m",
            "\u001b[0;31mNameError\u001b[0m                                 Traceback (most recent call last)",
            "\u001b[0;32m<ipython-input-31-cde25b5e10ad>\u001b[0m in \u001b[0;36m<module>\u001b[0;34m()\u001b[0m\n\u001b[0;32m----> 1\u001b[0;31m \u001b[0ml\u001b[0m\u001b[0;34m\u001b[0m\u001b[0;34m\u001b[0m\u001b[0m\n\u001b[0m",
            "\u001b[0;31mNameError\u001b[0m: name 'l' is not defined"
          ]
        }
      ]
    },
    {
      "cell_type": "code",
      "metadata": {
        "id": "cxD9adLqjH2K",
        "colab_type": "code",
        "outputId": "e1280a88-f958-4c60-cbbb-6bcac80f8ab1",
        "colab": {
          "base_uri": "https://localhost:8080/",
          "height": 290
        }
      },
      "source": [
        "from matplotlib import pyplot as plt\n",
        "#plt.imshow(thresh_crop)\n",
        "plt.imshow(l)\n",
        "plt.show()"
      ],
      "execution_count": 0,
      "outputs": [
        {
          "output_type": "display_data",
          "data": {
            "image/png": "[encoded data removed]",
            "text/plain": [
              "<Figure size 432x288 with 1 Axes>"
            ]
          },
          "metadata": {
            "tags": []
          }
        }
      ]
    },
    {
      "cell_type": "code",
      "metadata": {
        "id": "_M-cTbsRjQ0d",
        "colab_type": "code",
        "outputId": "e490648b-6916-4ee4-af6d-17716cf1f880",
        "colab": {
          "base_uri": "https://localhost:8080/",
          "height": 290
        }
      },
      "source": [
        "from matplotlib import pyplot as plt\n",
        "#plt.imshow(thresh_crop)\n",
        "plt.imshow(img)\n",
        "plt.show()"
      ],
      "execution_count": 0,
      "outputs": [
        {
          "output_type": "display_data",
          "data": {
            "image/png": "[encoded data removed]",
            "text/plain": [
              "<Figure size 432x288 with 1 Axes>"
            ]
          },
          "metadata": {
            "tags": []
          }
        }
      ]
    },
    {
      "cell_type": "code",
      "metadata": {
        "id": "KNQds0oIjUWT",
        "colab_type": "code",
        "colab": {}
      },
      "source": [
        "blurr = cv2.GaussianBlur(l,(5,5),0)\n",
        "hsv = cv2.cvtColor(blurr,cv2.COLOR_BGR2HSV)\n",
        "#GREEN PARAMETERS\n",
        "lower = (25,40,50)\n",
        "upper = (75,255,255)\n",
        "hsv_thres = cv2.inRange(hsv,lower,upper)\n",
        "struc = cv2.getStructuringElement(cv2.MORPH_ELLIPSE,(11,11))\n",
        "#struc = cv2.getStructuringElement(cv2.MORPH_RECT,(,3))\n",
        "mask = cv2.morphologyEx(hsv_thres,cv2.MORPH_CLOSE,struc)\n",
        "boolean = mask>0\n",
        "new = np.zeros_like(l,np.uint8)\n",
        "new[boolean] = l[boolean]"
      ],
      "execution_count": 0,
      "outputs": []
    },
    {
      "cell_type": "code",
      "metadata": {
        "id": "FQEMscbvmTAw",
        "colab_type": "code",
        "outputId": "47cb561f-281e-4d06-ce17-c2e0e0e572ad",
        "colab": {
          "base_uri": "https://localhost:8080/",
          "height": 1403
        }
      },
      "source": [
        ""
      ],
      "execution_count": 0,
      "outputs": [
        {
          "output_type": "execute_result",
          "data": {
            "text/plain": [
              "array([[False, False, False, False, False, False, False, False, False,\n",
              "        False, False, False, False, False, False, False, False, False,\n",
              "        False, False, False, False, False, False, False],\n",
              "       [False, False, False, False, False, False, False, False, False,\n",
              "        False, False, False, False, False, False, False, False, False,\n",
              "        False, False, False, False, False, False, False],\n",
              "       [False, False, False, False, False, False, False, False, False,\n",
              "        False, False, False, False, False, False, False, False, False,\n",
              "        False, False, False, False, False, False, False],\n",
              "       [False, False, False, False, False, False, False, False, False,\n",
              "        False, False, False, False, False, False, False, False, False,\n",
              "        False, False, False, False, False, False, False],\n",
              "       [False, False, False, False, False, False, False, False, False,\n",
              "        False, False, False, False, False, False, False, False, False,\n",
              "        False, False, False, False, False, False, False],\n",
              "       [False, False, False, False, False, False, False, False, False,\n",
              "        False, False, False, False, False, False, False, False, False,\n",
              "        False, False, False, False, False, False, False],\n",
              "       [False, False, False, False, False, False, False, False, False,\n",
              "        False, False, False, False, False, False, False, False, False,\n",
              "        False, False, False, False, False, False, False],\n",
              "       [False, False, False, False, False, False, False, False, False,\n",
              "        False, False, False, False, False, False, False, False, False,\n",
              "        False, False, False, False, False, False, False],\n",
              "       [False, False, False, False, False, False, False, False, False,\n",
              "        False, False, False, False, False, False, False, False, False,\n",
              "        False, False, False, False,  True, False, False],\n",
              "       [ True,  True,  True,  True, False, False, False, False, False,\n",
              "        False, False, False, False, False, False, False, False, False,\n",
              "        False,  True,  True,  True,  True,  True,  True],\n",
              "       [ True,  True,  True,  True,  True,  True, False, False, False,\n",
              "        False, False, False, False, False, False, False, False,  True,\n",
              "         True,  True,  True,  True,  True,  True,  True],\n",
              "       [ True,  True,  True,  True,  True,  True,  True,  True, False,\n",
              "        False, False, False, False, False, False,  True,  True,  True,\n",
              "         True,  True,  True,  True,  True,  True,  True],\n",
              "       [ True,  True,  True,  True,  True,  True,  True,  True,  True,\n",
              "         True,  True, False,  True,  True,  True,  True,  True,  True,\n",
              "         True,  True,  True,  True,  True,  True,  True],\n",
              "       [False,  True,  True,  True,  True,  True,  True,  True,  True,\n",
              "         True,  True,  True,  True,  True,  True,  True,  True,  True,\n",
              "         True,  True,  True,  True,  True,  True,  True],\n",
              "       [False, False, False, False,  True,  True,  True,  True,  True,\n",
              "         True,  True,  True,  True,  True,  True,  True,  True,  True,\n",
              "         True,  True,  True,  True,  True,  True,  True],\n",
              "       [False, False, False, False, False,  True,  True,  True,  True,\n",
              "         True,  True,  True, False,  True,  True,  True,  True,  True,\n",
              "         True,  True,  True,  True,  True,  True,  True],\n",
              "       [False, False, False, False, False, False, False,  True,  True,\n",
              "        False, False, False, False, False, False, False,  True,  True,\n",
              "         True,  True,  True,  True,  True,  True,  True],\n",
              "       [False, False, False, False, False, False, False, False, False,\n",
              "        False, False, False, False, False, False, False, False, False,\n",
              "         True,  True,  True,  True,  True,  True,  True],\n",
              "       [False, False, False, False, False, False, False, False, False,\n",
              "        False, False, False, False, False, False, False, False, False,\n",
              "        False,  True,  True,  True,  True,  True,  True],\n",
              "       [False, False, False, False, False, False, False, False, False,\n",
              "        False, False, False, False, False, False, False, False, False,\n",
              "        False, False,  True,  True,  True,  True,  True],\n",
              "       [False, False, False, False, False, False, False, False, False,\n",
              "        False, False, False, False, False, False, False, False, False,\n",
              "        False, False,  True,  True,  True,  True,  True],\n",
              "       [False, False, False, False, False, False, False, False, False,\n",
              "        False, False, False, False, False, False, False, False, False,\n",
              "        False, False,  True,  True,  True,  True,  True],\n",
              "       [False, False, False, False, False, False, False, False, False,\n",
              "        False, False, False, False, False, False, False, False, False,\n",
              "        False, False,  True,  True,  True,  True,  True],\n",
              "       [False, False, False, False, False, False, False, False, False,\n",
              "        False, False, False, False, False, False, False, False, False,\n",
              "        False, False,  True,  True,  True,  True,  True],\n",
              "       [False, False, False, False, False, False, False, False, False,\n",
              "        False, False, False, False, False, False, False, False, False,\n",
              "        False, False,  True,  True,  True,  True,  True]])"
            ]
          },
          "metadata": {
            "tags": []
          },
          "execution_count": 15
        }
      ]
    },
    {
      "cell_type": "code",
      "metadata": {
        "id": "c1Qtmr5-Th6U",
        "colab_type": "code",
        "outputId": "ad89b6e4-4867-4b2f-de7d-c80e7bedc51f",
        "colab": {
          "base_uri": "https://localhost:8080/",
          "height": 290
        }
      },
      "source": [
        "#plt.imshow(thresh_crop)\n",
        "plt.imshow(struc)\n",
        "plt.show()"
      ],
      "execution_count": 0,
      "outputs": [
        {
          "output_type": "display_data",
          "data": {
            "image/png": "[encoded data removed]",
            "text/plain": [
              "<Figure size 432x288 with 1 Axes>"
            ]
          },
          "metadata": {
            "tags": []
          }
        }
      ]
    },
    {
      "cell_type": "code",
      "metadata": {
        "id": "fP04YszQTiQ3",
        "colab_type": "code",
        "outputId": "87e845e1-5b79-4d56-b71b-5f009c0a1b9a",
        "colab": {
          "base_uri": "https://localhost:8080/",
          "height": 290
        }
      },
      "source": [
        "#plt.imshow(thresh_crop)\n",
        "plt.imshow(mask)\n",
        "plt.show()"
      ],
      "execution_count": 0,
      "outputs": [
        {
          "output_type": "display_data",
          "data": {
            "image/png": "[encoded data removed]",
            "text/plain": [
              "<Figure size 432x288 with 1 Axes>"
            ]
          },
          "metadata": {
            "tags": []
          }
        }
      ]
    },
    {
      "cell_type": "code",
      "metadata": {
        "id": "crsuk9ecmc8U",
        "colab_type": "code",
        "outputId": "c191d2ae-9748-4a0f-fb2d-55cd8ad4e5e7",
        "colab": {
          "base_uri": "https://localhost:8080/",
          "height": 290
        }
      },
      "source": [
        "#plt.imshow(thresh_crop)\n",
        "plt.imshow(new)\n",
        "plt.show()"
      ],
      "execution_count": 0,
      "outputs": [
        {
          "output_type": "display_data",
          "data": {
            "image/png": "[encoded data removed]",
            "text/plain": [
              "<Figure size 432x288 with 1 Axes>"
            ]
          },
          "metadata": {
            "tags": []
          }
        }
      ]
    },
    {
      "cell_type": "code",
      "metadata": {
        "id": "ZX4aoo7UoBGr",
        "colab_type": "code",
        "outputId": "5c7240d9-faef-4d93-cebf-09986fc44e8f",
        "colab": {
          "base_uri": "https://localhost:8080/",
          "height": 35
        }
      },
      "source": [
        "new.shape\n",
        "type(new)"
      ],
      "execution_count": 0,
      "outputs": [
        {
          "output_type": "execute_result",
          "data": {
            "text/plain": [
              "numpy.ndarray"
            ]
          },
          "metadata": {
            "tags": []
          },
          "execution_count": 20
        }
      ]
    },
    {
      "cell_type": "code",
      "metadata": {
        "id": "cmiVKyMTqYGR",
        "colab_type": "code",
        "outputId": "2a16b267-db4b-4b41-b3aa-2f2de16e1fd1",
        "colab": {
          "base_uri": "https://localhost:8080/",
          "height": 923
        }
      },
      "source": [
        "new"
      ],
      "execution_count": 0,
      "outputs": [
        {
          "output_type": "execute_result",
          "data": {
            "text/plain": [
              "array([[[  0,   0,   0],\n",
              "        [  0,   0,   0],\n",
              "        [  0,   0,   0],\n",
              "        ...,\n",
              "        [  0,   0,   0],\n",
              "        [  0,   0,   0],\n",
              "        [  0,   0,   0]],\n",
              "\n",
              "       [[  0,   0,   0],\n",
              "        [  0,   0,   0],\n",
              "        [  0,   0,   0],\n",
              "        ...,\n",
              "        [  0,   0,   0],\n",
              "        [  0,   0,   0],\n",
              "        [  0,   0,   0]],\n",
              "\n",
              "       [[  0,   0,   0],\n",
              "        [  0,   0,   0],\n",
              "        [  0,   0,   0],\n",
              "        ...,\n",
              "        [  0,   0,   0],\n",
              "        [  0,   0,   0],\n",
              "        [  0,   0,   0]],\n",
              "\n",
              "       ...,\n",
              "\n",
              "       [[  0,   0,   0],\n",
              "        [  0,   0,   0],\n",
              "        [  0,   0,   0],\n",
              "        ...,\n",
              "        [ 35,  86,  73],\n",
              "        [ 30,  86,  70],\n",
              "        [ 27,  84,  71]],\n",
              "\n",
              "       [[  0,   0,   0],\n",
              "        [  0,   0,   0],\n",
              "        [  0,   0,   0],\n",
              "        ...,\n",
              "        [ 41,  62,  72],\n",
              "        [ 30,  50,  66],\n",
              "        [ 40,  64,  88]],\n",
              "\n",
              "       [[  0,   0,   0],\n",
              "        [  0,   0,   0],\n",
              "        [  0,   0,   0],\n",
              "        ...,\n",
              "        [ 55,  71,  89],\n",
              "        [ 32,  56,  81],\n",
              "        [ 53,  80, 102]]], dtype=uint8)"
            ]
          },
          "metadata": {
            "tags": []
          },
          "execution_count": 21
        }
      ]
    },
    {
      "cell_type": "code",
      "metadata": {
        "id": "DkI6jMpmrpXN",
        "colab_type": "code",
        "colab": {}
      },
      "source": [
        ""
      ],
      "execution_count": 0,
      "outputs": []
    }
  ]
}