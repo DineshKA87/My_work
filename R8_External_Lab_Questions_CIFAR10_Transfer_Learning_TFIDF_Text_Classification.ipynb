{
  "nbformat": 4,
  "nbformat_minor": 0,
  "metadata": {
    "colab": {
      "name": "R8_External_Lab_Questions_CIFAR10_Transfer_Learning_TFIDF_Text_Classification.ipynb",
      "version": "0.3.2",
      "provenance": [],
      "collapsed_sections": []
    },
    "kernelspec": {
      "name": "python3",
      "display_name": "Python 3"
    },
    "accelerator": "GPU"
  },
  "cells": [
    {
      "cell_type": "markdown",
      "metadata": {
        "id": "QGIsF1ADyJ58",
        "colab_type": "text"
      },
      "source": [
        "# Transfer Learning CIFAR10"
      ]
    },
    {
      "cell_type": "markdown",
      "metadata": {
        "id": "E-n6tVFayGBe",
        "colab_type": "text"
      },
      "source": [
        "* Train a simple convnet on the CIFAR dataset the first 5 output classes [0..4].\n",
        "* Freeze convolutional layers and fine-tune dense layers for the last 5 ouput classes [5..9].\n"
      ]
    },
    {
      "cell_type": "markdown",
      "metadata": {
        "id": "Cq8ejXHJyGYq",
        "colab_type": "text"
      },
      "source": [
        "### 1. Import CIFAR10 data and create 2 datasets with one dataset having classes from 0 to 4 and other having classes from 5 to 9 "
      ]
    },
    {
      "cell_type": "code",
      "metadata": {
        "id": "uWYbxnBayFUP",
        "colab_type": "code",
        "colab": {}
      },
      "source": [
        "from IPython.core.interactiveshell import InteractiveShell\n",
        "InteractiveShell.ast_node_interactivity = \"all\"\n",
        "\n",
        "import numpy as np\n",
        "import tensorflow as tf\n",
        "from keras.models import Sequential\n",
        "from keras.layers import Dense\n",
        "from keras.layers import Dropout\n",
        "from keras.layers import Flatten\n",
        "from keras.layers.normalization import BatchNormalization\n",
        "from keras.layers.convolutional import Conv2D\n",
        "from keras.layers.convolutional import MaxPooling2D\n",
        "from keras.layers.core import Activation\n",
        "from keras.constraints import maxnorm\n",
        "from keras.optimizers import SGD\n",
        "from keras.utils import np_utils\n",
        "\n",
        "import numpy as np\n",
        "import keras\n",
        "import tensorflow as tf\n",
        "import matplotlib.pyplot as plt\n",
        "% matplotlib inline\n",
        "from keras.models import Model\n",
        "from keras.datasets import cifar10"
      ],
      "execution_count": 0,
      "outputs": []
    },
    {
      "cell_type": "code",
      "metadata": {
        "id": "dpwBZHIByMoa",
        "colab_type": "code",
        "colab": {}
      },
      "source": [
        "from keras.datasets import mnist\n",
        "(x_train, y_train), (x_test, y_test) = cifar10.load_data()"
      ],
      "execution_count": 0,
      "outputs": []
    },
    {
      "cell_type": "code",
      "metadata": {
        "id": "QeH4PJBr0NKC",
        "colab_type": "code",
        "outputId": "0a797fa2-c2f6-45f1-c444-7c8ccf73ddb8",
        "colab": {
          "base_uri": "https://localhost:8080/",
          "height": 35
        }
      },
      "source": [
        "x_train.shape"
      ],
      "execution_count": 0,
      "outputs": [
        {
          "output_type": "execute_result",
          "data": {
            "text/plain": [
              "(50000, 32, 32, 3)"
            ]
          },
          "metadata": {
            "tags": []
          },
          "execution_count": 116
        }
      ]
    },
    {
      "cell_type": "code",
      "metadata": {
        "id": "19QB4gcq12W5",
        "colab_type": "code",
        "outputId": "addb087a-19db-41d7-cc34-cd236cd3a8e4",
        "colab": {
          "base_uri": "https://localhost:8080/",
          "height": 35
        }
      },
      "source": [
        "np.unique(y_train)"
      ],
      "execution_count": 0,
      "outputs": [
        {
          "output_type": "execute_result",
          "data": {
            "text/plain": [
              "array([0, 1, 2, 3, 4, 5, 6, 7, 8, 9], dtype=uint8)"
            ]
          },
          "metadata": {
            "tags": []
          },
          "execution_count": 117
        }
      ]
    },
    {
      "cell_type": "code",
      "metadata": {
        "id": "xIhZLOey3Mxv",
        "colab_type": "code",
        "colab": {}
      },
      "source": [
        "y = x_train[1:2]"
      ],
      "execution_count": 0,
      "outputs": []
    },
    {
      "cell_type": "code",
      "metadata": {
        "id": "b4l14G2p-trA",
        "colab_type": "code",
        "outputId": "90f6ac5b-54fb-4d7d-b935-aef3e79e8ccd",
        "colab": {
          "base_uri": "https://localhost:8080/",
          "height": 35
        }
      },
      "source": [
        "y.shape"
      ],
      "execution_count": 0,
      "outputs": [
        {
          "output_type": "execute_result",
          "data": {
            "text/plain": [
              "(1, 32, 32, 3)"
            ]
          },
          "metadata": {
            "tags": []
          },
          "execution_count": 73
        }
      ]
    },
    {
      "cell_type": "code",
      "metadata": {
        "id": "k_Dd-kkA7-Qf",
        "colab_type": "code",
        "colab": {}
      },
      "source": [
        "l = []\n",
        "for i,j in enumerate(y_train < 5):\n",
        "  if j:\n",
        "    l.append(x_train[i])\n",
        "x_train_1 = np.array(l)\n"
      ],
      "execution_count": 0,
      "outputs": []
    },
    {
      "cell_type": "code",
      "metadata": {
        "id": "t2buoHU7DsSl",
        "colab_type": "code",
        "colab": {}
      },
      "source": [
        ""
      ],
      "execution_count": 0,
      "outputs": []
    },
    {
      "cell_type": "code",
      "metadata": {
        "id": "Y2xQuFA1BOK7",
        "colab_type": "code",
        "outputId": "e13607b1-f86a-4c49-d5c6-cc05cf525c8d",
        "colab": {
          "base_uri": "https://localhost:8080/",
          "height": 35
        }
      },
      "source": [
        "x_train_1.shape"
      ],
      "execution_count": 0,
      "outputs": [
        {
          "output_type": "execute_result",
          "data": {
            "text/plain": [
              "(25000, 32, 32, 3)"
            ]
          },
          "metadata": {
            "tags": []
          },
          "execution_count": 75
        }
      ]
    },
    {
      "cell_type": "code",
      "metadata": {
        "id": "2YE0zfcvC2UD",
        "colab_type": "code",
        "colab": {}
      },
      "source": [
        "y_train_1 = y_train[y_train < 5]"
      ],
      "execution_count": 0,
      "outputs": []
    },
    {
      "cell_type": "code",
      "metadata": {
        "id": "YMk57kdtBOOM",
        "colab_type": "code",
        "outputId": "a247a17d-0a06-4de8-c035-4cc8bf2979a0",
        "colab": {
          "base_uri": "https://localhost:8080/",
          "height": 35
        }
      },
      "source": [
        "y_train_1.shape"
      ],
      "execution_count": 0,
      "outputs": [
        {
          "output_type": "execute_result",
          "data": {
            "text/plain": [
              "(25000,)"
            ]
          },
          "metadata": {
            "tags": []
          },
          "execution_count": 77
        }
      ]
    },
    {
      "cell_type": "code",
      "metadata": {
        "id": "ttciVc1F_h8f",
        "colab_type": "code",
        "colab": {}
      },
      "source": [
        "l_test = []\n",
        "for i,j in enumerate(y_test < 5):\n",
        "  if j:\n",
        "    l_test.append(x_test[i])\n",
        "x_test_1 = np.array(l_test)"
      ],
      "execution_count": 0,
      "outputs": []
    },
    {
      "cell_type": "code",
      "metadata": {
        "id": "t_h5IJ2QFP2S",
        "colab_type": "code",
        "outputId": "3e12a58c-698c-4314-b712-91c716d178e4",
        "colab": {
          "base_uri": "https://localhost:8080/",
          "height": 35
        }
      },
      "source": [
        "x_test_1.shape"
      ],
      "execution_count": 0,
      "outputs": [
        {
          "output_type": "execute_result",
          "data": {
            "text/plain": [
              "(5000, 32, 32, 3)"
            ]
          },
          "metadata": {
            "tags": []
          },
          "execution_count": 83
        }
      ]
    },
    {
      "cell_type": "code",
      "metadata": {
        "id": "71U53nG2yMl0",
        "colab_type": "code",
        "colab": {}
      },
      "source": [
        "#Creating a dataset for digits 0-4\n",
        "\n",
        "y_test_1 = y_test[y_test < 5]"
      ],
      "execution_count": 0,
      "outputs": []
    },
    {
      "cell_type": "code",
      "metadata": {
        "id": "oxuIlwz9GfKp",
        "colab_type": "code",
        "outputId": "73b82a58-c516-4606-e7eb-0ea827a249f2",
        "colab": {
          "base_uri": "https://localhost:8080/",
          "height": 35
        }
      },
      "source": [
        "y_test_1.shape"
      ],
      "execution_count": 0,
      "outputs": [
        {
          "output_type": "execute_result",
          "data": {
            "text/plain": [
              "(5000,)"
            ]
          },
          "metadata": {
            "tags": []
          },
          "execution_count": 85
        }
      ]
    },
    {
      "cell_type": "code",
      "metadata": {
        "id": "dhQ_WQUfyMjC",
        "colab_type": "code",
        "colab": {}
      },
      "source": [
        "#Creating a dataset for digits 5-9\n",
        "l_train2 = []\n",
        "for i,j in enumerate(y_train >= 5):\n",
        "  if j:\n",
        "    l_train2.append(x_train[i])\n",
        "x_train_2 = np.array(l_train2)\n",
        "\n",
        "y_train_2 = y_train[y_train >= 5]-5\n",
        "\n",
        "l_test2 = []\n",
        "for i,j in enumerate(y_test >= 5):\n",
        "  if j:\n",
        "    l_test2.append(x_test[i])\n",
        "x_test_2 = np.array(l_test2)\n",
        "\n",
        "y_test_2 = y_test[y_test >= 5]-5"
      ],
      "execution_count": 0,
      "outputs": []
    },
    {
      "cell_type": "code",
      "metadata": {
        "id": "BI0iJzNeyMf3",
        "colab_type": "code",
        "colab": {}
      },
      "source": [
        "#reshaping\n",
        "x_train_1 = x_train_1.reshape(x_train_1.shape[0], 32, 32, 3)\n",
        "x_test_1 = x_test_1.reshape(x_test_1.shape[0], 32, 32, 3)\n",
        "\n",
        "#reshaping\n",
        "x_train_2 = x_train_2.reshape(x_train_2.shape[0], 32, 32, 3)\n",
        "x_test_2 = x_test_2.reshape(x_test_2.shape[0], 32, 32, 3)"
      ],
      "execution_count": 0,
      "outputs": []
    },
    {
      "cell_type": "code",
      "metadata": {
        "id": "OY6ZjBD1ynZA",
        "colab_type": "code",
        "colab": {}
      },
      "source": [
        "#Normalizing Data\n",
        "x_train_1 = x_train_1.astype('float32')\n",
        "x_test_1 = x_test_1.astype('float32')\n",
        "x_train_1 = x_train_1 / 255.0\n",
        "x_test_1 = x_test_1 / 255.0\n",
        "\n",
        "#Normalizing Data\n",
        "x_train_2 = x_train_2.astype('float32')\n",
        "x_test_2 = x_test_2.astype('float32')\n",
        "x_train_2 = x_train_2 / 255.0\n",
        "x_test_2 = x_test_2 / 255.0"
      ],
      "execution_count": 0,
      "outputs": []
    },
    {
      "cell_type": "code",
      "metadata": {
        "id": "gVIVJ2j5PM80",
        "colab_type": "code",
        "outputId": "a75add02-96a7-475b-adb2-d022c64d6a73",
        "colab": {
          "base_uri": "https://localhost:8080/",
          "height": 291
        }
      },
      "source": [
        "import matplotlib.pyplot as plt\n",
        " \n",
        "ROW = 2\n",
        "COLUMN = 5\n",
        "for i in range(ROW * COLUMN):\n",
        "    # train[i][0] is i-th image data with size 28x28\n",
        "    #image = trainX[i][0].reshape(28, 28)   # not necessary to reshape if ndim is set to 2\n",
        "    image = x_train_1[i]\n",
        "    plt.subplot(ROW, COLUMN, i+1)          # subplot with size (width 3, height 5)\n",
        "    plt.imshow(image, cmap='gray')  # cmap='gray' is for black and white picture.\n",
        "    # train[i][1] is i-th digit label\n",
        "    x= 0\n",
        "    y =0\n",
        "    for x,y in enumerate(y_train_1[i]):\n",
        "      if y > 0:\n",
        "        plt.title('label = {}'.format(x))\n",
        "    plt.axis('off')  # do not show axis value\n",
        "plt.tight_layout()   # automatic padding between subplots\n",
        "#plt.savefig('images/mnist_plot.png')\n",
        "plt.show()"
      ],
      "execution_count": 0,
      "outputs": [
        {
          "output_type": "execute_result",
          "data": {
            "text/plain": [
              "<matplotlib.axes._subplots.AxesSubplot at 0x7f5d9d2ddb00>"
            ]
          },
          "metadata": {
            "tags": []
          },
          "execution_count": 129
        },
        {
          "output_type": "execute_result",
          "data": {
            "text/plain": [
              "<matplotlib.image.AxesImage at 0x7f5d9d257a90>"
            ]
          },
          "metadata": {
            "tags": []
          },
          "execution_count": 129
        },
        {
          "output_type": "execute_result",
          "data": {
            "text/plain": [
              "Text(0.5, 1.0, 'label = 4')"
            ]
          },
          "metadata": {
            "tags": []
          },
          "execution_count": 129
        },
        {
          "output_type": "execute_result",
          "data": {
            "text/plain": [
              "(-0.5, 31.5, 31.5, -0.5)"
            ]
          },
          "metadata": {
            "tags": []
          },
          "execution_count": 129
        },
        {
          "output_type": "execute_result",
          "data": {
            "text/plain": [
              "<matplotlib.axes._subplots.AxesSubplot at 0x7f5d9d257da0>"
            ]
          },
          "metadata": {
            "tags": []
          },
          "execution_count": 129
        },
        {
          "output_type": "execute_result",
          "data": {
            "text/plain": [
              "<matplotlib.image.AxesImage at 0x7f5d9d208320>"
            ]
          },
          "metadata": {
            "tags": []
          },
          "execution_count": 129
        },
        {
          "output_type": "execute_result",
          "data": {
            "text/plain": [
              "Text(0.5, 1.0, 'label = 1')"
            ]
          },
          "metadata": {
            "tags": []
          },
          "execution_count": 129
        },
        {
          "output_type": "execute_result",
          "data": {
            "text/plain": [
              "(-0.5, 31.5, 31.5, -0.5)"
            ]
          },
          "metadata": {
            "tags": []
          },
          "execution_count": 129
        },
        {
          "output_type": "execute_result",
          "data": {
            "text/plain": [
              "<matplotlib.axes._subplots.AxesSubplot at 0x7f5d9d270ba8>"
            ]
          },
          "metadata": {
            "tags": []
          },
          "execution_count": 129
        },
        {
          "output_type": "execute_result",
          "data": {
            "text/plain": [
              "<matplotlib.image.AxesImage at 0x7f5d9d22eb70>"
            ]
          },
          "metadata": {
            "tags": []
          },
          "execution_count": 129
        },
        {
          "output_type": "execute_result",
          "data": {
            "text/plain": [
              "Text(0.5, 1.0, 'label = 1')"
            ]
          },
          "metadata": {
            "tags": []
          },
          "execution_count": 129
        },
        {
          "output_type": "execute_result",
          "data": {
            "text/plain": [
              "(-0.5, 31.5, 31.5, -0.5)"
            ]
          },
          "metadata": {
            "tags": []
          },
          "execution_count": 129
        },
        {
          "output_type": "execute_result",
          "data": {
            "text/plain": [
              "<matplotlib.axes._subplots.AxesSubplot at 0x7f5d9d22ecc0>"
            ]
          },
          "metadata": {
            "tags": []
          },
          "execution_count": 129
        },
        {
          "output_type": "execute_result",
          "data": {
            "text/plain": [
              "<matplotlib.image.AxesImage at 0x7f5d9d1e0278>"
            ]
          },
          "metadata": {
            "tags": []
          },
          "execution_count": 129
        },
        {
          "output_type": "execute_result",
          "data": {
            "text/plain": [
              "Text(0.5, 1.0, 'label = 2')"
            ]
          },
          "metadata": {
            "tags": []
          },
          "execution_count": 129
        },
        {
          "output_type": "execute_result",
          "data": {
            "text/plain": [
              "(-0.5, 31.5, 31.5, -0.5)"
            ]
          },
          "metadata": {
            "tags": []
          },
          "execution_count": 129
        },
        {
          "output_type": "execute_result",
          "data": {
            "text/plain": [
              "<matplotlib.axes._subplots.AxesSubplot at 0x7f5d9d1c7cf8>"
            ]
          },
          "metadata": {
            "tags": []
          },
          "execution_count": 129
        },
        {
          "output_type": "execute_result",
          "data": {
            "text/plain": [
              "<matplotlib.image.AxesImage at 0x7f5d9d185ac8>"
            ]
          },
          "metadata": {
            "tags": []
          },
          "execution_count": 129
        },
        {
          "output_type": "execute_result",
          "data": {
            "text/plain": [
              "Text(0.5, 1.0, 'label = 3')"
            ]
          },
          "metadata": {
            "tags": []
          },
          "execution_count": 129
        },
        {
          "output_type": "execute_result",
          "data": {
            "text/plain": [
              "(-0.5, 31.5, 31.5, -0.5)"
            ]
          },
          "metadata": {
            "tags": []
          },
          "execution_count": 129
        },
        {
          "output_type": "execute_result",
          "data": {
            "text/plain": [
              "<matplotlib.axes._subplots.AxesSubplot at 0x7f5d9d185f60>"
            ]
          },
          "metadata": {
            "tags": []
          },
          "execution_count": 129
        },
        {
          "output_type": "execute_result",
          "data": {
            "text/plain": [
              "<matplotlib.image.AxesImage at 0x7f5d9d1b8358>"
            ]
          },
          "metadata": {
            "tags": []
          },
          "execution_count": 129
        },
        {
          "output_type": "execute_result",
          "data": {
            "text/plain": [
              "Text(0.5, 1.0, 'label = 4')"
            ]
          },
          "metadata": {
            "tags": []
          },
          "execution_count": 129
        },
        {
          "output_type": "execute_result",
          "data": {
            "text/plain": [
              "(-0.5, 31.5, 31.5, -0.5)"
            ]
          },
          "metadata": {
            "tags": []
          },
          "execution_count": 129
        },
        {
          "output_type": "execute_result",
          "data": {
            "text/plain": [
              "<matplotlib.axes._subplots.AxesSubplot at 0x7f5d9d1b87f0>"
            ]
          },
          "metadata": {
            "tags": []
          },
          "execution_count": 129
        },
        {
          "output_type": "execute_result",
          "data": {
            "text/plain": [
              "<matplotlib.image.AxesImage at 0x7f5d9d15fd68>"
            ]
          },
          "metadata": {
            "tags": []
          },
          "execution_count": 129
        },
        {
          "output_type": "execute_result",
          "data": {
            "text/plain": [
              "Text(0.5, 1.0, 'label = 2')"
            ]
          },
          "metadata": {
            "tags": []
          },
          "execution_count": 129
        },
        {
          "output_type": "execute_result",
          "data": {
            "text/plain": [
              "(-0.5, 31.5, 31.5, -0.5)"
            ]
          },
          "metadata": {
            "tags": []
          },
          "execution_count": 129
        },
        {
          "output_type": "execute_result",
          "data": {
            "text/plain": [
              "<matplotlib.axes._subplots.AxesSubplot at 0x7f5d9d15feb8>"
            ]
          },
          "metadata": {
            "tags": []
          },
          "execution_count": 129
        },
        {
          "output_type": "execute_result",
          "data": {
            "text/plain": [
              "<matplotlib.image.AxesImage at 0x7f5d9d10f5c0>"
            ]
          },
          "metadata": {
            "tags": []
          },
          "execution_count": 129
        },
        {
          "output_type": "execute_result",
          "data": {
            "text/plain": [
              "Text(0.5, 1.0, 'label = 3')"
            ]
          },
          "metadata": {
            "tags": []
          },
          "execution_count": 129
        },
        {
          "output_type": "execute_result",
          "data": {
            "text/plain": [
              "(-0.5, 31.5, 31.5, -0.5)"
            ]
          },
          "metadata": {
            "tags": []
          },
          "execution_count": 129
        },
        {
          "output_type": "execute_result",
          "data": {
            "text/plain": [
              "<matplotlib.axes._subplots.AxesSubplot at 0x7f5d9d10f710>"
            ]
          },
          "metadata": {
            "tags": []
          },
          "execution_count": 129
        },
        {
          "output_type": "execute_result",
          "data": {
            "text/plain": [
              "<matplotlib.image.AxesImage at 0x7f5d9d138e10>"
            ]
          },
          "metadata": {
            "tags": []
          },
          "execution_count": 129
        },
        {
          "output_type": "execute_result",
          "data": {
            "text/plain": [
              "Text(0.5, 1.0, 'label = 2')"
            ]
          },
          "metadata": {
            "tags": []
          },
          "execution_count": 129
        },
        {
          "output_type": "execute_result",
          "data": {
            "text/plain": [
              "(-0.5, 31.5, 31.5, -0.5)"
            ]
          },
          "metadata": {
            "tags": []
          },
          "execution_count": 129
        },
        {
          "output_type": "execute_result",
          "data": {
            "text/plain": [
              "<matplotlib.axes._subplots.AxesSubplot at 0x7f5d9d128748>"
            ]
          },
          "metadata": {
            "tags": []
          },
          "execution_count": 129
        },
        {
          "output_type": "execute_result",
          "data": {
            "text/plain": [
              "<matplotlib.image.AxesImage at 0x7f5d9d0e86a0>"
            ]
          },
          "metadata": {
            "tags": []
          },
          "execution_count": 129
        },
        {
          "output_type": "execute_result",
          "data": {
            "text/plain": [
              "Text(0.5, 1.0, 'label = 4')"
            ]
          },
          "metadata": {
            "tags": []
          },
          "execution_count": 129
        },
        {
          "output_type": "execute_result",
          "data": {
            "text/plain": [
              "(-0.5, 31.5, 31.5, -0.5)"
            ]
          },
          "metadata": {
            "tags": []
          },
          "execution_count": 129
        },
        {
          "output_type": "display_data",
          "data": {
            "image/png": "[encoded data removed]",
            "text/plain": [
              "<Figure size 432x288 with 10 Axes>"
            ]
          },
          "metadata": {
            "tags": []
          }
        }
      ]
    },
    {
      "cell_type": "code",
      "metadata": {
        "id": "up6X0WsPP1Ey",
        "colab_type": "code",
        "outputId": "11a96e2c-dfed-47e5-b647-63c541e48692",
        "colab": {
          "base_uri": "https://localhost:8080/",
          "height": 291
        }
      },
      "source": [
        "import matplotlib.pyplot as plt\n",
        " \n",
        "ROW = 2\n",
        "COLUMN = 5\n",
        "for i in range(ROW * COLUMN):\n",
        "    # train[i][0] is i-th image data with size 28x28\n",
        "    #image = trainX[i][0].reshape(28, 28)   # not necessary to reshape if ndim is set to 2\n",
        "    image = x_train_2[i]\n",
        "    plt.subplot(ROW, COLUMN, i+1)          # subplot with size (width 3, height 5)\n",
        "    plt.imshow(image, cmap='gray')  # cmap='gray' is for black and white picture.\n",
        "    # train[i][1] is i-th digit label\n",
        "    x= 0\n",
        "    y =0\n",
        "    for x,y in enumerate(y_train_2[i]):\n",
        "      if y > 0:\n",
        "        plt.title('label = {}'.format(x))\n",
        "    plt.axis('off')  # do not show axis value\n",
        "plt.tight_layout()   # automatic padding between subplots\n",
        "#plt.savefig('images/mnist_plot.png')\n",
        "plt.show()"
      ],
      "execution_count": 0,
      "outputs": [
        {
          "output_type": "execute_result",
          "data": {
            "text/plain": [
              "<matplotlib.axes._subplots.AxesSubplot at 0x7f5d9d4e2550>"
            ]
          },
          "metadata": {
            "tags": []
          },
          "execution_count": 128
        },
        {
          "output_type": "execute_result",
          "data": {
            "text/plain": [
              "<matplotlib.image.AxesImage at 0x7f5d9d4a04a8>"
            ]
          },
          "metadata": {
            "tags": []
          },
          "execution_count": 128
        },
        {
          "output_type": "execute_result",
          "data": {
            "text/plain": [
              "Text(0.5, 1.0, 'label = 1')"
            ]
          },
          "metadata": {
            "tags": []
          },
          "execution_count": 128
        },
        {
          "output_type": "execute_result",
          "data": {
            "text/plain": [
              "(-0.5, 31.5, 31.5, -0.5)"
            ]
          },
          "metadata": {
            "tags": []
          },
          "execution_count": 128
        },
        {
          "output_type": "execute_result",
          "data": {
            "text/plain": [
              "<matplotlib.axes._subplots.AxesSubplot at 0x7f5d9d4a0780>"
            ]
          },
          "metadata": {
            "tags": []
          },
          "execution_count": 128
        },
        {
          "output_type": "execute_result",
          "data": {
            "text/plain": [
              "<matplotlib.image.AxesImage at 0x7f5d9d445cf8>"
            ]
          },
          "metadata": {
            "tags": []
          },
          "execution_count": 128
        },
        {
          "output_type": "execute_result",
          "data": {
            "text/plain": [
              "Text(0.5, 1.0, 'label = 4')"
            ]
          },
          "metadata": {
            "tags": []
          },
          "execution_count": 128
        },
        {
          "output_type": "execute_result",
          "data": {
            "text/plain": [
              "(-0.5, 31.5, 31.5, -0.5)"
            ]
          },
          "metadata": {
            "tags": []
          },
          "execution_count": 128
        },
        {
          "output_type": "execute_result",
          "data": {
            "text/plain": [
              "<matplotlib.axes._subplots.AxesSubplot at 0x7f5d9d445dd8>"
            ]
          },
          "metadata": {
            "tags": []
          },
          "execution_count": 128
        },
        {
          "output_type": "execute_result",
          "data": {
            "text/plain": [
              "<matplotlib.image.AxesImage at 0x7f5d9d476588>"
            ]
          },
          "metadata": {
            "tags": []
          },
          "execution_count": 128
        },
        {
          "output_type": "execute_result",
          "data": {
            "text/plain": [
              "Text(0.5, 1.0, 'label = 4')"
            ]
          },
          "metadata": {
            "tags": []
          },
          "execution_count": 128
        },
        {
          "output_type": "execute_result",
          "data": {
            "text/plain": [
              "(-0.5, 31.5, 31.5, -0.5)"
            ]
          },
          "metadata": {
            "tags": []
          },
          "execution_count": 128
        },
        {
          "output_type": "execute_result",
          "data": {
            "text/plain": [
              "<matplotlib.axes._subplots.AxesSubplot at 0x7f5d9d476a58>"
            ]
          },
          "metadata": {
            "tags": []
          },
          "execution_count": 128
        },
        {
          "output_type": "execute_result",
          "data": {
            "text/plain": [
              "<matplotlib.image.AxesImage at 0x7f5d9d41edd8>"
            ]
          },
          "metadata": {
            "tags": []
          },
          "execution_count": 128
        },
        {
          "output_type": "execute_result",
          "data": {
            "text/plain": [
              "Text(0.5, 1.0, 'label = 2')"
            ]
          },
          "metadata": {
            "tags": []
          },
          "execution_count": 128
        },
        {
          "output_type": "execute_result",
          "data": {
            "text/plain": [
              "(-0.5, 31.5, 31.5, -0.5)"
            ]
          },
          "metadata": {
            "tags": []
          },
          "execution_count": 128
        },
        {
          "output_type": "execute_result",
          "data": {
            "text/plain": [
              "<matplotlib.axes._subplots.AxesSubplot at 0x7f5d9d41eda0>"
            ]
          },
          "metadata": {
            "tags": []
          },
          "execution_count": 128
        },
        {
          "output_type": "execute_result",
          "data": {
            "text/plain": [
              "<matplotlib.image.AxesImage at 0x7f5d9d3cc588>"
            ]
          },
          "metadata": {
            "tags": []
          },
          "execution_count": 128
        },
        {
          "output_type": "execute_result",
          "data": {
            "text/plain": [
              "Text(0.5, 1.0, 'label = 3')"
            ]
          },
          "metadata": {
            "tags": []
          },
          "execution_count": 128
        },
        {
          "output_type": "execute_result",
          "data": {
            "text/plain": [
              "(-0.5, 31.5, 31.5, -0.5)"
            ]
          },
          "metadata": {
            "tags": []
          },
          "execution_count": 128
        },
        {
          "output_type": "execute_result",
          "data": {
            "text/plain": [
              "<matplotlib.axes._subplots.AxesSubplot at 0x7f5d9d43d0f0>"
            ]
          },
          "metadata": {
            "tags": []
          },
          "execution_count": 128
        },
        {
          "output_type": "execute_result",
          "data": {
            "text/plain": [
              "<matplotlib.image.AxesImage at 0x7f5d9d3f5da0>"
            ]
          },
          "metadata": {
            "tags": []
          },
          "execution_count": 128
        },
        {
          "output_type": "execute_result",
          "data": {
            "text/plain": [
              "Text(0.5, 1.0, 'label = 2')"
            ]
          },
          "metadata": {
            "tags": []
          },
          "execution_count": 128
        },
        {
          "output_type": "execute_result",
          "data": {
            "text/plain": [
              "(-0.5, 31.5, 31.5, -0.5)"
            ]
          },
          "metadata": {
            "tags": []
          },
          "execution_count": 128
        },
        {
          "output_type": "execute_result",
          "data": {
            "text/plain": [
              "<matplotlib.axes._subplots.AxesSubplot at 0x7f5d9d3e4828>"
            ]
          },
          "metadata": {
            "tags": []
          },
          "execution_count": 128
        },
        {
          "output_type": "execute_result",
          "data": {
            "text/plain": [
              "<matplotlib.image.AxesImage at 0x7f5d9d3a6780>"
            ]
          },
          "metadata": {
            "tags": []
          },
          "execution_count": 128
        },
        {
          "output_type": "execute_result",
          "data": {
            "text/plain": [
              "Text(0.5, 1.0, 'label = 2')"
            ]
          },
          "metadata": {
            "tags": []
          },
          "execution_count": 128
        },
        {
          "output_type": "execute_result",
          "data": {
            "text/plain": [
              "(-0.5, 31.5, 31.5, -0.5)"
            ]
          },
          "metadata": {
            "tags": []
          },
          "execution_count": 128
        },
        {
          "output_type": "execute_result",
          "data": {
            "text/plain": [
              "<matplotlib.axes._subplots.AxesSubplot at 0x7f5d9d3a6c88>"
            ]
          },
          "metadata": {
            "tags": []
          },
          "execution_count": 128
        },
        {
          "output_type": "execute_result",
          "data": {
            "text/plain": [
              "<matplotlib.image.AxesImage at 0x7f5d9d34ef28>"
            ]
          },
          "metadata": {
            "tags": []
          },
          "execution_count": 128
        },
        {
          "output_type": "execute_result",
          "data": {
            "text/plain": [
              "Text(0.5, 1.0, 'label = 4')"
            ]
          },
          "metadata": {
            "tags": []
          },
          "execution_count": 128
        },
        {
          "output_type": "execute_result",
          "data": {
            "text/plain": [
              "(-0.5, 31.5, 31.5, -0.5)"
            ]
          },
          "metadata": {
            "tags": []
          },
          "execution_count": 128
        },
        {
          "output_type": "execute_result",
          "data": {
            "text/plain": [
              "<matplotlib.axes._subplots.AxesSubplot at 0x7f5d9d3be978>"
            ]
          },
          "metadata": {
            "tags": []
          },
          "execution_count": 128
        },
        {
          "output_type": "execute_result",
          "data": {
            "text/plain": [
              "<matplotlib.image.AxesImage at 0x7f5d9d37e710>"
            ]
          },
          "metadata": {
            "tags": []
          },
          "execution_count": 128
        },
        {
          "output_type": "execute_result",
          "data": {
            "text/plain": [
              "Text(0.5, 1.0, 'label = 4')"
            ]
          },
          "metadata": {
            "tags": []
          },
          "execution_count": 128
        },
        {
          "output_type": "execute_result",
          "data": {
            "text/plain": [
              "(-0.5, 31.5, 31.5, -0.5)"
            ]
          },
          "metadata": {
            "tags": []
          },
          "execution_count": 128
        },
        {
          "output_type": "execute_result",
          "data": {
            "text/plain": [
              "<matplotlib.axes._subplots.AxesSubplot at 0x7f5d9d37ec50>"
            ]
          },
          "metadata": {
            "tags": []
          },
          "execution_count": 128
        },
        {
          "output_type": "execute_result",
          "data": {
            "text/plain": [
              "<matplotlib.image.AxesImage at 0x7f5d9d334080>"
            ]
          },
          "metadata": {
            "tags": []
          },
          "execution_count": 128
        },
        {
          "output_type": "execute_result",
          "data": {
            "text/plain": [
              "Text(0.5, 1.0, 'label = 4')"
            ]
          },
          "metadata": {
            "tags": []
          },
          "execution_count": 128
        },
        {
          "output_type": "execute_result",
          "data": {
            "text/plain": [
              "(-0.5, 31.5, 31.5, -0.5)"
            ]
          },
          "metadata": {
            "tags": []
          },
          "execution_count": 128
        },
        {
          "output_type": "display_data",
          "data": {
            "image/png": "[encoded data removed]",
            "text/plain": [
              "<Figure size 432x288 with 10 Axes>"
            ]
          },
          "metadata": {
            "tags": []
          }
        }
      ]
    },
    {
      "cell_type": "markdown",
      "metadata": {
        "id": "xtCKmQh4yXhT",
        "colab_type": "text"
      },
      "source": [
        "### 2. Use One-hot encoding to divide y_train and y_test into required no of output classes"
      ]
    },
    {
      "cell_type": "code",
      "metadata": {
        "id": "uN5O2kJ3yYa6",
        "colab_type": "code",
        "colab": {}
      },
      "source": [
        "y_train_2 = np_utils.to_categorical(y_train_2)\n",
        "y_test_2 = np_utils.to_categorical(y_test_2)\n",
        "\n",
        "\n",
        "y_train_1 = np_utils.to_categorical(y_train_1)\n",
        "y_test_1 = np_utils.to_categorical(y_test_1)"
      ],
      "execution_count": 0,
      "outputs": []
    },
    {
      "cell_type": "markdown",
      "metadata": {
        "id": "cuOiKWfeybAl",
        "colab_type": "text"
      },
      "source": [
        "### 3. Build a sequential neural network model which can classify the classes 0 to 4 of CIFAR10 dataset with at least 80% accuracy on test data"
      ]
    },
    {
      "cell_type": "code",
      "metadata": {
        "id": "5HzxNbiiyoBD",
        "colab_type": "code",
        "colab": {}
      },
      "source": [
        "model = Sequential()\n",
        "model.add(Conv2D(32, (3, 3), padding='same',\n",
        "                 input_shape=x_train.shape[1:]))\n",
        "model.add(Activation('relu'))\n",
        "model.add(Conv2D(32, (3, 3)))\n",
        "model.add(Activation('relu'))\n",
        "model.add(MaxPooling2D(pool_size=(2, 2)))\n",
        "model.add(Dropout(0.25))\n",
        "\n",
        "model.add(Conv2D(64, (3, 3), padding='same'))\n",
        "model.add(Activation('relu'))\n",
        "model.add(Conv2D(64, (3, 3)))\n",
        "model.add(Activation('relu'))\n",
        "model.add(MaxPooling2D(pool_size=(2, 2)))\n",
        "model.add(Dropout(0.25))\n",
        "\n",
        "model.add(Flatten())\n",
        "model.add(Dense(512))\n",
        "model.add(Activation('relu'))\n",
        "model.add(Dropout(0.5))\n",
        "model.add(Dense(5, activation='softmax'))"
      ],
      "execution_count": 0,
      "outputs": []
    },
    {
      "cell_type": "code",
      "metadata": {
        "id": "gIanBpDJzClI",
        "colab_type": "code",
        "colab": {}
      },
      "source": [
        "model.compile(loss='categorical_crossentropy', optimizer=\"adam\", metrics=['accuracy'])\n"
      ],
      "execution_count": 0,
      "outputs": []
    },
    {
      "cell_type": "code",
      "metadata": {
        "id": "GO8PNoCwzFAC",
        "colab_type": "code",
        "outputId": "001ecde3-43a0-46cd-af8c-2ebc72a2c2a1",
        "colab": {
          "base_uri": "https://localhost:8080/",
          "height": 417
        }
      },
      "source": [
        "model.fit(x_train_1, y_train_1, batch_size=40, epochs=10,validation_data=(x_test_1, y_test_1))"
      ],
      "execution_count": 0,
      "outputs": [
        {
          "output_type": "stream",
          "text": [
            "Train on 25000 samples, validate on 5000 samples\n",
            "Epoch 1/10\n",
            "25000/25000 [==============================] - 5s 214us/step - loss: 1.0837 - acc: 0.5512 - val_loss: 0.8225 - val_acc: 0.6728\n",
            "Epoch 2/10\n",
            "25000/25000 [==============================] - 5s 185us/step - loss: 0.8202 - acc: 0.6761 - val_loss: 0.7150 - val_acc: 0.7274\n",
            "Epoch 3/10\n",
            "25000/25000 [==============================] - 5s 185us/step - loss: 0.6994 - acc: 0.7290 - val_loss: 0.6688 - val_acc: 0.7428\n",
            "Epoch 4/10\n",
            "25000/25000 [==============================] - 5s 185us/step - loss: 0.6192 - acc: 0.7621 - val_loss: 0.6251 - val_acc: 0.7588\n",
            "Epoch 5/10\n",
            "25000/25000 [==============================] - 5s 185us/step - loss: 0.5603 - acc: 0.7869 - val_loss: 0.5407 - val_acc: 0.8004\n",
            "Epoch 6/10\n",
            "25000/25000 [==============================] - 5s 185us/step - loss: 0.5179 - acc: 0.8028 - val_loss: 0.5112 - val_acc: 0.8126\n",
            "Epoch 7/10\n",
            "25000/25000 [==============================] - 5s 185us/step - loss: 0.4731 - acc: 0.8221 - val_loss: 0.5050 - val_acc: 0.8156\n",
            "Epoch 8/10\n",
            "25000/25000 [==============================] - 5s 183us/step - loss: 0.4456 - acc: 0.8336 - val_loss: 0.5136 - val_acc: 0.8132\n",
            "Epoch 9/10\n",
            "25000/25000 [==============================] - 5s 184us/step - loss: 0.4144 - acc: 0.8475 - val_loss: 0.5078 - val_acc: 0.8186\n",
            "Epoch 10/10\n",
            "25000/25000 [==============================] - 5s 183us/step - loss: 0.3895 - acc: 0.8552 - val_loss: 0.4686 - val_acc: 0.8314\n"
          ],
          "name": "stdout"
        },
        {
          "output_type": "execute_result",
          "data": {
            "text/plain": [
              "<keras.callbacks.History at 0x7f5d9d4ee710>"
            ]
          },
          "metadata": {
            "tags": []
          },
          "execution_count": 132
        }
      ]
    },
    {
      "cell_type": "code",
      "metadata": {
        "id": "KOozuWddIW3Q",
        "colab_type": "code",
        "outputId": "37e618be-e243-48ce-dd92-4142a1094697",
        "colab": {
          "base_uri": "https://localhost:8080/",
          "height": 72
        }
      },
      "source": [
        "test_metrics = model.evaluate(x_test_1, y_test_1)\n",
        "print('Test loss:', test_metrics[0])\n",
        "print('Test accuracy:', test_metrics[1])"
      ],
      "execution_count": 0,
      "outputs": [
        {
          "output_type": "stream",
          "text": [
            "5000/5000 [==============================] - 0s 77us/step\n",
            "Test loss: 0.4686047847747803\n",
            "Test accuracy: 0.8314\n"
          ],
          "name": "stdout"
        }
      ]
    },
    {
      "cell_type": "markdown",
      "metadata": {
        "id": "woTfNst_ynRG",
        "colab_type": "text"
      },
      "source": [
        "### 4. In the model which was built above (for classification of classes 0-4 in CIFAR10), make only the dense layers to be trainable and conv layers to be non-trainable"
      ]
    },
    {
      "cell_type": "code",
      "metadata": {
        "id": "o_VCDB3Byb1a",
        "colab_type": "code",
        "outputId": "efd70a6d-b242-4601-fdc3-edd6ed7ba8ee",
        "colab": {
          "base_uri": "https://localhost:8080/",
          "height": 326
        }
      },
      "source": [
        "model.layers"
      ],
      "execution_count": 0,
      "outputs": [
        {
          "output_type": "execute_result",
          "data": {
            "text/plain": [
              "[<keras.layers.convolutional.Conv2D at 0x7f5d9d060080>,\n",
              " <keras.layers.core.Activation at 0x7f5d9d060780>,\n",
              " <keras.layers.convolutional.Conv2D at 0x7f5d9d0607f0>,\n",
              " <keras.layers.core.Activation at 0x7f5d9d060518>,\n",
              " <keras.layers.pooling.MaxPooling2D at 0x7f5d9d069630>,\n",
              " <keras.layers.core.Dropout at 0x7f5d9d069ac8>,\n",
              " <keras.layers.convolutional.Conv2D at 0x7f5d9d0693c8>,\n",
              " <keras.layers.core.Activation at 0x7f5d9d0604a8>,\n",
              " <keras.layers.convolutional.Conv2D at 0x7f5d9cfbf2e8>,\n",
              " <keras.layers.core.Activation at 0x7f5d9cfbf240>,\n",
              " <keras.layers.pooling.MaxPooling2D at 0x7f5d9cffaf98>,\n",
              " <keras.layers.core.Dropout at 0x7f5d9cffa9e8>,\n",
              " <keras.layers.core.Flatten at 0x7f5d9cffa978>,\n",
              " <keras.layers.core.Dense at 0x7f5d9cfbf1d0>,\n",
              " <keras.layers.core.Activation at 0x7f5d9cfa4be0>,\n",
              " <keras.layers.core.Dropout at 0x7f5d9cf53da0>,\n",
              " <keras.layers.core.Dense at 0x7f5d9cfa41d0>]"
            ]
          },
          "metadata": {
            "tags": []
          },
          "execution_count": 134
        }
      ]
    },
    {
      "cell_type": "code",
      "metadata": {
        "id": "POTByF1pI7is",
        "colab_type": "code",
        "outputId": "097b9f1a-3eae-49b4-c760-7bb18ebcaa24",
        "colab": {
          "base_uri": "https://localhost:8080/",
          "height": 763
        }
      },
      "source": [
        "model.summary()"
      ],
      "execution_count": 0,
      "outputs": [
        {
          "output_type": "stream",
          "text": [
            "_________________________________________________________________\n",
            "Layer (type)                 Output Shape              Param #   \n",
            "=================================================================\n",
            "conv2d_13 (Conv2D)           (None, 32, 32, 32)        896       \n",
            "_________________________________________________________________\n",
            "activation_17 (Activation)   (None, 32, 32, 32)        0         \n",
            "_________________________________________________________________\n",
            "conv2d_14 (Conv2D)           (None, 30, 30, 32)        9248      \n",
            "_________________________________________________________________\n",
            "activation_18 (Activation)   (None, 30, 30, 32)        0         \n",
            "_________________________________________________________________\n",
            "max_pooling2d_7 (MaxPooling2 (None, 15, 15, 32)        0         \n",
            "_________________________________________________________________\n",
            "dropout_12 (Dropout)         (None, 15, 15, 32)        0         \n",
            "_________________________________________________________________\n",
            "conv2d_15 (Conv2D)           (None, 15, 15, 64)        18496     \n",
            "_________________________________________________________________\n",
            "activation_19 (Activation)   (None, 15, 15, 64)        0         \n",
            "_________________________________________________________________\n",
            "conv2d_16 (Conv2D)           (None, 13, 13, 64)        36928     \n",
            "_________________________________________________________________\n",
            "activation_20 (Activation)   (None, 13, 13, 64)        0         \n",
            "_________________________________________________________________\n",
            "max_pooling2d_8 (MaxPooling2 (None, 6, 6, 64)          0         \n",
            "_________________________________________________________________\n",
            "dropout_13 (Dropout)         (None, 6, 6, 64)          0         \n",
            "_________________________________________________________________\n",
            "flatten_4 (Flatten)          (None, 2304)              0         \n",
            "_________________________________________________________________\n",
            "dense_10 (Dense)             (None, 512)               1180160   \n",
            "_________________________________________________________________\n",
            "activation_21 (Activation)   (None, 512)               0         \n",
            "_________________________________________________________________\n",
            "dropout_14 (Dropout)         (None, 512)               0         \n",
            "_________________________________________________________________\n",
            "dense_11 (Dense)             (None, 5)                 2565      \n",
            "=================================================================\n",
            "Total params: 1,248,293\n",
            "Trainable params: 1,248,293\n",
            "Non-trainable params: 0\n",
            "_________________________________________________________________\n"
          ],
          "name": "stdout"
        }
      ]
    },
    {
      "cell_type": "markdown",
      "metadata": {
        "id": "1-uUPqWpyeyX",
        "colab_type": "text"
      },
      "source": [
        "### 5. Utilize the the model trained on CIFAR 10 (classes 0 to 4) to classify the classes 5 to 9 of CIFAR 10  (Use Transfer Learning) <br>\n",
        "Achieve an accuracy of more than 85% on test data"
      ]
    },
    {
      "cell_type": "code",
      "metadata": {
        "id": "szHjJgDvyfCt",
        "colab_type": "code",
        "outputId": "3fe91187-e0c4-437c-9b7f-9a86bd35fd40",
        "colab": {
          "base_uri": "https://localhost:8080/",
          "height": 35
        }
      },
      "source": [
        "print(\"After flatten_4 dense starts so considering till flatten_4\")"
      ],
      "execution_count": 0,
      "outputs": [
        {
          "output_type": "stream",
          "text": [
            "After flatten_4 dense starts so considering till flatten_4\n"
          ],
          "name": "stdout"
        }
      ]
    },
    {
      "cell_type": "code",
      "metadata": {
        "id": "_2aaLo85KWer",
        "colab_type": "code",
        "colab": {}
      },
      "source": [
        "model_trans = Model(inputs=model.input, outputs=model.get_layer('flatten_4').output )\n",
        "#model = Model(inputs=base_model.input, outputs=base_model.get_layer('block4_pool').output )\n",
        "model_trans.trainable = False"
      ],
      "execution_count": 0,
      "outputs": []
    },
    {
      "cell_type": "code",
      "metadata": {
        "id": "tGIayyOcI3Y1",
        "colab_type": "code",
        "colab": {}
      },
      "source": [
        "x_train_2_trans = model_trans.predict(x_train_2)\n",
        "x_test_2_trans = model_trans.predict(x_test_2)"
      ],
      "execution_count": 0,
      "outputs": []
    },
    {
      "cell_type": "code",
      "metadata": {
        "id": "6pQkdHDoK0vt",
        "colab_type": "code",
        "colab": {}
      },
      "source": [
        "model_transfer = Sequential()\n",
        "model_transfer.add(Dense(512, input_dim=2304, activation='relu'))\n",
        "model_transfer.add(Dropout(0.25))\n",
        "#model_transfer.add(Dense(128, activation='relu'))\n",
        "model_transfer.add(Dense(5, activation='softmax'))"
      ],
      "execution_count": 0,
      "outputs": []
    },
    {
      "cell_type": "code",
      "metadata": {
        "id": "RIs74o7qK4jw",
        "colab_type": "code",
        "outputId": "aeebfc51-500d-48fb-ab5f-9c5a9e2a59a0",
        "colab": {
          "base_uri": "https://localhost:8080/",
          "height": 417
        }
      },
      "source": [
        "model_transfer.compile(loss='categorical_crossentropy', optimizer=\"adam\", metrics=['accuracy'])\n",
        "model_transfer.fit(x_train_2_trans, y_train_2, batch_size=40, epochs=10,validation_data=(x_test_2_trans, y_test_2))#"
      ],
      "execution_count": 0,
      "outputs": [
        {
          "output_type": "stream",
          "text": [
            "Train on 25000 samples, validate on 5000 samples\n",
            "Epoch 1/10\n",
            "25000/25000 [==============================] - 3s 125us/step - loss: 0.5020 - acc: 0.8171 - val_loss: 0.4223 - val_acc: 0.8514\n",
            "Epoch 2/10\n",
            "25000/25000 [==============================] - 3s 104us/step - loss: 0.3479 - acc: 0.8704 - val_loss: 0.3918 - val_acc: 0.8602\n",
            "Epoch 3/10\n",
            "25000/25000 [==============================] - 3s 103us/step - loss: 0.2663 - acc: 0.9043 - val_loss: 0.3829 - val_acc: 0.8674\n",
            "Epoch 4/10\n",
            "25000/25000 [==============================] - 3s 103us/step - loss: 0.1968 - acc: 0.9314 - val_loss: 0.3880 - val_acc: 0.8670\n",
            "Epoch 5/10\n",
            "25000/25000 [==============================] - 3s 103us/step - loss: 0.1326 - acc: 0.9572 - val_loss: 0.3973 - val_acc: 0.8696\n",
            "Epoch 6/10\n",
            "25000/25000 [==============================] - 3s 105us/step - loss: 0.0871 - acc: 0.9742 - val_loss: 0.4458 - val_acc: 0.8634\n",
            "Epoch 7/10\n",
            "25000/25000 [==============================] - 3s 104us/step - loss: 0.0584 - acc: 0.9840 - val_loss: 0.4592 - val_acc: 0.8702\n",
            "Epoch 8/10\n",
            "25000/25000 [==============================] - 3s 104us/step - loss: 0.0392 - acc: 0.9902 - val_loss: 0.4766 - val_acc: 0.8688\n",
            "Epoch 9/10\n",
            "25000/25000 [==============================] - 3s 103us/step - loss: 0.0303 - acc: 0.9933 - val_loss: 0.5138 - val_acc: 0.8660\n",
            "Epoch 10/10\n",
            "25000/25000 [==============================] - 3s 104us/step - loss: 0.0260 - acc: 0.9932 - val_loss: 0.5293 - val_acc: 0.8688\n"
          ],
          "name": "stdout"
        },
        {
          "output_type": "execute_result",
          "data": {
            "text/plain": [
              "<keras.callbacks.History at 0x7f5e2ba21d68>"
            ]
          },
          "metadata": {
            "tags": []
          },
          "execution_count": 140
        }
      ]
    },
    {
      "cell_type": "code",
      "metadata": {
        "id": "2H6d93UoOurF",
        "colab_type": "code",
        "outputId": "5df3d894-39f4-41e6-9637-0c698f1e0032",
        "colab": {
          "base_uri": "https://localhost:8080/",
          "height": 72
        }
      },
      "source": [
        "test_metrics = model_transfer.evaluate(x_test_2_trans, y_test_2)\n",
        "print('Test loss:', test_metrics[0])\n",
        "print('Test accuracy:', test_metrics[1])"
      ],
      "execution_count": 0,
      "outputs": [
        {
          "output_type": "stream",
          "text": [
            "5000/5000 [==============================] - 0s 51us/step\n",
            "Test loss: 0.5292540444135666\n",
            "Test accuracy: 0.8688\n"
          ],
          "name": "stdout"
        }
      ]
    },
    {
      "cell_type": "code",
      "metadata": {
        "id": "-0CXfh7bOuvh",
        "colab_type": "code",
        "colab": {}
      },
      "source": [
        ""
      ],
      "execution_count": 0,
      "outputs": []
    },
    {
      "cell_type": "code",
      "metadata": {
        "id": "bmnP4BuuOu-p",
        "colab_type": "code",
        "colab": {}
      },
      "source": [
        ""
      ],
      "execution_count": 0,
      "outputs": []
    },
    {
      "cell_type": "markdown",
      "metadata": {
        "id": "0zDuRecXzEtr",
        "colab_type": "text"
      },
      "source": [
        "# Text classification using TF-IDF"
      ]
    },
    {
      "cell_type": "markdown",
      "metadata": {
        "id": "xMPlEJhHzb6P",
        "colab_type": "text"
      },
      "source": [
        "### 6. Load the dataset from sklearn.datasets"
      ]
    },
    {
      "cell_type": "code",
      "metadata": {
        "id": "Fe-B59u3zHNb",
        "colab_type": "code",
        "colab": {}
      },
      "source": [
        "from sklearn.datasets import fetch_20newsgroups"
      ],
      "execution_count": 0,
      "outputs": []
    },
    {
      "cell_type": "code",
      "metadata": {
        "id": "PRrMemVQzbHU",
        "colab_type": "code",
        "colab": {}
      },
      "source": [
        "categories = ['alt.atheism', 'soc.religion.christian', 'comp.graphics', 'sci.med']"
      ],
      "execution_count": 0,
      "outputs": []
    },
    {
      "cell_type": "markdown",
      "metadata": {
        "id": "-sZX0UbJzmg5",
        "colab_type": "text"
      },
      "source": [
        "### 7. Training data"
      ]
    },
    {
      "cell_type": "code",
      "metadata": {
        "id": "CITr_5aXziJ2",
        "colab_type": "code",
        "colab": {
          "base_uri": "https://localhost:8080/",
          "height": 54
        },
        "outputId": "fe18e6f9-302c-4507-fd01-8c391c5a7355"
      },
      "source": [
        "twenty_train = fetch_20newsgroups(subset='train', categories=categories, shuffle=True, random_state=42)"
      ],
      "execution_count": 4,
      "outputs": [
        {
          "output_type": "stream",
          "text": [
            "Downloading 20news dataset. This may take a few minutes.\n",
            "Downloading dataset from https://ndownloader.figshare.com/files/5975967 (14 MB)\n"
          ],
          "name": "stderr"
        }
      ]
    },
    {
      "cell_type": "markdown",
      "metadata": {
        "id": "xcESc5QXzr6p",
        "colab_type": "text"
      },
      "source": [
        "### 8. Test data"
      ]
    },
    {
      "cell_type": "code",
      "metadata": {
        "id": "ysInblUMzpvl",
        "colab_type": "code",
        "colab": {}
      },
      "source": [
        "twenty_test = fetch_20newsgroups(subset='test', categories=categories, shuffle=True, random_state=42)"
      ],
      "execution_count": 0,
      "outputs": []
    },
    {
      "cell_type": "markdown",
      "metadata": {
        "id": "DriL2yZ50DQq",
        "colab_type": "text"
      },
      "source": [
        "###  a.  You can access the values for the target variable using .target attribute \n",
        "###  b. You can access the name of the class in the target variable with .target_names\n"
      ]
    },
    {
      "cell_type": "code",
      "metadata": {
        "id": "vlUuai99z1hX",
        "colab_type": "code",
        "colab": {
          "base_uri": "https://localhost:8080/",
          "height": 35
        },
        "outputId": "d5013c26-9150-48c9-9079-ffea07853388"
      },
      "source": [
        "twenty_train.target"
      ],
      "execution_count": 6,
      "outputs": [
        {
          "output_type": "execute_result",
          "data": {
            "text/plain": [
              "array([1, 1, 3, ..., 2, 2, 2])"
            ]
          },
          "metadata": {
            "tags": []
          },
          "execution_count": 6
        }
      ]
    },
    {
      "cell_type": "code",
      "metadata": {
        "id": "VEKzaDfSz5E-",
        "colab_type": "code",
        "colab": {
          "base_uri": "https://localhost:8080/",
          "height": 35
        },
        "outputId": "68227abe-c83c-4669-b6b8-2466eb1e5a59"
      },
      "source": [
        "twenty_train.target_names"
      ],
      "execution_count": 7,
      "outputs": [
        {
          "output_type": "execute_result",
          "data": {
            "text/plain": [
              "['alt.atheism', 'comp.graphics', 'sci.med', 'soc.religion.christian']"
            ]
          },
          "metadata": {
            "tags": []
          },
          "execution_count": 7
        }
      ]
    },
    {
      "cell_type": "code",
      "metadata": {
        "id": "clBMKHzC0_N1",
        "colab_type": "code",
        "colab": {
          "base_uri": "https://localhost:8080/",
          "height": 128
        },
        "outputId": "65874839-c31c-49a3-d882-304fdf076f41"
      },
      "source": [
        "twenty_train.data[0:5]"
      ],
      "execution_count": 8,
      "outputs": [
        {
          "output_type": "execute_result",
          "data": {
            "text/plain": [
              "['From: sd345@city.ac.uk (Michael Collier)\\nSubject: Converting images to HP LaserJet III?\\nNntp-Posting-Host: hampton\\nOrganization: The City University\\nLines: 14\\n\\nDoes anyone know of a good way (standard PC application/PD utility) to\\nconvert tif/img/tga files into LaserJet III format.  We would also like to\\ndo the same, converting to HPGL (HP plotter) files.\\n\\nPlease email any response.\\n\\nIs this the correct group?\\n\\nThanks in advance.  Michael.\\n-- \\nMichael Collier (Programmer)                 The Computer Unit,\\nEmail: M.P.Collier@uk.ac.city                The City University,\\nTel: 071 477-8000 x3769                      London,\\nFax: 071 477-8565                            EC1V 0HB.\\n',\n",
              " \"From: ani@ms.uky.edu (Aniruddha B. Deglurkar)\\nSubject: help: Splitting a trimming region along a mesh \\nOrganization: University Of Kentucky, Dept. of Math Sciences\\nLines: 28\\n\\n\\n\\n\\tHi,\\n\\n\\tI have a problem, I hope some of the 'gurus' can help me solve.\\n\\n\\tBackground of the problem:\\n\\tI have a rectangular mesh in the uv domain, i.e  the mesh is a \\n\\tmapping of a 3d Bezier patch into 2d. The area in this domain\\n\\twhich is inside a trimming loop had to be rendered. The trimming\\n\\tloop is a set of 2d Bezier curve segments.\\n\\tFor the sake of notation: the mesh is made up of cells.\\n\\n\\tMy problem is this :\\n\\tThe trimming area has to be split up into individual smaller\\n\\tcells bounded by the trimming curve segments. If a cell\\n\\tis wholly inside the area...then it is output as a whole ,\\n\\telse it is trivially rejected. \\n\\n\\tDoes any body know how thiss can be done, or is there any algo. \\n\\tsomewhere for doing this.\\n\\n\\tAny help would be appreciated.\\n\\n\\tThanks, \\n\\tAni.\\n-- \\nTo get irritated is human, to stay cool, divine.\\n\",\n",
              " \"From: djohnson@cs.ucsd.edu (Darin Johnson)\\nSubject: Re: harrassed at work, could use some prayers\\nOrganization: =CSE Dept., U.C. San Diego\\nLines: 63\\n\\n(Well, I'll email also, but this may apply to other people, so\\nI'll post also.)\\n\\n>I've been working at this company for eight years in various\\n>engineering jobs.  I'm female.  Yesterday I counted and realized that\\n>on seven different occasions I've been sexually harrassed at this\\n>company.\\n\\n>I dreaded coming back to work today.  What if my boss comes in to ask\\n>me some kind of question...\\n\\nYour boss should be the person bring these problems to.  If he/she\\ndoes not seem to take any action, keep going up higher and higher.\\nSexual harrassment does not need to be tolerated, and it can be an\\nenormous emotional support to discuss this with someone and know that\\nthey are trying to do something about it.  If you feel you can not\\ndiscuss this with your boss, perhaps your company has a personnel\\ndepartment that can work for you while preserving your privacy.  Most\\ncompanies will want to deal with this problem because constant anxiety\\ndoes seriously affect how effectively employees do their jobs.\\n\\nIt is unclear from your letter if you have done this or not.  It is\\nnot inconceivable that management remains ignorant of employee\\nproblems/strife even after eight years (it's a miracle if they do\\nnotice).  Perhaps your manager did not bring to the attention of\\nhigher ups?  If the company indeed does seem to want to ignore the\\nentire problem, there may be a state agency willing to fight with\\nyou.  (check with a lawyer, a women's resource center, etc to find out)\\n\\nYou may also want to discuss this with your paster, priest, husband,\\netc.  That is, someone you know will not be judgemental and that is\\nsupportive, comforting, etc.  This will bring a lot of healing.\\n\\n>So I returned at 11:25, only to find that ever single\\n>person had already left for lunch.  They left at 11:15 or so.  No one\\n>could be bothered to call me at the other building, even though my\\n>number was posted.\\n\\nThis happens to a lot of people.  Honest.  I believe it may seem\\nto be due to gross insensitivity because of the feelings you are\\ngoing through.  People in offices tend to be more insensitive while\\nworking than they normally are (maybe it's the hustle or stress or...)\\nI've had this happen to me a lot, often because they didn't realize\\nmy car was broken, etc.  Then they will come back and wonder why I\\ndidn't want to go (this would tend to make me stop being angry at\\nbeing ignored and make me laugh).  Once, we went off without our\\nboss, who was paying for the lunch :-)\\n\\n>For this\\n>reason I hope good Mr. Moderator allows me this latest indulgence.\\n\\nWell, if you can't turn to the computer for support, what would\\nwe do?  (signs of the computer age :-)\\n\\nIn closing, please don't let the hateful actions of a single person\\nharm you.  They are doing it because they are still the playground\\nbully and enjoy seeing the hurt they cause.  And you should not\\naccept the opinions of an imbecile that you are worthless - much\\nwiser people hold you in great esteem.\\n-- \\nDarin Johnson\\ndjohnson@ucsd.edu\\n  - Luxury!  In MY day, we had to make do with 5 bytes of swap...\\n\",\n",
              " 'From: s0612596@let.rug.nl (M.M. Zwart)\\nSubject: catholic church poland\\nOrganization: Faculteit der Letteren, Rijksuniversiteit Groningen, NL\\nLines: 10\\n\\nHello,\\n\\nI\\'m writing a paper on the role of the catholic church in Poland after 1989. \\nCan anyone tell me more about this, or fill me in on recent books/articles(\\nin english, german or french). Most important for me is the role of the \\nchurch concerning the abortion-law, religious education at schools,\\nbirth-control and the relation church-state(government). Thanx,\\n\\n                                                 Masja,\\n\"M.M.Zwart\"<s0612596@let.rug.nl>\\n',\n",
              " 'From: stanly@grok11.columbiasc.ncr.com (stanly)\\nSubject: Re: Elder Brother\\nOrganization: NCR Corp., Columbia SC\\nLines: 15\\n\\nIn article <Apr.8.00.57.41.1993.28246@athos.rutgers.edu> REXLEX@fnal.gov writes:\\n>In article <Apr.7.01.56.56.1993.22824@athos.rutgers.edu> shrum@hpfcso.fc.hp.com\\n>Matt. 22:9-14 \\'Go therefore to the main highways, and as many as you find\\n>there, invite to the wedding feast.\\'...\\n\\n>hmmmmmm.  Sounds like your theology and Christ\\'s are at odds. Which one am I \\n>to believe?\\n\\nIn this parable, Jesus tells the parable of the wedding feast. \"The kingdom\\nof heaven is like unto a certain king which made a marriage for his son\".\\nSo the wedding clothes were customary,  and \"given\" to those who \"chose\" to\\nattend.  This man \"refused\" to wear the clothes.  The wedding clothes are\\nequalivant to the \"clothes of righteousness\".  When Jesus died for our sins,\\nthose \"clothes\" were then provided.  Like that man, it is our decision to\\nput the clothes on.\\n']"
            ]
          },
          "metadata": {
            "tags": []
          },
          "execution_count": 8
        }
      ]
    },
    {
      "cell_type": "code",
      "metadata": {
        "id": "gQNU6j5tw2KY",
        "colab_type": "code",
        "colab": {
          "base_uri": "https://localhost:8080/",
          "height": 35
        },
        "outputId": "80b8f260-c3f6-40a0-def1-87a78bf46f73"
      },
      "source": [
        "twenty_train.filenames.shape\n"
      ],
      "execution_count": 9,
      "outputs": [
        {
          "output_type": "execute_result",
          "data": {
            "text/plain": [
              "(2257,)"
            ]
          },
          "metadata": {
            "tags": []
          },
          "execution_count": 9
        }
      ]
    },
    {
      "cell_type": "code",
      "metadata": {
        "id": "6AGZMgoexLvJ",
        "colab_type": "code",
        "colab": {
          "base_uri": "https://localhost:8080/",
          "height": 35
        },
        "outputId": "b665d687-200c-4096-de1b-c103a1c18026"
      },
      "source": [
        "twenty_train.target.shape"
      ],
      "execution_count": 10,
      "outputs": [
        {
          "output_type": "execute_result",
          "data": {
            "text/plain": [
              "(2257,)"
            ]
          },
          "metadata": {
            "tags": []
          },
          "execution_count": 10
        }
      ]
    },
    {
      "cell_type": "code",
      "metadata": {
        "id": "UMfUcnQ3xaGB",
        "colab_type": "code",
        "colab": {
          "base_uri": "https://localhost:8080/",
          "height": 35
        },
        "outputId": "2304e3b1-51ec-423b-8662-a9aaf3acea2b"
      },
      "source": [
        "twenty_train.target[:10]"
      ],
      "execution_count": 11,
      "outputs": [
        {
          "output_type": "execute_result",
          "data": {
            "text/plain": [
              "array([1, 1, 3, 3, 3, 3, 3, 2, 2, 2])"
            ]
          },
          "metadata": {
            "tags": []
          },
          "execution_count": 11
        }
      ]
    },
    {
      "cell_type": "code",
      "metadata": {
        "id": "EZ5P553Kxhag",
        "colab_type": "code",
        "colab": {
          "base_uri": "https://localhost:8080/",
          "height": 35
        },
        "outputId": "3f7c909d-c50b-4e73-8f28-42620ba88512"
      },
      "source": [
        "type(twenty_train.target)"
      ],
      "execution_count": 12,
      "outputs": [
        {
          "output_type": "execute_result",
          "data": {
            "text/plain": [
              "numpy.ndarray"
            ]
          },
          "metadata": {
            "tags": []
          },
          "execution_count": 12
        }
      ]
    },
    {
      "cell_type": "code",
      "metadata": {
        "id": "vfRQQhVeulpy",
        "colab_type": "code",
        "colab": {
          "base_uri": "https://localhost:8080/",
          "height": 110
        },
        "outputId": "137417dc-2a15-4960-8802-f758aaa5faae"
      },
      "source": [
        "twenty_train.data[1:5]"
      ],
      "execution_count": 13,
      "outputs": [
        {
          "output_type": "execute_result",
          "data": {
            "text/plain": [
              "[\"From: ani@ms.uky.edu (Aniruddha B. Deglurkar)\\nSubject: help: Splitting a trimming region along a mesh \\nOrganization: University Of Kentucky, Dept. of Math Sciences\\nLines: 28\\n\\n\\n\\n\\tHi,\\n\\n\\tI have a problem, I hope some of the 'gurus' can help me solve.\\n\\n\\tBackground of the problem:\\n\\tI have a rectangular mesh in the uv domain, i.e  the mesh is a \\n\\tmapping of a 3d Bezier patch into 2d. The area in this domain\\n\\twhich is inside a trimming loop had to be rendered. The trimming\\n\\tloop is a set of 2d Bezier curve segments.\\n\\tFor the sake of notation: the mesh is made up of cells.\\n\\n\\tMy problem is this :\\n\\tThe trimming area has to be split up into individual smaller\\n\\tcells bounded by the trimming curve segments. If a cell\\n\\tis wholly inside the area...then it is output as a whole ,\\n\\telse it is trivially rejected. \\n\\n\\tDoes any body know how thiss can be done, or is there any algo. \\n\\tsomewhere for doing this.\\n\\n\\tAny help would be appreciated.\\n\\n\\tThanks, \\n\\tAni.\\n-- \\nTo get irritated is human, to stay cool, divine.\\n\",\n",
              " \"From: djohnson@cs.ucsd.edu (Darin Johnson)\\nSubject: Re: harrassed at work, could use some prayers\\nOrganization: =CSE Dept., U.C. San Diego\\nLines: 63\\n\\n(Well, I'll email also, but this may apply to other people, so\\nI'll post also.)\\n\\n>I've been working at this company for eight years in various\\n>engineering jobs.  I'm female.  Yesterday I counted and realized that\\n>on seven different occasions I've been sexually harrassed at this\\n>company.\\n\\n>I dreaded coming back to work today.  What if my boss comes in to ask\\n>me some kind of question...\\n\\nYour boss should be the person bring these problems to.  If he/she\\ndoes not seem to take any action, keep going up higher and higher.\\nSexual harrassment does not need to be tolerated, and it can be an\\nenormous emotional support to discuss this with someone and know that\\nthey are trying to do something about it.  If you feel you can not\\ndiscuss this with your boss, perhaps your company has a personnel\\ndepartment that can work for you while preserving your privacy.  Most\\ncompanies will want to deal with this problem because constant anxiety\\ndoes seriously affect how effectively employees do their jobs.\\n\\nIt is unclear from your letter if you have done this or not.  It is\\nnot inconceivable that management remains ignorant of employee\\nproblems/strife even after eight years (it's a miracle if they do\\nnotice).  Perhaps your manager did not bring to the attention of\\nhigher ups?  If the company indeed does seem to want to ignore the\\nentire problem, there may be a state agency willing to fight with\\nyou.  (check with a lawyer, a women's resource center, etc to find out)\\n\\nYou may also want to discuss this with your paster, priest, husband,\\netc.  That is, someone you know will not be judgemental and that is\\nsupportive, comforting, etc.  This will bring a lot of healing.\\n\\n>So I returned at 11:25, only to find that ever single\\n>person had already left for lunch.  They left at 11:15 or so.  No one\\n>could be bothered to call me at the other building, even though my\\n>number was posted.\\n\\nThis happens to a lot of people.  Honest.  I believe it may seem\\nto be due to gross insensitivity because of the feelings you are\\ngoing through.  People in offices tend to be more insensitive while\\nworking than they normally are (maybe it's the hustle or stress or...)\\nI've had this happen to me a lot, often because they didn't realize\\nmy car was broken, etc.  Then they will come back and wonder why I\\ndidn't want to go (this would tend to make me stop being angry at\\nbeing ignored and make me laugh).  Once, we went off without our\\nboss, who was paying for the lunch :-)\\n\\n>For this\\n>reason I hope good Mr. Moderator allows me this latest indulgence.\\n\\nWell, if you can't turn to the computer for support, what would\\nwe do?  (signs of the computer age :-)\\n\\nIn closing, please don't let the hateful actions of a single person\\nharm you.  They are doing it because they are still the playground\\nbully and enjoy seeing the hurt they cause.  And you should not\\naccept the opinions of an imbecile that you are worthless - much\\nwiser people hold you in great esteem.\\n-- \\nDarin Johnson\\ndjohnson@ucsd.edu\\n  - Luxury!  In MY day, we had to make do with 5 bytes of swap...\\n\",\n",
              " 'From: s0612596@let.rug.nl (M.M. Zwart)\\nSubject: catholic church poland\\nOrganization: Faculteit der Letteren, Rijksuniversiteit Groningen, NL\\nLines: 10\\n\\nHello,\\n\\nI\\'m writing a paper on the role of the catholic church in Poland after 1989. \\nCan anyone tell me more about this, or fill me in on recent books/articles(\\nin english, german or french). Most important for me is the role of the \\nchurch concerning the abortion-law, religious education at schools,\\nbirth-control and the relation church-state(government). Thanx,\\n\\n                                                 Masja,\\n\"M.M.Zwart\"<s0612596@let.rug.nl>\\n',\n",
              " 'From: stanly@grok11.columbiasc.ncr.com (stanly)\\nSubject: Re: Elder Brother\\nOrganization: NCR Corp., Columbia SC\\nLines: 15\\n\\nIn article <Apr.8.00.57.41.1993.28246@athos.rutgers.edu> REXLEX@fnal.gov writes:\\n>In article <Apr.7.01.56.56.1993.22824@athos.rutgers.edu> shrum@hpfcso.fc.hp.com\\n>Matt. 22:9-14 \\'Go therefore to the main highways, and as many as you find\\n>there, invite to the wedding feast.\\'...\\n\\n>hmmmmmm.  Sounds like your theology and Christ\\'s are at odds. Which one am I \\n>to believe?\\n\\nIn this parable, Jesus tells the parable of the wedding feast. \"The kingdom\\nof heaven is like unto a certain king which made a marriage for his son\".\\nSo the wedding clothes were customary,  and \"given\" to those who \"chose\" to\\nattend.  This man \"refused\" to wear the clothes.  The wedding clothes are\\nequalivant to the \"clothes of righteousness\".  When Jesus died for our sins,\\nthose \"clothes\" were then provided.  Like that man, it is our decision to\\nput the clothes on.\\n']"
            ]
          },
          "metadata": {
            "tags": []
          },
          "execution_count": 13
        }
      ]
    },
    {
      "cell_type": "markdown",
      "metadata": {
        "id": "hTz4EaN_1WGc",
        "colab_type": "text"
      },
      "source": [
        "### 9.  Now with dependent and independent data available for both train and test datasets, using TfidfVectorizer fit and transform the training data and test data and get the tfidf features for both"
      ]
    },
    {
      "cell_type": "code",
      "metadata": {
        "id": "H5G477f81C0Z",
        "colab_type": "code",
        "colab": {}
      },
      "source": [
        "from sklearn.feature_extraction.text import TfidfVectorizer"
      ],
      "execution_count": 0,
      "outputs": []
    },
    {
      "cell_type": "code",
      "metadata": {
        "id": "Yb_EbQGgx5sR",
        "colab_type": "code",
        "colab": {}
      },
      "source": [
        "vectorizer = TfidfVectorizer(ngram_range=(1,2),stop_words='english', max_features=5000)\n",
        "vectors = vectorizer.fit_transform(twenty_train.data)"
      ],
      "execution_count": 0,
      "outputs": []
    },
    {
      "cell_type": "code",
      "metadata": {
        "id": "wPER2wm32glq",
        "colab_type": "code",
        "colab": {}
      },
      "source": [
        "vectors_test = vectorizer.transform(twenty_test.data)"
      ],
      "execution_count": 0,
      "outputs": []
    },
    {
      "cell_type": "code",
      "metadata": {
        "id": "bB6EIzZPyFte",
        "colab_type": "code",
        "colab": {
          "base_uri": "https://localhost:8080/",
          "height": 35
        },
        "outputId": "653d0721-050f-4574-cdb5-ac545d89883d"
      },
      "source": [
        "vectors.shape"
      ],
      "execution_count": 25,
      "outputs": [
        {
          "output_type": "execute_result",
          "data": {
            "text/plain": [
              "(2257, 5000)"
            ]
          },
          "metadata": {
            "tags": []
          },
          "execution_count": 25
        }
      ]
    },
    {
      "cell_type": "code",
      "metadata": {
        "id": "3_ueov3j2vGI",
        "colab_type": "code",
        "colab": {
          "base_uri": "https://localhost:8080/",
          "height": 35
        },
        "outputId": "b05bafef-dd2d-481f-d784-af61206d5047"
      },
      "source": [
        "vectors_test.shape"
      ],
      "execution_count": 18,
      "outputs": [
        {
          "output_type": "execute_result",
          "data": {
            "text/plain": [
              "(1502, 5000)"
            ]
          },
          "metadata": {
            "tags": []
          },
          "execution_count": 18
        }
      ]
    },
    {
      "cell_type": "code",
      "metadata": {
        "id": "9MTR9_tj7vbJ",
        "colab_type": "code",
        "colab": {}
      },
      "source": [
        ""
      ],
      "execution_count": 0,
      "outputs": []
    },
    {
      "cell_type": "code",
      "metadata": {
        "id": "HZRM9LA10-qt",
        "colab_type": "code",
        "colab": {
          "base_uri": "https://localhost:8080/",
          "height": 18217
        },
        "outputId": "bdb36a3c-1887-4770-e113-6670bf10c530"
      },
      "source": [
        "vectorizer.get_feature_names()"
      ],
      "execution_count": 26,
      "outputs": [
        {
          "output_type": "execute_result",
          "data": {
            "text/plain": [
              "['00',\n",
              " '00 08',\n",
              " '000',\n",
              " '01',\n",
              " '02',\n",
              " '03',\n",
              " '0358',\n",
              " '0358 athens',\n",
              " '04',\n",
              " '05',\n",
              " '06',\n",
              " '07',\n",
              " '08',\n",
              " '09',\n",
              " '10',\n",
              " '10 05',\n",
              " '10 april',\n",
              " '100',\n",
              " '1000',\n",
              " '101',\n",
              " '11',\n",
              " '12',\n",
              " '128',\n",
              " '129',\n",
              " '13',\n",
              " '13 00',\n",
              " '130',\n",
              " '14',\n",
              " '14 article',\n",
              " '141',\n",
              " '15',\n",
              " '15 article',\n",
              " '150',\n",
              " '16',\n",
              " '16 1993',\n",
              " '16 apr',\n",
              " '16 article',\n",
              " '17',\n",
              " '17 article',\n",
              " '18',\n",
              " '18 article',\n",
              " '19',\n",
              " '19 05',\n",
              " '19 article',\n",
              " '192',\n",
              " '1987',\n",
              " '1988',\n",
              " '1989',\n",
              " '1990',\n",
              " '1991',\n",
              " '1992',\n",
              " '1993',\n",
              " '1993apr14',\n",
              " '1993apr15',\n",
              " '1993apr16',\n",
              " '1993apr17',\n",
              " '1993apr19',\n",
              " '1993apr20',\n",
              " '1993apr22',\n",
              " '1993apr3',\n",
              " '1993apr5',\n",
              " '1993apr6',\n",
              " '1st',\n",
              " '20',\n",
              " '20 1993',\n",
              " '20 article',\n",
              " '200',\n",
              " '2000',\n",
              " '2000 years',\n",
              " '206',\n",
              " '21',\n",
              " '21 03',\n",
              " '21 article',\n",
              " '212',\n",
              " '214',\n",
              " '22',\n",
              " '22 article',\n",
              " '23',\n",
              " '24',\n",
              " '24 bit',\n",
              " '241',\n",
              " '241 9760',\n",
              " '245',\n",
              " '25',\n",
              " '256',\n",
              " '256 color',\n",
              " '256 colors',\n",
              " '26',\n",
              " '26 article',\n",
              " '27',\n",
              " '27 article',\n",
              " '28',\n",
              " '28 article',\n",
              " '29',\n",
              " '2d',\n",
              " '30',\n",
              " '300',\n",
              " '301',\n",
              " '30602',\n",
              " '30602 7415',\n",
              " '30pm',\n",
              " '31',\n",
              " '31 article',\n",
              " '310',\n",
              " '32',\n",
              " '320',\n",
              " '33',\n",
              " '34',\n",
              " '35',\n",
              " '36',\n",
              " '37',\n",
              " '38',\n",
              " '386',\n",
              " '39',\n",
              " '3d',\n",
              " '3d graphics',\n",
              " '3d studio',\n",
              " '3do',\n",
              " '3rd',\n",
              " '40',\n",
              " '408',\n",
              " '408 241',\n",
              " '41',\n",
              " '415',\n",
              " '416',\n",
              " '42',\n",
              " '43',\n",
              " '44',\n",
              " '45',\n",
              " '46',\n",
              " '47',\n",
              " '48',\n",
              " '486',\n",
              " '49',\n",
              " '4th',\n",
              " '50',\n",
              " '5000',\n",
              " '51',\n",
              " '510',\n",
              " '512',\n",
              " '52',\n",
              " '53',\n",
              " '54',\n",
              " '542',\n",
              " '542 0358',\n",
              " '55',\n",
              " '56',\n",
              " '57',\n",
              " '58',\n",
              " '59',\n",
              " '60',\n",
              " '6000',\n",
              " '604',\n",
              " '61',\n",
              " '617',\n",
              " '63',\n",
              " '64',\n",
              " '65',\n",
              " '66',\n",
              " '68070',\n",
              " '70',\n",
              " '703',\n",
              " '706',\n",
              " '706 542',\n",
              " '708',\n",
              " '72',\n",
              " '7415',\n",
              " '7415 amateur',\n",
              " '75',\n",
              " '80',\n",
              " '800',\n",
              " '81',\n",
              " '86',\n",
              " '88',\n",
              " '89',\n",
              " '90',\n",
              " '91',\n",
              " '92',\n",
              " '93',\n",
              " '95',\n",
              " '9760',\n",
              " '__',\n",
              " '__ __',\n",
              " '___',\n",
              " '___ ___',\n",
              " '____',\n",
              " '_____',\n",
              " '________________________________________________________________________________',\n",
              " '_the',\n",
              " 'aa888',\n",
              " 'aa888 freenet',\n",
              " 'aaron',\n",
              " 'ab',\n",
              " 'ability',\n",
              " 'able',\n",
              " 'able tell',\n",
              " 'abo',\n",
              " 'abo fi',\n",
              " 'abortion',\n",
              " 'abraham',\n",
              " 'absence',\n",
              " 'absolute',\n",
              " 'absolute truth',\n",
              " 'absolutely',\n",
              " 'absolutes',\n",
              " 'abstinence',\n",
              " 'abstract',\n",
              " 'absurd',\n",
              " 'absurdities',\n",
              " 'abuse',\n",
              " 'ac',\n",
              " 'ac nz',\n",
              " 'ac uk',\n",
              " 'ac za',\n",
              " 'academic',\n",
              " 'accept',\n",
              " 'acceptable',\n",
              " 'acceptance',\n",
              " 'accepted',\n",
              " 'accepting',\n",
              " 'accepting jeesus',\n",
              " 'access',\n",
              " 'access digex',\n",
              " 'access unix',\n",
              " 'accident',\n",
              " 'according',\n",
              " 'account',\n",
              " 'accounts',\n",
              " 'accurate',\n",
              " 'achieve',\n",
              " 'acid',\n",
              " 'acidophilous',\n",
              " 'acids',\n",
              " 'acknowledge',\n",
              " 'acm',\n",
              " 'acns',\n",
              " 'acs',\n",
              " 'acs oakland',\n",
              " 'acs ohio',\n",
              " 'act',\n",
              " 'action',\n",
              " 'actions',\n",
              " 'active',\n",
              " 'activities',\n",
              " 'activities net',\n",
              " 'activity',\n",
              " 'acts',\n",
              " 'actual',\n",
              " 'actually',\n",
              " 'acupuncture',\n",
              " 'acute',\n",
              " 'ad',\n",
              " 'adam',\n",
              " 'add',\n",
              " 'added',\n",
              " 'addition',\n",
              " 'additional',\n",
              " 'address',\n",
              " 'addresses',\n",
              " 'administration',\n",
              " 'admissions',\n",
              " 'admit',\n",
              " 'adobe',\n",
              " 'adult',\n",
              " 'adults',\n",
              " 'advance',\n",
              " 'advanced',\n",
              " 'advantage',\n",
              " 'advice',\n",
              " 'affect',\n",
              " 'afraid',\n",
              " 'africa',\n",
              " 'african',\n",
              " 'age',\n",
              " 'aged',\n",
              " 'agency',\n",
              " 'ages',\n",
              " 'agnostic',\n",
              " 'agnostics',\n",
              " 'ago',\n",
              " 'agree',\n",
              " 'agreed',\n",
              " 'agreement',\n",
              " 'ah',\n",
              " 'ahead',\n",
              " 'ai',\n",
              " 'ai programs',\n",
              " 'ai uga',\n",
              " 'aids',\n",
              " 'air',\n",
              " 'aisun3',\n",
              " 'aisun3 ai',\n",
              " 'aka',\n",
              " 'aka ima',\n",
              " 'al',\n",
              " 'alabama',\n",
              " 'alan',\n",
              " 'albany',\n",
              " 'albicans',\n",
              " 'alex',\n",
              " 'alexia',\n",
              " 'alexia lis',\n",
              " 'algorithm',\n",
              " 'algorithms',\n",
              " 'alice',\n",
              " 'alink',\n",
              " 'alink ksand',\n",
              " 'alive',\n",
              " 'allah',\n",
              " 'allan',\n",
              " 'allan schneider',\n",
              " 'allen',\n",
              " 'allergic',\n",
              " 'allergies',\n",
              " 'allergy',\n",
              " 'allow',\n",
              " 'allowed',\n",
              " 'allowing',\n",
              " 'allows',\n",
              " 'almanac',\n",
              " 'alt',\n",
              " 'alt atheism',\n",
              " 'alternative',\n",
              " 'alternatives',\n",
              " 'alvin',\n",
              " 'amateur',\n",
              " 'amateur radio',\n",
              " 'america',\n",
              " 'american',\n",
              " 'americans',\n",
              " 'ames',\n",
              " 'amiga',\n",
              " 'amino',\n",
              " 'amino acid',\n",
              " 'amounts',\n",
              " 'amusing',\n",
              " 'analogy',\n",
              " 'analysis',\n",
              " 'ancient',\n",
              " 'anderson',\n",
              " 'andre',\n",
              " 'andrew',\n",
              " 'andrew byler',\n",
              " 'andrew cmu',\n",
              " 'andy',\n",
              " 'andy bgsu',\n",
              " 'anecdotal',\n",
              " 'anecdotal evidence',\n",
              " 'anecdote',\n",
              " 'anecdote islam',\n",
              " 'angel',\n",
              " 'angeles',\n",
              " 'angels',\n",
              " 'anger',\n",
              " 'angry',\n",
              " 'animal',\n",
              " 'animals',\n",
              " 'animation',\n",
              " 'ann',\n",
              " 'announce',\n",
              " 'announced',\n",
              " 'anonymous',\n",
              " 'anonymous ftp',\n",
              " 'answer',\n",
              " 'answer question',\n",
              " 'answer questions',\n",
              " 'answered',\n",
              " 'answering',\n",
              " 'answers',\n",
              " 'anthony',\n",
              " 'anti',\n",
              " 'anti fungal',\n",
              " 'antibiotic',\n",
              " 'antibiotics',\n",
              " 'anybody',\n",
              " 'anybody know',\n",
              " 'anymore',\n",
              " 'ap',\n",
              " 'ap mchp',\n",
              " 'apart',\n",
              " 'apologize',\n",
              " 'apostle',\n",
              " 'apostles',\n",
              " 'apparent',\n",
              " 'apparently',\n",
              " 'appear',\n",
              " 'appeared',\n",
              " 'appears',\n",
              " 'apple',\n",
              " 'apple com',\n",
              " 'application',\n",
              " 'applications',\n",
              " 'applied',\n",
              " 'applies',\n",
              " 'apply',\n",
              " 'appreciate',\n",
              " 'appreciated',\n",
              " 'appreciated thanks',\n",
              " 'approach',\n",
              " 'approaches',\n",
              " 'appropriate',\n",
              " 'approved',\n",
              " 'apr',\n",
              " 'apr 01',\n",
              " 'apr 10',\n",
              " 'apr 13',\n",
              " 'apr 19',\n",
              " 'apr 1993',\n",
              " 'apr 21',\n",
              " 'apr 93',\n",
              " 'april',\n",
              " 'april 1993',\n",
              " 'april 20',\n",
              " 'arbitrary',\n",
              " 'arc',\n",
              " 'archbishop',\n",
              " 'archie',\n",
              " 'archive',\n",
              " 'area',\n",
              " 'areas',\n",
              " 'aren',\n",
              " 'argue',\n",
              " 'argued',\n",
              " 'arguing',\n",
              " 'argument',\n",
              " 'arguments',\n",
              " 'argumentum',\n",
              " 'argumentum ad',\n",
              " 'arithmetic',\n",
              " 'arizona',\n",
              " 'arizona edu',\n",
              " 'arm',\n",
              " 'army',\n",
              " 'arrogance',\n",
              " 'arrogance christians',\n",
              " 'arrogant',\n",
              " 'arromdee',\n",
              " 'art',\n",
              " 'article',\n",
              " 'article 1993apr14',\n",
              " 'article 1993apr15',\n",
              " 'article 1993apr16',\n",
              " 'article 1993apr17',\n",
              " 'article 1993apr19',\n",
              " 'article 1993apr22',\n",
              " 'article 1993apr3',\n",
              " 'article 1993apr5',\n",
              " 'article apr',\n",
              " 'article pitt',\n",
              " 'articles',\n",
              " 'artificial',\n",
              " 'artificial intelligence',\n",
              " 'arts',\n",
              " 'ascii',\n",
              " 'asd',\n",
              " 'asd sgi',\n",
              " 'ashley',\n",
              " 'aside',\n",
              " 'ask',\n",
              " 'ask question',\n",
              " 'asked',\n",
              " 'asked questions',\n",
              " 'asking',\n",
              " 'asks',\n",
              " 'aspartame',\n",
              " 'aspect',\n",
              " 'aspects',\n",
              " 'aspects graphics',\n",
              " 'ass',\n",
              " 'assembly',\n",
              " 'assert',\n",
              " 'assertion',\n",
              " 'assistance',\n",
              " 'assisted',\n",
              " 'associate',\n",
              " 'associate research',\n",
              " 'associated',\n",
              " 'association',\n",
              " 'assume',\n",
              " 'assumed',\n",
              " 'assumes',\n",
              " 'assuming',\n",
              " 'assumption',\n",
              " 'assumptions',\n",
              " 'asthma',\n",
              " 'ata',\n",
              " 'atheism',\n",
              " 'atheism faq',\n",
              " 'atheism organization',\n",
              " 'atheist',\n",
              " 'atheists',\n",
              " 'atheists believe',\n",
              " 'atheists hell',\n",
              " 'atheists organization',\n",
              " 'athena',\n",
              " 'athena cs',\n",
              " 'athena mit',\n",
              " 'athens',\n",
              " 'athens georgia',\n",
              " 'athens lines',\n",
              " 'athos',\n",
              " 'athos rutgers',\n",
              " 'atoms',\n",
              " 'att',\n",
              " 'att com',\n",
              " 'attached',\n",
              " 'attack',\n",
              " 'attacks',\n",
              " 'attempt',\n",
              " 'attempted',\n",
              " 'attempting',\n",
              " 'attempts',\n",
              " 'attention',\n",
              " 'atterlep',\n",
              " 'atterlep vela',\n",
              " 'attitude',\n",
              " 'attractive',\n",
              " 'attributed',\n",
              " 'au',\n",
              " 'au darice',\n",
              " 'au fred',\n",
              " 'audience',\n",
              " 'august',\n",
              " 'austin',\n",
              " 'austin ibm',\n",
              " 'austin lines',\n",
              " 'australia',\n",
              " 'australia lines',\n",
              " 'australian',\n",
              " 'author',\n",
              " 'authorities',\n",
              " 'authority',\n",
              " 'authors',\n",
              " 'auto',\n",
              " 'auto trol',\n",
              " 'automatically',\n",
              " 'available',\n",
              " 'available anonymous',\n",
              " 'available ftp',\n",
              " 'ave',\n",
              " 'avenue',\n",
              " 'average',\n",
              " 'avoid',\n",
              " 'avoiding',\n",
              " 'aware',\n",
              " 'away',\n",
              " 'away sank',\n",
              " 'awful',\n",
              " 'awful lot',\n",
              " 'b6',\n",
              " 'b64635',\n",
              " 'b64635 student',\n",
              " 'babies',\n",
              " 'baby',\n",
              " 'babylon',\n",
              " 'background',\n",
              " 'bacteria',\n",
              " 'bacterial',\n",
              " 'bad',\n",
              " 'bake',\n",
              " 'bake timmons',\n",
              " 'baker',\n",
              " 'band',\n",
              " 'bank',\n",
              " 'banks',\n",
              " 'banks n3jxp',\n",
              " 'banks organization',\n",
              " 'banks subject',\n",
              " 'banks writes',\n",
              " 'baptism',\n",
              " 'bar',\n",
              " 'barbecued',\n",
              " 'barbecued foods',\n",
              " 'barrier',\n",
              " 'base',\n",
              " 'based',\n",
              " 'basic',\n",
              " 'basically',\n",
              " 'basis',\n",
              " 'bath',\n",
              " 'batman',\n",
              " 'batman bmd',\n",
              " 'bbn',\n",
              " 'bbs',\n",
              " 'bc',\n",
              " 'bc ca',\n",
              " 'bcstec',\n",
              " 'bcstec ca',\n",
              " 'bear',\n",
              " 'bears',\n",
              " 'bears jim',\n",
              " 'beauchaine',\n",
              " 'beauchaine bobbe',\n",
              " 'beauchaine writes',\n",
              " 'beautiful',\n",
              " 'beaverton',\n",
              " 'beaverton lines',\n",
              " 'bee',\n",
              " 'beef',\n",
              " 'began',\n",
              " 'begin',\n",
              " 'beginning',\n",
              " 'begins',\n",
              " 'behavior',\n",
              " 'behaviour',\n",
              " 'beings',\n",
              " 'belief',\n",
              " 'belief god',\n",
              " 'beliefs',\n",
              " 'believe',\n",
              " 'believe god',\n",
              " 'believe gods',\n",
              " 'believed',\n",
              " 'believer',\n",
              " 'believers',\n",
              " 'believes',\n",
              " 'believing',\n",
              " 'bell',\n",
              " 'bellcore',\n",
              " 'bellcore com',\n",
              " 'belong',\n",
              " 'belt',\n",
              " 'benedikt',\n",
              " 'benedikt rosenau',\n",
              " 'benefit',\n",
              " 'benefits',\n",
              " 'berkeley',\n",
              " 'berkeley edu',\n",
              " 'best',\n",
              " 'bet',\n",
              " 'beta',\n",
              " 'bethesda',\n",
              " 'better',\n",
              " 'bezier',\n",
              " 'bgsu',\n",
              " 'bgsu edu',\n",
              " 'bible',\n",
              " 'bible says',\n",
              " 'biblical',\n",
              " 'big',\n",
              " 'bih',\n",
              " 'bih harvard',\n",
              " 'bil',\n",
              " 'bil okcforum',\n",
              " 'billion',\n",
              " 'binary',\n",
              " 'binding',\n",
              " 'biochemistry',\n",
              " 'biological',\n",
              " 'biology',\n",
              " 'birmingham',\n",
              " 'birth',\n",
              " 'bishop',\n",
              " 'bishops',\n",
              " 'bissda',\n",
              " 'bissda saturn',\n",
              " 'bissell',\n",
              " 'bit',\n",
              " 'bit color',\n",
              " 'bitmap',\n",
              " 'bitnet',\n",
              " 'bits',\n",
              " 'black',\n",
              " 'black sabbath',\n",
              " 'blame',\n",
              " 'blanket',\n",
              " 'bless',\n",
              " 'blessed',\n",
              " 'blew',\n",
              " 'blew bronx',\n",
              " 'blind',\n",
              " 'blindly',\n",
              " 'block',\n",
              " 'blood',\n",
              " 'bloom',\n",
              " 'blue',\n",
              " 'bmd',\n",
              " 'bmd trw',\n",
              " 'bmp',\n",
              " 'bnr',\n",
              " 'bnr ca',\n",
              " 'board',\n",
              " 'bob',\n",
              " 'bob beauchaine',\n",
              " 'bobbe',\n",
              " 'bobbe vice',\n",
              " 'bobby',\n",
              " 'bobby mozumder',\n",
              " 'bodies',\n",
              " 'body',\n",
              " 'boeing',\n",
              " 'boeing com',\n",
              " 'boesel',\n",
              " 'bolson',\n",
              " 'bomb',\n",
              " 'bombing',\n",
              " 'bone',\n",
              " 'book',\n",
              " 'books',\n",
              " 'born',\n",
              " 'bosnia',\n",
              " 'boss',\n",
              " 'boston',\n",
              " 'boston university',\n",
              " 'bother',\n",
              " 'bothered',\n",
              " 'bothers',\n",
              " 'bought',\n",
              " 'boulder',\n",
              " 'bound',\n",
              " 'boundary',\n",
              " 'box',\n",
              " 'boxes',\n",
              " 'boy',\n",
              " 'brain',\n",
              " 'branch',\n",
              " 'braunschweig',\n",
              " 'braunschweig germany',\n",
              " 'break',\n",
              " 'breaks',\n",
              " 'brent',\n",
              " 'brian',\n",
              " 'bring',\n",
              " 'brings',\n",
              " 'britain',\n",
              " 'british',\n",
              " 'broken',\n",
              " 'bronx',\n",
              " 'bronx away',\n",
              " 'brother',\n",
              " 'brothers',\n",
              " 'brought',\n",
              " 'brown',\n",
              " 'bruce',\n",
              " 'brunel',\n",
              " 'bryan',\n",
              " 'bs',\n",
              " 'bs benedikt',\n",
              " 'btw',\n",
              " 'bu',\n",
              " 'bu edu',\n",
              " 'buffalo',\n",
              " 'buffer',\n",
              " 'bug',\n",
              " 'bugs',\n",
              " 'build',\n",
              " 'building',\n",
              " 'built',\n",
              " 'bunch',\n",
              " 'buphy',\n",
              " 'buphy bu',\n",
              " 'burden',\n",
              " 'bureau',\n",
              " 'bureau lines',\n",
              " 'burn',\n",
              " 'burning',\n",
              " 'burzynski',\n",
              " 'bush',\n",
              " 'business',\n",
              " 'buy',\n",
              " 'byler',\n",
              " 'bytes',\n",
              " 'ca',\n",
              " 'ca boeing',\n",
              " 'ca lines',\n",
              " 'ca mark',\n",
              " 'cad',\n",
              " 'cadre',\n",
              " 'cadre dsl',\n",
              " 'caf',\n",
              " 'california',\n",
              " 'california institute',\n",
              " 'called',\n",
              " 'calling',\n",
              " 'calls',\n",
              " 'calpoly',\n",
              " 'calpoly edu',\n",
              " 'caltech',\n",
              " 'caltech edu',\n",
              " 'cambridge',\n",
              " 'cambridge ma',\n",
              " 'cambridge uk',\n",
              " 'came',\n",
              " 'campus',\n",
              " 'canada',\n",
              " 'canada lines',\n",
              " 'cancer',\n",
              " 'cancer center',\n",
              " 'cancer centers',\n",
              " 'candida',\n",
              " 'candida albicans',\n",
              " 'canon',\n",
              " 'capabilities',\n",
              " 'capability',\n",
              " 'capable',\n",
              " 'capital',\n",
              " 'capital punishment',\n",
              " 'capture',\n",
              " 'car',\n",
              " 'caralv',\n",
              " 'caralv auto',\n",
              " 'carcinogenic',\n",
              " 'card',\n",
              " 'cardinal',\n",
              " 'cardinal ximenez',\n",
              " 'cards',\n",
              " 'care',\n",
              " 'careful',\n",
              " 'carefully',\n",
              " 'carina',\n",
              " 'carina unm',\n",
              " 'carl',\n",
              " 'carleton',\n",
              " 'carleton ca',\n",
              " 'carnegie',\n",
              " 'carnegie mellon',\n",
              " 'carol',\n",
              " 'carol alvin',\n",
              " 'carolina',\n",
              " 'carpenter',\n",
              " 'carried',\n",
              " 'carry',\n",
              " 'carson',\n",
              " 'carson washington',\n",
              " 'case',\n",
              " 'case western',\n",
              " 'cases',\n",
              " 'cash',\n",
              " 'caspian',\n",
              " 'caspian usc',\n",
              " 'cat',\n",
              " 'category',\n",
              " 'catholic',\n",
              " 'catholic church',\n",
              " 'catholics',\n",
              " 'caught',\n",
              " 'cause',\n",
              " 'caused',\n",
              " 'caused atheism',\n",
              " 'causes',\n",
              " 'causing',\n",
              " 'cb',\n",
              " 'cb att',\n",
              " 'cboesel',\n",
              " 'cc',\n",
              " 'cc monash',\n",
              " 'cc purdue',\n",
              " 'cc tut',\n",
              " 'cc utexas',\n",
              " 'ccit',\n",
              " 'ccit arizona',\n",
              " 'cco',\n",
              " 'cco caltech',\n",
              " 'cd',\n",
              " 'cdc',\n",
              " 'celebrate',\n",
              " 'celebration',\n",
              " 'cell',\n",
              " 'cells',\n",
              " 'center',\n",
              " 'centers',\n",
              " 'central',\n",
              " 'centre',\n",
              " 'centuries',\n",
              " 'century',\n",
              " 'cereals',\n",
              " 'ceremonial',\n",
              " 'ceremony',\n",
              " 'certain',\n",
              " 'certainly',\n",
              " 'certainty',\n",
              " 'cf',\n",
              " 'cgsvax',\n",
              " 'cgsvax claremont',\n",
              " 'ch',\n",
              " 'chain',\n",
              " 'challenge',\n",
              " 'challenges',\n",
              " 'chance',\n",
              " 'change',\n",
              " 'changed',\n",
              " 'changes',\n",
              " 'changing',\n",
              " 'chapel',\n",
              " 'chapter',\n",
              " 'character',\n",
              " 'characteristics',\n",
              " 'charge',\n",
              " 'charles',\n",
              " 'charles boesel',\n",
              " 'charley',\n",
              " 'charley wingate',\n",
              " 'charter',\n",
              " 'chastity',\n",
              " 'chastity intellect',\n",
              " 'cheap',\n",
              " 'check',\n",
              " 'checked',\n",
              " 'cheers',\n",
              " 'cheers kent',\n",
              " 'chemical',\n",
              " 'chemicals',\n",
              " 'chemistry',\n",
              " 'chen',\n",
              " 'chest',\n",
              " 'chicago',\n",
              " 'chicago lines',\n",
              " 'child',\n",
              " 'children',\n",
              " 'chinese',\n",
              " 'chinese food',\n",
              " 'chinese restaurant',\n",
              " 'chip',\n",
              " 'chips',\n",
              " 'choice',\n",
              " 'choices',\n",
              " 'choose',\n",
              " 'choosing',\n",
              " 'chose',\n",
              " 'chosen',\n",
              " 'chris',\n",
              " 'chris herringshaw',\n",
              " 'christ',\n",
              " 'christian',\n",
              " 'christian morality',\n",
              " 'christianity',\n",
              " 'christians',\n",
              " 'christians believe',\n",
              " 'christians organization',\n",
              " 'christopher',\n",
              " 'chronic',\n",
              " 'chuck',\n",
              " 'chuck forsberg',\n",
              " 'church',\n",
              " 'churches',\n",
              " 'circle',\n",
              " 'circumcision',\n",
              " 'circumstances',\n",
              " 'cis',\n",
              " 'cited',\n",
              " 'cities',\n",
              " 'citizens',\n",
              " 'city',\n",
              " 'civil',\n",
              " 'civilians',\n",
              " 'claim',\n",
              " 'claimed',\n",
              " 'claiming',\n",
              " 'claims',\n",
              " 'claire',\n",
              " 'claremont',\n",
              " 'claremont edu',\n",
              " 'clark',\n",
              " 'class',\n",
              " 'classes',\n",
              " 'classic',\n",
              " 'clean',\n",
              " 'clear',\n",
              " 'clearly',\n",
              " 'cleveland',\n",
              " 'cleveland ohio',\n",
              " 'clh',\n",
              " 'client',\n",
              " 'clinic',\n",
              " 'clinical',\n",
              " 'clinton',\n",
              " 'clock',\n",
              " 'close',\n",
              " 'closed',\n",
              " 'closely',\n",
              " 'closer',\n",
              " 'club',\n",
              " 'cmu',\n",
              " 'cmu edu',\n",
              " 'cnsvax',\n",
              " 'cnsvax uwec',\n",
              " 'cobb',\n",
              " 'cobb alexia',\n",
              " 'code',\n",
              " 'coding',\n",
              " 'col',\n",
              " 'cold',\n",
              " 'coli',\n",
              " 'coli o157',\n",
              " 'collection',\n",
              " 'college',\n",
              " 'college lines',\n",
              " 'color',\n",
              " 'colorado',\n",
              " 'colorado edu',\n",
              " 'colors',\n",
              " 'colour',\n",
              " 'columbia',\n",
              " 'columbia edu',\n",
              " 'com',\n",
              " 'com aka',\n",
              " 'com alink',\n",
              " 'com article',\n",
              " 'com chris',\n",
              " 'com dave',\n",
              " ...]"
            ]
          },
          "metadata": {
            "tags": []
          },
          "execution_count": 26
        }
      ]
    },
    {
      "cell_type": "markdown",
      "metadata": {
        "id": "tp_fDINJ1t4L",
        "colab_type": "text"
      },
      "source": [
        "### 10. Use logisticRegression with tfidf features as input and targets as output and train the model and report the train and test accuracy score"
      ]
    },
    {
      "cell_type": "code",
      "metadata": {
        "id": "THlN2b5d1yQp",
        "colab_type": "code",
        "colab": {
          "base_uri": "https://localhost:8080/",
          "height": 201
        },
        "outputId": "8586c86a-0762-4e30-a72a-106aab289644"
      },
      "source": [
        "\n",
        "from sklearn.linear_model import LogisticRegression\n",
        "\n",
        "logReg = LogisticRegression()\n",
        "logReg.fit(vectors, twenty_train.target)\n"
      ],
      "execution_count": 27,
      "outputs": [
        {
          "output_type": "stream",
          "text": [
            "/usr/local/lib/python3.6/dist-packages/sklearn/linear_model/logistic.py:432: FutureWarning: Default solver will be changed to 'lbfgs' in 0.22. Specify a solver to silence this warning.\n",
            "  FutureWarning)\n",
            "/usr/local/lib/python3.6/dist-packages/sklearn/linear_model/logistic.py:469: FutureWarning: Default multi_class will be changed to 'auto' in 0.22. Specify the multi_class option to silence this warning.\n",
            "  \"this warning.\", FutureWarning)\n"
          ],
          "name": "stderr"
        },
        {
          "output_type": "execute_result",
          "data": {
            "text/plain": [
              "LogisticRegression(C=1.0, class_weight=None, dual=False, fit_intercept=True,\n",
              "                   intercept_scaling=1, l1_ratio=None, max_iter=100,\n",
              "                   multi_class='warn', n_jobs=None, penalty='l2',\n",
              "                   random_state=None, solver='warn', tol=0.0001, verbose=0,\n",
              "                   warm_start=False)"
            ]
          },
          "metadata": {
            "tags": []
          },
          "execution_count": 27
        }
      ]
    },
    {
      "cell_type": "code",
      "metadata": {
        "id": "noRU3Gv23E2u",
        "colab_type": "code",
        "colab": {
          "base_uri": "https://localhost:8080/",
          "height": 35
        },
        "outputId": "28711f88-d3c3-4c50-adbe-d1e7e4f58a11"
      },
      "source": [
        "from sklearn import metrics\n",
        "pred = logReg.predict(vectors_test)\n",
        "metrics.f1_score(twenty_test.target, pred, average='macro')"
      ],
      "execution_count": 28,
      "outputs": [
        {
          "output_type": "execute_result",
          "data": {
            "text/plain": [
              "0.8960017730130446"
            ]
          },
          "metadata": {
            "tags": []
          },
          "execution_count": 28
        }
      ]
    },
    {
      "cell_type": "code",
      "metadata": {
        "id": "_xHhdqQh3TsZ",
        "colab_type": "code",
        "colab": {}
      },
      "source": [
        ""
      ],
      "execution_count": 0,
      "outputs": []
    }
  ]
}