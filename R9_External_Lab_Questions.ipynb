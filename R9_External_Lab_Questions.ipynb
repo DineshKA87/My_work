{
  "nbformat": 4,
  "nbformat_minor": 0,
  "metadata": {
    "colab": {
      "name": "R9_External_Lab_Questions.ipynb",
      "version": "0.3.2",
      "provenance": [],
      "collapsed_sections": [],
      "toc_visible": true
    },
    "language_info": {
      "codemirror_mode": {
        "name": "ipython",
        "version": 3
      },
      "file_extension": ".py",
      "mimetype": "text/x-python",
      "name": "python",
      "nbconvert_exporter": "python",
      "pygments_lexer": "ipython3",
      "version": "3.7.0"
    },
    "kernelspec": {
      "display_name": "Python 3",
      "language": "python",
      "name": "python3"
    }
  },
  "cells": [
    {
      "cell_type": "markdown",
      "metadata": {
        "colab_type": "text",
        "id": "WPJHV_CIn6Bg"
      },
      "source": [
        "# U - Net\n",
        "## Problem: \n",
        "\n",
        "Seismic data is collected using reflection seismology, or seismic reflection. The method requires a controlled seismic source of energy, such as compressed air or a seismic vibrator, and sensors record the reflection from rock interfaces within the subsurface. The recorded data is then processed to create a 3D view of earth’s interior. Reflection seismology is similar to X-ray, sonar and echolocation.\n",
        "\n",
        "A seismic image is produced from imaging the reflection coming from rock boundaries. The seismic image shows the boundaries between different rock types. In theory, the strength of reflection is directly proportional to the difference in the physical properties on either sides of the interface. While seismic images show rock boundaries, they don't say much about the rock themselves; some rocks are easy to identify while some are difficult.\n",
        "\n",
        "There are several areas of the world where there are vast quantities of salt in the subsurface. One of the challenges of seismic imaging is to identify the part of subsurface which is salt. Salt has characteristics that makes it both simple and hard to identify. Salt density is usually 2.14 g/cc which is lower than most surrounding rocks. The seismic velocity of salt is 4.5 km/sec, which is usually faster than its surrounding rocks. This difference creates a sharp reflection at the salt-sediment interface. Usually salt is an amorphous rock without much internal structure. This means that there is typically not much reflectivity inside the salt, unless there are sediments trapped inside it. The unusually high seismic velocity of salt can create problems with seismic imaging.\n",
        "\n",
        "### Data\n",
        "The data is a set of images chosen at various locations chosen at random in the subsurface. The images are 101 x 101 pixels and each pixel is classified as either salt or sediment. In addition to the seismic images, the depth of the imaged location is provided for each image. The goal of the competition is to segment regions that contain salt.\n",
        "\n",
        "#### Source: \n",
        "https://www.kaggle.com/c/tgs-salt-identification-challenge\n",
        "\n",
        "\n",
        "### Note: \n",
        "Accept the terms and download data from the above link"
      ]
    },
    {
      "cell_type": "markdown",
      "metadata": {
        "colab_type": "text",
        "id": "3OKrTNUtn-od"
      },
      "source": [
        "### Aim: \n",
        "\n",
        "Implement U-Net neural model architecture in keras to solve this problem.\n",
        "\n",
        "\n",
        "In this, you are asked to segment salt deposits beneath the Earth’s surface. Given a set of seismic images that are 101 x 101 pixels each and each pixel we need to classify as either salt or sediment. Our goal is to segment regions that contain salt. A seismic image is produced from imaging the reflection coming from rock boundaries. The seismic image shows the boundaries between different rock types. "
      ]
    },
    {
      "cell_type": "markdown",
      "metadata": {
        "colab_type": "text",
        "id": "ZUOAF8WWoA1x"
      },
      "source": [
        "### Broad Steps:\n",
        "\n",
        "1. Download the dataset\n",
        "2. Upload to Drive\n",
        "3. Import from drive to colab\n",
        "4. Load the images and create training data.\n",
        "5. Build U-net Model\n",
        "6. Train your model.\n",
        "7. Check the validation accuracy and plot sample."
      ]
    },
    {
      "cell_type": "code",
      "metadata": {
        "colab_type": "code",
        "id": "b7TLNzB6oDep",
        "outputId": "e2459c00-f5af-44e0-be3e-0966dd10d3bd",
        "colab": {
          "base_uri": "https://localhost:8080/",
          "height": 34
        }
      },
      "source": [
        "#Importing necessary libraries\n",
        "import os\n",
        "import random\n",
        "import pandas as pd\n",
        "import numpy as np\n",
        "import matplotlib.pyplot as plt\n",
        "plt.style.use(\"ggplot\")\n",
        "%matplotlib inline\n",
        "\n",
        "from tqdm import tqdm_notebook, tnrange\n",
        "from itertools import chain\n",
        "from skimage.io import imread, imshow, concatenate_images\n",
        "from skimage.transform import resize\n",
        "from skimage.morphology import label\n",
        "from sklearn.model_selection import train_test_split\n",
        "\n",
        "import tensorflow as tf\n",
        "from keras.models import Model, load_model\n",
        "from keras.layers import Input, BatchNormalization, Activation, Dense, Dropout\n",
        "from keras.layers.core import Lambda, RepeatVector, Reshape\n",
        "from keras.layers.convolutional import Conv2D, Conv2DTranspose\n",
        "from keras.layers.pooling import MaxPooling2D, GlobalMaxPool2D\n",
        "from keras.layers.merge import concatenate, add\n",
        "from keras.callbacks import EarlyStopping, ModelCheckpoint, ReduceLROnPlateau\n",
        "from keras.optimizers import Adam\n",
        "from keras.preprocessing.image import ImageDataGenerator, array_to_img, img_to_array, load_img"
      ],
      "execution_count": 0,
      "outputs": [
        {
          "output_type": "stream",
          "text": [
            "Using TensorFlow backend.\n"
          ],
          "name": "stderr"
        }
      ]
    },
    {
      "cell_type": "code",
      "metadata": {
        "colab_type": "code",
        "id": "6qiCvW9coD_E",
        "outputId": "5b08827d-3f9d-46b7-ef5f-3bb681a26aa9",
        "colab": {
          "base_uri": "https://localhost:8080/",
          "height": 122
        }
      },
      "source": [
        "#Mount drive\n",
        "from google.colab import drive\n",
        "drive.mount('/content/drive')"
      ],
      "execution_count": 0,
      "outputs": [
        {
          "output_type": "stream",
          "text": [
            "Go to this URL in a browser: https://accounts.google.com/o/oauth2/auth?client_id=947318989803-6bn6qk8qdgf4n4g3pfee6491hc0brc4i.apps.googleusercontent.com&redirect_uri=urn%3Aietf%3Awg%3Aoauth%3A2.0%3Aoob&scope=email%20https%3A%2F%2Fwww.googleapis.com%2Fauth%2Fdocs.test%20https%3A%2F%2Fwww.googleapis.com%2Fauth%2Fdrive%20https%3A%2F%2Fwww.googleapis.com%2Fauth%2Fdrive.photos.readonly%20https%3A%2F%2Fwww.googleapis.com%2Fauth%2Fpeopleapi.readonly&response_type=code\n",
            "\n",
            "Enter your authorization code:\n",
            "··········\n",
            "Mounted at /content/drive/\n"
          ],
          "name": "stdout"
        }
      ]
    },
    {
      "cell_type": "markdown",
      "metadata": {
        "colab_type": "text",
        "id": "B4IaUgploION"
      },
      "source": [
        "### 1.Set your project path where you have your data and related files for this lab."
      ]
    },
    {
      "cell_type": "code",
      "metadata": {
        "colab_type": "code",
        "id": "0tPkbXWyoK-z",
        "colab": {}
      },
      "source": [
        "path = \"/gdrive/My Drive/Colab Notebooks/Lab and Assignments 9th/external/\""
      ],
      "execution_count": 0,
      "outputs": []
    },
    {
      "cell_type": "code",
      "metadata": {
        "colab_type": "code",
        "id": "Kxy5LexhoLMT",
        "colab": {}
      },
      "source": [
        ""
      ],
      "execution_count": 0,
      "outputs": []
    },
    {
      "cell_type": "markdown",
      "metadata": {
        "colab_type": "text",
        "id": "g15qSXZSoSuL"
      },
      "source": [
        "### 2. Set the necessary parameters"
      ]
    },
    {
      "cell_type": "markdown",
      "metadata": {
        "colab_type": "text",
        "id": "Dzrz2Or_HdxR"
      },
      "source": [
        "## Setup"
      ]
    },
    {
      "cell_type": "code",
      "metadata": {
        "colab_type": "code",
        "id": "3IEaEnuzoW2a",
        "colab": {}
      },
      "source": [
        "im_width = 128      #width of your train image\n",
        "im_height = 128     #hight of your train image\n",
        "#border =        \n",
        "path_train = path + 'train/'   #Path for your train data"
      ],
      "execution_count": 0,
      "outputs": []
    },
    {
      "cell_type": "code",
      "metadata": {
        "colab_type": "code",
        "id": "uZQyyn55oKW-",
        "colab": {}
      },
      "source": [
        ""
      ],
      "execution_count": 0,
      "outputs": []
    },
    {
      "cell_type": "markdown",
      "metadata": {
        "colab_type": "text",
        "id": "Q3IoS6RCoZPh"
      },
      "source": [
        "# 3. Make directory for train data at in your project/lab folder.\n",
        "\n",
        "Hint - use !mkdir function."
      ]
    },
    {
      "cell_type": "code",
      "metadata": {
        "colab_type": "code",
        "id": "MRPpQ2QrocBQ",
        "outputId": "2b263901-52b6-476d-dd15-d8feb0c1b756",
        "colab": {
          "base_uri": "https://localhost:8080/",
          "height": 34
        }
      },
      "source": [
        "!mkdir lab"
      ],
      "execution_count": 0,
      "outputs": [
        {
          "output_type": "stream",
          "text": [
            "mkdir: cannot create directory ‘lab’: File exists\n"
          ],
          "name": "stdout"
        }
      ]
    },
    {
      "cell_type": "code",
      "metadata": {
        "colab_type": "code",
        "id": "RWATodbkocN9",
        "colab": {}
      },
      "source": [
        "!cd lab"
      ],
      "execution_count": 0,
      "outputs": []
    },
    {
      "cell_type": "markdown",
      "metadata": {
        "colab_type": "text",
        "id": "fRbC22DGoeb7"
      },
      "source": [
        "# 4. Extract your train images to the train directory you have just created above. \n",
        "train.zip and test.zip files available at your google drive/local system.\n",
        "\n",
        "As a good practice - Upload or copy the data at your project path folder.\n",
        "\n",
        "Make sure you are providing the right project_path."
      ]
    },
    {
      "cell_type": "code",
      "metadata": {
        "colab_type": "code",
        "id": "5BtPznFbogjG",
        "colab": {}
      },
      "source": [
        "#For simplicity we have added the required code here.\n",
        "from zipfile import ZipFile\n",
        "\n",
        "with ZipFile(path + 'train.zip', 'r') as zf:\n",
        "  zf.extractall('train/')\n"
      ],
      "execution_count": 0,
      "outputs": []
    },
    {
      "cell_type": "code",
      "metadata": {
        "colab_type": "code",
        "id": "7YZ2prb9oiX4",
        "colab": {}
      },
      "source": [
        "#The train file have both images and masks with the same names_ids."
      ],
      "execution_count": 0,
      "outputs": []
    },
    {
      "cell_type": "code",
      "metadata": {
        "colab_type": "code",
        "id": "zxQ1u8Bvoj1M",
        "colab": {}
      },
      "source": [
        "path_train =\"train\""
      ],
      "execution_count": 0,
      "outputs": []
    },
    {
      "cell_type": "markdown",
      "metadata": {
        "colab_type": "text",
        "id": "iwCH81ZWomLA"
      },
      "source": [
        "### 5. Get the list of names of images and masks and name the list imagelist and masklist.\n",
        "\n",
        "Hint - Use os.listdir() funtions."
      ]
    },
    {
      "cell_type": "code",
      "metadata": {
        "colab_type": "code",
        "id": "Clt5ya_JoplC",
        "colab": {}
      },
      "source": [
        "imagelist = os.listdir(path_train+\"/images\")\n",
        "masklist = os.listdir(path_train+\"/masks\")"
      ],
      "execution_count": 0,
      "outputs": []
    },
    {
      "cell_type": "code",
      "metadata": {
        "colab_type": "code",
        "id": "-vHPQoHVoppK",
        "outputId": "7154325a-d652-4a0b-e76d-71cd3dc5dfe9",
        "colab": {
          "base_uri": "https://localhost:8080/",
          "height": 85
        }
      },
      "source": [
        "#Test your list names by printing some of the names as given below.\n",
        "print(imagelist[-1])\n",
        "print(masklist[-1])\n",
        "print(imagelist[10])\n",
        "print(masklist[10])"
      ],
      "execution_count": 0,
      "outputs": [
        {
          "output_type": "stream",
          "text": [
            "1c3397d0ef.png\n",
            "1c3397d0ef.png\n",
            "5bb976391e.png\n",
            "5bb976391e.png\n"
          ],
          "name": "stdout"
        }
      ]
    },
    {
      "cell_type": "code",
      "metadata": {
        "colab_type": "code",
        "id": "WUZw-kSKoqIr",
        "colab": {}
      },
      "source": [
        "image_path = path_train + \"/images\"\n",
        "mask_image_path = path_train + \"/masks\""
      ],
      "execution_count": 0,
      "outputs": []
    },
    {
      "cell_type": "markdown",
      "metadata": {
        "colab_type": "text",
        "id": "1t8raFq5ous8"
      },
      "source": [
        "# 6. Read and test your images and respective masks.\n",
        "\n",
        "Hint -\n",
        "\n",
        "import  matplotlib.pyplot as plt\n",
        "\n",
        "import cv2\n",
        "\n",
        "plt.imshow(cv2.imread('path of image'))\n",
        "\n",
        "plt.imshow(cv2.imread('path of mask'))\n"
      ]
    },
    {
      "cell_type": "code",
      "metadata": {
        "colab_type": "code",
        "id": "1gGpCSPpovvH",
        "outputId": "6ad4ebe4-113b-4b90-bda7-fa54569bdf6d",
        "colab": {
          "base_uri": "https://localhost:8080/",
          "height": 286
        }
      },
      "source": [
        "import cv2\n",
        "from PIL import Image\n",
        "plt.imshow(cv2.imread(image_path+ \"/1c3397d0ef.png\"))"
      ],
      "execution_count": 0,
      "outputs": [
        {
          "output_type": "execute_result",
          "data": {
            "text/plain": [
              "<matplotlib.image.AxesImage at 0x7fb6a1484748>"
            ]
          },
          "metadata": {
            "tags": []
          },
          "execution_count": 24
        },
        {
          "output_type": "display_data",
          "data": {
            "image/png": "[encoded data removed]",
            "text/plain": [
              "<Figure size 432x288 with 1 Axes>"
            ]
          },
          "metadata": {
            "tags": []
          }
        }
      ]
    },
    {
      "cell_type": "code",
      "metadata": {
        "colab_type": "code",
        "id": "9E-McW2toyaR",
        "outputId": "133c4c5e-e4cb-475b-a436-a5f7e3d12606",
        "colab": {
          "base_uri": "https://localhost:8080/",
          "height": 286
        }
      },
      "source": [
        "plt.imshow(cv2.imread(mask_image_path+ \"/1c3397d0ef.png\"))"
      ],
      "execution_count": 0,
      "outputs": [
        {
          "output_type": "execute_result",
          "data": {
            "text/plain": [
              "<matplotlib.image.AxesImage at 0x7fb69ec20518>"
            ]
          },
          "metadata": {
            "tags": []
          },
          "execution_count": 25
        },
        {
          "output_type": "display_data",
          "data": {
            "image/png": "[encoded data removed]",
            "text/plain": [
              "<Figure size 432x288 with 1 Axes>"
            ]
          },
          "metadata": {
            "tags": []
          }
        }
      ]
    },
    {
      "cell_type": "markdown",
      "metadata": {
        "colab_type": "text",
        "id": "_qFeroMNoylc"
      },
      "source": [
        "# 7. Create your training data.\n",
        "\n",
        "Hints - \n",
        "\n",
        "image_path = os.path.join(project_path +'path of your image directory' +n )\n",
        "\n",
        "mask_path = os.path.join(project_path +'path of your mask directory'+n )"
      ]
    },
    {
      "cell_type": "code",
      "metadata": {
        "colab_type": "code",
        "id": "gJbRVbL4o1qT",
        "outputId": "d2bdd0ef-ec29-4093-db8c-b9fd5a86fa30",
        "colab": {
          "base_uri": "https://localhost:8080/",
          "height": 34
        }
      },
      "source": [
        "# Get and resize train images and masks\n",
        "def get_data(train):\n",
        "    X = np.zeros(((len(imagelist), im_height, im_width, 1)), dtype=np.float32) # Create an array for image\n",
        "    y = np.zeros(((len(masklist), im_height, im_width, 1)), dtype=np.float32) #Create an array for mask\n",
        "    \n",
        "    for n in imagelist: \n",
        "        k = imagelist.index(n)\n",
        "        \n",
        "        ##Add image_path\n",
        "        image_path =  os.path.join(path_train, \"images/\"+n);\n",
        "        ##Add mask_path\n",
        "        mask_path = os.path.join(path_train, \"masks/\"+n);                                                           \n",
        "\n",
        "        \n",
        "        \n",
        "        img = Image.open(image_path).convert('L')\n",
        "        resized_img = np.array(img.resize((im_height, im_width)), dtype=np.float32) # Resize image\n",
        "        \n",
        "        # Load masks and resize to (128,128,1)\n",
        "        img = Image.open(mask_path).convert('L')\n",
        "        resized_mask = np.array(img.resize((im_height, im_width)), dtype=np.float32) # Resize image\n",
        "        \n",
        "        # Save images\n",
        "        X[k, ..., 0] = resized_img.squeeze() / 255\n",
        "        y[k, ..., 0] = resized_mask/255\n",
        "    print('Done!')\n",
        "    if train:\n",
        "        return X, y\n",
        "    else:\n",
        "        return X\n",
        "    \n",
        "X, y = get_data(True)"
      ],
      "execution_count": 0,
      "outputs": [
        {
          "output_type": "stream",
          "text": [
            "Done!\n"
          ],
          "name": "stdout"
        }
      ]
    },
    {
      "cell_type": "code",
      "metadata": {
        "colab_type": "code",
        "id": "seheYxTBo32V",
        "colab": {}
      },
      "source": [
        ""
      ],
      "execution_count": 0,
      "outputs": []
    },
    {
      "cell_type": "code",
      "metadata": {
        "colab_type": "code",
        "id": "kt6zXJPHo35y",
        "colab": {}
      },
      "source": [
        "# Split train and valid\n",
        "from sklearn.model_selection import train_test_split\n",
        "X_train, X_valid, y_train, y_valid = train_test_split(X, y, test_size=0.15, random_state=2019)"
      ],
      "execution_count": 0,
      "outputs": []
    },
    {
      "cell_type": "code",
      "metadata": {
        "colab_type": "code",
        "id": "mh_SRFGro6wr",
        "outputId": "40fcfee2-721d-4913-bcf5-cfd30ae00954",
        "colab": {
          "base_uri": "https://localhost:8080/",
          "height": 319
        }
      },
      "source": [
        "## Test your data whether it looks fine - Random check\n",
        "import random \n",
        "# Check if training data looks all right\n",
        "ix = random.randint(0, len(X_train))\n",
        "has_mask = y_train[ix].max() > 0\n",
        "\n",
        "fig, ax = plt.subplots(1, 2, figsize=(10, 10))\n",
        "\n",
        "ax[0].imshow(X_train[ix, ..., 0], cmap='seismic', interpolation='bilinear')\n",
        "if has_mask:\n",
        "    ax[0].contour(y_train[ix].squeeze(), colors='k', levels=[0.5])\n",
        "ax[0].set_title('Seismic')\n",
        "\n",
        "ax[1].imshow(y_train[ix].squeeze(), interpolation='bilinear', cmap='gray')\n",
        "ax[1].set_title('Salt');\n",
        "\n",
        "\n"
      ],
      "execution_count": 0,
      "outputs": [
        {
          "output_type": "display_data",
          "data": {
            "image/png": "[encoded data removed]",
            "text/plain": [
              "<Figure size 720x720 with 2 Axes>"
            ]
          },
          "metadata": {
            "tags": []
          }
        }
      ]
    },
    {
      "cell_type": "code",
      "metadata": {
        "colab_type": "code",
        "id": "aqMLP_Jwo8K5",
        "colab": {}
      },
      "source": [
        ""
      ],
      "execution_count": 0,
      "outputs": []
    },
    {
      "cell_type": "code",
      "metadata": {
        "colab_type": "code",
        "id": "_-JXuxrRo8a6",
        "colab": {}
      },
      "source": [
        ""
      ],
      "execution_count": 0,
      "outputs": []
    },
    {
      "cell_type": "markdown",
      "metadata": {
        "colab_type": "text",
        "id": "em5jGV93o8qR"
      },
      "source": [
        "### 8. Define loss and dice_coeff function."
      ]
    },
    {
      "cell_type": "code",
      "metadata": {
        "colab_type": "code",
        "id": "Uyxf8uhQpA78",
        "colab": {}
      },
      "source": [
        "from keras import backend as K\n",
        "\n",
        "def dice_coef(y_true, y_pred, smooth=1):\n",
        "    \"\"\"\n",
        "    Dice = (2*|X & Y|)/ (|X|+ |Y|)\n",
        "         =  2*sum(|A*B|)/(sum(A^2)+sum(B^2))\n",
        "    ref: https://arxiv.org/pdf/1606.04797v1.pdf\n",
        "    \"\"\"\n",
        "    intersection = K.sum(K.abs(y_true * y_pred), axis=-1)\n",
        "    return (2. * intersection + smooth) / (K.sum(K.square(y_true),-1) + K.sum(K.square(y_pred),-1) + smooth)\n"
      ],
      "execution_count": 0,
      "outputs": []
    },
    {
      "cell_type": "code",
      "metadata": {
        "colab_type": "code",
        "id": "EmCjyEUUpA_V",
        "colab": {}
      },
      "source": [
        "def dice_coef_loss(y_true, y_pred):\n",
        "    return 1-dice_coef(y_true, y_pred)"
      ],
      "execution_count": 0,
      "outputs": []
    },
    {
      "cell_type": "markdown",
      "metadata": {
        "colab_type": "text",
        "id": "-ofKZA-9pDVJ"
      },
      "source": [
        "### 9. Build and compile UNet Model for your data.\n",
        "\n",
        "Hint - \n",
        "You can install and use segmentation models from this github repository.\n",
        "\n",
        "#Install segmentation models\n",
        "\n",
        "!pip install git+https://github.com/qubvel/segmentation_models"
      ]
    },
    {
      "cell_type": "code",
      "metadata": {
        "colab_type": "code",
        "id": "456utznCpGco",
        "outputId": "9aa69827-2ee9-44eb-998e-f07a09ff8169",
        "colab": {
          "base_uri": "https://localhost:8080/",
          "height": 581
        }
      },
      "source": [
        "#model = Unet(backbone_name='resnet34', encoder_weights=None, input_shape=(None, None, 1))\n",
        "#compile your model by adding the parameters like optimizer, loss and metrics.\n",
        "!pip install git+https://github.com/qubvel/segmentation_models\n"
      ],
      "execution_count": 0,
      "outputs": [
        {
          "output_type": "stream",
          "text": [
            "Collecting git+https://github.com/qubvel/segmentation_models\n",
            "  Cloning https://github.com/qubvel/segmentation_models to /tmp/pip-req-build-y0aqqo_d\n",
            "  Running command git clone -q https://github.com/qubvel/segmentation_models /tmp/pip-req-build-y0aqqo_d\n",
            "  Running command git submodule update --init --recursive -q\n",
            "Requirement already satisfied (use --upgrade to upgrade): segmentation-models==0.2.1 from git+https://github.com/qubvel/segmentation_models in /usr/local/lib/python3.6/dist-packages\n",
            "Requirement already satisfied: keras>=2.2.0 in /usr/local/lib/python3.6/dist-packages (from segmentation-models==0.2.1) (2.2.4)\n",
            "Requirement already satisfied: keras_applications==1.0.7 in /usr/local/lib/python3.6/dist-packages (from segmentation-models==0.2.1) (1.0.7)\n",
            "Requirement already satisfied: scikit-image in /usr/local/lib/python3.6/dist-packages (from segmentation-models==0.2.1) (0.15.0)\n",
            "Requirement already satisfied: image-classifiers==0.2.0 in /usr/local/lib/python3.6/dist-packages (from segmentation-models==0.2.1) (0.2.0)\n",
            "Requirement already satisfied: efficientnet>=0.0.3 in /usr/local/lib/python3.6/dist-packages (from segmentation-models==0.2.1) (0.0.3)\n",
            "Requirement already satisfied: numpy>=1.9.1 in /usr/local/lib/python3.6/dist-packages (from keras>=2.2.0->segmentation-models==0.2.1) (1.16.4)\n",
            "Requirement already satisfied: scipy>=0.14 in /usr/local/lib/python3.6/dist-packages (from keras>=2.2.0->segmentation-models==0.2.1) (1.3.0)\n",
            "Requirement already satisfied: keras-preprocessing>=1.0.5 in /usr/local/lib/python3.6/dist-packages (from keras>=2.2.0->segmentation-models==0.2.1) (1.1.0)\n",
            "Requirement already satisfied: six>=1.9.0 in /usr/local/lib/python3.6/dist-packages (from keras>=2.2.0->segmentation-models==0.2.1) (1.12.0)\n",
            "Requirement already satisfied: h5py in /usr/local/lib/python3.6/dist-packages (from keras>=2.2.0->segmentation-models==0.2.1) (2.8.0)\n",
            "Requirement already satisfied: pyyaml in /usr/local/lib/python3.6/dist-packages (from keras>=2.2.0->segmentation-models==0.2.1) (3.13)\n",
            "Requirement already satisfied: pillow>=4.3.0 in /usr/local/lib/python3.6/dist-packages (from scikit-image->segmentation-models==0.2.1) (4.3.0)\n",
            "Requirement already satisfied: PyWavelets>=0.4.0 in /usr/local/lib/python3.6/dist-packages (from scikit-image->segmentation-models==0.2.1) (1.0.3)\n",
            "Requirement already satisfied: networkx>=2.0 in /usr/local/lib/python3.6/dist-packages (from scikit-image->segmentation-models==0.2.1) (2.3)\n",
            "Requirement already satisfied: matplotlib!=3.0.0,>=2.0.0 in /usr/local/lib/python3.6/dist-packages (from scikit-image->segmentation-models==0.2.1) (3.0.3)\n",
            "Requirement already satisfied: imageio>=2.0.1 in /usr/local/lib/python3.6/dist-packages (from scikit-image->segmentation-models==0.2.1) (2.4.1)\n",
            "Requirement already satisfied: olefile in /usr/local/lib/python3.6/dist-packages (from pillow>=4.3.0->scikit-image->segmentation-models==0.2.1) (0.46)\n",
            "Requirement already satisfied: decorator>=4.3.0 in /usr/local/lib/python3.6/dist-packages (from networkx>=2.0->scikit-image->segmentation-models==0.2.1) (4.4.0)\n",
            "Requirement already satisfied: cycler>=0.10 in /usr/local/lib/python3.6/dist-packages (from matplotlib!=3.0.0,>=2.0.0->scikit-image->segmentation-models==0.2.1) (0.10.0)\n",
            "Requirement already satisfied: python-dateutil>=2.1 in /usr/local/lib/python3.6/dist-packages (from matplotlib!=3.0.0,>=2.0.0->scikit-image->segmentation-models==0.2.1) (2.5.3)\n",
            "Requirement already satisfied: kiwisolver>=1.0.1 in /usr/local/lib/python3.6/dist-packages (from matplotlib!=3.0.0,>=2.0.0->scikit-image->segmentation-models==0.2.1) (1.1.0)\n",
            "Requirement already satisfied: pyparsing!=2.0.4,!=2.1.2,!=2.1.6,>=2.0.1 in /usr/local/lib/python3.6/dist-packages (from matplotlib!=3.0.0,>=2.0.0->scikit-image->segmentation-models==0.2.1) (2.4.0)\n",
            "Requirement already satisfied: setuptools in /usr/local/lib/python3.6/dist-packages (from kiwisolver>=1.0.1->matplotlib!=3.0.0,>=2.0.0->scikit-image->segmentation-models==0.2.1) (41.0.1)\n",
            "Building wheels for collected packages: segmentation-models\n",
            "  Building wheel for segmentation-models (setup.py) ... \u001b[?25l\u001b[?25hdone\n",
            "  Stored in directory: /tmp/pip-ephem-wheel-cache-7x05edbd/wheels/49/cf/46/cbb4bb64518c402aea99df9d466f1081450597e653256bbcf4\n",
            "Successfully built segmentation-models\n"
          ],
          "name": "stdout"
        }
      ]
    },
    {
      "cell_type": "code",
      "metadata": {
        "colab_type": "code",
        "id": "eL1lRlXDpIHl",
        "colab": {}
      },
      "source": [
        "#Get the summary of your model\n",
        "from segmentation_models import Unet"
      ],
      "execution_count": 0,
      "outputs": []
    },
    {
      "cell_type": "code",
      "metadata": {
        "colab_type": "code",
        "id": "cA4f4oYYpJA6",
        "colab": {}
      },
      "source": [
        "model = Unet(backbone_name='resnet34', encoder_weights=None, input_shape=(128, 128, 1))"
      ],
      "execution_count": 0,
      "outputs": []
    },
    {
      "cell_type": "code",
      "metadata": {
        "colab_type": "code",
        "id": "wyi86c-AQZo6",
        "colab": {}
      },
      "source": [
        "from segmentation_models.metrics import iou_score\n",
        "model.compile('Adam', loss=dice_coef_loss, metrics=[iou_score])"
      ],
      "execution_count": 0,
      "outputs": []
    },
    {
      "cell_type": "code",
      "metadata": {
        "colab_type": "code",
        "id": "nhsaLGPLQoQ7",
        "outputId": "f0e733d3-936b-4ebb-a19a-c887f7d3e706",
        "colab": {
          "base_uri": "https://localhost:8080/",
          "height": 1000
        }
      },
      "source": [
        "model.summary()"
      ],
      "execution_count": 0,
      "outputs": [
        {
          "output_type": "stream",
          "text": [
            "__________________________________________________________________________________________________\n",
            "Layer (type)                    Output Shape         Param #     Connected to                     \n",
            "==================================================================================================\n",
            "data (InputLayer)               (None, 128, 128, 1)  0                                            \n",
            "__________________________________________________________________________________________________\n",
            "bn_data (BatchNormalization)    (None, 128, 128, 1)  3           data[0][0]                       \n",
            "__________________________________________________________________________________________________\n",
            "zero_padding2d_35 (ZeroPadding2 (None, 134, 134, 1)  0           bn_data[0][0]                    \n",
            "__________________________________________________________________________________________________\n",
            "conv0 (Conv2D)                  (None, 64, 64, 64)   3136        zero_padding2d_35[0][0]          \n",
            "__________________________________________________________________________________________________\n",
            "bn0 (BatchNormalization)        (None, 64, 64, 64)   256         conv0[0][0]                      \n",
            "__________________________________________________________________________________________________\n",
            "relu0 (Activation)              (None, 64, 64, 64)   0           bn0[0][0]                        \n",
            "__________________________________________________________________________________________________\n",
            "zero_padding2d_36 (ZeroPadding2 (None, 66, 66, 64)   0           relu0[0][0]                      \n",
            "__________________________________________________________________________________________________\n",
            "pooling0 (MaxPooling2D)         (None, 32, 32, 64)   0           zero_padding2d_36[0][0]          \n",
            "__________________________________________________________________________________________________\n",
            "stage1_unit1_bn1 (BatchNormaliz (None, 32, 32, 64)   256         pooling0[0][0]                   \n",
            "__________________________________________________________________________________________________\n",
            "stage1_unit1_relu1 (Activation) (None, 32, 32, 64)   0           stage1_unit1_bn1[0][0]           \n",
            "__________________________________________________________________________________________________\n",
            "zero_padding2d_37 (ZeroPadding2 (None, 34, 34, 64)   0           stage1_unit1_relu1[0][0]         \n",
            "__________________________________________________________________________________________________\n",
            "stage1_unit1_conv1 (Conv2D)     (None, 32, 32, 64)   36864       zero_padding2d_37[0][0]          \n",
            "__________________________________________________________________________________________________\n",
            "stage1_unit1_bn2 (BatchNormaliz (None, 32, 32, 64)   256         stage1_unit1_conv1[0][0]         \n",
            "__________________________________________________________________________________________________\n",
            "stage1_unit1_relu2 (Activation) (None, 32, 32, 64)   0           stage1_unit1_bn2[0][0]           \n",
            "__________________________________________________________________________________________________\n",
            "zero_padding2d_38 (ZeroPadding2 (None, 34, 34, 64)   0           stage1_unit1_relu2[0][0]         \n",
            "__________________________________________________________________________________________________\n",
            "stage1_unit1_conv2 (Conv2D)     (None, 32, 32, 64)   36864       zero_padding2d_38[0][0]          \n",
            "__________________________________________________________________________________________________\n",
            "stage1_unit1_sc (Conv2D)        (None, 32, 32, 64)   4096        stage1_unit1_relu1[0][0]         \n",
            "__________________________________________________________________________________________________\n",
            "add_17 (Add)                    (None, 32, 32, 64)   0           stage1_unit1_conv2[0][0]         \n",
            "                                                                 stage1_unit1_sc[0][0]            \n",
            "__________________________________________________________________________________________________\n",
            "stage1_unit2_bn1 (BatchNormaliz (None, 32, 32, 64)   256         add_17[0][0]                     \n",
            "__________________________________________________________________________________________________\n",
            "stage1_unit2_relu1 (Activation) (None, 32, 32, 64)   0           stage1_unit2_bn1[0][0]           \n",
            "__________________________________________________________________________________________________\n",
            "zero_padding2d_39 (ZeroPadding2 (None, 34, 34, 64)   0           stage1_unit2_relu1[0][0]         \n",
            "__________________________________________________________________________________________________\n",
            "stage1_unit2_conv1 (Conv2D)     (None, 32, 32, 64)   36864       zero_padding2d_39[0][0]          \n",
            "__________________________________________________________________________________________________\n",
            "stage1_unit2_bn2 (BatchNormaliz (None, 32, 32, 64)   256         stage1_unit2_conv1[0][0]         \n",
            "__________________________________________________________________________________________________\n",
            "stage1_unit2_relu2 (Activation) (None, 32, 32, 64)   0           stage1_unit2_bn2[0][0]           \n",
            "__________________________________________________________________________________________________\n",
            "zero_padding2d_40 (ZeroPadding2 (None, 34, 34, 64)   0           stage1_unit2_relu2[0][0]         \n",
            "__________________________________________________________________________________________________\n",
            "stage1_unit2_conv2 (Conv2D)     (None, 32, 32, 64)   36864       zero_padding2d_40[0][0]          \n",
            "__________________________________________________________________________________________________\n",
            "add_18 (Add)                    (None, 32, 32, 64)   0           stage1_unit2_conv2[0][0]         \n",
            "                                                                 add_17[0][0]                     \n",
            "__________________________________________________________________________________________________\n",
            "stage1_unit3_bn1 (BatchNormaliz (None, 32, 32, 64)   256         add_18[0][0]                     \n",
            "__________________________________________________________________________________________________\n",
            "stage1_unit3_relu1 (Activation) (None, 32, 32, 64)   0           stage1_unit3_bn1[0][0]           \n",
            "__________________________________________________________________________________________________\n",
            "zero_padding2d_41 (ZeroPadding2 (None, 34, 34, 64)   0           stage1_unit3_relu1[0][0]         \n",
            "__________________________________________________________________________________________________\n",
            "stage1_unit3_conv1 (Conv2D)     (None, 32, 32, 64)   36864       zero_padding2d_41[0][0]          \n",
            "__________________________________________________________________________________________________\n",
            "stage1_unit3_bn2 (BatchNormaliz (None, 32, 32, 64)   256         stage1_unit3_conv1[0][0]         \n",
            "__________________________________________________________________________________________________\n",
            "stage1_unit3_relu2 (Activation) (None, 32, 32, 64)   0           stage1_unit3_bn2[0][0]           \n",
            "__________________________________________________________________________________________________\n",
            "zero_padding2d_42 (ZeroPadding2 (None, 34, 34, 64)   0           stage1_unit3_relu2[0][0]         \n",
            "__________________________________________________________________________________________________\n",
            "stage1_unit3_conv2 (Conv2D)     (None, 32, 32, 64)   36864       zero_padding2d_42[0][0]          \n",
            "__________________________________________________________________________________________________\n",
            "add_19 (Add)                    (None, 32, 32, 64)   0           stage1_unit3_conv2[0][0]         \n",
            "                                                                 add_18[0][0]                     \n",
            "__________________________________________________________________________________________________\n",
            "stage2_unit1_bn1 (BatchNormaliz (None, 32, 32, 64)   256         add_19[0][0]                     \n",
            "__________________________________________________________________________________________________\n",
            "stage2_unit1_relu1 (Activation) (None, 32, 32, 64)   0           stage2_unit1_bn1[0][0]           \n",
            "__________________________________________________________________________________________________\n",
            "zero_padding2d_43 (ZeroPadding2 (None, 34, 34, 64)   0           stage2_unit1_relu1[0][0]         \n",
            "__________________________________________________________________________________________________\n",
            "stage2_unit1_conv1 (Conv2D)     (None, 16, 16, 128)  73728       zero_padding2d_43[0][0]          \n",
            "__________________________________________________________________________________________________\n",
            "stage2_unit1_bn2 (BatchNormaliz (None, 16, 16, 128)  512         stage2_unit1_conv1[0][0]         \n",
            "__________________________________________________________________________________________________\n",
            "stage2_unit1_relu2 (Activation) (None, 16, 16, 128)  0           stage2_unit1_bn2[0][0]           \n",
            "__________________________________________________________________________________________________\n",
            "zero_padding2d_44 (ZeroPadding2 (None, 18, 18, 128)  0           stage2_unit1_relu2[0][0]         \n",
            "__________________________________________________________________________________________________\n",
            "stage2_unit1_conv2 (Conv2D)     (None, 16, 16, 128)  147456      zero_padding2d_44[0][0]          \n",
            "__________________________________________________________________________________________________\n",
            "stage2_unit1_sc (Conv2D)        (None, 16, 16, 128)  8192        stage2_unit1_relu1[0][0]         \n",
            "__________________________________________________________________________________________________\n",
            "add_20 (Add)                    (None, 16, 16, 128)  0           stage2_unit1_conv2[0][0]         \n",
            "                                                                 stage2_unit1_sc[0][0]            \n",
            "__________________________________________________________________________________________________\n",
            "stage2_unit2_bn1 (BatchNormaliz (None, 16, 16, 128)  512         add_20[0][0]                     \n",
            "__________________________________________________________________________________________________\n",
            "stage2_unit2_relu1 (Activation) (None, 16, 16, 128)  0           stage2_unit2_bn1[0][0]           \n",
            "__________________________________________________________________________________________________\n",
            "zero_padding2d_45 (ZeroPadding2 (None, 18, 18, 128)  0           stage2_unit2_relu1[0][0]         \n",
            "__________________________________________________________________________________________________\n",
            "stage2_unit2_conv1 (Conv2D)     (None, 16, 16, 128)  147456      zero_padding2d_45[0][0]          \n",
            "__________________________________________________________________________________________________\n",
            "stage2_unit2_bn2 (BatchNormaliz (None, 16, 16, 128)  512         stage2_unit2_conv1[0][0]         \n",
            "__________________________________________________________________________________________________\n",
            "stage2_unit2_relu2 (Activation) (None, 16, 16, 128)  0           stage2_unit2_bn2[0][0]           \n",
            "__________________________________________________________________________________________________\n",
            "zero_padding2d_46 (ZeroPadding2 (None, 18, 18, 128)  0           stage2_unit2_relu2[0][0]         \n",
            "__________________________________________________________________________________________________\n",
            "stage2_unit2_conv2 (Conv2D)     (None, 16, 16, 128)  147456      zero_padding2d_46[0][0]          \n",
            "__________________________________________________________________________________________________\n",
            "add_21 (Add)                    (None, 16, 16, 128)  0           stage2_unit2_conv2[0][0]         \n",
            "                                                                 add_20[0][0]                     \n",
            "__________________________________________________________________________________________________\n",
            "stage2_unit3_bn1 (BatchNormaliz (None, 16, 16, 128)  512         add_21[0][0]                     \n",
            "__________________________________________________________________________________________________\n",
            "stage2_unit3_relu1 (Activation) (None, 16, 16, 128)  0           stage2_unit3_bn1[0][0]           \n",
            "__________________________________________________________________________________________________\n",
            "zero_padding2d_47 (ZeroPadding2 (None, 18, 18, 128)  0           stage2_unit3_relu1[0][0]         \n",
            "__________________________________________________________________________________________________\n",
            "stage2_unit3_conv1 (Conv2D)     (None, 16, 16, 128)  147456      zero_padding2d_47[0][0]          \n",
            "__________________________________________________________________________________________________\n",
            "stage2_unit3_bn2 (BatchNormaliz (None, 16, 16, 128)  512         stage2_unit3_conv1[0][0]         \n",
            "__________________________________________________________________________________________________\n",
            "stage2_unit3_relu2 (Activation) (None, 16, 16, 128)  0           stage2_unit3_bn2[0][0]           \n",
            "__________________________________________________________________________________________________\n",
            "zero_padding2d_48 (ZeroPadding2 (None, 18, 18, 128)  0           stage2_unit3_relu2[0][0]         \n",
            "__________________________________________________________________________________________________\n",
            "stage2_unit3_conv2 (Conv2D)     (None, 16, 16, 128)  147456      zero_padding2d_48[0][0]          \n",
            "__________________________________________________________________________________________________\n",
            "add_22 (Add)                    (None, 16, 16, 128)  0           stage2_unit3_conv2[0][0]         \n",
            "                                                                 add_21[0][0]                     \n",
            "__________________________________________________________________________________________________\n",
            "stage2_unit4_bn1 (BatchNormaliz (None, 16, 16, 128)  512         add_22[0][0]                     \n",
            "__________________________________________________________________________________________________\n",
            "stage2_unit4_relu1 (Activation) (None, 16, 16, 128)  0           stage2_unit4_bn1[0][0]           \n",
            "__________________________________________________________________________________________________\n",
            "zero_padding2d_49 (ZeroPadding2 (None, 18, 18, 128)  0           stage2_unit4_relu1[0][0]         \n",
            "__________________________________________________________________________________________________\n",
            "stage2_unit4_conv1 (Conv2D)     (None, 16, 16, 128)  147456      zero_padding2d_49[0][0]          \n",
            "__________________________________________________________________________________________________\n",
            "stage2_unit4_bn2 (BatchNormaliz (None, 16, 16, 128)  512         stage2_unit4_conv1[0][0]         \n",
            "__________________________________________________________________________________________________\n",
            "stage2_unit4_relu2 (Activation) (None, 16, 16, 128)  0           stage2_unit4_bn2[0][0]           \n",
            "__________________________________________________________________________________________________\n",
            "zero_padding2d_50 (ZeroPadding2 (None, 18, 18, 128)  0           stage2_unit4_relu2[0][0]         \n",
            "__________________________________________________________________________________________________\n",
            "stage2_unit4_conv2 (Conv2D)     (None, 16, 16, 128)  147456      zero_padding2d_50[0][0]          \n",
            "__________________________________________________________________________________________________\n",
            "add_23 (Add)                    (None, 16, 16, 128)  0           stage2_unit4_conv2[0][0]         \n",
            "                                                                 add_22[0][0]                     \n",
            "__________________________________________________________________________________________________\n",
            "stage3_unit1_bn1 (BatchNormaliz (None, 16, 16, 128)  512         add_23[0][0]                     \n",
            "__________________________________________________________________________________________________\n",
            "stage3_unit1_relu1 (Activation) (None, 16, 16, 128)  0           stage3_unit1_bn1[0][0]           \n",
            "__________________________________________________________________________________________________\n",
            "zero_padding2d_51 (ZeroPadding2 (None, 18, 18, 128)  0           stage3_unit1_relu1[0][0]         \n",
            "__________________________________________________________________________________________________\n",
            "stage3_unit1_conv1 (Conv2D)     (None, 8, 8, 256)    294912      zero_padding2d_51[0][0]          \n",
            "__________________________________________________________________________________________________\n",
            "stage3_unit1_bn2 (BatchNormaliz (None, 8, 8, 256)    1024        stage3_unit1_conv1[0][0]         \n",
            "__________________________________________________________________________________________________\n",
            "stage3_unit1_relu2 (Activation) (None, 8, 8, 256)    0           stage3_unit1_bn2[0][0]           \n",
            "__________________________________________________________________________________________________\n",
            "zero_padding2d_52 (ZeroPadding2 (None, 10, 10, 256)  0           stage3_unit1_relu2[0][0]         \n",
            "__________________________________________________________________________________________________\n",
            "stage3_unit1_conv2 (Conv2D)     (None, 8, 8, 256)    589824      zero_padding2d_52[0][0]          \n",
            "__________________________________________________________________________________________________\n",
            "stage3_unit1_sc (Conv2D)        (None, 8, 8, 256)    32768       stage3_unit1_relu1[0][0]         \n",
            "__________________________________________________________________________________________________\n",
            "add_24 (Add)                    (None, 8, 8, 256)    0           stage3_unit1_conv2[0][0]         \n",
            "                                                                 stage3_unit1_sc[0][0]            \n",
            "__________________________________________________________________________________________________\n",
            "stage3_unit2_bn1 (BatchNormaliz (None, 8, 8, 256)    1024        add_24[0][0]                     \n",
            "__________________________________________________________________________________________________\n",
            "stage3_unit2_relu1 (Activation) (None, 8, 8, 256)    0           stage3_unit2_bn1[0][0]           \n",
            "__________________________________________________________________________________________________\n",
            "zero_padding2d_53 (ZeroPadding2 (None, 10, 10, 256)  0           stage3_unit2_relu1[0][0]         \n",
            "__________________________________________________________________________________________________\n",
            "stage3_unit2_conv1 (Conv2D)     (None, 8, 8, 256)    589824      zero_padding2d_53[0][0]          \n",
            "__________________________________________________________________________________________________\n",
            "stage3_unit2_bn2 (BatchNormaliz (None, 8, 8, 256)    1024        stage3_unit2_conv1[0][0]         \n",
            "__________________________________________________________________________________________________\n",
            "stage3_unit2_relu2 (Activation) (None, 8, 8, 256)    0           stage3_unit2_bn2[0][0]           \n",
            "__________________________________________________________________________________________________\n",
            "zero_padding2d_54 (ZeroPadding2 (None, 10, 10, 256)  0           stage3_unit2_relu2[0][0]         \n",
            "__________________________________________________________________________________________________\n",
            "stage3_unit2_conv2 (Conv2D)     (None, 8, 8, 256)    589824      zero_padding2d_54[0][0]          \n",
            "__________________________________________________________________________________________________\n",
            "add_25 (Add)                    (None, 8, 8, 256)    0           stage3_unit2_conv2[0][0]         \n",
            "                                                                 add_24[0][0]                     \n",
            "__________________________________________________________________________________________________\n",
            "stage3_unit3_bn1 (BatchNormaliz (None, 8, 8, 256)    1024        add_25[0][0]                     \n",
            "__________________________________________________________________________________________________\n",
            "stage3_unit3_relu1 (Activation) (None, 8, 8, 256)    0           stage3_unit3_bn1[0][0]           \n",
            "__________________________________________________________________________________________________\n",
            "zero_padding2d_55 (ZeroPadding2 (None, 10, 10, 256)  0           stage3_unit3_relu1[0][0]         \n",
            "__________________________________________________________________________________________________\n",
            "stage3_unit3_conv1 (Conv2D)     (None, 8, 8, 256)    589824      zero_padding2d_55[0][0]          \n",
            "__________________________________________________________________________________________________\n",
            "stage3_unit3_bn2 (BatchNormaliz (None, 8, 8, 256)    1024        stage3_unit3_conv1[0][0]         \n",
            "__________________________________________________________________________________________________\n",
            "stage3_unit3_relu2 (Activation) (None, 8, 8, 256)    0           stage3_unit3_bn2[0][0]           \n",
            "__________________________________________________________________________________________________\n",
            "zero_padding2d_56 (ZeroPadding2 (None, 10, 10, 256)  0           stage3_unit3_relu2[0][0]         \n",
            "__________________________________________________________________________________________________\n",
            "stage3_unit3_conv2 (Conv2D)     (None, 8, 8, 256)    589824      zero_padding2d_56[0][0]          \n",
            "__________________________________________________________________________________________________\n",
            "add_26 (Add)                    (None, 8, 8, 256)    0           stage3_unit3_conv2[0][0]         \n",
            "                                                                 add_25[0][0]                     \n",
            "__________________________________________________________________________________________________\n",
            "stage3_unit4_bn1 (BatchNormaliz (None, 8, 8, 256)    1024        add_26[0][0]                     \n",
            "__________________________________________________________________________________________________\n",
            "stage3_unit4_relu1 (Activation) (None, 8, 8, 256)    0           stage3_unit4_bn1[0][0]           \n",
            "__________________________________________________________________________________________________\n",
            "zero_padding2d_57 (ZeroPadding2 (None, 10, 10, 256)  0           stage3_unit4_relu1[0][0]         \n",
            "__________________________________________________________________________________________________\n",
            "stage3_unit4_conv1 (Conv2D)     (None, 8, 8, 256)    589824      zero_padding2d_57[0][0]          \n",
            "__________________________________________________________________________________________________\n",
            "stage3_unit4_bn2 (BatchNormaliz (None, 8, 8, 256)    1024        stage3_unit4_conv1[0][0]         \n",
            "__________________________________________________________________________________________________\n",
            "stage3_unit4_relu2 (Activation) (None, 8, 8, 256)    0           stage3_unit4_bn2[0][0]           \n",
            "__________________________________________________________________________________________________\n",
            "zero_padding2d_58 (ZeroPadding2 (None, 10, 10, 256)  0           stage3_unit4_relu2[0][0]         \n",
            "__________________________________________________________________________________________________\n",
            "stage3_unit4_conv2 (Conv2D)     (None, 8, 8, 256)    589824      zero_padding2d_58[0][0]          \n",
            "__________________________________________________________________________________________________\n",
            "add_27 (Add)                    (None, 8, 8, 256)    0           stage3_unit4_conv2[0][0]         \n",
            "                                                                 add_26[0][0]                     \n",
            "__________________________________________________________________________________________________\n",
            "stage3_unit5_bn1 (BatchNormaliz (None, 8, 8, 256)    1024        add_27[0][0]                     \n",
            "__________________________________________________________________________________________________\n",
            "stage3_unit5_relu1 (Activation) (None, 8, 8, 256)    0           stage3_unit5_bn1[0][0]           \n",
            "__________________________________________________________________________________________________\n",
            "zero_padding2d_59 (ZeroPadding2 (None, 10, 10, 256)  0           stage3_unit5_relu1[0][0]         \n",
            "__________________________________________________________________________________________________\n",
            "stage3_unit5_conv1 (Conv2D)     (None, 8, 8, 256)    589824      zero_padding2d_59[0][0]          \n",
            "__________________________________________________________________________________________________\n",
            "stage3_unit5_bn2 (BatchNormaliz (None, 8, 8, 256)    1024        stage3_unit5_conv1[0][0]         \n",
            "__________________________________________________________________________________________________\n",
            "stage3_unit5_relu2 (Activation) (None, 8, 8, 256)    0           stage3_unit5_bn2[0][0]           \n",
            "__________________________________________________________________________________________________\n",
            "zero_padding2d_60 (ZeroPadding2 (None, 10, 10, 256)  0           stage3_unit5_relu2[0][0]         \n",
            "__________________________________________________________________________________________________\n",
            "stage3_unit5_conv2 (Conv2D)     (None, 8, 8, 256)    589824      zero_padding2d_60[0][0]          \n",
            "__________________________________________________________________________________________________\n",
            "add_28 (Add)                    (None, 8, 8, 256)    0           stage3_unit5_conv2[0][0]         \n",
            "                                                                 add_27[0][0]                     \n",
            "__________________________________________________________________________________________________\n",
            "stage3_unit6_bn1 (BatchNormaliz (None, 8, 8, 256)    1024        add_28[0][0]                     \n",
            "__________________________________________________________________________________________________\n",
            "stage3_unit6_relu1 (Activation) (None, 8, 8, 256)    0           stage3_unit6_bn1[0][0]           \n",
            "__________________________________________________________________________________________________\n",
            "zero_padding2d_61 (ZeroPadding2 (None, 10, 10, 256)  0           stage3_unit6_relu1[0][0]         \n",
            "__________________________________________________________________________________________________\n",
            "stage3_unit6_conv1 (Conv2D)     (None, 8, 8, 256)    589824      zero_padding2d_61[0][0]          \n",
            "__________________________________________________________________________________________________\n",
            "stage3_unit6_bn2 (BatchNormaliz (None, 8, 8, 256)    1024        stage3_unit6_conv1[0][0]         \n",
            "__________________________________________________________________________________________________\n",
            "stage3_unit6_relu2 (Activation) (None, 8, 8, 256)    0           stage3_unit6_bn2[0][0]           \n",
            "__________________________________________________________________________________________________\n",
            "zero_padding2d_62 (ZeroPadding2 (None, 10, 10, 256)  0           stage3_unit6_relu2[0][0]         \n",
            "__________________________________________________________________________________________________\n",
            "stage3_unit6_conv2 (Conv2D)     (None, 8, 8, 256)    589824      zero_padding2d_62[0][0]          \n",
            "__________________________________________________________________________________________________\n",
            "add_29 (Add)                    (None, 8, 8, 256)    0           stage3_unit6_conv2[0][0]         \n",
            "                                                                 add_28[0][0]                     \n",
            "__________________________________________________________________________________________________\n",
            "stage4_unit1_bn1 (BatchNormaliz (None, 8, 8, 256)    1024        add_29[0][0]                     \n",
            "__________________________________________________________________________________________________\n",
            "stage4_unit1_relu1 (Activation) (None, 8, 8, 256)    0           stage4_unit1_bn1[0][0]           \n",
            "__________________________________________________________________________________________________\n",
            "zero_padding2d_63 (ZeroPadding2 (None, 10, 10, 256)  0           stage4_unit1_relu1[0][0]         \n",
            "__________________________________________________________________________________________________\n",
            "stage4_unit1_conv1 (Conv2D)     (None, 4, 4, 512)    1179648     zero_padding2d_63[0][0]          \n",
            "__________________________________________________________________________________________________\n",
            "stage4_unit1_bn2 (BatchNormaliz (None, 4, 4, 512)    2048        stage4_unit1_conv1[0][0]         \n",
            "__________________________________________________________________________________________________\n",
            "stage4_unit1_relu2 (Activation) (None, 4, 4, 512)    0           stage4_unit1_bn2[0][0]           \n",
            "__________________________________________________________________________________________________\n",
            "zero_padding2d_64 (ZeroPadding2 (None, 6, 6, 512)    0           stage4_unit1_relu2[0][0]         \n",
            "__________________________________________________________________________________________________\n",
            "stage4_unit1_conv2 (Conv2D)     (None, 4, 4, 512)    2359296     zero_padding2d_64[0][0]          \n",
            "__________________________________________________________________________________________________\n",
            "stage4_unit1_sc (Conv2D)        (None, 4, 4, 512)    131072      stage4_unit1_relu1[0][0]         \n",
            "__________________________________________________________________________________________________\n",
            "add_30 (Add)                    (None, 4, 4, 512)    0           stage4_unit1_conv2[0][0]         \n",
            "                                                                 stage4_unit1_sc[0][0]            \n",
            "__________________________________________________________________________________________________\n",
            "stage4_unit2_bn1 (BatchNormaliz (None, 4, 4, 512)    2048        add_30[0][0]                     \n",
            "__________________________________________________________________________________________________\n",
            "stage4_unit2_relu1 (Activation) (None, 4, 4, 512)    0           stage4_unit2_bn1[0][0]           \n",
            "__________________________________________________________________________________________________\n",
            "zero_padding2d_65 (ZeroPadding2 (None, 6, 6, 512)    0           stage4_unit2_relu1[0][0]         \n",
            "__________________________________________________________________________________________________\n",
            "stage4_unit2_conv1 (Conv2D)     (None, 4, 4, 512)    2359296     zero_padding2d_65[0][0]          \n",
            "__________________________________________________________________________________________________\n",
            "stage4_unit2_bn2 (BatchNormaliz (None, 4, 4, 512)    2048        stage4_unit2_conv1[0][0]         \n",
            "__________________________________________________________________________________________________\n",
            "stage4_unit2_relu2 (Activation) (None, 4, 4, 512)    0           stage4_unit2_bn2[0][0]           \n",
            "__________________________________________________________________________________________________\n",
            "zero_padding2d_66 (ZeroPadding2 (None, 6, 6, 512)    0           stage4_unit2_relu2[0][0]         \n",
            "__________________________________________________________________________________________________\n",
            "stage4_unit2_conv2 (Conv2D)     (None, 4, 4, 512)    2359296     zero_padding2d_66[0][0]          \n",
            "__________________________________________________________________________________________________\n",
            "add_31 (Add)                    (None, 4, 4, 512)    0           stage4_unit2_conv2[0][0]         \n",
            "                                                                 add_30[0][0]                     \n",
            "__________________________________________________________________________________________________\n",
            "stage4_unit3_bn1 (BatchNormaliz (None, 4, 4, 512)    2048        add_31[0][0]                     \n",
            "__________________________________________________________________________________________________\n",
            "stage4_unit3_relu1 (Activation) (None, 4, 4, 512)    0           stage4_unit3_bn1[0][0]           \n",
            "__________________________________________________________________________________________________\n",
            "zero_padding2d_67 (ZeroPadding2 (None, 6, 6, 512)    0           stage4_unit3_relu1[0][0]         \n",
            "__________________________________________________________________________________________________\n",
            "stage4_unit3_conv1 (Conv2D)     (None, 4, 4, 512)    2359296     zero_padding2d_67[0][0]          \n",
            "__________________________________________________________________________________________________\n",
            "stage4_unit3_bn2 (BatchNormaliz (None, 4, 4, 512)    2048        stage4_unit3_conv1[0][0]         \n",
            "__________________________________________________________________________________________________\n",
            "stage4_unit3_relu2 (Activation) (None, 4, 4, 512)    0           stage4_unit3_bn2[0][0]           \n",
            "__________________________________________________________________________________________________\n",
            "zero_padding2d_68 (ZeroPadding2 (None, 6, 6, 512)    0           stage4_unit3_relu2[0][0]         \n",
            "__________________________________________________________________________________________________\n",
            "stage4_unit3_conv2 (Conv2D)     (None, 4, 4, 512)    2359296     zero_padding2d_68[0][0]          \n",
            "__________________________________________________________________________________________________\n",
            "add_32 (Add)                    (None, 4, 4, 512)    0           stage4_unit3_conv2[0][0]         \n",
            "                                                                 add_31[0][0]                     \n",
            "__________________________________________________________________________________________________\n",
            "bn1 (BatchNormalization)        (None, 4, 4, 512)    2048        add_32[0][0]                     \n",
            "__________________________________________________________________________________________________\n",
            "relu1 (Activation)              (None, 4, 4, 512)    0           bn1[0][0]                        \n",
            "__________________________________________________________________________________________________\n",
            "decoder_stage0_upsample (UpSamp (None, 8, 8, 512)    0           relu1[0][0]                      \n",
            "__________________________________________________________________________________________________\n",
            "concatenate_5 (Concatenate)     (None, 8, 8, 768)    0           decoder_stage0_upsample[0][0]    \n",
            "                                                                 stage4_unit1_relu1[0][0]         \n",
            "__________________________________________________________________________________________________\n",
            "decoder_stage0_conv1 (Conv2D)   (None, 8, 8, 256)    1769472     concatenate_5[0][0]              \n",
            "__________________________________________________________________________________________________\n",
            "decoder_stage0_bn1 (BatchNormal (None, 8, 8, 256)    1024        decoder_stage0_conv1[0][0]       \n",
            "__________________________________________________________________________________________________\n",
            "decoder_stage0_relu1 (Activatio (None, 8, 8, 256)    0           decoder_stage0_bn1[0][0]         \n",
            "__________________________________________________________________________________________________\n",
            "decoder_stage0_conv2 (Conv2D)   (None, 8, 8, 256)    589824      decoder_stage0_relu1[0][0]       \n",
            "__________________________________________________________________________________________________\n",
            "decoder_stage0_bn2 (BatchNormal (None, 8, 8, 256)    1024        decoder_stage0_conv2[0][0]       \n",
            "__________________________________________________________________________________________________\n",
            "decoder_stage0_relu2 (Activatio (None, 8, 8, 256)    0           decoder_stage0_bn2[0][0]         \n",
            "__________________________________________________________________________________________________\n",
            "decoder_stage1_upsample (UpSamp (None, 16, 16, 256)  0           decoder_stage0_relu2[0][0]       \n",
            "__________________________________________________________________________________________________\n",
            "concatenate_6 (Concatenate)     (None, 16, 16, 384)  0           decoder_stage1_upsample[0][0]    \n",
            "                                                                 stage3_unit1_relu1[0][0]         \n",
            "__________________________________________________________________________________________________\n",
            "decoder_stage1_conv1 (Conv2D)   (None, 16, 16, 128)  442368      concatenate_6[0][0]              \n",
            "__________________________________________________________________________________________________\n",
            "decoder_stage1_bn1 (BatchNormal (None, 16, 16, 128)  512         decoder_stage1_conv1[0][0]       \n",
            "__________________________________________________________________________________________________\n",
            "decoder_stage1_relu1 (Activatio (None, 16, 16, 128)  0           decoder_stage1_bn1[0][0]         \n",
            "__________________________________________________________________________________________________\n",
            "decoder_stage1_conv2 (Conv2D)   (None, 16, 16, 128)  147456      decoder_stage1_relu1[0][0]       \n",
            "__________________________________________________________________________________________________\n",
            "decoder_stage1_bn2 (BatchNormal (None, 16, 16, 128)  512         decoder_stage1_conv2[0][0]       \n",
            "__________________________________________________________________________________________________\n",
            "decoder_stage1_relu2 (Activatio (None, 16, 16, 128)  0           decoder_stage1_bn2[0][0]         \n",
            "__________________________________________________________________________________________________\n",
            "decoder_stage2_upsample (UpSamp (None, 32, 32, 128)  0           decoder_stage1_relu2[0][0]       \n",
            "__________________________________________________________________________________________________\n",
            "concatenate_7 (Concatenate)     (None, 32, 32, 192)  0           decoder_stage2_upsample[0][0]    \n",
            "                                                                 stage2_unit1_relu1[0][0]         \n",
            "__________________________________________________________________________________________________\n",
            "decoder_stage2_conv1 (Conv2D)   (None, 32, 32, 64)   110592      concatenate_7[0][0]              \n",
            "__________________________________________________________________________________________________\n",
            "decoder_stage2_bn1 (BatchNormal (None, 32, 32, 64)   256         decoder_stage2_conv1[0][0]       \n",
            "__________________________________________________________________________________________________\n",
            "decoder_stage2_relu1 (Activatio (None, 32, 32, 64)   0           decoder_stage2_bn1[0][0]         \n",
            "__________________________________________________________________________________________________\n",
            "decoder_stage2_conv2 (Conv2D)   (None, 32, 32, 64)   36864       decoder_stage2_relu1[0][0]       \n",
            "__________________________________________________________________________________________________\n",
            "decoder_stage2_bn2 (BatchNormal (None, 32, 32, 64)   256         decoder_stage2_conv2[0][0]       \n",
            "__________________________________________________________________________________________________\n",
            "decoder_stage2_relu2 (Activatio (None, 32, 32, 64)   0           decoder_stage2_bn2[0][0]         \n",
            "__________________________________________________________________________________________________\n",
            "decoder_stage3_upsample (UpSamp (None, 64, 64, 64)   0           decoder_stage2_relu2[0][0]       \n",
            "__________________________________________________________________________________________________\n",
            "concatenate_8 (Concatenate)     (None, 64, 64, 128)  0           decoder_stage3_upsample[0][0]    \n",
            "                                                                 relu0[0][0]                      \n",
            "__________________________________________________________________________________________________\n",
            "decoder_stage3_conv1 (Conv2D)   (None, 64, 64, 32)   36864       concatenate_8[0][0]              \n",
            "__________________________________________________________________________________________________\n",
            "decoder_stage3_bn1 (BatchNormal (None, 64, 64, 32)   128         decoder_stage3_conv1[0][0]       \n",
            "__________________________________________________________________________________________________\n",
            "decoder_stage3_relu1 (Activatio (None, 64, 64, 32)   0           decoder_stage3_bn1[0][0]         \n",
            "__________________________________________________________________________________________________\n",
            "decoder_stage3_conv2 (Conv2D)   (None, 64, 64, 32)   9216        decoder_stage3_relu1[0][0]       \n",
            "__________________________________________________________________________________________________\n",
            "decoder_stage3_bn2 (BatchNormal (None, 64, 64, 32)   128         decoder_stage3_conv2[0][0]       \n",
            "__________________________________________________________________________________________________\n",
            "decoder_stage3_relu2 (Activatio (None, 64, 64, 32)   0           decoder_stage3_bn2[0][0]         \n",
            "__________________________________________________________________________________________________\n",
            "decoder_stage4_upsample (UpSamp (None, 128, 128, 32) 0           decoder_stage3_relu2[0][0]       \n",
            "__________________________________________________________________________________________________\n",
            "decoder_stage4_conv1 (Conv2D)   (None, 128, 128, 16) 4608        decoder_stage4_upsample[0][0]    \n",
            "__________________________________________________________________________________________________\n",
            "decoder_stage4_bn1 (BatchNormal (None, 128, 128, 16) 64          decoder_stage4_conv1[0][0]       \n",
            "__________________________________________________________________________________________________\n",
            "decoder_stage4_relu1 (Activatio (None, 128, 128, 16) 0           decoder_stage4_bn1[0][0]         \n",
            "__________________________________________________________________________________________________\n",
            "decoder_stage4_conv2 (Conv2D)   (None, 128, 128, 16) 2304        decoder_stage4_relu1[0][0]       \n",
            "__________________________________________________________________________________________________\n",
            "decoder_stage4_bn2 (BatchNormal (None, 128, 128, 16) 64          decoder_stage4_conv2[0][0]       \n",
            "__________________________________________________________________________________________________\n",
            "decoder_stage4_relu2 (Activatio (None, 128, 128, 16) 0           decoder_stage4_bn2[0][0]         \n",
            "__________________________________________________________________________________________________\n",
            "final_conv (Conv2D)             (None, 128, 128, 1)  145         decoder_stage4_relu2[0][0]       \n",
            "__________________________________________________________________________________________________\n",
            "sigmoid (Activation)            (None, 128, 128, 1)  0           final_conv[0][0]                 \n",
            "==================================================================================================\n",
            "Total params: 24,449,876\n",
            "Trainable params: 24,432,530\n",
            "Non-trainable params: 17,346\n",
            "__________________________________________________________________________________________________\n"
          ],
          "name": "stdout"
        }
      ]
    },
    {
      "cell_type": "markdown",
      "metadata": {
        "colab_type": "text",
        "id": "6UYvb8OdpLV5"
      },
      "source": [
        "### 10. Fit your model using model.fit function.\n",
        "Hint - As it might take long time to run. Run it for only 1 or 2 epochs."
      ]
    },
    {
      "cell_type": "code",
      "metadata": {
        "colab_type": "code",
        "id": "bFw1Yq06pQbp",
        "outputId": "babdf070-85b6-43c4-d388-24d38b86335d",
        "colab": {
          "base_uri": "https://localhost:8080/",
          "height": 68
        }
      },
      "source": [
        "results = model.fit(X_train, y_train, batch_size=32, epochs=1, \n",
        "                    validation_data=(X_valid, y_valid))"
      ],
      "execution_count": 0,
      "outputs": [
        {
          "output_type": "stream",
          "text": [
            "Train on 3400 samples, validate on 600 samples\n",
            "Epoch 1/1\n",
            "3400/3400 [==============================] - 1509s 444ms/step - loss: 0.0718 - iou_score: 0.1752 - val_loss: 0.2177 - val_iou_score: 0.1388\n"
          ],
          "name": "stdout"
        }
      ]
    },
    {
      "cell_type": "markdown",
      "metadata": {
        "colab_type": "text",
        "id": "iH34vMq9pSnh"
      },
      "source": [
        "### 11.Predict on val set using model.predict funtion and store in preds_val variable.\n",
        "\n"
      ]
    },
    {
      "cell_type": "code",
      "metadata": {
        "colab_type": "code",
        "id": "FymN5QpopXW-",
        "colab": {}
      },
      "source": [
        "image_height, image_width = 128,128\n",
        "#print(X_valid[0].shape)"
      ],
      "execution_count": 0,
      "outputs": []
    },
    {
      "cell_type": "code",
      "metadata": {
        "colab_type": "code",
        "id": "WK3QdJoOR0lk",
        "colab": {}
      },
      "source": [
        "preds_val = model.predict(X_valid)"
      ],
      "execution_count": 0,
      "outputs": []
    },
    {
      "cell_type": "code",
      "metadata": {
        "colab_type": "code",
        "id": "uKkpE3vEpXi8",
        "colab": {}
      },
      "source": [
        "#Get the threshold predictions to look at refined results.\n",
        "preds_val_t = (preds_val > 0.5).astype(np.uint8)"
      ],
      "execution_count": 0,
      "outputs": []
    },
    {
      "cell_type": "code",
      "metadata": {
        "colab_type": "code",
        "id": "Pyn3RyCRpaRH",
        "colab": {}
      },
      "source": [
        "#Plot a sample\n",
        "def plot_sample(X, y, preds, binary_preds, ix=None):\n",
        "    if ix is None:\n",
        "        ix = random.randint(0, len(X))\n",
        "\n",
        "    has_mask = y[ix].max() > 0\n",
        "\n",
        "    fig, ax = plt.subplots(1, 4, figsize=(20, 10))\n",
        "    ax[0].imshow(X[ix, ..., 0], cmap='seismic')\n",
        "    if has_mask:\n",
        "        ax[0].contour(y[ix].squeeze(), colors='k', levels=[0.5])\n",
        "    ax[0].set_title('Seismic')\n",
        "\n",
        "    ax[1].imshow(y[ix].squeeze())\n",
        "    ax[1].set_title('Salt')\n",
        "\n",
        "    ax[2].imshow(preds[ix].squeeze(), vmin=0, vmax=1)\n",
        "    if has_mask:\n",
        "        ax[2].contour(y[ix].squeeze(), colors='k', levels=[0.5])\n",
        "    ax[2].set_title('Salt Predicted')\n",
        "    \n",
        "    ax[3].imshow(binary_preds[ix].squeeze(), vmin=0, vmax=1)\n",
        "    if has_mask:\n",
        "        ax[3].contour(y[ix].squeeze(), colors='k', levels=[0.5])\n",
        "    ax[3].set_title('Salt Predicted binary');"
      ],
      "execution_count": 0,
      "outputs": []
    },
    {
      "cell_type": "code",
      "metadata": {
        "colab_type": "code",
        "id": "8AFqfIQ-Ywqg",
        "colab": {}
      },
      "source": [
        ""
      ],
      "execution_count": 0,
      "outputs": []
    },
    {
      "cell_type": "code",
      "metadata": {
        "colab_type": "code",
        "id": "s_h5fcgYpbyR",
        "outputId": "a54876e2-41f2-4ed9-b266-a232a9023bb6",
        "colab": {
          "base_uri": "https://localhost:8080/",
          "height": 308
        }
      },
      "source": [
        "# Check if valid data looks all right\n",
        "plot_sample(X_valid, y_valid, preds_val, preds_val_t, ix=15)"
      ],
      "execution_count": 0,
      "outputs": [
        {
          "output_type": "display_data",
          "data": {
            "image/png": "[encoded data removed]",
            "text/plain": [
              "<Figure size 1440x720 with 4 Axes>"
            ]
          },
          "metadata": {
            "tags": []
          }
        }
      ]
    },
    {
      "cell_type": "markdown",
      "metadata": {
        "colab_type": "text",
        "id": "oasnhlaDpeU0"
      },
      "source": [
        "If you are getting good results- Congratulations.\n",
        "If you are not, try to explore what might be the reason."
      ]
    },
    {
      "cell_type": "markdown",
      "metadata": {
        "colab_type": "text",
        "id": "yllJR0PQpm4M"
      },
      "source": [
        "# Text generation using a RNN"
      ]
    },
    {
      "cell_type": "markdown",
      "metadata": {
        "colab_type": "text",
        "id": "2W6g03QsptwG"
      },
      "source": [
        "Given a sequence of words from this data, train a model to predict the next word in the sequence. Longer sequences of text can be generated by calling the model repeatedly."
      ]
    },
    {
      "cell_type": "markdown",
      "metadata": {
        "colab_type": "text",
        "id": "hbd3E0IuHwjz"
      },
      "source": [
        "**Mount your Google Drive**"
      ]
    },
    {
      "cell_type": "code",
      "metadata": {
        "colab_type": "code",
        "id": "Dikrw1ylHtAL",
        "colab": {}
      },
      "source": [
        "\n",
        "images_zip_path = path + \"//data.zip\""
      ],
      "execution_count": 0,
      "outputs": []
    },
    {
      "cell_type": "code",
      "metadata": {
        "colab_type": "code",
        "id": "8_uTQu4nIGzm",
        "colab": {}
      },
      "source": [
        "from zipfile import ZipFile\n",
        "with ZipFile(images_zip_path,'r') as z:\n",
        "  z.extractall()"
      ],
      "execution_count": 0,
      "outputs": []
    },
    {
      "cell_type": "markdown",
      "metadata": {
        "colab_type": "text",
        "id": "fnIX_mLXHdxS"
      },
      "source": [
        "### Import Keras and other libraries"
      ]
    },
    {
      "cell_type": "code",
      "metadata": {
        "colab_type": "code",
        "id": "0TmrQuvpHdxU",
        "colab": {}
      },
      "source": [
        "dataFileslist=[]\n",
        "dataFileslist = os.listdir('/gdrive/My Drive/Colab Notebooks/Lab and Assignments 9th/external/data')"
      ],
      "execution_count": 0,
      "outputs": []
    },
    {
      "cell_type": "code",
      "metadata": {
        "colab_type": "code",
        "id": "8hdbf1uz5mH5",
        "colab": {}
      },
      "source": [
        "import glob\n",
        "\n",
        "from sklearn.utils import shuffle\n",
        "import numpy as np\n",
        "\n",
        "from keras.preprocessing.text import Tokenizer\n",
        "from keras.models import Sequential, load_model\n",
        "from keras.layers import LSTM, Dense, Dropout, Embedding, Masking, Bidirectional\n",
        "from keras.optimizers import Adam\n",
        "from keras import backend"
      ],
      "execution_count": 0,
      "outputs": []
    },
    {
      "cell_type": "code",
      "metadata": {
        "colab_type": "code",
        "id": "5FKzMMdR7Npo",
        "colab": {}
      },
      "source": [
        "# Run this cell to mount your Google Drive.\n",
        "from google.colab import drive\n",
        "drive.mount('/content/drive')"
      ],
      "execution_count": 0,
      "outputs": []
    },
    {
      "cell_type": "markdown",
      "metadata": {
        "colab_type": "text",
        "id": "zKBXQflGlPjG"
      },
      "source": [
        "## Download data\n",
        "Reference: Data is collected from http://www.gutenberg.org\n",
        "\n",
        "For the lab purpose, you can load the dataset provided by Great Learning"
      ]
    },
    {
      "cell_type": "markdown",
      "metadata": {
        "colab_type": "text",
        "id": "s321mV4DHdxZ"
      },
      "source": [
        "### Load the Oscar Wilde dataset\n",
        "\n",
        "Store all the \".txt\" file names in a list"
      ]
    },
    {
      "cell_type": "code",
      "metadata": {
        "colab_type": "code",
        "id": "VUanlzNJHdxa",
        "colab": {}
      },
      "source": [
        "dataFileslist=[]\n",
        "dataFileslist = os.listdir('/gdrive/My Drive/Colab Notebooks/Lab and Assignments 9th/external/data')"
      ],
      "execution_count": 0,
      "outputs": []
    },
    {
      "cell_type": "code",
      "metadata": {
        "colab_type": "code",
        "id": "Wi-fpCGB7kSZ",
        "colab": {}
      },
      "source": [
        "dataFiles = glob.glob(\"./data/*.txt\")"
      ],
      "execution_count": 0,
      "outputs": []
    },
    {
      "cell_type": "markdown",
      "metadata": {
        "colab_type": "text",
        "id": "glr4hv6uZkL-"
      },
      "source": [
        "### Read the data\n",
        "\n",
        "Read contents of every file from the list and append the text in a new list"
      ]
    },
    {
      "cell_type": "code",
      "metadata": {
        "colab_type": "code",
        "id": "zLrMMjrkRt9x",
        "colab": {}
      },
      "source": [
        "codetext = []\n",
        "bookranges = []\n",
        "for file in dataFiles:\n",
        "    filetext = open(file, \"r\")\n",
        "    start = len(codetext)\n",
        "    codetext.append(filetext.read())\n",
        "    end = len(codetext)\n",
        "    bookranges.append({\"start\": start, \"end\": end, \"name\": file.rsplit(\"/\", 1)[-1]})\n",
        "    filetext.close()"
      ],
      "execution_count": 0,
      "outputs": []
    },
    {
      "cell_type": "markdown",
      "metadata": {
        "colab_type": "text",
        "id": "jMX-Fu-GHdxj"
      },
      "source": [
        "## Process the text\n",
        "Initialize and fit the tokenizer"
      ]
    },
    {
      "cell_type": "code",
      "metadata": {
        "colab_type": "code",
        "id": "zQf1AV8wHdxl",
        "colab": {}
      },
      "source": [
        "tokenizer = Tokenizer(lower=True, filters='!\"#$%&()*+,-./:;<=>?@[\\\\]^_`{|}~\\t\\n')\n",
        "tokenizer.fit_on_texts(codetext)"
      ],
      "execution_count": 0,
      "outputs": []
    },
    {
      "cell_type": "markdown",
      "metadata": {
        "colab_type": "text",
        "id": "vpZ0A2-xHdxp"
      },
      "source": [
        "### Vectorize the text\n",
        "\n",
        "Before training, we need to map strings to a numerical representation. Create two lookup tables: one mapping words to numbers, and another for numbers to words."
      ]
    },
    {
      "cell_type": "code",
      "metadata": {
        "colab_type": "code",
        "id": "_Nsq-rSPHdxq",
        "colab": {}
      },
      "source": [
        "word_idx = tokenizer.word_index\n",
        "idx_word = tokenizer.index_word"
      ],
      "execution_count": 0,
      "outputs": []
    },
    {
      "cell_type": "markdown",
      "metadata": {
        "colab_type": "text",
        "id": "YMYdjx4aHdxu"
      },
      "source": [
        "Get the word count for every word and also get the total number of words."
      ]
    },
    {
      "cell_type": "code",
      "metadata": {
        "colab_type": "code",
        "id": "ioEZ2c21Hdxw",
        "colab": {}
      },
      "source": [
        "word_counts = tokenizer.word_counts\n",
        "num_words = len(word_idx) + 1"
      ],
      "execution_count": 0,
      "outputs": []
    },
    {
      "cell_type": "markdown",
      "metadata": {
        "colab_type": "text",
        "id": "dWUBr9rHHdx0"
      },
      "source": [
        "Convert text to sequence of numbers"
      ]
    },
    {
      "cell_type": "code",
      "metadata": {
        "colab_type": "code",
        "id": "dwLl0BWKHdx2",
        "colab": {}
      },
      "source": [
        "sequences = tokenizer.texts_to_sequences(codetext)"
      ],
      "execution_count": 0,
      "outputs": []
    },
    {
      "cell_type": "markdown",
      "metadata": {
        "colab_type": "text",
        "id": "GkpK8McUHdx6"
      },
      "source": [
        "### Generate Features and Labels"
      ]
    },
    {
      "cell_type": "code",
      "metadata": {
        "colab_type": "code",
        "id": "zxhQamjwHdx7",
        "colab": {}
      },
      "source": [
        "features = []\n",
        "labels = []\n",
        "\n",
        "training_length = 50\n",
        "# Iterate through the sequences of tokens\n",
        "for seq in sequences:\n",
        "    # Create multiple training examples from each sequence\n",
        "    for i in range(training_length, training_length+300):\n",
        "        # Extract the features and label\n",
        "        extract = seq[i - training_length: i - training_length + 20]\n",
        "\n",
        "        # Set the features and label\n",
        "        features.append(extract[:-1])\n",
        "        labels.append(extract[-1])"
      ],
      "execution_count": 0,
      "outputs": []
    },
    {
      "cell_type": "markdown",
      "metadata": {
        "colab_type": "text",
        "id": "bbmsf23Bymwe"
      },
      "source": [
        "### The prediction task"
      ]
    },
    {
      "cell_type": "markdown",
      "metadata": {
        "colab_type": "text",
        "id": "wssHQ1oGymwe"
      },
      "source": [
        "Given a word, or a sequence of words, what is the most probable next word? This is the task we're training the model to perform. The input to the model will be a sequence of words, and we train the model to predict the output—the following word at each time step.\n",
        "\n",
        "Since RNNs maintain an internal state that depends on the previously seen elements, given all the words computed until this moment, what is the next word?"
      ]
    },
    {
      "cell_type": "markdown",
      "metadata": {
        "colab_type": "text",
        "id": "T2bsVOl7HdyA"
      },
      "source": [
        "### Generate training and testing data"
      ]
    },
    {
      "cell_type": "code",
      "metadata": {
        "colab_type": "code",
        "id": "j7-IsvynHdyB",
        "colab": {}
      },
      "source": [
        "from sklearn.utils import shuffle\n",
        "import numpy as np\n",
        "\n",
        "features, labels = shuffle(features, labels, random_state=1)\n",
        "\n",
        "# Decide on number of samples for training\n",
        "train_end = int(0.7 * len(labels))\n",
        "\n",
        "train_features = np.array(features[:train_end])\n",
        "valid_features = np.array(features[train_end:])\n",
        "\n",
        "train_labels = labels[:train_end]\n",
        "valid_labels = labels[train_end:]\n",
        "\n",
        "# Convert to arrays\n",
        "X_train, X_valid = np.array(train_features), np.array(valid_features)\n",
        "\n",
        "# Using int8 for memory savings\n",
        "y_train = np.zeros((len(train_labels), num_words), dtype=np.int8)\n",
        "y_valid = np.zeros((len(valid_labels), num_words), dtype=np.int8)\n",
        "\n",
        "# One hot encoding of labels\n",
        "for example_index, word_index in enumerate(train_labels):\n",
        "    y_train[example_index, word_index] = 1\n",
        "\n",
        "for example_index, word_index in enumerate(valid_labels):\n",
        "    y_valid[example_index, word_index] = 1"
      ],
      "execution_count": 0,
      "outputs": []
    },
    {
      "cell_type": "markdown",
      "metadata": {
        "colab_type": "text",
        "id": "juT1mZrUHdyE"
      },
      "source": [
        "This is just to check the features and labels"
      ]
    },
    {
      "cell_type": "code",
      "metadata": {
        "colab_type": "code",
        "id": "wkdmNbgjHdyF",
        "outputId": "53367c0f-b047-4ae6-8913-df26e9069e7b",
        "colab": {
          "base_uri": "https://localhost:8080/",
          "height": 173
        }
      },
      "source": [
        "for i, sequence in enumerate(X_train[:2]):\n",
        "    text = []\n",
        "#     print(i, sequence)\n",
        "    for idx in sequence:\n",
        "        text.append(idx_word[idx])\n",
        "        \n",
        "    print('Features: ' + ' '.join(text)+'\\n')\n",
        "    print('Label: ' + idx_word[np.argmax(y_train[i])] + '\\n')"
      ],
      "execution_count": 0,
      "outputs": [
        {
          "output_type": "stream",
          "text": [
            "Features: street act iv same as act ii time the present place london the action of the play is completed\n",
            "\n",
            "Label: within\n",
            "\n",
            "Features: release date october 26 2014 ebook 887 this file was first posted on april 24 1997 language english character\n",
            "\n",
            "Label: set\n",
            "\n"
          ],
          "name": "stdout"
        }
      ]
    },
    {
      "cell_type": "markdown",
      "metadata": {
        "colab_type": "text",
        "id": "r6oUuElIMgVx"
      },
      "source": [
        "## Build The Model"
      ]
    },
    {
      "cell_type": "markdown",
      "metadata": {
        "colab_type": "text",
        "id": "m8gPwEjRzf-Z"
      },
      "source": [
        "Use `keras.Sequential` to define the model. For this simple example three layers are used to define our model:\n",
        "\n",
        "* `keras.layers.Embedding`: The input layer. A trainable lookup table that will map the numbers of each character to a vector with `embedding_dim` dimensions;\n",
        "* `keras.layers.LSTM`: A type of RNN with size `units=rnn_units` (You can also use a GRU layer here.)\n",
        "* `keras.layers.Dense`: The output layer, with `num_words` outputs."
      ]
    },
    {
      "cell_type": "code",
      "metadata": {
        "colab_type": "code",
        "id": "GKpCQFZLHdyN",
        "outputId": "8058d308-d482-4927-b9c9-2e4e8c0e44ed",
        "colab": {
          "base_uri": "https://localhost:8080/",
          "height": 598
        }
      },
      "source": [
        "model = Sequential()\n",
        "\n",
        "# Embedding layer\n",
        "model.add(\n",
        "    Embedding(\n",
        "        input_dim=len(word_idx) + 1,\n",
        "        output_dim=100,\n",
        "        weights=None,\n",
        "        trainable=True))\n",
        "\n",
        "# Recurrent layer\n",
        "model.add(\n",
        "    LSTM(\n",
        "        64, return_sequences=False, dropout=0.1,\n",
        "        recurrent_dropout=0.1))\n",
        "\n",
        "# Fully connected layer\n",
        "model.add(Dense(64, activation='relu'))\n",
        "\n",
        "# Dropout for regularization\n",
        "model.add(Dropout(0.5))\n",
        "\n",
        "# Output layer\n",
        "model.add(Dense(num_words, activation='softmax'))\n",
        "\n",
        "# Compile the model\n",
        "model.compile(\n",
        "    optimizer='adam', loss='categorical_crossentropy', metrics=['accuracy'])\n",
        "\n",
        "model.summary()"
      ],
      "execution_count": 0,
      "outputs": [
        {
          "output_type": "stream",
          "text": [
            "WARNING: Logging before flag parsing goes to stderr.\n",
            "W0708 00:23:39.580328 140157170308992 deprecation_wrapper.py:119] From /usr/local/lib/python3.6/dist-packages/keras/backend/tensorflow_backend.py:74: The name tf.get_default_graph is deprecated. Please use tf.compat.v1.get_default_graph instead.\n",
            "\n",
            "W0708 00:23:39.631815 140157170308992 deprecation_wrapper.py:119] From /usr/local/lib/python3.6/dist-packages/keras/backend/tensorflow_backend.py:517: The name tf.placeholder is deprecated. Please use tf.compat.v1.placeholder instead.\n",
            "\n",
            "W0708 00:23:39.643079 140157170308992 deprecation_wrapper.py:119] From /usr/local/lib/python3.6/dist-packages/keras/backend/tensorflow_backend.py:4138: The name tf.random_uniform is deprecated. Please use tf.random.uniform instead.\n",
            "\n",
            "W0708 00:23:39.773962 140157170308992 deprecation_wrapper.py:119] From /usr/local/lib/python3.6/dist-packages/keras/backend/tensorflow_backend.py:133: The name tf.placeholder_with_default is deprecated. Please use tf.compat.v1.placeholder_with_default instead.\n",
            "\n",
            "W0708 00:23:39.788422 140157170308992 deprecation.py:506] From /usr/local/lib/python3.6/dist-packages/keras/backend/tensorflow_backend.py:3445: calling dropout (from tensorflow.python.ops.nn_ops) with keep_prob is deprecated and will be removed in a future version.\n",
            "Instructions for updating:\n",
            "Please use `rate` instead of `keep_prob`. Rate should be set to `rate = 1 - keep_prob`.\n",
            "W0708 00:23:40.313206 140157170308992 deprecation_wrapper.py:119] From /usr/local/lib/python3.6/dist-packages/keras/optimizers.py:790: The name tf.train.Optimizer is deprecated. Please use tf.compat.v1.train.Optimizer instead.\n",
            "\n",
            "W0708 00:23:40.342302 140157170308992 deprecation_wrapper.py:119] From /usr/local/lib/python3.6/dist-packages/keras/backend/tensorflow_backend.py:3295: The name tf.log is deprecated. Please use tf.math.log instead.\n",
            "\n"
          ],
          "name": "stderr"
        },
        {
          "output_type": "stream",
          "text": [
            "_________________________________________________________________\n",
            "Layer (type)                 Output Shape              Param #   \n",
            "=================================================================\n",
            "embedding_1 (Embedding)      (None, None, 100)         3283900   \n",
            "_________________________________________________________________\n",
            "lstm_1 (LSTM)                (None, 64)                42240     \n",
            "_________________________________________________________________\n",
            "dense_1 (Dense)              (None, 64)                4160      \n",
            "_________________________________________________________________\n",
            "dropout_1 (Dropout)          (None, 64)                0         \n",
            "_________________________________________________________________\n",
            "dense_2 (Dense)              (None, 32839)             2134535   \n",
            "=================================================================\n",
            "Total params: 5,464,835\n",
            "Trainable params: 5,464,835\n",
            "Non-trainable params: 0\n",
            "_________________________________________________________________\n"
          ],
          "name": "stdout"
        }
      ]
    },
    {
      "cell_type": "markdown",
      "metadata": {
        "colab_type": "text",
        "id": "vL3tUp1UHdyS"
      },
      "source": [
        "For each word the model looks up the embedding, runs the LSTM one timestep with the embedding as input, and applies the dense layer to generate logits predicting the log-liklihood of the next word."
      ]
    },
    {
      "cell_type": "markdown",
      "metadata": {
        "colab_type": "text",
        "id": "LJL0Q0YPY6Ee"
      },
      "source": [
        "## Train the model"
      ]
    },
    {
      "cell_type": "code",
      "metadata": {
        "colab_type": "code",
        "id": "6o84puBcHdyV",
        "outputId": "fd061d61-16e2-4db6-909f-2be0ecbd15f1",
        "colab": {
          "base_uri": "https://localhost:8080/",
          "height": 1000
        }
      },
      "source": [
        "h = model.fit(X_train, y_train, epochs = 100, batch_size = 50, \n",
        "          verbose = 1)## Train the model"
      ],
      "execution_count": 0,
      "outputs": [
        {
          "output_type": "stream",
          "text": [
            "W0708 00:24:22.750337 140157170308992 deprecation.py:323] From /usr/local/lib/python3.6/dist-packages/tensorflow/python/ops/math_grad.py:1250: add_dispatch_support.<locals>.wrapper (from tensorflow.python.ops.array_ops) is deprecated and will be removed in a future version.\n",
            "Instructions for updating:\n",
            "Use tf.where in 2.0, which has the same broadcast rule as np.where\n"
          ],
          "name": "stderr"
        },
        {
          "output_type": "stream",
          "text": [
            "Epoch 1/100\n",
            "6510/6510 [==============================] - 24s 4ms/step - loss: 8.2640 - acc: 0.0582\n",
            "Epoch 2/100\n",
            "6510/6510 [==============================] - 22s 3ms/step - loss: 6.7232 - acc: 0.0602\n",
            "Epoch 3/100\n",
            "6510/6510 [==============================] - 22s 3ms/step - loss: 6.4408 - acc: 0.0622\n",
            "Epoch 4/100\n",
            "6510/6510 [==============================] - 22s 3ms/step - loss: 6.2784 - acc: 0.0594\n",
            "Epoch 5/100\n",
            "6510/6510 [==============================] - 22s 3ms/step - loss: 6.1492 - acc: 0.0664\n",
            "Epoch 6/100\n",
            "6510/6510 [==============================] - 21s 3ms/step - loss: 6.0164 - acc: 0.0708\n",
            "Epoch 7/100\n",
            "6510/6510 [==============================] - 22s 3ms/step - loss: 5.8757 - acc: 0.0680\n",
            "Epoch 8/100\n",
            "6510/6510 [==============================] - 22s 3ms/step - loss: 5.7513 - acc: 0.0716\n",
            "Epoch 9/100\n",
            "6510/6510 [==============================] - 22s 3ms/step - loss: 5.6410 - acc: 0.0773\n",
            "Epoch 10/100\n",
            "6510/6510 [==============================] - 22s 3ms/step - loss: 5.5448 - acc: 0.0805\n",
            "Epoch 11/100\n",
            "6510/6510 [==============================] - 22s 3ms/step - loss: 5.4660 - acc: 0.0888\n",
            "Epoch 12/100\n",
            "6510/6510 [==============================] - 21s 3ms/step - loss: 5.3892 - acc: 0.0929\n",
            "Epoch 13/100\n",
            "6510/6510 [==============================] - 21s 3ms/step - loss: 5.2985 - acc: 0.0971\n",
            "Epoch 14/100\n",
            "6510/6510 [==============================] - 21s 3ms/step - loss: 5.2010 - acc: 0.1009\n",
            "Epoch 15/100\n",
            "6510/6510 [==============================] - 22s 3ms/step - loss: 5.1093 - acc: 0.1086\n",
            "Epoch 16/100\n",
            "6510/6510 [==============================] - 22s 3ms/step - loss: 5.0142 - acc: 0.1157\n",
            "Epoch 17/100\n",
            "6510/6510 [==============================] - 22s 3ms/step - loss: 4.8804 - acc: 0.1350\n",
            "Epoch 18/100\n",
            "6510/6510 [==============================] - 22s 3ms/step - loss: 4.7559 - acc: 0.1518\n",
            "Epoch 19/100\n",
            "6510/6510 [==============================] - 22s 3ms/step - loss: 4.6387 - acc: 0.1668\n",
            "Epoch 20/100\n",
            "6510/6510 [==============================] - 22s 3ms/step - loss: 4.5106 - acc: 0.1823\n",
            "Epoch 21/100\n",
            "6510/6510 [==============================] - 22s 3ms/step - loss: 4.4147 - acc: 0.1934\n",
            "Epoch 22/100\n",
            "6510/6510 [==============================] - 23s 3ms/step - loss: 4.2908 - acc: 0.2123\n",
            "Epoch 23/100\n",
            "6510/6510 [==============================] - 22s 3ms/step - loss: 4.1763 - acc: 0.2306\n",
            "Epoch 24/100\n",
            "6510/6510 [==============================] - 22s 3ms/step - loss: 4.0774 - acc: 0.2407\n",
            "Epoch 25/100\n",
            "6510/6510 [==============================] - 22s 3ms/step - loss: 3.9712 - acc: 0.2642\n",
            "Epoch 26/100\n",
            "6510/6510 [==============================] - 22s 3ms/step - loss: 3.8801 - acc: 0.2693\n",
            "Epoch 27/100\n",
            "6510/6510 [==============================] - 22s 3ms/step - loss: 3.7929 - acc: 0.2806\n",
            "Epoch 28/100\n",
            "6510/6510 [==============================] - 22s 3ms/step - loss: 3.7130 - acc: 0.2929\n",
            "Epoch 29/100\n",
            "6510/6510 [==============================] - 22s 3ms/step - loss: 3.6239 - acc: 0.3063\n",
            "Epoch 30/100\n",
            "6510/6510 [==============================] - 22s 3ms/step - loss: 3.5392 - acc: 0.3230\n",
            "Epoch 31/100\n",
            "6510/6510 [==============================] - 21s 3ms/step - loss: 3.4758 - acc: 0.3284\n",
            "Epoch 32/100\n",
            "6510/6510 [==============================] - 21s 3ms/step - loss: 3.3722 - acc: 0.3378\n",
            "Epoch 33/100\n",
            "6510/6510 [==============================] - 22s 3ms/step - loss: 3.3091 - acc: 0.3470\n",
            "Epoch 34/100\n",
            "6510/6510 [==============================] - 21s 3ms/step - loss: 3.2183 - acc: 0.3621\n",
            "Epoch 35/100\n",
            "6510/6510 [==============================] - 21s 3ms/step - loss: 3.1437 - acc: 0.3688\n",
            "Epoch 36/100\n",
            "6510/6510 [==============================] - 23s 3ms/step - loss: 3.1145 - acc: 0.3639\n",
            "Epoch 37/100\n",
            "6510/6510 [==============================] - 23s 3ms/step - loss: 3.0590 - acc: 0.3767\n",
            "Epoch 38/100\n",
            "6510/6510 [==============================] - 24s 4ms/step - loss: 2.9823 - acc: 0.3856\n",
            "Epoch 39/100\n",
            "6510/6510 [==============================] - 22s 3ms/step - loss: 2.9150 - acc: 0.3891\n",
            "Epoch 40/100\n",
            "6510/6510 [==============================] - 23s 4ms/step - loss: 2.8664 - acc: 0.3994\n",
            "Epoch 41/100\n",
            "6510/6510 [==============================] - 22s 3ms/step - loss: 2.8021 - acc: 0.4051\n",
            "Epoch 42/100\n",
            "6510/6510 [==============================] - 23s 4ms/step - loss: 2.7275 - acc: 0.4172\n",
            "Epoch 43/100\n",
            "6510/6510 [==============================] - 23s 3ms/step - loss: 2.6943 - acc: 0.4151\n",
            "Epoch 44/100\n",
            "6510/6510 [==============================] - 23s 4ms/step - loss: 2.6458 - acc: 0.4270\n",
            "Epoch 45/100\n",
            "6510/6510 [==============================] - 22s 3ms/step - loss: 2.6029 - acc: 0.4266\n",
            "Epoch 46/100\n",
            "6510/6510 [==============================] - 22s 3ms/step - loss: 2.5407 - acc: 0.4370\n",
            "Epoch 47/100\n",
            "6510/6510 [==============================] - 23s 4ms/step - loss: 2.5033 - acc: 0.4467\n",
            "Epoch 48/100\n",
            "6510/6510 [==============================] - 24s 4ms/step - loss: 2.4471 - acc: 0.4528\n",
            "Epoch 49/100\n",
            "6510/6510 [==============================] - 24s 4ms/step - loss: 2.3934 - acc: 0.4608\n",
            "Epoch 50/100\n",
            "6510/6510 [==============================] - 24s 4ms/step - loss: 2.3689 - acc: 0.4584\n",
            "Epoch 51/100\n",
            "6510/6510 [==============================] - 25s 4ms/step - loss: 2.3269 - acc: 0.4740\n",
            "Epoch 52/100\n",
            "6510/6510 [==============================] - 24s 4ms/step - loss: 2.2682 - acc: 0.4777\n",
            "Epoch 53/100\n",
            "6510/6510 [==============================] - 24s 4ms/step - loss: 2.2497 - acc: 0.4739\n",
            "Epoch 54/100\n",
            "6510/6510 [==============================] - 23s 4ms/step - loss: 2.2151 - acc: 0.4842\n",
            "Epoch 55/100\n",
            "6510/6510 [==============================] - 23s 4ms/step - loss: 2.1700 - acc: 0.4822\n",
            "Epoch 56/100\n",
            "6510/6510 [==============================] - 22s 3ms/step - loss: 2.1283 - acc: 0.4989\n",
            "Epoch 57/100\n",
            "6510/6510 [==============================] - 23s 4ms/step - loss: 2.0733 - acc: 0.5003\n",
            "Epoch 58/100\n",
            "6510/6510 [==============================] - 23s 4ms/step - loss: 2.0526 - acc: 0.5075\n",
            "Epoch 59/100\n",
            "6510/6510 [==============================] - 23s 4ms/step - loss: 2.0210 - acc: 0.5163\n",
            "Epoch 60/100\n",
            "6510/6510 [==============================] - 23s 3ms/step - loss: 1.9624 - acc: 0.5152\n",
            "Epoch 61/100\n",
            "6510/6510 [==============================] - 23s 3ms/step - loss: 1.9382 - acc: 0.5237\n",
            "Epoch 62/100\n",
            "6510/6510 [==============================] - 23s 3ms/step - loss: 1.9179 - acc: 0.5273\n",
            "Epoch 63/100\n",
            "6510/6510 [==============================] - 22s 3ms/step - loss: 1.8729 - acc: 0.5369\n",
            "Epoch 64/100\n",
            "6510/6510 [==============================] - 22s 3ms/step - loss: 1.8372 - acc: 0.5432\n",
            "Epoch 65/100\n",
            "6510/6510 [==============================] - 22s 3ms/step - loss: 1.7898 - acc: 0.5515\n",
            "Epoch 66/100\n",
            "6510/6510 [==============================] - 22s 3ms/step - loss: 1.7771 - acc: 0.5525\n",
            "Epoch 67/100\n",
            "6510/6510 [==============================] - 22s 3ms/step - loss: 1.7603 - acc: 0.5541\n",
            "Epoch 68/100\n",
            "6510/6510 [==============================] - 22s 3ms/step - loss: 1.7204 - acc: 0.5584\n",
            "Epoch 69/100\n",
            "6510/6510 [==============================] - 22s 3ms/step - loss: 1.6777 - acc: 0.5757\n",
            "Epoch 70/100\n",
            "6510/6510 [==============================] - 22s 3ms/step - loss: 1.6534 - acc: 0.5750\n",
            "Epoch 71/100\n",
            "6510/6510 [==============================] - 22s 3ms/step - loss: 1.6613 - acc: 0.5704\n",
            "Epoch 72/100\n",
            "6510/6510 [==============================] - 22s 3ms/step - loss: 1.6270 - acc: 0.5788\n",
            "Epoch 73/100\n",
            "6510/6510 [==============================] - 22s 3ms/step - loss: 1.6130 - acc: 0.5762\n",
            "Epoch 74/100\n",
            "6510/6510 [==============================] - 22s 3ms/step - loss: 1.5956 - acc: 0.5932\n",
            "Epoch 75/100\n",
            "6510/6510 [==============================] - 22s 3ms/step - loss: 1.5757 - acc: 0.5831\n",
            "Epoch 76/100\n",
            "6510/6510 [==============================] - 22s 3ms/step - loss: 1.5379 - acc: 0.5909\n",
            "Epoch 77/100\n",
            "6510/6510 [==============================] - 22s 3ms/step - loss: 1.5313 - acc: 0.5982\n",
            "Epoch 78/100\n",
            "6510/6510 [==============================] - 22s 3ms/step - loss: 1.5090 - acc: 0.6022\n",
            "Epoch 79/100\n",
            "6510/6510 [==============================] - 22s 3ms/step - loss: 1.5056 - acc: 0.6040\n",
            "Epoch 80/100\n",
            "6510/6510 [==============================] - 22s 3ms/step - loss: 1.4638 - acc: 0.6100\n",
            "Epoch 81/100\n",
            "6510/6510 [==============================] - 22s 3ms/step - loss: 1.4614 - acc: 0.6069\n",
            "Epoch 82/100\n",
            "6510/6510 [==============================] - 22s 3ms/step - loss: 1.4170 - acc: 0.6218\n",
            "Epoch 83/100\n",
            "6510/6510 [==============================] - 22s 3ms/step - loss: 1.4103 - acc: 0.6200\n",
            "Epoch 84/100\n",
            "6510/6510 [==============================] - 22s 3ms/step - loss: 1.3860 - acc: 0.6275\n",
            "Epoch 85/100\n",
            "6510/6510 [==============================] - 22s 3ms/step - loss: 1.3862 - acc: 0.6224\n",
            "Epoch 86/100\n",
            "6510/6510 [==============================] - 22s 3ms/step - loss: 1.3549 - acc: 0.6332\n",
            "Epoch 87/100\n",
            "6510/6510 [==============================] - 22s 3ms/step - loss: 1.3712 - acc: 0.6326\n",
            "Epoch 88/100\n",
            "6510/6510 [==============================] - 22s 3ms/step - loss: 1.3155 - acc: 0.6412\n",
            "Epoch 89/100\n",
            "6510/6510 [==============================] - 22s 3ms/step - loss: 1.3428 - acc: 0.6373\n",
            "Epoch 90/100\n",
            "6510/6510 [==============================] - 22s 3ms/step - loss: 1.3216 - acc: 0.6375\n",
            "Epoch 91/100\n",
            "6510/6510 [==============================] - 22s 3ms/step - loss: 1.3156 - acc: 0.6373\n",
            "Epoch 92/100\n",
            "6510/6510 [==============================] - 22s 3ms/step - loss: 1.2873 - acc: 0.6485\n",
            "Epoch 93/100\n",
            "6510/6510 [==============================] - 22s 3ms/step - loss: 1.2596 - acc: 0.6528\n",
            "Epoch 94/100\n",
            "6510/6510 [==============================] - 22s 3ms/step - loss: 1.2739 - acc: 0.6539\n",
            "Epoch 95/100\n",
            "6510/6510 [==============================] - 22s 3ms/step - loss: 1.2379 - acc: 0.6587\n",
            "Epoch 96/100\n",
            "6510/6510 [==============================] - 22s 3ms/step - loss: 1.2427 - acc: 0.6536\n",
            "Epoch 97/100\n",
            "6510/6510 [==============================] - 22s 3ms/step - loss: 1.2212 - acc: 0.6576\n",
            "Epoch 98/100\n",
            "6510/6510 [==============================] - 22s 3ms/step - loss: 1.1730 - acc: 0.6777\n",
            "Epoch 99/100\n",
            "6510/6510 [==============================] - 22s 3ms/step - loss: 1.1979 - acc: 0.6676\n",
            "Epoch 100/100\n",
            "6510/6510 [==============================] - 22s 3ms/step - loss: 1.1790 - acc: 0.6708\n"
          ],
          "name": "stdout"
        }
      ]
    },
    {
      "cell_type": "markdown",
      "metadata": {
        "colab_type": "text",
        "id": "82716QWAJrXG"
      },
      "source": [
        "### Save Model"
      ]
    },
    {
      "cell_type": "code",
      "metadata": {
        "colab_type": "code",
        "id": "_8MFkQgYJm-D",
        "colab": {}
      },
      "source": [
        "model.save('./data/modeltextgen.h5')"
      ],
      "execution_count": 0,
      "outputs": []
    },
    {
      "cell_type": "markdown",
      "metadata": {
        "colab_type": "text",
        "id": "4AYVKydVJv5C"
      },
      "source": [
        "## If you have already trained the model and saved it, you can load a pretrained model"
      ]
    },
    {
      "cell_type": "code",
      "metadata": {
        "colab_type": "code",
        "id": "IqsQUz04J0GP",
        "colab": {}
      },
      "source": [
        "model = load_model('./data/modeltextgen.h5')"
      ],
      "execution_count": 0,
      "outputs": []
    },
    {
      "cell_type": "markdown",
      "metadata": {
        "colab_type": "text",
        "id": "ZFe2Y0SJJ3Hb"
      },
      "source": [
        "### Note: After loading the model run  model.fit()  to continue training form there, if required."
      ]
    },
    {
      "cell_type": "code",
      "metadata": {
        "colab_type": "code",
        "id": "e9yLm_xnJ5JV",
        "outputId": "431f61d3-07bd-4c6f-e91e-e66e88622941",
        "colab": {
          "base_uri": "https://localhost:8080/",
          "height": 1000
        }
      },
      "source": [
        "model.fit(X_train, y_train, batch_size=50, epochs=100)"
      ],
      "execution_count": 0,
      "outputs": [
        {
          "output_type": "stream",
          "text": [
            "Epoch 1/100\n",
            "6510/6510 [==============================] - 22s 3ms/step - loss: 1.2083 - acc: 0.6624\n",
            "Epoch 2/100\n",
            "6510/6510 [==============================] - 21s 3ms/step - loss: 1.1724 - acc: 0.6727\n",
            "Epoch 3/100\n",
            "6510/6510 [==============================] - 21s 3ms/step - loss: 1.1590 - acc: 0.6762\n",
            "Epoch 4/100\n",
            "6510/6510 [==============================] - 22s 3ms/step - loss: 1.1735 - acc: 0.6645\n",
            "Epoch 5/100\n",
            "6510/6510 [==============================] - 22s 3ms/step - loss: 1.1377 - acc: 0.6737\n",
            "Epoch 6/100\n",
            "6510/6510 [==============================] - 22s 3ms/step - loss: 1.1195 - acc: 0.6831\n",
            "Epoch 7/100\n",
            "6510/6510 [==============================] - 21s 3ms/step - loss: 1.1016 - acc: 0.6877\n",
            "Epoch 8/100\n",
            "6510/6510 [==============================] - 21s 3ms/step - loss: 1.0767 - acc: 0.6983\n",
            "Epoch 9/100\n",
            "6510/6510 [==============================] - 21s 3ms/step - loss: 1.0927 - acc: 0.6922\n",
            "Epoch 10/100\n",
            "6510/6510 [==============================] - 21s 3ms/step - loss: 1.0606 - acc: 0.7008\n",
            "Epoch 11/100\n",
            "6510/6510 [==============================] - 21s 3ms/step - loss: 1.0736 - acc: 0.6982\n",
            "Epoch 12/100\n",
            "6510/6510 [==============================] - 21s 3ms/step - loss: 1.0548 - acc: 0.7040\n",
            "Epoch 13/100\n",
            "6510/6510 [==============================] - 21s 3ms/step - loss: 1.0539 - acc: 0.6954\n",
            "Epoch 14/100\n",
            "6510/6510 [==============================] - 21s 3ms/step - loss: 1.0480 - acc: 0.7041\n",
            "Epoch 15/100\n",
            "6510/6510 [==============================] - 21s 3ms/step - loss: 1.0069 - acc: 0.7123\n",
            "Epoch 16/100\n",
            "6510/6510 [==============================] - 21s 3ms/step - loss: 0.9953 - acc: 0.7201\n",
            "Epoch 17/100\n",
            "6510/6510 [==============================] - 22s 3ms/step - loss: 1.0102 - acc: 0.7100\n",
            "Epoch 18/100\n",
            "6510/6510 [==============================] - 21s 3ms/step - loss: 0.9973 - acc: 0.7178\n",
            "Epoch 19/100\n",
            "6510/6510 [==============================] - 21s 3ms/step - loss: 1.0120 - acc: 0.7071\n",
            "Epoch 20/100\n",
            "6510/6510 [==============================] - 22s 3ms/step - loss: 1.0070 - acc: 0.7032\n",
            "Epoch 21/100\n",
            "6510/6510 [==============================] - 22s 3ms/step - loss: 0.9966 - acc: 0.7171\n",
            "Epoch 22/100\n",
            "6510/6510 [==============================] - 23s 3ms/step - loss: 0.9888 - acc: 0.7121\n",
            "Epoch 23/100\n",
            "6510/6510 [==============================] - 22s 3ms/step - loss: 0.9600 - acc: 0.7249\n",
            "Epoch 24/100\n",
            "6510/6510 [==============================] - 21s 3ms/step - loss: 0.9734 - acc: 0.7129\n",
            "Epoch 25/100\n",
            "6510/6510 [==============================] - 22s 3ms/step - loss: 0.9508 - acc: 0.7267\n",
            "Epoch 26/100\n",
            "6510/6510 [==============================] - 21s 3ms/step - loss: 0.9456 - acc: 0.7240\n",
            "Epoch 27/100\n",
            "6510/6510 [==============================] - 22s 3ms/step - loss: 0.9554 - acc: 0.7253\n",
            "Epoch 28/100\n",
            "6510/6510 [==============================] - 23s 3ms/step - loss: 0.9227 - acc: 0.7310\n",
            "Epoch 29/100\n",
            "6510/6510 [==============================] - 22s 3ms/step - loss: 0.9121 - acc: 0.7320\n",
            "Epoch 30/100\n",
            "6510/6510 [==============================] - 22s 3ms/step - loss: 0.9187 - acc: 0.7286\n",
            "Epoch 31/100\n",
            "6510/6510 [==============================] - 22s 3ms/step - loss: 0.9354 - acc: 0.7241\n",
            "Epoch 32/100\n",
            "6510/6510 [==============================] - 22s 3ms/step - loss: 0.9035 - acc: 0.7372\n",
            "Epoch 33/100\n",
            "6510/6510 [==============================] - 22s 3ms/step - loss: 0.9044 - acc: 0.7323\n",
            "Epoch 34/100\n",
            "6510/6510 [==============================] - 22s 3ms/step - loss: 0.8926 - acc: 0.7378\n",
            "Epoch 35/100\n",
            "6510/6510 [==============================] - 22s 3ms/step - loss: 0.9130 - acc: 0.7373\n",
            "Epoch 36/100\n",
            "6510/6510 [==============================] - 22s 3ms/step - loss: 0.8889 - acc: 0.7449\n",
            "Epoch 37/100\n",
            "6510/6510 [==============================] - 22s 3ms/step - loss: 0.8680 - acc: 0.7421\n",
            "Epoch 38/100\n",
            "6510/6510 [==============================] - 22s 3ms/step - loss: 0.8821 - acc: 0.7412\n",
            "Epoch 39/100\n",
            "6510/6510 [==============================] - 22s 3ms/step - loss: 0.8623 - acc: 0.7444\n",
            "Epoch 40/100\n",
            "6510/6510 [==============================] - 23s 4ms/step - loss: 0.8601 - acc: 0.7465\n",
            "Epoch 41/100\n",
            "6510/6510 [==============================] - 23s 3ms/step - loss: 0.8543 - acc: 0.7462\n",
            "Epoch 42/100\n",
            "6510/6510 [==============================] - 23s 3ms/step - loss: 0.8546 - acc: 0.7478\n",
            "Epoch 43/100\n",
            "6510/6510 [==============================] - 23s 4ms/step - loss: 0.8511 - acc: 0.7516\n",
            "Epoch 44/100\n",
            "6510/6510 [==============================] - 23s 3ms/step - loss: 0.8283 - acc: 0.7573\n",
            "Epoch 45/100\n",
            "6510/6510 [==============================] - 22s 3ms/step - loss: 0.8235 - acc: 0.7565\n",
            "Epoch 46/100\n",
            "6510/6510 [==============================] - 23s 4ms/step - loss: 0.8481 - acc: 0.7502\n",
            "Epoch 47/100\n",
            "6510/6510 [==============================] - 23s 4ms/step - loss: 0.8400 - acc: 0.7470\n",
            "Epoch 48/100\n",
            "6510/6510 [==============================] - 23s 4ms/step - loss: 0.8049 - acc: 0.7605\n",
            "Epoch 49/100\n",
            "6510/6510 [==============================] - 23s 3ms/step - loss: 0.7917 - acc: 0.7616\n",
            "Epoch 50/100\n",
            "6510/6510 [==============================] - 22s 3ms/step - loss: 0.7958 - acc: 0.7599\n",
            "Epoch 51/100\n",
            "6510/6510 [==============================] - 22s 3ms/step - loss: 0.8171 - acc: 0.7539\n",
            "Epoch 52/100\n",
            "6510/6510 [==============================] - 21s 3ms/step - loss: 0.8017 - acc: 0.7645\n",
            "Epoch 53/100\n",
            "6510/6510 [==============================] - 21s 3ms/step - loss: 0.7793 - acc: 0.7656\n",
            "Epoch 54/100\n",
            "6510/6510 [==============================] - 21s 3ms/step - loss: 0.7694 - acc: 0.7687\n",
            "Epoch 55/100\n",
            "6510/6510 [==============================] - 21s 3ms/step - loss: 0.7994 - acc: 0.7654\n",
            "Epoch 56/100\n",
            "6510/6510 [==============================] - 21s 3ms/step - loss: 0.7628 - acc: 0.7693\n",
            "Epoch 57/100\n",
            "6510/6510 [==============================] - 21s 3ms/step - loss: 0.7788 - acc: 0.7699\n",
            "Epoch 58/100\n",
            "6510/6510 [==============================] - 21s 3ms/step - loss: 0.7523 - acc: 0.7730\n",
            "Epoch 59/100\n",
            "6510/6510 [==============================] - 21s 3ms/step - loss: 0.7700 - acc: 0.7688\n",
            "Epoch 60/100\n",
            "6510/6510 [==============================] - 21s 3ms/step - loss: 0.7619 - acc: 0.7665\n",
            "Epoch 61/100\n",
            "6510/6510 [==============================] - 21s 3ms/step - loss: 0.7597 - acc: 0.7700\n",
            "Epoch 62/100\n",
            "6510/6510 [==============================] - 21s 3ms/step - loss: 0.7664 - acc: 0.7717\n",
            "Epoch 63/100\n",
            "6510/6510 [==============================] - 21s 3ms/step - loss: 0.7448 - acc: 0.7820\n",
            "Epoch 64/100\n",
            "6510/6510 [==============================] - 21s 3ms/step - loss: 0.7717 - acc: 0.7682\n",
            "Epoch 65/100\n",
            "6510/6510 [==============================] - 21s 3ms/step - loss: 0.7471 - acc: 0.7700\n",
            "Epoch 66/100\n",
            "6510/6510 [==============================] - 21s 3ms/step - loss: 0.7435 - acc: 0.7722\n",
            "Epoch 67/100\n",
            "6510/6510 [==============================] - 22s 3ms/step - loss: 0.7213 - acc: 0.7788\n",
            "Epoch 68/100\n",
            "6510/6510 [==============================] - 22s 3ms/step - loss: 0.7204 - acc: 0.7859\n",
            "Epoch 69/100\n",
            "6510/6510 [==============================] - 22s 3ms/step - loss: 0.7052 - acc: 0.7860\n",
            "Epoch 70/100\n",
            "6510/6510 [==============================] - 21s 3ms/step - loss: 0.7152 - acc: 0.7880\n",
            "Epoch 71/100\n",
            "6510/6510 [==============================] - 21s 3ms/step - loss: 0.7090 - acc: 0.7805\n",
            "Epoch 72/100\n",
            "6510/6510 [==============================] - 21s 3ms/step - loss: 0.7100 - acc: 0.7891\n",
            "Epoch 73/100\n",
            "6510/6510 [==============================] - 22s 3ms/step - loss: 0.7104 - acc: 0.7873\n",
            "Epoch 74/100\n",
            "6510/6510 [==============================] - 22s 3ms/step - loss: 0.7158 - acc: 0.7834\n",
            "Epoch 75/100\n",
            "6510/6510 [==============================] - 22s 3ms/step - loss: 0.6981 - acc: 0.7874\n",
            "Epoch 76/100\n",
            "6510/6510 [==============================] - 22s 3ms/step - loss: 0.6889 - acc: 0.7866\n",
            "Epoch 77/100\n",
            "6510/6510 [==============================] - 22s 3ms/step - loss: 0.6959 - acc: 0.7902\n",
            "Epoch 78/100\n",
            "6510/6510 [==============================] - 22s 3ms/step - loss: 0.6838 - acc: 0.7942\n",
            "Epoch 79/100\n",
            "6510/6510 [==============================] - 22s 3ms/step - loss: 0.6606 - acc: 0.8006\n",
            "Epoch 80/100\n",
            "6510/6510 [==============================] - 22s 3ms/step - loss: 0.6749 - acc: 0.7949\n",
            "Epoch 81/100\n",
            "6510/6510 [==============================] - 22s 3ms/step - loss: 0.6843 - acc: 0.7902\n",
            "Epoch 82/100\n",
            "6510/6510 [==============================] - 22s 3ms/step - loss: 0.6976 - acc: 0.7851\n",
            "Epoch 83/100\n",
            "6510/6510 [==============================] - 22s 3ms/step - loss: 0.6739 - acc: 0.7942\n",
            "Epoch 84/100\n",
            "6510/6510 [==============================] - 22s 3ms/step - loss: 0.6824 - acc: 0.7928\n",
            "Epoch 85/100\n",
            "6510/6510 [==============================] - 22s 3ms/step - loss: 0.6644 - acc: 0.7952\n",
            "Epoch 86/100\n",
            "6510/6510 [==============================] - 23s 4ms/step - loss: 0.6728 - acc: 0.7974\n",
            "Epoch 87/100\n",
            "6510/6510 [==============================] - 23s 4ms/step - loss: 0.6739 - acc: 0.7946\n",
            "Epoch 88/100\n",
            "6510/6510 [==============================] - 23s 4ms/step - loss: 0.6782 - acc: 0.7882\n",
            "Epoch 89/100\n",
            "6510/6510 [==============================] - 23s 4ms/step - loss: 0.6818 - acc: 0.7882\n",
            "Epoch 90/100\n",
            "6510/6510 [==============================] - 23s 4ms/step - loss: 0.6736 - acc: 0.8011\n",
            "Epoch 91/100\n",
            "6510/6510 [==============================] - 23s 4ms/step - loss: 0.6531 - acc: 0.8038\n",
            "Epoch 92/100\n",
            "6510/6510 [==============================] - 23s 3ms/step - loss: 0.6577 - acc: 0.8006\n",
            "Epoch 93/100\n",
            "6510/6510 [==============================] - 22s 3ms/step - loss: 0.6476 - acc: 0.8029\n",
            "Epoch 94/100\n",
            "6510/6510 [==============================] - 22s 3ms/step - loss: 0.6390 - acc: 0.8026\n",
            "Epoch 95/100\n",
            "6510/6510 [==============================] - 22s 3ms/step - loss: 0.6776 - acc: 0.7935\n",
            "Epoch 96/100\n",
            "6510/6510 [==============================] - 22s 3ms/step - loss: 0.6490 - acc: 0.8009\n",
            "Epoch 97/100\n",
            "6510/6510 [==============================] - 22s 3ms/step - loss: 0.6314 - acc: 0.8009\n",
            "Epoch 98/100\n",
            "6510/6510 [==============================] - 22s 3ms/step - loss: 0.6403 - acc: 0.8015\n",
            "Epoch 99/100\n",
            "6510/6510 [==============================] - 21s 3ms/step - loss: 0.6329 - acc: 0.8046\n",
            "Epoch 100/100\n",
            "6510/6510 [==============================] - 21s 3ms/step - loss: 0.6259 - acc: 0.8086\n"
          ],
          "name": "stdout"
        },
        {
          "output_type": "execute_result",
          "data": {
            "text/plain": [
              "<keras.callbacks.History at 0x7f789b0aed68>"
            ]
          },
          "metadata": {
            "tags": []
          },
          "execution_count": 26
        }
      ]
    },
    {
      "cell_type": "markdown",
      "metadata": {
        "colab_type": "text",
        "id": "EmkaxXdjHdyd"
      },
      "source": [
        "## Evaluation"
      ]
    },
    {
      "cell_type": "code",
      "metadata": {
        "colab_type": "code",
        "id": "7RraFX9YHdye",
        "outputId": "1f2d7e6b-b502-4915-fe40-ea52aed671e7",
        "colab": {
          "base_uri": "https://localhost:8080/",
          "height": 119
        }
      },
      "source": [
        "print(model.evaluate(X_train, y_train, batch_size = 20))\n",
        "print('\\nModel Performance: Log Loss and Accuracy on validation data')\n",
        "print(model.evaluate(X_valid, y_valid, batch_size = 20))"
      ],
      "execution_count": 0,
      "outputs": [
        {
          "output_type": "stream",
          "text": [
            "6510/6510 [==============================] - 7s 1ms/step\n",
            "[0.08067824208562459, 0.9781873995257963]\n",
            "\n",
            "Model Performance: Log Loss and Accuracy on validation data\n",
            "2790/2790 [==============================] - 3s 991us/step\n",
            "[8.403652242434923, 0.3645161292565766]\n"
          ],
          "name": "stdout"
        }
      ]
    },
    {
      "cell_type": "markdown",
      "metadata": {
        "colab_type": "text",
        "id": "u5CKxykLHdyj"
      },
      "source": [
        "## Generate text"
      ]
    },
    {
      "cell_type": "code",
      "metadata": {
        "colab_type": "code",
        "id": "4JSW5EwKHdyk",
        "outputId": "bab3fce5-7372-4f59-cbf8-49df03c1c7ed",
        "colab": {
          "base_uri": "https://localhost:8080/",
          "height": 156
        }
      },
      "source": [
        "seed_length=50\n",
        "new_words=50\n",
        "diversity=1\n",
        "n_gen=1\n",
        "\n",
        "import random\n",
        "\n",
        "# Choose a random sequence\n",
        "seq = random.choice(sequences)\n",
        "\n",
        "# print seq\n",
        "\n",
        "# Choose a random starting point\n",
        "seed_idx = random.randint(0, len(seq) - seed_length - 10)\n",
        "# Ending index for seed\n",
        "end_idx = seed_idx + seed_length\n",
        "\n",
        "gen_list = []\n",
        "\n",
        "for n in range(n_gen):\n",
        "    # Extract the seed sequence\n",
        "    seed = seq[seed_idx:end_idx]\n",
        "    original_sequence = [idx_word[i] for i in seed]\n",
        "    generated = seed[:] + ['#']\n",
        "\n",
        "    # Find the actual entire sequence\n",
        "    actual = generated[:] + seq[end_idx:end_idx + new_words]\n",
        "        \n",
        "    # Keep adding new words\n",
        "    for i in range(new_words):\n",
        "\n",
        "        # Make a prediction from the seed\n",
        "        preds = model.predict(np.array(seed).reshape(1, -1))[0].astype(np.float64)\n",
        "\n",
        "        # Diversify\n",
        "        preds = np.log(preds) / diversity\n",
        "        exp_preds = np.exp(preds)\n",
        "\n",
        "        # Softmax\n",
        "        preds = exp_preds / sum(exp_preds)\n",
        "\n",
        "        # Choose the next word\n",
        "        probas = np.random.multinomial(1, preds, 1)[0]\n",
        "\n",
        "        next_idx = np.argmax(probas)\n",
        "\n",
        "        # New seed adds on old word\n",
        "        #             seed = seed[1:] + [next_idx]\n",
        "        seed += [next_idx]\n",
        "        generated.append(next_idx)\n",
        "    # Showing generated and actual abstract\n",
        "    n = []\n",
        "\n",
        "    for i in generated:\n",
        "        n.append(idx_word.get(i, '< --- >'))\n",
        "\n",
        "    gen_list.append(n)\n",
        "\n",
        "a = []\n",
        "\n",
        "for i in actual:\n",
        "    a.append(idx_word.get(i, '< --- >'))\n",
        "\n",
        "a = a[seed_length:]\n",
        "\n",
        "gen_list = [gen[seed_length:seed_length + len(a)] for gen in gen_list]\n",
        "\n",
        "print('Original Sequence: \\n'+' '.join(original_sequence))\n",
        "print(\"\\n\")\n",
        "# print(gen_list)\n",
        "print('Generated Sequence: \\n'+' '.join(gen_list[0][1:]))\n",
        "# print(a)"
      ],
      "execution_count": 0,
      "outputs": [
        {
          "output_type": "stream",
          "text": [
            "/usr/local/lib/python3.6/dist-packages/ipykernel_launcher.py:36: RuntimeWarning: divide by zero encountered in log\n"
          ],
          "name": "stderr"
        },
        {
          "output_type": "stream",
          "text": [
            "Original Sequence: \n",
            "and so many fathers who won’t speak to their sons i think myself it is very much to be regretted mrs cheveley so do i fathers have so much to learn from their sons nowadays lady markby really dear what mrs cheveley the art of living the only really fine\n",
            "\n",
            "\n",
            "Generated Sequence: \n",
            "gold and i think it polite central for the day in the public domain c a use of the united states of most other or only a drama in a prologue and i are otis had a bibliography of the author of these books this wine were on the side\n"
          ],
          "name": "stdout"
        }
      ]
    },
    {
      "cell_type": "code",
      "metadata": {
        "colab_type": "code",
        "id": "9aXeiz7ZHdyp",
        "colab": {}
      },
      "source": [
        ""
      ],
      "execution_count": 0,
      "outputs": []
    }
  ]
}