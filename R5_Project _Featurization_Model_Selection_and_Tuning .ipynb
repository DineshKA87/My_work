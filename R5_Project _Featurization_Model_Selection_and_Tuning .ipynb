{
  "nbformat": 4,
  "nbformat_minor": 0,
  "metadata": {
    "colab": {
      "name": "Untitled2.ipynb",
      "version": "0.3.2",
      "provenance": [],
      "collapsed_sections": []
    },
    "kernelspec": {
      "name": "python3",
      "display_name": "Python 3"
    },
    "accelerator": "GPU"
  },
  "cells": [
    {
      "metadata": {
        "id": "D-Q6eVrY2Yg5",
        "colab_type": "code",
        "colab": {}
      },
      "cell_type": "code",
      "source": [
        "import pandas as pd\n",
        "import numpy as np\n",
        "import warnings \n",
        "warnings.filterwarnings('ignore')\n",
        "from IPython.core.interactiveshell import InteractiveShell\n",
        "InteractiveShell.ast_node_interactivity = \"all\"\n",
        "from sklearn.linear_model import LinearRegression\n",
        "from sklearn.model_selection import train_test_split\n",
        "from scipy.stats import zscore\n",
        "from sklearn import metrics"
      ],
      "execution_count": 0,
      "outputs": []
    },
    {
      "metadata": {
        "id": "9vbPB6A828f0",
        "colab_type": "code",
        "colab": {}
      },
      "cell_type": "code",
      "source": [
        "house_data = pd.read_csv(\"kc_house_data.csv\")\n"
      ],
      "execution_count": 0,
      "outputs": []
    },
    {
      "metadata": {
        "id": "1k3XLl8h3zgw",
        "colab_type": "code",
        "colab": {
          "base_uri": "https://localhost:8080/",
          "height": 256
        },
        "outputId": "2edc09f7-412a-492d-e9d8-0a7ac1ebc6ad"
      },
      "cell_type": "code",
      "source": [
        "house_data.head()"
      ],
      "execution_count": 3,
      "outputs": [
        {
          "output_type": "execute_result",
          "data": {
            "text/html": [
              "<div>\n",
              "<style scoped>\n",
              "    .dataframe tbody tr th:only-of-type {\n",
              "        vertical-align: middle;\n",
              "    }\n",
              "\n",
              "    .dataframe tbody tr th {\n",
              "        vertical-align: top;\n",
              "    }\n",
              "\n",
              "    .dataframe thead th {\n",
              "        text-align: right;\n",
              "    }\n",
              "</style>\n",
              "<table border=\"1\" class=\"dataframe\">\n",
              "  <thead>\n",
              "    <tr style=\"text-align: right;\">\n",
              "      <th></th>\n",
              "      <th>id</th>\n",
              "      <th>date</th>\n",
              "      <th>price</th>\n",
              "      <th>bedrooms</th>\n",
              "      <th>bathrooms</th>\n",
              "      <th>sqft_living</th>\n",
              "      <th>sqft_lot</th>\n",
              "      <th>floors</th>\n",
              "      <th>waterfront</th>\n",
              "      <th>view</th>\n",
              "      <th>...</th>\n",
              "      <th>grade</th>\n",
              "      <th>sqft_above</th>\n",
              "      <th>sqft_basement</th>\n",
              "      <th>yr_built</th>\n",
              "      <th>yr_renovated</th>\n",
              "      <th>zipcode</th>\n",
              "      <th>lat</th>\n",
              "      <th>long</th>\n",
              "      <th>sqft_living15</th>\n",
              "      <th>sqft_lot15</th>\n",
              "    </tr>\n",
              "  </thead>\n",
              "  <tbody>\n",
              "    <tr>\n",
              "      <th>0</th>\n",
              "      <td>7129300520</td>\n",
              "      <td>20141013T000000</td>\n",
              "      <td>221900.0</td>\n",
              "      <td>3</td>\n",
              "      <td>1.00</td>\n",
              "      <td>1180</td>\n",
              "      <td>5650</td>\n",
              "      <td>1.0</td>\n",
              "      <td>0</td>\n",
              "      <td>0</td>\n",
              "      <td>...</td>\n",
              "      <td>7</td>\n",
              "      <td>1180</td>\n",
              "      <td>0</td>\n",
              "      <td>1955</td>\n",
              "      <td>0</td>\n",
              "      <td>98178</td>\n",
              "      <td>47.5112</td>\n",
              "      <td>-122.257</td>\n",
              "      <td>1340</td>\n",
              "      <td>5650</td>\n",
              "    </tr>\n",
              "    <tr>\n",
              "      <th>1</th>\n",
              "      <td>6414100192</td>\n",
              "      <td>20141209T000000</td>\n",
              "      <td>538000.0</td>\n",
              "      <td>3</td>\n",
              "      <td>2.25</td>\n",
              "      <td>2570</td>\n",
              "      <td>7242</td>\n",
              "      <td>2.0</td>\n",
              "      <td>0</td>\n",
              "      <td>0</td>\n",
              "      <td>...</td>\n",
              "      <td>7</td>\n",
              "      <td>2170</td>\n",
              "      <td>400</td>\n",
              "      <td>1951</td>\n",
              "      <td>1991</td>\n",
              "      <td>98125</td>\n",
              "      <td>47.7210</td>\n",
              "      <td>-122.319</td>\n",
              "      <td>1690</td>\n",
              "      <td>7639</td>\n",
              "    </tr>\n",
              "    <tr>\n",
              "      <th>2</th>\n",
              "      <td>5631500400</td>\n",
              "      <td>20150225T000000</td>\n",
              "      <td>180000.0</td>\n",
              "      <td>2</td>\n",
              "      <td>1.00</td>\n",
              "      <td>770</td>\n",
              "      <td>10000</td>\n",
              "      <td>1.0</td>\n",
              "      <td>0</td>\n",
              "      <td>0</td>\n",
              "      <td>...</td>\n",
              "      <td>6</td>\n",
              "      <td>770</td>\n",
              "      <td>0</td>\n",
              "      <td>1933</td>\n",
              "      <td>0</td>\n",
              "      <td>98028</td>\n",
              "      <td>47.7379</td>\n",
              "      <td>-122.233</td>\n",
              "      <td>2720</td>\n",
              "      <td>8062</td>\n",
              "    </tr>\n",
              "    <tr>\n",
              "      <th>3</th>\n",
              "      <td>2487200875</td>\n",
              "      <td>20141209T000000</td>\n",
              "      <td>604000.0</td>\n",
              "      <td>4</td>\n",
              "      <td>3.00</td>\n",
              "      <td>1960</td>\n",
              "      <td>5000</td>\n",
              "      <td>1.0</td>\n",
              "      <td>0</td>\n",
              "      <td>0</td>\n",
              "      <td>...</td>\n",
              "      <td>7</td>\n",
              "      <td>1050</td>\n",
              "      <td>910</td>\n",
              "      <td>1965</td>\n",
              "      <td>0</td>\n",
              "      <td>98136</td>\n",
              "      <td>47.5208</td>\n",
              "      <td>-122.393</td>\n",
              "      <td>1360</td>\n",
              "      <td>5000</td>\n",
              "    </tr>\n",
              "    <tr>\n",
              "      <th>4</th>\n",
              "      <td>1954400510</td>\n",
              "      <td>20150218T000000</td>\n",
              "      <td>510000.0</td>\n",
              "      <td>3</td>\n",
              "      <td>2.00</td>\n",
              "      <td>1680</td>\n",
              "      <td>8080</td>\n",
              "      <td>1.0</td>\n",
              "      <td>0</td>\n",
              "      <td>0</td>\n",
              "      <td>...</td>\n",
              "      <td>8</td>\n",
              "      <td>1680</td>\n",
              "      <td>0</td>\n",
              "      <td>1987</td>\n",
              "      <td>0</td>\n",
              "      <td>98074</td>\n",
              "      <td>47.6168</td>\n",
              "      <td>-122.045</td>\n",
              "      <td>1800</td>\n",
              "      <td>7503</td>\n",
              "    </tr>\n",
              "  </tbody>\n",
              "</table>\n",
              "<p>5 rows × 21 columns</p>\n",
              "</div>"
            ],
            "text/plain": [
              "           id             date     price  bedrooms  bathrooms  sqft_living  \\\n",
              "0  7129300520  20141013T000000  221900.0         3       1.00         1180   \n",
              "1  6414100192  20141209T000000  538000.0         3       2.25         2570   \n",
              "2  5631500400  20150225T000000  180000.0         2       1.00          770   \n",
              "3  2487200875  20141209T000000  604000.0         4       3.00         1960   \n",
              "4  1954400510  20150218T000000  510000.0         3       2.00         1680   \n",
              "\n",
              "   sqft_lot  floors  waterfront  view     ...      grade  sqft_above  \\\n",
              "0      5650     1.0           0     0     ...          7        1180   \n",
              "1      7242     2.0           0     0     ...          7        2170   \n",
              "2     10000     1.0           0     0     ...          6         770   \n",
              "3      5000     1.0           0     0     ...          7        1050   \n",
              "4      8080     1.0           0     0     ...          8        1680   \n",
              "\n",
              "   sqft_basement  yr_built  yr_renovated  zipcode      lat     long  \\\n",
              "0              0      1955             0    98178  47.5112 -122.257   \n",
              "1            400      1951          1991    98125  47.7210 -122.319   \n",
              "2              0      1933             0    98028  47.7379 -122.233   \n",
              "3            910      1965             0    98136  47.5208 -122.393   \n",
              "4              0      1987             0    98074  47.6168 -122.045   \n",
              "\n",
              "   sqft_living15  sqft_lot15  \n",
              "0           1340        5650  \n",
              "1           1690        7639  \n",
              "2           2720        8062  \n",
              "3           1360        5000  \n",
              "4           1800        7503  \n",
              "\n",
              "[5 rows x 21 columns]"
            ]
          },
          "metadata": {
            "tags": []
          },
          "execution_count": 3
        }
      ]
    },
    {
      "metadata": {
        "id": "X0ItQ4ki323G",
        "colab_type": "code",
        "colab": {
          "base_uri": "https://localhost:8080/",
          "height": 498
        },
        "outputId": "dda8b6e3-1b17-4fec-ab8f-cb8ae8954ccb"
      },
      "cell_type": "code",
      "source": [
        "house_data.info()"
      ],
      "execution_count": 4,
      "outputs": [
        {
          "output_type": "stream",
          "text": [
            "<class 'pandas.core.frame.DataFrame'>\n",
            "RangeIndex: 21613 entries, 0 to 21612\n",
            "Data columns (total 21 columns):\n",
            "id               21613 non-null int64\n",
            "date             21613 non-null object\n",
            "price            21613 non-null float64\n",
            "bedrooms         21613 non-null int64\n",
            "bathrooms        21613 non-null float64\n",
            "sqft_living      21613 non-null int64\n",
            "sqft_lot         21613 non-null int64\n",
            "floors           21613 non-null float64\n",
            "waterfront       21613 non-null int64\n",
            "view             21613 non-null int64\n",
            "condition        21613 non-null int64\n",
            "grade            21613 non-null int64\n",
            "sqft_above       21613 non-null int64\n",
            "sqft_basement    21613 non-null int64\n",
            "yr_built         21613 non-null int64\n",
            "yr_renovated     21613 non-null int64\n",
            "zipcode          21613 non-null int64\n",
            "lat              21613 non-null float64\n",
            "long             21613 non-null float64\n",
            "sqft_living15    21613 non-null int64\n",
            "sqft_lot15       21613 non-null int64\n",
            "dtypes: float64(5), int64(15), object(1)\n",
            "memory usage: 3.5+ MB\n"
          ],
          "name": "stdout"
        }
      ]
    },
    {
      "metadata": {
        "id": "wCaIsdVg4CFk",
        "colab_type": "code",
        "colab": {
          "base_uri": "https://localhost:8080/",
          "height": 35
        },
        "outputId": "ad730874-3972-4da2-df81-ae249a0be6c5"
      },
      "cell_type": "code",
      "source": [
        "house_data.shape"
      ],
      "execution_count": 5,
      "outputs": [
        {
          "output_type": "execute_result",
          "data": {
            "text/plain": [
              "(21613, 21)"
            ]
          },
          "metadata": {
            "tags": []
          },
          "execution_count": 5
        }
      ]
    },
    {
      "metadata": {
        "id": "QHkoye_t4Oul",
        "colab_type": "code",
        "colab": {
          "base_uri": "https://localhost:8080/",
          "height": 35
        },
        "outputId": "cee02c33-3726-43e4-de3f-f8d2698f275c"
      },
      "cell_type": "code",
      "source": [
        "print(\"Keeping only the year for prediction\")\n",
        "house_data[\"new_date\"] = house_data[\"date\"].str.slice(stop=4)"
      ],
      "execution_count": 6,
      "outputs": [
        {
          "output_type": "stream",
          "text": [
            "Keeping only the year for prediction\n"
          ],
          "name": "stdout"
        }
      ]
    },
    {
      "metadata": {
        "id": "5nMJGu7o4WD4",
        "colab_type": "code",
        "colab": {
          "base_uri": "https://localhost:8080/",
          "height": 109
        },
        "outputId": "5e4cff07-b822-4bdd-948c-cbfde5c22c42"
      },
      "cell_type": "code",
      "source": [
        "house_data.columns\n",
        "house_data[\"new_date\"] = house_data[\"new_date\"].astype('int64')"
      ],
      "execution_count": 7,
      "outputs": [
        {
          "output_type": "execute_result",
          "data": {
            "text/plain": [
              "Index(['id', 'date', 'price', 'bedrooms', 'bathrooms', 'sqft_living',\n",
              "       'sqft_lot', 'floors', 'waterfront', 'view', 'condition', 'grade',\n",
              "       'sqft_above', 'sqft_basement', 'yr_built', 'yr_renovated', 'zipcode',\n",
              "       'lat', 'long', 'sqft_living15', 'sqft_lot15', 'new_date'],\n",
              "      dtype='object')"
            ]
          },
          "metadata": {
            "tags": []
          },
          "execution_count": 7
        }
      ]
    },
    {
      "metadata": {
        "id": "LcHHZe8N5Vbi",
        "colab_type": "code",
        "colab": {}
      },
      "cell_type": "code",
      "source": [
        "house_data.drop(columns = \"date\",axis = 1,inplace =True)"
      ],
      "execution_count": 0,
      "outputs": []
    },
    {
      "metadata": {
        "id": "S3cqks2E5dtf",
        "colab_type": "code",
        "colab": {
          "base_uri": "https://localhost:8080/",
          "height": 424
        },
        "outputId": "f5ba379b-8e3b-4546-e642-93e18524f55b"
      },
      "cell_type": "code",
      "source": [
        "house_data.isna().sum()\n",
        "print(\"There is no missing data\")"
      ],
      "execution_count": 9,
      "outputs": [
        {
          "output_type": "execute_result",
          "data": {
            "text/plain": [
              "id               0\n",
              "price            0\n",
              "bedrooms         0\n",
              "bathrooms        0\n",
              "sqft_living      0\n",
              "sqft_lot         0\n",
              "floors           0\n",
              "waterfront       0\n",
              "view             0\n",
              "condition        0\n",
              "grade            0\n",
              "sqft_above       0\n",
              "sqft_basement    0\n",
              "yr_built         0\n",
              "yr_renovated     0\n",
              "zipcode          0\n",
              "lat              0\n",
              "long             0\n",
              "sqft_living15    0\n",
              "sqft_lot15       0\n",
              "new_date         0\n",
              "dtype: int64"
            ]
          },
          "metadata": {
            "tags": []
          },
          "execution_count": 9
        },
        {
          "output_type": "stream",
          "text": [
            "There is no missing data\n"
          ],
          "name": "stdout"
        }
      ]
    },
    {
      "metadata": {
        "id": "Cj-MUc3M5oVI",
        "colab_type": "code",
        "colab": {
          "base_uri": "https://localhost:8080/",
          "height": 498
        },
        "outputId": "3372f691-3041-4d43-9dce-76b003470d2e"
      },
      "cell_type": "code",
      "source": [
        "house_data.info()"
      ],
      "execution_count": 10,
      "outputs": [
        {
          "output_type": "stream",
          "text": [
            "<class 'pandas.core.frame.DataFrame'>\n",
            "RangeIndex: 21613 entries, 0 to 21612\n",
            "Data columns (total 21 columns):\n",
            "id               21613 non-null int64\n",
            "price            21613 non-null float64\n",
            "bedrooms         21613 non-null int64\n",
            "bathrooms        21613 non-null float64\n",
            "sqft_living      21613 non-null int64\n",
            "sqft_lot         21613 non-null int64\n",
            "floors           21613 non-null float64\n",
            "waterfront       21613 non-null int64\n",
            "view             21613 non-null int64\n",
            "condition        21613 non-null int64\n",
            "grade            21613 non-null int64\n",
            "sqft_above       21613 non-null int64\n",
            "sqft_basement    21613 non-null int64\n",
            "yr_built         21613 non-null int64\n",
            "yr_renovated     21613 non-null int64\n",
            "zipcode          21613 non-null int64\n",
            "lat              21613 non-null float64\n",
            "long             21613 non-null float64\n",
            "sqft_living15    21613 non-null int64\n",
            "sqft_lot15       21613 non-null int64\n",
            "new_date         21613 non-null int64\n",
            "dtypes: float64(5), int64(16)\n",
            "memory usage: 3.5 MB\n"
          ],
          "name": "stdout"
        }
      ]
    },
    {
      "metadata": {
        "id": "7KgLMxes6VVk",
        "colab_type": "code",
        "colab": {
          "base_uri": "https://localhost:8080/",
          "height": 35
        },
        "outputId": "b32a2a5f-37f7-4a2b-ddee-94280f4e3b51"
      },
      "cell_type": "code",
      "source": [
        "print(\"Univaraint Analyais\")"
      ],
      "execution_count": 11,
      "outputs": [
        {
          "output_type": "stream",
          "text": [
            "Univaraint Analyais\n"
          ],
          "name": "stdout"
        }
      ]
    },
    {
      "metadata": {
        "id": "4cNmzwL17NQi",
        "colab_type": "code",
        "colab": {
          "base_uri": "https://localhost:8080/",
          "height": 1890
        },
        "outputId": "440ac439-9ab8-4606-a9af-7976b7a2e442"
      },
      "cell_type": "code",
      "source": [
        "house_data.describe()\n",
        "house_data.hist(layout = (7,3),figsize = (10,20))"
      ],
      "execution_count": 12,
      "outputs": [
        {
          "output_type": "execute_result",
          "data": {
            "text/html": [
              "<div>\n",
              "<style scoped>\n",
              "    .dataframe tbody tr th:only-of-type {\n",
              "        vertical-align: middle;\n",
              "    }\n",
              "\n",
              "    .dataframe tbody tr th {\n",
              "        vertical-align: top;\n",
              "    }\n",
              "\n",
              "    .dataframe thead th {\n",
              "        text-align: right;\n",
              "    }\n",
              "</style>\n",
              "<table border=\"1\" class=\"dataframe\">\n",
              "  <thead>\n",
              "    <tr style=\"text-align: right;\">\n",
              "      <th></th>\n",
              "      <th>id</th>\n",
              "      <th>price</th>\n",
              "      <th>bedrooms</th>\n",
              "      <th>bathrooms</th>\n",
              "      <th>sqft_living</th>\n",
              "      <th>sqft_lot</th>\n",
              "      <th>floors</th>\n",
              "      <th>waterfront</th>\n",
              "      <th>view</th>\n",
              "      <th>condition</th>\n",
              "      <th>...</th>\n",
              "      <th>sqft_above</th>\n",
              "      <th>sqft_basement</th>\n",
              "      <th>yr_built</th>\n",
              "      <th>yr_renovated</th>\n",
              "      <th>zipcode</th>\n",
              "      <th>lat</th>\n",
              "      <th>long</th>\n",
              "      <th>sqft_living15</th>\n",
              "      <th>sqft_lot15</th>\n",
              "      <th>new_date</th>\n",
              "    </tr>\n",
              "  </thead>\n",
              "  <tbody>\n",
              "    <tr>\n",
              "      <th>count</th>\n",
              "      <td>2.161300e+04</td>\n",
              "      <td>2.161300e+04</td>\n",
              "      <td>21613.000000</td>\n",
              "      <td>21613.000000</td>\n",
              "      <td>21613.000000</td>\n",
              "      <td>2.161300e+04</td>\n",
              "      <td>21613.000000</td>\n",
              "      <td>21613.000000</td>\n",
              "      <td>21613.000000</td>\n",
              "      <td>21613.000000</td>\n",
              "      <td>...</td>\n",
              "      <td>21613.000000</td>\n",
              "      <td>21613.000000</td>\n",
              "      <td>21613.000000</td>\n",
              "      <td>21613.000000</td>\n",
              "      <td>21613.000000</td>\n",
              "      <td>21613.000000</td>\n",
              "      <td>21613.000000</td>\n",
              "      <td>21613.000000</td>\n",
              "      <td>21613.000000</td>\n",
              "      <td>21613.000000</td>\n",
              "    </tr>\n",
              "    <tr>\n",
              "      <th>mean</th>\n",
              "      <td>4.580302e+09</td>\n",
              "      <td>5.400881e+05</td>\n",
              "      <td>3.370842</td>\n",
              "      <td>2.114757</td>\n",
              "      <td>2079.899736</td>\n",
              "      <td>1.510697e+04</td>\n",
              "      <td>1.494309</td>\n",
              "      <td>0.007542</td>\n",
              "      <td>0.234303</td>\n",
              "      <td>3.409430</td>\n",
              "      <td>...</td>\n",
              "      <td>1788.390691</td>\n",
              "      <td>291.509045</td>\n",
              "      <td>1971.005136</td>\n",
              "      <td>84.402258</td>\n",
              "      <td>98077.939805</td>\n",
              "      <td>47.560053</td>\n",
              "      <td>-122.213896</td>\n",
              "      <td>1986.552492</td>\n",
              "      <td>12768.455652</td>\n",
              "      <td>2014.322954</td>\n",
              "    </tr>\n",
              "    <tr>\n",
              "      <th>std</th>\n",
              "      <td>2.876566e+09</td>\n",
              "      <td>3.671272e+05</td>\n",
              "      <td>0.930062</td>\n",
              "      <td>0.770163</td>\n",
              "      <td>918.440897</td>\n",
              "      <td>4.142051e+04</td>\n",
              "      <td>0.539989</td>\n",
              "      <td>0.086517</td>\n",
              "      <td>0.766318</td>\n",
              "      <td>0.650743</td>\n",
              "      <td>...</td>\n",
              "      <td>828.090978</td>\n",
              "      <td>442.575043</td>\n",
              "      <td>29.373411</td>\n",
              "      <td>401.679240</td>\n",
              "      <td>53.505026</td>\n",
              "      <td>0.138564</td>\n",
              "      <td>0.140828</td>\n",
              "      <td>685.391304</td>\n",
              "      <td>27304.179631</td>\n",
              "      <td>0.467616</td>\n",
              "    </tr>\n",
              "    <tr>\n",
              "      <th>min</th>\n",
              "      <td>1.000102e+06</td>\n",
              "      <td>7.500000e+04</td>\n",
              "      <td>0.000000</td>\n",
              "      <td>0.000000</td>\n",
              "      <td>290.000000</td>\n",
              "      <td>5.200000e+02</td>\n",
              "      <td>1.000000</td>\n",
              "      <td>0.000000</td>\n",
              "      <td>0.000000</td>\n",
              "      <td>1.000000</td>\n",
              "      <td>...</td>\n",
              "      <td>290.000000</td>\n",
              "      <td>0.000000</td>\n",
              "      <td>1900.000000</td>\n",
              "      <td>0.000000</td>\n",
              "      <td>98001.000000</td>\n",
              "      <td>47.155900</td>\n",
              "      <td>-122.519000</td>\n",
              "      <td>399.000000</td>\n",
              "      <td>651.000000</td>\n",
              "      <td>2014.000000</td>\n",
              "    </tr>\n",
              "    <tr>\n",
              "      <th>25%</th>\n",
              "      <td>2.123049e+09</td>\n",
              "      <td>3.219500e+05</td>\n",
              "      <td>3.000000</td>\n",
              "      <td>1.750000</td>\n",
              "      <td>1427.000000</td>\n",
              "      <td>5.040000e+03</td>\n",
              "      <td>1.000000</td>\n",
              "      <td>0.000000</td>\n",
              "      <td>0.000000</td>\n",
              "      <td>3.000000</td>\n",
              "      <td>...</td>\n",
              "      <td>1190.000000</td>\n",
              "      <td>0.000000</td>\n",
              "      <td>1951.000000</td>\n",
              "      <td>0.000000</td>\n",
              "      <td>98033.000000</td>\n",
              "      <td>47.471000</td>\n",
              "      <td>-122.328000</td>\n",
              "      <td>1490.000000</td>\n",
              "      <td>5100.000000</td>\n",
              "      <td>2014.000000</td>\n",
              "    </tr>\n",
              "    <tr>\n",
              "      <th>50%</th>\n",
              "      <td>3.904930e+09</td>\n",
              "      <td>4.500000e+05</td>\n",
              "      <td>3.000000</td>\n",
              "      <td>2.250000</td>\n",
              "      <td>1910.000000</td>\n",
              "      <td>7.618000e+03</td>\n",
              "      <td>1.500000</td>\n",
              "      <td>0.000000</td>\n",
              "      <td>0.000000</td>\n",
              "      <td>3.000000</td>\n",
              "      <td>...</td>\n",
              "      <td>1560.000000</td>\n",
              "      <td>0.000000</td>\n",
              "      <td>1975.000000</td>\n",
              "      <td>0.000000</td>\n",
              "      <td>98065.000000</td>\n",
              "      <td>47.571800</td>\n",
              "      <td>-122.230000</td>\n",
              "      <td>1840.000000</td>\n",
              "      <td>7620.000000</td>\n",
              "      <td>2014.000000</td>\n",
              "    </tr>\n",
              "    <tr>\n",
              "      <th>75%</th>\n",
              "      <td>7.308900e+09</td>\n",
              "      <td>6.450000e+05</td>\n",
              "      <td>4.000000</td>\n",
              "      <td>2.500000</td>\n",
              "      <td>2550.000000</td>\n",
              "      <td>1.068800e+04</td>\n",
              "      <td>2.000000</td>\n",
              "      <td>0.000000</td>\n",
              "      <td>0.000000</td>\n",
              "      <td>4.000000</td>\n",
              "      <td>...</td>\n",
              "      <td>2210.000000</td>\n",
              "      <td>560.000000</td>\n",
              "      <td>1997.000000</td>\n",
              "      <td>0.000000</td>\n",
              "      <td>98118.000000</td>\n",
              "      <td>47.678000</td>\n",
              "      <td>-122.125000</td>\n",
              "      <td>2360.000000</td>\n",
              "      <td>10083.000000</td>\n",
              "      <td>2015.000000</td>\n",
              "    </tr>\n",
              "    <tr>\n",
              "      <th>max</th>\n",
              "      <td>9.900000e+09</td>\n",
              "      <td>7.700000e+06</td>\n",
              "      <td>33.000000</td>\n",
              "      <td>8.000000</td>\n",
              "      <td>13540.000000</td>\n",
              "      <td>1.651359e+06</td>\n",
              "      <td>3.500000</td>\n",
              "      <td>1.000000</td>\n",
              "      <td>4.000000</td>\n",
              "      <td>5.000000</td>\n",
              "      <td>...</td>\n",
              "      <td>9410.000000</td>\n",
              "      <td>4820.000000</td>\n",
              "      <td>2015.000000</td>\n",
              "      <td>2015.000000</td>\n",
              "      <td>98199.000000</td>\n",
              "      <td>47.777600</td>\n",
              "      <td>-121.315000</td>\n",
              "      <td>6210.000000</td>\n",
              "      <td>871200.000000</td>\n",
              "      <td>2015.000000</td>\n",
              "    </tr>\n",
              "  </tbody>\n",
              "</table>\n",
              "<p>8 rows × 21 columns</p>\n",
              "</div>"
            ],
            "text/plain": [
              "                 id         price      bedrooms     bathrooms   sqft_living  \\\n",
              "count  2.161300e+04  2.161300e+04  21613.000000  21613.000000  21613.000000   \n",
              "mean   4.580302e+09  5.400881e+05      3.370842      2.114757   2079.899736   \n",
              "std    2.876566e+09  3.671272e+05      0.930062      0.770163    918.440897   \n",
              "min    1.000102e+06  7.500000e+04      0.000000      0.000000    290.000000   \n",
              "25%    2.123049e+09  3.219500e+05      3.000000      1.750000   1427.000000   \n",
              "50%    3.904930e+09  4.500000e+05      3.000000      2.250000   1910.000000   \n",
              "75%    7.308900e+09  6.450000e+05      4.000000      2.500000   2550.000000   \n",
              "max    9.900000e+09  7.700000e+06     33.000000      8.000000  13540.000000   \n",
              "\n",
              "           sqft_lot        floors    waterfront          view     condition  \\\n",
              "count  2.161300e+04  21613.000000  21613.000000  21613.000000  21613.000000   \n",
              "mean   1.510697e+04      1.494309      0.007542      0.234303      3.409430   \n",
              "std    4.142051e+04      0.539989      0.086517      0.766318      0.650743   \n",
              "min    5.200000e+02      1.000000      0.000000      0.000000      1.000000   \n",
              "25%    5.040000e+03      1.000000      0.000000      0.000000      3.000000   \n",
              "50%    7.618000e+03      1.500000      0.000000      0.000000      3.000000   \n",
              "75%    1.068800e+04      2.000000      0.000000      0.000000      4.000000   \n",
              "max    1.651359e+06      3.500000      1.000000      4.000000      5.000000   \n",
              "\n",
              "           ...         sqft_above  sqft_basement      yr_built  yr_renovated  \\\n",
              "count      ...       21613.000000   21613.000000  21613.000000  21613.000000   \n",
              "mean       ...        1788.390691     291.509045   1971.005136     84.402258   \n",
              "std        ...         828.090978     442.575043     29.373411    401.679240   \n",
              "min        ...         290.000000       0.000000   1900.000000      0.000000   \n",
              "25%        ...        1190.000000       0.000000   1951.000000      0.000000   \n",
              "50%        ...        1560.000000       0.000000   1975.000000      0.000000   \n",
              "75%        ...        2210.000000     560.000000   1997.000000      0.000000   \n",
              "max        ...        9410.000000    4820.000000   2015.000000   2015.000000   \n",
              "\n",
              "            zipcode           lat          long  sqft_living15     sqft_lot15  \\\n",
              "count  21613.000000  21613.000000  21613.000000   21613.000000   21613.000000   \n",
              "mean   98077.939805     47.560053   -122.213896    1986.552492   12768.455652   \n",
              "std       53.505026      0.138564      0.140828     685.391304   27304.179631   \n",
              "min    98001.000000     47.155900   -122.519000     399.000000     651.000000   \n",
              "25%    98033.000000     47.471000   -122.328000    1490.000000    5100.000000   \n",
              "50%    98065.000000     47.571800   -122.230000    1840.000000    7620.000000   \n",
              "75%    98118.000000     47.678000   -122.125000    2360.000000   10083.000000   \n",
              "max    98199.000000     47.777600   -121.315000    6210.000000  871200.000000   \n",
              "\n",
              "           new_date  \n",
              "count  21613.000000  \n",
              "mean    2014.322954  \n",
              "std        0.467616  \n",
              "min     2014.000000  \n",
              "25%     2014.000000  \n",
              "50%     2014.000000  \n",
              "75%     2015.000000  \n",
              "max     2015.000000  \n",
              "\n",
              "[8 rows x 21 columns]"
            ]
          },
          "metadata": {
            "tags": []
          },
          "execution_count": 12
        },
        {
          "output_type": "execute_result",
          "data": {
            "text/plain": [
              "array([[<matplotlib.axes._subplots.AxesSubplot object at 0x7f26728d10b8>,\n",
              "        <matplotlib.axes._subplots.AxesSubplot object at 0x7f26729d5438>,\n",
              "        <matplotlib.axes._subplots.AxesSubplot object at 0x7f2673156cc0>],\n",
              "       [<matplotlib.axes._subplots.AxesSubplot object at 0x7f26729a5eb8>,\n",
              "        <matplotlib.axes._subplots.AxesSubplot object at 0x7f2672955470>,\n",
              "        <matplotlib.axes._subplots.AxesSubplot object at 0x7f26729799e8>],\n",
              "       [<matplotlib.axes._subplots.AxesSubplot object at 0x7f2672921f60>,\n",
              "        <matplotlib.axes._subplots.AxesSubplot object at 0x7f2672892550>,\n",
              "        <matplotlib.axes._subplots.AxesSubplot object at 0x7f2672892588>],\n",
              "       [<matplotlib.axes._subplots.AxesSubplot object at 0x7f267286b048>,\n",
              "        <matplotlib.axes._subplots.AxesSubplot object at 0x7f267280e5c0>,\n",
              "        <matplotlib.axes._subplots.AxesSubplot object at 0x7f2672837b38>],\n",
              "       [<matplotlib.axes._subplots.AxesSubplot object at 0x7f26727ea0f0>,\n",
              "        <matplotlib.axes._subplots.AxesSubplot object at 0x7f267278f668>,\n",
              "        <matplotlib.axes._subplots.AxesSubplot object at 0x7f26727b7be0>],\n",
              "       [<matplotlib.axes._subplots.AxesSubplot object at 0x7f2672768198>,\n",
              "        <matplotlib.axes._subplots.AxesSubplot object at 0x7f267270d710>,\n",
              "        <matplotlib.axes._subplots.AxesSubplot object at 0x7f2672737c88>],\n",
              "       [<matplotlib.axes._subplots.AxesSubplot object at 0x7f26726e5240>,\n",
              "        <matplotlib.axes._subplots.AxesSubplot object at 0x7f267268d7b8>,\n",
              "        <matplotlib.axes._subplots.AxesSubplot object at 0x7f26726b7d30>]],\n",
              "      dtype=object)"
            ]
          },
          "metadata": {
            "tags": []
          },
          "execution_count": 12
        },
        {
          "output_type": "display_data",
          "data": {
            "image/png": "[encoded data removed]",
            "text/plain": [
              "<Figure size 720x1440 with 21 Axes>"
            ]
          },
          "metadata": {
            "tags": []
          }
        }
      ]
    },
    {
      "metadata": {
        "id": "1AaV_paf7-qY",
        "colab_type": "code",
        "colab": {
          "base_uri": "https://localhost:8080/",
          "height": 54
        },
        "outputId": "30ad4dfd-f34d-4c68-fc02-86b691ce02f1"
      },
      "cell_type": "code",
      "source": [
        "print(\"Looks no. of bedrooms,batrooms are highly right skewed, Id not required can be dropped\")\n",
        "print(\"price seems to be in increasing trend\")"
      ],
      "execution_count": 13,
      "outputs": [
        {
          "output_type": "stream",
          "text": [
            "Looks no. of bedrooms,batrooms are highly right skewed, Id not required can be dropped\n",
            "price seems to be in increasing trend\n"
          ],
          "name": "stdout"
        }
      ]
    },
    {
      "metadata": {
        "id": "C_mN-3ia9clw",
        "colab_type": "code",
        "colab": {}
      },
      "cell_type": "code",
      "source": [
        "house_data.drop(columns =\"id\",inplace = True,axis =1)"
      ],
      "execution_count": 0,
      "outputs": []
    },
    {
      "metadata": {
        "id": "5qEK4P2t9gpg",
        "colab_type": "code",
        "colab": {
          "base_uri": "https://localhost:8080/",
          "height": 35
        },
        "outputId": "a6e11360-4d1f-4274-ffa9-cf2b695691cb"
      },
      "cell_type": "code",
      "source": [
        "print(\"Bi variant analysis\")"
      ],
      "execution_count": 15,
      "outputs": [
        {
          "output_type": "stream",
          "text": [
            "Bi variant analysis\n"
          ],
          "name": "stdout"
        }
      ]
    },
    {
      "metadata": {
        "id": "Zj5CAjWc9tHJ",
        "colab_type": "code",
        "colab": {}
      },
      "cell_type": "code",
      "source": [
        "independent_dependent = house_data.corr()[\"price\"]\n",
        "independent_independent = house_data.drop(\"price\",axis =1).corr()\n",
        "\n"
      ],
      "execution_count": 0,
      "outputs": []
    },
    {
      "metadata": {
        "id": "WheaGak7_7eD",
        "colab_type": "code",
        "colab": {
          "base_uri": "https://localhost:8080/",
          "height": 405
        },
        "outputId": "afc2f9fc-9a5d-4cc0-a7c3-9f07d68a1daa"
      },
      "cell_type": "code",
      "source": [
        "independent_dependent"
      ],
      "execution_count": 17,
      "outputs": [
        {
          "output_type": "execute_result",
          "data": {
            "text/plain": [
              "price            1.000000\n",
              "bedrooms         0.308350\n",
              "bathrooms        0.525138\n",
              "sqft_living      0.702035\n",
              "sqft_lot         0.089661\n",
              "floors           0.256794\n",
              "waterfront       0.266369\n",
              "view             0.397293\n",
              "condition        0.036362\n",
              "grade            0.667434\n",
              "sqft_above       0.605567\n",
              "sqft_basement    0.323816\n",
              "yr_built         0.054012\n",
              "yr_renovated     0.126434\n",
              "zipcode         -0.053203\n",
              "lat              0.307003\n",
              "long             0.021626\n",
              "sqft_living15    0.585379\n",
              "sqft_lot15       0.082447\n",
              "new_date         0.003576\n",
              "Name: price, dtype: float64"
            ]
          },
          "metadata": {
            "tags": []
          },
          "execution_count": 17
        }
      ]
    },
    {
      "metadata": {
        "id": "19pyAYZo-o3N",
        "colab_type": "code",
        "colab": {
          "base_uri": "https://localhost:8080/",
          "height": 165
        },
        "outputId": "6c0148ce-8b5e-4a4e-e03f-802d64bbaf21"
      },
      "cell_type": "code",
      "source": [
        "print(\"Correlation analyis between Independent and Dependent\")\n",
        "for l,k in enumerate(independent_dependent):\n",
        "    if (-0.1 <= k <= 0.1):\n",
        "        print (\"Independent vs Dependent Weak Correlation found \",l,k)"
      ],
      "execution_count": 18,
      "outputs": [
        {
          "output_type": "stream",
          "text": [
            "Correlation analyis between Independent and Dependent\n",
            "Independent vs Dependent Weak Correlation found  4 0.08966086058710003\n",
            "Independent vs Dependent Weak Correlation found  8 0.03636178912899409\n",
            "Independent vs Dependent Weak Correlation found  12 0.05401153149478604\n",
            "Independent vs Dependent Weak Correlation found  14 -0.05320285429832495\n",
            "Independent vs Dependent Weak Correlation found  16 0.02162624103930622\n",
            "Independent vs Dependent Weak Correlation found  18 0.08244715251948594\n",
            "Independent vs Dependent Weak Correlation found  19 0.0035760408824665442\n"
          ],
          "name": "stdout"
        }
      ]
    },
    {
      "metadata": {
        "id": "tRr37M1N-ymy",
        "colab_type": "code",
        "colab": {
          "base_uri": "https://localhost:8080/",
          "height": 55
        },
        "outputId": "4b5906eb-0897-4e4b-fdf1-e426b757d0bf"
      },
      "cell_type": "code",
      "source": [
        "print(\"sq ft.lot,condition,yr_built,zipcode,long,sqft_lot15,new_date - All these features looks to be weak contributor for prediction as the value ranges between -0.1 to 0.1\")"
      ],
      "execution_count": 19,
      "outputs": [
        {
          "output_type": "stream",
          "text": [
            "sq ft.lot,condition,yr_built,zipcode,long,sqft_lot15,new_date - All these features looks to be weak contributor for prediction as the value ranges between -0.1 to 0.1\n"
          ],
          "name": "stdout"
        }
      ]
    },
    {
      "metadata": {
        "id": "CMO546wyAu45",
        "colab_type": "code",
        "colab": {
          "base_uri": "https://localhost:8080/",
          "height": 424
        },
        "outputId": "a38c6e1c-282f-4204-b504-81a798df5166"
      },
      "cell_type": "code",
      "source": [
        "print(\"Correlation analyis between Independent Features\")\n",
        "for l, l_val in enumerate (independent_independent.columns):\n",
        "    for k, values in enumerate(independent_independent.iloc[:,l]):\n",
        "        if values > 0.79:\n",
        "            print(independent_independent.index[k],\"-\",l_val,\"-\", independent_independent.iloc[k,l])"
      ],
      "execution_count": 20,
      "outputs": [
        {
          "output_type": "stream",
          "text": [
            "Correlation analyis between Independent Features\n",
            "bedrooms - bedrooms - 1.0\n",
            "bathrooms - bathrooms - 1.0\n",
            "sqft_living - sqft_living - 1.0\n",
            "sqft_above - sqft_living - 0.8765965986813212\n",
            "sqft_lot - sqft_lot - 1.0\n",
            "floors - floors - 1.0\n",
            "waterfront - waterfront - 1.0\n",
            "view - view - 1.0\n",
            "condition - condition - 1.0\n",
            "grade - grade - 1.0\n",
            "sqft_living - sqft_above - 0.8765965986813212\n",
            "sqft_above - sqft_above - 1.0\n",
            "sqft_basement - sqft_basement - 1.0\n",
            "yr_built - yr_built - 1.0\n",
            "yr_renovated - yr_renovated - 1.0\n",
            "zipcode - zipcode - 1.0\n",
            "lat - lat - 1.0\n",
            "long - long - 1.0\n",
            "sqft_living15 - sqft_living15 - 1.0\n",
            "sqft_lot15 - sqft_lot15 - 1.0\n",
            "new_date - new_date - 1.0\n"
          ],
          "name": "stdout"
        }
      ]
    },
    {
      "metadata": {
        "id": "OnqsyyQ2BZgl",
        "colab_type": "code",
        "colab": {
          "base_uri": "https://localhost:8080/",
          "height": 35
        },
        "outputId": "d50871ca-c38b-4608-9cc3-27cd71a3e465"
      },
      "cell_type": "code",
      "source": [
        "print(\"Looks Sqft Living and sqft_above has value greater than 0.8, looks both features are almost same\")"
      ],
      "execution_count": 21,
      "outputs": [
        {
          "output_type": "stream",
          "text": [
            "Looks Sqft Living and sqft_above has value greater than 0.8, looks both features are almost same\n"
          ],
          "name": "stdout"
        }
      ]
    },
    {
      "metadata": {
        "id": "jVlveMPVBqcP",
        "colab_type": "code",
        "colab": {
          "base_uri": "https://localhost:8080/",
          "height": 35
        },
        "outputId": "7443e807-ea76-42ed-9801-2c56abb1178d"
      },
      "cell_type": "code",
      "source": [
        "house_data[\"new_date\"].unique()\n",
        "print(\"Since only 2 values doing one hot encoding over the same\")"
      ],
      "execution_count": 22,
      "outputs": [
        {
          "output_type": "execute_result",
          "data": {
            "text/plain": [
              "array([2014, 2015])"
            ]
          },
          "metadata": {
            "tags": []
          },
          "execution_count": 22
        },
        {
          "output_type": "stream",
          "text": [
            "Since only 2 values doing one hot encoding over the same\n"
          ],
          "name": "stdout"
        }
      ]
    },
    {
      "metadata": {
        "id": "tr9WiQRwCDop",
        "colab_type": "code",
        "colab": {
          "base_uri": "https://localhost:8080/",
          "height": 35
        },
        "outputId": "b08ce063-c6ab-439f-967f-827413623d93"
      },
      "cell_type": "code",
      "source": [
        "print(\"Create dummies 1st to avoid Data Leak\")\n",
        "house_data = pd.get_dummies(house_data, columns=['new_date'])"
      ],
      "execution_count": 23,
      "outputs": [
        {
          "output_type": "stream",
          "text": [
            "Create dummies 1st to avoid Data Leak\n"
          ],
          "name": "stdout"
        }
      ]
    },
    {
      "metadata": {
        "id": "jRcgJH5xF0Vx",
        "colab_type": "code",
        "colab": {}
      },
      "cell_type": "code",
      "source": [
        "house_data_scaled = house_data.apply(zscore)\n",
        "Y = house_data_scaled['price']\n",
        "X = house_data_scaled.drop(columns = 'price')"
      ],
      "execution_count": 0,
      "outputs": []
    },
    {
      "metadata": {
        "id": "40C8_tK2CUvc",
        "colab_type": "code",
        "colab": {
          "base_uri": "https://localhost:8080/",
          "height": 165
        },
        "outputId": "756a4a3f-9273-4c57-c31d-8e37bafc6e27"
      },
      "cell_type": "code",
      "source": [
        "from sklearn.model_selection import KFold\n",
        "kf=KFold(n_splits=5,shuffle=True,random_state=2)\n",
        "rmse=[]\n",
        "acc=[]\n",
        "for train,test in kf.split(X,Y):\n",
        "    M=LinearRegression()\n",
        "    Xtrain,Xtest=X.iloc[train,:],X.iloc[test,:]\n",
        "    Ytrain,Ytest=Y[train],Y[test]\n",
        "    M.fit(Xtrain,Ytrain)\n",
        "    Y_predict=M.predict(Xtest)\n",
        "    acc.append(M.score((Xtrain), Ytrain))\n",
        "    rmse.append(np.sqrt(metrics.mean_squared_error(Ytest,Y_predict)))\n",
        "print(\"Cross-validated Score:%.2f%% \" % np.mean(rmse))\n",
        "print(\"Accuracy Score avg:%.2f%% \" % np.mean(acc)) \n",
        "print(\"bias and variance error of model 3 with all columns,\", np.mean(rmse),np.var(rmse))"
      ],
      "execution_count": 81,
      "outputs": [
        {
          "output_type": "execute_result",
          "data": {
            "text/plain": [
              "LinearRegression(copy_X=True, fit_intercept=True, n_jobs=None,\n",
              "         normalize=False)"
            ]
          },
          "metadata": {
            "tags": []
          },
          "execution_count": 81
        },
        {
          "output_type": "execute_result",
          "data": {
            "text/plain": [
              "LinearRegression(copy_X=True, fit_intercept=True, n_jobs=None,\n",
              "         normalize=False)"
            ]
          },
          "metadata": {
            "tags": []
          },
          "execution_count": 81
        },
        {
          "output_type": "execute_result",
          "data": {
            "text/plain": [
              "LinearRegression(copy_X=True, fit_intercept=True, n_jobs=None,\n",
              "         normalize=False)"
            ]
          },
          "metadata": {
            "tags": []
          },
          "execution_count": 81
        },
        {
          "output_type": "execute_result",
          "data": {
            "text/plain": [
              "LinearRegression(copy_X=True, fit_intercept=True, n_jobs=None,\n",
              "         normalize=False)"
            ]
          },
          "metadata": {
            "tags": []
          },
          "execution_count": 81
        },
        {
          "output_type": "execute_result",
          "data": {
            "text/plain": [
              "LinearRegression(copy_X=True, fit_intercept=True, n_jobs=None,\n",
              "         normalize=False)"
            ]
          },
          "metadata": {
            "tags": []
          },
          "execution_count": 81
        },
        {
          "output_type": "stream",
          "text": [
            "Cross-validated Score:0.55% \n",
            "Accuracy Score avg:0.70% \n",
            "bias and variance error of model 3 with all columns, 0.5478798683368832 0.00023355567559543963\n"
          ],
          "name": "stdout"
        }
      ]
    },
    {
      "metadata": {
        "id": "1IlLlJ2sDIGi",
        "colab_type": "code",
        "colab": {
          "base_uri": "https://localhost:8080/",
          "height": 35
        },
        "outputId": "fb28a542-8331-46f9-82e6-e23cc1c8a00b"
      },
      "cell_type": "code",
      "source": [
        "np.var(rmse)"
      ],
      "execution_count": 26,
      "outputs": [
        {
          "output_type": "execute_result",
          "data": {
            "text/plain": [
              "0.00023355567559543963"
            ]
          },
          "metadata": {
            "tags": []
          },
          "execution_count": 26
        }
      ]
    },
    {
      "metadata": {
        "id": "Wpds3PdKGSFw",
        "colab_type": "code",
        "colab": {
          "base_uri": "https://localhost:8080/",
          "height": 35
        },
        "outputId": "d2674528-86a4-467d-db31-63f964a50d2a"
      },
      "cell_type": "code",
      "source": [
        "print(\"bias and variance error of model 1 with all columns,\", np.mean(rmse),np.var(rmse))"
      ],
      "execution_count": 27,
      "outputs": [
        {
          "output_type": "stream",
          "text": [
            "bias and variance error of model 1 with all columns, 0.5478798683368832 0.00023355567559543963\n"
          ],
          "name": "stdout"
        }
      ]
    },
    {
      "metadata": {
        "id": "qp8MtOtpGgSH",
        "colab_type": "code",
        "colab": {
          "base_uri": "https://localhost:8080/",
          "height": 35
        },
        "outputId": "defb19cd-ec6a-4f93-cae4-b9b600840ca9"
      },
      "cell_type": "code",
      "source": [
        "print(\"Model 2, Dropping all columns that are not contributing to prediction and do prediction\")"
      ],
      "execution_count": 28,
      "outputs": [
        {
          "output_type": "stream",
          "text": [
            "Model 2, Dropping all columns that are not contributing to prediction and do prediction\n"
          ],
          "name": "stdout"
        }
      ]
    },
    {
      "metadata": {
        "id": "A4TCDlMZGy1N",
        "colab_type": "code",
        "colab": {}
      },
      "cell_type": "code",
      "source": [
        "#sq ft.lot,condition,yr_built,zipcode,long,sqft_lot15,new_date"
      ],
      "execution_count": 0,
      "outputs": []
    },
    {
      "metadata": {
        "id": "7fHlqO7yHSID",
        "colab_type": "code",
        "colab": {}
      },
      "cell_type": "code",
      "source": [
        "house_data2 = pd.read_csv(\"kc_house_data.csv\")"
      ],
      "execution_count": 0,
      "outputs": []
    },
    {
      "metadata": {
        "id": "U5_toOm5HZSZ",
        "colab_type": "code",
        "colab": {
          "base_uri": "https://localhost:8080/",
          "height": 498
        },
        "outputId": "bd499801-045a-4433-cc48-d6d499cd11e3"
      },
      "cell_type": "code",
      "source": [
        "house_data2.info()"
      ],
      "execution_count": 31,
      "outputs": [
        {
          "output_type": "stream",
          "text": [
            "<class 'pandas.core.frame.DataFrame'>\n",
            "RangeIndex: 21613 entries, 0 to 21612\n",
            "Data columns (total 21 columns):\n",
            "id               21613 non-null int64\n",
            "date             21613 non-null object\n",
            "price            21613 non-null float64\n",
            "bedrooms         21613 non-null int64\n",
            "bathrooms        21613 non-null float64\n",
            "sqft_living      21613 non-null int64\n",
            "sqft_lot         21613 non-null int64\n",
            "floors           21613 non-null float64\n",
            "waterfront       21613 non-null int64\n",
            "view             21613 non-null int64\n",
            "condition        21613 non-null int64\n",
            "grade            21613 non-null int64\n",
            "sqft_above       21613 non-null int64\n",
            "sqft_basement    21613 non-null int64\n",
            "yr_built         21613 non-null int64\n",
            "yr_renovated     21613 non-null int64\n",
            "zipcode          21613 non-null int64\n",
            "lat              21613 non-null float64\n",
            "long             21613 non-null float64\n",
            "sqft_living15    21613 non-null int64\n",
            "sqft_lot15       21613 non-null int64\n",
            "dtypes: float64(5), int64(15), object(1)\n",
            "memory usage: 3.5+ MB\n"
          ],
          "name": "stdout"
        }
      ]
    },
    {
      "metadata": {
        "id": "sBeUUniyHUYb",
        "colab_type": "code",
        "colab": {}
      },
      "cell_type": "code",
      "source": [
        "house_data2.drop(columns = [\"id\",\"sqft_lot15\",\"condition\",\"yr_built\",\"sqft_lot\",\"zipcode\",\"long\"],axis = 1, inplace =True)"
      ],
      "execution_count": 0,
      "outputs": []
    },
    {
      "metadata": {
        "id": "WdPm--kPH1zt",
        "colab_type": "code",
        "colab": {
          "base_uri": "https://localhost:8080/",
          "height": 35
        },
        "outputId": "786a7b2b-724f-4753-8978-59d3836e792a"
      },
      "cell_type": "code",
      "source": [
        "print(\"Keeping only the year for prediction\")\n",
        "house_data2[\"new_date\"] = house_data2[\"date\"].str.slice(stop=4)"
      ],
      "execution_count": 33,
      "outputs": [
        {
          "output_type": "stream",
          "text": [
            "Keeping only the year for prediction\n"
          ],
          "name": "stdout"
        }
      ]
    },
    {
      "metadata": {
        "id": "6My20d9VIBDv",
        "colab_type": "code",
        "colab": {}
      },
      "cell_type": "code",
      "source": [
        "house_data2.drop(columns = [\"date\"],axis = 1, inplace =True)"
      ],
      "execution_count": 0,
      "outputs": []
    },
    {
      "metadata": {
        "id": "NUiCn0UbIFSW",
        "colab_type": "code",
        "colab": {
          "base_uri": "https://localhost:8080/",
          "height": 35
        },
        "outputId": "139aeda6-398d-48a7-cb1b-610575410547"
      },
      "cell_type": "code",
      "source": [
        "print(\"Create dummies 1st to avoid Data Leak\")\n",
        "house_data2 = pd.get_dummies(house_data2, columns=['new_date'])"
      ],
      "execution_count": 35,
      "outputs": [
        {
          "output_type": "stream",
          "text": [
            "Create dummies 1st to avoid Data Leak\n"
          ],
          "name": "stdout"
        }
      ]
    },
    {
      "metadata": {
        "id": "IT3bm2syJhaX",
        "colab_type": "code",
        "colab": {
          "base_uri": "https://localhost:8080/",
          "height": 405
        },
        "outputId": "e670321e-ba70-44b4-f993-391dcba82953"
      },
      "cell_type": "code",
      "source": [
        "house_data2.info()\n",
        "house_data2.shape"
      ],
      "execution_count": 36,
      "outputs": [
        {
          "output_type": "stream",
          "text": [
            "<class 'pandas.core.frame.DataFrame'>\n",
            "RangeIndex: 21613 entries, 0 to 21612\n",
            "Data columns (total 15 columns):\n",
            "price            21613 non-null float64\n",
            "bedrooms         21613 non-null int64\n",
            "bathrooms        21613 non-null float64\n",
            "sqft_living      21613 non-null int64\n",
            "floors           21613 non-null float64\n",
            "waterfront       21613 non-null int64\n",
            "view             21613 non-null int64\n",
            "grade            21613 non-null int64\n",
            "sqft_above       21613 non-null int64\n",
            "sqft_basement    21613 non-null int64\n",
            "yr_renovated     21613 non-null int64\n",
            "lat              21613 non-null float64\n",
            "sqft_living15    21613 non-null int64\n",
            "new_date_2014    21613 non-null uint8\n",
            "new_date_2015    21613 non-null uint8\n",
            "dtypes: float64(4), int64(9), uint8(2)\n",
            "memory usage: 2.2 MB\n"
          ],
          "name": "stdout"
        },
        {
          "output_type": "execute_result",
          "data": {
            "text/plain": [
              "(21613, 15)"
            ]
          },
          "metadata": {
            "tags": []
          },
          "execution_count": 36
        }
      ]
    },
    {
      "metadata": {
        "id": "ASf8w0chINAj",
        "colab_type": "code",
        "colab": {}
      },
      "cell_type": "code",
      "source": [
        "house_data2_scaled = house_data2.apply(zscore)\n",
        "Y2 = house_data2_scaled['price']\n",
        "X2 = house_data2_scaled.drop(columns = 'price')"
      ],
      "execution_count": 0,
      "outputs": []
    },
    {
      "metadata": {
        "id": "AccQedW8IT0g",
        "colab_type": "code",
        "colab": {
          "base_uri": "https://localhost:8080/",
          "height": 165
        },
        "outputId": "5ce4e280-7008-4d15-d34e-ff792c9ade7b"
      },
      "cell_type": "code",
      "source": [
        "from sklearn.model_selection import KFold\n",
        "kf2=KFold(n_splits=5,shuffle=True,random_state=2)\n",
        "rmse2=[]\n",
        "acc2=[]\n",
        "for train2,test2 in kf2.split(X2,Y2):\n",
        "    M2=LinearRegression()\n",
        "    X2train,X2test=X2.iloc[train2,:],X2.iloc[test2,:]\n",
        "    Y2train,Y2test=Y2[train2],Y2[test2]\n",
        "    M2.fit(X2train,Y2train)\n",
        "    Y2_predict=M2.predict(X2test)\n",
        "   # print('score ',M2.score((X2train), Y2train))\n",
        "    rmse2.append(np.sqrt(metrics.mean_squared_error(Y2test,Y2_predict)))\n",
        "    acc2.append(M2.score((X2train), Y2train))\n",
        "print(\"Cross-validated Score:%.2f%% \" % np.mean(rmse2))\n",
        "print(\"Accuracy Score avg:%.2f%% \" % np.mean(acc2))\n",
        "print(\"bias and variance error of model 3 with all columns,\", np.mean(rmse2),np.var(rmse2))"
      ],
      "execution_count": 80,
      "outputs": [
        {
          "output_type": "execute_result",
          "data": {
            "text/plain": [
              "LinearRegression(copy_X=True, fit_intercept=True, n_jobs=None,\n",
              "         normalize=False)"
            ]
          },
          "metadata": {
            "tags": []
          },
          "execution_count": 80
        },
        {
          "output_type": "execute_result",
          "data": {
            "text/plain": [
              "LinearRegression(copy_X=True, fit_intercept=True, n_jobs=None,\n",
              "         normalize=False)"
            ]
          },
          "metadata": {
            "tags": []
          },
          "execution_count": 80
        },
        {
          "output_type": "execute_result",
          "data": {
            "text/plain": [
              "LinearRegression(copy_X=True, fit_intercept=True, n_jobs=None,\n",
              "         normalize=False)"
            ]
          },
          "metadata": {
            "tags": []
          },
          "execution_count": 80
        },
        {
          "output_type": "execute_result",
          "data": {
            "text/plain": [
              "LinearRegression(copy_X=True, fit_intercept=True, n_jobs=None,\n",
              "         normalize=False)"
            ]
          },
          "metadata": {
            "tags": []
          },
          "execution_count": 80
        },
        {
          "output_type": "execute_result",
          "data": {
            "text/plain": [
              "LinearRegression(copy_X=True, fit_intercept=True, n_jobs=None,\n",
              "         normalize=False)"
            ]
          },
          "metadata": {
            "tags": []
          },
          "execution_count": 80
        },
        {
          "output_type": "stream",
          "text": [
            "Cross-validated Score:0.58% \n",
            "Accuracy Score avg:0.66% \n",
            "bias and variance error of model 3 with all columns, 0.5818784912701016 0.0002511974407947851\n"
          ],
          "name": "stdout"
        }
      ]
    },
    {
      "metadata": {
        "id": "XQ1YbcJIJ6TS",
        "colab_type": "code",
        "colab": {
          "base_uri": "https://localhost:8080/",
          "height": 35
        },
        "outputId": "5ada22fd-0ce3-4c10-d10a-2054f594be1d"
      },
      "cell_type": "code",
      "source": [
        "print(\"bias and variance error of model 2 with all columns,\", np.mean(rmse2),np.var(rmse2))"
      ],
      "execution_count": 41,
      "outputs": [
        {
          "output_type": "stream",
          "text": [
            "bias and variance error of model 2 with all columns, 0.5818784912701016 0.0002511974407947851\n"
          ],
          "name": "stdout"
        }
      ]
    },
    {
      "metadata": {
        "id": "0iCS8L9oIxIu",
        "colab_type": "code",
        "colab": {
          "base_uri": "https://localhost:8080/",
          "height": 35
        },
        "outputId": "57f4ff2d-71e8-439f-ece0-befef7696344"
      },
      "cell_type": "code",
      "source": [
        "print(\"Model 3 using PCA\")"
      ],
      "execution_count": 42,
      "outputs": [
        {
          "output_type": "stream",
          "text": [
            "Model 3 using PCA\n"
          ],
          "name": "stdout"
        }
      ]
    },
    {
      "metadata": {
        "id": "vZywRj3cKA7y",
        "colab_type": "code",
        "colab": {
          "base_uri": "https://localhost:8080/",
          "height": 54
        },
        "outputId": "29d87b04-3b71-4c77-d28d-4ce1e58bc5c0"
      },
      "cell_type": "code",
      "source": [
        "from sklearn.decomposition import PCA\n",
        "house_data3 = pd.read_csv(\"kc_house_data.csv\")\n",
        "print(\"Keeping only the year for prediction\")\n",
        "house_data3[\"new_date\"] = house_data3[\"date\"].str.slice(stop=4)\n",
        "print(\"Create dummies 1st to avoid Data Leak\")\n",
        "house_data3 = pd.get_dummies(house_data3, columns=['new_date'])\n",
        "house_data3.drop(columns = [\"id\",\"date\",\"price\"],axis = 1, inplace =True)"
      ],
      "execution_count": 53,
      "outputs": [
        {
          "output_type": "stream",
          "text": [
            "Keeping only the year for prediction\n",
            "Create dummies 1st to avoid Data Leak\n"
          ],
          "name": "stdout"
        }
      ]
    },
    {
      "metadata": {
        "id": "qXfDaaPsNdRu",
        "colab_type": "code",
        "colab": {
          "base_uri": "https://localhost:8080/",
          "height": 479
        },
        "outputId": "05dd8c22-4c97-469a-aff1-0ca0d2605ffe"
      },
      "cell_type": "code",
      "source": [
        "house_data3.info()"
      ],
      "execution_count": 54,
      "outputs": [
        {
          "output_type": "stream",
          "text": [
            "<class 'pandas.core.frame.DataFrame'>\n",
            "RangeIndex: 21613 entries, 0 to 21612\n",
            "Data columns (total 20 columns):\n",
            "bedrooms         21613 non-null int64\n",
            "bathrooms        21613 non-null float64\n",
            "sqft_living      21613 non-null int64\n",
            "sqft_lot         21613 non-null int64\n",
            "floors           21613 non-null float64\n",
            "waterfront       21613 non-null int64\n",
            "view             21613 non-null int64\n",
            "condition        21613 non-null int64\n",
            "grade            21613 non-null int64\n",
            "sqft_above       21613 non-null int64\n",
            "sqft_basement    21613 non-null int64\n",
            "yr_built         21613 non-null int64\n",
            "yr_renovated     21613 non-null int64\n",
            "zipcode          21613 non-null int64\n",
            "lat              21613 non-null float64\n",
            "long             21613 non-null float64\n",
            "sqft_living15    21613 non-null int64\n",
            "sqft_lot15       21613 non-null int64\n",
            "new_date_2014    21613 non-null uint8\n",
            "new_date_2015    21613 non-null uint8\n",
            "dtypes: float64(4), int64(14), uint8(2)\n",
            "memory usage: 3.0 MB\n"
          ],
          "name": "stdout"
        }
      ]
    },
    {
      "metadata": {
        "id": "kWyG43pxM1M_",
        "colab_type": "code",
        "colab": {
          "base_uri": "https://localhost:8080/",
          "height": 185
        },
        "outputId": "e927b2a3-89e5-49ab-ad3d-5f5ac1831585"
      },
      "cell_type": "code",
      "source": [
        "X_centered = house_data3 - house_data3.mean(axis=0)\n",
        "pca = PCA().fit(X_centered)\n",
        "pca.explained_variance_\n",
        "np.cumsum(pca.explained_variance_ratio_)\n",
        "#pca.components_\n",
        "X_pca = pca.transform(X_centered)\n",
        "\n",
        "\n"
      ],
      "execution_count": 55,
      "outputs": [
        {
          "output_type": "execute_result",
          "data": {
            "text/plain": [
              "array([2.17707162e+09, 2.84181405e+08, 1.68537090e+06, 2.78815989e+05,\n",
              "       1.68512722e+05, 1.48055745e+05, 2.60010779e+03, 5.95063359e+02,\n",
              "       6.29182237e-01, 4.78210463e-01, 4.46517145e-01, 4.20385238e-01,\n",
              "       3.36382662e-01, 2.12420422e-01, 1.24440286e-01, 1.64538028e-02,\n",
              "       1.07536712e-02, 6.20152214e-03, 4.55561361e-25, 6.76670519e-33])"
            ]
          },
          "metadata": {
            "tags": []
          },
          "execution_count": 55
        },
        {
          "output_type": "execute_result",
          "data": {
            "text/plain": [
              "array([0.88371786, 0.9990729 , 0.99975702, 0.9998702 , 0.9999386 ,\n",
              "       0.9999987 , 0.99999976, 1.        , 1.        , 1.        ,\n",
              "       1.        , 1.        , 1.        , 1.        , 1.        ,\n",
              "       1.        , 1.        , 1.        , 1.        , 1.        ])"
            ]
          },
          "metadata": {
            "tags": []
          },
          "execution_count": 55
        }
      ]
    },
    {
      "metadata": {
        "id": "EnOIKfvbNlWQ",
        "colab_type": "code",
        "colab": {
          "base_uri": "https://localhost:8080/",
          "height": 706
        },
        "outputId": "cefcb9e3-6bfe-4853-bb2a-8080b5a23f05"
      },
      "cell_type": "code",
      "source": [
        "import matplotlib.pyplot as plt\n",
        "plt.figure(figsize=(10,7))\n",
        "\n",
        "plt.plot(np.cumsum(pca.explained_variance_ratio_), color='k', lw=2)\n",
        "\n",
        "plt.xlabel('Number of components')\n",
        "plt.ylabel('Total explained variance')\n",
        "\n",
        "plt.xlim(0, 63)\n",
        "plt.yticks(np.arange(0, 1.1, 0.1))\n",
        "\n",
        "plt.axvline(21, c='b')\n",
        "plt.axhline(0.9, c='r')\n",
        "\n",
        "plt.show()"
      ],
      "execution_count": 56,
      "outputs": [
        {
          "output_type": "execute_result",
          "data": {
            "text/plain": [
              "<Figure size 720x504 with 0 Axes>"
            ]
          },
          "metadata": {
            "tags": []
          },
          "execution_count": 56
        },
        {
          "output_type": "execute_result",
          "data": {
            "text/plain": [
              "[<matplotlib.lines.Line2D at 0x7f266e82a7f0>]"
            ]
          },
          "metadata": {
            "tags": []
          },
          "execution_count": 56
        },
        {
          "output_type": "execute_result",
          "data": {
            "text/plain": [
              "Text(0.5, 0, 'Number of components')"
            ]
          },
          "metadata": {
            "tags": []
          },
          "execution_count": 56
        },
        {
          "output_type": "execute_result",
          "data": {
            "text/plain": [
              "Text(0, 0.5, 'Total explained variance')"
            ]
          },
          "metadata": {
            "tags": []
          },
          "execution_count": 56
        },
        {
          "output_type": "execute_result",
          "data": {
            "text/plain": [
              "(0, 63)"
            ]
          },
          "metadata": {
            "tags": []
          },
          "execution_count": 56
        },
        {
          "output_type": "execute_result",
          "data": {
            "text/plain": [
              "([<matplotlib.axis.YTick at 0x7f266cef5320>,\n",
              "  <matplotlib.axis.YTick at 0x7f266cef59b0>,\n",
              "  <matplotlib.axis.YTick at 0x7f266e2ce908>,\n",
              "  <matplotlib.axis.YTick at 0x7f266e82a0b8>,\n",
              "  <matplotlib.axis.YTick at 0x7f266e820438>,\n",
              "  <matplotlib.axis.YTick at 0x7f266e820908>,\n",
              "  <matplotlib.axis.YTick at 0x7f266e820dd8>,\n",
              "  <matplotlib.axis.YTick at 0x7f266e81a2e8>,\n",
              "  <matplotlib.axis.YTick at 0x7f266e81a7b8>,\n",
              "  <matplotlib.axis.YTick at 0x7f266e8208d0>,\n",
              "  <matplotlib.axis.YTick at 0x7f266e81ac88>],\n",
              " <a list of 11 Text yticklabel objects>)"
            ]
          },
          "metadata": {
            "tags": []
          },
          "execution_count": 56
        },
        {
          "output_type": "execute_result",
          "data": {
            "text/plain": [
              "<matplotlib.lines.Line2D at 0x7f266e811470>"
            ]
          },
          "metadata": {
            "tags": []
          },
          "execution_count": 56
        },
        {
          "output_type": "execute_result",
          "data": {
            "text/plain": [
              "<matplotlib.lines.Line2D at 0x7f266e81aef0>"
            ]
          },
          "metadata": {
            "tags": []
          },
          "execution_count": 56
        },
        {
          "output_type": "display_data",
          "data": {
            "image/png": "[encoded data removed]",
            "text/plain": [
              "<Figure size 720x504 with 1 Axes>"
            ]
          },
          "metadata": {
            "tags": []
          }
        }
      ]
    },
    {
      "metadata": {
        "id": "EBCP3fWwN4Fl",
        "colab_type": "code",
        "colab": {
          "base_uri": "https://localhost:8080/",
          "height": 54
        },
        "outputId": "40f88cdf-a4b3-4a7f-e972-416167635fa6"
      },
      "cell_type": "code",
      "source": [
        "house_data4 = pd.read_csv(\"kc_house_data.csv\")\n",
        "print(\"Keeping only the year for prediction\")\n",
        "house_data4[\"new_date\"] = house_data4[\"date\"].str.slice(stop=4)\n",
        "print(\"Create dummies 1st to avoid Data Leak\")\n",
        "house_data4 = pd.get_dummies(house_data4, columns=['new_date'])\n",
        "house_data4.drop(columns = [\"id\",\"date\"],axis = 1,inplace =True)\n",
        "house_data4_scaled = house_data2.apply(zscore)\n",
        "Y4 = house_data4_scaled['price']\n",
        "X4 = house_data4_scaled.drop(columns = 'price')"
      ],
      "execution_count": 58,
      "outputs": [
        {
          "output_type": "stream",
          "text": [
            "Keeping only the year for prediction\n",
            "Create dummies 1st to avoid Data Leak\n"
          ],
          "name": "stdout"
        }
      ]
    },
    {
      "metadata": {
        "id": "I0e96ftXQae8",
        "colab_type": "code",
        "colab": {}
      },
      "cell_type": "code",
      "source": [
        "X4_train, X4_test, y4_train, y4_test = train_test_split(X4, Y4, test_size=.3)"
      ],
      "execution_count": 0,
      "outputs": []
    },
    {
      "metadata": {
        "id": "Aytn-arhQgpe",
        "colab_type": "code",
        "colab": {
          "base_uri": "https://localhost:8080/",
          "height": 54
        },
        "outputId": "351c5a9c-622e-421e-9384-20e4ff078d42"
      },
      "cell_type": "code",
      "source": [
        "X4_train_centered = X4_train - X4_train.mean(axis=0)\n",
        "pca = PCA(n_components=2)\n",
        "pca.fit(X4_train_centered)"
      ],
      "execution_count": 63,
      "outputs": [
        {
          "output_type": "execute_result",
          "data": {
            "text/plain": [
              "PCA(copy=True, iterated_power='auto', n_components=2, random_state=None,\n",
              "  svd_solver='auto', tol=0.0, whiten=False)"
            ]
          },
          "metadata": {
            "tags": []
          },
          "execution_count": 63
        }
      ]
    },
    {
      "metadata": {
        "id": "aFMrHdBeROq7",
        "colab_type": "code",
        "colab": {
          "base_uri": "https://localhost:8080/",
          "height": 165
        },
        "outputId": "1ba0935b-d456-48a9-974c-ebc585f5f131"
      },
      "cell_type": "code",
      "source": [
        "from sklearn.model_selection import KFold\n",
        "kf4=KFold(n_splits=5,shuffle=True,random_state=2)\n",
        "rmse4=[]\n",
        "acc4=[]\n",
        "for train4,test4 in kf4.split(X4,Y4):\n",
        "    M4=LinearRegression()\n",
        "    X4train,X4test=X4.iloc[train4,:],X4.iloc[test4,:]\n",
        "    Y4train,Y4test=Y4[train4],Y4[test4]\n",
        "    M4.fit(pca.transform(X4train),Y4train)\n",
        "    Y4_predict=M4.predict(pca.transform(X4test))\n",
        "    acc4.append(M4.score(pca.transform(X4train), Y4train))\n",
        "    rmse4.append(np.sqrt(metrics.mean_squared_error(Y4test,Y4_predict)))\n",
        "print(\"Cross-validated Score:%.2f%% \" % np.mean(rmse4))\n",
        "print(\"Accuracy Score avg:%.2f%% \" % np.mean(acc4))\n",
        "print(\"bias and variance error of model 3 with all columns,\", np.mean(rmse4),np.var(rmse4))"
      ],
      "execution_count": 78,
      "outputs": [
        {
          "output_type": "execute_result",
          "data": {
            "text/plain": [
              "LinearRegression(copy_X=True, fit_intercept=True, n_jobs=None,\n",
              "         normalize=False)"
            ]
          },
          "metadata": {
            "tags": []
          },
          "execution_count": 78
        },
        {
          "output_type": "execute_result",
          "data": {
            "text/plain": [
              "LinearRegression(copy_X=True, fit_intercept=True, n_jobs=None,\n",
              "         normalize=False)"
            ]
          },
          "metadata": {
            "tags": []
          },
          "execution_count": 78
        },
        {
          "output_type": "execute_result",
          "data": {
            "text/plain": [
              "LinearRegression(copy_X=True, fit_intercept=True, n_jobs=None,\n",
              "         normalize=False)"
            ]
          },
          "metadata": {
            "tags": []
          },
          "execution_count": 78
        },
        {
          "output_type": "execute_result",
          "data": {
            "text/plain": [
              "LinearRegression(copy_X=True, fit_intercept=True, n_jobs=None,\n",
              "         normalize=False)"
            ]
          },
          "metadata": {
            "tags": []
          },
          "execution_count": 78
        },
        {
          "output_type": "execute_result",
          "data": {
            "text/plain": [
              "LinearRegression(copy_X=True, fit_intercept=True, n_jobs=None,\n",
              "         normalize=False)"
            ]
          },
          "metadata": {
            "tags": []
          },
          "execution_count": 78
        },
        {
          "output_type": "stream",
          "text": [
            "Cross-validated Score:0.70% \n",
            "Accuracy Score avg:0.51% \n",
            "bias and variance error of model 3 with all columns, 0.7035317585994488 0.00016713654363534873\n"
          ],
          "name": "stdout"
        }
      ]
    },
    {
      "metadata": {
        "id": "N5-4JEZdTSZE",
        "colab_type": "code",
        "colab": {
          "base_uri": "https://localhost:8080/",
          "height": 35
        },
        "outputId": "a999021e-e5e8-49f1-dbdb-b45f60787edd"
      },
      "cell_type": "code",
      "source": [
        "print(\"bias and variance error of model 3 with all columns,\", np.mean(rmse4),np.var(rmse4))"
      ],
      "execution_count": 66,
      "outputs": [
        {
          "output_type": "stream",
          "text": [
            "bias and variance error of model 3 with all columns, 0.7035317585994488 0.00016713654363534873\n"
          ],
          "name": "stdout"
        }
      ]
    },
    {
      "metadata": {
        "id": "6HsLlzyTThsq",
        "colab_type": "code",
        "colab": {}
      },
      "cell_type": "code",
      "source": [
        "#Model - Accuracy Score avg:0.70% \n",
        "#bias and variance error of model 3 with all columns, 0.5478798683368832 0.00023355567559543963"
      ],
      "execution_count": 0,
      "outputs": []
    },
    {
      "metadata": {
        "id": "SYjAF63FX42P",
        "colab_type": "code",
        "colab": {}
      },
      "cell_type": "code",
      "source": [
        "#Model 2 - Accuracy Score avg:0.66% \n",
        "#bias and variance error of model 3 with all columns, 0.5818784912701016 0.0002511974407947851"
      ],
      "execution_count": 0,
      "outputs": []
    },
    {
      "metadata": {
        "id": "k3LR_RJxX5FM",
        "colab_type": "code",
        "colab": {}
      },
      "cell_type": "code",
      "source": [
        "#Model 3 - Accuracy Score avg:0.51% \n",
        "#bias and variance error of model 3 with all columns, 0.7035317585994488 0.00016713654363534873"
      ],
      "execution_count": 0,
      "outputs": []
    },
    {
      "metadata": {
        "id": "IvXQNsSqYICT",
        "colab_type": "code",
        "colab": {
          "base_uri": "https://localhost:8080/",
          "height": 35
        },
        "outputId": "43c3899e-3386-4a85-fcf0-eafb39f3cecc"
      },
      "cell_type": "code",
      "source": [
        "print(\"analysing above 3 model results, looking for trade off between bias and variance error, It looks model 2 is poor.\")"
      ],
      "execution_count": 82,
      "outputs": [
        {
          "output_type": "stream",
          "text": [
            "analysing above 3 model results, looking for trade off between bias and variance error, It looks model 2 is poor.\n"
          ],
          "name": "stdout"
        }
      ]
    },
    {
      "metadata": {
        "id": "vsN8cPKHYcmI",
        "colab_type": "code",
        "colab": {
          "base_uri": "https://localhost:8080/",
          "height": 55
        },
        "outputId": "fa307980-dba3-4ea9-a7eb-210f2d706ea7"
      },
      "cell_type": "code",
      "source": [
        "print(\"When comparing 1 and 3, model 3 has less variance error when compared to model 1 but, bias error seems to be peeking up by 16%\")"
      ],
      "execution_count": 83,
      "outputs": [
        {
          "output_type": "stream",
          "text": [
            "When comparing 1 and 3, model 3 has less variance error when compared to model 1 but, bias error seems to be peeking up by 16%\n"
          ],
          "name": "stdout"
        }
      ]
    },
    {
      "metadata": {
        "id": "mAl1p78saFgA",
        "colab_type": "code",
        "colab": {
          "base_uri": "https://localhost:8080/",
          "height": 55
        },
        "outputId": "d71b1e48-d659-400d-e022-6da60eeee277"
      },
      "cell_type": "code",
      "source": [
        "print(\"Since varinace error diff is very minimal between model 1 and 3, and model 1 seems to have less bias error, Choosing model 1 as best model\")"
      ],
      "execution_count": 84,
      "outputs": [
        {
          "output_type": "stream",
          "text": [
            "Since varinace error diff is very minimal between model 1 and 3, and model 1 seems to have less bias error, Choosing model 1 as best model\n"
          ],
          "name": "stdout"
        }
      ]
    },
    {
      "metadata": {
        "id": "4RUrtd6RaaF5",
        "colab_type": "code",
        "colab": {
          "base_uri": "https://localhost:8080/",
          "height": 35
        },
        "outputId": "aadc9932-f37b-4340-81b5-a3fcfc8c7a0f"
      },
      "cell_type": "code",
      "source": [
        "print(\"Model 1 is best\")"
      ],
      "execution_count": 85,
      "outputs": [
        {
          "output_type": "stream",
          "text": [
            "Model 1 is best\n"
          ],
          "name": "stdout"
        }
      ]
    },
    {
      "metadata": {
        "id": "em64j7xjac5-",
        "colab_type": "code",
        "colab": {}
      },
      "cell_type": "code",
      "source": [
        ""
      ],
      "execution_count": 0,
      "outputs": []
    }
  ]
}