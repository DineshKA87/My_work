{
  "nbformat": 4,
  "nbformat_minor": 0,
  "metadata": {
    "colab": {
      "name": "Multidigit.ipynb",
      "version": "0.3.2",
      "provenance": [],
      "collapsed_sections": []
    },
    "kernelspec": {
      "name": "python3",
      "display_name": "Python 3"
    }
  },
  "cells": [
    {
      "cell_type": "code",
      "metadata": {
        "id": "6QCxAELpfdHz",
        "colab_type": "code",
        "outputId": "8b7d427c-c940-4ec5-a760-4e5fd976e9af",
        "colab": {
          "base_uri": "https://localhost:8080/",
          "height": 122
        }
      },
      "source": [
        "\n",
        "from google.colab import drive\n",
        "drive.mount('/content/gdrive')"
      ],
      "execution_count": 0,
      "outputs": [
        {
          "output_type": "stream",
          "text": [
            "Go to this URL in a browser: https://accounts.google.com/o/oauth2/auth?client_id=947318989803-6bn6qk8qdgf4n4g3pfee6491hc0brc4i.apps.googleusercontent.com&redirect_uri=urn%3Aietf%3Awg%3Aoauth%3A2.0%3Aoob&scope=email%20https%3A%2F%2Fwww.googleapis.com%2Fauth%2Fdocs.test%20https%3A%2F%2Fwww.googleapis.com%2Fauth%2Fdrive%20https%3A%2F%2Fwww.googleapis.com%2Fauth%2Fdrive.photos.readonly%20https%3A%2F%2Fwww.googleapis.com%2Fauth%2Fpeopleapi.readonly&response_type=code\n",
            "\n",
            "Enter your authorization code:\n",
            "··········\n",
            "Mounted at /content/gdrive\n"
          ],
          "name": "stdout"
        }
      ]
    },
    {
      "cell_type": "code",
      "metadata": {
        "id": "BKvDCpeVJtz9",
        "colab_type": "code",
        "outputId": "9ad2a474-d1b0-4480-f3cf-339df84ca0b3",
        "colab": {
          "base_uri": "https://localhost:8080/",
          "height": 34
        }
      },
      "source": [
        "import matplotlib.pyplot as plt\n",
        "from matplotlib import style\n",
        "from IPython.core.interactiveshell import InteractiveShell\n",
        "InteractiveShell.ast_node_interactivity = \"all\"\n",
        "import tensorflow as tf\n",
        "tf.set_random_seed(42)\n",
        "# Ignore  the warnings\n",
        "import warnings\n",
        "warnings.filterwarnings('always')\n",
        "warnings.filterwarnings('ignore')\n",
        "\n",
        "# data visualisation and manipulation\n",
        "import numpy as np\n",
        "import pandas as pd\n",
        "import matplotlib.pyplot as plt\n",
        "from matplotlib import style\n",
        "import seaborn as sns\n",
        " \n",
        "#configure\n",
        "# sets matplotlib to inline and displays graphs below the corressponding cell.\n",
        "%matplotlib inline  \n",
        "style.use('fivethirtyeight')\n",
        "sns.set(style='whitegrid',color_codes=True)\n",
        "\n",
        "#model selection\n",
        "from sklearn.model_selection import train_test_split\n",
        "from sklearn.model_selection import KFold\n",
        "from sklearn.metrics import accuracy_score,precision_score,recall_score,confusion_matrix,roc_curve,roc_auc_score\n",
        "from sklearn.model_selection import GridSearchCV\n",
        "from sklearn.preprocessing import LabelEncoder\n",
        "\n",
        "#preprocess.\n",
        "from keras.preprocessing.image import ImageDataGenerator\n",
        "\n",
        "#dl libraraies\n",
        "from keras import backend as K\n",
        "import keras\n",
        "from keras.models import Sequential\n",
        "from keras.layers import Dense\n",
        "from keras.optimizers import Adam,SGD,Adagrad,Adadelta,RMSprop\n",
        "from keras.utils import to_categorical\n",
        "from keras.callbacks import ReduceLROnPlateau\n",
        "from keras.utils import np_utils\n",
        "from keras.layers import Dropout, Flatten,Activation\n",
        "from keras.layers import Conv2D, MaxPooling2D, BatchNormalization\n",
        " \n",
        "# specifically for cnn\n",
        "\n",
        "from keras.layers import Dense, Activation, Dropout, Flatten, Reshape\n",
        "from keras.layers import Convolution2D\n",
        "from keras.utils import np_utils\n",
        " \n",
        "import tensorflow as tf\n",
        "import random as rn\n",
        "\n",
        "# specifically for manipulating zipped images and getting numpy arrays of pixel values of images.\n",
        "import cv2                  \n",
        "import numpy as np  \n",
        "from tqdm import tqdm\n",
        "import os                   \n",
        "from random import shuffle  \n",
        "from zipfile import ZipFile\n",
        "from PIL import Image\n",
        "\n",
        "#TL pecific modules\n",
        "from keras.applications.vgg16 import VGG16\n",
        "\n",
        "import skimage.io as io"
      ],
      "execution_count": 0,
      "outputs": [
        {
          "output_type": "stream",
          "text": [
            "Using TensorFlow backend.\n"
          ],
          "name": "stderr"
        }
      ]
    },
    {
      "cell_type": "code",
      "metadata": {
        "id": "9DjnS9p6MGtY",
        "colab_type": "code",
        "outputId": "5f37f7e7-54f6-4626-f251-37cdc9641df0",
        "colab": {
          "base_uri": "https://localhost:8080/",
          "height": 34
        }
      },
      "source": [
        "import cv2\n",
        "import numpy as np\n",
        "import h5py\n",
        "f = h5py.File('/content/gdrive/My Drive/ML/Data_set/Multi numbers/SVHN_single_grey1.h5', 'r')\n",
        "#dset = f['key']\n",
        "#data = np.array(dset[:,:,:])\n",
        "#file = 'test.jpg'\n",
        "#cv2.imwrite(file, data)\n",
        "list(f.keys())"
      ],
      "execution_count": 0,
      "outputs": [
        {
          "output_type": "execute_result",
          "data": {
            "text/plain": [
              "['X_test', 'X_train', 'X_val', 'y_test', 'y_train', 'y_val']"
            ]
          },
          "metadata": {
            "tags": []
          },
          "execution_count": 3
        }
      ]
    },
    {
      "cell_type": "code",
      "metadata": {
        "id": "PrQT-1Z8s38I",
        "colab_type": "code",
        "outputId": "21e693a6-b08b-487c-a8ef-698e86d9af1e",
        "colab": {
          "base_uri": "https://localhost:8080/",
          "height": 34
        }
      },
      "source": [
        "type(f)"
      ],
      "execution_count": 0,
      "outputs": [
        {
          "output_type": "execute_result",
          "data": {
            "text/plain": [
              "h5py._hl.files.File"
            ]
          },
          "metadata": {
            "tags": []
          },
          "execution_count": 5
        }
      ]
    },
    {
      "cell_type": "code",
      "metadata": {
        "id": "MPaxYWTCMfw9",
        "colab_type": "code",
        "outputId": "0c01d9b9-3322-46e3-a3b1-c54c6d03d303",
        "colab": {
          "base_uri": "https://localhost:8080/",
          "height": 34
        }
      },
      "source": [
        "f['X_test']"
      ],
      "execution_count": 0,
      "outputs": [
        {
          "output_type": "execute_result",
          "data": {
            "text/plain": [
              "<HDF5 dataset \"X_test\": shape (18000, 32, 32), type \"<f4\">"
            ]
          },
          "metadata": {
            "tags": []
          },
          "execution_count": 6
        }
      ]
    },
    {
      "cell_type": "code",
      "metadata": {
        "id": "3VokkB0PUyCY",
        "colab_type": "code",
        "outputId": "e8ab6653-ef2f-4fa7-a504-19bf0175a444",
        "colab": {
          "base_uri": "https://localhost:8080/",
          "height": 34
        }
      },
      "source": [
        "f['X_train']"
      ],
      "execution_count": 0,
      "outputs": [
        {
          "output_type": "execute_result",
          "data": {
            "text/plain": [
              "<HDF5 dataset \"X_train\": shape (42000, 32, 32), type \"<f4\">"
            ]
          },
          "metadata": {
            "tags": []
          },
          "execution_count": 7
        }
      ]
    },
    {
      "cell_type": "code",
      "metadata": {
        "id": "WmRV_QsvU1Yz",
        "colab_type": "code",
        "outputId": "bb2f9442-9586-4f3b-9127-2a9b0a8d2ffb",
        "colab": {
          "base_uri": "https://localhost:8080/",
          "height": 34
        }
      },
      "source": [
        "f['y_test']"
      ],
      "execution_count": 0,
      "outputs": [
        {
          "output_type": "execute_result",
          "data": {
            "text/plain": [
              "<HDF5 dataset \"y_test\": shape (18000,), type \"|u1\">"
            ]
          },
          "metadata": {
            "tags": []
          },
          "execution_count": 8
        }
      ]
    },
    {
      "cell_type": "code",
      "metadata": {
        "id": "s537lfw-U7Ua",
        "colab_type": "code",
        "colab": {}
      },
      "source": [
        "# Get the data\n",
        "data = list(f['X_train'])\n",
        "t = np.array(data)"
      ],
      "execution_count": 0,
      "outputs": []
    },
    {
      "cell_type": "code",
      "metadata": {
        "id": "s8LHNVH6WHPx",
        "colab_type": "code",
        "outputId": "56e56763-c4db-4185-ac86-da7057db1090",
        "colab": {
          "base_uri": "https://localhost:8080/",
          "height": 34
        }
      },
      "source": [
        "t[:2].shape"
      ],
      "execution_count": 0,
      "outputs": [
        {
          "output_type": "execute_result",
          "data": {
            "text/plain": [
              "(2, 32, 32)"
            ]
          },
          "metadata": {
            "tags": []
          },
          "execution_count": 5
        }
      ]
    },
    {
      "cell_type": "code",
      "metadata": {
        "id": "Dp2xG0SDWNH6",
        "colab_type": "code",
        "colab": {}
      },
      "source": [
        "trainX = np.array(f['X_train'])\n",
        "trainY = np.array(f['y_train'])\n",
        "testY = np.array(f['y_test'])\n",
        "valX = np.array(f['X_val'])\n",
        "testX = np.array(f['X_test'])\n",
        "valY = np.array(f['y_val'])"
      ],
      "execution_count": 0,
      "outputs": []
    },
    {
      "cell_type": "code",
      "metadata": {
        "id": "476EDhz0WSzk",
        "colab_type": "code",
        "outputId": "c59e288c-fcfc-492c-c740-f1709de32193",
        "colab": {
          "base_uri": "https://localhost:8080/",
          "height": 34
        }
      },
      "source": [
        "trainX.shape\n",
        "valX.shape\n",
        "testX.shape\n",
        "valY.shape\n",
        "testY.shape\n",
        "trainY.shape\n"
      ],
      "execution_count": 0,
      "outputs": [
        {
          "output_type": "execute_result",
          "data": {
            "text/plain": [
              "(42000, 32, 32)"
            ]
          },
          "metadata": {
            "tags": []
          },
          "execution_count": 7
        },
        {
          "output_type": "execute_result",
          "data": {
            "text/plain": [
              "(60000, 32, 32)"
            ]
          },
          "metadata": {
            "tags": []
          },
          "execution_count": 7
        },
        {
          "output_type": "execute_result",
          "data": {
            "text/plain": [
              "(18000, 32, 32)"
            ]
          },
          "metadata": {
            "tags": []
          },
          "execution_count": 7
        },
        {
          "output_type": "execute_result",
          "data": {
            "text/plain": [
              "(60000,)"
            ]
          },
          "metadata": {
            "tags": []
          },
          "execution_count": 7
        },
        {
          "output_type": "execute_result",
          "data": {
            "text/plain": [
              "(18000,)"
            ]
          },
          "metadata": {
            "tags": []
          },
          "execution_count": 7
        },
        {
          "output_type": "execute_result",
          "data": {
            "text/plain": [
              "(42000,)"
            ]
          },
          "metadata": {
            "tags": []
          },
          "execution_count": 7
        }
      ]
    },
    {
      "cell_type": "code",
      "metadata": {
        "id": "krONIN1bsWTd",
        "colab_type": "code",
        "colab": {}
      },
      "source": [
        "trainX = trainX[:40000]\n",
        "trainY = trainY[:40000]\n",
        "testY = testY[:10000]\n",
        "valX = valX[:10000]\n",
        "testX = testX[:10000]\n",
        "valY = valY[:10000]"
      ],
      "execution_count": 0,
      "outputs": []
    },
    {
      "cell_type": "code",
      "metadata": {
        "id": "BjGt0Gsq_Ttb",
        "colab_type": "code",
        "outputId": "aaf9d5eb-f687-4092-d70c-6e67c18bbc42",
        "colab": {
          "base_uri": "https://localhost:8080/",
          "height": 34
        }
      },
      "source": [
        " np.unique(trainY)\n",
        "np.unique(testY)\n",
        "np.unique(valY)"
      ],
      "execution_count": 0,
      "outputs": [
        {
          "output_type": "execute_result",
          "data": {
            "text/plain": [
              "array([0, 1, 2, 3, 4, 5, 6, 7, 8, 9], dtype=uint8)"
            ]
          },
          "metadata": {
            "tags": []
          },
          "execution_count": 9
        },
        {
          "output_type": "execute_result",
          "data": {
            "text/plain": [
              "array([0, 1, 2, 3, 4, 5, 6, 7, 8, 9], dtype=uint8)"
            ]
          },
          "metadata": {
            "tags": []
          },
          "execution_count": 9
        },
        {
          "output_type": "execute_result",
          "data": {
            "text/plain": [
              "array([0, 1, 2], dtype=uint8)"
            ]
          },
          "metadata": {
            "tags": []
          },
          "execution_count": 9
        }
      ]
    },
    {
      "cell_type": "code",
      "metadata": {
        "id": "Owuj8SM4W_EJ",
        "colab_type": "code",
        "outputId": "b74d3a72-41cb-442d-9370-e309f986ea5a",
        "colab": {
          "base_uri": "https://localhost:8080/",
          "height": 34
        }
      },
      "source": [
        "print(\"using only train and test, as val looks dont have all clases for KNN and also reduced the data as scaling was taking time and more memory in calculating distance\")"
      ],
      "execution_count": 0,
      "outputs": [
        {
          "output_type": "stream",
          "text": [
            "using only train and test, as val looks dont have all clases\n"
          ],
          "name": "stdout"
        }
      ]
    },
    {
      "cell_type": "code",
      "metadata": {
        "id": "YJyu_OmS_RvV",
        "colab_type": "code",
        "colab": {}
      },
      "source": [
        "traindnnY = tf.keras.utils.to_categorical(trainY, num_classes=10)\n",
        "testdnnY = tf.keras.utils.to_categorical(testY, num_classes=10)\n",
        "#valdnnY = tf.keras.utils.to_categorical(valY, num_classes=10)"
      ],
      "execution_count": 0,
      "outputs": []
    },
    {
      "cell_type": "code",
      "metadata": {
        "id": "p-wlo3f4agGS",
        "colab_type": "code",
        "outputId": "27e048ff-1951-45fd-df0c-acb82d67290a",
        "colab": {
          "base_uri": "https://localhost:8080/",
          "height": 286
        }
      },
      "source": [
        "import matplotlib.pyplot as plt\n",
        " \n",
        "ROW = 2\n",
        "COLUMN = 5\n",
        "for i in range(ROW * COLUMN):\n",
        "    # train[i][0] is i-th image data with size 28x28\n",
        "    #image = trainX[i][0].reshape(28, 28)   # not necessary to reshape if ndim is set to 2\n",
        "    image = trainX[i]\n",
        "    plt.subplot(ROW, COLUMN, i+1)          # subplot with size (width 3, height 5)\n",
        "    plt.imshow(image, cmap='gray')  # cmap='gray' is for black and white picture.\n",
        "    # train[i][1] is i-th digit label\n",
        "    x= 0\n",
        "    y =0\n",
        "    for x,y in enumerate(traindnnY[i]):\n",
        "      if y > 0:\n",
        "        plt.title('label = {}'.format(x))\n",
        "    plt.axis('off')  # do not show axis value\n",
        "plt.tight_layout()   # automatic padding between subplots\n",
        "#plt.savefig('images/mnist_plot.png')\n",
        "plt.show()"
      ],
      "execution_count": 0,
      "outputs": [
        {
          "output_type": "execute_result",
          "data": {
            "text/plain": [
              "<matplotlib.axes._subplots.AxesSubplot at 0x7f0306c64a58>"
            ]
          },
          "metadata": {
            "tags": []
          },
          "execution_count": 12
        },
        {
          "output_type": "execute_result",
          "data": {
            "text/plain": [
              "<matplotlib.image.AxesImage at 0x7f0306c340f0>"
            ]
          },
          "metadata": {
            "tags": []
          },
          "execution_count": 12
        },
        {
          "output_type": "execute_result",
          "data": {
            "text/plain": [
              "Text(0.5, 1.0, 'label = 2')"
            ]
          },
          "metadata": {
            "tags": []
          },
          "execution_count": 12
        },
        {
          "output_type": "execute_result",
          "data": {
            "text/plain": [
              "(-0.5, 31.5, 31.5, -0.5)"
            ]
          },
          "metadata": {
            "tags": []
          },
          "execution_count": 12
        },
        {
          "output_type": "execute_result",
          "data": {
            "text/plain": [
              "<matplotlib.axes._subplots.AxesSubplot at 0x7f0306c18ac8>"
            ]
          },
          "metadata": {
            "tags": []
          },
          "execution_count": 12
        },
        {
          "output_type": "execute_result",
          "data": {
            "text/plain": [
              "<matplotlib.image.AxesImage at 0x7f0306be19b0>"
            ]
          },
          "metadata": {
            "tags": []
          },
          "execution_count": 12
        },
        {
          "output_type": "execute_result",
          "data": {
            "text/plain": [
              "Text(0.5, 1.0, 'label = 6')"
            ]
          },
          "metadata": {
            "tags": []
          },
          "execution_count": 12
        },
        {
          "output_type": "execute_result",
          "data": {
            "text/plain": [
              "(-0.5, 31.5, 31.5, -0.5)"
            ]
          },
          "metadata": {
            "tags": []
          },
          "execution_count": 12
        },
        {
          "output_type": "execute_result",
          "data": {
            "text/plain": [
              "<matplotlib.axes._subplots.AxesSubplot at 0x7f0306bd2470>"
            ]
          },
          "metadata": {
            "tags": []
          },
          "execution_count": 12
        },
        {
          "output_type": "execute_result",
          "data": {
            "text/plain": [
              "<matplotlib.image.AxesImage at 0x7f0306b924a8>"
            ]
          },
          "metadata": {
            "tags": []
          },
          "execution_count": 12
        },
        {
          "output_type": "execute_result",
          "data": {
            "text/plain": [
              "Text(0.5, 1.0, 'label = 7')"
            ]
          },
          "metadata": {
            "tags": []
          },
          "execution_count": 12
        },
        {
          "output_type": "execute_result",
          "data": {
            "text/plain": [
              "(-0.5, 31.5, 31.5, -0.5)"
            ]
          },
          "metadata": {
            "tags": []
          },
          "execution_count": 12
        },
        {
          "output_type": "execute_result",
          "data": {
            "text/plain": [
              "<matplotlib.axes._subplots.AxesSubplot at 0x7f0306b928d0>"
            ]
          },
          "metadata": {
            "tags": []
          },
          "execution_count": 12
        },
        {
          "output_type": "execute_result",
          "data": {
            "text/plain": [
              "<matplotlib.image.AxesImage at 0x7f0306b39e10>"
            ]
          },
          "metadata": {
            "tags": []
          },
          "execution_count": 12
        },
        {
          "output_type": "execute_result",
          "data": {
            "text/plain": [
              "Text(0.5, 1.0, 'label = 4')"
            ]
          },
          "metadata": {
            "tags": []
          },
          "execution_count": 12
        },
        {
          "output_type": "execute_result",
          "data": {
            "text/plain": [
              "(-0.5, 31.5, 31.5, -0.5)"
            ]
          },
          "metadata": {
            "tags": []
          },
          "execution_count": 12
        },
        {
          "output_type": "execute_result",
          "data": {
            "text/plain": [
              "<matplotlib.axes._subplots.AxesSubplot at 0x7f0306b39e80>"
            ]
          },
          "metadata": {
            "tags": []
          },
          "execution_count": 12
        },
        {
          "output_type": "execute_result",
          "data": {
            "text/plain": [
              "<matplotlib.image.AxesImage at 0x7f0306b677b8>"
            ]
          },
          "metadata": {
            "tags": []
          },
          "execution_count": 12
        },
        {
          "output_type": "execute_result",
          "data": {
            "text/plain": [
              "Text(0.5, 1.0, 'label = 4')"
            ]
          },
          "metadata": {
            "tags": []
          },
          "execution_count": 12
        },
        {
          "output_type": "execute_result",
          "data": {
            "text/plain": [
              "(-0.5, 31.5, 31.5, -0.5)"
            ]
          },
          "metadata": {
            "tags": []
          },
          "execution_count": 12
        },
        {
          "output_type": "execute_result",
          "data": {
            "text/plain": [
              "<matplotlib.axes._subplots.AxesSubplot at 0x7f0306b57128>"
            ]
          },
          "metadata": {
            "tags": []
          },
          "execution_count": 12
        },
        {
          "output_type": "execute_result",
          "data": {
            "text/plain": [
              "<matplotlib.image.AxesImage at 0x7f0306b1c0b8>"
            ]
          },
          "metadata": {
            "tags": []
          },
          "execution_count": 12
        },
        {
          "output_type": "execute_result",
          "data": {
            "text/plain": [
              "Text(0.5, 1.0, 'label = 0')"
            ]
          },
          "metadata": {
            "tags": []
          },
          "execution_count": 12
        },
        {
          "output_type": "execute_result",
          "data": {
            "text/plain": [
              "(-0.5, 31.5, 31.5, -0.5)"
            ]
          },
          "metadata": {
            "tags": []
          },
          "execution_count": 12
        },
        {
          "output_type": "execute_result",
          "data": {
            "text/plain": [
              "<matplotlib.axes._subplots.AxesSubplot at 0x7f0306affa90>"
            ]
          },
          "metadata": {
            "tags": []
          },
          "execution_count": 12
        },
        {
          "output_type": "execute_result",
          "data": {
            "text/plain": [
              "<matplotlib.image.AxesImage at 0x7f0306abca58>"
            ]
          },
          "metadata": {
            "tags": []
          },
          "execution_count": 12
        },
        {
          "output_type": "execute_result",
          "data": {
            "text/plain": [
              "Text(0.5, 1.0, 'label = 3')"
            ]
          },
          "metadata": {
            "tags": []
          },
          "execution_count": 12
        },
        {
          "output_type": "execute_result",
          "data": {
            "text/plain": [
              "(-0.5, 31.5, 31.5, -0.5)"
            ]
          },
          "metadata": {
            "tags": []
          },
          "execution_count": 12
        },
        {
          "output_type": "execute_result",
          "data": {
            "text/plain": [
              "<matplotlib.axes._subplots.AxesSubplot at 0x7f0306abcc18>"
            ]
          },
          "metadata": {
            "tags": []
          },
          "execution_count": 12
        },
        {
          "output_type": "execute_result",
          "data": {
            "text/plain": [
              "<matplotlib.image.AxesImage at 0x7f03354e37b8>"
            ]
          },
          "metadata": {
            "tags": []
          },
          "execution_count": 12
        },
        {
          "output_type": "execute_result",
          "data": {
            "text/plain": [
              "Text(0.5, 1.0, 'label = 0')"
            ]
          },
          "metadata": {
            "tags": []
          },
          "execution_count": 12
        },
        {
          "output_type": "execute_result",
          "data": {
            "text/plain": [
              "(-0.5, 31.5, 31.5, -0.5)"
            ]
          },
          "metadata": {
            "tags": []
          },
          "execution_count": 12
        },
        {
          "output_type": "execute_result",
          "data": {
            "text/plain": [
              "<matplotlib.axes._subplots.AxesSubplot at 0x7f03354e3940>"
            ]
          },
          "metadata": {
            "tags": []
          },
          "execution_count": 12
        },
        {
          "output_type": "execute_result",
          "data": {
            "text/plain": [
              "<matplotlib.image.AxesImage at 0x7f0306af2390>"
            ]
          },
          "metadata": {
            "tags": []
          },
          "execution_count": 12
        },
        {
          "output_type": "execute_result",
          "data": {
            "text/plain": [
              "Text(0.5, 1.0, 'label = 7')"
            ]
          },
          "metadata": {
            "tags": []
          },
          "execution_count": 12
        },
        {
          "output_type": "execute_result",
          "data": {
            "text/plain": [
              "(-0.5, 31.5, 31.5, -0.5)"
            ]
          },
          "metadata": {
            "tags": []
          },
          "execution_count": 12
        },
        {
          "output_type": "execute_result",
          "data": {
            "text/plain": [
              "<matplotlib.axes._subplots.AxesSubplot at 0x7f0306adcbe0>"
            ]
          },
          "metadata": {
            "tags": []
          },
          "execution_count": 12
        },
        {
          "output_type": "execute_result",
          "data": {
            "text/plain": [
              "<matplotlib.image.AxesImage at 0x7f0306a92fd0>"
            ]
          },
          "metadata": {
            "tags": []
          },
          "execution_count": 12
        },
        {
          "output_type": "execute_result",
          "data": {
            "text/plain": [
              "Text(0.5, 1.0, 'label = 3')"
            ]
          },
          "metadata": {
            "tags": []
          },
          "execution_count": 12
        },
        {
          "output_type": "execute_result",
          "data": {
            "text/plain": [
              "(-0.5, 31.5, 31.5, -0.5)"
            ]
          },
          "metadata": {
            "tags": []
          },
          "execution_count": 12
        },
        {
          "output_type": "display_data",
          "data": {
            "image/png": "[encoded data removed]",
            "text/plain": [
              "<Figure size 432x288 with 10 Axes>"
            ]
          },
          "metadata": {
            "tags": []
          }
        }
      ]
    },
    {
      "cell_type": "code",
      "metadata": {
        "id": "wAc946W3LEPZ",
        "colab_type": "code",
        "colab": {}
      },
      "source": [
        "from sklearn.model_selection import train_test_split\n",
        "from sklearn.neighbors import KNeighborsClassifier\n",
        "from scipy.stats import zscore\n",
        "import seaborn as sns\n",
        "from sklearn import metrics"
      ],
      "execution_count": 0,
      "outputs": []
    },
    {
      "cell_type": "code",
      "metadata": {
        "id": "VngszsP6wiU2",
        "colab_type": "code",
        "outputId": "542b430d-d4a6-40a1-d88d-cd787d7ddcf8",
        "colab": {
          "base_uri": "https://localhost:8080/",
          "height": 34
        }
      },
      "source": [
        "print(\"Knn model\")"
      ],
      "execution_count": 0,
      "outputs": [
        {
          "output_type": "stream",
          "text": [
            "Knn model\n"
          ],
          "name": "stdout"
        }
      ]
    },
    {
      "cell_type": "code",
      "metadata": {
        "id": "wMgPHGwGwmOZ",
        "colab_type": "code",
        "colab": {}
      },
      "source": [
        "# trainknnX = np.array(f['X_train'])\n",
        "# trainknnY = np.array(f['y_train'])\n",
        "# testknnY = np.array(f['y_test'])\n",
        "# valknnX = np.array(f['X_val'])\n",
        "# testknnX = np.array(f['X_test'])\n",
        "# valknnY = np.array(f['y_val'])"
      ],
      "execution_count": 0,
      "outputs": []
    },
    {
      "cell_type": "code",
      "metadata": {
        "id": "YHZXXFc3xohN",
        "colab_type": "code",
        "outputId": "e29f8845-7a13-4ac5-d9d2-f204754a4f2f",
        "colab": {
          "base_uri": "https://localhost:8080/",
          "height": 35
        }
      },
      "source": [
        "# valknnX.shape\n",
        "# testknnX.shape\n",
        "# trainknnX.shape\n",
        "# valknnY.shape\n",
        "# testknnY.shape\n",
        "# trainknnY.shape"
      ],
      "execution_count": 0,
      "outputs": [
        {
          "output_type": "execute_result",
          "data": {
            "text/plain": [
              "(60000, 32, 32)"
            ]
          },
          "metadata": {
            "tags": []
          },
          "execution_count": 21
        },
        {
          "output_type": "execute_result",
          "data": {
            "text/plain": [
              "(18000, 32, 32)"
            ]
          },
          "metadata": {
            "tags": []
          },
          "execution_count": 21
        },
        {
          "output_type": "execute_result",
          "data": {
            "text/plain": [
              "(42000, 32, 32)"
            ]
          },
          "metadata": {
            "tags": []
          },
          "execution_count": 21
        },
        {
          "output_type": "execute_result",
          "data": {
            "text/plain": [
              "(60000,)"
            ]
          },
          "metadata": {
            "tags": []
          },
          "execution_count": 21
        },
        {
          "output_type": "execute_result",
          "data": {
            "text/plain": [
              "(18000,)"
            ]
          },
          "metadata": {
            "tags": []
          },
          "execution_count": 21
        },
        {
          "output_type": "execute_result",
          "data": {
            "text/plain": [
              "(42000,)"
            ]
          },
          "metadata": {
            "tags": []
          },
          "execution_count": 21
        }
      ]
    },
    {
      "cell_type": "code",
      "metadata": {
        "id": "RADTk5v83AI-",
        "colab_type": "code",
        "colab": {}
      },
      "source": [
        "#valknnX /= 255\n",
        "testX /= 255\n",
        "trainX /= 255"
      ],
      "execution_count": 0,
      "outputs": []
    },
    {
      "cell_type": "code",
      "metadata": {
        "id": "WxNavS3N3m3U",
        "colab_type": "code",
        "outputId": "3f3159c1-77e9-45cd-804c-6895e93a7855",
        "colab": {
          "base_uri": "https://localhost:8080/",
          "height": 238
        }
      },
      "source": [
        "trainX.shape\n",
        "trainX.reshape(trainX.shape[0], 32*32)"
      ],
      "execution_count": 0,
      "outputs": [
        {
          "output_type": "execute_result",
          "data": {
            "text/plain": [
              "(40000, 32, 32)"
            ]
          },
          "metadata": {
            "tags": []
          },
          "execution_count": 16
        },
        {
          "output_type": "execute_result",
          "data": {
            "text/plain": [
              "array([[0.12968785, 0.11866706, 0.10530196, ..., 0.19477727, 0.19942354,\n",
              "        0.20799099],\n",
              "       [0.34101608, 0.3414451 , 0.34656274, ..., 0.29498273, 0.30054745,\n",
              "        0.31092745],\n",
              "       [0.48284313, 0.49356118, 0.47872823, ..., 0.36837214, 0.41093138,\n",
              "        0.44637334],\n",
              "       ...,\n",
              "       [0.63195217, 0.6400302 , 0.6400302 , ..., 0.6315651 , 0.62949884,\n",
              "        0.63346237],\n",
              "       [0.58423096, 0.5920733 , 0.5939283 , ..., 0.54857767, 0.5508796 ,\n",
              "        0.55872196],\n",
              "       [0.23603137, 0.23820665, 0.2615647 , ..., 0.34702745, 0.2990792 ,\n",
              "        0.23399608]], dtype=float32)"
            ]
          },
          "metadata": {
            "tags": []
          },
          "execution_count": 16
        }
      ]
    },
    {
      "cell_type": "code",
      "metadata": {
        "id": "z_JPp1q-xATQ",
        "colab_type": "code",
        "outputId": "14dce34e-a962-4250-cea7-8247984ebec5",
        "colab": {
          "base_uri": "https://localhost:8080/",
          "height": 68
        }
      },
      "source": [
        "#TRAIN = True\n",
        "\n",
        "#from sklearn.linear_model import LogisticRegression\n",
        "\n",
        "#LR_fname = './LR_digit_classifier.pkl'\n",
        "#if TRAIN:\n",
        "x_train_ml = trainX.reshape(trainX.shape[0], 32*32).astype('float32')\n",
        "KnnClass = KNeighborsClassifier(n_neighbors= 10)\n",
        "KnnClass.fit(x_train_ml, trainY)\n",
        "  #pkl = open(LR_fname, 'wb')\n",
        "  #pickle.dump(KnnClass, pkl)\n",
        "  #pkl.close()\n",
        "\n",
        "#pkl = open(LR_fname, 'rb')\n",
        "#logReg = pickle.load(pkl)\n"
      ],
      "execution_count": 0,
      "outputs": [
        {
          "output_type": "execute_result",
          "data": {
            "text/plain": [
              "KNeighborsClassifier(algorithm='auto', leaf_size=30, metric='minkowski',\n",
              "                     metric_params=None, n_jobs=None, n_neighbors=10, p=2,\n",
              "                     weights='uniform')"
            ]
          },
          "metadata": {
            "tags": []
          },
          "execution_count": 17
        }
      ]
    },
    {
      "cell_type": "code",
      "metadata": {
        "id": "UfPAAD51yEZO",
        "colab_type": "code",
        "outputId": "7e33a145-46cd-411c-d497-16a6392d9dde",
        "colab": {
          "base_uri": "https://localhost:8080/",
          "height": 34
        }
      },
      "source": [
        "x_val_ml = testX.reshape(testX.shape[0], 32*32).astype('float32')\n",
        "predictions = KnnClass.predict(x_val_ml)\n",
        "score = KnnClass.score(x_val_ml, testY)\n",
        "print(score)"
      ],
      "execution_count": 0,
      "outputs": [
        {
          "output_type": "stream",
          "text": [
            "0.5131\n"
          ],
          "name": "stdout"
        }
      ]
    },
    {
      "cell_type": "code",
      "metadata": {
        "id": "XpGqUsv_I6D6",
        "colab_type": "code",
        "outputId": "846d81c1-a43d-4c1b-f803-b591b17527ba",
        "colab": {
          "base_uri": "https://localhost:8080/",
          "height": 204
        }
      },
      "source": [
        "print(\"Confusion Metrix:\\n\",metrics.confusion_matrix(predictions,testY))"
      ],
      "execution_count": 0,
      "outputs": [
        {
          "output_type": "stream",
          "text": [
            "Confusion Metrix:\n",
            " [[699  52  61  79  70 104 176  53 164 175]\n",
            " [ 36 732 127 133 140  97  56 130  73  76]\n",
            " [ 22  41 538  83  26  44  18  79  40  47]\n",
            " [ 22  41  71 384  37 166  45  52  75  60]\n",
            " [ 29  34  21  30 620  42  77  12  52  45]\n",
            " [ 21  23  13  88  11 387  75  14  65  56]\n",
            " [ 56  19  21  24  30  71 389  16 117  32]\n",
            " [  9  30  73  23  10  18  14 587  11  36]\n",
            " [ 53  11  28  58  23  74 125  12 382  70]\n",
            " [ 55  19  44  38  20  39  32  19  60 413]]\n"
          ],
          "name": "stdout"
        }
      ]
    },
    {
      "cell_type": "code",
      "metadata": {
        "id": "ou9YPk51LJCc",
        "colab_type": "code",
        "outputId": "da3ce2ab-24f7-4c06-c613-ae3a7b427f04",
        "colab": {
          "base_uri": "https://localhost:8080/",
          "height": 340
        }
      },
      "source": [
        "from sklearn.metrics import precision_recall_fscore_support\n",
        "from sklearn.metrics import classification_report\n",
        "bPrecis, bRecall, bFscore, bSupport = precision_recall_fscore_support(testY, predictions,average = 'macro' )\n",
        "print(\"Precision \",bPrecis)\n",
        "print(\"Recall \",bRecall)\n",
        "print(classification_report(testY, predictions))"
      ],
      "execution_count": 0,
      "outputs": [
        {
          "output_type": "stream",
          "text": [
            "Precision  0.5262014657795044\n",
            "Recall  0.5141377955966546\n",
            "              precision    recall  f1-score   support\n",
            "\n",
            "           0       0.43      0.70      0.53      1002\n",
            "           1       0.46      0.73      0.56      1002\n",
            "           2       0.57      0.54      0.56       997\n",
            "           3       0.40      0.41      0.41       940\n",
            "           4       0.64      0.63      0.64       987\n",
            "           5       0.51      0.37      0.43      1042\n",
            "           6       0.50      0.39      0.44      1007\n",
            "           7       0.72      0.60      0.66       974\n",
            "           8       0.46      0.37      0.41      1039\n",
            "           9       0.56      0.41      0.47      1010\n",
            "\n",
            "    accuracy                           0.51     10000\n",
            "   macro avg       0.53      0.51      0.51     10000\n",
            "weighted avg       0.53      0.51      0.51     10000\n",
            "\n"
          ],
          "name": "stdout"
        }
      ]
    },
    {
      "cell_type": "code",
      "metadata": {
        "id": "p-C0RiYzZCaT",
        "colab_type": "code",
        "colab": {}
      },
      "source": [
        "print(\"Scaling takes too much time, and gets hanged, not able to get optimal value, As data set is huge for the limit taken\")"
      ],
      "execution_count": 0,
      "outputs": []
    },
    {
      "cell_type": "code",
      "metadata": {
        "id": "YIOOCgvYI6Ib",
        "colab_type": "code",
        "outputId": "77ac17bb-2b59-466c-82dd-80ce37a7ff20",
        "colab": {
          "base_uri": "https://localhost:8080/",
          "height": 374
        }
      },
      "source": [
        "#With Hyper Parameters Tuning\n",
        "#SVM\n",
        "#importing modules\n",
        "from sklearn.model_selection import GridSearchCV\n",
        "#from sklearn import svm\n",
        "#making the instance\n",
        "KnnClassG = KNeighborsClassifier(n_neighbors= 10)\n",
        "#Hyper Parameters Set\n",
        "params = {'n_neighbors': [10,15,20,25,30], \n",
        "          'weights': ['uniform','distance']}\n",
        "#Making models with hyper parameters sets\n",
        "modelG = GridSearchCV(KnnClassG, param_grid=params, cv=5,n_jobs=-1)\n",
        "#Learning\n",
        "modelG.fit(x_train_ml,trainY)\n",
        "#The best hyper parameters set\n",
        "print(\"Best Hyper Parameters:\\n\",modelG.best_params_)\n",
        "#Prediction\n",
        "prediction=model1.predict(score = KnnClass.score(x_val_ml, testY)\n",
        ")\n",
        "#importing the metrics module\n",
        "from sklearn import metrics\n",
        "#evaluation(Accuracy)\n",
        "print(\"Accuracy:\",metrics.accuracy_score(predictions,testY))\n",
        "#evaluation(Confusion Metrix)\n",
        "print(\"Confusion Matrix:\\n\",metrics.confusion_matrix(predictions,testY))\n"
      ],
      "execution_count": 0,
      "outputs": [
        {
          "output_type": "error",
          "ename": "KeyboardInterrupt",
          "evalue": "ignored",
          "traceback": [
            "\u001b[0;31m---------------------------------------------------------------------------\u001b[0m",
            "\u001b[0;31mKeyboardInterrupt\u001b[0m                         Traceback (most recent call last)",
            "\u001b[0;32m<ipython-input-24-48bf0141605b>\u001b[0m in \u001b[0;36m<module>\u001b[0;34m()\u001b[0m\n\u001b[1;32m      9\u001b[0m \u001b[0mmodelG\u001b[0m \u001b[0;34m=\u001b[0m \u001b[0mGridSearchCV\u001b[0m\u001b[0;34m(\u001b[0m\u001b[0mKnnClassG\u001b[0m\u001b[0;34m,\u001b[0m \u001b[0mparam_grid\u001b[0m\u001b[0;34m=\u001b[0m\u001b[0mparams\u001b[0m\u001b[0;34m,\u001b[0m \u001b[0mcv\u001b[0m\u001b[0;34m=\u001b[0m\u001b[0;36m5\u001b[0m\u001b[0;34m,\u001b[0m\u001b[0mn_jobs\u001b[0m\u001b[0;34m=\u001b[0m\u001b[0;34m-\u001b[0m\u001b[0;36m1\u001b[0m\u001b[0;34m)\u001b[0m\u001b[0;34m\u001b[0m\u001b[0;34m\u001b[0m\u001b[0m\n\u001b[1;32m     10\u001b[0m \u001b[0;31m#Learning\u001b[0m\u001b[0;34m\u001b[0m\u001b[0;34m\u001b[0m\u001b[0;34m\u001b[0m\u001b[0m\n\u001b[0;32m---> 11\u001b[0;31m \u001b[0mmodelG\u001b[0m\u001b[0;34m.\u001b[0m\u001b[0mfit\u001b[0m\u001b[0;34m(\u001b[0m\u001b[0mx_train_ml\u001b[0m\u001b[0;34m,\u001b[0m\u001b[0mtrainY\u001b[0m\u001b[0;34m)\u001b[0m\u001b[0;34m\u001b[0m\u001b[0;34m\u001b[0m\u001b[0m\n\u001b[0m\u001b[1;32m     12\u001b[0m \u001b[0;31m#The best hyper parameters set\u001b[0m\u001b[0;34m\u001b[0m\u001b[0;34m\u001b[0m\u001b[0;34m\u001b[0m\u001b[0m\n\u001b[1;32m     13\u001b[0m \u001b[0mprint\u001b[0m\u001b[0;34m(\u001b[0m\u001b[0;34m\"Best Hyper Parameters:\\n\"\u001b[0m\u001b[0;34m,\u001b[0m\u001b[0mmodelG\u001b[0m\u001b[0;34m.\u001b[0m\u001b[0mbest_params_\u001b[0m\u001b[0;34m)\u001b[0m\u001b[0;34m\u001b[0m\u001b[0;34m\u001b[0m\u001b[0m\n",
            "\u001b[0;32m/usr/local/lib/python3.6/dist-packages/sklearn/model_selection/_search.py\u001b[0m in \u001b[0;36mfit\u001b[0;34m(self, X, y, groups, **fit_params)\u001b[0m\n\u001b[1;32m    685\u001b[0m                 \u001b[0;32mreturn\u001b[0m \u001b[0mresults\u001b[0m\u001b[0;34m\u001b[0m\u001b[0;34m\u001b[0m\u001b[0m\n\u001b[1;32m    686\u001b[0m \u001b[0;34m\u001b[0m\u001b[0m\n\u001b[0;32m--> 687\u001b[0;31m             \u001b[0mself\u001b[0m\u001b[0;34m.\u001b[0m\u001b[0m_run_search\u001b[0m\u001b[0;34m(\u001b[0m\u001b[0mevaluate_candidates\u001b[0m\u001b[0;34m)\u001b[0m\u001b[0;34m\u001b[0m\u001b[0;34m\u001b[0m\u001b[0m\n\u001b[0m\u001b[1;32m    688\u001b[0m \u001b[0;34m\u001b[0m\u001b[0m\n\u001b[1;32m    689\u001b[0m         \u001b[0;31m# For multi-metric evaluation, store the best_index_, best_params_ and\u001b[0m\u001b[0;34m\u001b[0m\u001b[0;34m\u001b[0m\u001b[0;34m\u001b[0m\u001b[0m\n",
            "\u001b[0;32m/usr/local/lib/python3.6/dist-packages/sklearn/model_selection/_search.py\u001b[0m in \u001b[0;36m_run_search\u001b[0;34m(self, evaluate_candidates)\u001b[0m\n\u001b[1;32m   1146\u001b[0m     \u001b[0;32mdef\u001b[0m \u001b[0m_run_search\u001b[0m\u001b[0;34m(\u001b[0m\u001b[0mself\u001b[0m\u001b[0;34m,\u001b[0m \u001b[0mevaluate_candidates\u001b[0m\u001b[0;34m)\u001b[0m\u001b[0;34m:\u001b[0m\u001b[0;34m\u001b[0m\u001b[0;34m\u001b[0m\u001b[0m\n\u001b[1;32m   1147\u001b[0m         \u001b[0;34m\"\"\"Search all candidates in param_grid\"\"\"\u001b[0m\u001b[0;34m\u001b[0m\u001b[0;34m\u001b[0m\u001b[0m\n\u001b[0;32m-> 1148\u001b[0;31m         \u001b[0mevaluate_candidates\u001b[0m\u001b[0;34m(\u001b[0m\u001b[0mParameterGrid\u001b[0m\u001b[0;34m(\u001b[0m\u001b[0mself\u001b[0m\u001b[0;34m.\u001b[0m\u001b[0mparam_grid\u001b[0m\u001b[0;34m)\u001b[0m\u001b[0;34m)\u001b[0m\u001b[0;34m\u001b[0m\u001b[0;34m\u001b[0m\u001b[0m\n\u001b[0m\u001b[1;32m   1149\u001b[0m \u001b[0;34m\u001b[0m\u001b[0m\n\u001b[1;32m   1150\u001b[0m \u001b[0;34m\u001b[0m\u001b[0m\n",
            "\u001b[0;32m/usr/local/lib/python3.6/dist-packages/sklearn/model_selection/_search.py\u001b[0m in \u001b[0;36mevaluate_candidates\u001b[0;34m(candidate_params)\u001b[0m\n\u001b[1;32m    664\u001b[0m                                \u001b[0;32mfor\u001b[0m \u001b[0mparameters\u001b[0m\u001b[0;34m,\u001b[0m \u001b[0;34m(\u001b[0m\u001b[0mtrain\u001b[0m\u001b[0;34m,\u001b[0m \u001b[0mtest\u001b[0m\u001b[0;34m)\u001b[0m\u001b[0;34m\u001b[0m\u001b[0;34m\u001b[0m\u001b[0m\n\u001b[1;32m    665\u001b[0m                                in product(candidate_params,\n\u001b[0;32m--> 666\u001b[0;31m                                           cv.split(X, y, groups)))\n\u001b[0m\u001b[1;32m    667\u001b[0m \u001b[0;34m\u001b[0m\u001b[0m\n\u001b[1;32m    668\u001b[0m                 \u001b[0;32mif\u001b[0m \u001b[0mlen\u001b[0m\u001b[0;34m(\u001b[0m\u001b[0mout\u001b[0m\u001b[0;34m)\u001b[0m \u001b[0;34m<\u001b[0m \u001b[0;36m1\u001b[0m\u001b[0;34m:\u001b[0m\u001b[0;34m\u001b[0m\u001b[0;34m\u001b[0m\u001b[0m\n",
            "\u001b[0;32m/usr/local/lib/python3.6/dist-packages/joblib/parallel.py\u001b[0m in \u001b[0;36m__call__\u001b[0;34m(self, iterable)\u001b[0m\n\u001b[1;32m    994\u001b[0m \u001b[0;34m\u001b[0m\u001b[0m\n\u001b[1;32m    995\u001b[0m             \u001b[0;32mwith\u001b[0m \u001b[0mself\u001b[0m\u001b[0;34m.\u001b[0m\u001b[0m_backend\u001b[0m\u001b[0;34m.\u001b[0m\u001b[0mretrieval_context\u001b[0m\u001b[0;34m(\u001b[0m\u001b[0;34m)\u001b[0m\u001b[0;34m:\u001b[0m\u001b[0;34m\u001b[0m\u001b[0;34m\u001b[0m\u001b[0m\n\u001b[0;32m--> 996\u001b[0;31m                 \u001b[0mself\u001b[0m\u001b[0;34m.\u001b[0m\u001b[0mretrieve\u001b[0m\u001b[0;34m(\u001b[0m\u001b[0;34m)\u001b[0m\u001b[0;34m\u001b[0m\u001b[0;34m\u001b[0m\u001b[0m\n\u001b[0m\u001b[1;32m    997\u001b[0m             \u001b[0;31m# Make sure that we get a last message telling us we are done\u001b[0m\u001b[0;34m\u001b[0m\u001b[0;34m\u001b[0m\u001b[0;34m\u001b[0m\u001b[0m\n\u001b[1;32m    998\u001b[0m             \u001b[0melapsed_time\u001b[0m \u001b[0;34m=\u001b[0m \u001b[0mtime\u001b[0m\u001b[0;34m.\u001b[0m\u001b[0mtime\u001b[0m\u001b[0;34m(\u001b[0m\u001b[0;34m)\u001b[0m \u001b[0;34m-\u001b[0m \u001b[0mself\u001b[0m\u001b[0;34m.\u001b[0m\u001b[0m_start_time\u001b[0m\u001b[0;34m\u001b[0m\u001b[0;34m\u001b[0m\u001b[0m\n",
            "\u001b[0;32m/usr/local/lib/python3.6/dist-packages/joblib/parallel.py\u001b[0m in \u001b[0;36mretrieve\u001b[0;34m(self)\u001b[0m\n\u001b[1;32m    897\u001b[0m             \u001b[0;32mtry\u001b[0m\u001b[0;34m:\u001b[0m\u001b[0;34m\u001b[0m\u001b[0;34m\u001b[0m\u001b[0m\n\u001b[1;32m    898\u001b[0m                 \u001b[0;32mif\u001b[0m \u001b[0mgetattr\u001b[0m\u001b[0;34m(\u001b[0m\u001b[0mself\u001b[0m\u001b[0;34m.\u001b[0m\u001b[0m_backend\u001b[0m\u001b[0;34m,\u001b[0m \u001b[0;34m'supports_timeout'\u001b[0m\u001b[0;34m,\u001b[0m \u001b[0;32mFalse\u001b[0m\u001b[0;34m)\u001b[0m\u001b[0;34m:\u001b[0m\u001b[0;34m\u001b[0m\u001b[0;34m\u001b[0m\u001b[0m\n\u001b[0;32m--> 899\u001b[0;31m                     \u001b[0mself\u001b[0m\u001b[0;34m.\u001b[0m\u001b[0m_output\u001b[0m\u001b[0;34m.\u001b[0m\u001b[0mextend\u001b[0m\u001b[0;34m(\u001b[0m\u001b[0mjob\u001b[0m\u001b[0;34m.\u001b[0m\u001b[0mget\u001b[0m\u001b[0;34m(\u001b[0m\u001b[0mtimeout\u001b[0m\u001b[0;34m=\u001b[0m\u001b[0mself\u001b[0m\u001b[0;34m.\u001b[0m\u001b[0mtimeout\u001b[0m\u001b[0;34m)\u001b[0m\u001b[0;34m)\u001b[0m\u001b[0;34m\u001b[0m\u001b[0;34m\u001b[0m\u001b[0m\n\u001b[0m\u001b[1;32m    900\u001b[0m                 \u001b[0;32melse\u001b[0m\u001b[0;34m:\u001b[0m\u001b[0;34m\u001b[0m\u001b[0;34m\u001b[0m\u001b[0m\n\u001b[1;32m    901\u001b[0m                     \u001b[0mself\u001b[0m\u001b[0;34m.\u001b[0m\u001b[0m_output\u001b[0m\u001b[0;34m.\u001b[0m\u001b[0mextend\u001b[0m\u001b[0;34m(\u001b[0m\u001b[0mjob\u001b[0m\u001b[0;34m.\u001b[0m\u001b[0mget\u001b[0m\u001b[0;34m(\u001b[0m\u001b[0;34m)\u001b[0m\u001b[0;34m)\u001b[0m\u001b[0;34m\u001b[0m\u001b[0;34m\u001b[0m\u001b[0m\n",
            "\u001b[0;32m/usr/local/lib/python3.6/dist-packages/joblib/_parallel_backends.py\u001b[0m in \u001b[0;36mwrap_future_result\u001b[0;34m(future, timeout)\u001b[0m\n\u001b[1;32m    515\u001b[0m         AsyncResults.get from multiprocessing.\"\"\"\n\u001b[1;32m    516\u001b[0m         \u001b[0;32mtry\u001b[0m\u001b[0;34m:\u001b[0m\u001b[0;34m\u001b[0m\u001b[0;34m\u001b[0m\u001b[0m\n\u001b[0;32m--> 517\u001b[0;31m             \u001b[0;32mreturn\u001b[0m \u001b[0mfuture\u001b[0m\u001b[0;34m.\u001b[0m\u001b[0mresult\u001b[0m\u001b[0;34m(\u001b[0m\u001b[0mtimeout\u001b[0m\u001b[0;34m=\u001b[0m\u001b[0mtimeout\u001b[0m\u001b[0;34m)\u001b[0m\u001b[0;34m\u001b[0m\u001b[0;34m\u001b[0m\u001b[0m\n\u001b[0m\u001b[1;32m    518\u001b[0m         \u001b[0;32mexcept\u001b[0m \u001b[0mLokyTimeoutError\u001b[0m\u001b[0;34m:\u001b[0m\u001b[0;34m\u001b[0m\u001b[0;34m\u001b[0m\u001b[0m\n\u001b[1;32m    519\u001b[0m             \u001b[0;32mraise\u001b[0m \u001b[0mTimeoutError\u001b[0m\u001b[0;34m(\u001b[0m\u001b[0;34m)\u001b[0m\u001b[0;34m\u001b[0m\u001b[0;34m\u001b[0m\u001b[0m\n",
            "\u001b[0;32m/usr/lib/python3.6/concurrent/futures/_base.py\u001b[0m in \u001b[0;36mresult\u001b[0;34m(self, timeout)\u001b[0m\n\u001b[1;32m    425\u001b[0m                 \u001b[0;32mreturn\u001b[0m \u001b[0mself\u001b[0m\u001b[0;34m.\u001b[0m\u001b[0m__get_result\u001b[0m\u001b[0;34m(\u001b[0m\u001b[0;34m)\u001b[0m\u001b[0;34m\u001b[0m\u001b[0;34m\u001b[0m\u001b[0m\n\u001b[1;32m    426\u001b[0m \u001b[0;34m\u001b[0m\u001b[0m\n\u001b[0;32m--> 427\u001b[0;31m             \u001b[0mself\u001b[0m\u001b[0;34m.\u001b[0m\u001b[0m_condition\u001b[0m\u001b[0;34m.\u001b[0m\u001b[0mwait\u001b[0m\u001b[0;34m(\u001b[0m\u001b[0mtimeout\u001b[0m\u001b[0;34m)\u001b[0m\u001b[0;34m\u001b[0m\u001b[0;34m\u001b[0m\u001b[0m\n\u001b[0m\u001b[1;32m    428\u001b[0m \u001b[0;34m\u001b[0m\u001b[0m\n\u001b[1;32m    429\u001b[0m             \u001b[0;32mif\u001b[0m \u001b[0mself\u001b[0m\u001b[0;34m.\u001b[0m\u001b[0m_state\u001b[0m \u001b[0;32min\u001b[0m \u001b[0;34m[\u001b[0m\u001b[0mCANCELLED\u001b[0m\u001b[0;34m,\u001b[0m \u001b[0mCANCELLED_AND_NOTIFIED\u001b[0m\u001b[0;34m]\u001b[0m\u001b[0;34m:\u001b[0m\u001b[0;34m\u001b[0m\u001b[0;34m\u001b[0m\u001b[0m\n",
            "\u001b[0;32m/usr/lib/python3.6/threading.py\u001b[0m in \u001b[0;36mwait\u001b[0;34m(self, timeout)\u001b[0m\n\u001b[1;32m    293\u001b[0m         \u001b[0;32mtry\u001b[0m\u001b[0;34m:\u001b[0m    \u001b[0;31m# restore state no matter what (e.g., KeyboardInterrupt)\u001b[0m\u001b[0;34m\u001b[0m\u001b[0;34m\u001b[0m\u001b[0m\n\u001b[1;32m    294\u001b[0m             \u001b[0;32mif\u001b[0m \u001b[0mtimeout\u001b[0m \u001b[0;32mis\u001b[0m \u001b[0;32mNone\u001b[0m\u001b[0;34m:\u001b[0m\u001b[0;34m\u001b[0m\u001b[0;34m\u001b[0m\u001b[0m\n\u001b[0;32m--> 295\u001b[0;31m                 \u001b[0mwaiter\u001b[0m\u001b[0;34m.\u001b[0m\u001b[0macquire\u001b[0m\u001b[0;34m(\u001b[0m\u001b[0;34m)\u001b[0m\u001b[0;34m\u001b[0m\u001b[0;34m\u001b[0m\u001b[0m\n\u001b[0m\u001b[1;32m    296\u001b[0m                 \u001b[0mgotit\u001b[0m \u001b[0;34m=\u001b[0m \u001b[0;32mTrue\u001b[0m\u001b[0;34m\u001b[0m\u001b[0;34m\u001b[0m\u001b[0m\n\u001b[1;32m    297\u001b[0m             \u001b[0;32melse\u001b[0m\u001b[0;34m:\u001b[0m\u001b[0;34m\u001b[0m\u001b[0;34m\u001b[0m\u001b[0m\n",
            "\u001b[0;31mKeyboardInterrupt\u001b[0m: "
          ]
        }
      ]
    },
    {
      "cell_type": "code",
      "metadata": {
        "id": "G1ZhVUtDI6A8",
        "colab_type": "code",
        "colab": {}
      },
      "source": [
        ""
      ],
      "execution_count": 0,
      "outputs": []
    },
    {
      "cell_type": "code",
      "metadata": {
        "id": "8BoU5BfVI59i",
        "colab_type": "code",
        "colab": {}
      },
      "source": [
        ""
      ],
      "execution_count": 0,
      "outputs": []
    },
    {
      "cell_type": "code",
      "metadata": {
        "id": "NRB775qT2Wsd",
        "colab_type": "code",
        "outputId": "f7951059-8998-4446-b486-e3a4c2ec6d8a",
        "colab": {
          "base_uri": "https://localhost:8080/",
          "height": 34
        }
      },
      "source": [
        "print(\"Deep learning model\")"
      ],
      "execution_count": 0,
      "outputs": [
        {
          "output_type": "stream",
          "text": [
            "Deep learning model\n"
          ],
          "name": "stdout"
        }
      ]
    },
    {
      "cell_type": "code",
      "metadata": {
        "id": "Vswftuxh2Z4k",
        "colab_type": "code",
        "colab": {}
      },
      "source": [
        "trainX = np.array(f['X_train'])\n",
        "trainY = np.array(f['y_train'])\n",
        "testY = np.array(f['y_test'])\n",
        "valX = np.array(f['X_val'])\n",
        "testX = np.array(f['X_test'])\n",
        "valY = np.array(f['y_val'])"
      ],
      "execution_count": 0,
      "outputs": []
    },
    {
      "cell_type": "code",
      "metadata": {
        "id": "jUy4trqx9XqC",
        "colab_type": "code",
        "outputId": "ccdb0c79-7c6a-423b-de03-3955b995833c",
        "colab": {
          "base_uri": "https://localhost:8080/",
          "height": 34
        }
      },
      "source": [
        "trainX.shape\n",
        "valX.shape\n",
        "testX.shape\n",
        "valY.shape\n",
        "testY.shape\n",
        "trainY.shape"
      ],
      "execution_count": 0,
      "outputs": [
        {
          "output_type": "execute_result",
          "data": {
            "text/plain": [
              "(42000, 32, 32)"
            ]
          },
          "metadata": {
            "tags": []
          },
          "execution_count": 26
        },
        {
          "output_type": "execute_result",
          "data": {
            "text/plain": [
              "(60000, 32, 32)"
            ]
          },
          "metadata": {
            "tags": []
          },
          "execution_count": 26
        },
        {
          "output_type": "execute_result",
          "data": {
            "text/plain": [
              "(18000, 32, 32)"
            ]
          },
          "metadata": {
            "tags": []
          },
          "execution_count": 26
        },
        {
          "output_type": "execute_result",
          "data": {
            "text/plain": [
              "(60000,)"
            ]
          },
          "metadata": {
            "tags": []
          },
          "execution_count": 26
        },
        {
          "output_type": "execute_result",
          "data": {
            "text/plain": [
              "(18000,)"
            ]
          },
          "metadata": {
            "tags": []
          },
          "execution_count": 26
        },
        {
          "output_type": "execute_result",
          "data": {
            "text/plain": [
              "(42000,)"
            ]
          },
          "metadata": {
            "tags": []
          },
          "execution_count": 26
        }
      ]
    },
    {
      "cell_type": "code",
      "metadata": {
        "id": "XVTKIflP9Xwq",
        "colab_type": "code",
        "outputId": "cc087472-d2f5-46db-9eaf-5ae1c204cafd",
        "colab": {
          "base_uri": "https://localhost:8080/",
          "height": 34
        }
      },
      "source": [
        "np.unique(trainY)\n",
        "np.unique(testY)\n",
        "np.unique(valY)"
      ],
      "execution_count": 0,
      "outputs": [
        {
          "output_type": "execute_result",
          "data": {
            "text/plain": [
              "array([0, 1, 2, 3, 4, 5, 6, 7, 8, 9], dtype=uint8)"
            ]
          },
          "metadata": {
            "tags": []
          },
          "execution_count": 27
        },
        {
          "output_type": "execute_result",
          "data": {
            "text/plain": [
              "array([0, 1, 2, 3, 4, 5, 6, 7, 8, 9], dtype=uint8)"
            ]
          },
          "metadata": {
            "tags": []
          },
          "execution_count": 27
        },
        {
          "output_type": "execute_result",
          "data": {
            "text/plain": [
              "array([0, 1, 2, 3, 4, 5, 6, 7, 8, 9], dtype=uint8)"
            ]
          },
          "metadata": {
            "tags": []
          },
          "execution_count": 27
        }
      ]
    },
    {
      "cell_type": "code",
      "metadata": {
        "id": "7-cI-3e-2aAJ",
        "colab_type": "code",
        "colab": {}
      },
      "source": [
        "traindnnY = tf.keras.utils.to_categorical(trainY, num_classes=10)\n",
        "testdnnY = tf.keras.utils.to_categorical(testY, num_classes=10)\n",
        "valdnnY = tf.keras.utils.to_categorical(valY, num_classes=10)"
      ],
      "execution_count": 0,
      "outputs": []
    },
    {
      "cell_type": "code",
      "metadata": {
        "id": "g7OiYkH52aDh",
        "colab_type": "code",
        "outputId": "dc3ac562-fa65-4aad-8177-d5ba90374e75",
        "colab": {
          "base_uri": "https://localhost:8080/",
          "height": 34
        }
      },
      "source": [
        "np.unique(traindnnY)\n",
        "np.unique(testdnnY)\n",
        "np.unique(valdnnY)"
      ],
      "execution_count": 0,
      "outputs": [
        {
          "output_type": "execute_result",
          "data": {
            "text/plain": [
              "array([0., 1.], dtype=float32)"
            ]
          },
          "metadata": {
            "tags": []
          },
          "execution_count": 29
        },
        {
          "output_type": "execute_result",
          "data": {
            "text/plain": [
              "array([0., 1.], dtype=float32)"
            ]
          },
          "metadata": {
            "tags": []
          },
          "execution_count": 29
        },
        {
          "output_type": "execute_result",
          "data": {
            "text/plain": [
              "array([0., 1.], dtype=float32)"
            ]
          },
          "metadata": {
            "tags": []
          },
          "execution_count": 29
        }
      ]
    },
    {
      "cell_type": "code",
      "metadata": {
        "id": "bnGDug80ah9b",
        "colab_type": "code",
        "colab": {}
      },
      "source": [
        "trainX = trainX.astype('float32')\n",
        "testX = testX.astype('float32')\n",
        "valX = valX.astype('float32')\n",
        "\n",
        "\n",
        "trainX /= 255\n",
        "testX /= 255\n",
        "valX /= 255"
      ],
      "execution_count": 0,
      "outputs": []
    },
    {
      "cell_type": "code",
      "metadata": {
        "id": "yr02j7JHNn4u",
        "colab_type": "code",
        "outputId": "5017077b-a294-4ff7-fa64-9370310953b9",
        "colab": {
          "base_uri": "https://localhost:8080/",
          "height": 34
        }
      },
      "source": [
        " valX.shape\n",
        " testX.shape\n",
        " trainX.shape\n",
        " valdnnY.shape\n",
        " testdnnY.shape\n",
        " traindnnY.shape"
      ],
      "execution_count": 0,
      "outputs": [
        {
          "output_type": "execute_result",
          "data": {
            "text/plain": [
              "(60000, 32, 32)"
            ]
          },
          "metadata": {
            "tags": []
          },
          "execution_count": 145
        },
        {
          "output_type": "execute_result",
          "data": {
            "text/plain": [
              "(18000, 32, 32)"
            ]
          },
          "metadata": {
            "tags": []
          },
          "execution_count": 145
        },
        {
          "output_type": "execute_result",
          "data": {
            "text/plain": [
              "(42000, 32, 32)"
            ]
          },
          "metadata": {
            "tags": []
          },
          "execution_count": 145
        },
        {
          "output_type": "execute_result",
          "data": {
            "text/plain": [
              "(60000, 10)"
            ]
          },
          "metadata": {
            "tags": []
          },
          "execution_count": 145
        },
        {
          "output_type": "execute_result",
          "data": {
            "text/plain": [
              "(18000, 10)"
            ]
          },
          "metadata": {
            "tags": []
          },
          "execution_count": 145
        },
        {
          "output_type": "execute_result",
          "data": {
            "text/plain": [
              "(42000, 10)"
            ]
          },
          "metadata": {
            "tags": []
          },
          "execution_count": 145
        }
      ]
    },
    {
      "cell_type": "code",
      "metadata": {
        "id": "HBwqMpPjbxhe",
        "colab_type": "code",
        "outputId": "e3b5104b-ad45-4457-ec6a-bdd9cc79d67c",
        "colab": {
          "base_uri": "https://localhost:8080/",
          "height": 34
        }
      },
      "source": [
        "print(\"model with Adam\")"
      ],
      "execution_count": 0,
      "outputs": [
        {
          "output_type": "stream",
          "text": [
            "model with Adam\n"
          ],
          "name": "stdout"
        }
      ]
    },
    {
      "cell_type": "code",
      "metadata": {
        "id": "irTuZ6pHNZlu",
        "colab_type": "code",
        "colab": {}
      },
      "source": [
        "\n",
        "BATCH_SIZE = 100\n",
        "EPOCHS = 30"
      ],
      "execution_count": 0,
      "outputs": []
    },
    {
      "cell_type": "code",
      "metadata": {
        "id": "N0QPi4W2avpN",
        "colab_type": "code",
        "outputId": "20c716a7-0655-487a-bacf-9fc0899c0890",
        "colab": {
          "base_uri": "https://localhost:8080/",
          "height": 1244
        }
      },
      "source": [
        "#Initialize Sequential model\n",
        "    # Define the Type of Model\n",
        "model = Sequential()\n",
        "\n",
        "    # Flatten Imgaes to Vector\n",
        "model.add(Reshape((1024,), input_shape=(32, 32,)))\n",
        "\n",
        "    # Layer 1\n",
        "model.add(Dense(output_dim=128, init='he_normal',activation = \"relu\", bias=True))\n",
        "model.add(keras.layers.BatchNormalization())\n",
        "\n",
        "    # Layer 2\n",
        "model.add(Dense(output_dim=256, init='he_normal',activation = \"relu\", bias=True))\n",
        "model.add(keras.layers.Dropout(0.25))\n",
        "model.add(keras.layers.BatchNormalization())\n",
        "\n",
        "    # Layer 3\n",
        "model.add(Dense(output_dim=512, init='he_normal',activation = \"relu\", bias=True))\n",
        "model.add(keras.layers.Dropout(0.25))\n",
        "model.add(keras.layers.BatchNormalization())\n",
        "\n",
        "\n",
        "    # Layer 4\n",
        "model.add(Dense(output_dim=1024, init='he_normal',activation = \"relu\", bias=True))\n",
        "model.add(keras.layers.Dropout(0.25))\n",
        "model.add(keras.layers.BatchNormalization())\n",
        "\n",
        "    # Layer 5\n",
        "model.add(Dense(output_dim=10, init='he_normal',activation = \"softmax\", bias=True))\n",
        "\n",
        "\n",
        "    # Loss and Optimizer\n",
        "model.compile(loss='categorical_crossentropy', optimizer='adam', metrics=['accuracy'])\n",
        "\n",
        "    # Store Training Results\n",
        "early_stopping = keras.callbacks.EarlyStopping(monitor='val_acc', patience=10, verbose=1, mode='auto')\n",
        "callback_list = [early_stopping]# [stats, early_stopping]\n",
        "\n",
        "    # Train the model\n",
        "model.fit(trainX, traindnnY, nb_epoch=EPOCHS, batch_size=BATCH_SIZE, validation_split=0.2, callbacks=callback_list, verbose=True)\n",
        "    #model1.fit(x_train, y_train, nb_epoch=EPOCHS, batch_size=BATCH_SIZE,\n",
        "    #          validation_data=(x_test, y_test), callbacks=callback_list, verbose=True)\n",
        "\n",
        "    # Save model and training"
      ],
      "execution_count": 0,
      "outputs": [
        {
          "output_type": "stream",
          "text": [
            "/usr/local/lib/python3.6/dist-packages/ipykernel_launcher.py:7: UserWarning: Update your `Dense` call to the Keras 2 API: `Dense(activation=\"relu\", units=128, kernel_initializer=\"he_normal\", use_bias=True)`\n",
            "  import sys\n",
            "/usr/local/lib/python3.6/dist-packages/ipykernel_launcher.py:11: UserWarning: Update your `Dense` call to the Keras 2 API: `Dense(activation=\"relu\", units=256, kernel_initializer=\"he_normal\", use_bias=True)`\n",
            "  # This is added back by InteractiveShellApp.init_path()\n",
            "/usr/local/lib/python3.6/dist-packages/ipykernel_launcher.py:16: UserWarning: Update your `Dense` call to the Keras 2 API: `Dense(activation=\"relu\", units=512, kernel_initializer=\"he_normal\", use_bias=True)`\n",
            "  app.launch_new_instance()\n",
            "/usr/local/lib/python3.6/dist-packages/ipykernel_launcher.py:22: UserWarning: Update your `Dense` call to the Keras 2 API: `Dense(activation=\"relu\", units=1024, kernel_initializer=\"he_normal\", use_bias=True)`\n",
            "/usr/local/lib/python3.6/dist-packages/ipykernel_launcher.py:27: UserWarning: Update your `Dense` call to the Keras 2 API: `Dense(activation=\"softmax\", units=10, kernel_initializer=\"he_normal\", use_bias=True)`\n",
            "/usr/local/lib/python3.6/dist-packages/ipykernel_launcher.py:38: UserWarning: The `nb_epoch` argument in `fit` has been renamed `epochs`.\n"
          ],
          "name": "stderr"
        },
        {
          "output_type": "stream",
          "text": [
            "Train on 33600 samples, validate on 8400 samples\n",
            "Epoch 1/30\n",
            "33600/33600 [==============================] - 14s 422us/step - loss: 1.8109 - acc: 0.4178 - val_loss: 2.1098 - val_acc: 0.3561\n",
            "Epoch 2/30\n",
            "33600/33600 [==============================] - 12s 366us/step - loss: 1.1745 - acc: 0.6260 - val_loss: 1.7405 - val_acc: 0.4920\n",
            "Epoch 3/30\n",
            "33600/33600 [==============================] - 12s 364us/step - loss: 1.0281 - acc: 0.6745 - val_loss: 1.3896 - val_acc: 0.5607\n",
            "Epoch 4/30\n",
            "33600/33600 [==============================] - 12s 363us/step - loss: 0.9292 - acc: 0.7063 - val_loss: 1.1315 - val_acc: 0.6477\n",
            "Epoch 5/30\n",
            "33600/33600 [==============================] - 12s 363us/step - loss: 0.8800 - acc: 0.7222 - val_loss: 1.3965 - val_acc: 0.5511\n",
            "Epoch 6/30\n",
            "33600/33600 [==============================] - 12s 368us/step - loss: 0.8326 - acc: 0.7360 - val_loss: 0.8895 - val_acc: 0.7157\n",
            "Epoch 7/30\n",
            "33600/33600 [==============================] - 12s 363us/step - loss: 0.7847 - acc: 0.7565 - val_loss: 1.0257 - val_acc: 0.6533\n",
            "Epoch 8/30\n",
            "33600/33600 [==============================] - 12s 361us/step - loss: 0.7534 - acc: 0.7622 - val_loss: 1.0226 - val_acc: 0.6625\n",
            "Epoch 9/30\n",
            "33600/33600 [==============================] - 12s 363us/step - loss: 0.7276 - acc: 0.7692 - val_loss: 0.9575 - val_acc: 0.6882\n",
            "Epoch 10/30\n",
            "33600/33600 [==============================] - 12s 361us/step - loss: 0.6958 - acc: 0.7791 - val_loss: 0.8946 - val_acc: 0.7144\n",
            "Epoch 11/30\n",
            "33600/33600 [==============================] - 12s 362us/step - loss: 0.6751 - acc: 0.7843 - val_loss: 0.7433 - val_acc: 0.7694\n",
            "Epoch 12/30\n",
            "33600/33600 [==============================] - 12s 361us/step - loss: 0.6658 - acc: 0.7882 - val_loss: 0.7574 - val_acc: 0.7556\n",
            "Epoch 13/30\n",
            "33600/33600 [==============================] - 12s 361us/step - loss: 0.6537 - acc: 0.7916 - val_loss: 0.9334 - val_acc: 0.6988\n",
            "Epoch 14/30\n",
            "33600/33600 [==============================] - 12s 367us/step - loss: 0.6289 - acc: 0.8018 - val_loss: 0.9072 - val_acc: 0.7021\n",
            "Epoch 15/30\n",
            "33600/33600 [==============================] - 12s 358us/step - loss: 0.6172 - acc: 0.8043 - val_loss: 0.7765 - val_acc: 0.7537\n",
            "Epoch 16/30\n",
            "33600/33600 [==============================] - 12s 362us/step - loss: 0.6029 - acc: 0.8084 - val_loss: 0.7818 - val_acc: 0.7477\n",
            "Epoch 17/30\n",
            "33600/33600 [==============================] - 12s 361us/step - loss: 0.5878 - acc: 0.8130 - val_loss: 0.8958 - val_acc: 0.7229\n",
            "Epoch 18/30\n",
            "33600/33600 [==============================] - 12s 362us/step - loss: 0.5728 - acc: 0.8182 - val_loss: 0.7557 - val_acc: 0.7626\n",
            "Epoch 19/30\n",
            "33600/33600 [==============================] - 12s 366us/step - loss: 0.5639 - acc: 0.8186 - val_loss: 0.6792 - val_acc: 0.7913\n",
            "Epoch 20/30\n",
            "33600/33600 [==============================] - 12s 364us/step - loss: 0.5687 - acc: 0.8152 - val_loss: 0.9636 - val_acc: 0.6885\n",
            "Epoch 21/30\n",
            "33600/33600 [==============================] - 12s 364us/step - loss: 0.5521 - acc: 0.8226 - val_loss: 0.6495 - val_acc: 0.7946\n",
            "Epoch 22/30\n",
            "33600/33600 [==============================] - 12s 359us/step - loss: 0.5323 - acc: 0.8288 - val_loss: 0.8721 - val_acc: 0.7107\n",
            "Epoch 23/30\n",
            "33600/33600 [==============================] - 13s 375us/step - loss: 0.5363 - acc: 0.8290 - val_loss: 0.7772 - val_acc: 0.7498\n",
            "Epoch 24/30\n",
            "33600/33600 [==============================] - 12s 359us/step - loss: 0.5148 - acc: 0.8341 - val_loss: 0.7655 - val_acc: 0.7538\n",
            "Epoch 25/30\n",
            "33600/33600 [==============================] - 12s 357us/step - loss: 0.5148 - acc: 0.8352 - val_loss: 0.8053 - val_acc: 0.7415\n",
            "Epoch 26/30\n",
            "33600/33600 [==============================] - 12s 357us/step - loss: 0.5011 - acc: 0.8389 - val_loss: 0.8423 - val_acc: 0.7365\n",
            "Epoch 27/30\n",
            "33600/33600 [==============================] - 12s 358us/step - loss: 0.4970 - acc: 0.8388 - val_loss: 0.6454 - val_acc: 0.8042\n",
            "Epoch 28/30\n",
            "33600/33600 [==============================] - 12s 361us/step - loss: 0.4835 - acc: 0.8448 - val_loss: 0.7133 - val_acc: 0.7695\n",
            "Epoch 29/30\n",
            "33600/33600 [==============================] - 12s 355us/step - loss: 0.4833 - acc: 0.8427 - val_loss: 0.6831 - val_acc: 0.7793\n",
            "Epoch 30/30\n",
            "33600/33600 [==============================] - 12s 358us/step - loss: 0.4770 - acc: 0.8453 - val_loss: 0.8350 - val_acc: 0.7295\n"
          ],
          "name": "stdout"
        },
        {
          "output_type": "execute_result",
          "data": {
            "text/plain": [
              "<keras.callbacks.History at 0x7f02fbce1eb8>"
            ]
          },
          "metadata": {
            "tags": []
          },
          "execution_count": 38
        }
      ]
    },
    {
      "cell_type": "code",
      "metadata": {
        "id": "mA0WVp_1cJSx",
        "colab_type": "code",
        "colab": {}
      },
      "source": [
        "testnewY = model.predict_classes(testX)"
      ],
      "execution_count": 0,
      "outputs": []
    },
    {
      "cell_type": "code",
      "metadata": {
        "id": "i4hiKSD0ddd-",
        "colab_type": "code",
        "outputId": "5b5d9c66-0fdf-4560-ee26-1ab4cb9b209e",
        "colab": {
          "base_uri": "https://localhost:8080/",
          "height": 340
        }
      },
      "source": [
        "bPrecis, bRecall, bFscore, bSupport = precision_recall_fscore_support(testY, testnewY,average = 'macro' )\n",
        "print(\"Precision \",bPrecis)\n",
        "print(\"Recall \",bRecall)\n",
        "print(classification_report(testY, testnewY))"
      ],
      "execution_count": 0,
      "outputs": [
        {
          "output_type": "stream",
          "text": [
            "Precision  0.7580966724010414\n",
            "Recall  0.7341247648224021\n",
            "              precision    recall  f1-score   support\n",
            "\n",
            "           0       0.84      0.75      0.79      1814\n",
            "           1       0.79      0.76      0.78      1828\n",
            "           2       0.67      0.81      0.74      1803\n",
            "           3       0.58      0.79      0.67      1719\n",
            "           4       0.89      0.74      0.81      1812\n",
            "           5       0.76      0.74      0.75      1768\n",
            "           6       0.83      0.71      0.77      1832\n",
            "           7       0.88      0.72      0.79      1808\n",
            "           8       0.80      0.57      0.67      1812\n",
            "           9       0.53      0.75      0.62      1804\n",
            "\n",
            "    accuracy                           0.73     18000\n",
            "   macro avg       0.76      0.73      0.74     18000\n",
            "weighted avg       0.76      0.73      0.74     18000\n",
            "\n"
          ],
          "name": "stdout"
        }
      ]
    },
    {
      "cell_type": "code",
      "metadata": {
        "id": "YFB0WeZiddpW",
        "colab_type": "code",
        "colab": {}
      },
      "source": [
        ""
      ],
      "execution_count": 0,
      "outputs": []
    },
    {
      "cell_type": "code",
      "metadata": {
        "id": "fTXLyWYPL24J",
        "colab_type": "code",
        "outputId": "0ee34001-f77b-4094-9d36-12447f64f51b",
        "colab": {
          "base_uri": "https://localhost:8080/",
          "height": 34
        }
      },
      "source": [
        "print(\"Model with SGD and nestrov True\")"
      ],
      "execution_count": 0,
      "outputs": [
        {
          "output_type": "stream",
          "text": [
            "Model with SGD and nestrov True\n"
          ],
          "name": "stdout"
        }
      ]
    },
    {
      "cell_type": "code",
      "metadata": {
        "id": "FjnOT_6Fdcmy",
        "colab_type": "code",
        "colab": {}
      },
      "source": [
        ""
      ],
      "execution_count": 0,
      "outputs": []
    },
    {
      "cell_type": "code",
      "metadata": {
        "id": "YnnJeDq_4WtN",
        "colab_type": "code",
        "outputId": "ed1072a4-7ae7-41a8-f4d6-59d4b9334cd3",
        "colab": {
          "base_uri": "https://localhost:8080/",
          "height": 1278
        }
      },
      "source": [
        "#Initialize Sequential model\n",
        "from keras.optimizers import SGD\n",
        "    # Define the Type of Model\n",
        "model1 = Sequential()\n",
        "\n",
        "    # Flatten Imgaes to Vector\n",
        "model1.add(Reshape((1024,), input_shape=(32, 32,)))\n",
        "\n",
        "    # Layer 1\n",
        "model1.add(Dense(output_dim=128, init='he_normal',activation = \"relu\", bias=True))\n",
        "model1.add(keras.layers.BatchNormalization())\n",
        "\n",
        "    # Layer 2\n",
        "model1.add(Dense(output_dim=256, init='he_normal',activation = \"relu\", bias=True))\n",
        "model1.add(keras.layers.Dropout(0.25))\n",
        "model1.add(keras.layers.BatchNormalization())\n",
        "\n",
        "    # Layer 3\n",
        "model1.add(Dense(output_dim=512, init='he_normal',activation = \"relu\", bias=True))\n",
        "model1.add(keras.layers.Dropout(0.25))\n",
        "model1.add(keras.layers.BatchNormalization())\n",
        "\n",
        "\n",
        "    # Layer 4\n",
        "model1.add(Dense(output_dim=1024, init='he_normal',activation = \"relu\", bias=True))\n",
        "model1.add(keras.layers.Dropout(0.25))\n",
        "model1.add(keras.layers.BatchNormalization())\n",
        "\n",
        "    # Layer 5\n",
        "model1.add(Dense(output_dim=10, init='he_normal',activation = \"softmax\", bias=True))\n",
        "\n",
        "learning_rate = 0.001\n",
        "decay_rate = learning_rate / EPOCHS\n",
        "momentum = 0.8\n",
        "sgd = SGD(lr=learning_rate, momentum=momentum, decay=decay_rate, nesterov=True)\n",
        "#Comile the model\n",
        "model1.compile(optimizer=keras.optimizers.SGD(lr=0.001), loss='categorical_crossentropy', metrics=['accuracy'])\n",
        "    # Loss and Optimizer\n",
        "#model1.compile(loss='categorical_crossentropy', optimizer='adam', metrics=['accuracy'])\n",
        "\n",
        "    # Store Training Results\n",
        "early_stopping = keras.callbacks.EarlyStopping(monitor='val_acc', patience=10, verbose=1, mode='auto')\n",
        "callback_list = [early_stopping]# [stats, early_stopping]\n",
        "\n",
        "    # Train the model\n",
        "model1.fit(trainX, traindnnY, nb_epoch=EPOCHS, batch_size=BATCH_SIZE, validation_split=0.2, callbacks=callback_list, verbose=True)\n",
        "    #model1.fit(x_train, y_train, nb_epoch=EPOCHS, batch_size=BATCH_SIZE,\n",
        "    #          validation_data=(x_test, y_test), callbacks=callback_list, verbose=True)\n",
        "\n",
        "    # Save model and training"
      ],
      "execution_count": 0,
      "outputs": [
        {
          "output_type": "stream",
          "text": [
            "/usr/local/lib/python3.6/dist-packages/ipykernel_launcher.py:9: UserWarning: Update your `Dense` call to the Keras 2 API: `Dense(activation=\"relu\", units=128, kernel_initializer=\"he_normal\", use_bias=True)`\n",
            "  if __name__ == '__main__':\n",
            "/usr/local/lib/python3.6/dist-packages/ipykernel_launcher.py:13: UserWarning: Update your `Dense` call to the Keras 2 API: `Dense(activation=\"relu\", units=256, kernel_initializer=\"he_normal\", use_bias=True)`\n",
            "  del sys.path[0]\n",
            "/usr/local/lib/python3.6/dist-packages/ipykernel_launcher.py:18: UserWarning: Update your `Dense` call to the Keras 2 API: `Dense(activation=\"relu\", units=512, kernel_initializer=\"he_normal\", use_bias=True)`\n",
            "/usr/local/lib/python3.6/dist-packages/ipykernel_launcher.py:24: UserWarning: Update your `Dense` call to the Keras 2 API: `Dense(activation=\"relu\", units=1024, kernel_initializer=\"he_normal\", use_bias=True)`\n",
            "/usr/local/lib/python3.6/dist-packages/ipykernel_launcher.py:29: UserWarning: Update your `Dense` call to the Keras 2 API: `Dense(activation=\"softmax\", units=10, kernel_initializer=\"he_normal\", use_bias=True)`\n",
            "/usr/local/lib/python3.6/dist-packages/ipykernel_launcher.py:45: UserWarning: The `nb_epoch` argument in `fit` has been renamed `epochs`.\n"
          ],
          "name": "stderr"
        },
        {
          "output_type": "stream",
          "text": [
            "WARNING:tensorflow:From /usr/local/lib/python3.6/dist-packages/tensorflow/python/ops/math_ops.py:3066: to_int32 (from tensorflow.python.ops.math_ops) is deprecated and will be removed in a future version.\n",
            "Instructions for updating:\n",
            "Use tf.cast instead.\n",
            "Train on 33600 samples, validate on 8400 samples\n",
            "Epoch 1/30\n",
            "33600/33600 [==============================] - 13s 399us/step - loss: 2.9313 - acc: 0.1135 - val_loss: 2.3726 - val_acc: 0.1496\n",
            "Epoch 2/30\n",
            "33600/33600 [==============================] - 11s 323us/step - loss: 2.7564 - acc: 0.1378 - val_loss: 2.2144 - val_acc: 0.1988\n",
            "Epoch 3/30\n",
            "33600/33600 [==============================] - 11s 316us/step - loss: 2.5970 - acc: 0.1588 - val_loss: 2.0954 - val_acc: 0.2614\n",
            "Epoch 4/30\n",
            "33600/33600 [==============================] - 11s 318us/step - loss: 2.4899 - acc: 0.1885 - val_loss: 1.9780 - val_acc: 0.3246\n",
            "Epoch 5/30\n",
            "33600/33600 [==============================] - 11s 315us/step - loss: 2.3675 - acc: 0.2178 - val_loss: 1.8650 - val_acc: 0.3729\n",
            "Epoch 6/30\n",
            "33600/33600 [==============================] - 10s 306us/step - loss: 2.2529 - acc: 0.2524 - val_loss: 1.7519 - val_acc: 0.4224\n",
            "Epoch 7/30\n",
            "33600/33600 [==============================] - 11s 317us/step - loss: 2.1313 - acc: 0.2856 - val_loss: 1.6599 - val_acc: 0.4592\n",
            "Epoch 8/30\n",
            "33600/33600 [==============================] - 11s 316us/step - loss: 2.0358 - acc: 0.3132 - val_loss: 1.5863 - val_acc: 0.4932\n",
            "Epoch 9/30\n",
            "33600/33600 [==============================] - 11s 319us/step - loss: 1.9569 - acc: 0.3399 - val_loss: 1.5199 - val_acc: 0.5182\n",
            "Epoch 10/30\n",
            "33600/33600 [==============================] - 11s 313us/step - loss: 1.8818 - acc: 0.3654 - val_loss: 1.4679 - val_acc: 0.5390\n",
            "Epoch 11/30\n",
            "33600/33600 [==============================] - 10s 304us/step - loss: 1.8248 - acc: 0.3835 - val_loss: 1.4201 - val_acc: 0.5490\n",
            "Epoch 12/30\n",
            "33600/33600 [==============================] - 11s 318us/step - loss: 1.7620 - acc: 0.4062 - val_loss: 1.3780 - val_acc: 0.5661\n",
            "Epoch 13/30\n",
            "33600/33600 [==============================] - 11s 326us/step - loss: 1.7056 - acc: 0.4263 - val_loss: 1.3298 - val_acc: 0.5845\n",
            "Epoch 14/30\n",
            "33600/33600 [==============================] - 11s 325us/step - loss: 1.6584 - acc: 0.4420 - val_loss: 1.2969 - val_acc: 0.5943\n",
            "Epoch 15/30\n",
            "33600/33600 [==============================] - 11s 319us/step - loss: 1.6161 - acc: 0.4580 - val_loss: 1.2558 - val_acc: 0.6098\n",
            "Epoch 16/30\n",
            "33600/33600 [==============================] - 11s 322us/step - loss: 1.5792 - acc: 0.4689 - val_loss: 1.2328 - val_acc: 0.6162\n",
            "Epoch 17/30\n",
            "33600/33600 [==============================] - 11s 323us/step - loss: 1.5406 - acc: 0.4884 - val_loss: 1.2215 - val_acc: 0.6187\n",
            "Epoch 18/30\n",
            "33600/33600 [==============================] - 11s 316us/step - loss: 1.5090 - acc: 0.4990 - val_loss: 1.1821 - val_acc: 0.6332\n",
            "Epoch 19/30\n",
            "33600/33600 [==============================] - 11s 314us/step - loss: 1.4793 - acc: 0.5087 - val_loss: 1.1652 - val_acc: 0.6425\n",
            "Epoch 20/30\n",
            "33600/33600 [==============================] - 10s 307us/step - loss: 1.4556 - acc: 0.5198 - val_loss: 1.1454 - val_acc: 0.6442\n",
            "Epoch 21/30\n",
            "33600/33600 [==============================] - 10s 310us/step - loss: 1.4287 - acc: 0.5286 - val_loss: 1.1375 - val_acc: 0.6504\n",
            "Epoch 22/30\n",
            "33600/33600 [==============================] - 10s 310us/step - loss: 1.4074 - acc: 0.5362 - val_loss: 1.1292 - val_acc: 0.6488\n",
            "Epoch 23/30\n",
            "33600/33600 [==============================] - 10s 309us/step - loss: 1.3964 - acc: 0.5435 - val_loss: 1.1175 - val_acc: 0.6519\n",
            "Epoch 24/30\n",
            "33600/33600 [==============================] - 10s 307us/step - loss: 1.3640 - acc: 0.5568 - val_loss: 1.1028 - val_acc: 0.6580\n",
            "Epoch 25/30\n",
            "33600/33600 [==============================] - 11s 317us/step - loss: 1.3446 - acc: 0.5613 - val_loss: 1.1048 - val_acc: 0.6519\n",
            "Epoch 26/30\n",
            "33600/33600 [==============================] - 10s 309us/step - loss: 1.3300 - acc: 0.5662 - val_loss: 1.0733 - val_acc: 0.6681\n",
            "Epoch 27/30\n",
            "33600/33600 [==============================] - 10s 311us/step - loss: 1.3183 - acc: 0.5710 - val_loss: 1.0776 - val_acc: 0.6625\n",
            "Epoch 28/30\n",
            "33600/33600 [==============================] - 11s 314us/step - loss: 1.2994 - acc: 0.5770 - val_loss: 1.0520 - val_acc: 0.6764\n",
            "Epoch 29/30\n",
            "33600/33600 [==============================] - 10s 306us/step - loss: 1.2835 - acc: 0.5848 - val_loss: 1.0456 - val_acc: 0.6846\n",
            "Epoch 30/30\n",
            "33600/33600 [==============================] - 10s 308us/step - loss: 1.2749 - acc: 0.5900 - val_loss: 1.0303 - val_acc: 0.6851\n"
          ],
          "name": "stdout"
        },
        {
          "output_type": "execute_result",
          "data": {
            "text/plain": [
              "<keras.callbacks.History at 0x7f0300b66a20>"
            ]
          },
          "metadata": {
            "tags": []
          },
          "execution_count": 35
        }
      ]
    },
    {
      "cell_type": "code",
      "metadata": {
        "id": "aMdAS0bs_p-b",
        "colab_type": "code",
        "colab": {}
      },
      "source": [
        "testnewsgdY = model1.predict_classes(testX)"
      ],
      "execution_count": 0,
      "outputs": []
    },
    {
      "cell_type": "code",
      "metadata": {
        "id": "5mAvnc3i3Xcz",
        "colab_type": "code",
        "outputId": "84fb911b-6e5c-4afa-a521-0ad2ea7818db",
        "colab": {
          "base_uri": "https://localhost:8080/",
          "height": 340
        }
      },
      "source": [
        "bPrecis, bRecall, bFscore, bSupport = precision_recall_fscore_support(testY, testnewsgdY,average = 'macro' )\n",
        "print(\"Precision \",bPrecis)\n",
        "print(\"Recall \",bRecall)\n",
        "print(classification_report(testY, testnewsgdY))\n"
      ],
      "execution_count": 0,
      "outputs": [
        {
          "output_type": "stream",
          "text": [
            "Precision  0.6941781158834187\n",
            "Recall  0.6840575022945784\n",
            "              precision    recall  f1-score   support\n",
            "\n",
            "           0       0.71      0.68      0.69      1814\n",
            "           1       0.64      0.75      0.69      1828\n",
            "           2       0.74      0.71      0.73      1803\n",
            "           3       0.62      0.65      0.63      1719\n",
            "           4       0.81      0.73      0.77      1812\n",
            "           5       0.74      0.61      0.67      1768\n",
            "           6       0.66      0.69      0.67      1832\n",
            "           7       0.79      0.72      0.75      1808\n",
            "           8       0.52      0.69      0.59      1812\n",
            "           9       0.70      0.62      0.66      1804\n",
            "\n",
            "    accuracy                           0.68     18000\n",
            "   macro avg       0.69      0.68      0.69     18000\n",
            "weighted avg       0.69      0.68      0.69     18000\n",
            "\n"
          ],
          "name": "stdout"
        }
      ]
    },
    {
      "cell_type": "code",
      "metadata": {
        "id": "wNeX73wo4Jx2",
        "colab_type": "code",
        "colab": {}
      },
      "source": [
        ""
      ],
      "execution_count": 0,
      "outputs": []
    },
    {
      "cell_type": "code",
      "metadata": {
        "id": "TkNQbEms7MQp",
        "colab_type": "code",
        "outputId": "8a1e89eb-4fb6-40a7-d3e4-a6255b03581f",
        "colab": {
          "base_uri": "https://localhost:8080/",
          "height": 54
        }
      },
      "source": [
        "print(\"From above 3 models of KNN, DNN with Adam, DNN with SGD and Nestrov, On looking classification report, Since it is multi classification F1 score seems good for DNN with Adam when compared to other 2 models on class wise\")"
      ],
      "execution_count": 0,
      "outputs": [
        {
          "output_type": "stream",
          "text": [
            "From above 3 models of KNN, DNN with Adam, DNN with SGD and Nestrov, On looking classification report, Since it is multi classification F1 score seems good for DNN with Adam when compared to other 2 models on class wise\n"
          ],
          "name": "stdout"
        }
      ]
    },
    {
      "cell_type": "code",
      "metadata": {
        "id": "DoCzxPAN3vIQ",
        "colab_type": "code",
        "colab": {}
      },
      "source": [
        ""
      ],
      "execution_count": 0,
      "outputs": []
    },
    {
      "cell_type": "code",
      "metadata": {
        "id": "Eor0OKrX30mv",
        "colab_type": "code",
        "colab": {}
      },
      "source": [
        ""
      ],
      "execution_count": 0,
      "outputs": []
    },
    {
      "cell_type": "code",
      "metadata": {
        "id": "Z24NCVII3_23",
        "colab_type": "code",
        "colab": {}
      },
      "source": [
        ""
      ],
      "execution_count": 0,
      "outputs": []
    },
    {
      "cell_type": "code",
      "metadata": {
        "id": "LrGe46g9J1t0",
        "colab_type": "code",
        "colab": {}
      },
      "source": [
        ""
      ],
      "execution_count": 0,
      "outputs": []
    }
  ]
}