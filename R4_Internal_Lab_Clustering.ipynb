{
 "cells": [
  {
   "cell_type": "markdown",
   "metadata": {},
   "source": [
    "### The data set has information about features of silhouette extracted from the images of different cars\n",
    "\n",
    "Four \"Corgie\" model vehicles were used for the experiment: a double decker bus, Cheverolet van, Saab 9000 and an Opel Manta 400 cars. This particular combination of vehicles was chosen with the expectation that the bus, van and either one of the cars would be readily distinguishable, but it would be more difficult to distinguish between the cars.\n",
    "\n"
   ]
  },
  {
   "cell_type": "markdown",
   "metadata": {},
   "source": [
    "### 1. Read the dataset using function .dropna() - to avoid dealing with NAs as of now"
   ]
  },
  {
   "cell_type": "code",
   "execution_count": 1,
   "metadata": {},
   "outputs": [],
   "source": [
    "import pandas as pd\n",
    "import numpy as np\n",
    "from matplotlib import pyplot as plt\n",
    "from IPython.core.interactiveshell import InteractiveShell\n",
    "InteractiveShell.ast_node_interactivity = \"all\"\n",
    "import seaborn as sns\n",
    "import warnings \n",
    "warnings.filterwarnings('ignore')\n",
    "from scipy.stats import zscore\n",
    "from sklearn.cluster import KMeans\n",
    "from sklearn import metrics"
   ]
  },
  {
   "cell_type": "code",
   "execution_count": 2,
   "metadata": {},
   "outputs": [
    {
     "data": {
      "text/html": [
       "<div>\n",
       "<style scoped>\n",
       "    .dataframe tbody tr th:only-of-type {\n",
       "        vertical-align: middle;\n",
       "    }\n",
       "\n",
       "    .dataframe tbody tr th {\n",
       "        vertical-align: top;\n",
       "    }\n",
       "\n",
       "    .dataframe thead th {\n",
       "        text-align: right;\n",
       "    }\n",
       "</style>\n",
       "<table border=\"1\" class=\"dataframe\">\n",
       "  <thead>\n",
       "    <tr style=\"text-align: right;\">\n",
       "      <th></th>\n",
       "      <th>compactness</th>\n",
       "      <th>circularity</th>\n",
       "      <th>distance_circularity</th>\n",
       "      <th>radius_ratio</th>\n",
       "      <th>pr.axis_aspect_ratio</th>\n",
       "      <th>max.length_aspect_ratio</th>\n",
       "      <th>scatter_ratio</th>\n",
       "      <th>elongatedness</th>\n",
       "      <th>pr.axis_rectangularity</th>\n",
       "      <th>max.length_rectangularity</th>\n",
       "      <th>scaled_variance</th>\n",
       "      <th>scaled_variance.1</th>\n",
       "      <th>scaled_radius_of_gyration</th>\n",
       "      <th>scaled_radius_of_gyration.1</th>\n",
       "      <th>skewness_about</th>\n",
       "      <th>skewness_about.1</th>\n",
       "      <th>skewness_about.2</th>\n",
       "      <th>hollows_ratio</th>\n",
       "      <th>class</th>\n",
       "    </tr>\n",
       "  </thead>\n",
       "  <tbody>\n",
       "    <tr>\n",
       "      <th>0</th>\n",
       "      <td>95</td>\n",
       "      <td>48.0</td>\n",
       "      <td>83.0</td>\n",
       "      <td>178.0</td>\n",
       "      <td>72.0</td>\n",
       "      <td>10</td>\n",
       "      <td>162.0</td>\n",
       "      <td>42.0</td>\n",
       "      <td>20.0</td>\n",
       "      <td>159</td>\n",
       "      <td>176.0</td>\n",
       "      <td>379.0</td>\n",
       "      <td>184.0</td>\n",
       "      <td>70.0</td>\n",
       "      <td>6.0</td>\n",
       "      <td>16.0</td>\n",
       "      <td>187.0</td>\n",
       "      <td>197</td>\n",
       "      <td>van</td>\n",
       "    </tr>\n",
       "    <tr>\n",
       "      <th>1</th>\n",
       "      <td>91</td>\n",
       "      <td>41.0</td>\n",
       "      <td>84.0</td>\n",
       "      <td>141.0</td>\n",
       "      <td>57.0</td>\n",
       "      <td>9</td>\n",
       "      <td>149.0</td>\n",
       "      <td>45.0</td>\n",
       "      <td>19.0</td>\n",
       "      <td>143</td>\n",
       "      <td>170.0</td>\n",
       "      <td>330.0</td>\n",
       "      <td>158.0</td>\n",
       "      <td>72.0</td>\n",
       "      <td>9.0</td>\n",
       "      <td>14.0</td>\n",
       "      <td>189.0</td>\n",
       "      <td>199</td>\n",
       "      <td>van</td>\n",
       "    </tr>\n",
       "    <tr>\n",
       "      <th>2</th>\n",
       "      <td>104</td>\n",
       "      <td>50.0</td>\n",
       "      <td>106.0</td>\n",
       "      <td>209.0</td>\n",
       "      <td>66.0</td>\n",
       "      <td>10</td>\n",
       "      <td>207.0</td>\n",
       "      <td>32.0</td>\n",
       "      <td>23.0</td>\n",
       "      <td>158</td>\n",
       "      <td>223.0</td>\n",
       "      <td>635.0</td>\n",
       "      <td>220.0</td>\n",
       "      <td>73.0</td>\n",
       "      <td>14.0</td>\n",
       "      <td>9.0</td>\n",
       "      <td>188.0</td>\n",
       "      <td>196</td>\n",
       "      <td>car</td>\n",
       "    </tr>\n",
       "    <tr>\n",
       "      <th>3</th>\n",
       "      <td>93</td>\n",
       "      <td>41.0</td>\n",
       "      <td>82.0</td>\n",
       "      <td>159.0</td>\n",
       "      <td>63.0</td>\n",
       "      <td>9</td>\n",
       "      <td>144.0</td>\n",
       "      <td>46.0</td>\n",
       "      <td>19.0</td>\n",
       "      <td>143</td>\n",
       "      <td>160.0</td>\n",
       "      <td>309.0</td>\n",
       "      <td>127.0</td>\n",
       "      <td>63.0</td>\n",
       "      <td>6.0</td>\n",
       "      <td>10.0</td>\n",
       "      <td>199.0</td>\n",
       "      <td>207</td>\n",
       "      <td>van</td>\n",
       "    </tr>\n",
       "    <tr>\n",
       "      <th>4</th>\n",
       "      <td>85</td>\n",
       "      <td>44.0</td>\n",
       "      <td>70.0</td>\n",
       "      <td>205.0</td>\n",
       "      <td>103.0</td>\n",
       "      <td>52</td>\n",
       "      <td>149.0</td>\n",
       "      <td>45.0</td>\n",
       "      <td>19.0</td>\n",
       "      <td>144</td>\n",
       "      <td>241.0</td>\n",
       "      <td>325.0</td>\n",
       "      <td>188.0</td>\n",
       "      <td>127.0</td>\n",
       "      <td>9.0</td>\n",
       "      <td>11.0</td>\n",
       "      <td>180.0</td>\n",
       "      <td>183</td>\n",
       "      <td>bus</td>\n",
       "    </tr>\n",
       "  </tbody>\n",
       "</table>\n",
       "</div>"
      ],
      "text/plain": [
       "   compactness  circularity  distance_circularity  radius_ratio  \\\n",
       "0           95         48.0                  83.0         178.0   \n",
       "1           91         41.0                  84.0         141.0   \n",
       "2          104         50.0                 106.0         209.0   \n",
       "3           93         41.0                  82.0         159.0   \n",
       "4           85         44.0                  70.0         205.0   \n",
       "\n",
       "   pr.axis_aspect_ratio  max.length_aspect_ratio  scatter_ratio  \\\n",
       "0                  72.0                       10          162.0   \n",
       "1                  57.0                        9          149.0   \n",
       "2                  66.0                       10          207.0   \n",
       "3                  63.0                        9          144.0   \n",
       "4                 103.0                       52          149.0   \n",
       "\n",
       "   elongatedness  pr.axis_rectangularity  max.length_rectangularity  \\\n",
       "0           42.0                    20.0                        159   \n",
       "1           45.0                    19.0                        143   \n",
       "2           32.0                    23.0                        158   \n",
       "3           46.0                    19.0                        143   \n",
       "4           45.0                    19.0                        144   \n",
       "\n",
       "   scaled_variance  scaled_variance.1  scaled_radius_of_gyration  \\\n",
       "0            176.0              379.0                      184.0   \n",
       "1            170.0              330.0                      158.0   \n",
       "2            223.0              635.0                      220.0   \n",
       "3            160.0              309.0                      127.0   \n",
       "4            241.0              325.0                      188.0   \n",
       "\n",
       "   scaled_radius_of_gyration.1  skewness_about  skewness_about.1  \\\n",
       "0                         70.0             6.0              16.0   \n",
       "1                         72.0             9.0              14.0   \n",
       "2                         73.0            14.0               9.0   \n",
       "3                         63.0             6.0              10.0   \n",
       "4                        127.0             9.0              11.0   \n",
       "\n",
       "   skewness_about.2  hollows_ratio class  \n",
       "0             187.0            197   van  \n",
       "1             189.0            199   van  \n",
       "2             188.0            196   car  \n",
       "3             199.0            207   van  \n",
       "4             180.0            183   bus  "
      ]
     },
     "execution_count": 2,
     "metadata": {},
     "output_type": "execute_result"
    },
    {
     "name": "stdout",
     "output_type": "stream",
     "text": [
      "<class 'pandas.core.frame.DataFrame'>\n",
      "RangeIndex: 846 entries, 0 to 845\n",
      "Data columns (total 19 columns):\n",
      "compactness                    846 non-null int64\n",
      "circularity                    841 non-null float64\n",
      "distance_circularity           842 non-null float64\n",
      "radius_ratio                   840 non-null float64\n",
      "pr.axis_aspect_ratio           844 non-null float64\n",
      "max.length_aspect_ratio        846 non-null int64\n",
      "scatter_ratio                  845 non-null float64\n",
      "elongatedness                  845 non-null float64\n",
      "pr.axis_rectangularity         843 non-null float64\n",
      "max.length_rectangularity      846 non-null int64\n",
      "scaled_variance                843 non-null float64\n",
      "scaled_variance.1              844 non-null float64\n",
      "scaled_radius_of_gyration      844 non-null float64\n",
      "scaled_radius_of_gyration.1    842 non-null float64\n",
      "skewness_about                 840 non-null float64\n",
      "skewness_about.1               845 non-null float64\n",
      "skewness_about.2               845 non-null float64\n",
      "hollows_ratio                  846 non-null int64\n",
      "class                          846 non-null object\n",
      "dtypes: float64(14), int64(4), object(1)\n",
      "memory usage: 125.7+ KB\n"
     ]
    }
   ],
   "source": [
    "vehicle = pd.read_csv(\"vehicle.csv\")\n",
    "vehicle.head()\n",
    "vehicle.info()\n",
    "vehicle.dropna(inplace = True)"
   ]
  },
  {
   "cell_type": "markdown",
   "metadata": {},
   "source": [
    "### 2. Print/ Plot the dependent (categorical variable) - Class column"
   ]
  },
  {
   "cell_type": "code",
   "execution_count": 3,
   "metadata": {},
   "outputs": [
    {
     "data": {
      "text/plain": [
       "car    413\n",
       "bus    205\n",
       "van    195\n",
       "Name: class, dtype: int64"
      ]
     },
     "execution_count": 3,
     "metadata": {},
     "output_type": "execute_result"
    }
   ],
   "source": [
    "vehicle[\"class\"].value_counts()\n"
   ]
  },
  {
   "cell_type": "markdown",
   "metadata": {},
   "source": [
    "Since the variable is categorical, you can use value_counts function"
   ]
  },
  {
   "cell_type": "code",
   "execution_count": 4,
   "metadata": {},
   "outputs": [
    {
     "data": {
      "text/plain": [
       "<matplotlib.axes._subplots.AxesSubplot at 0x50086a0>"
      ]
     },
     "execution_count": 4,
     "metadata": {},
     "output_type": "execute_result"
    },
    {
     "data": {
      "image/png": "[encoded data removed]",
      "text/plain": [
       "<Figure size 432x288 with 1 Axes>"
      ]
     },
     "metadata": {
      "needs_background": "light"
     },
     "output_type": "display_data"
    }
   ],
   "source": [
    "sns.countplot(x='class',data=vehicle)"
   ]
  },
  {
   "cell_type": "markdown",
   "metadata": {},
   "source": [
    "### Check for any missing values in the data "
   ]
  },
  {
   "cell_type": "code",
   "execution_count": 5,
   "metadata": {},
   "outputs": [
    {
     "data": {
      "text/plain": [
       "compactness                    0\n",
       "circularity                    0\n",
       "distance_circularity           0\n",
       "radius_ratio                   0\n",
       "pr.axis_aspect_ratio           0\n",
       "max.length_aspect_ratio        0\n",
       "scatter_ratio                  0\n",
       "elongatedness                  0\n",
       "pr.axis_rectangularity         0\n",
       "max.length_rectangularity      0\n",
       "scaled_variance                0\n",
       "scaled_variance.1              0\n",
       "scaled_radius_of_gyration      0\n",
       "scaled_radius_of_gyration.1    0\n",
       "skewness_about                 0\n",
       "skewness_about.1               0\n",
       "skewness_about.2               0\n",
       "hollows_ratio                  0\n",
       "class                          0\n",
       "dtype: int64"
      ]
     },
     "execution_count": 5,
     "metadata": {},
     "output_type": "execute_result"
    },
    {
     "data": {
      "text/plain": [
       "False"
      ]
     },
     "execution_count": 5,
     "metadata": {},
     "output_type": "execute_result"
    }
   ],
   "source": [
    "vehicle.isnull().sum()\n",
    "vehicle.isnull().values.any()"
   ]
  },
  {
   "cell_type": "markdown",
   "metadata": {},
   "source": [
    "### 3. Standardize the data "
   ]
  },
  {
   "cell_type": "code",
   "execution_count": 6,
   "metadata": {},
   "outputs": [],
   "source": [
    "vehicle.drop(columns = \"class\",inplace = True)\n"
   ]
  },
  {
   "cell_type": "markdown",
   "metadata": {},
   "source": [
    "Since the dimensions of the data are not really known to us, it would be wise to standardize the data using z scores before we go for any clustering methods.\n",
    "You can use zscore function to do this"
   ]
  },
  {
   "cell_type": "code",
   "execution_count": 7,
   "metadata": {},
   "outputs": [],
   "source": [
    "vehicle = vehicle.apply(zscore)"
   ]
  },
  {
   "cell_type": "code",
   "execution_count": null,
   "metadata": {},
   "outputs": [],
   "source": []
  },
  {
   "cell_type": "markdown",
   "metadata": {},
   "source": [
    "### K - Means Clustering"
   ]
  },
  {
   "cell_type": "markdown",
   "metadata": {},
   "source": [
    "### 4. Assign a dummy array called distortion"
   ]
  },
  {
   "cell_type": "code",
   "execution_count": 8,
   "metadata": {},
   "outputs": [],
   "source": [
    "\n",
    "meanDistortions=[]"
   ]
  },
  {
   "cell_type": "markdown",
   "metadata": {},
   "source": [
    "You can later use this array to plot the elbow plot"
   ]
  },
  {
   "cell_type": "code",
   "execution_count": null,
   "metadata": {},
   "outputs": [],
   "source": []
  },
  {
   "cell_type": "markdown",
   "metadata": {},
   "source": [
    "### 5. Calculating distortion - C distance"
   ]
  },
  {
   "cell_type": "code",
   "execution_count": 9,
   "metadata": {},
   "outputs": [],
   "source": [
    "#Finding optimal no. of clusters\n",
    "from scipy.spatial.distance import cdist\n",
    "clusters=range(1,10)"
   ]
  },
  {
   "cell_type": "markdown",
   "metadata": {},
   "source": [
    "Iterating values of k from 1 to 10 fit K means model\n",
    "Using c distance - Get the measure for Sum of squares error."
   ]
  },
  {
   "cell_type": "code",
   "execution_count": 10,
   "metadata": {},
   "outputs": [
    {
     "data": {
      "text/plain": [
       "KMeans(algorithm='auto', copy_x=True, init='k-means++', max_iter=300,\n",
       "    n_clusters=1, n_init=10, n_jobs=None, precompute_distances='auto',\n",
       "    random_state=None, tol=0.0001, verbose=0)"
      ]
     },
     "execution_count": 10,
     "metadata": {},
     "output_type": "execute_result"
    },
    {
     "data": {
      "text/plain": [
       "KMeans(algorithm='auto', copy_x=True, init='k-means++', max_iter=300,\n",
       "    n_clusters=2, n_init=10, n_jobs=None, precompute_distances='auto',\n",
       "    random_state=None, tol=0.0001, verbose=0)"
      ]
     },
     "execution_count": 10,
     "metadata": {},
     "output_type": "execute_result"
    },
    {
     "data": {
      "text/plain": [
       "KMeans(algorithm='auto', copy_x=True, init='k-means++', max_iter=300,\n",
       "    n_clusters=3, n_init=10, n_jobs=None, precompute_distances='auto',\n",
       "    random_state=None, tol=0.0001, verbose=0)"
      ]
     },
     "execution_count": 10,
     "metadata": {},
     "output_type": "execute_result"
    },
    {
     "data": {
      "text/plain": [
       "KMeans(algorithm='auto', copy_x=True, init='k-means++', max_iter=300,\n",
       "    n_clusters=4, n_init=10, n_jobs=None, precompute_distances='auto',\n",
       "    random_state=None, tol=0.0001, verbose=0)"
      ]
     },
     "execution_count": 10,
     "metadata": {},
     "output_type": "execute_result"
    },
    {
     "data": {
      "text/plain": [
       "KMeans(algorithm='auto', copy_x=True, init='k-means++', max_iter=300,\n",
       "    n_clusters=5, n_init=10, n_jobs=None, precompute_distances='auto',\n",
       "    random_state=None, tol=0.0001, verbose=0)"
      ]
     },
     "execution_count": 10,
     "metadata": {},
     "output_type": "execute_result"
    },
    {
     "data": {
      "text/plain": [
       "KMeans(algorithm='auto', copy_x=True, init='k-means++', max_iter=300,\n",
       "    n_clusters=6, n_init=10, n_jobs=None, precompute_distances='auto',\n",
       "    random_state=None, tol=0.0001, verbose=0)"
      ]
     },
     "execution_count": 10,
     "metadata": {},
     "output_type": "execute_result"
    },
    {
     "data": {
      "text/plain": [
       "KMeans(algorithm='auto', copy_x=True, init='k-means++', max_iter=300,\n",
       "    n_clusters=7, n_init=10, n_jobs=None, precompute_distances='auto',\n",
       "    random_state=None, tol=0.0001, verbose=0)"
      ]
     },
     "execution_count": 10,
     "metadata": {},
     "output_type": "execute_result"
    },
    {
     "data": {
      "text/plain": [
       "KMeans(algorithm='auto', copy_x=True, init='k-means++', max_iter=300,\n",
       "    n_clusters=8, n_init=10, n_jobs=None, precompute_distances='auto',\n",
       "    random_state=None, tol=0.0001, verbose=0)"
      ]
     },
     "execution_count": 10,
     "metadata": {},
     "output_type": "execute_result"
    },
    {
     "data": {
      "text/plain": [
       "KMeans(algorithm='auto', copy_x=True, init='k-means++', max_iter=300,\n",
       "    n_clusters=9, n_init=10, n_jobs=None, precompute_distances='auto',\n",
       "    random_state=None, tol=0.0001, verbose=0)"
      ]
     },
     "execution_count": 10,
     "metadata": {},
     "output_type": "execute_result"
    }
   ],
   "source": [
    "for k in clusters:\n",
    "    model=KMeans(n_clusters=k)\n",
    "    model.fit(vehicle)\n",
    "    prediction=model.predict(vehicle)\n",
    "    meanDistortions.append(sum(np.min(cdist(vehicle, model.cluster_centers_, 'euclidean'), axis=1)) / vehicle.shape[0])\n",
    " "
   ]
  },
  {
   "cell_type": "code",
   "execution_count": null,
   "metadata": {},
   "outputs": [],
   "source": []
  },
  {
   "cell_type": "markdown",
   "metadata": {},
   "source": [
    "### 6. Plotting Elbow/ Scree Plot"
   ]
  },
  {
   "cell_type": "code",
   "execution_count": 11,
   "metadata": {},
   "outputs": [
    {
     "data": {
      "text/plain": [
       "[<matplotlib.lines.Line2D at 0xb633278>]"
      ]
     },
     "execution_count": 11,
     "metadata": {},
     "output_type": "execute_result"
    },
    {
     "data": {
      "text/plain": [
       "Text(0.5, 0, 'k')"
      ]
     },
     "execution_count": 11,
     "metadata": {},
     "output_type": "execute_result"
    },
    {
     "data": {
      "text/plain": [
       "Text(0, 0.5, 'Average distortion')"
      ]
     },
     "execution_count": 11,
     "metadata": {},
     "output_type": "execute_result"
    },
    {
     "data": {
      "text/plain": [
       "Text(0.5, 1.0, 'Selecting k with the Elbow Method')"
      ]
     },
     "execution_count": 11,
     "metadata": {},
     "output_type": "execute_result"
    },
    {
     "data": {
      "image/png": "[encoded data removed]",
      "text/plain": [
       "<Figure size 432x288 with 1 Axes>"
      ]
     },
     "metadata": {
      "needs_background": "light"
     },
     "output_type": "display_data"
    }
   ],
   "source": [
    "plt.plot(clusters, meanDistortions, 'bx-')\n",
    "plt.xlabel('k')\n",
    "plt.ylabel('Average distortion')\n",
    "plt.title('Selecting k with the Elbow Method')"
   ]
  },
  {
   "cell_type": "markdown",
   "metadata": {},
   "source": [
    "Use Matplotlib to plot the scree plot - Note: Scree plot plots distortion vs the no of clusters"
   ]
  },
  {
   "cell_type": "code",
   "execution_count": null,
   "metadata": {},
   "outputs": [],
   "source": []
  },
  {
   "cell_type": "markdown",
   "metadata": {},
   "source": [
    "### Find out the optimal value of K"
   ]
  },
  {
   "cell_type": "code",
   "execution_count": 12,
   "metadata": {},
   "outputs": [
    {
     "name": "stdout",
     "output_type": "stream",
     "text": [
      "The optimal value of K = 3\n"
     ]
    }
   ],
   "source": [
    "print(\"The optimal value of K = 3\")"
   ]
  },
  {
   "cell_type": "code",
   "execution_count": 13,
   "metadata": {},
   "outputs": [
    {
     "data": {
      "text/plain": [
       "KMeans(algorithm='auto', copy_x=True, init='k-means++', max_iter=300,\n",
       "    n_clusters=3, n_init=10, n_jobs=None, precompute_distances='auto',\n",
       "    random_state=None, tol=0.0001, verbose=0)"
      ]
     },
     "execution_count": 13,
     "metadata": {},
     "output_type": "execute_result"
    }
   ],
   "source": [
    "best_model=KMeans(n_clusters=3)\n",
    "best_model.fit(vehicle)\n",
    "prediction=best_model.predict(vehicle)"
   ]
  },
  {
   "cell_type": "markdown",
   "metadata": {},
   "source": [
    "### Using optimal value of K - Cluster the data. \n",
    "Note: Since the data has more than 2 dimension we cannot visualize the data. As an alternative, we can observe the centroids and note how they are distributed across different dimensions"
   ]
  },
  {
   "cell_type": "code",
   "execution_count": 14,
   "metadata": {},
   "outputs": [
    {
     "data": {
      "text/plain": [
       "array([[-0.91400071, -0.51327609, -0.88664922, -1.05602904, -0.49182906,\n",
       "        -0.21883169, -0.775563  ,  0.85996991, -0.74203582, -0.47827281,\n",
       "        -0.77910348, -0.78034412, -0.37943428,  0.82611912, -0.08658373,\n",
       "        -0.30355495, -1.04650237, -1.10265258],\n",
       "       [ 1.13076532,  1.17094237,  1.19500584,  1.01909505,  0.21505188,\n",
       "         0.34250798,  1.27180461, -1.19061224,  1.27548416,  1.09266768,\n",
       "         1.22038121,  1.28132727,  1.07954232, -0.02879497,  0.16229031,\n",
       "         0.26566456, -0.00535553,  0.18380067],\n",
       "       [-0.2319252 , -0.57973847, -0.30724438, -0.02693437,  0.20516443,\n",
       "        -0.11572895, -0.45873352,  0.32447256, -0.48810058, -0.54152679,\n",
       "        -0.41282893, -0.46297248, -0.60799507, -0.62342017, -0.06824398,\n",
       "         0.01513248,  0.82481456,  0.71018194]])"
      ]
     },
     "execution_count": 14,
     "metadata": {},
     "output_type": "execute_result"
    },
    {
     "data": {
      "text/plain": [
       "(3, 18)"
      ]
     },
     "execution_count": 14,
     "metadata": {},
     "output_type": "execute_result"
    }
   ],
   "source": [
    "centers = best_model.cluster_centers_\n",
    "centers\n",
    "centers.shape"
   ]
  },
  {
   "cell_type": "markdown",
   "metadata": {},
   "source": [
    "You can use kmeans.cluster_centers_ function to pull the centroid information from the instance"
   ]
  },
  {
   "cell_type": "code",
   "execution_count": null,
   "metadata": {},
   "outputs": [],
   "source": [
    "\n"
   ]
  },
  {
   "cell_type": "markdown",
   "metadata": {},
   "source": [
    "### 7. Store the centroids in a dataframe with column names from the original dataset given "
   ]
  },
  {
   "cell_type": "code",
   "execution_count": 15,
   "metadata": {},
   "outputs": [
    {
     "data": {
      "text/plain": [
       "numpy.ndarray"
      ]
     },
     "execution_count": 15,
     "metadata": {},
     "output_type": "execute_result"
    }
   ],
   "source": [
    "type(centers)"
   ]
  },
  {
   "cell_type": "markdown",
   "metadata": {},
   "source": [
    "Hint: Use pd.Dataframe function "
   ]
  },
  {
   "cell_type": "code",
   "execution_count": 16,
   "metadata": {},
   "outputs": [],
   "source": [
    "cent_df= pd.DataFrame(centers,columns = vehicle.columns)  # 1st row as the column names\n"
   ]
  },
  {
   "cell_type": "code",
   "execution_count": 17,
   "metadata": {
    "scrolled": true
   },
   "outputs": [
    {
     "data": {
      "text/html": [
       "<div>\n",
       "<style scoped>\n",
       "    .dataframe tbody tr th:only-of-type {\n",
       "        vertical-align: middle;\n",
       "    }\n",
       "\n",
       "    .dataframe tbody tr th {\n",
       "        vertical-align: top;\n",
       "    }\n",
       "\n",
       "    .dataframe thead th {\n",
       "        text-align: right;\n",
       "    }\n",
       "</style>\n",
       "<table border=\"1\" class=\"dataframe\">\n",
       "  <thead>\n",
       "    <tr style=\"text-align: right;\">\n",
       "      <th></th>\n",
       "      <th>compactness</th>\n",
       "      <th>circularity</th>\n",
       "      <th>distance_circularity</th>\n",
       "      <th>radius_ratio</th>\n",
       "      <th>pr.axis_aspect_ratio</th>\n",
       "      <th>max.length_aspect_ratio</th>\n",
       "      <th>scatter_ratio</th>\n",
       "      <th>elongatedness</th>\n",
       "      <th>pr.axis_rectangularity</th>\n",
       "      <th>max.length_rectangularity</th>\n",
       "      <th>scaled_variance</th>\n",
       "      <th>scaled_variance.1</th>\n",
       "      <th>scaled_radius_of_gyration</th>\n",
       "      <th>scaled_radius_of_gyration.1</th>\n",
       "      <th>skewness_about</th>\n",
       "      <th>skewness_about.1</th>\n",
       "      <th>skewness_about.2</th>\n",
       "      <th>hollows_ratio</th>\n",
       "    </tr>\n",
       "  </thead>\n",
       "  <tbody>\n",
       "    <tr>\n",
       "      <th>0</th>\n",
       "      <td>-0.914001</td>\n",
       "      <td>-0.513276</td>\n",
       "      <td>-0.886649</td>\n",
       "      <td>-1.056029</td>\n",
       "      <td>-0.491829</td>\n",
       "      <td>-0.218832</td>\n",
       "      <td>-0.775563</td>\n",
       "      <td>0.859970</td>\n",
       "      <td>-0.742036</td>\n",
       "      <td>-0.478273</td>\n",
       "      <td>-0.779103</td>\n",
       "      <td>-0.780344</td>\n",
       "      <td>-0.379434</td>\n",
       "      <td>0.826119</td>\n",
       "      <td>-0.086584</td>\n",
       "      <td>-0.303555</td>\n",
       "      <td>-1.046502</td>\n",
       "      <td>-1.102653</td>\n",
       "    </tr>\n",
       "    <tr>\n",
       "      <th>1</th>\n",
       "      <td>1.130765</td>\n",
       "      <td>1.170942</td>\n",
       "      <td>1.195006</td>\n",
       "      <td>1.019095</td>\n",
       "      <td>0.215052</td>\n",
       "      <td>0.342508</td>\n",
       "      <td>1.271805</td>\n",
       "      <td>-1.190612</td>\n",
       "      <td>1.275484</td>\n",
       "      <td>1.092668</td>\n",
       "      <td>1.220381</td>\n",
       "      <td>1.281327</td>\n",
       "      <td>1.079542</td>\n",
       "      <td>-0.028795</td>\n",
       "      <td>0.162290</td>\n",
       "      <td>0.265665</td>\n",
       "      <td>-0.005356</td>\n",
       "      <td>0.183801</td>\n",
       "    </tr>\n",
       "    <tr>\n",
       "      <th>2</th>\n",
       "      <td>-0.231925</td>\n",
       "      <td>-0.579738</td>\n",
       "      <td>-0.307244</td>\n",
       "      <td>-0.026934</td>\n",
       "      <td>0.205164</td>\n",
       "      <td>-0.115729</td>\n",
       "      <td>-0.458734</td>\n",
       "      <td>0.324473</td>\n",
       "      <td>-0.488101</td>\n",
       "      <td>-0.541527</td>\n",
       "      <td>-0.412829</td>\n",
       "      <td>-0.462972</td>\n",
       "      <td>-0.607995</td>\n",
       "      <td>-0.623420</td>\n",
       "      <td>-0.068244</td>\n",
       "      <td>0.015132</td>\n",
       "      <td>0.824815</td>\n",
       "      <td>0.710182</td>\n",
       "    </tr>\n",
       "  </tbody>\n",
       "</table>\n",
       "</div>"
      ],
      "text/plain": [
       "   compactness  circularity  distance_circularity  radius_ratio  \\\n",
       "0    -0.914001    -0.513276             -0.886649     -1.056029   \n",
       "1     1.130765     1.170942              1.195006      1.019095   \n",
       "2    -0.231925    -0.579738             -0.307244     -0.026934   \n",
       "\n",
       "   pr.axis_aspect_ratio  max.length_aspect_ratio  scatter_ratio  \\\n",
       "0             -0.491829                -0.218832      -0.775563   \n",
       "1              0.215052                 0.342508       1.271805   \n",
       "2              0.205164                -0.115729      -0.458734   \n",
       "\n",
       "   elongatedness  pr.axis_rectangularity  max.length_rectangularity  \\\n",
       "0       0.859970               -0.742036                  -0.478273   \n",
       "1      -1.190612                1.275484                   1.092668   \n",
       "2       0.324473               -0.488101                  -0.541527   \n",
       "\n",
       "   scaled_variance  scaled_variance.1  scaled_radius_of_gyration  \\\n",
       "0        -0.779103          -0.780344                  -0.379434   \n",
       "1         1.220381           1.281327                   1.079542   \n",
       "2        -0.412829          -0.462972                  -0.607995   \n",
       "\n",
       "   scaled_radius_of_gyration.1  skewness_about  skewness_about.1  \\\n",
       "0                     0.826119       -0.086584         -0.303555   \n",
       "1                    -0.028795        0.162290          0.265665   \n",
       "2                    -0.623420       -0.068244          0.015132   \n",
       "\n",
       "   skewness_about.2  hollows_ratio  \n",
       "0         -1.046502      -1.102653  \n",
       "1         -0.005356       0.183801  \n",
       "2          0.824815       0.710182  "
      ]
     },
     "execution_count": 17,
     "metadata": {},
     "output_type": "execute_result"
    }
   ],
   "source": [
    "cent_df.head()"
   ]
  },
  {
   "cell_type": "markdown",
   "metadata": {},
   "source": [
    "### Use kmeans.labels_ function to print out the labels of the classes"
   ]
  },
  {
   "cell_type": "code",
   "execution_count": 18,
   "metadata": {},
   "outputs": [
    {
     "name": "stdout",
     "output_type": "stream",
     "text": [
      "[2 2 1 2 0 2 2 2 2 2 2 2 2 1 0 2 1 0 0 2 2 1 2 0 1 1 0 2 2 2 1 2 0 1 1 0 1\n",
      " 0 0 2 1 0 0 0 0 2 0 2 1 2 1 2 2 0 1 0 1 0 0 0 2 0 1 2 1 1 2 0 2 1 2 0 0 1\n",
      " 2 0 2 1 2 0 2 0 1 2 1 2 0 1 0 0 1 0 0 2 2 0 1 1 0 0 1 2 2 0 0 0 2 1 1 2 0\n",
      " 0 2 0 0 0 0 0 2 1 1 2 2 0 1 1 0 2 0 2 2 1 0 2 1 2 2 2 2 1 2 2 1 2 1 2 0 2\n",
      " 0 1 2 2 1 1 2 1 0 0 1 1 2 1 2 2 2 2 0 1 0 2 0 1 2 2 2 1 2 1 2 1 2 0 1 0 0\n",
      " 0 2 2 1 1 2 2 2 0 1 2 2 2 1 0 0 1 0 2 1 0 0 0 2 1 2 1 0 0 0 0 1 2 0 2 1 0\n",
      " 2 2 0 1 0 0 2 2 1 0 1 0 2 2 1 2 2 1 1 0 2 2 2 1 0 2 2 0 0 2 2 1 2 0 0 1 2\n",
      " 2 0 0 1 0 2 1 0 2 1 2 2 1 2 1 0 2 2 1 2 2 2 0 2 1 1 1 1 0 2 1 0 0 0 2 0 1\n",
      " 1 0 1 2 0 1 0 2 2 1 1 0 1 1 0 1 2 2 2 0 0 1 1 1 2 2 2 1 0 2 0 1 2 2 1 2 1\n",
      " 1 1 2 0 0 1 0 0 0 2 2 2 2 0 1 1 0 0 1 0 1 0 1 2 0 2 0 1 1 0 2 2 2 1 2 2 2\n",
      " 2 1 2 1 2 1 2 0 0 2 2 2 0 0 2 0 1 2 2 0 0 1 2 0 2 2 1 2 1 2 1 1 0 0 1 2 0\n",
      " 0 2 1 1 0 2 1 1 0 1 1 1 2 2 2 2 2 1 0 0 2 1 2 2 1 2 0 1 0 0 1 2 0 1 1 1 0\n",
      " 1 1 0 2 0 1 1 2 2 0 0 1 2 0 1 1 2 0 1 1 2 0 0 1 1 1 0 0 1 1 1 2 2 1 0 2 1\n",
      " 2 0 0 2 1 0 2 2 0 2 1 2 1 1 2 0 2 1 1 0 0 2 1 2 1 1 2 2 2 2 0 0 0 2 2 1 0\n",
      " 0 2 0 1 2 1 0 0 1 1 2 1 2 2 2 1 2 0 2 1 2 2 0 1 1 1 1 2 0 0 0 1 1 1 2 1 0\n",
      " 2 1 0 0 0 2 0 1 2 2 2 2 2 2 1 2 2 1 2 2 2 0 1 0 0 2 0 2 2 0 0 1 1 0 2 1 2\n",
      " 1 2 2 1 2 0 1 0 1 0 0 2 0 2 1 1 0 1 2 2 0 2 0 1 2 1 0 2 2 2 0 0 0 2 1 2 1\n",
      " 0 2 2 2 2 1 2 0 1 2 1 2 2 1 0 1 0 2 0 2 0 1 2 0 2 1 0 1 2 0 1 0 2 0 2 2 0\n",
      " 2 1 1 2 2 1 1 2 2 0 2 1 1 1 1 2 1 2 2 1 1 2 1 2 1 2 0 1 2 0 1 1 1 2 1 0 0\n",
      " 1 1 1 2 1 2 2 1 2 0 2 0 2 1 2 0 2 2 2 0 1 0 0 0 1 1 0 1 1 0 2 2 1 2 0 1 1\n",
      " 0 2 2 1 1 1 0 1 2 1 1 0 0 1 0 1 2 0 2 1 1 2 0 2 1 1 2 2 0 2 2 1 0 2 1 0 0\n",
      " 1 0 2 0 0 0 2 1 1 2 0 1 2 1 1 0 2 1 0 0 2 2 1 0 0 1 0 2 2 2 2 2 2 1 2 0]\n"
     ]
    }
   ],
   "source": [
    "print(best_model.labels_)"
   ]
  },
  {
   "cell_type": "code",
   "execution_count": null,
   "metadata": {},
   "outputs": [],
   "source": []
  },
  {
   "cell_type": "markdown",
   "metadata": {},
   "source": [
    "## Hierarchical Clustering "
   ]
  },
  {
   "cell_type": "markdown",
   "metadata": {},
   "source": [
    "### 8. Variable creation"
   ]
  },
  {
   "cell_type": "markdown",
   "metadata": {},
   "source": [
    "For Hierarchical clustering, we will create datasets using multivariate normal distribution to visually observe how the clusters are formed at the end"
   ]
  },
  {
   "cell_type": "code",
   "execution_count": null,
   "metadata": {},
   "outputs": [],
   "source": []
  },
  {
   "cell_type": "code",
   "execution_count": 19,
   "metadata": {},
   "outputs": [],
   "source": [
    "a = np.random.multivariate_normal([10, 0], [[3, 1], [1, 4]], size=[100,])\n",
    "b = np.random.multivariate_normal([0, 20], [[3, 1], [1, 4]], size=[50,])\n",
    "c = np.random.multivariate_normal([10, 20], [[3, 1], [1, 4]], size=[100,])"
   ]
  },
  {
   "cell_type": "code",
   "execution_count": null,
   "metadata": {},
   "outputs": [],
   "source": []
  },
  {
   "cell_type": "markdown",
   "metadata": {},
   "source": [
    "### 9. Combine all three arrays a,b,c into a dataframe"
   ]
  },
  {
   "cell_type": "code",
   "execution_count": 20,
   "metadata": {},
   "outputs": [],
   "source": [
    "hiera = pd.DataFrame(data = a)\n",
    "hierb = pd.DataFrame(data = b)\n",
    "hierc = pd.DataFrame(data = c)"
   ]
  },
  {
   "cell_type": "code",
   "execution_count": 21,
   "metadata": {},
   "outputs": [
    {
     "data": {
      "text/plain": [
       "Index(['x', 'y'], dtype='object')"
      ]
     },
     "execution_count": 21,
     "metadata": {},
     "output_type": "execute_result"
    },
    {
     "data": {
      "text/plain": [
       "(250, 2)"
      ]
     },
     "execution_count": 21,
     "metadata": {},
     "output_type": "execute_result"
    }
   ],
   "source": [
    "h_cluster = pd.concat([hiera,hierb,hierc])\n",
    "h_cluster.columns = ['x', 'y']\n",
    "h_cluster.columns \n",
    "h_cluster.shape"
   ]
  },
  {
   "cell_type": "markdown",
   "metadata": {},
   "source": [
    "### 10. Use scatter matrix to print all the 3 distributions"
   ]
  },
  {
   "cell_type": "code",
   "execution_count": 22,
   "metadata": {},
   "outputs": [
    {
     "data": {
      "text/plain": [
       "array([[<matplotlib.axes._subplots.AxesSubplot object at 0x000000000BA84438>,\n",
       "        <matplotlib.axes._subplots.AxesSubplot object at 0x000000000BAC9828>],\n",
       "       [<matplotlib.axes._subplots.AxesSubplot object at 0x000000000BAF3A90>,\n",
       "        <matplotlib.axes._subplots.AxesSubplot object at 0x000000000BB19CF8>]],\n",
       "      dtype=object)"
      ]
     },
     "execution_count": 22,
     "metadata": {},
     "output_type": "execute_result"
    },
    {
     "data": {
      "image/png": "[encoded data removed]",
      "text/plain": [
       "<Figure size 432x288 with 4 Axes>"
      ]
     },
     "metadata": {
      "needs_background": "light"
     },
     "output_type": "display_data"
    }
   ],
   "source": [
    "pd.plotting.scatter_matrix(h_cluster)  #h_cluster.iloc[:,[0],h_cluster.iloc[:,[1]]\n",
    "from scipy.cluster.hierarchy import cophenet, dendrogram, linkage,fcluster\n",
    "from scipy.spatial.distance import pdist"
   ]
  },
  {
   "cell_type": "code",
   "execution_count": null,
   "metadata": {},
   "outputs": [],
   "source": []
  },
  {
   "cell_type": "markdown",
   "metadata": {},
   "source": [
    "### 11. Find out the linkage matrix"
   ]
  },
  {
   "cell_type": "code",
   "execution_count": null,
   "metadata": {},
   "outputs": [],
   "source": []
  },
  {
   "cell_type": "markdown",
   "metadata": {},
   "source": [
    "Use ward as linkage metric and distance as Eucledian"
   ]
  },
  {
   "cell_type": "code",
   "execution_count": 23,
   "metadata": {},
   "outputs": [
    {
     "data": {
      "text/plain": [
       "0.9596782982955976"
      ]
     },
     "execution_count": 23,
     "metadata": {},
     "output_type": "execute_result"
    }
   ],
   "source": [
    "# cophenet index is a measure of the correlation between the distance of points in feature space and distance on dendrogram\n",
    "# closer it is to 1, the better is the clustering\n",
    "\n",
    "Z = linkage(h_cluster, 'ward')\n",
    "c, coph_dists = cophenet(Z , pdist(h_cluster))\n",
    "\n",
    "c"
   ]
  },
  {
   "cell_type": "code",
   "execution_count": null,
   "metadata": {},
   "outputs": [],
   "source": []
  },
  {
   "cell_type": "markdown",
   "metadata": {},
   "source": [
    "### 12. Plot the dendrogram for the consolidated dataframe"
   ]
  },
  {
   "cell_type": "code",
   "execution_count": 24,
   "metadata": {},
   "outputs": [
    {
     "data": {
      "text/plain": [
       "<Figure size 720x720 with 0 Axes>"
      ]
     },
     "execution_count": 24,
     "metadata": {},
     "output_type": "execute_result"
    },
    {
     "data": {
      "text/plain": [
       "Text(0.5, 1.0, 'Agglomerative Hierarchical Clustering Dendogram')"
      ]
     },
     "execution_count": 24,
     "metadata": {},
     "output_type": "execute_result"
    },
    {
     "data": {
      "text/plain": [
       "Text(0.5, 0, 'sample index')"
      ]
     },
     "execution_count": 24,
     "metadata": {},
     "output_type": "execute_result"
    },
    {
     "data": {
      "text/plain": [
       "Text(0, 0.5, 'Distance')"
      ]
     },
     "execution_count": 24,
     "metadata": {},
     "output_type": "execute_result"
    },
    {
     "data": {
      "text/plain": [
       "{'icoord': [[15.0, 15.0, 25.0, 25.0],\n",
       "  [45.0, 45.0, 55.0, 55.0],\n",
       "  [35.0, 35.0, 50.0, 50.0],\n",
       "  [20.0, 20.0, 42.5, 42.5],\n",
       "  [5.0, 5.0, 31.25, 31.25],\n",
       "  [65.0, 65.0, 75.0, 75.0],\n",
       "  [85.0, 85.0, 95.0, 95.0],\n",
       "  [105.0, 105.0, 115.0, 115.0],\n",
       "  [90.0, 90.0, 110.0, 110.0],\n",
       "  [135.0, 135.0, 145.0, 145.0],\n",
       "  [125.0, 125.0, 140.0, 140.0],\n",
       "  [165.0, 165.0, 175.0, 175.0],\n",
       "  [195.0, 195.0, 205.0, 205.0],\n",
       "  [185.0, 185.0, 200.0, 200.0],\n",
       "  [170.0, 170.0, 192.5, 192.5],\n",
       "  [155.0, 155.0, 181.25, 181.25],\n",
       "  [132.5, 132.5, 168.125, 168.125],\n",
       "  [100.0, 100.0, 150.3125, 150.3125],\n",
       "  [70.0, 70.0, 125.15625, 125.15625],\n",
       "  [18.125, 18.125, 97.578125, 97.578125],\n",
       "  [215.0, 215.0, 225.0, 225.0],\n",
       "  [235.0, 235.0, 245.0, 245.0],\n",
       "  [275.0, 275.0, 285.0, 285.0],\n",
       "  [265.0, 265.0, 280.0, 280.0],\n",
       "  [255.0, 255.0, 272.5, 272.5],\n",
       "  [240.0, 240.0, 263.75, 263.75],\n",
       "  [220.0, 220.0, 251.875, 251.875],\n",
       "  [295.0, 295.0, 305.0, 305.0],\n",
       "  [315.0, 315.0, 325.0, 325.0],\n",
       "  [335.0, 335.0, 345.0, 345.0],\n",
       "  [320.0, 320.0, 340.0, 340.0],\n",
       "  [300.0, 300.0, 330.0, 330.0],\n",
       "  [365.0, 365.0, 375.0, 375.0],\n",
       "  [385.0, 385.0, 395.0, 395.0],\n",
       "  [370.0, 370.0, 390.0, 390.0],\n",
       "  [355.0, 355.0, 380.0, 380.0],\n",
       "  [315.0, 315.0, 367.5, 367.5],\n",
       "  [235.9375, 235.9375, 341.25, 341.25],\n",
       "  [405.0, 405.0, 415.0, 415.0],\n",
       "  [425.0, 425.0, 435.0, 435.0],\n",
       "  [410.0, 410.0, 430.0, 430.0],\n",
       "  [445.0, 445.0, 455.0, 455.0],\n",
       "  [475.0, 475.0, 485.0, 485.0],\n",
       "  [465.0, 465.0, 480.0, 480.0],\n",
       "  [450.0, 450.0, 472.5, 472.5],\n",
       "  [420.0, 420.0, 461.25, 461.25],\n",
       "  [505.0, 505.0, 515.0, 515.0],\n",
       "  [525.0, 525.0, 535.0, 535.0],\n",
       "  [510.0, 510.0, 530.0, 530.0],\n",
       "  [495.0, 495.0, 520.0, 520.0],\n",
       "  [440.625, 440.625, 507.5, 507.5],\n",
       "  [288.59375, 288.59375, 474.0625, 474.0625],\n",
       "  [555.0, 555.0, 565.0, 565.0],\n",
       "  [545.0, 545.0, 560.0, 560.0],\n",
       "  [585.0, 585.0, 595.0, 595.0],\n",
       "  [575.0, 575.0, 590.0, 590.0],\n",
       "  [605.0, 605.0, 615.0, 615.0],\n",
       "  [625.0, 625.0, 635.0, 635.0],\n",
       "  [610.0, 610.0, 630.0, 630.0],\n",
       "  [645.0, 645.0, 655.0, 655.0],\n",
       "  [675.0, 675.0, 685.0, 685.0],\n",
       "  [665.0, 665.0, 680.0, 680.0],\n",
       "  [650.0, 650.0, 672.5, 672.5],\n",
       "  [620.0, 620.0, 661.25, 661.25],\n",
       "  [582.5, 582.5, 640.625, 640.625],\n",
       "  [552.5, 552.5, 611.5625, 611.5625],\n",
       "  [695.0, 695.0, 705.0, 705.0],\n",
       "  [715.0, 715.0, 725.0, 725.0],\n",
       "  [745.0, 745.0, 755.0, 755.0],\n",
       "  [735.0, 735.0, 750.0, 750.0],\n",
       "  [720.0, 720.0, 742.5, 742.5],\n",
       "  [700.0, 700.0, 731.25, 731.25],\n",
       "  [582.03125, 582.03125, 715.625, 715.625],\n",
       "  [785.0, 785.0, 795.0, 795.0],\n",
       "  [775.0, 775.0, 790.0, 790.0],\n",
       "  [765.0, 765.0, 782.5, 782.5],\n",
       "  [815.0, 815.0, 825.0, 825.0],\n",
       "  [805.0, 805.0, 820.0, 820.0],\n",
       "  [773.75, 773.75, 812.5, 812.5],\n",
       "  [855.0, 855.0, 865.0, 865.0],\n",
       "  [845.0, 845.0, 860.0, 860.0],\n",
       "  [835.0, 835.0, 852.5, 852.5],\n",
       "  [793.125, 793.125, 843.75, 843.75],\n",
       "  [875.0, 875.0, 885.0, 885.0],\n",
       "  [905.0, 905.0, 915.0, 915.0],\n",
       "  [895.0, 895.0, 910.0, 910.0],\n",
       "  [880.0, 880.0, 902.5, 902.5],\n",
       "  [925.0, 925.0, 935.0, 935.0],\n",
       "  [945.0, 945.0, 955.0, 955.0],\n",
       "  [930.0, 930.0, 950.0, 950.0],\n",
       "  [891.25, 891.25, 940.0, 940.0],\n",
       "  [965.0, 965.0, 975.0, 975.0],\n",
       "  [985.0, 985.0, 995.0, 995.0],\n",
       "  [970.0, 970.0, 990.0, 990.0],\n",
       "  [915.625, 915.625, 980.0, 980.0],\n",
       "  [818.4375, 818.4375, 947.8125, 947.8125],\n",
       "  [648.828125, 648.828125, 883.125, 883.125],\n",
       "  [381.328125, 381.328125, 765.9765625, 765.9765625],\n",
       "  [57.8515625, 57.8515625, 573.65234375, 573.65234375],\n",
       "  [1015.0, 1015.0, 1025.0, 1025.0],\n",
       "  [1035.0, 1035.0, 1045.0, 1045.0],\n",
       "  [1020.0, 1020.0, 1040.0, 1040.0],\n",
       "  [1005.0, 1005.0, 1030.0, 1030.0],\n",
       "  [1055.0, 1055.0, 1065.0, 1065.0],\n",
       "  [1095.0, 1095.0, 1105.0, 1105.0],\n",
       "  [1115.0, 1115.0, 1125.0, 1125.0],\n",
       "  [1100.0, 1100.0, 1120.0, 1120.0],\n",
       "  [1085.0, 1085.0, 1110.0, 1110.0],\n",
       "  [1075.0, 1075.0, 1097.5, 1097.5],\n",
       "  [1060.0, 1060.0, 1086.25, 1086.25],\n",
       "  [1135.0, 1135.0, 1145.0, 1145.0],\n",
       "  [1155.0, 1155.0, 1165.0, 1165.0],\n",
       "  [1140.0, 1140.0, 1160.0, 1160.0],\n",
       "  [1073.125, 1073.125, 1150.0, 1150.0],\n",
       "  [1017.5, 1017.5, 1111.5625, 1111.5625],\n",
       "  [1185.0, 1185.0, 1195.0, 1195.0],\n",
       "  [1175.0, 1175.0, 1190.0, 1190.0],\n",
       "  [1225.0, 1225.0, 1235.0, 1235.0],\n",
       "  [1215.0, 1215.0, 1230.0, 1230.0],\n",
       "  [1205.0, 1205.0, 1222.5, 1222.5],\n",
       "  [1245.0, 1245.0, 1255.0, 1255.0],\n",
       "  [1275.0, 1275.0, 1285.0, 1285.0],\n",
       "  [1265.0, 1265.0, 1280.0, 1280.0],\n",
       "  [1295.0, 1295.0, 1305.0, 1305.0],\n",
       "  [1272.5, 1272.5, 1300.0, 1300.0],\n",
       "  [1250.0, 1250.0, 1286.25, 1286.25],\n",
       "  [1213.75, 1213.75, 1268.125, 1268.125],\n",
       "  [1182.5, 1182.5, 1240.9375, 1240.9375],\n",
       "  [1335.0, 1335.0, 1345.0, 1345.0],\n",
       "  [1325.0, 1325.0, 1340.0, 1340.0],\n",
       "  [1365.0, 1365.0, 1375.0, 1375.0],\n",
       "  [1355.0, 1355.0, 1370.0, 1370.0],\n",
       "  [1332.5, 1332.5, 1362.5, 1362.5],\n",
       "  [1315.0, 1315.0, 1347.5, 1347.5],\n",
       "  [1385.0, 1385.0, 1395.0, 1395.0],\n",
       "  [1415.0, 1415.0, 1425.0, 1425.0],\n",
       "  [1405.0, 1405.0, 1420.0, 1420.0],\n",
       "  [1435.0, 1435.0, 1445.0, 1445.0],\n",
       "  [1495.0, 1495.0, 1505.0, 1505.0],\n",
       "  [1485.0, 1485.0, 1500.0, 1500.0],\n",
       "  [1475.0, 1475.0, 1492.5, 1492.5],\n",
       "  [1465.0, 1465.0, 1483.75, 1483.75],\n",
       "  [1455.0, 1455.0, 1474.375, 1474.375],\n",
       "  [1440.0, 1440.0, 1464.6875, 1464.6875],\n",
       "  [1412.5, 1412.5, 1452.34375, 1452.34375],\n",
       "  [1390.0, 1390.0, 1432.421875, 1432.421875],\n",
       "  [1331.25, 1331.25, 1411.2109375, 1411.2109375],\n",
       "  [1211.71875, 1211.71875, 1371.23046875, 1371.23046875],\n",
       "  [1064.53125, 1064.53125, 1291.474609375, 1291.474609375],\n",
       "  [1515.0, 1515.0, 1525.0, 1525.0],\n",
       "  [1545.0, 1545.0, 1555.0, 1555.0],\n",
       "  [1535.0, 1535.0, 1550.0, 1550.0],\n",
       "  [1520.0, 1520.0, 1542.5, 1542.5],\n",
       "  [1565.0, 1565.0, 1575.0, 1575.0],\n",
       "  [1585.0, 1585.0, 1595.0, 1595.0],\n",
       "  [1570.0, 1570.0, 1590.0, 1590.0],\n",
       "  [1605.0, 1605.0, 1615.0, 1615.0],\n",
       "  [1635.0, 1635.0, 1645.0, 1645.0],\n",
       "  [1625.0, 1625.0, 1640.0, 1640.0],\n",
       "  [1610.0, 1610.0, 1632.5, 1632.5],\n",
       "  [1665.0, 1665.0, 1675.0, 1675.0],\n",
       "  [1655.0, 1655.0, 1670.0, 1670.0],\n",
       "  [1685.0, 1685.0, 1695.0, 1695.0],\n",
       "  [1662.5, 1662.5, 1690.0, 1690.0],\n",
       "  [1621.25, 1621.25, 1676.25, 1676.25],\n",
       "  [1580.0, 1580.0, 1648.75, 1648.75],\n",
       "  [1531.25, 1531.25, 1614.375, 1614.375],\n",
       "  [1715.0, 1715.0, 1725.0, 1725.0],\n",
       "  [1705.0, 1705.0, 1720.0, 1720.0],\n",
       "  [1735.0, 1735.0, 1745.0, 1745.0],\n",
       "  [1712.5, 1712.5, 1740.0, 1740.0],\n",
       "  [1765.0, 1765.0, 1775.0, 1775.0],\n",
       "  [1755.0, 1755.0, 1770.0, 1770.0],\n",
       "  [1795.0, 1795.0, 1805.0, 1805.0],\n",
       "  [1785.0, 1785.0, 1800.0, 1800.0],\n",
       "  [1762.5, 1762.5, 1792.5, 1792.5],\n",
       "  [1825.0, 1825.0, 1835.0, 1835.0],\n",
       "  [1815.0, 1815.0, 1830.0, 1830.0],\n",
       "  [1845.0, 1845.0, 1855.0, 1855.0],\n",
       "  [1875.0, 1875.0, 1885.0, 1885.0],\n",
       "  [1865.0, 1865.0, 1880.0, 1880.0],\n",
       "  [1850.0, 1850.0, 1872.5, 1872.5],\n",
       "  [1822.5, 1822.5, 1861.25, 1861.25],\n",
       "  [1777.5, 1777.5, 1841.875, 1841.875],\n",
       "  [1726.25, 1726.25, 1809.6875, 1809.6875],\n",
       "  [1572.8125, 1572.8125, 1767.96875, 1767.96875],\n",
       "  [1895.0, 1895.0, 1905.0, 1905.0],\n",
       "  [1925.0, 1925.0, 1935.0, 1935.0],\n",
       "  [1915.0, 1915.0, 1930.0, 1930.0],\n",
       "  [1900.0, 1900.0, 1922.5, 1922.5],\n",
       "  [1955.0, 1955.0, 1965.0, 1965.0],\n",
       "  [1985.0, 1985.0, 1995.0, 1995.0],\n",
       "  [1975.0, 1975.0, 1990.0, 1990.0],\n",
       "  [1960.0, 1960.0, 1982.5, 1982.5],\n",
       "  [1945.0, 1945.0, 1971.25, 1971.25],\n",
       "  [1911.25, 1911.25, 1958.125, 1958.125],\n",
       "  [2005.0, 2005.0, 2015.0, 2015.0],\n",
       "  [2025.0, 2025.0, 2035.0, 2035.0],\n",
       "  [2010.0, 2010.0, 2030.0, 2030.0],\n",
       "  [2065.0, 2065.0, 2075.0, 2075.0],\n",
       "  [2055.0, 2055.0, 2070.0, 2070.0],\n",
       "  [2045.0, 2045.0, 2062.5, 2062.5],\n",
       "  [2095.0, 2095.0, 2105.0, 2105.0],\n",
       "  [2085.0, 2085.0, 2100.0, 2100.0],\n",
       "  [2053.75, 2053.75, 2092.5, 2092.5],\n",
       "  [2020.0, 2020.0, 2073.125, 2073.125],\n",
       "  [2115.0, 2115.0, 2125.0, 2125.0],\n",
       "  [2145.0, 2145.0, 2155.0, 2155.0],\n",
       "  [2135.0, 2135.0, 2150.0, 2150.0],\n",
       "  [2185.0, 2185.0, 2195.0, 2195.0],\n",
       "  [2175.0, 2175.0, 2190.0, 2190.0],\n",
       "  [2165.0, 2165.0, 2182.5, 2182.5],\n",
       "  [2142.5, 2142.5, 2173.75, 2173.75],\n",
       "  [2225.0, 2225.0, 2235.0, 2235.0],\n",
       "  [2215.0, 2215.0, 2230.0, 2230.0],\n",
       "  [2265.0, 2265.0, 2275.0, 2275.0],\n",
       "  [2255.0, 2255.0, 2270.0, 2270.0],\n",
       "  [2245.0, 2245.0, 2262.5, 2262.5],\n",
       "  [2222.5, 2222.5, 2253.75, 2253.75],\n",
       "  [2205.0, 2205.0, 2238.125, 2238.125],\n",
       "  [2158.125, 2158.125, 2221.5625, 2221.5625],\n",
       "  [2120.0, 2120.0, 2189.84375, 2189.84375],\n",
       "  [2295.0, 2295.0, 2305.0, 2305.0],\n",
       "  [2285.0, 2285.0, 2300.0, 2300.0],\n",
       "  [2325.0, 2325.0, 2335.0, 2335.0],\n",
       "  [2315.0, 2315.0, 2330.0, 2330.0],\n",
       "  [2292.5, 2292.5, 2322.5, 2322.5],\n",
       "  [2345.0, 2345.0, 2355.0, 2355.0],\n",
       "  [2385.0, 2385.0, 2395.0, 2395.0],\n",
       "  [2375.0, 2375.0, 2390.0, 2390.0],\n",
       "  [2365.0, 2365.0, 2382.5, 2382.5],\n",
       "  [2350.0, 2350.0, 2373.75, 2373.75],\n",
       "  [2307.5, 2307.5, 2361.875, 2361.875],\n",
       "  [2405.0, 2405.0, 2415.0, 2415.0],\n",
       "  [2435.0, 2435.0, 2445.0, 2445.0],\n",
       "  [2425.0, 2425.0, 2440.0, 2440.0],\n",
       "  [2410.0, 2410.0, 2432.5, 2432.5],\n",
       "  [2455.0, 2455.0, 2465.0, 2465.0],\n",
       "  [2485.0, 2485.0, 2495.0, 2495.0],\n",
       "  [2475.0, 2475.0, 2490.0, 2490.0],\n",
       "  [2460.0, 2460.0, 2482.5, 2482.5],\n",
       "  [2421.25, 2421.25, 2471.25, 2471.25],\n",
       "  [2334.6875, 2334.6875, 2446.25, 2446.25],\n",
       "  [2154.921875, 2154.921875, 2390.46875, 2390.46875],\n",
       "  [2046.5625, 2046.5625, 2272.6953125, 2272.6953125],\n",
       "  [1934.6875, 1934.6875, 2159.62890625, 2159.62890625],\n",
       "  [1670.390625, 1670.390625, 2047.158203125, 2047.158203125],\n",
       "  [1178.0029296875, 1178.0029296875, 1858.7744140625, 1858.7744140625],\n",
       "  [315.751953125, 315.751953125, 1518.388671875, 1518.388671875]],\n",
       " 'dcoord': [[0.0, 0.9372853871557364, 0.9372853871557364, 0.0],\n",
       "  [0.0, 0.11787709677295581, 0.11787709677295581, 0.0],\n",
       "  [0.0, 1.457765382690711, 1.457765382690711, 0.11787709677295581],\n",
       "  [0.9372853871557364,\n",
       "   2.674725977410116,\n",
       "   2.674725977410116,\n",
       "   1.457765382690711],\n",
       "  [0.0, 3.1201141270514543, 3.1201141270514543, 2.674725977410116],\n",
       "  [0.0, 1.5520402636224286, 1.5520402636224286, 0.0],\n",
       "  [0.0, 0.21017825881791347, 0.21017825881791347, 0.0],\n",
       "  [0.0, 0.36977370839793045, 0.36977370839793045, 0.0],\n",
       "  [0.21017825881791347,\n",
       "   0.9119179228029637,\n",
       "   0.9119179228029637,\n",
       "   0.36977370839793045],\n",
       "  [0.0, 0.2679967840393062, 0.2679967840393062, 0.0],\n",
       "  [0.0, 0.35442830230471734, 0.35442830230471734, 0.2679967840393062],\n",
       "  [0.0, 0.08229893367457758, 0.08229893367457758, 0.0],\n",
       "  [0.0, 0.141063146307738, 0.141063146307738, 0.0],\n",
       "  [0.0, 0.35339170248696217, 0.35339170248696217, 0.141063146307738],\n",
       "  [0.08229893367457758,\n",
       "   0.6225960986928825,\n",
       "   0.6225960986928825,\n",
       "   0.35339170248696217],\n",
       "  [0.0, 0.8541755092925313, 0.8541755092925313, 0.6225960986928825],\n",
       "  [0.35442830230471734,\n",
       "   1.361564171607727,\n",
       "   1.361564171607727,\n",
       "   0.8541755092925313],\n",
       "  [0.9119179228029637,\n",
       "   2.2637658562250835,\n",
       "   2.2637658562250835,\n",
       "   1.361564171607727],\n",
       "  [1.5520402636224286,\n",
       "   3.7235841711441195,\n",
       "   3.7235841711441195,\n",
       "   2.2637658562250835],\n",
       "  [3.1201141270514543,\n",
       "   5.743674929756978,\n",
       "   5.743674929756978,\n",
       "   3.7235841711441195],\n",
       "  [0.0, 0.14984824694017854, 0.14984824694017854, 0.0],\n",
       "  [0.0, 0.4215464094132036, 0.4215464094132036, 0.0],\n",
       "  [0.0, 0.12313902973261716, 0.12313902973261716, 0.0],\n",
       "  [0.0, 0.2925061502815005, 0.2925061502815005, 0.12313902973261716],\n",
       "  [0.0, 0.5138872518451614, 0.5138872518451614, 0.2925061502815005],\n",
       "  [0.4215464094132036,\n",
       "   0.677882772719683,\n",
       "   0.677882772719683,\n",
       "   0.5138872518451614],\n",
       "  [0.14984824694017854,\n",
       "   0.9858907311953584,\n",
       "   0.9858907311953584,\n",
       "   0.677882772719683],\n",
       "  [0.0, 0.43813148003162755, 0.43813148003162755, 0.0],\n",
       "  [0.0, 0.16874262537828508, 0.16874262537828508, 0.0],\n",
       "  [0.0, 0.3741379336319298, 0.3741379336319298, 0.0],\n",
       "  [0.16874262537828508,\n",
       "   0.704358059194966,\n",
       "   0.704358059194966,\n",
       "   0.3741379336319298],\n",
       "  [0.43813148003162755,\n",
       "   0.7676235988284038,\n",
       "   0.7676235988284038,\n",
       "   0.704358059194966],\n",
       "  [0.0, 0.2148367035589323, 0.2148367035589323, 0.0],\n",
       "  [0.0, 0.3092113847285269, 0.3092113847285269, 0.0],\n",
       "  [0.2148367035589323,\n",
       "   0.5920875712678992,\n",
       "   0.5920875712678992,\n",
       "   0.3092113847285269],\n",
       "  [0.0, 1.0187659346831555, 1.0187659346831555, 0.5920875712678992],\n",
       "  [0.7676235988284038,\n",
       "   2.2582994696988856,\n",
       "   2.2582994696988856,\n",
       "   1.0187659346831555],\n",
       "  [0.9858907311953584,\n",
       "   3.2239210146495583,\n",
       "   3.2239210146495583,\n",
       "   2.2582994696988856],\n",
       "  [0.0, 0.17805587248787763, 0.17805587248787763, 0.0],\n",
       "  [0.0, 0.2034374599264229, 0.2034374599264229, 0.0],\n",
       "  [0.17805587248787763,\n",
       "   0.9107397932736759,\n",
       "   0.9107397932736759,\n",
       "   0.2034374599264229],\n",
       "  [0.0, 0.47636557811879704, 0.47636557811879704, 0.0],\n",
       "  [0.0, 0.6150586876066589, 0.6150586876066589, 0.0],\n",
       "  [0.0, 0.8934743006795152, 0.8934743006795152, 0.6150586876066589],\n",
       "  [0.47636557811879704,\n",
       "   1.5649452618787822,\n",
       "   1.5649452618787822,\n",
       "   0.8934743006795152],\n",
       "  [0.9107397932736759,\n",
       "   2.604672145658129,\n",
       "   2.604672145658129,\n",
       "   1.5649452618787822],\n",
       "  [0.0, 0.4319755630289966, 0.4319755630289966, 0.0],\n",
       "  [0.0, 0.7805423901442621, 0.7805423901442621, 0.0],\n",
       "  [0.4319755630289966,\n",
       "   1.7263263113070515,\n",
       "   1.7263263113070515,\n",
       "   0.7805423901442621],\n",
       "  [0.0, 3.4858605959208235, 3.4858605959208235, 1.7263263113070515],\n",
       "  [2.604672145658129,\n",
       "   5.4448656532248005,\n",
       "   5.4448656532248005,\n",
       "   3.4858605959208235],\n",
       "  [3.2239210146495583,\n",
       "   7.556280589299277,\n",
       "   7.556280589299277,\n",
       "   5.4448656532248005],\n",
       "  [0.0, 0.44210591318257414, 0.44210591318257414, 0.0],\n",
       "  [0.0, 0.846010849844684, 0.846010849844684, 0.44210591318257414],\n",
       "  [0.0, 0.23652439822180227, 0.23652439822180227, 0.0],\n",
       "  [0.0, 0.36780076470998785, 0.36780076470998785, 0.23652439822180227],\n",
       "  [0.0, 0.11107252793232555, 0.11107252793232555, 0.0],\n",
       "  [0.0, 0.22046554889937772, 0.22046554889937772, 0.0],\n",
       "  [0.11107252793232555,\n",
       "   0.34160549018433095,\n",
       "   0.34160549018433095,\n",
       "   0.22046554889937772],\n",
       "  [0.0, 0.03978090392040601, 0.03978090392040601, 0.0],\n",
       "  [0.0, 0.06233988068223413, 0.06233988068223413, 0.0],\n",
       "  [0.0, 0.2515421993401615, 0.2515421993401615, 0.06233988068223413],\n",
       "  [0.03978090392040601,\n",
       "   0.7469845002249115,\n",
       "   0.7469845002249115,\n",
       "   0.2515421993401615],\n",
       "  [0.34160549018433095,\n",
       "   0.9236807059571979,\n",
       "   0.9236807059571979,\n",
       "   0.7469845002249115],\n",
       "  [0.36780076470998785,\n",
       "   1.360631305008901,\n",
       "   1.360631305008901,\n",
       "   0.9236807059571979],\n",
       "  [0.846010849844684,\n",
       "   2.8908028272848196,\n",
       "   2.8908028272848196,\n",
       "   1.360631305008901],\n",
       "  [0.0, 0.5117166963249044, 0.5117166963249044, 0.0],\n",
       "  [0.0, 0.19408930664074944, 0.19408930664074944, 0.0],\n",
       "  [0.0, 0.07942050593313388, 0.07942050593313388, 0.0],\n",
       "  [0.0, 0.302090414299141, 0.302090414299141, 0.07942050593313388],\n",
       "  [0.19408930664074944,\n",
       "   0.6035199181693782,\n",
       "   0.6035199181693782,\n",
       "   0.302090414299141],\n",
       "  [0.5117166963249044,\n",
       "   3.220304319270372,\n",
       "   3.220304319270372,\n",
       "   0.6035199181693782],\n",
       "  [2.8908028272848196,\n",
       "   4.962402778076955,\n",
       "   4.962402778076955,\n",
       "   3.220304319270372],\n",
       "  [0.0, 0.055708874842260996, 0.055708874842260996, 0.0],\n",
       "  [0.0, 0.12626688576613365, 0.12626688576613365, 0.055708874842260996],\n",
       "  [0.0, 0.34140836938720615, 0.34140836938720615, 0.12626688576613365],\n",
       "  [0.0, 0.208978739841972, 0.208978739841972, 0.0],\n",
       "  [0.0, 0.5171311113471632, 0.5171311113471632, 0.208978739841972],\n",
       "  [0.34140836938720615,\n",
       "   0.779268740315836,\n",
       "   0.779268740315836,\n",
       "   0.5171311113471632],\n",
       "  [0.0, 0.4988101965692366, 0.4988101965692366, 0.0],\n",
       "  [0.0, 0.7143055273776862, 0.7143055273776862, 0.4988101965692366],\n",
       "  [0.0, 1.0409571969333262, 1.0409571969333262, 0.7143055273776862],\n",
       "  [0.779268740315836,\n",
       "   2.002527738579261,\n",
       "   2.002527738579261,\n",
       "   1.0409571969333262],\n",
       "  [0.0, 0.3337557565037147, 0.3337557565037147, 0.0],\n",
       "  [0.0, 0.16285186671775015, 0.16285186671775015, 0.0],\n",
       "  [0.0, 0.39603442593740334, 0.39603442593740334, 0.16285186671775015],\n",
       "  [0.3337557565037147,\n",
       "   0.7399275974726618,\n",
       "   0.7399275974726618,\n",
       "   0.39603442593740334],\n",
       "  [0.0, 0.2853012902094145, 0.2853012902094145, 0.0],\n",
       "  [0.0, 0.4221310090475118, 0.4221310090475118, 0.0],\n",
       "  [0.2853012902094145,\n",
       "   0.876883315045831,\n",
       "   0.876883315045831,\n",
       "   0.4221310090475118],\n",
       "  [0.7399275974726618,\n",
       "   1.6064928887585201,\n",
       "   1.6064928887585201,\n",
       "   0.876883315045831],\n",
       "  [0.0, 0.4850209718966178, 0.4850209718966178, 0.0],\n",
       "  [0.0, 0.9793251924630344, 0.9793251924630344, 0.0],\n",
       "  [0.4850209718966178,\n",
       "   2.059888711437347,\n",
       "   2.059888711437347,\n",
       "   0.9793251924630344],\n",
       "  [1.6064928887585201,\n",
       "   3.1071741802199746,\n",
       "   3.1071741802199746,\n",
       "   2.059888711437347],\n",
       "  [2.002527738579261,\n",
       "   6.349502586559016,\n",
       "   6.349502586559016,\n",
       "   3.1071741802199746],\n",
       "  [4.962402778076955,\n",
       "   11.361067815519476,\n",
       "   11.361067815519476,\n",
       "   6.349502586559016],\n",
       "  [7.556280589299277,\n",
       "   14.577613012156576,\n",
       "   14.577613012156576,\n",
       "   11.361067815519476],\n",
       "  [5.743674929756978,\n",
       "   18.90673755799577,\n",
       "   18.90673755799577,\n",
       "   14.577613012156576],\n",
       "  [0.0, 0.4991324633656435, 0.4991324633656435, 0.0],\n",
       "  [0.0, 0.97863796009087, 0.97863796009087, 0.0],\n",
       "  [0.4991324633656435, 1.513842114187518, 1.513842114187518, 0.97863796009087],\n",
       "  [0.0, 3.2360077979269506, 3.2360077979269506, 1.513842114187518],\n",
       "  [0.0, 0.4113757493731443, 0.4113757493731443, 0.0],\n",
       "  [0.0, 0.13933739701428266, 0.13933739701428266, 0.0],\n",
       "  [0.0, 0.20855122988662406, 0.20855122988662406, 0.0],\n",
       "  [0.13933739701428266,\n",
       "   0.3214650405063935,\n",
       "   0.3214650405063935,\n",
       "   0.20855122988662406],\n",
       "  [0.0, 0.9772660382246559, 0.9772660382246559, 0.3214650405063935],\n",
       "  [0.0, 1.3170558103396997, 1.3170558103396997, 0.9772660382246559],\n",
       "  [0.4113757493731443,\n",
       "   1.7431520339755298,\n",
       "   1.7431520339755298,\n",
       "   1.3170558103396997],\n",
       "  [0.0, 1.068627577112342, 1.068627577112342, 0.0],\n",
       "  [0.0, 1.3728266048398554, 1.3728266048398554, 0.0],\n",
       "  [1.068627577112342, 2.6819524032758, 2.6819524032758, 1.3728266048398554],\n",
       "  [1.7431520339755298, 5.766979952375539, 5.766979952375539, 2.6819524032758],\n",
       "  [3.2360077979269506,\n",
       "   7.187253193633576,\n",
       "   7.187253193633576,\n",
       "   5.766979952375539],\n",
       "  [0.0, 0.5082219658645696, 0.5082219658645696, 0.0],\n",
       "  [0.0, 1.9718700526404287, 1.9718700526404287, 0.5082219658645696],\n",
       "  [0.0, 0.4351405631858715, 0.4351405631858715, 0.0],\n",
       "  [0.0, 0.8667498085306466, 0.8667498085306466, 0.4351405631858715],\n",
       "  [0.0, 1.034911191934869, 1.034911191934869, 0.8667498085306466],\n",
       "  [0.0, 0.5045252587048901, 0.5045252587048901, 0.0],\n",
       "  [0.0, 0.2788057113125249, 0.2788057113125249, 0.0],\n",
       "  [0.0, 0.6430249060769883, 0.6430249060769883, 0.2788057113125249],\n",
       "  [0.0, 0.8018901531533991, 0.8018901531533991, 0.0],\n",
       "  [0.6430249060769883,\n",
       "   1.6689951153936098,\n",
       "   1.6689951153936098,\n",
       "   0.8018901531533991],\n",
       "  [0.5045252587048901,\n",
       "   1.9285148063205912,\n",
       "   1.9285148063205912,\n",
       "   1.6689951153936098],\n",
       "  [1.034911191934869,\n",
       "   2.9724318872914424,\n",
       "   2.9724318872914424,\n",
       "   1.9285148063205912],\n",
       "  [1.9718700526404287,\n",
       "   3.9039697800216624,\n",
       "   3.9039697800216624,\n",
       "   2.9724318872914424],\n",
       "  [0.0, 0.39818469227219916, 0.39818469227219916, 0.0],\n",
       "  [0.0, 0.5684717050258642, 0.5684717050258642, 0.39818469227219916],\n",
       "  [0.0, 0.3605691674218518, 0.3605691674218518, 0.0],\n",
       "  [0.0, 0.6456014121352133, 0.6456014121352133, 0.3605691674218518],\n",
       "  [0.5684717050258642, 1.8771991763134, 1.8771991763134, 0.6456014121352133],\n",
       "  [0.0, 2.148201724161714, 2.148201724161714, 1.8771991763134],\n",
       "  [0.0, 2.0973067557122294, 2.0973067557122294, 0.0],\n",
       "  [0.0, 0.4042060396292337, 0.4042060396292337, 0.0],\n",
       "  [0.0, 0.8419282268815882, 0.8419282268815882, 0.4042060396292337],\n",
       "  [0.0, 0.07328664535923735, 0.07328664535923735, 0.0],\n",
       "  [0.0, 0.10758287453958999, 0.10758287453958999, 0.0],\n",
       "  [0.0, 0.18363682398932735, 0.18363682398932735, 0.10758287453958999],\n",
       "  [0.0, 0.30751094876885554, 0.30751094876885554, 0.18363682398932735],\n",
       "  [0.0, 0.6511660705964005, 0.6511660705964005, 0.30751094876885554],\n",
       "  [0.0, 1.1940483530013448, 1.1940483530013448, 0.6511660705964005],\n",
       "  [0.07328664535923735,\n",
       "   1.7485196890792705,\n",
       "   1.7485196890792705,\n",
       "   1.1940483530013448],\n",
       "  [0.8419282268815882,\n",
       "   2.8369965460795643,\n",
       "   2.8369965460795643,\n",
       "   1.7485196890792705],\n",
       "  [2.0973067557122294,\n",
       "   3.4576580460752133,\n",
       "   3.4576580460752133,\n",
       "   2.8369965460795643],\n",
       "  [2.148201724161714,\n",
       "   7.302314387832722,\n",
       "   7.302314387832722,\n",
       "   3.4576580460752133],\n",
       "  [3.9039697800216624,\n",
       "   13.667362365988176,\n",
       "   13.667362365988176,\n",
       "   7.302314387832722],\n",
       "  [7.187253193633576,\n",
       "   18.736154482120572,\n",
       "   18.736154482120572,\n",
       "   13.667362365988176],\n",
       "  [0.0, 0.3126873864807464, 0.3126873864807464, 0.0],\n",
       "  [0.0, 0.3208521608746906, 0.3208521608746906, 0.0],\n",
       "  [0.0, 1.0761878149913076, 1.0761878149913076, 0.3208521608746906],\n",
       "  [0.3126873864807464,\n",
       "   1.1554908652013287,\n",
       "   1.1554908652013287,\n",
       "   1.0761878149913076],\n",
       "  [0.0, 0.040192510222803526, 0.040192510222803526, 0.0],\n",
       "  [0.0, 0.32213695612340754, 0.32213695612340754, 0.0],\n",
       "  [0.040192510222803526,\n",
       "   0.8412953569098888,\n",
       "   0.8412953569098888,\n",
       "   0.32213695612340754],\n",
       "  [0.0, 0.2412782173076338, 0.2412782173076338, 0.0],\n",
       "  [0.0, 0.21273423582364276, 0.21273423582364276, 0.0],\n",
       "  [0.0, 0.44916364229100014, 0.44916364229100014, 0.21273423582364276],\n",
       "  [0.2412782173076338,\n",
       "   0.6644990302931986,\n",
       "   0.6644990302931986,\n",
       "   0.44916364229100014],\n",
       "  [0.0, 0.29557790805472833, 0.29557790805472833, 0.0],\n",
       "  [0.0, 0.5884736122743418, 0.5884736122743418, 0.29557790805472833],\n",
       "  [0.0, 0.8080010559130063, 0.8080010559130063, 0.0],\n",
       "  [0.5884736122743418,\n",
       "   0.971297700801849,\n",
       "   0.971297700801849,\n",
       "   0.8080010559130063],\n",
       "  [0.6644990302931986,\n",
       "   2.3628020176403464,\n",
       "   2.3628020176403464,\n",
       "   0.971297700801849],\n",
       "  [0.8412953569098888,\n",
       "   2.582501637957588,\n",
       "   2.582501637957588,\n",
       "   2.3628020176403464],\n",
       "  [1.1554908652013287,\n",
       "   6.6563913655844145,\n",
       "   6.6563913655844145,\n",
       "   2.582501637957588],\n",
       "  [0.0, 0.6906367689398425, 0.6906367689398425, 0.0],\n",
       "  [0.0, 0.9450359150148471, 0.9450359150148471, 0.6906367689398425],\n",
       "  [0.0, 1.8944314803755267, 1.8944314803755267, 0.0],\n",
       "  [0.9450359150148471,\n",
       "   3.168750814466302,\n",
       "   3.168750814466302,\n",
       "   1.8944314803755267],\n",
       "  [0.0, 0.13930103536432464, 0.13930103536432464, 0.0],\n",
       "  [0.0, 0.41738309640516397, 0.41738309640516397, 0.13930103536432464],\n",
       "  [0.0, 0.28476453889961484, 0.28476453889961484, 0.0],\n",
       "  [0.0, 0.5522829336326159, 0.5522829336326159, 0.28476453889961484],\n",
       "  [0.41738309640516397,\n",
       "   1.2534052189328593,\n",
       "   1.2534052189328593,\n",
       "   0.5522829336326159],\n",
       "  [0.0, 0.1750122256315347, 0.1750122256315347, 0.0],\n",
       "  [0.0, 0.9722301126579315, 0.9722301126579315, 0.1750122256315347],\n",
       "  [0.0, 0.4669358121263068, 0.4669358121263068, 0.0],\n",
       "  [0.0, 0.6329494600459374, 0.6329494600459374, 0.0],\n",
       "  [0.0, 0.6993047396540994, 0.6993047396540994, 0.6329494600459374],\n",
       "  [0.4669358121263068,\n",
       "   1.5859264312304722,\n",
       "   1.5859264312304722,\n",
       "   0.6993047396540994],\n",
       "  [0.9722301126579315,\n",
       "   2.4406469222894995,\n",
       "   2.4406469222894995,\n",
       "   1.5859264312304722],\n",
       "  [1.2534052189328593,\n",
       "   3.2798993938247305,\n",
       "   3.2798993938247305,\n",
       "   2.4406469222894995],\n",
       "  [3.168750814466302,\n",
       "   7.356513177478286,\n",
       "   7.356513177478286,\n",
       "   3.2798993938247305],\n",
       "  [6.6563913655844145,\n",
       "   9.440986607421237,\n",
       "   9.440986607421237,\n",
       "   7.356513177478286],\n",
       "  [0.0, 0.4468508244742259, 0.4468508244742259, 0.0],\n",
       "  [0.0, 0.14162312777125885, 0.14162312777125885, 0.0],\n",
       "  [0.0, 0.7054836046797532, 0.7054836046797532, 0.14162312777125885],\n",
       "  [0.4468508244742259,\n",
       "   1.0934027515773186,\n",
       "   1.0934027515773186,\n",
       "   0.7054836046797532],\n",
       "  [0.0, 0.26423387580908136, 0.26423387580908136, 0.0],\n",
       "  [0.0, 0.5354057181721044, 0.5354057181721044, 0.0],\n",
       "  [0.0, 0.6171825791967182, 0.6171825791967182, 0.5354057181721044],\n",
       "  [0.26423387580908136,\n",
       "   1.5046021083710834,\n",
       "   1.5046021083710834,\n",
       "   0.6171825791967182],\n",
       "  [0.0, 4.097675434622231, 4.097675434622231, 1.5046021083710834],\n",
       "  [1.0934027515773186,\n",
       "   5.437882921157715,\n",
       "   5.437882921157715,\n",
       "   4.097675434622231],\n",
       "  [0.0, 0.2905459806957456, 0.2905459806957456, 0.0],\n",
       "  [0.0, 0.5416718842125023, 0.5416718842125023, 0.0],\n",
       "  [0.2905459806957456,\n",
       "   0.793178597305135,\n",
       "   0.793178597305135,\n",
       "   0.5416718842125023],\n",
       "  [0.0, 0.3980278975279508, 0.3980278975279508, 0.0],\n",
       "  [0.0, 0.5862531568426036, 0.5862531568426036, 0.3980278975279508],\n",
       "  [0.0, 0.9394106848400284, 0.9394106848400284, 0.5862531568426036],\n",
       "  [0.0, 0.5525220243130079, 0.5525220243130079, 0.0],\n",
       "  [0.0, 0.9431911521002454, 0.9431911521002454, 0.5525220243130079],\n",
       "  [0.9394106848400284,\n",
       "   1.7507730356528988,\n",
       "   1.7507730356528988,\n",
       "   0.9431911521002454],\n",
       "  [0.793178597305135,\n",
       "   4.139819211701138,\n",
       "   4.139819211701138,\n",
       "   1.7507730356528988],\n",
       "  [0.0, 1.2838770109779143, 1.2838770109779143, 0.0],\n",
       "  [0.0, 0.07051294285721155, 0.07051294285721155, 0.0],\n",
       "  [0.0, 0.25472198112399463, 0.25472198112399463, 0.07051294285721155],\n",
       "  [0.0, 0.21696162064924407, 0.21696162064924407, 0.0],\n",
       "  [0.0, 0.46358496493827556, 0.46358496493827556, 0.21696162064924407],\n",
       "  [0.0, 0.6047108731251313, 0.6047108731251313, 0.46358496493827556],\n",
       "  [0.25472198112399463,\n",
       "   1.3491944392484545,\n",
       "   1.3491944392484545,\n",
       "   0.6047108731251313],\n",
       "  [0.0, 0.15637270729469455, 0.15637270729469455, 0.0],\n",
       "  [0.0, 0.4337182234304537, 0.4337182234304537, 0.15637270729469455],\n",
       "  [0.0, 0.08278867701373216, 0.08278867701373216, 0.0],\n",
       "  [0.0, 0.17262575357455562, 0.17262575357455562, 0.08278867701373216],\n",
       "  [0.0, 0.5580197195631676, 0.5580197195631676, 0.17262575357455562],\n",
       "  [0.4337182234304537,\n",
       "   0.6329502592450802,\n",
       "   0.6329502592450802,\n",
       "   0.5580197195631676],\n",
       "  [0.0, 1.6195523574975592, 1.6195523574975592, 0.6329502592450802],\n",
       "  [1.3491944392484545,\n",
       "   2.0691917662367354,\n",
       "   2.0691917662367354,\n",
       "   1.6195523574975592],\n",
       "  [1.2838770109779143,\n",
       "   3.7013412659272507,\n",
       "   3.7013412659272507,\n",
       "   2.0691917662367354],\n",
       "  [0.0, 0.08063509858305423, 0.08063509858305423, 0.0],\n",
       "  [0.0, 0.1492629045548939, 0.1492629045548939, 0.08063509858305423],\n",
       "  [0.0, 0.11444738135987086, 0.11444738135987086, 0.0],\n",
       "  [0.0, 0.3098668208039322, 0.3098668208039322, 0.11444738135987086],\n",
       "  [0.1492629045548939,\n",
       "   0.7502811494846255,\n",
       "   0.7502811494846255,\n",
       "   0.3098668208039322],\n",
       "  [0.0, 0.42514702388688863, 0.42514702388688863, 0.0],\n",
       "  [0.0, 0.09352195151455188, 0.09352195151455188, 0.0],\n",
       "  [0.0, 0.27206426253067906, 0.27206426253067906, 0.09352195151455188],\n",
       "  [0.0, 0.4821438201626935, 0.4821438201626935, 0.27206426253067906],\n",
       "  [0.42514702388688863,\n",
       "   1.0228741052439756,\n",
       "   1.0228741052439756,\n",
       "   0.4821438201626935],\n",
       "  [0.7502811494846255,\n",
       "   2.0033879142057485,\n",
       "   2.0033879142057485,\n",
       "   1.0228741052439756],\n",
       "  [0.0, 0.38077931614821775, 0.38077931614821775, 0.0],\n",
       "  [0.0, 0.25015865611956933, 0.25015865611956933, 0.0],\n",
       "  [0.0, 0.5573408577247182, 0.5573408577247182, 0.25015865611956933],\n",
       "  [0.38077931614821775,\n",
       "   0.7955943058656093,\n",
       "   0.7955943058656093,\n",
       "   0.5573408577247182],\n",
       "  [0.0, 0.29965535661193843, 0.29965535661193843, 0.0],\n",
       "  [0.0, 0.16467284757072387, 0.16467284757072387, 0.0],\n",
       "  [0.0, 0.5189318752580984, 0.5189318752580984, 0.16467284757072387],\n",
       "  [0.29965535661193843,\n",
       "   1.0572382336091029,\n",
       "   1.0572382336091029,\n",
       "   0.5189318752580984],\n",
       "  [0.7955943058656093,\n",
       "   2.2633234810130713,\n",
       "   2.2633234810130713,\n",
       "   1.0572382336091029],\n",
       "  [2.0033879142057485,\n",
       "   3.9245618671676077,\n",
       "   3.9245618671676077,\n",
       "   2.2633234810130713],\n",
       "  [3.7013412659272507,\n",
       "   6.659540482688936,\n",
       "   6.659540482688936,\n",
       "   3.9245618671676077],\n",
       "  [4.139819211701138, 10.49045986515974, 10.49045986515974, 6.659540482688936],\n",
       "  [5.437882921157715,\n",
       "   12.992717548186642,\n",
       "   12.992717548186642,\n",
       "   10.49045986515974],\n",
       "  [9.440986607421237,\n",
       "   24.862764463596513,\n",
       "   24.862764463596513,\n",
       "   12.992717548186642],\n",
       "  [18.736154482120572,\n",
       "   77.83108467514211,\n",
       "   77.83108467514211,\n",
       "   24.862764463596513],\n",
       "  [18.90673755799577,\n",
       "   220.30273679980846,\n",
       "   220.30273679980846,\n",
       "   77.83108467514211]],\n",
       " 'ivl': ['0',\n",
       "  '73',\n",
       "  '79',\n",
       "  '55',\n",
       "  '32',\n",
       "  '52',\n",
       "  '13',\n",
       "  '99',\n",
       "  '50',\n",
       "  '69',\n",
       "  '72',\n",
       "  '74',\n",
       "  '60',\n",
       "  '36',\n",
       "  '49',\n",
       "  '12',\n",
       "  '15',\n",
       "  '47',\n",
       "  '6',\n",
       "  '94',\n",
       "  '96',\n",
       "  '19',\n",
       "  '92',\n",
       "  '28',\n",
       "  '39',\n",
       "  '41',\n",
       "  '4',\n",
       "  '29',\n",
       "  '57',\n",
       "  '9',\n",
       "  '76',\n",
       "  '20',\n",
       "  '30',\n",
       "  '11',\n",
       "  '62',\n",
       "  '95',\n",
       "  '8',\n",
       "  '56',\n",
       "  '43',\n",
       "  '44',\n",
       "  '45',\n",
       "  '71',\n",
       "  '22',\n",
       "  '89',\n",
       "  '21',\n",
       "  '34',\n",
       "  '78',\n",
       "  '14',\n",
       "  '64',\n",
       "  '37',\n",
       "  '2',\n",
       "  '59',\n",
       "  '1',\n",
       "  '33',\n",
       "  '86',\n",
       "  '54',\n",
       "  '66',\n",
       "  '35',\n",
       "  '63',\n",
       "  '83',\n",
       "  '16',\n",
       "  '82',\n",
       "  '77',\n",
       "  '90',\n",
       "  '3',\n",
       "  '40',\n",
       "  '98',\n",
       "  '46',\n",
       "  '88',\n",
       "  '65',\n",
       "  '85',\n",
       "  '61',\n",
       "  '67',\n",
       "  '38',\n",
       "  '26',\n",
       "  '53',\n",
       "  '93',\n",
       "  '17',\n",
       "  '27',\n",
       "  '75',\n",
       "  '48',\n",
       "  '24',\n",
       "  '42',\n",
       "  '25',\n",
       "  '84',\n",
       "  '23',\n",
       "  '80',\n",
       "  '7',\n",
       "  '81',\n",
       "  '91',\n",
       "  '58',\n",
       "  '68',\n",
       "  '70',\n",
       "  '97',\n",
       "  '18',\n",
       "  '51',\n",
       "  '5',\n",
       "  '10',\n",
       "  '31',\n",
       "  '87',\n",
       "  '113',\n",
       "  '138',\n",
       "  '147',\n",
       "  '128',\n",
       "  '146',\n",
       "  '108',\n",
       "  '121',\n",
       "  '124',\n",
       "  '149',\n",
       "  '127',\n",
       "  '144',\n",
       "  '105',\n",
       "  '137',\n",
       "  '122',\n",
       "  '145',\n",
       "  '102',\n",
       "  '143',\n",
       "  '115',\n",
       "  '110',\n",
       "  '223',\n",
       "  '140',\n",
       "  '116',\n",
       "  '120',\n",
       "  '134',\n",
       "  '118',\n",
       "  '148',\n",
       "  '109',\n",
       "  '117',\n",
       "  '126',\n",
       "  '100',\n",
       "  '130',\n",
       "  '103',\n",
       "  '142',\n",
       "  '104',\n",
       "  '111',\n",
       "  '114',\n",
       "  '107',\n",
       "  '132',\n",
       "  '112',\n",
       "  '141',\n",
       "  '133',\n",
       "  '125',\n",
       "  '136',\n",
       "  '129',\n",
       "  '139',\n",
       "  '135',\n",
       "  '131',\n",
       "  '106',\n",
       "  '101',\n",
       "  '119',\n",
       "  '123',\n",
       "  '168',\n",
       "  '205',\n",
       "  '218',\n",
       "  '150',\n",
       "  '233',\n",
       "  '194',\n",
       "  '247',\n",
       "  '209',\n",
       "  '213',\n",
       "  '184',\n",
       "  '199',\n",
       "  '186',\n",
       "  '164',\n",
       "  '210',\n",
       "  '160',\n",
       "  '166',\n",
       "  '214',\n",
       "  '153',\n",
       "  '195',\n",
       "  '163',\n",
       "  '176',\n",
       "  '215',\n",
       "  '222',\n",
       "  '227',\n",
       "  '228',\n",
       "  '165',\n",
       "  '240',\n",
       "  '173',\n",
       "  '179',\n",
       "  '243',\n",
       "  '234',\n",
       "  '154',\n",
       "  '246',\n",
       "  '189',\n",
       "  '237',\n",
       "  '183',\n",
       "  '156',\n",
       "  '177',\n",
       "  '175',\n",
       "  '190',\n",
       "  '170',\n",
       "  '152',\n",
       "  '155',\n",
       "  '225',\n",
       "  '159',\n",
       "  '244',\n",
       "  '162',\n",
       "  '188',\n",
       "  '238',\n",
       "  '200',\n",
       "  '229',\n",
       "  '181',\n",
       "  '236',\n",
       "  '239',\n",
       "  '226',\n",
       "  '161',\n",
       "  '216',\n",
       "  '180',\n",
       "  '201',\n",
       "  '249',\n",
       "  '182',\n",
       "  '217',\n",
       "  '158',\n",
       "  '207',\n",
       "  '212',\n",
       "  '242',\n",
       "  '202',\n",
       "  '171',\n",
       "  '235',\n",
       "  '221',\n",
       "  '192',\n",
       "  '151',\n",
       "  '193',\n",
       "  '198',\n",
       "  '167',\n",
       "  '206',\n",
       "  '219',\n",
       "  '196',\n",
       "  '208',\n",
       "  '231',\n",
       "  '157',\n",
       "  '185',\n",
       "  '245',\n",
       "  '172',\n",
       "  '203',\n",
       "  '220',\n",
       "  '230',\n",
       "  '232',\n",
       "  '248',\n",
       "  '187',\n",
       "  '191',\n",
       "  '241',\n",
       "  '169',\n",
       "  '178',\n",
       "  '174',\n",
       "  '224',\n",
       "  '211',\n",
       "  '197',\n",
       "  '204'],\n",
       " 'leaves': [0,\n",
       "  73,\n",
       "  79,\n",
       "  55,\n",
       "  32,\n",
       "  52,\n",
       "  13,\n",
       "  99,\n",
       "  50,\n",
       "  69,\n",
       "  72,\n",
       "  74,\n",
       "  60,\n",
       "  36,\n",
       "  49,\n",
       "  12,\n",
       "  15,\n",
       "  47,\n",
       "  6,\n",
       "  94,\n",
       "  96,\n",
       "  19,\n",
       "  92,\n",
       "  28,\n",
       "  39,\n",
       "  41,\n",
       "  4,\n",
       "  29,\n",
       "  57,\n",
       "  9,\n",
       "  76,\n",
       "  20,\n",
       "  30,\n",
       "  11,\n",
       "  62,\n",
       "  95,\n",
       "  8,\n",
       "  56,\n",
       "  43,\n",
       "  44,\n",
       "  45,\n",
       "  71,\n",
       "  22,\n",
       "  89,\n",
       "  21,\n",
       "  34,\n",
       "  78,\n",
       "  14,\n",
       "  64,\n",
       "  37,\n",
       "  2,\n",
       "  59,\n",
       "  1,\n",
       "  33,\n",
       "  86,\n",
       "  54,\n",
       "  66,\n",
       "  35,\n",
       "  63,\n",
       "  83,\n",
       "  16,\n",
       "  82,\n",
       "  77,\n",
       "  90,\n",
       "  3,\n",
       "  40,\n",
       "  98,\n",
       "  46,\n",
       "  88,\n",
       "  65,\n",
       "  85,\n",
       "  61,\n",
       "  67,\n",
       "  38,\n",
       "  26,\n",
       "  53,\n",
       "  93,\n",
       "  17,\n",
       "  27,\n",
       "  75,\n",
       "  48,\n",
       "  24,\n",
       "  42,\n",
       "  25,\n",
       "  84,\n",
       "  23,\n",
       "  80,\n",
       "  7,\n",
       "  81,\n",
       "  91,\n",
       "  58,\n",
       "  68,\n",
       "  70,\n",
       "  97,\n",
       "  18,\n",
       "  51,\n",
       "  5,\n",
       "  10,\n",
       "  31,\n",
       "  87,\n",
       "  113,\n",
       "  138,\n",
       "  147,\n",
       "  128,\n",
       "  146,\n",
       "  108,\n",
       "  121,\n",
       "  124,\n",
       "  149,\n",
       "  127,\n",
       "  144,\n",
       "  105,\n",
       "  137,\n",
       "  122,\n",
       "  145,\n",
       "  102,\n",
       "  143,\n",
       "  115,\n",
       "  110,\n",
       "  223,\n",
       "  140,\n",
       "  116,\n",
       "  120,\n",
       "  134,\n",
       "  118,\n",
       "  148,\n",
       "  109,\n",
       "  117,\n",
       "  126,\n",
       "  100,\n",
       "  130,\n",
       "  103,\n",
       "  142,\n",
       "  104,\n",
       "  111,\n",
       "  114,\n",
       "  107,\n",
       "  132,\n",
       "  112,\n",
       "  141,\n",
       "  133,\n",
       "  125,\n",
       "  136,\n",
       "  129,\n",
       "  139,\n",
       "  135,\n",
       "  131,\n",
       "  106,\n",
       "  101,\n",
       "  119,\n",
       "  123,\n",
       "  168,\n",
       "  205,\n",
       "  218,\n",
       "  150,\n",
       "  233,\n",
       "  194,\n",
       "  247,\n",
       "  209,\n",
       "  213,\n",
       "  184,\n",
       "  199,\n",
       "  186,\n",
       "  164,\n",
       "  210,\n",
       "  160,\n",
       "  166,\n",
       "  214,\n",
       "  153,\n",
       "  195,\n",
       "  163,\n",
       "  176,\n",
       "  215,\n",
       "  222,\n",
       "  227,\n",
       "  228,\n",
       "  165,\n",
       "  240,\n",
       "  173,\n",
       "  179,\n",
       "  243,\n",
       "  234,\n",
       "  154,\n",
       "  246,\n",
       "  189,\n",
       "  237,\n",
       "  183,\n",
       "  156,\n",
       "  177,\n",
       "  175,\n",
       "  190,\n",
       "  170,\n",
       "  152,\n",
       "  155,\n",
       "  225,\n",
       "  159,\n",
       "  244,\n",
       "  162,\n",
       "  188,\n",
       "  238,\n",
       "  200,\n",
       "  229,\n",
       "  181,\n",
       "  236,\n",
       "  239,\n",
       "  226,\n",
       "  161,\n",
       "  216,\n",
       "  180,\n",
       "  201,\n",
       "  249,\n",
       "  182,\n",
       "  217,\n",
       "  158,\n",
       "  207,\n",
       "  212,\n",
       "  242,\n",
       "  202,\n",
       "  171,\n",
       "  235,\n",
       "  221,\n",
       "  192,\n",
       "  151,\n",
       "  193,\n",
       "  198,\n",
       "  167,\n",
       "  206,\n",
       "  219,\n",
       "  196,\n",
       "  208,\n",
       "  231,\n",
       "  157,\n",
       "  185,\n",
       "  245,\n",
       "  172,\n",
       "  203,\n",
       "  220,\n",
       "  230,\n",
       "  232,\n",
       "  248,\n",
       "  187,\n",
       "  191,\n",
       "  241,\n",
       "  169,\n",
       "  178,\n",
       "  174,\n",
       "  224,\n",
       "  211,\n",
       "  197,\n",
       "  204],\n",
       " 'color_list': ['g',\n",
       "  'g',\n",
       "  'g',\n",
       "  'g',\n",
       "  'g',\n",
       "  'g',\n",
       "  'g',\n",
       "  'g',\n",
       "  'g',\n",
       "  'g',\n",
       "  'g',\n",
       "  'g',\n",
       "  'g',\n",
       "  'g',\n",
       "  'g',\n",
       "  'g',\n",
       "  'g',\n",
       "  'g',\n",
       "  'g',\n",
       "  'g',\n",
       "  'g',\n",
       "  'g',\n",
       "  'g',\n",
       "  'g',\n",
       "  'g',\n",
       "  'g',\n",
       "  'g',\n",
       "  'g',\n",
       "  'g',\n",
       "  'g',\n",
       "  'g',\n",
       "  'g',\n",
       "  'g',\n",
       "  'g',\n",
       "  'g',\n",
       "  'g',\n",
       "  'g',\n",
       "  'g',\n",
       "  'g',\n",
       "  'g',\n",
       "  'g',\n",
       "  'g',\n",
       "  'g',\n",
       "  'g',\n",
       "  'g',\n",
       "  'g',\n",
       "  'g',\n",
       "  'g',\n",
       "  'g',\n",
       "  'g',\n",
       "  'g',\n",
       "  'g',\n",
       "  'g',\n",
       "  'g',\n",
       "  'g',\n",
       "  'g',\n",
       "  'g',\n",
       "  'g',\n",
       "  'g',\n",
       "  'g',\n",
       "  'g',\n",
       "  'g',\n",
       "  'g',\n",
       "  'g',\n",
       "  'g',\n",
       "  'g',\n",
       "  'g',\n",
       "  'g',\n",
       "  'g',\n",
       "  'g',\n",
       "  'g',\n",
       "  'g',\n",
       "  'g',\n",
       "  'g',\n",
       "  'g',\n",
       "  'g',\n",
       "  'g',\n",
       "  'g',\n",
       "  'g',\n",
       "  'g',\n",
       "  'g',\n",
       "  'g',\n",
       "  'g',\n",
       "  'g',\n",
       "  'g',\n",
       "  'g',\n",
       "  'g',\n",
       "  'g',\n",
       "  'g',\n",
       "  'g',\n",
       "  'g',\n",
       "  'g',\n",
       "  'g',\n",
       "  'g',\n",
       "  'g',\n",
       "  'g',\n",
       "  'g',\n",
       "  'g',\n",
       "  'g',\n",
       "  'r',\n",
       "  'r',\n",
       "  'r',\n",
       "  'r',\n",
       "  'r',\n",
       "  'r',\n",
       "  'r',\n",
       "  'r',\n",
       "  'r',\n",
       "  'r',\n",
       "  'r',\n",
       "  'r',\n",
       "  'r',\n",
       "  'r',\n",
       "  'r',\n",
       "  'r',\n",
       "  'r',\n",
       "  'r',\n",
       "  'r',\n",
       "  'r',\n",
       "  'r',\n",
       "  'r',\n",
       "  'r',\n",
       "  'r',\n",
       "  'r',\n",
       "  'r',\n",
       "  'r',\n",
       "  'r',\n",
       "  'r',\n",
       "  'r',\n",
       "  'r',\n",
       "  'r',\n",
       "  'r',\n",
       "  'r',\n",
       "  'r',\n",
       "  'r',\n",
       "  'r',\n",
       "  'r',\n",
       "  'r',\n",
       "  'r',\n",
       "  'r',\n",
       "  'r',\n",
       "  'r',\n",
       "  'r',\n",
       "  'r',\n",
       "  'r',\n",
       "  'r',\n",
       "  'r',\n",
       "  'r',\n",
       "  'r',\n",
       "  'c',\n",
       "  'c',\n",
       "  'c',\n",
       "  'c',\n",
       "  'c',\n",
       "  'c',\n",
       "  'c',\n",
       "  'c',\n",
       "  'c',\n",
       "  'c',\n",
       "  'c',\n",
       "  'c',\n",
       "  'c',\n",
       "  'c',\n",
       "  'c',\n",
       "  'c',\n",
       "  'c',\n",
       "  'c',\n",
       "  'c',\n",
       "  'c',\n",
       "  'c',\n",
       "  'c',\n",
       "  'c',\n",
       "  'c',\n",
       "  'c',\n",
       "  'c',\n",
       "  'c',\n",
       "  'c',\n",
       "  'c',\n",
       "  'c',\n",
       "  'c',\n",
       "  'c',\n",
       "  'c',\n",
       "  'c',\n",
       "  'c',\n",
       "  'c',\n",
       "  'c',\n",
       "  'c',\n",
       "  'c',\n",
       "  'c',\n",
       "  'c',\n",
       "  'c',\n",
       "  'c',\n",
       "  'c',\n",
       "  'c',\n",
       "  'c',\n",
       "  'c',\n",
       "  'c',\n",
       "  'c',\n",
       "  'c',\n",
       "  'c',\n",
       "  'c',\n",
       "  'c',\n",
       "  'c',\n",
       "  'c',\n",
       "  'c',\n",
       "  'c',\n",
       "  'c',\n",
       "  'c',\n",
       "  'c',\n",
       "  'c',\n",
       "  'c',\n",
       "  'c',\n",
       "  'c',\n",
       "  'c',\n",
       "  'c',\n",
       "  'c',\n",
       "  'c',\n",
       "  'c',\n",
       "  'c',\n",
       "  'c',\n",
       "  'c',\n",
       "  'c',\n",
       "  'c',\n",
       "  'c',\n",
       "  'c',\n",
       "  'c',\n",
       "  'c',\n",
       "  'c',\n",
       "  'c',\n",
       "  'c',\n",
       "  'c',\n",
       "  'c',\n",
       "  'c',\n",
       "  'c',\n",
       "  'c',\n",
       "  'c',\n",
       "  'c',\n",
       "  'c',\n",
       "  'c',\n",
       "  'c',\n",
       "  'c',\n",
       "  'c',\n",
       "  'c',\n",
       "  'c',\n",
       "  'c',\n",
       "  'c',\n",
       "  'c',\n",
       "  'b',\n",
       "  'b']}"
      ]
     },
     "execution_count": 24,
     "metadata": {},
     "output_type": "execute_result"
    },
    {
     "data": {
      "image/png": "[encoded data removed]",
      "text/plain": [
       "<Figure size 720x720 with 1 Axes>"
      ]
     },
     "metadata": {
      "needs_background": "light"
     },
     "output_type": "display_data"
    }
   ],
   "source": [
    "plt.figure(figsize=(10, 10))\n",
    "plt.title('Agglomerative Hierarchical Clustering Dendogram')\n",
    "plt.xlabel('sample index')\n",
    "plt.ylabel('Distance')\n",
    "dendrogram(Z, leaf_rotation=90.,color_threshold = 40, leaf_font_size=8.)\n",
    "plt.tight_layout()"
   ]
  },
  {
   "cell_type": "code",
   "execution_count": null,
   "metadata": {},
   "outputs": [],
   "source": []
  },
  {
   "cell_type": "code",
   "execution_count": null,
   "metadata": {},
   "outputs": [],
   "source": []
  },
  {
   "cell_type": "markdown",
   "metadata": {},
   "source": [
    "### 13. Recreate the dendrogram for last 12 merged clusters "
   ]
  },
  {
   "cell_type": "code",
   "execution_count": 25,
   "metadata": {},
   "outputs": [
    {
     "data": {
      "text/plain": [
       "<Figure size 720x720 with 0 Axes>"
      ]
     },
     "execution_count": 25,
     "metadata": {},
     "output_type": "execute_result"
    },
    {
     "data": {
      "text/plain": [
       "Text(0.5, 1.0, 'Agglomerative Hierarchical Clustering Dendogram')"
      ]
     },
     "execution_count": 25,
     "metadata": {},
     "output_type": "execute_result"
    },
    {
     "data": {
      "text/plain": [
       "Text(0.5, 0, 'sample index')"
      ]
     },
     "execution_count": 25,
     "metadata": {},
     "output_type": "execute_result"
    },
    {
     "data": {
      "text/plain": [
       "Text(0, 0.5, 'Distance')"
      ]
     },
     "execution_count": 25,
     "metadata": {},
     "output_type": "execute_result"
    },
    {
     "data": {
      "text/plain": [
       "{'icoord': [[25.0, 25.0, 35.0, 35.0],\n",
       "  [15.0, 15.0, 30.0, 30.0],\n",
       "  [5.0, 5.0, 22.5, 22.5],\n",
       "  [55.0, 55.0, 65.0, 65.0],\n",
       "  [45.0, 45.0, 60.0, 60.0],\n",
       "  [75.0, 75.0, 85.0, 85.0],\n",
       "  [105.0, 105.0, 115.0, 115.0],\n",
       "  [95.0, 95.0, 110.0, 110.0],\n",
       "  [80.0, 80.0, 102.5, 102.5],\n",
       "  [52.5, 52.5, 91.25, 91.25],\n",
       "  [13.75, 13.75, 71.875, 71.875]],\n",
       " 'dcoord': [[0.0, 11.361067815519476, 11.361067815519476, 0.0],\n",
       "  [0.0, 14.577613012156576, 14.577613012156576, 11.361067815519476],\n",
       "  [0.0, 18.90673755799577, 18.90673755799577, 14.577613012156576],\n",
       "  [0.0, 13.667362365988176, 13.667362365988176, 0.0],\n",
       "  [0.0, 18.736154482120572, 18.736154482120572, 13.667362365988176],\n",
       "  [0.0, 9.440986607421237, 9.440986607421237, 0.0],\n",
       "  [0.0, 10.49045986515974, 10.49045986515974, 0.0],\n",
       "  [0.0, 12.992717548186642, 12.992717548186642, 10.49045986515974],\n",
       "  [9.440986607421237,\n",
       "   24.862764463596513,\n",
       "   24.862764463596513,\n",
       "   12.992717548186642],\n",
       "  [18.736154482120572,\n",
       "   77.83108467514211,\n",
       "   77.83108467514211,\n",
       "   24.862764463596513],\n",
       "  [18.90673755799577,\n",
       "   220.30273679980846,\n",
       "   220.30273679980846,\n",
       "   77.83108467514211]],\n",
       " 'ivl': ['(21)',\n",
       "  '(33)',\n",
       "  '(22)',\n",
       "  '(24)',\n",
       "  '(17)',\n",
       "  '(14)',\n",
       "  '(20)',\n",
       "  '(19)',\n",
       "  '(19)',\n",
       "  '(11)',\n",
       "  '(11)',\n",
       "  '(39)'],\n",
       " 'leaves': [479, 487, 476, 481, 484, 472, 485, 482, 486, 477, 475, 483],\n",
       " 'color_list': ['g', 'g', 'g', 'r', 'r', 'c', 'c', 'c', 'c', 'b', 'b']}"
      ]
     },
     "execution_count": 25,
     "metadata": {},
     "output_type": "execute_result"
    },
    {
     "data": {
      "image/png": "[encoded data removed]",
      "text/plain": [
       "<Figure size 720x720 with 1 Axes>"
      ]
     },
     "metadata": {
      "needs_background": "light"
     },
     "output_type": "display_data"
    }
   ],
   "source": [
    "plt.figure(figsize=(10, 10))\n",
    "plt.title('Agglomerative Hierarchical Clustering Dendogram')\n",
    "plt.xlabel('sample index')\n",
    "plt.ylabel('Distance')\n",
    "dendrogram(Z,p=12, truncate_mode = 'lastp', leaf_rotation=90.,color_threshold = 40, leaf_font_size=8.)\n",
    "plt.tight_layout()"
   ]
  },
  {
   "cell_type": "markdown",
   "metadata": {},
   "source": [
    "Hint: Use truncate_mode='lastp' attribute in dendrogram function to arrive at dendrogram "
   ]
  },
  {
   "cell_type": "code",
   "execution_count": null,
   "metadata": {},
   "outputs": [],
   "source": []
  },
  {
   "cell_type": "code",
   "execution_count": null,
   "metadata": {},
   "outputs": [],
   "source": []
  },
  {
   "cell_type": "markdown",
   "metadata": {},
   "source": [
    "### 14. From the truncated dendrogram, find out the optimal distance between clusters which u want to use an input for clustering data"
   ]
  },
  {
   "cell_type": "code",
   "execution_count": 26,
   "metadata": {},
   "outputs": [
    {
     "name": "stdout",
     "output_type": "stream",
     "text": [
      "Optimal distance value = 3\n"
     ]
    }
   ],
   "source": [
    "print(\"Optimal distance value = 3\")"
   ]
  },
  {
   "cell_type": "code",
   "execution_count": null,
   "metadata": {},
   "outputs": [],
   "source": []
  },
  {
   "cell_type": "markdown",
   "metadata": {},
   "source": [
    "### 15. Using this distance measure and fcluster function to cluster the data into 3 different groups"
   ]
  },
  {
   "cell_type": "code",
   "execution_count": 27,
   "metadata": {},
   "outputs": [],
   "source": [
    "from scipy.cluster.hierarchy import cophenet, dendrogram, linkage,fcluster\n",
    "from scipy.spatial.distance import pdist\n",
    "#from sklearn.cluster import AgglomerativeClustering \n",
    "#sns.pairplot(h_cluster,diag_kind='kde')\n",
    "#model = AgglomerativeClustering(n_clusters=2, affinity='euclidean',  linkage='ward')\n",
    "#model.fit(h_cluster)\n",
    "#h_cluster['labels'] = model.labels_\n",
    "#h_cluster.groupby([\"labels\"]).count()"
   ]
  },
  {
   "cell_type": "code",
   "execution_count": null,
   "metadata": {},
   "outputs": [],
   "source": []
  },
  {
   "cell_type": "code",
   "execution_count": null,
   "metadata": {},
   "outputs": [],
   "source": []
  },
  {
   "cell_type": "code",
   "execution_count": 28,
   "metadata": {},
   "outputs": [],
   "source": [
    "#h_cluster['labels'] = pd.DataFrame(fcluster(Z, t=50, criterion='inconsistent', depth=2, R=None, monocrit=None))\n",
    "clust = fcluster(Z, t=50, criterion='distance', depth=2, R=None, monocrit=None)\n",
    "#h_cluster.info()\n"
   ]
  },
  {
   "cell_type": "code",
   "execution_count": 29,
   "metadata": {},
   "outputs": [
    {
     "data": {
      "text/plain": [
       "array([1, 1, 1, 1, 1, 1, 1, 1, 1, 1, 1, 1, 1, 1, 1, 1, 1, 1, 1, 1, 1, 1,\n",
       "       1, 1, 1, 1, 1, 1, 1, 1, 1, 1, 1, 1, 1, 1, 1, 1, 1, 1, 1, 1, 1, 1,\n",
       "       1, 1, 1, 1, 1, 1, 1, 1, 1, 1, 1, 1, 1, 1, 1, 1, 1, 1, 1, 1, 1, 1,\n",
       "       1, 1, 1, 1, 1, 1, 1, 1, 1, 1, 1, 1, 1, 1, 1, 1, 1, 1, 1, 1, 1, 1,\n",
       "       1, 1, 1, 1, 1, 1, 1, 1, 1, 1, 1, 1, 2, 2, 2, 2, 2, 2, 2, 2, 2, 2,\n",
       "       2, 2, 2, 2, 2, 2, 2, 2, 2, 2, 2, 2, 2, 2, 2, 2, 2, 2, 2, 2, 2, 2,\n",
       "       2, 2, 2, 2, 2, 2, 2, 2, 2, 2, 2, 2, 2, 2, 2, 2, 2, 2, 3, 3, 3, 3,\n",
       "       3, 3, 3, 3, 3, 3, 3, 3, 3, 3, 3, 3, 3, 3, 3, 3, 3, 3, 3, 3, 3, 3,\n",
       "       3, 3, 3, 3, 3, 3, 3, 3, 3, 3, 3, 3, 3, 3, 3, 3, 3, 3, 3, 3, 3, 3,\n",
       "       3, 3, 3, 3, 3, 3, 3, 3, 3, 3, 3, 3, 3, 3, 3, 3, 3, 3, 3, 3, 3, 3,\n",
       "       3, 3, 3, 2, 3, 3, 3, 3, 3, 3, 3, 3, 3, 3, 3, 3, 3, 3, 3, 3, 3, 3,\n",
       "       3, 3, 3, 3, 3, 3, 3, 3], dtype=int32)"
      ]
     },
     "execution_count": 29,
     "metadata": {},
     "output_type": "execute_result"
    }
   ],
   "source": [
    "clust"
   ]
  },
  {
   "cell_type": "markdown",
   "metadata": {},
   "source": [
    "### Use matplotlib to visually observe the clusters in 2D space "
   ]
  },
  {
   "cell_type": "code",
   "execution_count": 30,
   "metadata": {},
   "outputs": [
    {
     "data": {
      "text/plain": [
       "<matplotlib.collections.PathCollection at 0xc0ec780>"
      ]
     },
     "execution_count": 30,
     "metadata": {},
     "output_type": "execute_result"
    },
    {
     "data": {
      "image/png": "[encoded data removed]",
      "text/plain": [
       "<Figure size 432x288 with 1 Axes>"
      ]
     },
     "metadata": {
      "needs_background": "light"
     },
     "output_type": "display_data"
    }
   ],
   "source": [
    "plt.scatter(h_cluster[\"x\"],h_cluster[\"y\"],c = clust,cmap ='prism')\n",
    "plt.show()"
   ]
  },
  {
   "cell_type": "code",
   "execution_count": null,
   "metadata": {},
   "outputs": [],
   "source": []
  }
 ],
 "metadata": {
  "kernelspec": {
   "display_name": "Python 3",
   "language": "python",
   "name": "python3"
  },
  "language_info": {
   "codemirror_mode": {
    "name": "ipython",
    "version": 3
   },
   "file_extension": ".py",
   "mimetype": "text/x-python",
   "name": "python",
   "nbconvert_exporter": "python",
   "pygments_lexer": "ipython3",
   "version": "3.7.1"
  }
 },
 "nbformat": 4,
 "nbformat_minor": 2
}
