{
  "nbformat": 4,
  "nbformat_minor": 0,
  "metadata": {
    "colab": {
      "name": "Recommendation_system_assignment.ipynb",
      "version": "0.3.2",
      "provenance": [],
      "collapsed_sections": []
    },
    "kernelspec": {
      "name": "python3",
      "display_name": "Python 3"
    },
    "accelerator": "GPU"
  },
  "cells": [
    {
      "metadata": {
        "id": "Wc1KeR1GeTaz",
        "colab_type": "code",
        "outputId": "816e4c30-0fcb-44b2-ae11-6da31971c912",
        "colab": {
          "base_uri": "https://localhost:8080/",
          "height": 148
        }
      },
      "cell_type": "code",
      "source": [
        "\n",
        "!pip install surprise"
      ],
      "execution_count": 1,
      "outputs": [
        {
          "output_type": "stream",
          "text": [
            "Requirement already satisfied: surprise in /usr/local/lib/python3.6/dist-packages (0.1)\n",
            "Requirement already satisfied: scikit-surprise in /usr/local/lib/python3.6/dist-packages (from surprise) (1.0.6)\n",
            "Requirement already satisfied: joblib>=0.11 in /usr/local/lib/python3.6/dist-packages (from scikit-surprise->surprise) (0.12.5)\n",
            "Requirement already satisfied: six>=1.10.0 in /usr/local/lib/python3.6/dist-packages (from scikit-surprise->surprise) (1.12.0)\n",
            "Requirement already satisfied: scipy>=1.0.0 in /usr/local/lib/python3.6/dist-packages (from scikit-surprise->surprise) (1.2.1)\n",
            "Requirement already satisfied: numpy>=1.11.2 in /usr/local/lib/python3.6/dist-packages (from scikit-surprise->surprise) (1.16.3)\n"
          ],
          "name": "stdout"
        }
      ]
    },
    {
      "metadata": {
        "id": "TkIFcZ1S7aho",
        "colab_type": "code",
        "colab": {}
      },
      "cell_type": "code",
      "source": [
        ""
      ],
      "execution_count": 0,
      "outputs": []
    },
    {
      "metadata": {
        "id": "SV11X9KT5TlF",
        "colab_type": "code",
        "colab": {}
      },
      "cell_type": "code",
      "source": [
        "import pandas as pd\n",
        "import numpy as np\n",
        "from IPython.core.interactiveshell import InteractiveShell\n",
        "InteractiveShell.ast_node_interactivity = \"all\"\n",
        "import seaborn as sns\n",
        "import matplotlib.pyplot as plt \n",
        "\n",
        "from sklearn.utils import shuffle\n",
        "from sklearn.model_selection import train_test_split"
      ],
      "execution_count": 0,
      "outputs": []
    },
    {
      "metadata": {
        "id": "2b0LSc8H8iCG",
        "colab_type": "code",
        "colab": {}
      },
      "cell_type": "code",
      "source": [
        "rating_elect = pd.read_csv(\"ratings_Electronics.csv\",header=None)"
      ],
      "execution_count": 0,
      "outputs": []
    },
    {
      "metadata": {
        "id": "mLCeGPI7dcCT",
        "colab_type": "code",
        "outputId": "1ad871ea-b3c4-4e65-a3af-35028e9e7999",
        "colab": {
          "base_uri": "https://localhost:8080/",
          "height": 35
        }
      },
      "cell_type": "code",
      "source": [
        "rating_elect.shape"
      ],
      "execution_count": 5,
      "outputs": [
        {
          "output_type": "execute_result",
          "data": {
            "text/plain": [
              "(7824482, 4)"
            ]
          },
          "metadata": {
            "tags": []
          },
          "execution_count": 5
        }
      ]
    },
    {
      "metadata": {
        "id": "a_cdG-9AHOjn",
        "colab_type": "code",
        "colab": {
          "base_uri": "https://localhost:8080/",
          "height": 183
        },
        "outputId": "27047b1a-c87a-48b8-a773-2dd8a92a7a63"
      },
      "cell_type": "code",
      "source": [
        "rating_elect.info()"
      ],
      "execution_count": 6,
      "outputs": [
        {
          "output_type": "stream",
          "text": [
            "<class 'pandas.core.frame.DataFrame'>\n",
            "RangeIndex: 7824482 entries, 0 to 7824481\n",
            "Data columns (total 4 columns):\n",
            "0    object\n",
            "1    object\n",
            "2    float64\n",
            "3    int64\n",
            "dtypes: float64(1), int64(1), object(2)\n",
            "memory usage: 238.8+ MB\n"
          ],
          "name": "stdout"
        }
      ]
    },
    {
      "metadata": {
        "id": "VALq0Of49ivp",
        "colab_type": "code",
        "outputId": "8eb17bb2-7f33-4cfa-8a68-7ec0dab4bd60",
        "colab": {
          "base_uri": "https://localhost:8080/",
          "height": 206
        }
      },
      "cell_type": "code",
      "source": [
        "rating_elect.head()"
      ],
      "execution_count": 7,
      "outputs": [
        {
          "output_type": "execute_result",
          "data": {
            "text/html": [
              "<div>\n",
              "<style scoped>\n",
              "    .dataframe tbody tr th:only-of-type {\n",
              "        vertical-align: middle;\n",
              "    }\n",
              "\n",
              "    .dataframe tbody tr th {\n",
              "        vertical-align: top;\n",
              "    }\n",
              "\n",
              "    .dataframe thead th {\n",
              "        text-align: right;\n",
              "    }\n",
              "</style>\n",
              "<table border=\"1\" class=\"dataframe\">\n",
              "  <thead>\n",
              "    <tr style=\"text-align: right;\">\n",
              "      <th></th>\n",
              "      <th>0</th>\n",
              "      <th>1</th>\n",
              "      <th>2</th>\n",
              "      <th>3</th>\n",
              "    </tr>\n",
              "  </thead>\n",
              "  <tbody>\n",
              "    <tr>\n",
              "      <th>0</th>\n",
              "      <td>AKM1MP6P0OYPR</td>\n",
              "      <td>0132793040</td>\n",
              "      <td>5.0</td>\n",
              "      <td>1365811200</td>\n",
              "    </tr>\n",
              "    <tr>\n",
              "      <th>1</th>\n",
              "      <td>A2CX7LUOHB2NDG</td>\n",
              "      <td>0321732944</td>\n",
              "      <td>5.0</td>\n",
              "      <td>1341100800</td>\n",
              "    </tr>\n",
              "    <tr>\n",
              "      <th>2</th>\n",
              "      <td>A2NWSAGRHCP8N5</td>\n",
              "      <td>0439886341</td>\n",
              "      <td>1.0</td>\n",
              "      <td>1367193600</td>\n",
              "    </tr>\n",
              "    <tr>\n",
              "      <th>3</th>\n",
              "      <td>A2WNBOD3WNDNKT</td>\n",
              "      <td>0439886341</td>\n",
              "      <td>3.0</td>\n",
              "      <td>1374451200</td>\n",
              "    </tr>\n",
              "    <tr>\n",
              "      <th>4</th>\n",
              "      <td>A1GI0U4ZRJA8WN</td>\n",
              "      <td>0439886341</td>\n",
              "      <td>1.0</td>\n",
              "      <td>1334707200</td>\n",
              "    </tr>\n",
              "  </tbody>\n",
              "</table>\n",
              "</div>"
            ],
            "text/plain": [
              "                0           1    2           3\n",
              "0   AKM1MP6P0OYPR  0132793040  5.0  1365811200\n",
              "1  A2CX7LUOHB2NDG  0321732944  5.0  1341100800\n",
              "2  A2NWSAGRHCP8N5  0439886341  1.0  1367193600\n",
              "3  A2WNBOD3WNDNKT  0439886341  3.0  1374451200\n",
              "4  A1GI0U4ZRJA8WN  0439886341  1.0  1334707200"
            ]
          },
          "metadata": {
            "tags": []
          },
          "execution_count": 7
        }
      ]
    },
    {
      "metadata": {
        "id": "4IXWwW4K9uwu",
        "colab_type": "code",
        "colab": {}
      },
      "cell_type": "code",
      "source": [
        "product_rating = pd.DataFrame(rating_elect.values,columns = [\"user_id\",\"product_id\",\"rating\",\"timestamp\"])"
      ],
      "execution_count": 0,
      "outputs": []
    },
    {
      "metadata": {
        "id": "K4psd0nhAx0Q",
        "colab_type": "code",
        "outputId": "c00ef7cf-24d9-423f-8f00-a7b907b3b358",
        "colab": {
          "base_uri": "https://localhost:8080/",
          "height": 35
        }
      },
      "cell_type": "code",
      "source": [
        "product_rating.shape"
      ],
      "execution_count": 9,
      "outputs": [
        {
          "output_type": "execute_result",
          "data": {
            "text/plain": [
              "(7824482, 4)"
            ]
          },
          "metadata": {
            "tags": []
          },
          "execution_count": 9
        }
      ]
    },
    {
      "metadata": {
        "id": "MYeeMK6EA3CY",
        "colab_type": "code",
        "outputId": "33b311df-7edc-4b2f-b84e-2caf46dc80ec",
        "colab": {
          "base_uri": "https://localhost:8080/",
          "height": 206
        }
      },
      "cell_type": "code",
      "source": [
        "product_rating.head()"
      ],
      "execution_count": 10,
      "outputs": [
        {
          "output_type": "execute_result",
          "data": {
            "text/html": [
              "<div>\n",
              "<style scoped>\n",
              "    .dataframe tbody tr th:only-of-type {\n",
              "        vertical-align: middle;\n",
              "    }\n",
              "\n",
              "    .dataframe tbody tr th {\n",
              "        vertical-align: top;\n",
              "    }\n",
              "\n",
              "    .dataframe thead th {\n",
              "        text-align: right;\n",
              "    }\n",
              "</style>\n",
              "<table border=\"1\" class=\"dataframe\">\n",
              "  <thead>\n",
              "    <tr style=\"text-align: right;\">\n",
              "      <th></th>\n",
              "      <th>user_id</th>\n",
              "      <th>product_id</th>\n",
              "      <th>rating</th>\n",
              "      <th>timestamp</th>\n",
              "    </tr>\n",
              "  </thead>\n",
              "  <tbody>\n",
              "    <tr>\n",
              "      <th>0</th>\n",
              "      <td>AKM1MP6P0OYPR</td>\n",
              "      <td>0132793040</td>\n",
              "      <td>5</td>\n",
              "      <td>1365811200</td>\n",
              "    </tr>\n",
              "    <tr>\n",
              "      <th>1</th>\n",
              "      <td>A2CX7LUOHB2NDG</td>\n",
              "      <td>0321732944</td>\n",
              "      <td>5</td>\n",
              "      <td>1341100800</td>\n",
              "    </tr>\n",
              "    <tr>\n",
              "      <th>2</th>\n",
              "      <td>A2NWSAGRHCP8N5</td>\n",
              "      <td>0439886341</td>\n",
              "      <td>1</td>\n",
              "      <td>1367193600</td>\n",
              "    </tr>\n",
              "    <tr>\n",
              "      <th>3</th>\n",
              "      <td>A2WNBOD3WNDNKT</td>\n",
              "      <td>0439886341</td>\n",
              "      <td>3</td>\n",
              "      <td>1374451200</td>\n",
              "    </tr>\n",
              "    <tr>\n",
              "      <th>4</th>\n",
              "      <td>A1GI0U4ZRJA8WN</td>\n",
              "      <td>0439886341</td>\n",
              "      <td>1</td>\n",
              "      <td>1334707200</td>\n",
              "    </tr>\n",
              "  </tbody>\n",
              "</table>\n",
              "</div>"
            ],
            "text/plain": [
              "          user_id  product_id rating   timestamp\n",
              "0   AKM1MP6P0OYPR  0132793040      5  1365811200\n",
              "1  A2CX7LUOHB2NDG  0321732944      5  1341100800\n",
              "2  A2NWSAGRHCP8N5  0439886341      1  1367193600\n",
              "3  A2WNBOD3WNDNKT  0439886341      3  1374451200\n",
              "4  A1GI0U4ZRJA8WN  0439886341      1  1334707200"
            ]
          },
          "metadata": {
            "tags": []
          },
          "execution_count": 10
        }
      ]
    },
    {
      "metadata": {
        "id": "0TbLuQhWBNQU",
        "colab_type": "code",
        "colab": {}
      },
      "cell_type": "code",
      "source": [
        "product_rating.drop(columns = \"timestamp\",inplace =True,axis =1)"
      ],
      "execution_count": 0,
      "outputs": []
    },
    {
      "metadata": {
        "id": "neJEsRyVBWkd",
        "colab_type": "code",
        "outputId": "9d6bcee6-15c0-4418-c847-9fb0930720f6",
        "colab": {
          "base_uri": "https://localhost:8080/",
          "height": 206
        }
      },
      "cell_type": "code",
      "source": [
        "product_rating.head()"
      ],
      "execution_count": 12,
      "outputs": [
        {
          "output_type": "execute_result",
          "data": {
            "text/html": [
              "<div>\n",
              "<style scoped>\n",
              "    .dataframe tbody tr th:only-of-type {\n",
              "        vertical-align: middle;\n",
              "    }\n",
              "\n",
              "    .dataframe tbody tr th {\n",
              "        vertical-align: top;\n",
              "    }\n",
              "\n",
              "    .dataframe thead th {\n",
              "        text-align: right;\n",
              "    }\n",
              "</style>\n",
              "<table border=\"1\" class=\"dataframe\">\n",
              "  <thead>\n",
              "    <tr style=\"text-align: right;\">\n",
              "      <th></th>\n",
              "      <th>user_id</th>\n",
              "      <th>product_id</th>\n",
              "      <th>rating</th>\n",
              "    </tr>\n",
              "  </thead>\n",
              "  <tbody>\n",
              "    <tr>\n",
              "      <th>0</th>\n",
              "      <td>AKM1MP6P0OYPR</td>\n",
              "      <td>0132793040</td>\n",
              "      <td>5</td>\n",
              "    </tr>\n",
              "    <tr>\n",
              "      <th>1</th>\n",
              "      <td>A2CX7LUOHB2NDG</td>\n",
              "      <td>0321732944</td>\n",
              "      <td>5</td>\n",
              "    </tr>\n",
              "    <tr>\n",
              "      <th>2</th>\n",
              "      <td>A2NWSAGRHCP8N5</td>\n",
              "      <td>0439886341</td>\n",
              "      <td>1</td>\n",
              "    </tr>\n",
              "    <tr>\n",
              "      <th>3</th>\n",
              "      <td>A2WNBOD3WNDNKT</td>\n",
              "      <td>0439886341</td>\n",
              "      <td>3</td>\n",
              "    </tr>\n",
              "    <tr>\n",
              "      <th>4</th>\n",
              "      <td>A1GI0U4ZRJA8WN</td>\n",
              "      <td>0439886341</td>\n",
              "      <td>1</td>\n",
              "    </tr>\n",
              "  </tbody>\n",
              "</table>\n",
              "</div>"
            ],
            "text/plain": [
              "          user_id  product_id rating\n",
              "0   AKM1MP6P0OYPR  0132793040      5\n",
              "1  A2CX7LUOHB2NDG  0321732944      5\n",
              "2  A2NWSAGRHCP8N5  0439886341      1\n",
              "3  A2WNBOD3WNDNKT  0439886341      3\n",
              "4  A1GI0U4ZRJA8WN  0439886341      1"
            ]
          },
          "metadata": {
            "tags": []
          },
          "execution_count": 12
        }
      ]
    },
    {
      "metadata": {
        "id": "4evOwCT1B7Ji",
        "colab_type": "code",
        "outputId": "bfdaa860-3773-457f-d6e8-80e4dfbe4400",
        "colab": {
          "base_uri": "https://localhost:8080/",
          "height": 35
        }
      },
      "cell_type": "code",
      "source": [
        "product_rating['user_id'].count()"
      ],
      "execution_count": 13,
      "outputs": [
        {
          "output_type": "execute_result",
          "data": {
            "text/plain": [
              "7824482"
            ]
          },
          "metadata": {
            "tags": []
          },
          "execution_count": 13
        }
      ]
    },
    {
      "metadata": {
        "id": "6ILsT-68CP-g",
        "colab_type": "code",
        "colab": {}
      },
      "cell_type": "code",
      "source": [
        "fetching_users = product_rating.groupby(['user_id']).count()"
      ],
      "execution_count": 0,
      "outputs": []
    },
    {
      "metadata": {
        "id": "oMWF0BzIIy4Y",
        "colab_type": "code",
        "outputId": "8ddf8281-eb5e-4c42-c2d2-57f4bec790dd",
        "colab": {
          "base_uri": "https://localhost:8080/",
          "height": 91
        }
      },
      "cell_type": "code",
      "source": [
        "product_rating.isnull().sum()"
      ],
      "execution_count": 15,
      "outputs": [
        {
          "output_type": "execute_result",
          "data": {
            "text/plain": [
              "user_id       0\n",
              "product_id    0\n",
              "rating        0\n",
              "dtype: int64"
            ]
          },
          "metadata": {
            "tags": []
          },
          "execution_count": 15
        }
      ]
    },
    {
      "metadata": {
        "id": "nRqECpREJhek",
        "colab_type": "code",
        "outputId": "f4bc1f16-d248-40cd-a40b-1f66d32f09a5",
        "colab": {
          "base_uri": "https://localhost:8080/",
          "height": 49
        }
      },
      "cell_type": "code",
      "source": [
        "product_rating[product_rating[\"rating\"].isnull()]"
      ],
      "execution_count": 16,
      "outputs": [
        {
          "output_type": "execute_result",
          "data": {
            "text/html": [
              "<div>\n",
              "<style scoped>\n",
              "    .dataframe tbody tr th:only-of-type {\n",
              "        vertical-align: middle;\n",
              "    }\n",
              "\n",
              "    .dataframe tbody tr th {\n",
              "        vertical-align: top;\n",
              "    }\n",
              "\n",
              "    .dataframe thead th {\n",
              "        text-align: right;\n",
              "    }\n",
              "</style>\n",
              "<table border=\"1\" class=\"dataframe\">\n",
              "  <thead>\n",
              "    <tr style=\"text-align: right;\">\n",
              "      <th></th>\n",
              "      <th>user_id</th>\n",
              "      <th>product_id</th>\n",
              "      <th>rating</th>\n",
              "    </tr>\n",
              "  </thead>\n",
              "  <tbody>\n",
              "  </tbody>\n",
              "</table>\n",
              "</div>"
            ],
            "text/plain": [
              "Empty DataFrame\n",
              "Columns: [user_id, product_id, rating]\n",
              "Index: []"
            ]
          },
          "metadata": {
            "tags": []
          },
          "execution_count": 16
        }
      ]
    },
    {
      "metadata": {
        "id": "wbSC9JXMKiLR",
        "colab_type": "code",
        "colab": {}
      },
      "cell_type": "code",
      "source": [
        ""
      ],
      "execution_count": 0,
      "outputs": []
    },
    {
      "metadata": {
        "id": "Ezh56YDILU_Y",
        "colab_type": "code",
        "outputId": "30d45963-d876-42ee-f660-28d16094ae8c",
        "colab": {
          "base_uri": "https://localhost:8080/",
          "height": 35
        }
      },
      "cell_type": "code",
      "source": [
        "product_rating[\"rating\"].unique()"
      ],
      "execution_count": 17,
      "outputs": [
        {
          "output_type": "execute_result",
          "data": {
            "text/plain": [
              "array([5.0, 1.0, 3.0, 2.0, 4.0], dtype=object)"
            ]
          },
          "metadata": {
            "tags": []
          },
          "execution_count": 17
        }
      ]
    },
    {
      "metadata": {
        "id": "9le27bxPKmjp",
        "colab_type": "code",
        "colab": {}
      },
      "cell_type": "code",
      "source": [
        "#product_rating[product_rating[\"product_id\"] =='B']\n",
        "#product_rating[product_rating[\"user_id\"] =='A156XWKMCE31UT']\n",
        "#print(\"Both ways it has only one value, so not possible to take mean and replace it. Anyhow we are gng to use only those user who have rated 50 or more \")"
      ],
      "execution_count": 0,
      "outputs": []
    },
    {
      "metadata": {
        "id": "0lNtKw69D9FD",
        "colab_type": "code",
        "colab": {}
      },
      "cell_type": "code",
      "source": [
        "fetching_users.reset_index(inplace = True)"
      ],
      "execution_count": 0,
      "outputs": []
    },
    {
      "metadata": {
        "id": "yUtvAQNRILSs",
        "colab_type": "code",
        "colab": {
          "base_uri": "https://localhost:8080/",
          "height": 206
        },
        "outputId": "72fa8994-d511-436a-81d5-39d26f29dd59"
      },
      "cell_type": "code",
      "source": [
        "fetching_users.head()"
      ],
      "execution_count": 19,
      "outputs": [
        {
          "output_type": "execute_result",
          "data": {
            "text/html": [
              "<div>\n",
              "<style scoped>\n",
              "    .dataframe tbody tr th:only-of-type {\n",
              "        vertical-align: middle;\n",
              "    }\n",
              "\n",
              "    .dataframe tbody tr th {\n",
              "        vertical-align: top;\n",
              "    }\n",
              "\n",
              "    .dataframe thead th {\n",
              "        text-align: right;\n",
              "    }\n",
              "</style>\n",
              "<table border=\"1\" class=\"dataframe\">\n",
              "  <thead>\n",
              "    <tr style=\"text-align: right;\">\n",
              "      <th></th>\n",
              "      <th>user_id</th>\n",
              "      <th>product_id</th>\n",
              "      <th>rating</th>\n",
              "    </tr>\n",
              "  </thead>\n",
              "  <tbody>\n",
              "    <tr>\n",
              "      <th>0</th>\n",
              "      <td>A00000262KYZUE4J55XGL</td>\n",
              "      <td>1</td>\n",
              "      <td>1</td>\n",
              "    </tr>\n",
              "    <tr>\n",
              "      <th>1</th>\n",
              "      <td>A000063614T1OE0BUSKUT</td>\n",
              "      <td>2</td>\n",
              "      <td>2</td>\n",
              "    </tr>\n",
              "    <tr>\n",
              "      <th>2</th>\n",
              "      <td>A00009182QVLSWIGHLS1B</td>\n",
              "      <td>1</td>\n",
              "      <td>1</td>\n",
              "    </tr>\n",
              "    <tr>\n",
              "      <th>3</th>\n",
              "      <td>A00009661LC9LQPGKJ24G</td>\n",
              "      <td>1</td>\n",
              "      <td>1</td>\n",
              "    </tr>\n",
              "    <tr>\n",
              "      <th>4</th>\n",
              "      <td>A00010809P09NUU6ZP6H</td>\n",
              "      <td>1</td>\n",
              "      <td>1</td>\n",
              "    </tr>\n",
              "  </tbody>\n",
              "</table>\n",
              "</div>"
            ],
            "text/plain": [
              "                 user_id  product_id  rating\n",
              "0  A00000262KYZUE4J55XGL           1       1\n",
              "1  A000063614T1OE0BUSKUT           2       2\n",
              "2  A00009182QVLSWIGHLS1B           1       1\n",
              "3  A00009661LC9LQPGKJ24G           1       1\n",
              "4   A00010809P09NUU6ZP6H           1       1"
            ]
          },
          "metadata": {
            "tags": []
          },
          "execution_count": 19
        }
      ]
    },
    {
      "metadata": {
        "id": "ewun6zhSEDTK",
        "colab_type": "code",
        "colab": {}
      },
      "cell_type": "code",
      "source": [
        "fetched_user = fetching_users.loc[fetching_users[\"rating\"]>=50]"
      ],
      "execution_count": 0,
      "outputs": []
    },
    {
      "metadata": {
        "id": "nJ5KgxMKGFEG",
        "colab_type": "code",
        "outputId": "a7f1fb42-167a-48f4-e46f-9339866ee991",
        "colab": {
          "base_uri": "https://localhost:8080/",
          "height": 35
        }
      },
      "cell_type": "code",
      "source": [
        "type(fetched_user)"
      ],
      "execution_count": 21,
      "outputs": [
        {
          "output_type": "execute_result",
          "data": {
            "text/plain": [
              "pandas.core.frame.DataFrame"
            ]
          },
          "metadata": {
            "tags": []
          },
          "execution_count": 21
        }
      ]
    },
    {
      "metadata": {
        "id": "8TEG1LlBO49C",
        "colab_type": "code",
        "colab": {}
      },
      "cell_type": "code",
      "source": [
        "rating_data = pd.merge(product_rating, fetched_user, on='user_id', how='inner')"
      ],
      "execution_count": 0,
      "outputs": []
    },
    {
      "metadata": {
        "id": "aQXJ9UqBR7qU",
        "colab_type": "code",
        "colab": {}
      },
      "cell_type": "code",
      "source": [
        "rating_data.drop(columns = [\"product_id_y\",\"rating_y\"],axis =1,inplace =True)"
      ],
      "execution_count": 0,
      "outputs": []
    },
    {
      "metadata": {
        "id": "oPV6PZleQEdO",
        "colab_type": "code",
        "colab": {}
      },
      "cell_type": "code",
      "source": [
        "rating_data.columns = ['user_id', 'product_id', 'rating']"
      ],
      "execution_count": 0,
      "outputs": []
    },
    {
      "metadata": {
        "id": "d3G-9oovQJoJ",
        "colab_type": "code",
        "outputId": "df5a1e62-cc25-470e-8d17-90813263a267",
        "colab": {
          "base_uri": "https://localhost:8080/",
          "height": 206
        }
      },
      "cell_type": "code",
      "source": [
        "rating_data.head()"
      ],
      "execution_count": 25,
      "outputs": [
        {
          "output_type": "execute_result",
          "data": {
            "text/html": [
              "<div>\n",
              "<style scoped>\n",
              "    .dataframe tbody tr th:only-of-type {\n",
              "        vertical-align: middle;\n",
              "    }\n",
              "\n",
              "    .dataframe tbody tr th {\n",
              "        vertical-align: top;\n",
              "    }\n",
              "\n",
              "    .dataframe thead th {\n",
              "        text-align: right;\n",
              "    }\n",
              "</style>\n",
              "<table border=\"1\" class=\"dataframe\">\n",
              "  <thead>\n",
              "    <tr style=\"text-align: right;\">\n",
              "      <th></th>\n",
              "      <th>user_id</th>\n",
              "      <th>product_id</th>\n",
              "      <th>rating</th>\n",
              "    </tr>\n",
              "  </thead>\n",
              "  <tbody>\n",
              "    <tr>\n",
              "      <th>0</th>\n",
              "      <td>A3BY5KCNQZXV5U</td>\n",
              "      <td>0594451647</td>\n",
              "      <td>5</td>\n",
              "    </tr>\n",
              "    <tr>\n",
              "      <th>1</th>\n",
              "      <td>A3BY5KCNQZXV5U</td>\n",
              "      <td>B00000JD4V</td>\n",
              "      <td>4</td>\n",
              "    </tr>\n",
              "    <tr>\n",
              "      <th>2</th>\n",
              "      <td>A3BY5KCNQZXV5U</td>\n",
              "      <td>B000063574</td>\n",
              "      <td>5</td>\n",
              "    </tr>\n",
              "    <tr>\n",
              "      <th>3</th>\n",
              "      <td>A3BY5KCNQZXV5U</td>\n",
              "      <td>B0000CDJP8</td>\n",
              "      <td>5</td>\n",
              "    </tr>\n",
              "    <tr>\n",
              "      <th>4</th>\n",
              "      <td>A3BY5KCNQZXV5U</td>\n",
              "      <td>B0007Y794O</td>\n",
              "      <td>5</td>\n",
              "    </tr>\n",
              "  </tbody>\n",
              "</table>\n",
              "</div>"
            ],
            "text/plain": [
              "          user_id  product_id rating\n",
              "0  A3BY5KCNQZXV5U  0594451647      5\n",
              "1  A3BY5KCNQZXV5U  B00000JD4V      4\n",
              "2  A3BY5KCNQZXV5U  B000063574      5\n",
              "3  A3BY5KCNQZXV5U  B0000CDJP8      5\n",
              "4  A3BY5KCNQZXV5U  B0007Y794O      5"
            ]
          },
          "metadata": {
            "tags": []
          },
          "execution_count": 25
        }
      ]
    },
    {
      "metadata": {
        "id": "ujL1fsIWSgXu",
        "colab_type": "code",
        "outputId": "df704909-8a0e-41b6-cb19-5d9fcb56c57c",
        "colab": {
          "base_uri": "https://localhost:8080/",
          "height": 427
        }
      },
      "cell_type": "code",
      "source": [
        "rating_data.rating = rating_data.rating.astype('int64') \n",
        "rating_data.hist(column=\"rating\",grid = True,figsize = (15,6))\n",
        "plt.show()"
      ],
      "execution_count": 26,
      "outputs": [
        {
          "output_type": "execute_result",
          "data": {
            "text/plain": [
              "array([[<matplotlib.axes._subplots.AxesSubplot object at 0x7f60faa5db00>]],\n",
              "      dtype=object)"
            ]
          },
          "metadata": {
            "tags": []
          },
          "execution_count": 26
        },
        {
          "output_type": "display_data",
          "data": {
            "image/png": "[encoded data removed]",
            "text/plain": [
              "<Figure size 1080x432 with 1 Axes>"
            ]
          },
          "metadata": {
            "tags": []
          }
        }
      ]
    },
    {
      "metadata": {
        "id": "sAiosQYxSowu",
        "colab_type": "code",
        "outputId": "41b4c6c3-6f7f-4af4-88e9-4c6c1dd4eaaf",
        "colab": {
          "base_uri": "https://localhost:8080/",
          "height": 35
        }
      },
      "cell_type": "code",
      "source": [
        "print(\"Popularity based Recommendation system\")"
      ],
      "execution_count": 27,
      "outputs": [
        {
          "output_type": "stream",
          "text": [
            "Popularity based Recommendation system\n"
          ],
          "name": "stdout"
        }
      ]
    },
    {
      "metadata": {
        "id": "B4QAWiOQ8wcd",
        "colab_type": "code",
        "outputId": "c66632b3-0a10-4b0c-d0d6-b2dd53ca40b6",
        "colab": {
          "base_uri": "https://localhost:8080/",
          "height": 109
        }
      },
      "cell_type": "code",
      "source": [
        "rating_data.shape\n",
        "print('\\n')\n",
        "len(rating_data[\"product_id\"].unique())\n",
        "print('\\n')\n",
        "len(rating_data[\"user_id\"].unique())"
      ],
      "execution_count": 28,
      "outputs": [
        {
          "output_type": "execute_result",
          "data": {
            "text/plain": [
              "(125871, 3)"
            ]
          },
          "metadata": {
            "tags": []
          },
          "execution_count": 28
        },
        {
          "output_type": "stream",
          "text": [
            "\n",
            "\n"
          ],
          "name": "stdout"
        },
        {
          "output_type": "execute_result",
          "data": {
            "text/plain": [
              "48190"
            ]
          },
          "metadata": {
            "tags": []
          },
          "execution_count": 28
        },
        {
          "output_type": "stream",
          "text": [
            "\n",
            "\n"
          ],
          "name": "stdout"
        },
        {
          "output_type": "execute_result",
          "data": {
            "text/plain": [
              "1540"
            ]
          },
          "metadata": {
            "tags": []
          },
          "execution_count": 28
        }
      ]
    },
    {
      "metadata": {
        "id": "kd50TQmVv1Mm",
        "colab_type": "code",
        "colab": {}
      },
      "cell_type": "code",
      "source": [
        "#R_df = rating_data.pivot(index = 'user_id', columns ='product_id', values = 'rating').fillna(0)\n",
        "#R_df.tail()"
      ],
      "execution_count": 0,
      "outputs": []
    },
    {
      "metadata": {
        "id": "gusK3uLe8lnA",
        "colab_type": "code",
        "outputId": "7261baff-b350-4c35-a8cc-e0eebeffd58c",
        "colab": {
          "base_uri": "https://localhost:8080/",
          "height": 146
        }
      },
      "cell_type": "code",
      "source": [
        "rating_data.groupby(by='product_id')['rating'].mean().sort_values(ascending=False).head(5)"
      ],
      "execution_count": 29,
      "outputs": [
        {
          "output_type": "execute_result",
          "data": {
            "text/plain": [
              "product_id\n",
              "B00LKG1MC8    5.0\n",
              "B002QUZM3M    5.0\n",
              "B002QWNZHU    5.0\n",
              "B002QXZPFE    5.0\n",
              "B002R0DWNS    5.0\n",
              "Name: rating, dtype: float64"
            ]
          },
          "metadata": {
            "tags": []
          },
          "execution_count": 29
        }
      ]
    },
    {
      "metadata": {
        "id": "pDY8qqjaMBxg",
        "colab_type": "code",
        "colab": {}
      },
      "cell_type": "code",
      "source": [
        ""
      ],
      "execution_count": 0,
      "outputs": []
    },
    {
      "metadata": {
        "id": "Bs0drX8t9S-e",
        "colab_type": "code",
        "outputId": "9adfc4d8-0d3f-4954-eb0d-9a6a70abe50f",
        "colab": {
          "base_uri": "https://localhost:8080/",
          "height": 35
        }
      },
      "cell_type": "code",
      "source": [
        "print(\"Top 5 products has been recommended on all data\")"
      ],
      "execution_count": 30,
      "outputs": [
        {
          "output_type": "stream",
          "text": [
            "Top 5 products has been recommended on all data\n"
          ],
          "name": "stdout"
        }
      ]
    },
    {
      "metadata": {
        "id": "M2ex7bes6C3U",
        "colab_type": "code",
        "colab": {}
      },
      "cell_type": "code",
      "source": [
        "#Trying to do for train and test for popularity based model"
      ],
      "execution_count": 0,
      "outputs": []
    },
    {
      "metadata": {
        "id": "_XJ3AkbM6DJS",
        "colab_type": "code",
        "colab": {}
      },
      "cell_type": "code",
      "source": [
        "from sklearn.model_selection import train_test_split"
      ],
      "execution_count": 0,
      "outputs": []
    },
    {
      "metadata": {
        "id": "gsHLYj3w6DE6",
        "colab_type": "code",
        "colab": {}
      },
      "cell_type": "code",
      "source": [
        "X_train, X_test = train_test_split(rating_data, test_size = 0.3, random_state = 1)"
      ],
      "execution_count": 0,
      "outputs": []
    },
    {
      "metadata": {
        "id": "6e08LGRVNzWi",
        "colab_type": "code",
        "colab": {}
      },
      "cell_type": "code",
      "source": [
        ""
      ],
      "execution_count": 0,
      "outputs": []
    },
    {
      "metadata": {
        "id": "5-xy4FBm6DBA",
        "colab_type": "code",
        "colab": {}
      },
      "cell_type": "code",
      "source": [
        "X_rating_value = X_train.groupby(by='product_id')['rating'].mean().sort_values(ascending=False)"
      ],
      "execution_count": 0,
      "outputs": []
    },
    {
      "metadata": {
        "id": "La-QehII6C85",
        "colab_type": "code",
        "colab": {}
      },
      "cell_type": "code",
      "source": [
        "X_rating_test_value = X_test.groupby(by='product_id')['rating'].mean().sort_values(ascending=False)"
      ],
      "execution_count": 0,
      "outputs": []
    },
    {
      "metadata": {
        "id": "OP9Mwmkr6CwZ",
        "colab_type": "code",
        "colab": {
          "base_uri": "https://localhost:8080/",
          "height": 206
        },
        "outputId": "2d9d8c7d-ca1d-4ada-c3db-c4975b98fcc9"
      },
      "cell_type": "code",
      "source": [
        "train_value = X_rating_value.reset_index(name = 'rating')\n",
        "train_value.head()"
      ],
      "execution_count": 35,
      "outputs": [
        {
          "output_type": "execute_result",
          "data": {
            "text/html": [
              "<div>\n",
              "<style scoped>\n",
              "    .dataframe tbody tr th:only-of-type {\n",
              "        vertical-align: middle;\n",
              "    }\n",
              "\n",
              "    .dataframe tbody tr th {\n",
              "        vertical-align: top;\n",
              "    }\n",
              "\n",
              "    .dataframe thead th {\n",
              "        text-align: right;\n",
              "    }\n",
              "</style>\n",
              "<table border=\"1\" class=\"dataframe\">\n",
              "  <thead>\n",
              "    <tr style=\"text-align: right;\">\n",
              "      <th></th>\n",
              "      <th>product_id</th>\n",
              "      <th>rating</th>\n",
              "    </tr>\n",
              "  </thead>\n",
              "  <tbody>\n",
              "    <tr>\n",
              "      <th>0</th>\n",
              "      <td>0594451647</td>\n",
              "      <td>5.0</td>\n",
              "    </tr>\n",
              "    <tr>\n",
              "      <th>1</th>\n",
              "      <td>B0013HOW6M</td>\n",
              "      <td>5.0</td>\n",
              "    </tr>\n",
              "    <tr>\n",
              "      <th>2</th>\n",
              "      <td>B0013FFN12</td>\n",
              "      <td>5.0</td>\n",
              "    </tr>\n",
              "    <tr>\n",
              "      <th>3</th>\n",
              "      <td>B0050MM40C</td>\n",
              "      <td>5.0</td>\n",
              "    </tr>\n",
              "    <tr>\n",
              "      <th>4</th>\n",
              "      <td>B0050MX77G</td>\n",
              "      <td>5.0</td>\n",
              "    </tr>\n",
              "  </tbody>\n",
              "</table>\n",
              "</div>"
            ],
            "text/plain": [
              "   product_id  rating\n",
              "0  0594451647     5.0\n",
              "1  B0013HOW6M     5.0\n",
              "2  B0013FFN12     5.0\n",
              "3  B0050MM40C     5.0\n",
              "4  B0050MX77G     5.0"
            ]
          },
          "metadata": {
            "tags": []
          },
          "execution_count": 35
        }
      ]
    },
    {
      "metadata": {
        "id": "34Cfdj79Oorb",
        "colab_type": "code",
        "colab": {
          "base_uri": "https://localhost:8080/",
          "height": 206
        },
        "outputId": "762d7197-8e29-44dc-c17c-afffd25c675a"
      },
      "cell_type": "code",
      "source": [
        "test_value = X_rating_test_value.reset_index(name = 'rating')\n",
        "test_value.head()"
      ],
      "execution_count": 36,
      "outputs": [
        {
          "output_type": "execute_result",
          "data": {
            "text/html": [
              "<div>\n",
              "<style scoped>\n",
              "    .dataframe tbody tr th:only-of-type {\n",
              "        vertical-align: middle;\n",
              "    }\n",
              "\n",
              "    .dataframe tbody tr th {\n",
              "        vertical-align: top;\n",
              "    }\n",
              "\n",
              "    .dataframe thead th {\n",
              "        text-align: right;\n",
              "    }\n",
              "</style>\n",
              "<table border=\"1\" class=\"dataframe\">\n",
              "  <thead>\n",
              "    <tr style=\"text-align: right;\">\n",
              "      <th></th>\n",
              "      <th>product_id</th>\n",
              "      <th>rating</th>\n",
              "    </tr>\n",
              "  </thead>\n",
              "  <tbody>\n",
              "    <tr>\n",
              "      <th>0</th>\n",
              "      <td>B00LKG1MC8</td>\n",
              "      <td>5.0</td>\n",
              "    </tr>\n",
              "    <tr>\n",
              "      <th>1</th>\n",
              "      <td>B002SNCOGA</td>\n",
              "      <td>5.0</td>\n",
              "    </tr>\n",
              "    <tr>\n",
              "      <th>2</th>\n",
              "      <td>B002SW3MP8</td>\n",
              "      <td>5.0</td>\n",
              "    </tr>\n",
              "    <tr>\n",
              "      <th>3</th>\n",
              "      <td>B002SVQJ1S</td>\n",
              "      <td>5.0</td>\n",
              "    </tr>\n",
              "    <tr>\n",
              "      <th>4</th>\n",
              "      <td>B002STGF6O</td>\n",
              "      <td>5.0</td>\n",
              "    </tr>\n",
              "  </tbody>\n",
              "</table>\n",
              "</div>"
            ],
            "text/plain": [
              "   product_id  rating\n",
              "0  B00LKG1MC8     5.0\n",
              "1  B002SNCOGA     5.0\n",
              "2  B002SW3MP8     5.0\n",
              "3  B002SVQJ1S     5.0\n",
              "4  B002STGF6O     5.0"
            ]
          },
          "metadata": {
            "tags": []
          },
          "execution_count": 36
        }
      ]
    },
    {
      "metadata": {
        "id": "bbyKpeOcOo0E",
        "colab_type": "code",
        "colab": {}
      },
      "cell_type": "code",
      "source": [
        "same_products = pd.merge(test_value, train_value, on='product_id', how='inner')"
      ],
      "execution_count": 0,
      "outputs": []
    },
    {
      "metadata": {
        "id": "AnNHPBmbTTp6",
        "colab_type": "code",
        "colab": {
          "base_uri": "https://localhost:8080/",
          "height": 35
        },
        "outputId": "d5052f47-dcbd-41c3-886f-47ae9cc905e8"
      },
      "cell_type": "code",
      "source": [
        "print(\"Finding simillar poducts found in both to get RMSE\")"
      ],
      "execution_count": 38,
      "outputs": [
        {
          "output_type": "stream",
          "text": [
            "Finding simillar poducts found in both to get RMSE\n"
          ],
          "name": "stdout"
        }
      ]
    },
    {
      "metadata": {
        "id": "vyryYiPDOpBl",
        "colab_type": "code",
        "colab": {
          "base_uri": "https://localhost:8080/",
          "height": 206
        },
        "outputId": "8b0e1e3a-5b89-4da5-e5da-f044f616a313"
      },
      "cell_type": "code",
      "source": [
        "same_products.head()"
      ],
      "execution_count": 39,
      "outputs": [
        {
          "output_type": "execute_result",
          "data": {
            "text/html": [
              "<div>\n",
              "<style scoped>\n",
              "    .dataframe tbody tr th:only-of-type {\n",
              "        vertical-align: middle;\n",
              "    }\n",
              "\n",
              "    .dataframe tbody tr th {\n",
              "        vertical-align: top;\n",
              "    }\n",
              "\n",
              "    .dataframe thead th {\n",
              "        text-align: right;\n",
              "    }\n",
              "</style>\n",
              "<table border=\"1\" class=\"dataframe\">\n",
              "  <thead>\n",
              "    <tr style=\"text-align: right;\">\n",
              "      <th></th>\n",
              "      <th>product_id</th>\n",
              "      <th>rating_x</th>\n",
              "      <th>rating_y</th>\n",
              "    </tr>\n",
              "  </thead>\n",
              "  <tbody>\n",
              "    <tr>\n",
              "      <th>0</th>\n",
              "      <td>B002SW3MP8</td>\n",
              "      <td>5.0</td>\n",
              "      <td>3.000000</td>\n",
              "    </tr>\n",
              "    <tr>\n",
              "      <th>1</th>\n",
              "      <td>B002SQKVE4</td>\n",
              "      <td>5.0</td>\n",
              "      <td>5.000000</td>\n",
              "    </tr>\n",
              "    <tr>\n",
              "      <th>2</th>\n",
              "      <td>B002SQKL7Q</td>\n",
              "      <td>5.0</td>\n",
              "      <td>4.818182</td>\n",
              "    </tr>\n",
              "    <tr>\n",
              "      <th>3</th>\n",
              "      <td>B002SQ9ZX2</td>\n",
              "      <td>5.0</td>\n",
              "      <td>5.000000</td>\n",
              "    </tr>\n",
              "    <tr>\n",
              "      <th>4</th>\n",
              "      <td>B002SP2X5U</td>\n",
              "      <td>5.0</td>\n",
              "      <td>2.000000</td>\n",
              "    </tr>\n",
              "  </tbody>\n",
              "</table>\n",
              "</div>"
            ],
            "text/plain": [
              "   product_id  rating_x  rating_y\n",
              "0  B002SW3MP8       5.0  3.000000\n",
              "1  B002SQKVE4       5.0  5.000000\n",
              "2  B002SQKL7Q       5.0  4.818182\n",
              "3  B002SQ9ZX2       5.0  5.000000\n",
              "4  B002SP2X5U       5.0  2.000000"
            ]
          },
          "metadata": {
            "tags": []
          },
          "execution_count": 39
        }
      ]
    },
    {
      "metadata": {
        "id": "ND7wSKCBOo8t",
        "colab_type": "code",
        "colab": {
          "base_uri": "https://localhost:8080/",
          "height": 81
        },
        "outputId": "e2617bb9-f1e6-4f7f-be75-7c47abb28575"
      },
      "cell_type": "code",
      "source": [
        "test_value[test_value[\"product_id\"] == \"B002SW3MP8\"]#preicted "
      ],
      "execution_count": 40,
      "outputs": [
        {
          "output_type": "execute_result",
          "data": {
            "text/html": [
              "<div>\n",
              "<style scoped>\n",
              "    .dataframe tbody tr th:only-of-type {\n",
              "        vertical-align: middle;\n",
              "    }\n",
              "\n",
              "    .dataframe tbody tr th {\n",
              "        vertical-align: top;\n",
              "    }\n",
              "\n",
              "    .dataframe thead th {\n",
              "        text-align: right;\n",
              "    }\n",
              "</style>\n",
              "<table border=\"1\" class=\"dataframe\">\n",
              "  <thead>\n",
              "    <tr style=\"text-align: right;\">\n",
              "      <th></th>\n",
              "      <th>product_id</th>\n",
              "      <th>rating</th>\n",
              "    </tr>\n",
              "  </thead>\n",
              "  <tbody>\n",
              "    <tr>\n",
              "      <th>2</th>\n",
              "      <td>B002SW3MP8</td>\n",
              "      <td>5.0</td>\n",
              "    </tr>\n",
              "  </tbody>\n",
              "</table>\n",
              "</div>"
            ],
            "text/plain": [
              "   product_id  rating\n",
              "2  B002SW3MP8     5.0"
            ]
          },
          "metadata": {
            "tags": []
          },
          "execution_count": 40
        }
      ]
    },
    {
      "metadata": {
        "id": "43RVoBxDOo31",
        "colab_type": "code",
        "colab": {
          "base_uri": "https://localhost:8080/",
          "height": 81
        },
        "outputId": "d82eb11e-775c-44d3-fa70-ba680d58318c"
      },
      "cell_type": "code",
      "source": [
        "train_value[train_value[\"product_id\"] == \"B002SW3MP8\"]#actual"
      ],
      "execution_count": 41,
      "outputs": [
        {
          "output_type": "execute_result",
          "data": {
            "text/html": [
              "<div>\n",
              "<style scoped>\n",
              "    .dataframe tbody tr th:only-of-type {\n",
              "        vertical-align: middle;\n",
              "    }\n",
              "\n",
              "    .dataframe tbody tr th {\n",
              "        vertical-align: top;\n",
              "    }\n",
              "\n",
              "    .dataframe thead th {\n",
              "        text-align: right;\n",
              "    }\n",
              "</style>\n",
              "<table border=\"1\" class=\"dataframe\">\n",
              "  <thead>\n",
              "    <tr style=\"text-align: right;\">\n",
              "      <th></th>\n",
              "      <th>product_id</th>\n",
              "      <th>rating</th>\n",
              "    </tr>\n",
              "  </thead>\n",
              "  <tbody>\n",
              "    <tr>\n",
              "      <th>32853</th>\n",
              "      <td>B002SW3MP8</td>\n",
              "      <td>3.0</td>\n",
              "    </tr>\n",
              "  </tbody>\n",
              "</table>\n",
              "</div>"
            ],
            "text/plain": [
              "       product_id  rating\n",
              "32853  B002SW3MP8     3.0"
            ]
          },
          "metadata": {
            "tags": []
          },
          "execution_count": 41
        }
      ]
    },
    {
      "metadata": {
        "id": "GJlsxCTzOol2",
        "colab_type": "code",
        "colab": {}
      },
      "cell_type": "code",
      "source": [
        "from sklearn.metrics import mean_squared_error"
      ],
      "execution_count": 0,
      "outputs": []
    },
    {
      "metadata": {
        "id": "TAjqjGnROofk",
        "colab_type": "code",
        "colab": {
          "base_uri": "https://localhost:8080/",
          "height": 35
        },
        "outputId": "dbef30a5-d777-4ed0-d58b-745adb1fe747"
      },
      "cell_type": "code",
      "source": [
        "print(\"RMSE value\",np.sqrt(mean_squared_error(same_products[\"rating_y\"],same_products[\"rating_x\"])))"
      ],
      "execution_count": 43,
      "outputs": [
        {
          "output_type": "stream",
          "text": [
            "RMSE value 1.0987517295955944\n"
          ],
          "name": "stdout"
        }
      ]
    },
    {
      "metadata": {
        "id": "AVp5LB9k9o8l",
        "colab_type": "code",
        "outputId": "3f4a5f3c-4a6c-4a3d-d70f-3571ecae695d",
        "colab": {
          "base_uri": "https://localhost:8080/",
          "height": 35
        }
      },
      "cell_type": "code",
      "source": [
        "print(\"Start of Build Collaborative Filtering model.\")"
      ],
      "execution_count": 44,
      "outputs": [
        {
          "output_type": "stream",
          "text": [
            "Start of Build Collaborative Filtering model.\n"
          ],
          "name": "stdout"
        }
      ]
    },
    {
      "metadata": {
        "id": "au8JQv8QYwLE",
        "colab_type": "code",
        "colab": {
          "base_uri": "https://localhost:8080/",
          "height": 35
        },
        "outputId": "690cd9b1-df1c-4a76-9954-54585cdf48ee"
      },
      "cell_type": "code",
      "source": [
        "rating_data.shape"
      ],
      "execution_count": 45,
      "outputs": [
        {
          "output_type": "execute_result",
          "data": {
            "text/plain": [
              "(125871, 3)"
            ]
          },
          "metadata": {
            "tags": []
          },
          "execution_count": 45
        }
      ]
    },
    {
      "metadata": {
        "id": "nMREOB8lYwSN",
        "colab_type": "code",
        "colab": {
          "base_uri": "https://localhost:8080/",
          "height": 35
        },
        "outputId": "778e5a47-a5b4-483e-e5a2-fbae6d70db5a"
      },
      "cell_type": "code",
      "source": [
        "print(\"Tried with above 125871 records, got session crashed error, So minimizing my data set\")\n",
        "rating_data_colab = rating_data.iloc[0:10000]"
      ],
      "execution_count": 58,
      "outputs": [
        {
          "output_type": "stream",
          "text": [
            "Tried with above 125871 records, got session crashed error, So minimizing my data set\n"
          ],
          "name": "stdout"
        }
      ]
    },
    {
      "metadata": {
        "id": "-POJDJcc-3-r",
        "colab_type": "code",
        "colab": {
          "base_uri": "https://localhost:8080/",
          "height": 148
        },
        "outputId": "11704078-c3f4-4bc2-c54c-3b400071898e"
      },
      "cell_type": "code",
      "source": [
        "rating_data_colab.user_id=rating_data_colab.user_id.astype(str)\n",
        "rating_data_colab.product_id=rating_data_colab.product_id.astype(str)"
      ],
      "execution_count": 59,
      "outputs": [
        {
          "output_type": "stream",
          "text": [
            "/usr/local/lib/python3.6/dist-packages/pandas/core/generic.py:5096: SettingWithCopyWarning: \n",
            "A value is trying to be set on a copy of a slice from a DataFrame.\n",
            "Try using .loc[row_indexer,col_indexer] = value instead\n",
            "\n",
            "See the caveats in the documentation: http://pandas.pydata.org/pandas-docs/stable/indexing.html#indexing-view-versus-copy\n",
            "  self[name] = value\n"
          ],
          "name": "stderr"
        }
      ]
    },
    {
      "metadata": {
        "id": "xcVUMaRK_b3g",
        "colab_type": "code",
        "colab": {}
      },
      "cell_type": "code",
      "source": [
        "from surprise import Dataset,Reader\n",
        "reader = Reader(rating_scale=(1, 5))\n",
        "#forcebiy converting to this format as pandas cannot read by surprise, as it is the interaction column"
      ],
      "execution_count": 0,
      "outputs": []
    },
    {
      "metadata": {
        "id": "pZaswbcz_mVs",
        "colab_type": "code",
        "colab": {}
      },
      "cell_type": "code",
      "source": [
        "data = Dataset.load_from_df(rating_data_colab[['user_id', 'product_id', 'rating']], reader)"
      ],
      "execution_count": 0,
      "outputs": []
    },
    {
      "metadata": {
        "id": "vls-z6t0_y1n",
        "colab_type": "code",
        "outputId": "7a6ceca7-2fbe-4a1e-877e-c3f4eaf212a3",
        "colab": {
          "base_uri": "https://localhost:8080/",
          "height": 35
        }
      },
      "cell_type": "code",
      "source": [
        "data"
      ],
      "execution_count": 62,
      "outputs": [
        {
          "output_type": "execute_result",
          "data": {
            "text/plain": [
              "<surprise.dataset.DatasetAutoFolds at 0x7f60f79e1e10>"
            ]
          },
          "metadata": {
            "tags": []
          },
          "execution_count": 62
        }
      ]
    },
    {
      "metadata": {
        "id": "pLlKiNky_9hP",
        "colab_type": "code",
        "colab": {}
      },
      "cell_type": "code",
      "source": [
        "from surprise.model_selection import train_test_split\n",
        "trainset, testset = train_test_split(data, test_size=.30,random_state=123)\n",
        "#performance can be calcluated by comparing r hat value of rating and existing rating value, So it can be supervised learning\n",
        "#Special case of supervised"
      ],
      "execution_count": 0,
      "outputs": []
    },
    {
      "metadata": {
        "id": "Ggi2YSr7AFcc",
        "colab_type": "code",
        "colab": {
          "base_uri": "https://localhost:8080/",
          "height": 54
        },
        "outputId": "d8cdcd3e-a60e-48c3-f3c6-1084543324bd"
      },
      "cell_type": "code",
      "source": [
        "print(trainset.to_raw_uid(0))\n",
        "print(trainset.to_raw_iid(0))\n",
        "#An inner id is created, for every one user id and item id an inner id is created"
      ],
      "execution_count": 64,
      "outputs": [
        {
          "output_type": "stream",
          "text": [
            "A2JOPUWVV0XQJ3\n",
            "B007NZGPAY\n"
          ],
          "name": "stdout"
        }
      ]
    },
    {
      "metadata": {
        "id": "H8zqRGLVALiE",
        "colab_type": "code",
        "colab": {}
      },
      "cell_type": "code",
      "source": [
        "from surprise import KNNWithMeans\n",
        "from surprise import accuracy\n",
        "from surprise import Prediction"
      ],
      "execution_count": 0,
      "outputs": []
    },
    {
      "metadata": {
        "id": "hJMJNuSQAWpc",
        "colab_type": "code",
        "colab": {
          "base_uri": "https://localhost:8080/",
          "height": 35
        },
        "outputId": "ab4041e7-91de-4bd2-be73-7cc2df964b1c"
      },
      "cell_type": "code",
      "source": [
        "len(rating_data_colab[\"user_id\"].unique())"
      ],
      "execution_count": 67,
      "outputs": [
        {
          "output_type": "execute_result",
          "data": {
            "text/plain": [
              "87"
            ]
          },
          "metadata": {
            "tags": []
          },
          "execution_count": 67
        }
      ]
    },
    {
      "metadata": {
        "id": "W3U-Qh-wAq-m",
        "colab_type": "code",
        "colab": {
          "base_uri": "https://localhost:8080/",
          "height": 35
        },
        "outputId": "9e0e4064-4bc6-47f4-fc01-32a0aecfe2cc"
      },
      "cell_type": "code",
      "source": [
        "len(rating_data_colab[\"product_id\"].unique())"
      ],
      "execution_count": 68,
      "outputs": [
        {
          "output_type": "execute_result",
          "data": {
            "text/plain": [
              "8104"
            ]
          },
          "metadata": {
            "tags": []
          },
          "execution_count": 68
        }
      ]
    },
    {
      "metadata": {
        "id": "WCg4ZkWJAxfE",
        "colab_type": "code",
        "colab": {
          "base_uri": "https://localhost:8080/",
          "height": 35
        },
        "outputId": "976b470b-eeb1-46e8-8f4b-0ff4e42bbbc6"
      },
      "cell_type": "code",
      "source": [
        "print(\"Since we have less user we go for user based collbarative filtering\")"
      ],
      "execution_count": 69,
      "outputs": [
        {
          "output_type": "stream",
          "text": [
            "Since we have less user we go for user based collbarative filtering\n"
          ],
          "name": "stdout"
        }
      ]
    },
    {
      "metadata": {
        "id": "tahtMI6SeQKD",
        "colab_type": "code",
        "colab": {}
      },
      "cell_type": "code",
      "source": [
        "trainset_cv = trainset"
      ],
      "execution_count": 0,
      "outputs": []
    },
    {
      "metadata": {
        "id": "Mzi53UJdeWN2",
        "colab_type": "code",
        "colab": {}
      },
      "cell_type": "code",
      "source": [
        "testset_cv = testset"
      ],
      "execution_count": 0,
      "outputs": []
    },
    {
      "metadata": {
        "id": "5263qBGhfpXz",
        "colab_type": "code",
        "colab": {
          "base_uri": "https://localhost:8080/",
          "height": 35
        },
        "outputId": "88aaf757-0a6f-445c-ad72-098a460a35c5"
      },
      "cell_type": "code",
      "source": [
        "trainset_cv"
      ],
      "execution_count": 72,
      "outputs": [
        {
          "output_type": "execute_result",
          "data": {
            "text/plain": [
              "<surprise.trainset.Trainset at 0x7f60fa9d59b0>"
            ]
          },
          "metadata": {
            "tags": []
          },
          "execution_count": 72
        }
      ]
    },
    {
      "metadata": {
        "id": "fsofuJ8ed9Nx",
        "colab_type": "code",
        "colab": {}
      },
      "cell_type": "code",
      "source": [
        "from surprise.model_selection import GridSearchCV"
      ],
      "execution_count": 0,
      "outputs": []
    },
    {
      "metadata": {
        "id": "RDNjIkxyd9lE",
        "colab_type": "code",
        "colab": {}
      },
      "cell_type": "code",
      "source": [
        "param_grid = {'k': [1, 50],\n",
        "              'sim_options': {'name': ['msd', 'cosine','pearson'],\n",
        "                              'user_based': [False]}\n",
        "             }"
      ],
      "execution_count": 0,
      "outputs": []
    },
    {
      "metadata": {
        "id": "bs8aWKWOd9gb",
        "colab_type": "code",
        "colab": {
          "base_uri": "https://localhost:8080/",
          "height": 1163
        },
        "outputId": "cb87d136-116f-42e8-af7a-523af87ecce5"
      },
      "cell_type": "code",
      "source": [
        "gs = GridSearchCV(KNNWithMeans, param_grid, measures=['rmse', 'mae'], cv=5)\n",
        "#grid search works only on data and not on subset train or test\n",
        "gs.fit(data)\n",
        "\n",
        "# best RMSE score\n",
        "print(gs.best_score['rmse'])\n",
        "\n",
        "# combination of parameters that gave the best RMSE score\n",
        "print(gs.best_params['rmse'])"
      ],
      "execution_count": 75,
      "outputs": [
        {
          "output_type": "stream",
          "text": [
            "Computing the msd similarity matrix...\n",
            "Done computing similarity matrix.\n",
            "Computing the msd similarity matrix...\n",
            "Done computing similarity matrix.\n",
            "Computing the msd similarity matrix...\n",
            "Done computing similarity matrix.\n",
            "Computing the msd similarity matrix...\n",
            "Done computing similarity matrix.\n",
            "Computing the msd similarity matrix...\n",
            "Done computing similarity matrix.\n",
            "Computing the cosine similarity matrix...\n",
            "Done computing similarity matrix.\n",
            "Computing the cosine similarity matrix...\n",
            "Done computing similarity matrix.\n",
            "Computing the cosine similarity matrix...\n",
            "Done computing similarity matrix.\n",
            "Computing the cosine similarity matrix...\n",
            "Done computing similarity matrix.\n",
            "Computing the cosine similarity matrix...\n",
            "Done computing similarity matrix.\n",
            "Computing the pearson similarity matrix...\n",
            "Done computing similarity matrix.\n",
            "Computing the pearson similarity matrix...\n",
            "Done computing similarity matrix.\n",
            "Computing the pearson similarity matrix...\n",
            "Done computing similarity matrix.\n",
            "Computing the pearson similarity matrix...\n",
            "Done computing similarity matrix.\n",
            "Computing the pearson similarity matrix...\n",
            "Done computing similarity matrix.\n",
            "Computing the msd similarity matrix...\n",
            "Done computing similarity matrix.\n",
            "Computing the msd similarity matrix...\n",
            "Done computing similarity matrix.\n",
            "Computing the msd similarity matrix...\n",
            "Done computing similarity matrix.\n",
            "Computing the msd similarity matrix...\n",
            "Done computing similarity matrix.\n",
            "Computing the msd similarity matrix...\n",
            "Done computing similarity matrix.\n",
            "Computing the cosine similarity matrix...\n",
            "Done computing similarity matrix.\n",
            "Computing the cosine similarity matrix...\n",
            "Done computing similarity matrix.\n",
            "Computing the cosine similarity matrix...\n",
            "Done computing similarity matrix.\n",
            "Computing the cosine similarity matrix...\n",
            "Done computing similarity matrix.\n",
            "Computing the cosine similarity matrix...\n",
            "Done computing similarity matrix.\n",
            "Computing the pearson similarity matrix...\n",
            "Done computing similarity matrix.\n",
            "Computing the pearson similarity matrix...\n",
            "Done computing similarity matrix.\n",
            "Computing the pearson similarity matrix...\n",
            "Done computing similarity matrix.\n",
            "Computing the pearson similarity matrix...\n",
            "Done computing similarity matrix.\n",
            "Computing the pearson similarity matrix...\n",
            "Done computing similarity matrix.\n",
            "1.1710316628264945\n",
            "{'k': 50, 'sim_options': {'name': 'msd', 'user_based': False}}\n"
          ],
          "name": "stdout"
        }
      ]
    },
    {
      "metadata": {
        "id": "HHkxnX5IifmJ",
        "colab_type": "code",
        "colab": {
          "base_uri": "https://localhost:8080/",
          "height": 35
        },
        "outputId": "fa6fbc64-a4ff-47e1-e78c-59f8f0eca216"
      },
      "cell_type": "code",
      "source": [
        "print(\"using same for user based collbartive filtering\")"
      ],
      "execution_count": 76,
      "outputs": [
        {
          "output_type": "stream",
          "text": [
            "using same for user based collbartive filtering\n"
          ],
          "name": "stdout"
        }
      ]
    },
    {
      "metadata": {
        "id": "Qi7_eN5mifzt",
        "colab_type": "code",
        "colab": {}
      },
      "cell_type": "code",
      "source": [
        "param_grid = {'k': [1, 50],\n",
        "              'sim_options': {'name': ['msd', 'cosine','pearson'],\n",
        "                              'user_based': [True]}\n",
        "             }"
      ],
      "execution_count": 0,
      "outputs": []
    },
    {
      "metadata": {
        "id": "FlbQ3VdCiwo2",
        "colab_type": "code",
        "colab": {
          "base_uri": "https://localhost:8080/",
          "height": 1163
        },
        "outputId": "b5e45c2c-5dc3-480d-b667-1cf665c3659f"
      },
      "cell_type": "code",
      "source": [
        "gs = GridSearchCV(KNNWithMeans, param_grid, measures=['rmse', 'mae'], cv=5)\n",
        "#grid search works only on data and not on subset train or test\n",
        "gs.fit(data)\n",
        "\n",
        "# best RMSE score\n",
        "print(gs.best_score['rmse'])\n",
        "\n",
        "# combination of parameters that gave the best RMSE score\n",
        "print(gs.best_params['rmse'])"
      ],
      "execution_count": 78,
      "outputs": [
        {
          "output_type": "stream",
          "text": [
            "Computing the msd similarity matrix...\n",
            "Done computing similarity matrix.\n",
            "Computing the msd similarity matrix...\n",
            "Done computing similarity matrix.\n",
            "Computing the msd similarity matrix...\n",
            "Done computing similarity matrix.\n",
            "Computing the msd similarity matrix...\n",
            "Done computing similarity matrix.\n",
            "Computing the msd similarity matrix...\n",
            "Done computing similarity matrix.\n",
            "Computing the cosine similarity matrix...\n",
            "Done computing similarity matrix.\n",
            "Computing the cosine similarity matrix...\n",
            "Done computing similarity matrix.\n",
            "Computing the cosine similarity matrix...\n",
            "Done computing similarity matrix.\n",
            "Computing the cosine similarity matrix...\n",
            "Done computing similarity matrix.\n",
            "Computing the cosine similarity matrix...\n",
            "Done computing similarity matrix.\n",
            "Computing the pearson similarity matrix...\n",
            "Done computing similarity matrix.\n",
            "Computing the pearson similarity matrix...\n",
            "Done computing similarity matrix.\n",
            "Computing the pearson similarity matrix...\n",
            "Done computing similarity matrix.\n",
            "Computing the pearson similarity matrix...\n",
            "Done computing similarity matrix.\n",
            "Computing the pearson similarity matrix...\n",
            "Done computing similarity matrix.\n",
            "Computing the msd similarity matrix...\n",
            "Done computing similarity matrix.\n",
            "Computing the msd similarity matrix...\n",
            "Done computing similarity matrix.\n",
            "Computing the msd similarity matrix...\n",
            "Done computing similarity matrix.\n",
            "Computing the msd similarity matrix...\n",
            "Done computing similarity matrix.\n",
            "Computing the msd similarity matrix...\n",
            "Done computing similarity matrix.\n",
            "Computing the cosine similarity matrix...\n",
            "Done computing similarity matrix.\n",
            "Computing the cosine similarity matrix...\n",
            "Done computing similarity matrix.\n",
            "Computing the cosine similarity matrix...\n",
            "Done computing similarity matrix.\n",
            "Computing the cosine similarity matrix...\n",
            "Done computing similarity matrix.\n",
            "Computing the cosine similarity matrix...\n",
            "Done computing similarity matrix.\n",
            "Computing the pearson similarity matrix...\n",
            "Done computing similarity matrix.\n",
            "Computing the pearson similarity matrix...\n",
            "Done computing similarity matrix.\n",
            "Computing the pearson similarity matrix...\n",
            "Done computing similarity matrix.\n",
            "Computing the pearson similarity matrix...\n",
            "Done computing similarity matrix.\n",
            "Computing the pearson similarity matrix...\n",
            "Done computing similarity matrix.\n",
            "1.1204225709261346\n",
            "{'k': 50, 'sim_options': {'name': 'pearson', 'user_based': True}}\n"
          ],
          "name": "stdout"
        }
      ]
    },
    {
      "metadata": {
        "id": "9flBx4GgiwjW",
        "colab_type": "code",
        "colab": {
          "base_uri": "https://localhost:8080/",
          "height": 74
        },
        "outputId": "f88318e8-09c2-4d34-ec98-5e3c298a9b81"
      },
      "cell_type": "code",
      "source": [
        "print(\"form the above results we can go ahead with User based collbrative filtering as the computation was fast with less no. of user compared with item\")\n",
        "print(\"RMSE error also looks less with optimal k value = 50\")"
      ],
      "execution_count": 79,
      "outputs": [
        {
          "output_type": "stream",
          "text": [
            "form the above results we can go ahead with User based collbrative filtering as the computation was fast with less no. of user compared with item\n",
            "RMSE error also looks less with optimal k value = 50\n"
          ],
          "name": "stdout"
        }
      ]
    },
    {
      "metadata": {
        "id": "DT5Q7bwiAQGA",
        "colab_type": "code",
        "colab": {
          "base_uri": "https://localhost:8080/",
          "height": 72
        },
        "outputId": "9283e439-336b-4b14-ade9-093a7b2d496e"
      },
      "cell_type": "code",
      "source": [
        "algo = KNNWithMeans(k=50, sim_options={'name': 'pearson', 'user_based': True})\n",
        "algo.fit(trainset)\n",
        "# correlated rating takes, these many nieghbours from K \n",
        "# optimal k value can be found, use pearson correlation "
      ],
      "execution_count": 80,
      "outputs": [
        {
          "output_type": "stream",
          "text": [
            "Computing the pearson similarity matrix...\n",
            "Done computing similarity matrix.\n"
          ],
          "name": "stdout"
        },
        {
          "output_type": "execute_result",
          "data": {
            "text/plain": [
              "<surprise.prediction_algorithms.knns.KNNWithMeans at 0x7f60f79f1320>"
            ]
          },
          "metadata": {
            "tags": []
          },
          "execution_count": 80
        }
      ]
    },
    {
      "metadata": {
        "id": "fjz05YCJA5kV",
        "colab_type": "code",
        "colab": {
          "base_uri": "https://localhost:8080/",
          "height": 54
        },
        "outputId": "d38d0a87-a69a-4409-f303-a0a1b56eabd4"
      },
      "cell_type": "code",
      "source": [
        "# Evalute on test set\n",
        "test_pred = algo.test(testset)\n",
        "\n",
        "# compute RMSE\n",
        "accuracy.rmse(test_pred)\n",
        "\n"
      ],
      "execution_count": 81,
      "outputs": [
        {
          "output_type": "stream",
          "text": [
            "RMSE: 1.1281\n"
          ],
          "name": "stdout"
        },
        {
          "output_type": "execute_result",
          "data": {
            "text/plain": [
              "1.128099659914071"
            ]
          },
          "metadata": {
            "tags": []
          },
          "execution_count": 81
        }
      ]
    },
    {
      "metadata": {
        "id": "fDp5DHxTBJkW",
        "colab_type": "code",
        "colab": {
          "base_uri": "https://localhost:8080/",
          "height": 74
        },
        "outputId": "fae334cd-9de3-440f-f2a3-6e06fdec3c0d"
      },
      "cell_type": "code",
      "source": [
        "test_pred[:2]\n",
        "##est values is the predicted rating, r_ui is the rating already found.Was impossible false represents data found in train and test, K = 0 refers actual k , it means no nearest neighbours picked for computation\n",
        "##if no value found from test in train then popularity based rating happens on est of test data and was_impossible will be true"
      ],
      "execution_count": 82,
      "outputs": [
        {
          "output_type": "execute_result",
          "data": {
            "text/plain": [
              "[Prediction(uid='A328GLDSDNFYII', iid='B0054L8N7M', r_ui=4.0, est=4.209142857142857, details={'was_impossible': True, 'reason': 'User and/or item is unkown.'}),\n",
              " Prediction(uid='ADLVFFE4VBT8', iid='B003ES5ZR8', r_ui=5.0, est=4.209142857142857, details={'was_impossible': True, 'reason': 'User and/or item is unkown.'})]"
            ]
          },
          "metadata": {
            "tags": []
          },
          "execution_count": 82
        }
      ]
    },
    {
      "metadata": {
        "id": "YFlJAlSlBXBI",
        "colab_type": "code",
        "colab": {}
      },
      "cell_type": "code",
      "source": [
        "predictions_df = pd.DataFrame([[x.uid,x.iid,x.est] for x in test_pred])"
      ],
      "execution_count": 0,
      "outputs": []
    },
    {
      "metadata": {
        "id": "RCeH0D1aNjBx",
        "colab_type": "code",
        "colab": {}
      },
      "cell_type": "code",
      "source": [
        "predictions_df.columns = [\"user_id\",\"product_id\",\"est_rating\"]\n",
        "predictions_df.sort_values(by = [\"user_id\",\"est_rating\",],ascending=False,inplace=True)"
      ],
      "execution_count": 0,
      "outputs": []
    },
    {
      "metadata": {
        "id": "4_VXzfgOcWWt",
        "colab_type": "code",
        "colab": {
          "base_uri": "https://localhost:8080/",
          "height": 206
        },
        "outputId": "1c1718bb-bf9c-45e1-e5d1-a937bc529a15"
      },
      "cell_type": "code",
      "source": [
        "predictions_df[:5]"
      ],
      "execution_count": 85,
      "outputs": [
        {
          "output_type": "execute_result",
          "data": {
            "text/html": [
              "<div>\n",
              "<style scoped>\n",
              "    .dataframe tbody tr th:only-of-type {\n",
              "        vertical-align: middle;\n",
              "    }\n",
              "\n",
              "    .dataframe tbody tr th {\n",
              "        vertical-align: top;\n",
              "    }\n",
              "\n",
              "    .dataframe thead th {\n",
              "        text-align: right;\n",
              "    }\n",
              "</style>\n",
              "<table border=\"1\" class=\"dataframe\">\n",
              "  <thead>\n",
              "    <tr style=\"text-align: right;\">\n",
              "      <th></th>\n",
              "      <th>user_id</th>\n",
              "      <th>product_id</th>\n",
              "      <th>est_rating</th>\n",
              "    </tr>\n",
              "  </thead>\n",
              "  <tbody>\n",
              "    <tr>\n",
              "      <th>106</th>\n",
              "      <td>AZ515FFZ7I2P7</td>\n",
              "      <td>B001CHHVCU</td>\n",
              "      <td>4.27551</td>\n",
              "    </tr>\n",
              "    <tr>\n",
              "      <th>284</th>\n",
              "      <td>AZ515FFZ7I2P7</td>\n",
              "      <td>B002R5AM7C</td>\n",
              "      <td>4.27551</td>\n",
              "    </tr>\n",
              "    <tr>\n",
              "      <th>639</th>\n",
              "      <td>AZ515FFZ7I2P7</td>\n",
              "      <td>B004CQMC5Y</td>\n",
              "      <td>4.27551</td>\n",
              "    </tr>\n",
              "    <tr>\n",
              "      <th>655</th>\n",
              "      <td>AZ515FFZ7I2P7</td>\n",
              "      <td>B001RB1QWW</td>\n",
              "      <td>4.27551</td>\n",
              "    </tr>\n",
              "    <tr>\n",
              "      <th>874</th>\n",
              "      <td>AZ515FFZ7I2P7</td>\n",
              "      <td>B001S4OTS6</td>\n",
              "      <td>4.27551</td>\n",
              "    </tr>\n",
              "  </tbody>\n",
              "</table>\n",
              "</div>"
            ],
            "text/plain": [
              "           user_id  product_id  est_rating\n",
              "106  AZ515FFZ7I2P7  B001CHHVCU     4.27551\n",
              "284  AZ515FFZ7I2P7  B002R5AM7C     4.27551\n",
              "639  AZ515FFZ7I2P7  B004CQMC5Y     4.27551\n",
              "655  AZ515FFZ7I2P7  B001RB1QWW     4.27551\n",
              "874  AZ515FFZ7I2P7  B001S4OTS6     4.27551"
            ]
          },
          "metadata": {
            "tags": []
          },
          "execution_count": 85
        }
      ]
    },
    {
      "metadata": {
        "id": "1IwPOgV2N25n",
        "colab_type": "code",
        "colab": {
          "base_uri": "https://localhost:8080/",
          "height": 677
        },
        "outputId": "24879873-9de3-4d78-e6c6-17c7006bc43b"
      },
      "cell_type": "code",
      "source": [
        "predictions_df.head(20)"
      ],
      "execution_count": 86,
      "outputs": [
        {
          "output_type": "execute_result",
          "data": {
            "text/html": [
              "<div>\n",
              "<style scoped>\n",
              "    .dataframe tbody tr th:only-of-type {\n",
              "        vertical-align: middle;\n",
              "    }\n",
              "\n",
              "    .dataframe tbody tr th {\n",
              "        vertical-align: top;\n",
              "    }\n",
              "\n",
              "    .dataframe thead th {\n",
              "        text-align: right;\n",
              "    }\n",
              "</style>\n",
              "<table border=\"1\" class=\"dataframe\">\n",
              "  <thead>\n",
              "    <tr style=\"text-align: right;\">\n",
              "      <th></th>\n",
              "      <th>user_id</th>\n",
              "      <th>product_id</th>\n",
              "      <th>est_rating</th>\n",
              "    </tr>\n",
              "  </thead>\n",
              "  <tbody>\n",
              "    <tr>\n",
              "      <th>106</th>\n",
              "      <td>AZ515FFZ7I2P7</td>\n",
              "      <td>B001CHHVCU</td>\n",
              "      <td>4.275510</td>\n",
              "    </tr>\n",
              "    <tr>\n",
              "      <th>284</th>\n",
              "      <td>AZ515FFZ7I2P7</td>\n",
              "      <td>B002R5AM7C</td>\n",
              "      <td>4.275510</td>\n",
              "    </tr>\n",
              "    <tr>\n",
              "      <th>639</th>\n",
              "      <td>AZ515FFZ7I2P7</td>\n",
              "      <td>B004CQMC5Y</td>\n",
              "      <td>4.275510</td>\n",
              "    </tr>\n",
              "    <tr>\n",
              "      <th>655</th>\n",
              "      <td>AZ515FFZ7I2P7</td>\n",
              "      <td>B001RB1QWW</td>\n",
              "      <td>4.275510</td>\n",
              "    </tr>\n",
              "    <tr>\n",
              "      <th>874</th>\n",
              "      <td>AZ515FFZ7I2P7</td>\n",
              "      <td>B001S4OTS6</td>\n",
              "      <td>4.275510</td>\n",
              "    </tr>\n",
              "    <tr>\n",
              "      <th>1156</th>\n",
              "      <td>AZ515FFZ7I2P7</td>\n",
              "      <td>B004BQTTE2</td>\n",
              "      <td>4.275510</td>\n",
              "    </tr>\n",
              "    <tr>\n",
              "      <th>1298</th>\n",
              "      <td>AZ515FFZ7I2P7</td>\n",
              "      <td>B005YQY5TM</td>\n",
              "      <td>4.275510</td>\n",
              "    </tr>\n",
              "    <tr>\n",
              "      <th>1421</th>\n",
              "      <td>AZ515FFZ7I2P7</td>\n",
              "      <td>B004G8QO8E</td>\n",
              "      <td>4.275510</td>\n",
              "    </tr>\n",
              "    <tr>\n",
              "      <th>1577</th>\n",
              "      <td>AZ515FFZ7I2P7</td>\n",
              "      <td>B001DULYZG</td>\n",
              "      <td>4.275510</td>\n",
              "    </tr>\n",
              "    <tr>\n",
              "      <th>2191</th>\n",
              "      <td>AZ515FFZ7I2P7</td>\n",
              "      <td>B00004ZC8Y</td>\n",
              "      <td>4.275510</td>\n",
              "    </tr>\n",
              "    <tr>\n",
              "      <th>2900</th>\n",
              "      <td>AZ515FFZ7I2P7</td>\n",
              "      <td>B005DKZTLW</td>\n",
              "      <td>4.275510</td>\n",
              "    </tr>\n",
              "    <tr>\n",
              "      <th>57</th>\n",
              "      <td>AZ515FFZ7I2P7</td>\n",
              "      <td>B001JTA59C</td>\n",
              "      <td>4.209143</td>\n",
              "    </tr>\n",
              "    <tr>\n",
              "      <th>98</th>\n",
              "      <td>AZ515FFZ7I2P7</td>\n",
              "      <td>B001TK3ACA</td>\n",
              "      <td>4.209143</td>\n",
              "    </tr>\n",
              "    <tr>\n",
              "      <th>172</th>\n",
              "      <td>AZ515FFZ7I2P7</td>\n",
              "      <td>B00740MR78</td>\n",
              "      <td>4.209143</td>\n",
              "    </tr>\n",
              "    <tr>\n",
              "      <th>193</th>\n",
              "      <td>AZ515FFZ7I2P7</td>\n",
              "      <td>B006DDT6JO</td>\n",
              "      <td>4.209143</td>\n",
              "    </tr>\n",
              "    <tr>\n",
              "      <th>264</th>\n",
              "      <td>AZ515FFZ7I2P7</td>\n",
              "      <td>B001PNEB5G</td>\n",
              "      <td>4.209143</td>\n",
              "    </tr>\n",
              "    <tr>\n",
              "      <th>326</th>\n",
              "      <td>AZ515FFZ7I2P7</td>\n",
              "      <td>B000CF0ZXK</td>\n",
              "      <td>4.209143</td>\n",
              "    </tr>\n",
              "    <tr>\n",
              "      <th>352</th>\n",
              "      <td>AZ515FFZ7I2P7</td>\n",
              "      <td>B0029U2YPS</td>\n",
              "      <td>4.209143</td>\n",
              "    </tr>\n",
              "    <tr>\n",
              "      <th>439</th>\n",
              "      <td>AZ515FFZ7I2P7</td>\n",
              "      <td>B005GWF3P4</td>\n",
              "      <td>4.209143</td>\n",
              "    </tr>\n",
              "    <tr>\n",
              "      <th>521</th>\n",
              "      <td>AZ515FFZ7I2P7</td>\n",
              "      <td>B00008NUZC</td>\n",
              "      <td>4.209143</td>\n",
              "    </tr>\n",
              "  </tbody>\n",
              "</table>\n",
              "</div>"
            ],
            "text/plain": [
              "            user_id  product_id  est_rating\n",
              "106   AZ515FFZ7I2P7  B001CHHVCU    4.275510\n",
              "284   AZ515FFZ7I2P7  B002R5AM7C    4.275510\n",
              "639   AZ515FFZ7I2P7  B004CQMC5Y    4.275510\n",
              "655   AZ515FFZ7I2P7  B001RB1QWW    4.275510\n",
              "874   AZ515FFZ7I2P7  B001S4OTS6    4.275510\n",
              "1156  AZ515FFZ7I2P7  B004BQTTE2    4.275510\n",
              "1298  AZ515FFZ7I2P7  B005YQY5TM    4.275510\n",
              "1421  AZ515FFZ7I2P7  B004G8QO8E    4.275510\n",
              "1577  AZ515FFZ7I2P7  B001DULYZG    4.275510\n",
              "2191  AZ515FFZ7I2P7  B00004ZC8Y    4.275510\n",
              "2900  AZ515FFZ7I2P7  B005DKZTLW    4.275510\n",
              "57    AZ515FFZ7I2P7  B001JTA59C    4.209143\n",
              "98    AZ515FFZ7I2P7  B001TK3ACA    4.209143\n",
              "172   AZ515FFZ7I2P7  B00740MR78    4.209143\n",
              "193   AZ515FFZ7I2P7  B006DDT6JO    4.209143\n",
              "264   AZ515FFZ7I2P7  B001PNEB5G    4.209143\n",
              "326   AZ515FFZ7I2P7  B000CF0ZXK    4.209143\n",
              "352   AZ515FFZ7I2P7  B0029U2YPS    4.209143\n",
              "439   AZ515FFZ7I2P7  B005GWF3P4    4.209143\n",
              "521   AZ515FFZ7I2P7  B00008NUZC    4.209143"
            ]
          },
          "metadata": {
            "tags": []
          },
          "execution_count": 86
        }
      ]
    },
    {
      "metadata": {
        "id": "vI1odMrCOBy8",
        "colab_type": "code",
        "colab": {}
      },
      "cell_type": "code",
      "source": [
        "def get_top_five(user_id):\n",
        "  return predictions_df[predictions_df[\"user_id\"]==user_id].head()"
      ],
      "execution_count": 0,
      "outputs": []
    },
    {
      "metadata": {
        "id": "nSsx-bmqdAkr",
        "colab_type": "text"
      },
      "cell_type": "markdown",
      "source": [
        ""
      ]
    },
    {
      "metadata": {
        "id": "5f2YQrObOzrX",
        "colab_type": "code",
        "colab": {
          "base_uri": "https://localhost:8080/",
          "height": 206
        },
        "outputId": "e85029c7-d5c0-4a70-ea6a-73feaab0d17c"
      },
      "cell_type": "code",
      "source": [
        "get_top_five('AZ515FFZ7I2P7')"
      ],
      "execution_count": 89,
      "outputs": [
        {
          "output_type": "execute_result",
          "data": {
            "text/html": [
              "<div>\n",
              "<style scoped>\n",
              "    .dataframe tbody tr th:only-of-type {\n",
              "        vertical-align: middle;\n",
              "    }\n",
              "\n",
              "    .dataframe tbody tr th {\n",
              "        vertical-align: top;\n",
              "    }\n",
              "\n",
              "    .dataframe thead th {\n",
              "        text-align: right;\n",
              "    }\n",
              "</style>\n",
              "<table border=\"1\" class=\"dataframe\">\n",
              "  <thead>\n",
              "    <tr style=\"text-align: right;\">\n",
              "      <th></th>\n",
              "      <th>user_id</th>\n",
              "      <th>product_id</th>\n",
              "      <th>est_rating</th>\n",
              "    </tr>\n",
              "  </thead>\n",
              "  <tbody>\n",
              "    <tr>\n",
              "      <th>106</th>\n",
              "      <td>AZ515FFZ7I2P7</td>\n",
              "      <td>B001CHHVCU</td>\n",
              "      <td>4.27551</td>\n",
              "    </tr>\n",
              "    <tr>\n",
              "      <th>284</th>\n",
              "      <td>AZ515FFZ7I2P7</td>\n",
              "      <td>B002R5AM7C</td>\n",
              "      <td>4.27551</td>\n",
              "    </tr>\n",
              "    <tr>\n",
              "      <th>639</th>\n",
              "      <td>AZ515FFZ7I2P7</td>\n",
              "      <td>B004CQMC5Y</td>\n",
              "      <td>4.27551</td>\n",
              "    </tr>\n",
              "    <tr>\n",
              "      <th>655</th>\n",
              "      <td>AZ515FFZ7I2P7</td>\n",
              "      <td>B001RB1QWW</td>\n",
              "      <td>4.27551</td>\n",
              "    </tr>\n",
              "    <tr>\n",
              "      <th>874</th>\n",
              "      <td>AZ515FFZ7I2P7</td>\n",
              "      <td>B001S4OTS6</td>\n",
              "      <td>4.27551</td>\n",
              "    </tr>\n",
              "  </tbody>\n",
              "</table>\n",
              "</div>"
            ],
            "text/plain": [
              "           user_id  product_id  est_rating\n",
              "106  AZ515FFZ7I2P7  B001CHHVCU     4.27551\n",
              "284  AZ515FFZ7I2P7  B002R5AM7C     4.27551\n",
              "639  AZ515FFZ7I2P7  B004CQMC5Y     4.27551\n",
              "655  AZ515FFZ7I2P7  B001RB1QWW     4.27551\n",
              "874  AZ515FFZ7I2P7  B001S4OTS6     4.27551"
            ]
          },
          "metadata": {
            "tags": []
          },
          "execution_count": 89
        }
      ]
    },
    {
      "metadata": {
        "id": "J26puuwlO4os",
        "colab_type": "code",
        "colab": {}
      },
      "cell_type": "code",
      "source": [
        "top_5_recos = predictions_df.groupby(\"user_id\").head(5).reset_index(drop=True)"
      ],
      "execution_count": 0,
      "outputs": []
    },
    {
      "metadata": {
        "id": "CUxl3yXYPAGP",
        "colab_type": "code",
        "colab": {
          "base_uri": "https://localhost:8080/",
          "height": 1992
        },
        "outputId": "c0e923df-7d93-465f-80e7-08e43a007536"
      },
      "cell_type": "code",
      "source": [
        "top_5_recos"
      ],
      "execution_count": 91,
      "outputs": [
        {
          "output_type": "execute_result",
          "data": {
            "text/html": [
              "<div>\n",
              "<style scoped>\n",
              "    .dataframe tbody tr th:only-of-type {\n",
              "        vertical-align: middle;\n",
              "    }\n",
              "\n",
              "    .dataframe tbody tr th {\n",
              "        vertical-align: top;\n",
              "    }\n",
              "\n",
              "    .dataframe thead th {\n",
              "        text-align: right;\n",
              "    }\n",
              "</style>\n",
              "<table border=\"1\" class=\"dataframe\">\n",
              "  <thead>\n",
              "    <tr style=\"text-align: right;\">\n",
              "      <th></th>\n",
              "      <th>user_id</th>\n",
              "      <th>product_id</th>\n",
              "      <th>est_rating</th>\n",
              "    </tr>\n",
              "  </thead>\n",
              "  <tbody>\n",
              "    <tr>\n",
              "      <th>0</th>\n",
              "      <td>AZ515FFZ7I2P7</td>\n",
              "      <td>B001CHHVCU</td>\n",
              "      <td>4.275510</td>\n",
              "    </tr>\n",
              "    <tr>\n",
              "      <th>1</th>\n",
              "      <td>AZ515FFZ7I2P7</td>\n",
              "      <td>B002R5AM7C</td>\n",
              "      <td>4.275510</td>\n",
              "    </tr>\n",
              "    <tr>\n",
              "      <th>2</th>\n",
              "      <td>AZ515FFZ7I2P7</td>\n",
              "      <td>B004CQMC5Y</td>\n",
              "      <td>4.275510</td>\n",
              "    </tr>\n",
              "    <tr>\n",
              "      <th>3</th>\n",
              "      <td>AZ515FFZ7I2P7</td>\n",
              "      <td>B001RB1QWW</td>\n",
              "      <td>4.275510</td>\n",
              "    </tr>\n",
              "    <tr>\n",
              "      <th>4</th>\n",
              "      <td>AZ515FFZ7I2P7</td>\n",
              "      <td>B001S4OTS6</td>\n",
              "      <td>4.275510</td>\n",
              "    </tr>\n",
              "    <tr>\n",
              "      <th>5</th>\n",
              "      <td>AW3LX47IHPFRL</td>\n",
              "      <td>B008D9MU0S</td>\n",
              "      <td>4.209143</td>\n",
              "    </tr>\n",
              "    <tr>\n",
              "      <th>6</th>\n",
              "      <td>AW3LX47IHPFRL</td>\n",
              "      <td>B00AA6OVAO</td>\n",
              "      <td>4.209143</td>\n",
              "    </tr>\n",
              "    <tr>\n",
              "      <th>7</th>\n",
              "      <td>AW3LX47IHPFRL</td>\n",
              "      <td>B000WG6XW6</td>\n",
              "      <td>4.209143</td>\n",
              "    </tr>\n",
              "    <tr>\n",
              "      <th>8</th>\n",
              "      <td>AW3LX47IHPFRL</td>\n",
              "      <td>B008DZ2YT4</td>\n",
              "      <td>4.209143</td>\n",
              "    </tr>\n",
              "    <tr>\n",
              "      <th>9</th>\n",
              "      <td>AW3LX47IHPFRL</td>\n",
              "      <td>B0015AE4C4</td>\n",
              "      <td>4.209143</td>\n",
              "    </tr>\n",
              "    <tr>\n",
              "      <th>10</th>\n",
              "      <td>AVSMRPI23DQI2</td>\n",
              "      <td>B0002GDIII</td>\n",
              "      <td>4.530612</td>\n",
              "    </tr>\n",
              "    <tr>\n",
              "      <th>11</th>\n",
              "      <td>AVSMRPI23DQI2</td>\n",
              "      <td>B009PHSDBM</td>\n",
              "      <td>4.530612</td>\n",
              "    </tr>\n",
              "    <tr>\n",
              "      <th>12</th>\n",
              "      <td>AVSMRPI23DQI2</td>\n",
              "      <td>B0001WV6W8</td>\n",
              "      <td>4.530612</td>\n",
              "    </tr>\n",
              "    <tr>\n",
              "      <th>13</th>\n",
              "      <td>AVSMRPI23DQI2</td>\n",
              "      <td>B002HWRJBM</td>\n",
              "      <td>4.530612</td>\n",
              "    </tr>\n",
              "    <tr>\n",
              "      <th>14</th>\n",
              "      <td>AVSMRPI23DQI2</td>\n",
              "      <td>B003XMAD18</td>\n",
              "      <td>4.530612</td>\n",
              "    </tr>\n",
              "    <tr>\n",
              "      <th>15</th>\n",
              "      <td>ATDE9JYCPI0L1</td>\n",
              "      <td>B000I1YTGC</td>\n",
              "      <td>4.209143</td>\n",
              "    </tr>\n",
              "    <tr>\n",
              "      <th>16</th>\n",
              "      <td>ATDE9JYCPI0L1</td>\n",
              "      <td>B000053VYB</td>\n",
              "      <td>4.209143</td>\n",
              "    </tr>\n",
              "    <tr>\n",
              "      <th>17</th>\n",
              "      <td>ATDE9JYCPI0L1</td>\n",
              "      <td>B0007VMROE</td>\n",
              "      <td>4.209143</td>\n",
              "    </tr>\n",
              "    <tr>\n",
              "      <th>18</th>\n",
              "      <td>ATDE9JYCPI0L1</td>\n",
              "      <td>B00019OYMA</td>\n",
              "      <td>4.209143</td>\n",
              "    </tr>\n",
              "    <tr>\n",
              "      <th>19</th>\n",
              "      <td>ATDE9JYCPI0L1</td>\n",
              "      <td>B001BKS3Z2</td>\n",
              "      <td>4.209143</td>\n",
              "    </tr>\n",
              "    <tr>\n",
              "      <th>20</th>\n",
              "      <td>AT09WGFUM934H</td>\n",
              "      <td>B003XN24GY</td>\n",
              "      <td>4.459459</td>\n",
              "    </tr>\n",
              "    <tr>\n",
              "      <th>21</th>\n",
              "      <td>AT09WGFUM934H</td>\n",
              "      <td>B00BCGRZ04</td>\n",
              "      <td>4.459459</td>\n",
              "    </tr>\n",
              "    <tr>\n",
              "      <th>22</th>\n",
              "      <td>AT09WGFUM934H</td>\n",
              "      <td>B00006B7DA</td>\n",
              "      <td>4.459459</td>\n",
              "    </tr>\n",
              "    <tr>\n",
              "      <th>23</th>\n",
              "      <td>AT09WGFUM934H</td>\n",
              "      <td>B002G1YPH0</td>\n",
              "      <td>4.459459</td>\n",
              "    </tr>\n",
              "    <tr>\n",
              "      <th>24</th>\n",
              "      <td>AT09WGFUM934H</td>\n",
              "      <td>B005CT56F8</td>\n",
              "      <td>4.459459</td>\n",
              "    </tr>\n",
              "    <tr>\n",
              "      <th>25</th>\n",
              "      <td>ASHJAZC9OA9NS</td>\n",
              "      <td>B000TG4BA0</td>\n",
              "      <td>4.514286</td>\n",
              "    </tr>\n",
              "    <tr>\n",
              "      <th>26</th>\n",
              "      <td>ASHJAZC9OA9NS</td>\n",
              "      <td>B001IEZX3G</td>\n",
              "      <td>4.514286</td>\n",
              "    </tr>\n",
              "    <tr>\n",
              "      <th>27</th>\n",
              "      <td>ASHJAZC9OA9NS</td>\n",
              "      <td>B0030DL37I</td>\n",
              "      <td>4.514286</td>\n",
              "    </tr>\n",
              "    <tr>\n",
              "      <th>28</th>\n",
              "      <td>ASHJAZC9OA9NS</td>\n",
              "      <td>B000PH1DL8</td>\n",
              "      <td>4.514286</td>\n",
              "    </tr>\n",
              "    <tr>\n",
              "      <th>29</th>\n",
              "      <td>ASHJAZC9OA9NS</td>\n",
              "      <td>B000V1JUKO</td>\n",
              "      <td>4.209143</td>\n",
              "    </tr>\n",
              "    <tr>\n",
              "      <th>...</th>\n",
              "      <td>...</td>\n",
              "      <td>...</td>\n",
              "      <td>...</td>\n",
              "    </tr>\n",
              "    <tr>\n",
              "      <th>405</th>\n",
              "      <td>A17HMM1M7T9PJ1</td>\n",
              "      <td>B001OQC0IO</td>\n",
              "      <td>4.261682</td>\n",
              "    </tr>\n",
              "    <tr>\n",
              "      <th>406</th>\n",
              "      <td>A17HMM1M7T9PJ1</td>\n",
              "      <td>B001VEJEGK</td>\n",
              "      <td>4.261682</td>\n",
              "    </tr>\n",
              "    <tr>\n",
              "      <th>407</th>\n",
              "      <td>A17HMM1M7T9PJ1</td>\n",
              "      <td>B004Q3R9B0</td>\n",
              "      <td>4.261682</td>\n",
              "    </tr>\n",
              "    <tr>\n",
              "      <th>408</th>\n",
              "      <td>A17HMM1M7T9PJ1</td>\n",
              "      <td>B001D9IWIY</td>\n",
              "      <td>4.261682</td>\n",
              "    </tr>\n",
              "    <tr>\n",
              "      <th>409</th>\n",
              "      <td>A17HMM1M7T9PJ1</td>\n",
              "      <td>B00AWYMXZY</td>\n",
              "      <td>4.261682</td>\n",
              "    </tr>\n",
              "    <tr>\n",
              "      <th>410</th>\n",
              "      <td>A16HXVNPU5TCGE</td>\n",
              "      <td>B00894YWD0</td>\n",
              "      <td>4.693878</td>\n",
              "    </tr>\n",
              "    <tr>\n",
              "      <th>411</th>\n",
              "      <td>A16HXVNPU5TCGE</td>\n",
              "      <td>B0011NVMO8</td>\n",
              "      <td>4.693878</td>\n",
              "    </tr>\n",
              "    <tr>\n",
              "      <th>412</th>\n",
              "      <td>A16HXVNPU5TCGE</td>\n",
              "      <td>B001NS0OZ4</td>\n",
              "      <td>4.693878</td>\n",
              "    </tr>\n",
              "    <tr>\n",
              "      <th>413</th>\n",
              "      <td>A16HXVNPU5TCGE</td>\n",
              "      <td>B001MQ8CBU</td>\n",
              "      <td>4.209143</td>\n",
              "    </tr>\n",
              "    <tr>\n",
              "      <th>414</th>\n",
              "      <td>A16HXVNPU5TCGE</td>\n",
              "      <td>B004J3V90Y</td>\n",
              "      <td>4.209143</td>\n",
              "    </tr>\n",
              "    <tr>\n",
              "      <th>415</th>\n",
              "      <td>A14I1F2H7NOYDC</td>\n",
              "      <td>B000M17AVO</td>\n",
              "      <td>4.291667</td>\n",
              "    </tr>\n",
              "    <tr>\n",
              "      <th>416</th>\n",
              "      <td>A14I1F2H7NOYDC</td>\n",
              "      <td>B005FYNSPK</td>\n",
              "      <td>4.291667</td>\n",
              "    </tr>\n",
              "    <tr>\n",
              "      <th>417</th>\n",
              "      <td>A14I1F2H7NOYDC</td>\n",
              "      <td>B002RNUXLO</td>\n",
              "      <td>4.209143</td>\n",
              "    </tr>\n",
              "    <tr>\n",
              "      <th>418</th>\n",
              "      <td>A14I1F2H7NOYDC</td>\n",
              "      <td>B00CVEBCBY</td>\n",
              "      <td>4.209143</td>\n",
              "    </tr>\n",
              "    <tr>\n",
              "      <th>419</th>\n",
              "      <td>A14I1F2H7NOYDC</td>\n",
              "      <td>B006ZH0LW4</td>\n",
              "      <td>4.209143</td>\n",
              "    </tr>\n",
              "    <tr>\n",
              "      <th>420</th>\n",
              "      <td>A11ED8O95W2103</td>\n",
              "      <td>B00066I78A</td>\n",
              "      <td>4.209143</td>\n",
              "    </tr>\n",
              "    <tr>\n",
              "      <th>421</th>\n",
              "      <td>A11ED8O95W2103</td>\n",
              "      <td>B00006IROV</td>\n",
              "      <td>4.209143</td>\n",
              "    </tr>\n",
              "    <tr>\n",
              "      <th>422</th>\n",
              "      <td>A11ED8O95W2103</td>\n",
              "      <td>B001H4ZCS8</td>\n",
              "      <td>4.209143</td>\n",
              "    </tr>\n",
              "    <tr>\n",
              "      <th>423</th>\n",
              "      <td>A11ED8O95W2103</td>\n",
              "      <td>B002BBFWFO</td>\n",
              "      <td>4.209143</td>\n",
              "    </tr>\n",
              "    <tr>\n",
              "      <th>424</th>\n",
              "      <td>A11ED8O95W2103</td>\n",
              "      <td>B00000J3G3</td>\n",
              "      <td>4.209143</td>\n",
              "    </tr>\n",
              "    <tr>\n",
              "      <th>425</th>\n",
              "      <td>A11D1KHM7DVOQK</td>\n",
              "      <td>B0001FV35U</td>\n",
              "      <td>4.396575</td>\n",
              "    </tr>\n",
              "    <tr>\n",
              "      <th>426</th>\n",
              "      <td>A11D1KHM7DVOQK</td>\n",
              "      <td>B00009EFEK</td>\n",
              "      <td>4.209143</td>\n",
              "    </tr>\n",
              "    <tr>\n",
              "      <th>427</th>\n",
              "      <td>A11D1KHM7DVOQK</td>\n",
              "      <td>B00000J1G6</td>\n",
              "      <td>4.209143</td>\n",
              "    </tr>\n",
              "    <tr>\n",
              "      <th>428</th>\n",
              "      <td>A11D1KHM7DVOQK</td>\n",
              "      <td>B00008Z1QL</td>\n",
              "      <td>4.209143</td>\n",
              "    </tr>\n",
              "    <tr>\n",
              "      <th>429</th>\n",
              "      <td>A11D1KHM7DVOQK</td>\n",
              "      <td>B00022OAH0</td>\n",
              "      <td>4.209143</td>\n",
              "    </tr>\n",
              "    <tr>\n",
              "      <th>430</th>\n",
              "      <td>A10X9ME6R66JDX</td>\n",
              "      <td>B003XIJ3MW</td>\n",
              "      <td>5.000000</td>\n",
              "    </tr>\n",
              "    <tr>\n",
              "      <th>431</th>\n",
              "      <td>A10X9ME6R66JDX</td>\n",
              "      <td>B007FL6100</td>\n",
              "      <td>4.645833</td>\n",
              "    </tr>\n",
              "    <tr>\n",
              "      <th>432</th>\n",
              "      <td>A10X9ME6R66JDX</td>\n",
              "      <td>B00E3PFW9C</td>\n",
              "      <td>4.645833</td>\n",
              "    </tr>\n",
              "    <tr>\n",
              "      <th>433</th>\n",
              "      <td>A10X9ME6R66JDX</td>\n",
              "      <td>B0008GMHEI</td>\n",
              "      <td>4.645833</td>\n",
              "    </tr>\n",
              "    <tr>\n",
              "      <th>434</th>\n",
              "      <td>A10X9ME6R66JDX</td>\n",
              "      <td>B007B6YPAW</td>\n",
              "      <td>4.645833</td>\n",
              "    </tr>\n",
              "  </tbody>\n",
              "</table>\n",
              "<p>435 rows × 3 columns</p>\n",
              "</div>"
            ],
            "text/plain": [
              "            user_id  product_id  est_rating\n",
              "0     AZ515FFZ7I2P7  B001CHHVCU    4.275510\n",
              "1     AZ515FFZ7I2P7  B002R5AM7C    4.275510\n",
              "2     AZ515FFZ7I2P7  B004CQMC5Y    4.275510\n",
              "3     AZ515FFZ7I2P7  B001RB1QWW    4.275510\n",
              "4     AZ515FFZ7I2P7  B001S4OTS6    4.275510\n",
              "5     AW3LX47IHPFRL  B008D9MU0S    4.209143\n",
              "6     AW3LX47IHPFRL  B00AA6OVAO    4.209143\n",
              "7     AW3LX47IHPFRL  B000WG6XW6    4.209143\n",
              "8     AW3LX47IHPFRL  B008DZ2YT4    4.209143\n",
              "9     AW3LX47IHPFRL  B0015AE4C4    4.209143\n",
              "10    AVSMRPI23DQI2  B0002GDIII    4.530612\n",
              "11    AVSMRPI23DQI2  B009PHSDBM    4.530612\n",
              "12    AVSMRPI23DQI2  B0001WV6W8    4.530612\n",
              "13    AVSMRPI23DQI2  B002HWRJBM    4.530612\n",
              "14    AVSMRPI23DQI2  B003XMAD18    4.530612\n",
              "15    ATDE9JYCPI0L1  B000I1YTGC    4.209143\n",
              "16    ATDE9JYCPI0L1  B000053VYB    4.209143\n",
              "17    ATDE9JYCPI0L1  B0007VMROE    4.209143\n",
              "18    ATDE9JYCPI0L1  B00019OYMA    4.209143\n",
              "19    ATDE9JYCPI0L1  B001BKS3Z2    4.209143\n",
              "20    AT09WGFUM934H  B003XN24GY    4.459459\n",
              "21    AT09WGFUM934H  B00BCGRZ04    4.459459\n",
              "22    AT09WGFUM934H  B00006B7DA    4.459459\n",
              "23    AT09WGFUM934H  B002G1YPH0    4.459459\n",
              "24    AT09WGFUM934H  B005CT56F8    4.459459\n",
              "25    ASHJAZC9OA9NS  B000TG4BA0    4.514286\n",
              "26    ASHJAZC9OA9NS  B001IEZX3G    4.514286\n",
              "27    ASHJAZC9OA9NS  B0030DL37I    4.514286\n",
              "28    ASHJAZC9OA9NS  B000PH1DL8    4.514286\n",
              "29    ASHJAZC9OA9NS  B000V1JUKO    4.209143\n",
              "..              ...         ...         ...\n",
              "405  A17HMM1M7T9PJ1  B001OQC0IO    4.261682\n",
              "406  A17HMM1M7T9PJ1  B001VEJEGK    4.261682\n",
              "407  A17HMM1M7T9PJ1  B004Q3R9B0    4.261682\n",
              "408  A17HMM1M7T9PJ1  B001D9IWIY    4.261682\n",
              "409  A17HMM1M7T9PJ1  B00AWYMXZY    4.261682\n",
              "410  A16HXVNPU5TCGE  B00894YWD0    4.693878\n",
              "411  A16HXVNPU5TCGE  B0011NVMO8    4.693878\n",
              "412  A16HXVNPU5TCGE  B001NS0OZ4    4.693878\n",
              "413  A16HXVNPU5TCGE  B001MQ8CBU    4.209143\n",
              "414  A16HXVNPU5TCGE  B004J3V90Y    4.209143\n",
              "415  A14I1F2H7NOYDC  B000M17AVO    4.291667\n",
              "416  A14I1F2H7NOYDC  B005FYNSPK    4.291667\n",
              "417  A14I1F2H7NOYDC  B002RNUXLO    4.209143\n",
              "418  A14I1F2H7NOYDC  B00CVEBCBY    4.209143\n",
              "419  A14I1F2H7NOYDC  B006ZH0LW4    4.209143\n",
              "420  A11ED8O95W2103  B00066I78A    4.209143\n",
              "421  A11ED8O95W2103  B00006IROV    4.209143\n",
              "422  A11ED8O95W2103  B001H4ZCS8    4.209143\n",
              "423  A11ED8O95W2103  B002BBFWFO    4.209143\n",
              "424  A11ED8O95W2103  B00000J3G3    4.209143\n",
              "425  A11D1KHM7DVOQK  B0001FV35U    4.396575\n",
              "426  A11D1KHM7DVOQK  B00009EFEK    4.209143\n",
              "427  A11D1KHM7DVOQK  B00000J1G6    4.209143\n",
              "428  A11D1KHM7DVOQK  B00008Z1QL    4.209143\n",
              "429  A11D1KHM7DVOQK  B00022OAH0    4.209143\n",
              "430  A10X9ME6R66JDX  B003XIJ3MW    5.000000\n",
              "431  A10X9ME6R66JDX  B007FL6100    4.645833\n",
              "432  A10X9ME6R66JDX  B00E3PFW9C    4.645833\n",
              "433  A10X9ME6R66JDX  B0008GMHEI    4.645833\n",
              "434  A10X9ME6R66JDX  B007B6YPAW    4.645833\n",
              "\n",
              "[435 rows x 3 columns]"
            ]
          },
          "metadata": {
            "tags": []
          },
          "execution_count": 91
        }
      ]
    },
    {
      "metadata": {
        "id": "NOQHHKaaPGLB",
        "colab_type": "code",
        "colab": {}
      },
      "cell_type": "code",
      "source": [
        "#Note:-\n",
        "#Could you please guide me over the points,\n",
        "#1.need undersanding over why we RMSE on popularity based, In case colabrative we recommend to user based on what rating he can provide and from est and actual.\n",
        "#but dint understand over Popularity based as it is mean of the rating, even if we split test and train in what way it can help, may be a scenario could help understanding.\n",
        "#2.could you please let me know any other library directly can be used for popularity, I tired with graph lab, but its installation is like key generation"
      ],
      "execution_count": 0,
      "outputs": []
    },
    {
      "metadata": {
        "id": "L1TU54DLjjiq",
        "colab_type": "code",
        "colab": {}
      },
      "cell_type": "code",
      "source": [
        ""
      ],
      "execution_count": 0,
      "outputs": []
    }
  ]
}