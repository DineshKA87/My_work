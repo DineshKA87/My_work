{
  "nbformat": 4,
  "nbformat_minor": 0,
  "metadata": {
    "colab": {
      "name": "planting_kaggle_CNN_Project1.ipynb",
      "version": "0.3.2",
      "provenance": [],
      "collapsed_sections": []
    },
    "kernelspec": {
      "name": "python3",
      "display_name": "Python 3"
    },
    "accelerator": "GPU"
  },
  "cells": [
    {
      "cell_type": "code",
      "metadata": {
        "id": "x2PqyAJZr9UO",
        "colab_type": "code",
        "colab": {}
      },
      "source": [
        "# Ignore  the warnings\n",
        "import warnings\n",
        "warnings.filterwarnings('always')\n",
        "warnings.filterwarnings('ignore')\n",
        "\n",
        "# data visualisation and manipulation\n",
        "import numpy as np\n",
        "import pandas as pd\n",
        "import matplotlib.pyplot as plt\n",
        "from matplotlib import style\n",
        "import seaborn as sns\n",
        " \n",
        "#configure\n",
        "# sets matplotlib to inline and displays graphs below the corressponding cell.\n",
        "%matplotlib inline  \n",
        "style.use('fivethirtyeight')\n",
        "sns.set(style='whitegrid',color_codes=True)\n",
        "\n",
        "#model selection\n",
        "from sklearn.model_selection import train_test_split\n",
        "from sklearn.model_selection import KFold\n",
        "from sklearn.metrics import accuracy_score,precision_score,recall_score,confusion_matrix,roc_curve,roc_auc_score\n",
        "from sklearn.model_selection import GridSearchCV\n",
        "from sklearn.preprocessing import LabelEncoder\n",
        "\n",
        "#preprocess.\n",
        "from keras.preprocessing.image import ImageDataGenerator\n",
        "\n",
        "#dl libraraies\n",
        "from keras import backend as K\n",
        "import keras\n",
        "from keras.models import Sequential\n",
        "from keras.layers import Dense\n",
        "from keras.optimizers import Adam,SGD,Adagrad,Adadelta,RMSprop\n",
        "from keras.utils import to_categorical\n",
        "from keras.callbacks import ReduceLROnPlateau\n",
        "from keras.utils import np_utils\n",
        "from keras.layers import Dropout, Flatten,Activation\n",
        "from keras.layers import Conv2D, MaxPooling2D, BatchNormalization\n",
        " \n",
        "# specifically for cnn\n",
        "\n",
        "from keras.layers import Dense, Activation, Dropout, Flatten, Reshape\n",
        "from keras.layers import Convolution2D\n",
        "from keras.utils import np_utils\n",
        " \n",
        "import tensorflow as tf\n",
        "import random as rn\n",
        "\n",
        "# specifically for manipulating zipped images and getting numpy arrays of pixel values of images.\n",
        "import cv2                  \n",
        "import numpy as np  \n",
        "from tqdm import tqdm\n",
        "import os                   \n",
        "from random import shuffle  \n",
        "from zipfile import ZipFile\n",
        "from PIL import Image\n",
        "\n",
        "#TL pecific modules\n",
        "from keras.applications.vgg16 import VGG16\n",
        "\n",
        "import skimage.io as io"
      ],
      "execution_count": 0,
      "outputs": []
    },
    {
      "cell_type": "code",
      "metadata": {
        "id": "1gk76q0xCKgM",
        "colab_type": "code",
        "outputId": "775aecf2-dbc6-4ca8-cf8a-a51e164252ab",
        "colab": {
          "base_uri": "https://localhost:8080/",
          "height": 122
        }
      },
      "source": [
        "from google.colab import drive\n",
        "drive.mount('/content/gdrive')"
      ],
      "execution_count": 0,
      "outputs": [
        {
          "output_type": "stream",
          "text": [
            "Go to this URL in a browser: https://accounts.google.com/o/oauth2/auth?client_id=947318989803-6bn6qk8qdgf4n4g3pfee6491hc0brc4i.apps.googleusercontent.com&redirect_uri=urn%3Aietf%3Awg%3Aoauth%3A2.0%3Aoob&scope=email%20https%3A%2F%2Fwww.googleapis.com%2Fauth%2Fdocs.test%20https%3A%2F%2Fwww.googleapis.com%2Fauth%2Fdrive%20https%3A%2F%2Fwww.googleapis.com%2Fauth%2Fdrive.photos.readonly%20https%3A%2F%2Fwww.googleapis.com%2Fauth%2Fpeopleapi.readonly&response_type=code\n",
            "\n",
            "Enter your authorization code:\n",
            "··········\n",
            "Mounted at /content/gdrive\n"
          ],
          "name": "stdout"
        }
      ]
    },
    {
      "cell_type": "code",
      "metadata": {
        "id": "JeEoFIzPrgPV",
        "colab_type": "code",
        "colab": {}
      },
      "source": [
        "from IPython.core.interactiveshell import InteractiveShell\n",
        "InteractiveShell.ast_node_interactivity = \"all\""
      ],
      "execution_count": 0,
      "outputs": []
    },
    {
      "cell_type": "code",
      "metadata": {
        "id": "56uuf1dL0EL-",
        "colab_type": "code",
        "colab": {}
      },
      "source": [
        "#from zipfile import ZipFile\n",
        "#with ZipFile('/content/gdrive/My Drive/ML/Data_set/Plant seedings/test.zip', 'r') as z:\n",
        "#    z.extractall('/content/gdrive/My Drive/ML/Data_set/Plant seedings/test_set')\n",
        "    #z.printdir()\n",
        "#    z.close()"
      ],
      "execution_count": 0,
      "outputs": []
    },
    {
      "cell_type": "code",
      "metadata": {
        "id": "Z90rZWc1gUpW",
        "colab_type": "code",
        "outputId": "81e9ab09-c7a8-4943-a228-55fd7ecbb512",
        "colab": {
          "base_uri": "https://localhost:8080/",
          "height": 54
        }
      },
      "source": [
        "path = '/content/gdrive/My Drive/ML/Data_set/Plant seedings/train'\n",
        "dir_name  = os.listdir(path)\n",
        "print(dir_name)"
      ],
      "execution_count": 0,
      "outputs": [
        {
          "output_type": "stream",
          "text": [
            "['Sugar beet', 'Common wheat', 'Cleavers', 'Loose Silky-bent', 'Common Chickweed', 'Maize', 'Scentless Mayweed', 'Small-flowered Cranesbill', 'Fat Hen', 'Shepherds Purse', 'Black-grass', 'Charlock']\n"
          ],
          "name": "stdout"
        }
      ]
    },
    {
      "cell_type": "code",
      "metadata": {
        "id": "gV9B7IiGQ031",
        "colab_type": "code",
        "colab": {}
      },
      "source": [
        "##Till this common step\n",
        "X = []\n",
        "Y = []\n",
        "def image_preprocessing(image):\n",
        "  #img_resize = cv2.resize(cv2.imread(image),(100,100))\n",
        "  blurr = cv2.GaussianBlur(image,(5,5),0)\n",
        "  hsv = cv2.cvtColor(blurr,cv2.COLOR_BGR2HSV)\n",
        "#GREEN PARAMETERS\n",
        "  lower = (25,40,50)\n",
        "  upper = (75,255,255)\n",
        "  hsv_thres = cv2.inRange(hsv,lower,upper)\n",
        "  struc = cv2.getStructuringElement(cv2.MORPH_ELLIPSE,(11,11))\n",
        "#struc = cv2.getStructuringElement(cv2.MORPH_RECT,(,3))\n",
        "  mask = cv2.morphologyEx(hsv_thres,cv2.MORPH_CLOSE,struc)\n",
        "  boolean = mask>0\n",
        "  new = np.zeros_like(image,np.uint8)\n",
        "  new[boolean] = image[boolean]\n",
        "  return new"
      ],
      "execution_count": 0,
      "outputs": []
    },
    {
      "cell_type": "code",
      "metadata": {
        "id": "Q0MOREYZdt35",
        "colab_type": "code",
        "outputId": "a8d9bd19-27cf-4d3d-ab36-a33868854085",
        "colab": {
          "base_uri": "https://localhost:8080/",
          "height": 34
        }
      },
      "source": [
        "print(\"On resizing faced issue in Loose Silky-bent, wr the shape chaged from 100,100,3 to 100,100,4. So made condition to ignore that case alone\")"
      ],
      "execution_count": 0,
      "outputs": [
        {
          "output_type": "stream",
          "text": [
            "On resizing faced issue in Loose Silky-bent, wr the shape chaged from 100,100,3 to 100,100,4. So made condition to ignore that case alone\n"
          ],
          "name": "stdout"
        }
      ]
    },
    {
      "cell_type": "code",
      "metadata": {
        "id": "7-1zWvQzOojS",
        "colab_type": "code",
        "outputId": "01b09b06-e1f9-4bca-e213-690c192e4326",
        "colab": {
          "base_uri": "https://localhost:8080/",
          "height": 34
        }
      },
      "source": [
        "print(\"Data without masking\")"
      ],
      "execution_count": 0,
      "outputs": [
        {
          "output_type": "stream",
          "text": [
            "Data without masking\n"
          ],
          "name": "stdout"
        }
      ]
    },
    {
      "cell_type": "code",
      "metadata": {
        "id": "H-yJe8nMFm3Q",
        "colab_type": "code",
        "colab": {}
      },
      "source": [
        "#Data without masking\n",
        "c=0\n",
        "for i in dir_name:\n",
        "  if i == 'Black-grass':\n",
        "    B = os.listdir(path+'/' + i)\n",
        "    for k in B:\n",
        "      #print((path+'/' + i+ '/'+ k))\n",
        "      img = io.imread(path+'/' + i+ '/'+ k)\n",
        "      img_resize = cv2.resize(imgj,(100,100))\n",
        "      #print(img)\n",
        "      X.append((img_resize))#X.append(image_preprocessing(img_resize))\n",
        "      Y.append(0)\n",
        "  elif i =='Cleavers':\n",
        "    D = os.listdir(path+'/' + i)\n",
        "    for j in D:\n",
        "      imgj = io.imread(path+'/' + i+ '/'+ j)\n",
        "      img_resize = cv2.resize(imgj,(100,100))\n",
        "      #print(img1)\n",
        "      X.append((img_resize))#X.append(image_preprocessing(img_resize))\n",
        "      Y.append(1)\n",
        "  elif i =='Common Chickweed':\n",
        "    D = os.listdir(path+'/' + i)\n",
        "    for j in D:\n",
        "      imgj = io.imread(path+'/' + i+ '/'+ j)\n",
        "      img_resize = cv2.resize(imgj,(100,100))\n",
        "      #print(img)\n",
        "      X.append((img_resize))#X.append(image_preprocessing(img_resize))\n",
        "      Y.append(2)\n",
        "  elif i =='Common wheat':\n",
        "    D = os.listdir(path+'/' + i)\n",
        "    for j in D:\n",
        "      imgj = io.imread(path+'/' + i+ '/'+ j)\n",
        "      img_resize = cv2.resize(imgj,(100,100))\n",
        "      #print(img)\n",
        "      X.append((img_resize))#X.append(image_preprocessing(img_resize))\n",
        "      Y.append(3)\n",
        "  elif i =='Charlock':\n",
        "    D = os.listdir(path+'/' + i)\n",
        "    for j in D:\n",
        "      imgj = io.imread(path+'/' + i+ '/'+ j)\n",
        "      img_resize = cv2.resize(imgj,(100,100))\n",
        "      #print(img)\n",
        "      X.append(img_resize)#X.append(image_preprocessing(img_resize))\n",
        "      Y.append(4)\n",
        "  elif i =='Loose Silky-bent':\n",
        "    D = os.listdir(path+'/' + i)\n",
        "    for j in D:\n",
        "      imgj = io.imread(path+'/' + i+ '/'+ j)\n",
        "      img_resize = cv2.resize(imgj,(100,100))\n",
        "      #print(img)\n",
        "      if img_resize.shape[2] != 4:\n",
        "        #print(\"count \", c + 1)\n",
        "        X.append(img_resize)#X.append(image_preprocessing(img_resize))\n",
        "        Y.append(5)\n",
        "  elif i =='Fat Hen':\n",
        "    D = os.listdir(path+'/' + i)\n",
        "    for j in D:\n",
        "      imgj = io.imread(path+'/' + i+ '/'+ j)\n",
        "      img_resize = cv2.resize(imgj,(100,100))\n",
        "      #print(img)\n",
        "      X.append(img_resize)#X.append(image_preprocessing(img_resize))\n",
        "      Y.append(6)\n",
        "  elif i =='Maize':\n",
        "    D = os.listdir(path+'/' + i)\n",
        "    for j in D:\n",
        "      imgj = io.imread(path+'/' + i+ '/'+ j)\n",
        "      img_resize = cv2.resize(imgj,(100,100))\n",
        "      #print(img)\n",
        "      X.append(img_resize)#X.append(image_preprocessing(img_resize))\n",
        "      Y.append(7)\n",
        "  elif i =='Scentless Mayweed':\n",
        "    D = os.listdir(path+'/' + i)\n",
        "    for j in D:\n",
        "      imgj = io.imread(path+'/' + i+ '/'+ j)\n",
        "      img_resize = cv2.resize(imgj,(100,100))\n",
        "      #print(img)\n",
        "      X.append(img_resize)#X.append(image_preprocessing(img_resize))\n",
        "      Y.append(8)\n",
        "  elif i =='Shepherds Purse':\n",
        "    D = os.listdir(path+'/' + i)\n",
        "    for j in D:\n",
        "      imgj = io.imread(path+'/' + i+ '/'+ j)\n",
        "      img_resize = cv2.resize(imgj,(100,100))\n",
        "      #print(img)\n",
        "      X.append(img_resize)#X.append(image_preprocessing(img_resize))\n",
        "      Y.append(9)\n",
        "  elif i =='Small-flowered Cranesbill':\n",
        "    D = os.listdir(path+'/' + i)\n",
        "    for j in D:\n",
        "      imgj = io.imread(path+'/' + i+ '/'+ j)\n",
        "      img_resize = cv2.resize(imgj,(100,100))\n",
        "      #print(img)\n",
        "      X.append(img_resize)#X.append(image_preprocessing(img_resize))\n",
        "      Y.append(10)\n",
        "  elif i =='Sugar beet':\n",
        "    D = os.listdir(path+'/' + i)\n",
        "    for j in D:\n",
        "      imgj = io.imread(path+'/' + i+ '/'+ j)\n",
        "      #print(path+'/' + i+ '/'+ j)\n",
        "      #print(imgj)\n",
        "      #print(imgj.shape)\n",
        "      img_resize = cv2.resize(imgj,(100,100))\n",
        "      #print(img2)\n",
        "      X.append(img_resize)#X.append(image_preprocessing(img_resize))\n",
        "      Y.append(11)"
      ],
      "execution_count": 0,
      "outputs": []
    },
    {
      "cell_type": "code",
      "metadata": {
        "id": "Kdb4HecTzsPh",
        "colab_type": "code",
        "outputId": "396b707e-dadb-4cbc-8f70-acc52499d429",
        "colab": {
          "base_uri": "https://localhost:8080/",
          "height": 307
        }
      },
      "source": [
        "cvc_img = cv2.imread('/content/gdrive/My Drive/ML/Data_set/Plant seedings/train/Sugar beet/00acffa82.png',cv2.IMREAD_COLOR)\n",
        "imga_resize = cv2.resize(cvc_img,(100,100))\n",
        "#h = image_preprocessing(imga_resize)\n",
        "#h = imga_resize\n",
        "plt.imshow(imga_resize)\n",
        "plt.show()"
      ],
      "execution_count": 0,
      "outputs": [
        {
          "output_type": "execute_result",
          "data": {
            "text/plain": [
              "<matplotlib.image.AxesImage at 0x7f601cffe320>"
            ]
          },
          "metadata": {
            "tags": []
          },
          "execution_count": 11
        },
        {
          "output_type": "display_data",
          "data": {
            "image/png": "[encoded data removed]",
            "text/plain": [
              "<Figure size 432x288 with 1 Axes>"
            ]
          },
          "metadata": {
            "tags": []
          }
        }
      ]
    },
    {
      "cell_type": "code",
      "metadata": {
        "id": "1YxmD5fAzsTu",
        "colab_type": "code",
        "colab": {}
      },
      "source": [
        "x = np.asarray(X)\n",
        "y = np.asarray(Y)\n",
        "\n",
        "x = x.astype('float32')\n",
        "\n",
        "from sklearn.model_selection import train_test_split\n",
        "X_train, X_test, y_train, y_test = train_test_split(x,y, test_size = 0.2, random_state = 15,stratify=y)\n",
        "\n",
        "X_train /= 255\n",
        "X_test /= 255\n",
        "\n"
      ],
      "execution_count": 0,
      "outputs": []
    },
    {
      "cell_type": "code",
      "metadata": {
        "id": "SGO50f4CzsYC",
        "colab_type": "code",
        "outputId": "8336bcaa-8d19-4de3-fd63-b66a9bc5503e",
        "colab": {
          "base_uri": "https://localhost:8080/",
          "height": 34
        }
      },
      "source": [
        "np.unique(y_test)\n",
        "np.unique(y_train)\n",
        "\n",
        "y_train.shape\n",
        "y_train = np_utils.to_categorical(y_train, 12)\n",
        "y_test = np_utils.to_categorical(y_test, 12)\n",
        "\n",
        "y_train.shape"
      ],
      "execution_count": 0,
      "outputs": [
        {
          "output_type": "execute_result",
          "data": {
            "text/plain": [
              "array([ 0,  1,  2,  3,  4,  5,  6,  7,  8,  9, 10, 11])"
            ]
          },
          "metadata": {
            "tags": []
          },
          "execution_count": 13
        },
        {
          "output_type": "execute_result",
          "data": {
            "text/plain": [
              "array([ 0,  1,  2,  3,  4,  5,  6,  7,  8,  9, 10, 11])"
            ]
          },
          "metadata": {
            "tags": []
          },
          "execution_count": 13
        },
        {
          "output_type": "execute_result",
          "data": {
            "text/plain": [
              "(3796,)"
            ]
          },
          "metadata": {
            "tags": []
          },
          "execution_count": 13
        },
        {
          "output_type": "execute_result",
          "data": {
            "text/plain": [
              "(3796, 12)"
            ]
          },
          "metadata": {
            "tags": []
          },
          "execution_count": 13
        }
      ]
    },
    {
      "cell_type": "code",
      "metadata": {
        "id": "aJAcn0SG0iqq",
        "colab_type": "code",
        "outputId": "e518bfe6-e9fe-443f-894f-6a0267d73739",
        "colab": {
          "base_uri": "https://localhost:8080/",
          "height": 34
        }
      },
      "source": [
        "X_train.shape\n",
        "X_test.shape"
      ],
      "execution_count": 0,
      "outputs": [
        {
          "output_type": "execute_result",
          "data": {
            "text/plain": [
              "(3796, 100, 100, 3)"
            ]
          },
          "metadata": {
            "tags": []
          },
          "execution_count": 14
        },
        {
          "output_type": "execute_result",
          "data": {
            "text/plain": [
              "(949, 100, 100, 3)"
            ]
          },
          "metadata": {
            "tags": []
          },
          "execution_count": 14
        }
      ]
    },
    {
      "cell_type": "code",
      "metadata": {
        "id": "Mwf0-qMtXHGS",
        "colab_type": "code",
        "outputId": "a4164c97-90e3-4330-f7aa-7d8568159656",
        "colab": {
          "base_uri": "https://localhost:8080/",
          "height": 34
        }
      },
      "source": [
        "print(\"Model with Relu\")"
      ],
      "execution_count": 0,
      "outputs": [
        {
          "output_type": "stream",
          "text": [
            "Model with Relu\n"
          ],
          "name": "stdout"
        }
      ]
    },
    {
      "cell_type": "code",
      "metadata": {
        "id": "5-cqOMfb1NJm",
        "colab_type": "code",
        "colab": {}
      },
      "source": [
        "TRAIN = True\n",
        "BATCH_SIZE = 50\n",
        "EPOCHS = 30"
      ],
      "execution_count": 0,
      "outputs": []
    },
    {
      "cell_type": "code",
      "metadata": {
        "id": "Dr7l2S94zsIF",
        "colab_type": "code",
        "outputId": "5598a012-33a8-4123-daf2-1e9bc855e81f",
        "colab": {
          "base_uri": "https://localhost:8080/",
          "height": 1071
        }
      },
      "source": [
        "model = Sequential()\n",
        "\n",
        "    # 1st Conv Layer\n",
        "model.add(Convolution2D(32, 3, 3, input_shape=(100, 100, 3)))\n",
        "model.add(Activation('relu'))\n",
        "model.add(BatchNormalization())\n",
        "\n",
        "    # 2nd Conv Layer\n",
        "model.add(Convolution2D(64, 3, 3))\n",
        "    # Max Pooling\n",
        "model.add(MaxPooling2D(pool_size=(2,2)))\n",
        "    # Dropout\n",
        "model.add(Dropout(0.25))\n",
        "model.add(Activation('relu'))\n",
        "model.add(BatchNormalization())\n",
        "\n",
        "\n",
        "    # 3rd Conv Layer\n",
        "model.add(Convolution2D(128, 3, 3))\n",
        "    # Max Pooling\n",
        "model.add(MaxPooling2D(pool_size=(2,2)))\n",
        "    # Dropout\n",
        "model.add(Dropout(0.25))\n",
        "model.add(Activation('relu'))\n",
        "model.add(BatchNormalization())\n",
        "\n",
        "\n",
        "    # 3rd Conv Layer\n",
        "model.add(Convolution2D(256, 3, 3))\n",
        "    # Max Pooling\n",
        "model.add(MaxPooling2D(pool_size=(2,2)))\n",
        "    # Dropout\n",
        "model.add(Dropout(0.25))\n",
        "model.add(Activation('relu'))\n",
        "model.add(BatchNormalization())\n",
        "\n",
        "\n",
        "\n",
        "    # Fully Connected Layer\n",
        "model.add(Flatten())\n",
        "model.add(Dense(512))\n",
        "model.add(Activation('relu'))\n",
        "model.add(BatchNormalization())\n",
        "\n",
        "\n",
        "model.add(Dense(1024))\n",
        "model.add(Activation('relu'))\n",
        "model.add(BatchNormalization())\n",
        "\n",
        "\n",
        "    # Prediction Layer\n",
        "model.add(Dense(12))\n",
        "model.add(Activation('softmax'))\n",
        "\n",
        "    # Loss and Optimizer\n",
        "model.compile(loss='categorical_crossentropy', optimizer='adam', metrics=['accuracy'])\n",
        "    \n",
        "\n",
        "    # Store Training Results\n",
        "early_stopping = keras.callbacks.EarlyStopping(monitor='val_acc', patience=10, verbose=1, mode='auto')\n",
        "callback_list = [early_stopping]# [stats, early_stopping]\n",
        "model.fit(X_train, y_train, batch_size=BATCH_SIZE, nb_epoch=EPOCHS, \n",
        "          validation_data=(X_test, y_test), callbacks=callback_list)"
      ],
      "execution_count": 0,
      "outputs": [
        {
          "output_type": "stream",
          "text": [
            "Train on 3796 samples, validate on 949 samples\n",
            "Epoch 1/30\n",
            "3796/3796 [==============================] - 8s 2ms/step - loss: 1.2228 - acc: 0.6291 - val_loss: 3.0063 - val_acc: 0.4183\n",
            "Epoch 2/30\n",
            "3796/3796 [==============================] - 6s 2ms/step - loss: 0.4529 - acc: 0.8556 - val_loss: 0.9281 - val_acc: 0.7492\n",
            "Epoch 3/30\n",
            "3796/3796 [==============================] - 6s 2ms/step - loss: 0.2912 - acc: 0.9033 - val_loss: 0.8560 - val_acc: 0.7703\n",
            "Epoch 4/30\n",
            "3796/3796 [==============================] - 6s 2ms/step - loss: 0.2030 - acc: 0.9365 - val_loss: 1.9433 - val_acc: 0.6027\n",
            "Epoch 5/30\n",
            "3796/3796 [==============================] - 6s 2ms/step - loss: 0.1938 - acc: 0.9362 - val_loss: 1.5370 - val_acc: 0.6607\n",
            "Epoch 6/30\n",
            "3796/3796 [==============================] - 6s 2ms/step - loss: 0.1395 - acc: 0.9510 - val_loss: 0.7981 - val_acc: 0.8177\n",
            "Epoch 7/30\n",
            "3796/3796 [==============================] - 6s 2ms/step - loss: 0.0697 - acc: 0.9797 - val_loss: 1.2884 - val_acc: 0.7102\n",
            "Epoch 8/30\n",
            "3796/3796 [==============================] - 6s 2ms/step - loss: 0.0583 - acc: 0.9837 - val_loss: 0.4803 - val_acc: 0.8746\n",
            "Epoch 9/30\n",
            "3796/3796 [==============================] - 6s 2ms/step - loss: 0.0560 - acc: 0.9842 - val_loss: 4.6885 - val_acc: 0.3614\n",
            "Epoch 10/30\n",
            "3796/3796 [==============================] - 6s 2ms/step - loss: 0.0529 - acc: 0.9837 - val_loss: 0.6440 - val_acc: 0.8156\n",
            "Epoch 11/30\n",
            "3796/3796 [==============================] - 6s 2ms/step - loss: 0.0796 - acc: 0.9763 - val_loss: 0.6708 - val_acc: 0.8377\n",
            "Epoch 12/30\n",
            "3796/3796 [==============================] - 6s 2ms/step - loss: 0.0817 - acc: 0.9771 - val_loss: 0.8943 - val_acc: 0.8093\n",
            "Epoch 13/30\n",
            "3796/3796 [==============================] - 6s 2ms/step - loss: 0.0757 - acc: 0.9760 - val_loss: 0.8277 - val_acc: 0.8103\n",
            "Epoch 14/30\n",
            "3796/3796 [==============================] - 6s 2ms/step - loss: 0.0456 - acc: 0.9871 - val_loss: 0.5062 - val_acc: 0.8799\n",
            "Epoch 15/30\n",
            "3796/3796 [==============================] - 6s 2ms/step - loss: 0.0515 - acc: 0.9855 - val_loss: 0.7033 - val_acc: 0.8546\n",
            "Epoch 16/30\n",
            "3796/3796 [==============================] - 6s 2ms/step - loss: 0.0256 - acc: 0.9921 - val_loss: 0.5412 - val_acc: 0.8862\n",
            "Epoch 17/30\n",
            "3796/3796 [==============================] - 6s 2ms/step - loss: 0.0363 - acc: 0.9913 - val_loss: 0.6428 - val_acc: 0.8567\n",
            "Epoch 18/30\n",
            "3796/3796 [==============================] - 6s 2ms/step - loss: 0.0592 - acc: 0.9813 - val_loss: 0.4480 - val_acc: 0.8967\n",
            "Epoch 19/30\n",
            "3796/3796 [==============================] - 6s 2ms/step - loss: 0.0683 - acc: 0.9808 - val_loss: 0.8314 - val_acc: 0.8188\n",
            "Epoch 20/30\n",
            "3796/3796 [==============================] - 6s 2ms/step - loss: 0.0454 - acc: 0.9852 - val_loss: 0.7167 - val_acc: 0.8514\n",
            "Epoch 21/30\n",
            "3796/3796 [==============================] - 6s 2ms/step - loss: 0.0462 - acc: 0.9863 - val_loss: 0.4832 - val_acc: 0.8925\n",
            "Epoch 22/30\n",
            "3796/3796 [==============================] - 6s 2ms/step - loss: 0.0378 - acc: 0.9863 - val_loss: 0.8205 - val_acc: 0.8261\n",
            "Epoch 23/30\n",
            "3796/3796 [==============================] - 6s 2ms/step - loss: 0.0233 - acc: 0.9942 - val_loss: 1.8252 - val_acc: 0.6891\n",
            "Epoch 24/30\n",
            "3796/3796 [==============================] - 6s 2ms/step - loss: 0.0523 - acc: 0.9823 - val_loss: 0.6895 - val_acc: 0.8704\n",
            "Epoch 25/30\n",
            "3796/3796 [==============================] - 6s 2ms/step - loss: 0.0584 - acc: 0.9847 - val_loss: 1.8068 - val_acc: 0.6754\n",
            "Epoch 26/30\n",
            "3796/3796 [==============================] - 6s 2ms/step - loss: 0.0906 - acc: 0.9737 - val_loss: 1.7791 - val_acc: 0.7092\n",
            "Epoch 27/30\n",
            "3796/3796 [==============================] - 6s 2ms/step - loss: 0.0322 - acc: 0.9884 - val_loss: 0.5075 - val_acc: 0.8978\n",
            "Epoch 28/30\n",
            "3796/3796 [==============================] - 6s 2ms/step - loss: 0.0225 - acc: 0.9934 - val_loss: 0.6407 - val_acc: 0.8641\n",
            "Epoch 29/30\n",
            "3796/3796 [==============================] - 6s 2ms/step - loss: 0.0179 - acc: 0.9958 - val_loss: 0.4573 - val_acc: 0.9115\n",
            "Epoch 30/30\n",
            "3796/3796 [==============================] - 6s 2ms/step - loss: 0.0150 - acc: 0.9966 - val_loss: 0.3912 - val_acc: 0.9031\n"
          ],
          "name": "stdout"
        },
        {
          "output_type": "execute_result",
          "data": {
            "text/plain": [
              "<keras.callbacks.History at 0x7f5fece4c1d0>"
            ]
          },
          "metadata": {
            "tags": []
          },
          "execution_count": 18
        }
      ]
    },
    {
      "cell_type": "code",
      "metadata": {
        "id": "OD1c8yHb-S0b",
        "colab_type": "code",
        "outputId": "e83e0910-cf1e-46f2-bfdc-236369671f0d",
        "colab": {
          "base_uri": "https://localhost:8080/",
          "height": 34
        }
      },
      "source": [
        "print(\"Model with leaky relu , Data generator - Image Augmentation\")"
      ],
      "execution_count": 0,
      "outputs": [
        {
          "output_type": "stream",
          "text": [
            "Data generator - Image Augumentation\n"
          ],
          "name": "stdout"
        }
      ]
    },
    {
      "cell_type": "code",
      "metadata": {
        "id": "a7fOMtrwHghZ",
        "colab_type": "code",
        "colab": {}
      },
      "source": [
        "TRAIN = True\n",
        "BATCH_SIZE = 50\n",
        "EPOCHS = 40\n",
        "from keras.layers import LeakyReLU"
      ],
      "execution_count": 0,
      "outputs": []
    },
    {
      "cell_type": "code",
      "metadata": {
        "id": "wI-0G6j-_SVa",
        "colab_type": "code",
        "colab": {}
      },
      "source": [
        "model = Sequential()\n",
        "\n",
        "    # 1st Conv Layer\n",
        "model.add(Convolution2D(32, 3, 3, input_shape=(100, 100, 3)))\n",
        "model.add(LeakyReLU(alpha=0.1))\n",
        "model.add(BatchNormalization())\n",
        "\n",
        "    # 2nd Conv Layer\n",
        "model.add(Convolution2D(64, 3, 3))\n",
        "    # Max Pooling\n",
        "model.add(MaxPooling2D(pool_size=(2,2)))\n",
        "    # Dropout\n",
        "model.add(Dropout(0.25))\n",
        "model.add(LeakyReLU(alpha=0.01))\n",
        "model.add(BatchNormalization())\n",
        "\n",
        "\n",
        "    # 3rd Conv Layer\n",
        "model.add(Convolution2D(128, 3, 3))\n",
        "    # Max Pooling\n",
        "model.add(MaxPooling2D(pool_size=(2,2)))\n",
        "    # Dropout\n",
        "model.add(Dropout(0.25))\n",
        "model.add(LeakyReLU(alpha=0.01))\n",
        "model.add(BatchNormalization())\n",
        "\n",
        "\n",
        "    # 3rd Conv Layer\n",
        "model.add(Convolution2D(256, 3, 3))\n",
        "    # Max Pooling\n",
        "model.add(MaxPooling2D(pool_size=(2,2)))\n",
        "    # Dropout\n",
        "model.add(Dropout(0.25))\n",
        "model.add(LeakyReLU(alpha=0.01))\n",
        "model.add(BatchNormalization())\n",
        "\n",
        "\n",
        "\n",
        "    # Fully Connected Layer\n",
        "model.add(Flatten())\n",
        "model.add(Dense(512))\n",
        "model.add(LeakyReLU(alpha=0.01))\n",
        "model.add(BatchNormalization())\n",
        "\n",
        "\n",
        "model.add(Dense(1024))\n",
        "model.add(LeakyReLU(alpha=0.01))\n",
        "model.add(BatchNormalization())\n",
        "\n",
        "\n",
        "    # Prediction Layer\n",
        "model.add(Dense(12))\n",
        "model.add(Activation('softmax'))\n",
        "\n",
        "    # Loss and Optimizer\n",
        "model.compile(loss='categorical_crossentropy', optimizer='adam', metrics=['accuracy'])\n",
        "    \n",
        "\n",
        "    # Store Training Results\n",
        "early_stopping = keras.callbacks.EarlyStopping(monitor='val_acc', patience=10, verbose=1, mode='auto')\n",
        "callback_list = [early_stopping]# [stats, early_stopping]\n"
      ],
      "execution_count": 0,
      "outputs": []
    },
    {
      "cell_type": "code",
      "metadata": {
        "id": "13Qy4Yb8_SPs",
        "colab_type": "code",
        "colab": {}
      },
      "source": [
        ""
      ],
      "execution_count": 0,
      "outputs": []
    },
    {
      "cell_type": "code",
      "metadata": {
        "id": "2mD_kwl4-H_l",
        "colab_type": "code",
        "colab": {}
      },
      "source": [
        "from keras.preprocessing.image import ImageDataGenerator\n",
        "\n",
        "# This will do preprocessing and realtime data augmentation:\n",
        "datagen = ImageDataGenerator(\n",
        "    featurewise_center=False,  # set input mean to 0 over the dataset\n",
        "    samplewise_center=False,  # set each sample mean to 0\n",
        "    featurewise_std_normalization=False,  # divide inputs by std of the dataset\n",
        "    samplewise_std_normalization=False,  # divide each input by its std\n",
        "    zca_whitening=False,  # apply ZCA whitening\n",
        "    rotation_range=360,  # randomly rotate images in the range (degrees, 0 to 180)\n",
        "    width_shift_range=0.1,  # randomly shift images horizontally (fraction of total width)\n",
        "    height_shift_range=0.1,  # randomly shift images vertically (fraction of total height)\n",
        "    horizontal_flip=True,  # randomly flip images\n",
        "    vertical_flip=True,\n",
        "    zoom_range=0.3,)  # randomly flip images\n",
        "\n",
        "# Prepare the generator\n",
        "datagen.fit(X_train)\n"
      ],
      "execution_count": 0,
      "outputs": []
    },
    {
      "cell_type": "code",
      "metadata": {
        "id": "xwsNGShC-H8S",
        "colab_type": "code",
        "outputId": "b71c069a-4326-48eb-d950-45dbeaf02816",
        "colab": {
          "base_uri": "https://localhost:8080/",
          "height": 1054
        }
      },
      "source": [
        "TRAIN= True\n",
        "\n",
        "model.compile(loss='categorical_crossentropy', optimizer='adam', metrics=['accuracy'])\n",
        "if TRAIN:\n",
        "    model.fit_generator(datagen.flow(X_train, y_train,\n",
        "                         batch_size=BATCH_SIZE),\n",
        "                         samples_per_epoch=X_train.shape[0],\n",
        "                         nb_epoch=EPOCHS,\n",
        "                         validation_data=(X_test, y_test), callbacks=callback_list)\n",
        "    model.save('./cnn_augment.h5')\n",
        "else:\n",
        "    print('Loading pretrained model...')\n",
        "    model = keras.models.load_model('./cnn_augment.h5')\n",
        "    print('Model Loaded.')"
      ],
      "execution_count": 0,
      "outputs": [
        {
          "output_type": "stream",
          "text": [
            "Epoch 1/30\n",
            "75/75 [==============================] - 11s 146ms/step - loss: 1.6846 - acc: 0.5133 - val_loss: 2.9766 - val_acc: 0.4816\n",
            "Epoch 2/30\n",
            "75/75 [==============================] - 9s 121ms/step - loss: 0.9334 - acc: 0.6998 - val_loss: 0.9394 - val_acc: 0.7408\n",
            "Epoch 3/30\n",
            "75/75 [==============================] - 9s 126ms/step - loss: 0.7051 - acc: 0.7732 - val_loss: 0.6049 - val_acc: 0.8145\n",
            "Epoch 4/30\n",
            "75/75 [==============================] - 9s 124ms/step - loss: 0.5777 - acc: 0.8135 - val_loss: 0.9045 - val_acc: 0.7271\n",
            "Epoch 5/30\n",
            "75/75 [==============================] - 9s 124ms/step - loss: 0.5307 - acc: 0.8286 - val_loss: 1.0879 - val_acc: 0.6649\n",
            "Epoch 6/30\n",
            "75/75 [==============================] - 9s 125ms/step - loss: 0.4527 - acc: 0.8548 - val_loss: 2.1231 - val_acc: 0.5153\n",
            "Epoch 7/30\n",
            "75/75 [==============================] - 9s 123ms/step - loss: 0.4043 - acc: 0.8697 - val_loss: 1.9340 - val_acc: 0.5448\n",
            "Epoch 8/30\n",
            "75/75 [==============================] - 9s 122ms/step - loss: 0.3564 - acc: 0.8809 - val_loss: 0.9008 - val_acc: 0.7808\n",
            "Epoch 9/30\n",
            "75/75 [==============================] - 9s 122ms/step - loss: 0.3438 - acc: 0.8855 - val_loss: 1.0535 - val_acc: 0.7334\n",
            "Epoch 10/30\n",
            "75/75 [==============================] - 9s 122ms/step - loss: 0.3074 - acc: 0.9045 - val_loss: 0.7906 - val_acc: 0.7734\n",
            "Epoch 11/30\n",
            "75/75 [==============================] - 9s 124ms/step - loss: 0.3066 - acc: 0.8998 - val_loss: 0.9887 - val_acc: 0.7545\n",
            "Epoch 12/30\n",
            "75/75 [==============================] - 9s 124ms/step - loss: 0.2925 - acc: 0.9026 - val_loss: 0.5581 - val_acc: 0.8440\n",
            "Epoch 13/30\n",
            "75/75 [==============================] - 9s 123ms/step - loss: 0.2693 - acc: 0.9135 - val_loss: 0.7726 - val_acc: 0.7882\n",
            "Epoch 14/30\n",
            "75/75 [==============================] - 9s 123ms/step - loss: 0.2503 - acc: 0.9224 - val_loss: 0.6644 - val_acc: 0.8145\n",
            "Epoch 15/30\n",
            "75/75 [==============================] - 9s 122ms/step - loss: 0.2292 - acc: 0.9199 - val_loss: 0.7421 - val_acc: 0.7787\n",
            "Epoch 16/30\n",
            "75/75 [==============================] - 9s 123ms/step - loss: 0.2089 - acc: 0.9285 - val_loss: 0.6179 - val_acc: 0.8272\n",
            "Epoch 17/30\n",
            "75/75 [==============================] - 9s 122ms/step - loss: 0.2453 - acc: 0.9141 - val_loss: 1.4944 - val_acc: 0.6101\n",
            "Epoch 18/30\n",
            "75/75 [==============================] - 9s 123ms/step - loss: 0.1981 - acc: 0.9343 - val_loss: 0.7674 - val_acc: 0.7924\n",
            "Epoch 19/30\n",
            "75/75 [==============================] - 9s 122ms/step - loss: 0.1966 - acc: 0.9327 - val_loss: 0.9837 - val_acc: 0.7460\n",
            "Epoch 20/30\n",
            "75/75 [==============================] - 9s 125ms/step - loss: 0.1885 - acc: 0.9330 - val_loss: 0.6348 - val_acc: 0.8346\n",
            "Epoch 21/30\n",
            "75/75 [==============================] - 9s 123ms/step - loss: 0.1930 - acc: 0.9386 - val_loss: 0.2081 - val_acc: 0.9431\n",
            "Epoch 22/30\n",
            "75/75 [==============================] - 9s 122ms/step - loss: 0.1843 - acc: 0.9396 - val_loss: 1.9975 - val_acc: 0.6828\n",
            "Epoch 23/30\n",
            "75/75 [==============================] - 9s 122ms/step - loss: 0.2103 - acc: 0.9333 - val_loss: 0.5471 - val_acc: 0.8556\n",
            "Epoch 24/30\n",
            "75/75 [==============================] - 9s 123ms/step - loss: 0.1795 - acc: 0.9384 - val_loss: 1.0120 - val_acc: 0.8040\n",
            "Epoch 25/30\n",
            "75/75 [==============================] - 9s 122ms/step - loss: 0.2121 - acc: 0.9317 - val_loss: 0.9973 - val_acc: 0.7292\n",
            "Epoch 26/30\n",
            "75/75 [==============================] - 9s 123ms/step - loss: 0.1778 - acc: 0.9389 - val_loss: 0.3798 - val_acc: 0.8904\n",
            "Epoch 27/30\n",
            "75/75 [==============================] - 9s 123ms/step - loss: 0.1693 - acc: 0.9477 - val_loss: 0.3409 - val_acc: 0.8999\n",
            "Epoch 28/30\n",
            "75/75 [==============================] - 9s 122ms/step - loss: 0.1671 - acc: 0.9463 - val_loss: 0.2157 - val_acc: 0.9357\n",
            "Epoch 29/30\n",
            "75/75 [==============================] - 9s 125ms/step - loss: 0.1704 - acc: 0.9450 - val_loss: 0.7422 - val_acc: 0.8145\n",
            "Epoch 30/30\n",
            "75/75 [==============================] - 9s 123ms/step - loss: 0.1682 - acc: 0.9469 - val_loss: 0.9454 - val_acc: 0.7829\n"
          ],
          "name": "stdout"
        },
        {
          "output_type": "execute_result",
          "data": {
            "text/plain": [
              "<keras.callbacks.History at 0x7f5f534ae978>"
            ]
          },
          "metadata": {
            "tags": []
          },
          "execution_count": 30
        }
      ]
    },
    {
      "cell_type": "code",
      "metadata": {
        "id": "7NZcSB3e-H4z",
        "colab_type": "code",
        "outputId": "3ec24cec-8f05-4d26-faef-26521ea5e8d3",
        "colab": {
          "base_uri": "https://localhost:8080/",
          "height": 34
        }
      },
      "source": [
        "print(\"image Accuracy went till 93, 94%\")"
      ],
      "execution_count": 0,
      "outputs": [
        {
          "output_type": "stream",
          "text": [
            "image Accuracy went till 93, 94%\n"
          ],
          "name": "stdout"
        }
      ]
    },
    {
      "cell_type": "code",
      "metadata": {
        "id": "NSbuaSYEL7dd",
        "colab_type": "code",
        "outputId": "1e41b158-426e-488c-89d6-f084394b8570",
        "colab": {
          "base_uri": "https://localhost:8080/",
          "height": 34
        }
      },
      "source": [
        "print(\"Model with leaky relu\")"
      ],
      "execution_count": 0,
      "outputs": [
        {
          "output_type": "stream",
          "text": [
            "Model with leaky relu\n"
          ],
          "name": "stdout"
        }
      ]
    },
    {
      "cell_type": "code",
      "metadata": {
        "id": "43rfAGrPKiXV",
        "colab_type": "code",
        "colab": {}
      },
      "source": [
        "TRAIN = True\n",
        "BATCH_SIZE = 50\n",
        "EPOCHS = 40\n",
        "from keras.layers import LeakyReLU"
      ],
      "execution_count": 0,
      "outputs": []
    },
    {
      "cell_type": "code",
      "metadata": {
        "id": "kFO7wNFLKid2",
        "colab_type": "code",
        "outputId": "0ed931cb-940f-48a5-f09a-a79237acee9b",
        "colab": {
          "base_uri": "https://localhost:8080/",
          "height": 986
        }
      },
      "source": [
        "model = Sequential()\n",
        "\n",
        "    # 1st Conv Layer\n",
        "model.add(Convolution2D(32, 3, 3, input_shape=(100, 100, 3)))\n",
        "model.add(LeakyReLU(alpha=0.1))\n",
        "model.add(BatchNormalization())\n",
        "\n",
        "    # 2nd Conv Layer\n",
        "model.add(Convolution2D(64, 3, 3))\n",
        "    # Max Pooling\n",
        "model.add(MaxPooling2D(pool_size=(2,2)))\n",
        "    # Dropout\n",
        "model.add(Dropout(0.25))\n",
        "model.add(LeakyReLU(alpha=0.01))\n",
        "model.add(BatchNormalization())\n",
        "\n",
        "\n",
        "    # 3rd Conv Layer\n",
        "model.add(Convolution2D(128, 3, 3))\n",
        "    # Max Pooling\n",
        "model.add(MaxPooling2D(pool_size=(2,2)))\n",
        "    # Dropout\n",
        "model.add(Dropout(0.25))\n",
        "model.add(LeakyReLU(alpha=0.01))\n",
        "model.add(BatchNormalization())\n",
        "\n",
        "\n",
        "    # 3rd Conv Layer\n",
        "model.add(Convolution2D(256, 3, 3))\n",
        "    # Max Pooling\n",
        "model.add(MaxPooling2D(pool_size=(2,2)))\n",
        "    # Dropout\n",
        "model.add(Dropout(0.25))\n",
        "model.add(LeakyReLU(alpha=0.01))\n",
        "model.add(BatchNormalization())\n",
        "\n",
        "\n",
        "\n",
        "    # Fully Connected Layer\n",
        "model.add(Flatten())\n",
        "model.add(Dense(512))\n",
        "model.add(LeakyReLU(alpha=0.01))\n",
        "model.add(BatchNormalization())\n",
        "\n",
        "\n",
        "model.add(Dense(1024))\n",
        "model.add(LeakyReLU(alpha=0.01))\n",
        "model.add(BatchNormalization())\n",
        "\n",
        "\n",
        "    # Prediction Layer\n",
        "model.add(Dense(12))\n",
        "model.add(Activation('softmax'))\n",
        "\n",
        "    # Loss and Optimizer\n",
        "model.compile(loss='categorical_crossentropy', optimizer='adam', metrics=['accuracy'])\n",
        "    \n",
        "\n",
        "    # Store Training Results\n",
        "early_stopping = keras.callbacks.EarlyStopping(monitor='val_acc', patience=10, verbose=1, mode='auto')\n",
        "callback_list = [early_stopping]# [stats, early_stopping]\n",
        "\n",
        "model.fit(X_train, y_train, batch_size=BATCH_SIZE, nb_epoch=EPOCHS, \n",
        "          validation_data=(X_test, y_test), callbacks=callback_list)"
      ],
      "execution_count": 0,
      "outputs": [
        {
          "output_type": "stream",
          "text": [
            "Train on 3796 samples, validate on 949 samples\n",
            "Epoch 1/40\n",
            "3796/3796 [==============================] - 8s 2ms/step - loss: 1.3057 - acc: 0.6236 - val_loss: 1.6451 - val_acc: 0.6017\n",
            "Epoch 2/40\n",
            "3796/3796 [==============================] - 6s 2ms/step - loss: 0.4713 - acc: 0.8535 - val_loss: 0.5117 - val_acc: 0.8346\n",
            "Epoch 3/40\n",
            "3796/3796 [==============================] - 6s 2ms/step - loss: 0.2820 - acc: 0.9099 - val_loss: 0.7526 - val_acc: 0.7703\n",
            "Epoch 4/40\n",
            "3796/3796 [==============================] - 6s 2ms/step - loss: 0.2270 - acc: 0.9278 - val_loss: 1.1931 - val_acc: 0.7376\n",
            "Epoch 5/40\n",
            "3796/3796 [==============================] - 6s 2ms/step - loss: 0.1350 - acc: 0.9557 - val_loss: 0.5060 - val_acc: 0.8641\n",
            "Epoch 6/40\n",
            "3796/3796 [==============================] - 6s 2ms/step - loss: 0.1020 - acc: 0.9671 - val_loss: 0.5818 - val_acc: 0.8525\n",
            "Epoch 7/40\n",
            "3796/3796 [==============================] - 6s 2ms/step - loss: 0.0940 - acc: 0.9697 - val_loss: 1.2359 - val_acc: 0.7345\n",
            "Epoch 8/40\n",
            "3796/3796 [==============================] - 6s 2ms/step - loss: 0.0669 - acc: 0.9802 - val_loss: 1.3147 - val_acc: 0.7092\n",
            "Epoch 9/40\n",
            "3796/3796 [==============================] - 6s 2ms/step - loss: 0.0610 - acc: 0.9797 - val_loss: 0.5204 - val_acc: 0.8577\n",
            "Epoch 10/40\n",
            "3796/3796 [==============================] - 6s 2ms/step - loss: 0.0563 - acc: 0.9808 - val_loss: 0.5356 - val_acc: 0.8714\n",
            "Epoch 11/40\n",
            "3796/3796 [==============================] - 6s 2ms/step - loss: 0.0882 - acc: 0.9734 - val_loss: 1.7480 - val_acc: 0.7060\n",
            "Epoch 12/40\n",
            "3796/3796 [==============================] - 6s 2ms/step - loss: 0.0645 - acc: 0.9797 - val_loss: 0.6450 - val_acc: 0.8620\n",
            "Epoch 13/40\n",
            "3796/3796 [==============================] - 6s 2ms/step - loss: 0.0462 - acc: 0.9863 - val_loss: 1.0060 - val_acc: 0.7819\n",
            "Epoch 14/40\n",
            "3796/3796 [==============================] - 6s 2ms/step - loss: 0.0509 - acc: 0.9852 - val_loss: 0.4990 - val_acc: 0.8820\n",
            "Epoch 15/40\n",
            "3796/3796 [==============================] - 6s 2ms/step - loss: 0.0429 - acc: 0.9871 - val_loss: 0.4805 - val_acc: 0.8925\n",
            "Epoch 16/40\n",
            "3796/3796 [==============================] - 6s 2ms/step - loss: 0.0462 - acc: 0.9860 - val_loss: 0.5732 - val_acc: 0.8577\n",
            "Epoch 17/40\n",
            "3796/3796 [==============================] - 6s 2ms/step - loss: 0.0348 - acc: 0.9895 - val_loss: 0.3837 - val_acc: 0.9104\n",
            "Epoch 18/40\n",
            "3796/3796 [==============================] - 6s 2ms/step - loss: 0.0452 - acc: 0.9839 - val_loss: 0.7666 - val_acc: 0.8377\n",
            "Epoch 19/40\n",
            "3796/3796 [==============================] - 6s 2ms/step - loss: 0.0437 - acc: 0.9863 - val_loss: 2.7774 - val_acc: 0.5796\n",
            "Epoch 20/40\n",
            "3796/3796 [==============================] - 6s 2ms/step - loss: 0.0311 - acc: 0.9929 - val_loss: 0.6932 - val_acc: 0.8799\n",
            "Epoch 21/40\n",
            "3796/3796 [==============================] - 6s 2ms/step - loss: 0.0393 - acc: 0.9889 - val_loss: 1.0035 - val_acc: 0.7871\n",
            "Epoch 22/40\n",
            "3796/3796 [==============================] - 6s 2ms/step - loss: 0.0437 - acc: 0.9879 - val_loss: 2.7379 - val_acc: 0.5458\n",
            "Epoch 23/40\n",
            "3796/3796 [==============================] - 6s 2ms/step - loss: 0.0484 - acc: 0.9889 - val_loss: 0.6639 - val_acc: 0.8672\n",
            "Epoch 24/40\n",
            "3796/3796 [==============================] - 6s 2ms/step - loss: 0.0633 - acc: 0.9795 - val_loss: 1.3106 - val_acc: 0.7756\n",
            "Epoch 25/40\n",
            "3796/3796 [==============================] - 6s 2ms/step - loss: 0.0591 - acc: 0.9823 - val_loss: 1.0989 - val_acc: 0.7924\n",
            "Epoch 26/40\n",
            "3796/3796 [==============================] - 6s 2ms/step - loss: 0.0337 - acc: 0.9892 - val_loss: 0.6065 - val_acc: 0.8862\n",
            "Epoch 27/40\n",
            "3796/3796 [==============================] - 6s 2ms/step - loss: 0.0303 - acc: 0.9905 - val_loss: 2.2457 - val_acc: 0.6502\n",
            "Epoch 00027: early stopping\n"
          ],
          "name": "stdout"
        },
        {
          "output_type": "execute_result",
          "data": {
            "text/plain": [
              "<keras.callbacks.History at 0x7f5f5085e048>"
            ]
          },
          "metadata": {
            "tags": []
          },
          "execution_count": 32
        }
      ]
    },
    {
      "cell_type": "code",
      "metadata": {
        "id": "PhdprivcKikh",
        "colab_type": "code",
        "outputId": "32fd9311-e1fa-4d4e-9976-658fb5be6d69",
        "colab": {
          "base_uri": "https://localhost:8080/",
          "height": 34
        }
      },
      "source": [
        "print('Model Data Augmentation with Relu')"
      ],
      "execution_count": 0,
      "outputs": [
        {
          "output_type": "stream",
          "text": [
            "Model Data Augmentation with Relu\n"
          ],
          "name": "stdout"
        }
      ]
    },
    {
      "cell_type": "code",
      "metadata": {
        "id": "raClh4EYKiPe",
        "colab_type": "code",
        "colab": {}
      },
      "source": [
        "TRAIN = True\n",
        "BATCH_SIZE = 50\n",
        "EPOCHS = 30"
      ],
      "execution_count": 0,
      "outputs": []
    },
    {
      "cell_type": "code",
      "metadata": {
        "id": "xx2bhBwPLhBR",
        "colab_type": "code",
        "colab": {}
      },
      "source": [
        "model = Sequential()\n",
        "\n",
        "    # 1st Conv Layer\n",
        "model.add(Convolution2D(32, 3, 3, input_shape=(100, 100, 3)))\n",
        "model.add(Activation('relu'))\n",
        "model.add(BatchNormalization())\n",
        "\n",
        "    # 2nd Conv Layer\n",
        "model.add(Convolution2D(64, 3, 3))\n",
        "    # Max Pooling\n",
        "model.add(MaxPooling2D(pool_size=(2,2)))\n",
        "    # Dropout\n",
        "model.add(Dropout(0.25))\n",
        "model.add(Activation('relu'))\n",
        "model.add(BatchNormalization())\n",
        "\n",
        "\n",
        "    # 3rd Conv Layer\n",
        "model.add(Convolution2D(128, 3, 3))\n",
        "    # Max Pooling\n",
        "model.add(MaxPooling2D(pool_size=(2,2)))\n",
        "    # Dropout\n",
        "model.add(Dropout(0.25))\n",
        "model.add(Activation('relu'))\n",
        "model.add(BatchNormalization())\n",
        "\n",
        "\n",
        "    # 3rd Conv Layer\n",
        "model.add(Convolution2D(256, 3, 3))\n",
        "    # Max Pooling\n",
        "model.add(MaxPooling2D(pool_size=(2,2)))\n",
        "    # Dropout\n",
        "model.add(Dropout(0.25))\n",
        "model.add(Activation('relu'))\n",
        "model.add(BatchNormalization())\n",
        "\n",
        "\n",
        "\n",
        "    # Fully Connected Layer\n",
        "model.add(Flatten())\n",
        "model.add(Dense(512))\n",
        "model.add(Activation('relu'))\n",
        "model.add(BatchNormalization())\n",
        "\n",
        "\n",
        "model.add(Dense(1024))\n",
        "model.add(Activation('relu'))\n",
        "model.add(BatchNormalization())\n",
        "\n",
        "\n",
        "    # Prediction Layer\n",
        "model.add(Dense(12))\n",
        "model.add(Activation('softmax'))\n",
        "\n",
        "    # Loss and Optimizer\n",
        "model.compile(loss='categorical_crossentropy', optimizer='adam', metrics=['accuracy'])\n",
        "    \n",
        "\n",
        "    # Store Training Results\n",
        "early_stopping = keras.callbacks.EarlyStopping(monitor='val_acc', patience=10, verbose=1, mode='auto')\n",
        "callback_list = [early_stopping]# [stats, early_stopping]\n"
      ],
      "execution_count": 0,
      "outputs": []
    },
    {
      "cell_type": "code",
      "metadata": {
        "id": "ZaRoS4McLhJn",
        "colab_type": "code",
        "colab": {}
      },
      "source": [
        "from keras.preprocessing.image import ImageDataGenerator\n",
        "\n",
        "# This will do preprocessing and realtime data augmentation:\n",
        "datagen = ImageDataGenerator(\n",
        "    featurewise_center=False,  # set input mean to 0 over the dataset\n",
        "    samplewise_center=False,  # set each sample mean to 0\n",
        "    featurewise_std_normalization=False,  # divide inputs by std of the dataset\n",
        "    samplewise_std_normalization=False,  # divide each input by its std\n",
        "    zca_whitening=False,  # apply ZCA whitening\n",
        "    rotation_range=360,  # randomly rotate images in the range (degrees, 0 to 180)\n",
        "    width_shift_range=0.1,  # randomly shift images horizontally (fraction of total width)\n",
        "    height_shift_range=0.1,  # randomly shift images vertically (fraction of total height)\n",
        "    horizontal_flip=True,  # randomly flip images\n",
        "    vertical_flip=True,\n",
        "    zoom_range=0.3,)  # randomly flip images\n",
        "\n",
        "# Prepare the generator\n",
        "datagen.fit(X_train)\n"
      ],
      "execution_count": 0,
      "outputs": []
    },
    {
      "cell_type": "code",
      "metadata": {
        "id": "W5qL5pW1Lg9U",
        "colab_type": "code",
        "outputId": "0536e50f-85de-45d7-e691-800a06746558",
        "colab": {
          "base_uri": "https://localhost:8080/",
          "height": 969
        }
      },
      "source": [
        "TRAIN= True\n",
        "\n",
        "model.compile(loss='categorical_crossentropy', optimizer='adam', metrics=['accuracy'])\n",
        "if TRAIN:\n",
        "    model.fit_generator(datagen.flow(X_train, y_train,\n",
        "                         batch_size=BATCH_SIZE),\n",
        "                         samples_per_epoch=X_train.shape[0],\n",
        "                         nb_epoch=EPOCHS,\n",
        "                         validation_data=(X_test, y_test), callbacks=callback_list)\n",
        "    model.save('./cnn_augment.h5')\n",
        "else:\n",
        "    print('Loading pretrained model...')\n",
        "    model = keras.models.load_model('./cnn_augment.h5')\n",
        "    print('Model Loaded.')"
      ],
      "execution_count": 0,
      "outputs": [
        {
          "output_type": "stream",
          "text": [
            "Epoch 1/30\n",
            "75/75 [==============================] - 12s 161ms/step - loss: 1.7297 - acc: 0.5029 - val_loss: 2.5714 - val_acc: 0.4615\n",
            "Epoch 2/30\n",
            "75/75 [==============================] - 9s 120ms/step - loss: 1.0311 - acc: 0.6699 - val_loss: 1.5501 - val_acc: 0.6523\n",
            "Epoch 3/30\n",
            "75/75 [==============================] - 9s 123ms/step - loss: 0.7651 - acc: 0.7558 - val_loss: 0.8771 - val_acc: 0.7208\n",
            "Epoch 4/30\n",
            "75/75 [==============================] - 9s 123ms/step - loss: 0.6222 - acc: 0.7995 - val_loss: 0.9439 - val_acc: 0.7334\n",
            "Epoch 5/30\n",
            "75/75 [==============================] - 9s 123ms/step - loss: 0.5237 - acc: 0.8254 - val_loss: 1.3886 - val_acc: 0.6839\n",
            "Epoch 6/30\n",
            "75/75 [==============================] - 9s 123ms/step - loss: 0.5124 - acc: 0.8286 - val_loss: 0.6126 - val_acc: 0.8272\n",
            "Epoch 7/30\n",
            "75/75 [==============================] - 9s 123ms/step - loss: 0.4269 - acc: 0.8631 - val_loss: 1.1361 - val_acc: 0.7102\n",
            "Epoch 8/30\n",
            "75/75 [==============================] - 9s 125ms/step - loss: 0.3739 - acc: 0.8774 - val_loss: 0.6950 - val_acc: 0.8103\n",
            "Epoch 9/30\n",
            "75/75 [==============================] - 9s 126ms/step - loss: 0.3416 - acc: 0.8849 - val_loss: 0.5721 - val_acc: 0.8209\n",
            "Epoch 10/30\n",
            "75/75 [==============================] - 9s 124ms/step - loss: 0.3554 - acc: 0.8881 - val_loss: 0.8394 - val_acc: 0.7777\n",
            "Epoch 11/30\n",
            "75/75 [==============================] - 9s 122ms/step - loss: 0.3064 - acc: 0.8975 - val_loss: 1.0920 - val_acc: 0.6712\n",
            "Epoch 12/30\n",
            "75/75 [==============================] - 9s 123ms/step - loss: 0.2955 - acc: 0.9045 - val_loss: 1.0322 - val_acc: 0.7176\n",
            "Epoch 13/30\n",
            "75/75 [==============================] - 9s 123ms/step - loss: 0.2875 - acc: 0.9050 - val_loss: 0.3249 - val_acc: 0.9104\n",
            "Epoch 14/30\n",
            "75/75 [==============================] - 9s 124ms/step - loss: 0.2662 - acc: 0.9103 - val_loss: 0.3600 - val_acc: 0.8925\n",
            "Epoch 15/30\n",
            "75/75 [==============================] - 9s 122ms/step - loss: 0.2271 - acc: 0.9277 - val_loss: 0.5466 - val_acc: 0.8525\n",
            "Epoch 16/30\n",
            "75/75 [==============================] - 9s 122ms/step - loss: 0.2406 - acc: 0.9228 - val_loss: 1.5414 - val_acc: 0.6628\n",
            "Epoch 17/30\n",
            "75/75 [==============================] - 9s 122ms/step - loss: 0.2293 - acc: 0.9239 - val_loss: 0.2770 - val_acc: 0.9157\n",
            "Epoch 18/30\n",
            "75/75 [==============================] - 9s 124ms/step - loss: 0.2144 - acc: 0.9287 - val_loss: 0.7149 - val_acc: 0.7987\n",
            "Epoch 19/30\n",
            "75/75 [==============================] - 9s 123ms/step - loss: 0.2109 - acc: 0.9306 - val_loss: 0.4373 - val_acc: 0.8683\n",
            "Epoch 20/30\n",
            "75/75 [==============================] - 9s 122ms/step - loss: 0.2250 - acc: 0.9295 - val_loss: 0.7859 - val_acc: 0.8335\n",
            "Epoch 21/30\n",
            "75/75 [==============================] - 9s 122ms/step - loss: 0.1812 - acc: 0.9412 - val_loss: 0.5449 - val_acc: 0.8072\n",
            "Epoch 22/30\n",
            "75/75 [==============================] - 9s 122ms/step - loss: 0.1888 - acc: 0.9356 - val_loss: 0.6671 - val_acc: 0.8272\n",
            "Epoch 23/30\n",
            "75/75 [==============================] - 9s 122ms/step - loss: 0.2435 - acc: 0.9218 - val_loss: 0.7086 - val_acc: 0.8135\n",
            "Epoch 24/30\n",
            "75/75 [==============================] - 9s 122ms/step - loss: 0.2022 - acc: 0.9290 - val_loss: 1.0151 - val_acc: 0.8156\n",
            "Epoch 25/30\n",
            "75/75 [==============================] - 9s 122ms/step - loss: 0.1740 - acc: 0.9437 - val_loss: 0.2991 - val_acc: 0.9125\n",
            "Epoch 26/30\n",
            "75/75 [==============================] - 9s 123ms/step - loss: 0.2029 - acc: 0.9394 - val_loss: 0.3962 - val_acc: 0.8820\n",
            "Epoch 27/30\n",
            "75/75 [==============================] - 9s 124ms/step - loss: 0.1759 - acc: 0.9384 - val_loss: 1.3170 - val_acc: 0.7545\n",
            "Epoch 00027: early stopping\n"
          ],
          "name": "stdout"
        },
        {
          "output_type": "execute_result",
          "data": {
            "text/plain": [
              "<keras.callbacks.History at 0x7f5f4217b438>"
            ]
          },
          "metadata": {
            "tags": []
          },
          "execution_count": 42
        }
      ]
    },
    {
      "cell_type": "code",
      "metadata": {
        "id": "sgn7dTr1Lg27",
        "colab_type": "code",
        "colab": {}
      },
      "source": [
        ""
      ],
      "execution_count": 0,
      "outputs": []
    },
    {
      "cell_type": "code",
      "metadata": {
        "id": "ZV9eA69G-Hy5",
        "colab_type": "code",
        "colab": {}
      },
      "source": [
        ""
      ],
      "execution_count": 0,
      "outputs": []
    },
    {
      "cell_type": "code",
      "metadata": {
        "id": "rBoy1kMq-Htb",
        "colab_type": "code",
        "colab": {
          "base_uri": "https://localhost:8080/",
          "height": 34
        },
        "outputId": "d56bc0cc-c7f3-4906-8430-e7d9b3011584"
      },
      "source": [
        "print(\"From all above models looks leaky relu with Image generator came upto 93 to 94% Accuracy\")"
      ],
      "execution_count": 1,
      "outputs": [
        {
          "output_type": "stream",
          "text": [
            "From all above models looks leaky relu with Image generator came upto 93 to 94% Accuracy\n"
          ],
          "name": "stdout"
        }
      ]
    },
    {
      "cell_type": "code",
      "metadata": {
        "id": "S1EFSQmBMfH5",
        "colab_type": "code",
        "outputId": "9be6f173-6a8c-44eb-fafb-13aaa821090b",
        "colab": {
          "base_uri": "https://localhost:8080/",
          "height": 34
        }
      },
      "source": [
        "print(\"Over all model with leaky relu and image generatore gave around 93 to 94%  validation Accuracy\")"
      ],
      "execution_count": 2,
      "outputs": [
        {
          "output_type": "stream",
          "text": [
            "Over all model with leaky relu and image generatore gave around 93 to 94%  validation Accuracy\n"
          ],
          "name": "stdout"
        }
      ]
    },
    {
      "cell_type": "code",
      "metadata": {
        "id": "8uEQYVgzTsRD",
        "colab_type": "code",
        "colab": {}
      },
      "source": [
        ""
      ],
      "execution_count": 0,
      "outputs": []
    },
    {
      "cell_type": "code",
      "metadata": {
        "id": "g9z_OLPkVob8",
        "colab_type": "code",
        "colab": {}
      },
      "source": [
        ""
      ],
      "execution_count": 0,
      "outputs": []
    },
    {
      "cell_type": "code",
      "metadata": {
        "id": "7KhBSZLZK9s2",
        "colab_type": "code",
        "colab": {}
      },
      "source": [
        ""
      ],
      "execution_count": 0,
      "outputs": []
    },
    {
      "cell_type": "code",
      "metadata": {
        "id": "qI02liZXuYFj",
        "colab_type": "code",
        "colab": {}
      },
      "source": [
        ""
      ],
      "execution_count": 0,
      "outputs": []
    },
    {
      "cell_type": "code",
      "metadata": {
        "id": "krejwQYlbIHY",
        "colab_type": "code",
        "colab": {}
      },
      "source": [
        ""
      ],
      "execution_count": 0,
      "outputs": []
    },
    {
      "cell_type": "code",
      "metadata": {
        "id": "MogMY71QJ_s7",
        "colab_type": "code",
        "colab": {}
      },
      "source": [
        ""
      ],
      "execution_count": 0,
      "outputs": []
    },
    {
      "cell_type": "code",
      "metadata": {
        "id": "d5I4iu4jT-bg",
        "colab_type": "code",
        "colab": {}
      },
      "source": [
        ""
      ],
      "execution_count": 0,
      "outputs": []
    },
    {
      "cell_type": "code",
      "metadata": {
        "id": "88TzcEp6UeVD",
        "colab_type": "code",
        "colab": {}
      },
      "source": [
        ""
      ],
      "execution_count": 0,
      "outputs": []
    },
    {
      "cell_type": "code",
      "metadata": {
        "id": "W-3RU8haT-rY",
        "colab_type": "code",
        "colab": {}
      },
      "source": [
        ""
      ],
      "execution_count": 0,
      "outputs": []
    },
    {
      "cell_type": "code",
      "metadata": {
        "id": "nDtbXVkWaXEX",
        "colab_type": "code",
        "colab": {}
      },
      "source": [
        ""
      ],
      "execution_count": 0,
      "outputs": []
    },
    {
      "cell_type": "code",
      "metadata": {
        "id": "PH9dDJnglZHJ",
        "colab_type": "code",
        "colab": {}
      },
      "source": [
        ""
      ],
      "execution_count": 0,
      "outputs": []
    },
    {
      "cell_type": "code",
      "metadata": {
        "id": "n2fI8gwspLb5",
        "colab_type": "code",
        "colab": {}
      },
      "source": [
        ""
      ],
      "execution_count": 0,
      "outputs": []
    },
    {
      "cell_type": "code",
      "metadata": {
        "id": "SPhqXlYzLVdJ",
        "colab_type": "code",
        "colab": {}
      },
      "source": [
        ""
      ],
      "execution_count": 0,
      "outputs": []
    },
    {
      "cell_type": "code",
      "metadata": {
        "id": "3sXIv08Vn7_8",
        "colab_type": "code",
        "colab": {}
      },
      "source": [
        ""
      ],
      "execution_count": 0,
      "outputs": []
    },
    {
      "cell_type": "code",
      "metadata": {
        "id": "EA7cww35q1CK",
        "colab_type": "code",
        "colab": {}
      },
      "source": [
        ""
      ],
      "execution_count": 0,
      "outputs": []
    },
    {
      "cell_type": "code",
      "metadata": {
        "id": "xTA1JzSqT770",
        "colab_type": "code",
        "colab": {}
      },
      "source": [
        ""
      ],
      "execution_count": 0,
      "outputs": []
    },
    {
      "cell_type": "code",
      "metadata": {
        "id": "1t9srsp5g1v0",
        "colab_type": "code",
        "colab": {}
      },
      "source": [
        ""
      ],
      "execution_count": 0,
      "outputs": []
    },
    {
      "cell_type": "code",
      "metadata": {
        "id": "fubQ7LSeUZ9u",
        "colab_type": "code",
        "colab": {}
      },
      "source": [
        ""
      ],
      "execution_count": 0,
      "outputs": []
    },
    {
      "cell_type": "code",
      "metadata": {
        "id": "m7vaCHPqsUOH",
        "colab_type": "code",
        "colab": {}
      },
      "source": [
        ""
      ],
      "execution_count": 0,
      "outputs": []
    },
    {
      "cell_type": "code",
      "metadata": {
        "id": "und7P-ctB_2n",
        "colab_type": "code",
        "colab": {}
      },
      "source": [
        ""
      ],
      "execution_count": 0,
      "outputs": []
    },
    {
      "cell_type": "code",
      "metadata": {
        "id": "UsZMG1bwRAHn",
        "colab_type": "code",
        "colab": {}
      },
      "source": [
        ""
      ],
      "execution_count": 0,
      "outputs": []
    },
    {
      "cell_type": "code",
      "metadata": {
        "id": "fhba7TO_YMrd",
        "colab_type": "code",
        "colab": {}
      },
      "source": [
        ""
      ],
      "execution_count": 0,
      "outputs": []
    },
    {
      "cell_type": "code",
      "metadata": {
        "id": "t4-6nmTlDPk4",
        "colab_type": "code",
        "colab": {}
      },
      "source": [
        ""
      ],
      "execution_count": 0,
      "outputs": []
    },
    {
      "cell_type": "code",
      "metadata": {
        "id": "45wbu6yDCALW",
        "colab_type": "code",
        "colab": {}
      },
      "source": [
        ""
      ],
      "execution_count": 0,
      "outputs": []
    },
    {
      "cell_type": "code",
      "metadata": {
        "id": "eFi1WlEmUZ48",
        "colab_type": "code",
        "colab": {}
      },
      "source": [
        ""
      ],
      "execution_count": 0,
      "outputs": []
    },
    {
      "cell_type": "code",
      "metadata": {
        "id": "vu-ba_k_BN-q",
        "colab_type": "code",
        "colab": {}
      },
      "source": [
        ""
      ],
      "execution_count": 0,
      "outputs": []
    },
    {
      "cell_type": "code",
      "metadata": {
        "id": "K_dDiyOIc2h1",
        "colab_type": "code",
        "colab": {}
      },
      "source": [
        ""
      ],
      "execution_count": 0,
      "outputs": []
    },
    {
      "cell_type": "code",
      "metadata": {
        "id": "SWM17zGKeLdT",
        "colab_type": "code",
        "colab": {}
      },
      "source": [
        ""
      ],
      "execution_count": 0,
      "outputs": []
    },
    {
      "cell_type": "code",
      "metadata": {
        "id": "56LckFWEVC5I",
        "colab_type": "code",
        "colab": {}
      },
      "source": [
        "\n"
      ],
      "execution_count": 0,
      "outputs": []
    },
    {
      "cell_type": "code",
      "metadata": {
        "id": "bQiaEudOdia4",
        "colab_type": "code",
        "colab": {}
      },
      "source": [
        ""
      ],
      "execution_count": 0,
      "outputs": []
    },
    {
      "cell_type": "code",
      "metadata": {
        "id": "4vR2phrsa-Rz",
        "colab_type": "code",
        "colab": {}
      },
      "source": [
        ""
      ],
      "execution_count": 0,
      "outputs": []
    },
    {
      "cell_type": "code",
      "metadata": {
        "id": "cxD9adLqjH2K",
        "colab_type": "code",
        "colab": {}
      },
      "source": [
        ""
      ],
      "execution_count": 0,
      "outputs": []
    },
    {
      "cell_type": "code",
      "metadata": {
        "id": "_M-cTbsRjQ0d",
        "colab_type": "code",
        "colab": {}
      },
      "source": [
        ""
      ],
      "execution_count": 0,
      "outputs": []
    },
    {
      "cell_type": "code",
      "metadata": {
        "id": "KNQds0oIjUWT",
        "colab_type": "code",
        "colab": {}
      },
      "source": [
        ""
      ],
      "execution_count": 0,
      "outputs": []
    },
    {
      "cell_type": "code",
      "metadata": {
        "id": "FQEMscbvmTAw",
        "colab_type": "code",
        "colab": {}
      },
      "source": [
        ""
      ],
      "execution_count": 0,
      "outputs": []
    },
    {
      "cell_type": "code",
      "metadata": {
        "id": "c1Qtmr5-Th6U",
        "colab_type": "code",
        "colab": {}
      },
      "source": [
        ""
      ],
      "execution_count": 0,
      "outputs": []
    },
    {
      "cell_type": "code",
      "metadata": {
        "id": "fP04YszQTiQ3",
        "colab_type": "code",
        "colab": {}
      },
      "source": [
        ""
      ],
      "execution_count": 0,
      "outputs": []
    },
    {
      "cell_type": "code",
      "metadata": {
        "id": "crsuk9ecmc8U",
        "colab_type": "code",
        "colab": {}
      },
      "source": [
        ""
      ],
      "execution_count": 0,
      "outputs": []
    },
    {
      "cell_type": "code",
      "metadata": {
        "id": "ZX4aoo7UoBGr",
        "colab_type": "code",
        "colab": {}
      },
      "source": [
        ""
      ],
      "execution_count": 0,
      "outputs": []
    },
    {
      "cell_type": "code",
      "metadata": {
        "id": "cmiVKyMTqYGR",
        "colab_type": "code",
        "colab": {}
      },
      "source": [
        ""
      ],
      "execution_count": 0,
      "outputs": []
    },
    {
      "cell_type": "code",
      "metadata": {
        "id": "DkI6jMpmrpXN",
        "colab_type": "code",
        "colab": {}
      },
      "source": [
        ""
      ],
      "execution_count": 0,
      "outputs": []
    }
  ]
}