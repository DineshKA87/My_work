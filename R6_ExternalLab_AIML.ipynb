{
  "nbformat": 4,
  "nbformat_minor": 0,
  "metadata": {
    "colab": {
      "name": "R6_ExternalLab_AIML.ipynb",
      "version": "0.3.2",
      "provenance": [],
      "collapsed_sections": []
    },
    "kernelspec": {
      "display_name": "Python 2",
      "language": "python",
      "name": "python2"
    }
  },
  "cells": [
    {
      "metadata": {
        "id": "YYk8NG3yOIT9",
        "colab_type": "text"
      },
      "cell_type": "markdown",
      "source": [
        "### A MNIST-like fashion product database\n",
        "\n",
        "In this, we classify the images into respective classes given in the dataset. We use a Neural Net and a Deep Neural Net in Keras to solve this and check the accuracy scores."
      ]
    },
    {
      "metadata": {
        "slideshow": {
          "slide_type": "slide"
        },
        "id": "tFO6PuxzOIT_",
        "colab_type": "text"
      },
      "cell_type": "markdown",
      "source": [
        "### Load tensorflow"
      ]
    },
    {
      "metadata": {
        "id": "efNjNImfOIUC",
        "colab_type": "code",
        "colab": {}
      },
      "cell_type": "code",
      "source": [
        "import tensorflow as tf\n",
        "tf.set_random_seed(42)"
      ],
      "execution_count": 0,
      "outputs": []
    },
    {
      "metadata": {
        "id": "l9C4aAIGOIUH",
        "colab_type": "code",
        "colab": {}
      },
      "cell_type": "code",
      "source": [
        "tf.__version__\n",
        "import numpy as np"
      ],
      "execution_count": 0,
      "outputs": []
    },
    {
      "metadata": {
        "slideshow": {
          "slide_type": "slide"
        },
        "id": "HcoZBStrOIUQ",
        "colab_type": "text"
      },
      "cell_type": "markdown",
      "source": [
        "### Collect Data"
      ]
    },
    {
      "metadata": {
        "id": "XA1WsFSeOIUS",
        "colab_type": "code",
        "colab": {
          "base_uri": "https://localhost:8080/",
          "height": 35
        },
        "outputId": "038a2ecf-faf2-4c49-e95f-3c9015479dc6"
      },
      "cell_type": "code",
      "source": [
        "import keras"
      ],
      "execution_count": 3,
      "outputs": [
        {
          "output_type": "stream",
          "text": [
            "Using TensorFlow backend.\n"
          ],
          "name": "stderr"
        }
      ]
    },
    {
      "metadata": {
        "id": "qnbx7TyQOIUY",
        "colab_type": "code",
        "colab": {}
      },
      "cell_type": "code",
      "source": [
        "(trainX, trainY), (testX, testY) = keras.datasets.fashion_mnist.load_data()"
      ],
      "execution_count": 0,
      "outputs": []
    },
    {
      "metadata": {
        "slideshow": {
          "slide_type": "fragment"
        },
        "id": "UbiHj5YPOIUc",
        "colab_type": "code",
        "colab": {}
      },
      "cell_type": "code",
      "source": [
        "x = keras.datasets.fashion_mnist.load_data()"
      ],
      "execution_count": 0,
      "outputs": []
    },
    {
      "metadata": {
        "id": "Hr59stKIvC4V",
        "colab_type": "code",
        "colab": {
          "base_uri": "https://localhost:8080/",
          "height": 35
        },
        "outputId": "c6a6a36b-6421-4490-d5f8-e7bf8bf521e3"
      },
      "cell_type": "code",
      "source": [
        "np.unique(trainY)"
      ],
      "execution_count": 6,
      "outputs": [
        {
          "output_type": "execute_result",
          "data": {
            "text/plain": [
              "array([0, 1, 2, 3, 4, 5, 6, 7, 8, 9], dtype=uint8)"
            ]
          },
          "metadata": {
            "tags": []
          },
          "execution_count": 6
        }
      ]
    },
    {
      "metadata": {
        "id": "Nj--g-NU6nFG",
        "colab_type": "code",
        "colab": {
          "base_uri": "https://localhost:8080/",
          "height": 35
        },
        "outputId": "ec4dba77-b330-44a9-b7d2-efee45d89d2e"
      },
      "cell_type": "code",
      "source": [
        "np.unique(testY)"
      ],
      "execution_count": 7,
      "outputs": [
        {
          "output_type": "execute_result",
          "data": {
            "text/plain": [
              "array([0, 1, 2, 3, 4, 5, 6, 7, 8, 9], dtype=uint8)"
            ]
          },
          "metadata": {
            "tags": []
          },
          "execution_count": 7
        }
      ]
    },
    {
      "metadata": {
        "slideshow": {
          "slide_type": "slide"
        },
        "id": "lDAYzkwyOIUj",
        "colab_type": "text"
      },
      "cell_type": "markdown",
      "source": [
        "### Convert both training and testing labels into one-hot vectors.\n",
        "\n",
        "**Hint:** check **tf.keras.utils.to_categorical()**"
      ]
    },
    {
      "metadata": {
        "id": "vBlfYlANOIUk",
        "colab_type": "code",
        "colab": {}
      },
      "cell_type": "code",
      "source": [
        "trainY = tf.keras.utils.to_categorical(trainY, num_classes=10)\n",
        "testY = tf.keras.utils.to_categorical(testY, num_classes=10)"
      ],
      "execution_count": 0,
      "outputs": []
    },
    {
      "metadata": {
        "scrolled": true,
        "slideshow": {
          "slide_type": "fragment"
        },
        "id": "RHV3b9mzOIUq",
        "colab_type": "code",
        "outputId": "f89686a4-9bc2-4a41-b658-72bdf9d2a6dc",
        "colab": {
          "base_uri": "https://localhost:8080/",
          "height": 128
        }
      },
      "cell_type": "code",
      "source": [
        "print(trainY.shape)\n",
        "print('First 5 examples now are: ', trainY[0:5])"
      ],
      "execution_count": 9,
      "outputs": [
        {
          "output_type": "stream",
          "text": [
            "(60000, 10)\n",
            "('First 5 examples now are: ', array([[0., 0., 0., 0., 0., 0., 0., 0., 0., 1.],\n",
            "       [1., 0., 0., 0., 0., 0., 0., 0., 0., 0.],\n",
            "       [1., 0., 0., 0., 0., 0., 0., 0., 0., 0.],\n",
            "       [0., 0., 0., 1., 0., 0., 0., 0., 0., 0.],\n",
            "       [1., 0., 0., 0., 0., 0., 0., 0., 0., 0.]], dtype=float32))\n"
          ],
          "name": "stdout"
        }
      ]
    },
    {
      "metadata": {
        "id": "FwhQ8e7VOIUw",
        "colab_type": "text"
      },
      "cell_type": "markdown",
      "source": [
        "### Visualize the data\n",
        "\n",
        "Plot first 10 images in the triaining set and their labels."
      ]
    },
    {
      "metadata": {
        "id": "AvDML2OoOIUx",
        "colab_type": "code",
        "outputId": "acb9ad36-36f5-41e7-b00c-cbc1fac0ea6d",
        "colab": {
          "base_uri": "https://localhost:8080/",
          "height": 249
        }
      },
      "cell_type": "code",
      "source": [
        "import matplotlib.pyplot as plt\n",
        " \n",
        "ROW = 2\n",
        "COLUMN = 5\n",
        "for i in range(ROW * COLUMN):\n",
        "    # train[i][0] is i-th image data with size 28x28\n",
        "    #image = trainX[i][0].reshape(28, 28)   # not necessary to reshape if ndim is set to 2\n",
        "    image = trainX[i]\n",
        "    plt.subplot(ROW, COLUMN, i+1)          # subplot with size (width 3, height 5)\n",
        "    plt.imshow(image, cmap='gray')  # cmap='gray' is for black and white picture.\n",
        "    # train[i][1] is i-th digit label\n",
        "    x= 0\n",
        "    y =0\n",
        "    for x,y in enumerate(trainY[i]):\n",
        "      if y > 0:\n",
        "        plt.title('label = {}'.format(x))\n",
        "    plt.axis('off')  # do not show axis value\n",
        "plt.tight_layout()   # automatic padding between subplots\n",
        "#plt.savefig('images/mnist_plot.png')\n",
        "plt.show()"
      ],
      "execution_count": 10,
      "outputs": [
        {
          "output_type": "display_data",
          "data": {
            "image/png": "[encoded data removed]",
            "text/plain": [
              "<Figure size 432x288 with 10 Axes>"
            ]
          },
          "metadata": {
            "tags": []
          }
        }
      ]
    },
    {
      "metadata": {
        "id": "9FuDeFEv-oJI",
        "colab_type": "code",
        "colab": {}
      },
      "cell_type": "code",
      "source": [
        ""
      ],
      "execution_count": 0,
      "outputs": []
    },
    {
      "metadata": {
        "slideshow": {
          "slide_type": "slide"
        },
        "id": "l4TbJGeSOIU4",
        "colab_type": "text"
      },
      "cell_type": "markdown",
      "source": [
        "### Build a neural Network with a cross entropy loss function and sgd optimizer in Keras. The output layer with 10 neurons as we have 10 classes."
      ]
    },
    {
      "metadata": {
        "id": "Ac06XZZTOIU6",
        "colab_type": "code",
        "colab": {
          "base_uri": "https://localhost:8080/",
          "height": 92
        },
        "outputId": "50c24d71-40f1-49fd-fc08-c383c78f04c0"
      },
      "cell_type": "code",
      "source": [
        "#Initialize Sequential model\n",
        "model = tf.keras.models.Sequential()\n",
        "\n",
        "#Reshape data from 2D to 1D -> 28x28 to 784\n",
        "model.add(tf.keras.layers.Reshape((784,),input_shape=(28,28,)))\n",
        "\n",
        "#Normalize the data\n",
        "#model.add(tf.keras.layers.BatchNormalization())\n",
        "\n",
        "#Add Dense Layer which provides 10 Outputs after applying softmax\n",
        "model.add(tf.keras.layers.Dense(10, activation='softmax'))\n",
        "\n",
        "#Comile the model\n",
        "model.compile(optimizer='sgd', loss='categorical_crossentropy', metrics=['accuracy'])"
      ],
      "execution_count": 11,
      "outputs": [
        {
          "output_type": "stream",
          "text": [
            "WARNING:tensorflow:From /usr/local/lib/python2.7/dist-packages/tensorflow/python/ops/resource_variable_ops.py:435: colocate_with (from tensorflow.python.framework.ops) is deprecated and will be removed in a future version.\n",
            "Instructions for updating:\n",
            "Colocations handled automatically by placer.\n"
          ],
          "name": "stdout"
        }
      ]
    },
    {
      "metadata": {
        "slideshow": {
          "slide_type": "slide"
        },
        "id": "3hQpLv3aOIU_",
        "colab_type": "text"
      },
      "cell_type": "markdown",
      "source": [
        "### Execute the model using model.fit()"
      ]
    },
    {
      "metadata": {
        "id": "O59C_-IgOIVB",
        "colab_type": "code",
        "colab": {
          "base_uri": "https://localhost:8080/",
          "height": 499
        },
        "outputId": "f4d85235-4380-4246-a94c-f2a9402b218e"
      },
      "cell_type": "code",
      "source": [
        "model.fit(trainX, trainY, \n",
        "          validation_data=(testX, testY), \n",
        "          epochs=10\n",
        "          )"
      ],
      "execution_count": 12,
      "outputs": [
        {
          "output_type": "stream",
          "text": [
            "Train on 60000 samples, validate on 10000 samples\n",
            "WARNING:tensorflow:From /usr/local/lib/python2.7/dist-packages/tensorflow/python/ops/math_ops.py:3066: to_int32 (from tensorflow.python.ops.math_ops) is deprecated and will be removed in a future version.\n",
            "Instructions for updating:\n",
            "Use tf.cast instead.\n",
            "Epoch 1/10\n",
            "60000/60000 [==============================] - 3s 47us/sample - loss: 14.5070 - acc: 0.1000 - val_loss: 14.5047 - val_acc: 0.1001\n",
            "Epoch 2/10\n",
            "60000/60000 [==============================] - 3s 45us/sample - loss: 14.5063 - acc: 0.1000 - val_loss: 14.5047 - val_acc: 0.1001\n",
            "Epoch 3/10\n",
            "60000/60000 [==============================] - 3s 45us/sample - loss: 14.5063 - acc: 0.1000 - val_loss: 14.5047 - val_acc: 0.1001\n",
            "Epoch 4/10\n",
            "60000/60000 [==============================] - 3s 45us/sample - loss: 14.5063 - acc: 0.1000 - val_loss: 14.5047 - val_acc: 0.1001\n",
            "Epoch 5/10\n",
            "60000/60000 [==============================] - 3s 45us/sample - loss: 14.5063 - acc: 0.1000 - val_loss: 14.5047 - val_acc: 0.1001\n",
            "Epoch 6/10\n",
            "60000/60000 [==============================] - 3s 45us/sample - loss: 14.5063 - acc: 0.1000 - val_loss: 14.5047 - val_acc: 0.1001\n",
            "Epoch 7/10\n",
            "60000/60000 [==============================] - 3s 45us/sample - loss: 14.5063 - acc: 0.1000 - val_loss: 14.5047 - val_acc: 0.1001\n",
            "Epoch 8/10\n",
            "60000/60000 [==============================] - 3s 45us/sample - loss: 14.5063 - acc: 0.1000 - val_loss: 14.5047 - val_acc: 0.1001\n",
            "Epoch 9/10\n",
            "60000/60000 [==============================] - 3s 45us/sample - loss: 14.5063 - acc: 0.1000 - val_loss: 14.5047 - val_acc: 0.1001\n",
            "Epoch 10/10\n",
            "60000/60000 [==============================] - 3s 50us/sample - loss: 14.5063 - acc: 0.1000 - val_loss: 14.5047 - val_acc: 0.1001\n"
          ],
          "name": "stdout"
        },
        {
          "output_type": "execute_result",
          "data": {
            "text/plain": [
              "<tensorflow.python.keras.callbacks.History at 0x7f90db8b6650>"
            ]
          },
          "metadata": {
            "tags": []
          },
          "execution_count": 12
        }
      ]
    },
    {
      "metadata": {
        "slideshow": {
          "slide_type": "slide"
        },
        "id": "JdzDtGwDOIVF",
        "colab_type": "text"
      },
      "cell_type": "markdown",
      "source": [
        "### In the above Neural Network model add Batch Normalization layer after the input layer and repeat the steps."
      ]
    },
    {
      "metadata": {
        "id": "kndfpdidOIVI",
        "colab_type": "code",
        "colab": {}
      },
      "cell_type": "code",
      "source": [
        "#Initialize Sequential model\n",
        "model = tf.keras.models.Sequential()\n",
        "\n",
        "#Reshape data from 2D to 1D -> 28x28 to 784\n",
        "model.add(tf.keras.layers.Reshape((784,),input_shape=(28,28,)))\n",
        "\n",
        "#Normalize the data\n",
        "model.add(tf.keras.layers.BatchNormalization())\n",
        "\n",
        "#Add Dense Layer which provides 10 Outputs after applying softmax\n",
        "model.add(tf.keras.layers.Dense(10, activation='softmax'))\n",
        "\n",
        "#Comile the model\n",
        "model.compile(optimizer='sgd', loss='categorical_crossentropy', metrics=['accuracy'])"
      ],
      "execution_count": 0,
      "outputs": []
    },
    {
      "metadata": {
        "slideshow": {
          "slide_type": "slide"
        },
        "id": "mwk3T5LJOIVN",
        "colab_type": "text"
      },
      "cell_type": "markdown",
      "source": [
        "### Execute the model"
      ]
    },
    {
      "metadata": {
        "id": "JNLR8tcBOIVP",
        "colab_type": "code",
        "colab": {
          "base_uri": "https://localhost:8080/",
          "height": 424
        },
        "outputId": "36c8a358-caf3-427f-c432-b71e44238635"
      },
      "cell_type": "code",
      "source": [
        "model.fit(trainX, trainY, \n",
        "          validation_data=(testX, testY), \n",
        "          epochs=10\n",
        "          )"
      ],
      "execution_count": 14,
      "outputs": [
        {
          "output_type": "stream",
          "text": [
            "Train on 60000 samples, validate on 10000 samples\n",
            "Epoch 1/10\n",
            "60000/60000 [==============================] - 4s 65us/sample - loss: 0.5969 - acc: 0.7929 - val_loss: 0.5220 - val_acc: 0.8207\n",
            "Epoch 2/10\n",
            "60000/60000 [==============================] - 4s 61us/sample - loss: 0.4898 - acc: 0.8305 - val_loss: 0.4879 - val_acc: 0.8277\n",
            "Epoch 3/10\n",
            "60000/60000 [==============================] - 4s 59us/sample - loss: 0.4673 - acc: 0.8389 - val_loss: 0.4845 - val_acc: 0.8333\n",
            "Epoch 4/10\n",
            "60000/60000 [==============================] - 4s 60us/sample - loss: 0.4594 - acc: 0.8400 - val_loss: 0.4728 - val_acc: 0.8380\n",
            "Epoch 5/10\n",
            "60000/60000 [==============================] - 4s 59us/sample - loss: 0.4495 - acc: 0.8450 - val_loss: 0.4771 - val_acc: 0.8369\n",
            "Epoch 6/10\n",
            "60000/60000 [==============================] - 4s 59us/sample - loss: 0.4434 - acc: 0.8465 - val_loss: 0.4740 - val_acc: 0.8383\n",
            "Epoch 7/10\n",
            "60000/60000 [==============================] - 4s 59us/sample - loss: 0.4390 - acc: 0.8478 - val_loss: 0.4723 - val_acc: 0.8390\n",
            "Epoch 8/10\n",
            "60000/60000 [==============================] - 4s 59us/sample - loss: 0.4358 - acc: 0.8493 - val_loss: 0.4765 - val_acc: 0.8380\n",
            "Epoch 9/10\n",
            "60000/60000 [==============================] - 4s 60us/sample - loss: 0.4344 - acc: 0.8477 - val_loss: 0.4633 - val_acc: 0.8411\n",
            "Epoch 10/10\n",
            "60000/60000 [==============================] - 4s 59us/sample - loss: 0.4292 - acc: 0.8505 - val_loss: 0.4701 - val_acc: 0.8404\n"
          ],
          "name": "stdout"
        },
        {
          "output_type": "execute_result",
          "data": {
            "text/plain": [
              "<tensorflow.python.keras.callbacks.History at 0x7f90d3f1a050>"
            ]
          },
          "metadata": {
            "tags": []
          },
          "execution_count": 14
        }
      ]
    },
    {
      "metadata": {
        "id": "Py-KwkmjOIVU",
        "colab_type": "text"
      },
      "cell_type": "markdown",
      "source": [
        "### Customize the learning rate to 0.001 in sgd optimizer and run the model"
      ]
    },
    {
      "metadata": {
        "id": "yLXUE9jWOIVV",
        "colab_type": "code",
        "colab": {}
      },
      "cell_type": "code",
      "source": [
        "#Initialize Sequential model\n",
        "from keras.optimizers import SGD\n",
        "model = tf.keras.models.Sequential()\n",
        "\n",
        "#Reshape data from 2D to 1D -> 28x28 to 784\n",
        "model.add(tf.keras.layers.Reshape((784,),input_shape=(28,28,)))\n",
        "\n",
        "#Normalize the data\n",
        "model.add(tf.keras.layers.BatchNormalization())\n",
        "\n",
        "#Add Dense Layer which provides 10 Outputs after applying softmax\n",
        "model.add(tf.keras.layers.Dense(10, activation='softmax'))\n",
        "epochs = 10\n",
        "learning_rate = 0.1\n",
        "decay_rate = learning_rate / epochs\n",
        "momentum = 0.8\n",
        "sgd = SGD(lr=learning_rate, momentum=momentum, decay=decay_rate, nesterov=False)\n",
        "#Comile the model\n",
        "model.compile(optimizer=tf.keras.optimizers.SGD(lr=0.001), loss='categorical_crossentropy', metrics=['accuracy'])"
      ],
      "execution_count": 0,
      "outputs": []
    },
    {
      "metadata": {
        "id": "pJUqA5T4OIVc",
        "colab_type": "code",
        "colab": {
          "base_uri": "https://localhost:8080/",
          "height": 424
        },
        "outputId": "1e7d3e41-057e-42bc-cb74-bf2bf70b1c26"
      },
      "cell_type": "code",
      "source": [
        "model.fit(trainX, trainY, \n",
        "          validation_data=(testX, testY), \n",
        "          epochs=10\n",
        "          )"
      ],
      "execution_count": 20,
      "outputs": [
        {
          "output_type": "stream",
          "text": [
            "Train on 60000 samples, validate on 10000 samples\n",
            "Epoch 1/10\n",
            "60000/60000 [==============================] - 4s 66us/sample - loss: 0.9520 - acc: 0.6802 - val_loss: 0.6855 - val_acc: 0.7719\n",
            "Epoch 2/10\n",
            "60000/60000 [==============================] - 4s 64us/sample - loss: 0.6429 - acc: 0.7800 - val_loss: 0.6031 - val_acc: 0.7965\n",
            "Epoch 3/10\n",
            "60000/60000 [==============================] - 4s 62us/sample - loss: 0.5882 - acc: 0.7978 - val_loss: 0.5739 - val_acc: 0.8064\n",
            "Epoch 4/10\n",
            "60000/60000 [==============================] - 4s 61us/sample - loss: 0.5609 - acc: 0.8078 - val_loss: 0.5526 - val_acc: 0.8140\n",
            "Epoch 5/10\n",
            "60000/60000 [==============================] - 4s 61us/sample - loss: 0.5418 - acc: 0.8146 - val_loss: 0.5372 - val_acc: 0.8165\n",
            "Epoch 6/10\n",
            "60000/60000 [==============================] - 4s 61us/sample - loss: 0.5302 - acc: 0.8170 - val_loss: 0.5302 - val_acc: 0.8171\n",
            "Epoch 7/10\n",
            "60000/60000 [==============================] - 4s 60us/sample - loss: 0.5164 - acc: 0.8221 - val_loss: 0.5204 - val_acc: 0.8197\n",
            "Epoch 8/10\n",
            "60000/60000 [==============================] - 4s 61us/sample - loss: 0.5084 - acc: 0.8247 - val_loss: 0.5158 - val_acc: 0.8227\n",
            "Epoch 9/10\n",
            "60000/60000 [==============================] - 4s 61us/sample - loss: 0.5019 - acc: 0.8258 - val_loss: 0.5076 - val_acc: 0.8229\n",
            "Epoch 10/10\n",
            "60000/60000 [==============================] - 4s 61us/sample - loss: 0.4967 - acc: 0.8293 - val_loss: 0.5090 - val_acc: 0.8224\n"
          ],
          "name": "stdout"
        },
        {
          "output_type": "execute_result",
          "data": {
            "text/plain": [
              "<tensorflow.python.keras.callbacks.History at 0x7f90d96d4b50>"
            ]
          },
          "metadata": {
            "tags": []
          },
          "execution_count": 20
        }
      ]
    },
    {
      "metadata": {
        "slideshow": {
          "slide_type": "slide"
        },
        "id": "j9CSqKvpOIVk",
        "colab_type": "text"
      },
      "cell_type": "markdown",
      "source": [
        "### Build the Neural Network model with 3 Dense layers with 100,100,10 neurons respectively in each layer. Use cross entropy loss function and singmoid as activation in the hidden layers and softmax as activation function in the output layer. Use sgd optimizer with learning rate 0.03."
      ]
    },
    {
      "metadata": {
        "id": "GGAad54JOIVm",
        "colab_type": "code",
        "colab": {}
      },
      "cell_type": "code",
      "source": [
        "#Initialize Sequential model\n",
        "model = tf.keras.models.Sequential()\n",
        "\n",
        "#Reshape data from 2D to 1D -> 28x28 to 784\n",
        "model.add(tf.keras.layers.Reshape((784,),input_shape=(28,28,)))\n",
        "\n",
        "#Normalize the data\n",
        "model.add(tf.keras.layers.BatchNormalization())\n",
        "#Add 1st hidden layer\n",
        "model.add(tf.keras.layers.Dense(100, activation='sigmoid'))\n",
        "#Add 2nd hidden layer\n",
        "model.add(tf.keras.layers.Dense(100, activation='sigmoid'))\n",
        "#Add outputlayer \n",
        "model.add(tf.keras.layers.Dense(10, activation='softmax'))\n",
        "#Create optimizer with non-default learning rate\n",
        "sgd_optimizer = tf.keras.optimizers.SGD(lr=0.03)\n",
        "\n",
        "#Compile the model\n",
        "model.compile(optimizer=sgd_optimizer, loss='categorical_crossentropy', metrics=['accuracy'])"
      ],
      "execution_count": 0,
      "outputs": []
    },
    {
      "metadata": {
        "id": "MQ7oIymROIVp",
        "colab_type": "code",
        "colab": {}
      },
      "cell_type": "code",
      "source": [
        ""
      ],
      "execution_count": 0,
      "outputs": []
    },
    {
      "metadata": {
        "id": "X-O-fFxnOIVt",
        "colab_type": "code",
        "colab": {}
      },
      "cell_type": "code",
      "source": [
        ""
      ],
      "execution_count": 0,
      "outputs": []
    },
    {
      "metadata": {
        "id": "BiP7IL52OIVw",
        "colab_type": "code",
        "colab": {}
      },
      "cell_type": "code",
      "source": [
        ""
      ],
      "execution_count": 0,
      "outputs": []
    },
    {
      "metadata": {
        "slideshow": {
          "slide_type": "slide"
        },
        "id": "Nr2YsZV0OIV0",
        "colab_type": "text"
      },
      "cell_type": "markdown",
      "source": [
        "## Review model"
      ]
    },
    {
      "metadata": {
        "id": "h4ojW6-oOIV2",
        "colab_type": "code",
        "colab": {
          "base_uri": "https://localhost:8080/",
          "height": 331
        },
        "outputId": "07d56168-3636-4186-953b-5ff86c118e64"
      },
      "cell_type": "code",
      "source": [
        "model.summary()"
      ],
      "execution_count": 28,
      "outputs": [
        {
          "output_type": "stream",
          "text": [
            "_________________________________________________________________\n",
            "Layer (type)                 Output Shape              Param #   \n",
            "=================================================================\n",
            "reshape_8 (Reshape)          (None, 784)               0         \n",
            "_________________________________________________________________\n",
            "batch_normalization_v1_7 (Ba (None, 784)               3136      \n",
            "_________________________________________________________________\n",
            "dense_10 (Dense)             (None, 100)               78500     \n",
            "_________________________________________________________________\n",
            "dense_11 (Dense)             (None, 100)               10100     \n",
            "_________________________________________________________________\n",
            "dense_12 (Dense)             (None, 10)                1010      \n",
            "=================================================================\n",
            "Total params: 92,746\n",
            "Trainable params: 91,178\n",
            "Non-trainable params: 1,568\n",
            "_________________________________________________________________\n"
          ],
          "name": "stdout"
        }
      ]
    },
    {
      "metadata": {
        "slideshow": {
          "slide_type": "slide"
        },
        "id": "gfFGmbZLOIV5",
        "colab_type": "text"
      },
      "cell_type": "markdown",
      "source": [
        "### Run the model"
      ]
    },
    {
      "metadata": {
        "id": "bIkbMEN5OIV7",
        "colab_type": "code",
        "colab": {
          "base_uri": "https://localhost:8080/",
          "height": 424
        },
        "outputId": "b2e2ce88-4d5c-4bf7-d6ec-7c47889ceeef"
      },
      "cell_type": "code",
      "source": [
        "model.fit(trainX, trainY, \n",
        "          validation_data=(testX, testY), \n",
        "          epochs=10\n",
        "          )"
      ],
      "execution_count": 29,
      "outputs": [
        {
          "output_type": "stream",
          "text": [
            "Train on 60000 samples, validate on 10000 samples\n",
            "Epoch 1/10\n",
            "60000/60000 [==============================] - 9s 153us/sample - loss: 1.0441 - acc: 0.6926 - val_loss: 0.6381 - val_acc: 0.7675\n",
            "Epoch 2/10\n",
            "60000/60000 [==============================] - 9s 142us/sample - loss: 0.5762 - acc: 0.7965 - val_loss: 0.5172 - val_acc: 0.8143\n",
            "Epoch 3/10\n",
            "60000/60000 [==============================] - 7s 121us/sample - loss: 0.4980 - acc: 0.8237 - val_loss: 0.4702 - val_acc: 0.8310\n",
            "Epoch 4/10\n",
            "60000/60000 [==============================] - 7s 124us/sample - loss: 0.4561 - acc: 0.8384 - val_loss: 0.4470 - val_acc: 0.8387\n",
            "Epoch 5/10\n",
            "60000/60000 [==============================] - 8s 135us/sample - loss: 0.4310 - acc: 0.8459 - val_loss: 0.4280 - val_acc: 0.8437\n",
            "Epoch 6/10\n",
            "60000/60000 [==============================] - 8s 135us/sample - loss: 0.4129 - acc: 0.8536 - val_loss: 0.4159 - val_acc: 0.8506\n",
            "Epoch 7/10\n",
            "60000/60000 [==============================] - 8s 128us/sample - loss: 0.3969 - acc: 0.8593 - val_loss: 0.4043 - val_acc: 0.8540\n",
            "Epoch 8/10\n",
            "60000/60000 [==============================] - 7s 123us/sample - loss: 0.3863 - acc: 0.8616 - val_loss: 0.3962 - val_acc: 0.8572\n",
            "Epoch 9/10\n",
            "60000/60000 [==============================] - 8s 136us/sample - loss: 0.3749 - acc: 0.8658 - val_loss: 0.3870 - val_acc: 0.8628\n",
            "Epoch 10/10\n",
            "60000/60000 [==============================] - 8s 130us/sample - loss: 0.3643 - acc: 0.8693 - val_loss: 0.3819 - val_acc: 0.8645\n"
          ],
          "name": "stdout"
        },
        {
          "output_type": "execute_result",
          "data": {
            "text/plain": [
              "<tensorflow.python.keras.callbacks.History at 0x7f90d2ffb310>"
            ]
          },
          "metadata": {
            "tags": []
          },
          "execution_count": 29
        }
      ]
    },
    {
      "metadata": {
        "id": "zst9Hp8iGNVh",
        "colab_type": "code",
        "colab": {}
      },
      "cell_type": "code",
      "source": [
        ""
      ],
      "execution_count": 0,
      "outputs": []
    }
  ]
}